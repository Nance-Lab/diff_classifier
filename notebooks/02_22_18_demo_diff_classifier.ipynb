{
 "cells": [
  {
   "cell_type": "code",
   "execution_count": 2,
   "metadata": {
    "collapsed": true
   },
   "outputs": [],
   "source": [
    "import diff_classifier.aws as aws\n",
    "import diff_classifier.utils as ut\n",
    "import diff_classifier.msd as msd\n",
    "import diff_classifier.features as ft\n",
    "import diff_classifier.imagej as ij\n",
    "import os\n",
    "import os.path as op\n",
    "import numpy as np\n",
    "import numpy.ma as ma\n",
    "import pandas as pd\n",
    "import boto3\n",
    "import skimage.io as sio"
   ]
  },
  {
   "cell_type": "markdown",
   "metadata": {},
   "source": [
    "# Loading and checking a video"
   ]
  },
  {
   "cell_type": "code",
   "execution_count": null,
   "metadata": {
    "collapsed": true
   },
   "outputs": [],
   "source": [
    "test_image = sio.imread('P1_S1_R_0000_3_3.tif')"
   ]
  },
  {
   "cell_type": "code",
   "execution_count": null,
   "metadata": {
    "collapsed": true
   },
   "outputs": [],
   "source": [
    "sio.imshow(test_image[650, :, :], cmap='gray', vmin=60, vmax=250)"
   ]
  },
  {
   "cell_type": "code",
   "execution_count": null,
   "metadata": {
    "collapsed": true
   },
   "outputs": [],
   "source": [
    "sio.imshow(test_image[0, :, :], cmap='gray', vmin=60, vmax=250)"
   ]
  },
  {
   "cell_type": "markdown",
   "metadata": {},
   "source": [
    "# Splitting images before analysis"
   ]
  },
  {
   "cell_type": "code",
   "execution_count": null,
   "metadata": {
    "collapsed": true
   },
   "outputs": [],
   "source": [
    "prefix = 'P3_S3_R_0000'\n",
    "remote_folder = \"01_18_Experiment/{}\".format(prefix.split('_')[0])\n",
    "local_folder = os.getcwd()\n",
    "ires = 512\n",
    "frames = 651\n",
    "filename = '{}.tif'.format(prefix)\n",
    "remote_name = op.join(remote_folder, filename)\n",
    "local_name = op.join(local_folder, filename)\n",
    "\n",
    "s3 = boto3.client('s3')"
   ]
  },
  {
   "cell_type": "code",
   "execution_count": null,
   "metadata": {
    "collapsed": false
   },
   "outputs": [],
   "source": [
    "remote_folder+'/'+name"
   ]
  },
  {
   "cell_type": "code",
   "execution_count": null,
   "metadata": {
    "collapsed": true
   },
   "outputs": [],
   "source": [
    "ij.partition_im?"
   ]
  },
  {
   "cell_type": "code",
   "execution_count": null,
   "metadata": {
    "collapsed": false
   },
   "outputs": [],
   "source": [
    "names = []\n",
    "for i in range(0, 4):\n",
    "    for j in range(0, 4):\n",
    "        names.append('{}_{}_{}.tif'.format(prefix, i, j))\n",
    "\n",
    "try:\n",
    "    for name in names:\n",
    "        aws.download_s3(remote_folder+'/'+name, name)\n",
    "except:\n",
    "    aws.download_s3(remote_name, local_name)\n",
    "    names = ij.partition_im(local_name)\n",
    "    for name in names:\n",
    "        #aws.upload_s3(name, op.join(remote_folder, name))\n",
    "        print(\"Done with splitting.  Should output file of name {}\".format(remote_folder+'/'+name))"
   ]
  },
  {
   "cell_type": "markdown",
   "metadata": {},
   "source": [
    "# Particle Tracking"
   ]
  },
  {
   "cell_type": "markdown",
   "metadata": {},
   "source": [
    "Pause here to demonstrate tracking with the Trackmate GUI.  Show the Trackmate template file."
   ]
  },
  {
   "cell_type": "code",
   "execution_count": 3,
   "metadata": {
    "collapsed": false
   },
   "outputs": [],
   "source": [
    "ij.track?"
   ]
  },
  {
   "cell_type": "code",
   "execution_count": null,
   "metadata": {
    "collapsed": true
   },
   "outputs": [],
   "source": [
    "outfile = 'Traj_' + name[0].split('.')[0] + '.csv'\n",
    "local_im = op.join(local_folder, name)\n",
    "\n",
    "test_intensity = ij.mean_intensity(local_im)\n",
    "if test_intensity > 500:\n",
    "    quality = 245\n",
    "else:\n",
    "    quality = 4.5\n",
    "\n",
    "ij.track(local_im, outfile, template=None, fiji_bin=None, radius=4.5, threshold=0., \n",
    "      do_median_filtering=True, quality=quality, x=511, y=511, median_intensity=300.0, snr=0.0, \n",
    "      linking_max_distance=8.0, gap_closing_max_distance=10.0, max_frame_gap=2,\n",
    "      track_displacement=10.0)"
   ]
  },
  {
   "cell_type": "code",
   "execution_count": null,
   "metadata": {
    "collapsed": true
   },
   "outputs": [],
   "source": []
  },
  {
   "cell_type": "code",
   "execution_count": null,
   "metadata": {
    "collapsed": false
   },
   "outputs": [],
   "source": [
    "for name in names:\n",
    "    outfile = 'Traj_' + name.split('.')[0] + '.csv'\n",
    "    local_im = op.join(local_folder, name)\n",
    "\n",
    "    try:\n",
    "        aws.download_s3(remote_folder+'/'+outfile, outfile)\n",
    "    except:\n",
    "        test_intensity = ij.mean_intensity(local_im)\n",
    "        if test_intensity > 500:\n",
    "            quality = 245\n",
    "        else:\n",
    "            quality = 4.5\n",
    "\n",
    "        ij.track(local_im, outfile, template=None, fiji_bin=None, radius=4.5, threshold=0., \n",
    "              do_median_filtering=True, quality=quality, x=511, y=511, median_intensity=300.0, snr=0.0, \n",
    "              linking_max_distance=8.0, gap_closing_max_distance=10.0, max_frame_gap=2,\n",
    "              track_displacement=10.0)\n",
    "\n",
    "        aws.upload_s3(outfile, remote_folder+'/'+outfile)\n",
    "    print(\"Done with tracking.  Should output file of name {}\".format(remote_folder+'/'+outfile))"
   ]
  },
  {
   "cell_type": "markdown",
   "metadata": {},
   "source": [
    "# Calculating MSDs and Features"
   ]
  },
  {
   "cell_type": "code",
   "execution_count": 4,
   "metadata": {
    "collapsed": true
   },
   "outputs": [],
   "source": [
    "msd.all_msds2?"
   ]
  },
  {
   "cell_type": "code",
   "execution_count": null,
   "metadata": {
    "collapsed": true
   },
   "outputs": [],
   "source": [
    "filename = \"Traj_{}_{}_{}.csv\".format(prefix, row, col)\n",
    "local_name = local_folder+'/'+filename\n",
    "\n",
    "merged = msd.all_msds2(ut.csv_to_pd(local_name), frames=frames)"
   ]
  },
  {
   "cell_type": "code",
   "execution_count": null,
   "metadata": {
    "collapsed": true
   },
   "outputs": [],
   "source": [
    "merged"
   ]
  },
  {
   "cell_type": "code",
   "execution_count": null,
   "metadata": {
    "collapsed": true
   },
   "outputs": [],
   "source": [
    "merged_ft = ft.calculated_features(merged)"
   ]
  },
  {
   "cell_type": "code",
   "execution_count": null,
   "metadata": {
    "collapsed": true
   },
   "outputs": [],
   "source": [
    "merged_ft"
   ]
  },
  {
   "cell_type": "code",
   "execution_count": null,
   "metadata": {
    "collapsed": true
   },
   "outputs": [],
   "source": [
    "counter = 0\n",
    "for name in names:\n",
    "    row = int(name.split('.')[0].split('_')[4])\n",
    "    col = int(name.split('.')[0].split('_')[5])\n",
    "\n",
    "    filename = \"Traj_{}_{}_{}.csv\".format(prefix, row, col)\n",
    "    local_name = local_folder+'/'+filename\n",
    "\n",
    "    if counter == 0:\n",
    "        merged = msd.all_msds2(ut.csv_to_pd(local_name), frames=frames)\n",
    "    else: \n",
    "        to_add = ut.csv_to_pd(local_name)\n",
    "        to_add['X'] = to_add['X'] + ires*row\n",
    "        to_add['Y'] = to_add['Y'] + ires*col\n",
    "        try:\n",
    "            to_add['Track_ID'] = to_add['Track_ID'] + max(merged['Track_ID'])\n",
    "        except:\n",
    "            to_add['Track_ID'] = to_add['Track_ID']\n",
    "\n",
    "        merged = merged.append(msd.all_msds2(to_add, frames=frames))\n",
    "    counter = counter + 1\n",
    "\n",
    "    merged.to_csv(msd_file)\n",
    "    aws.upload_s3(msd_file, remote_folder+'/'+msd_file)\n",
    "merged_ft = ft.calculate_features(merged)\n",
    "merged_ft.to_csv(ft_file)\n",
    "aws.upload_s3(ft_file, remote_folder+'/'+ft_file)"
   ]
  }
 ],
 "metadata": {
  "kernelspec": {
   "display_name": "Python 3",
   "language": "python",
   "name": "python3"
  },
  "language_info": {
   "codemirror_mode": {
    "name": "ipython",
    "version": 3
   },
   "file_extension": ".py",
   "mimetype": "text/x-python",
   "name": "python",
   "nbconvert_exporter": "python",
   "pygments_lexer": "ipython3",
   "version": "3.5.3"
  }
 },
 "nbformat": 4,
 "nbformat_minor": 2
}
