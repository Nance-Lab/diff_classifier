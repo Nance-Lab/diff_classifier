{
 "cells": [
  {
   "cell_type": "code",
   "execution_count": 1,
   "metadata": {},
   "outputs": [],
   "source": [
    "import pandas as pd\n",
    "import diff_classifier.aws as aws\n",
    "import numpy as np\n",
    "import matplotlib.pyplot as plt\n",
    "import matplotlib\n",
    "import numpy.ma as ma\n",
    "%matplotlib inline"
   ]
  },
  {
   "cell_type": "code",
   "execution_count": null,
   "metadata": {},
   "outputs": [],
   "source": [
    "to_track = [] #Contains prefixes of files to analyze.\n",
    "result_futures = {}\n",
    "feature = {} #Dictionary of numpy matrixes containing data of a single feature of all particles in that video.\n",
    "feat = 'AR'\n",
    "\n",
    "#slices = [\"1\", \"2\", \"3\", \"4\", \"5\"] #Number of slices per pup\n",
    "folder = 'Gel_Studies/08_08_18_Gel_Validation' #Folder in AWS S3 containing files to be analyzed\n",
    "vids = 2\n",
    "\n",
    "for num in range(1, vids+1):\n",
    "    to_track.append('100_1xs_XY{}'.format('%02d' % num))\n",
    "\n",
    "for prefix in to_track:\n",
    "    features = pd.read_csv('features_{}.csv'.format(prefix), index_col='Unnamed: 0')\n",
    "    feature[prefix] = features[feat].as_matrix()"
   ]
  },
  {
   "cell_type": "code",
   "execution_count": null,
   "metadata": {},
   "outputs": [],
   "source": []
  },
  {
   "cell_type": "code",
   "execution_count": null,
   "metadata": {},
   "outputs": [],
   "source": [
    "def violinplots(to_plot, points=40, ylim=[0, 1], majorticks = np.linspace(0, 1, 11)):\n",
    "    \"\"\"\n",
    "    Plots side-\n",
    "\n",
    "    Parameters\n",
    "    ----------\n",
    "    dataframe : pandas column of floats or ints\n",
    "        input data on which differences are to be calculated.\n",
    "    n : int, default is 1\n",
    "        Function calculated x(i) - x(i - n) for all values in pandas column\n",
    "    ax : int, 0 or 1\n",
    "        Axis along which differences are to be calculated.  Default is 0.  If 0,\n",
    "        input must be a pandas series.  If 1, input must be a numpy array.\n",
    "\n",
    "    Returns\n",
    "    -------\n",
    "    diff : pandas column\n",
    "        Pandas column of size N - n, where N is the original size of dataframe.\n",
    "\n",
    "    Examples\n",
    "    --------\n",
    "    \n",
    "    \"\"\"\n",
    "    size = len(to_plot)\n",
    "    pos = list(range(1, size+1))\n",
    "    \n",
    "    fig, axes = plt.subplots(nrows=1, ncols=1, figsize=(6, 6))\n",
    "    axes.violinplot(to_plot, pos, points=points, widths=0.9, showmeans=True, showextrema=False)\n",
    "    set_axis_style(axes, labels)\n",
    "    axes.tick_params(axis = 'both', which = 'major', labelsize = 16)\n",
    "    axes.set_ylim(ylim)\n",
    "    axes.set_yticks(majorticks)\n",
    "    \n",
    "    plt.show()"
   ]
  },
  {
   "cell_type": "code",
   "execution_count": null,
   "metadata": {},
   "outputs": [],
   "source": []
  },
  {
   "cell_type": "code",
   "execution_count": null,
   "metadata": {},
   "outputs": [],
   "source": []
  }
 ],
 "metadata": {
  "kernelspec": {
   "display_name": "Python 3",
   "language": "python",
   "name": "python3"
  },
  "language_info": {
   "codemirror_mode": {
    "name": "ipython",
    "version": 3
   },
   "file_extension": ".py",
   "mimetype": "text/x-python",
   "name": "python",
   "nbconvert_exporter": "python",
   "pygments_lexer": "ipython3",
   "version": "3.6.3"
  }
 },
 "nbformat": 4,
 "nbformat_minor": 2
}
