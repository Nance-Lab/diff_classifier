{
 "cells": [
  {
   "cell_type": "code",
   "execution_count": 1,
   "metadata": {},
   "outputs": [],
   "source": [
    "import os\n",
    "import diff_classifier.imagej as ij\n",
    "import boto3\n",
    "import os.path as op\n",
    "import diff_classifier.aws as aws\n",
    "import cloudknot as ck\n",
    "import diff_classifier.knotlets as kn\n",
    "import numpy as np"
   ]
  },
  {
   "cell_type": "code",
   "execution_count": 2,
   "metadata": {},
   "outputs": [
    {
     "data": {
      "text/plain": [
       "[\"'01_18_Experiment/P1/P1_S2_R_0010.tif\",\n",
       " \"'01_18_Experiment/P1/P1_S2_R_0011.tif\",\n",
       " \"'01_18_Experiment/P1/P1_S2_R_0012.tif\",\n",
       " \"'01_18_Experiment/P1/P1_S2_R_0013.tif\",\n",
       " \"'01_18_Experiment/P1/P1_S2_R_0014.tif\"]"
      ]
     },
     "execution_count": 2,
     "metadata": {},
     "output_type": "execute_result"
    }
   ],
   "source": [
    "#Files not to split\n",
    "pups = [\"P1\"]\n",
    "slices = [\"S2\"]\n",
    "hemis = [\"R\"]\n",
    "vids = np.linspace(10, 14, 14-10+1).astype(int)\n",
    "\n",
    "exc = []\n",
    "for pup in pups:\n",
    "    for slic in slices:\n",
    "        for hemi in hemis:\n",
    "            for vid in vids:\n",
    "                exc.append(\"'01_18_Experiment/{}/{}_{}_{}_{}.tif\".format(pup, pup, slic, hemi, \"%04d\" % (vid,)))\n",
    "exc"
   ]
  },
  {
   "cell_type": "code",
   "execution_count": 3,
   "metadata": {},
   "outputs": [],
   "source": [
    "#Files to split\n",
    "pups = [\"P1\", \"P2\", \"P3\"]\n",
    "slices = [\"S1\", \"S2\", \"S3\"]\n",
    "hemis = [\"L\", \"R\"]\n",
    "vids = np.linspace(0, 14, 14+1).astype(int)\n",
    "\n",
    "to_split = []\n",
    "for pup in pups:\n",
    "    for slic in slices:\n",
    "        for hemi in hemis:\n",
    "            for vid in vids:\n",
    "                name = \"'01_18_Experiment/{}/{}_{}_{}_{}.tif\".format(pup, pup, slic, hemi, \"%04d\" % (vid,))\n",
    "                if name not in exc:\n",
    "                    to_split.append(name)"
   ]
  },
  {
   "cell_type": "code",
   "execution_count": null,
   "metadata": {},
   "outputs": [],
   "source": []
  },
  {
   "cell_type": "code",
   "execution_count": 4,
   "metadata": {},
   "outputs": [],
   "source": [
    "github_installs=('https://github.com/ccurtis7/diff_classifier.git@scaleup')\n",
    "my_image = ck.DockerImage(func=kn.download_and_split, base_image='arokem/python3-fiji:0.3', github_installs=github_installs)\n",
    "\n",
    "docker_file = open(my_image.docker_path)\n",
    "docker_string = docker_file.read()\n",
    "docker_file.close()\n",
    "\n",
    "cut1 = docker_string.find('# Create a default user')\n",
    "cut2 = docker_string[cut1:].find('\\n\\n') + cut1\n",
    "new_docker = docker_string[0:cut1]+docker_string[cut2:]\n",
    "docker_overwrite = open(my_image.docker_path, 'w')\n",
    "docker_overwrite.write(new_docker)\n",
    "docker_overwrite.close()\n",
    "\n",
    "knot1 = ck.Knot(name='download_and_track_with_my_image_22',\n",
    "               docker_image = my_image,\n",
    "               pars_policies=('AmazonS3FullAccess',))\n",
    "result_futures = knot1.map(to_split[0:100])"
   ]
  },
  {
   "cell_type": "code",
   "execution_count": null,
   "metadata": {},
   "outputs": [],
   "source": [
    "github_installs=('https://github.com/ccurtis7/diff_classifier.git@scaleup')\n",
    "my_image = ck.DockerImage(func=kn.download_and_split, base_image='arokem/python3-fiji:0.3', github_installs=github_installs)\n",
    "\n",
    "docker_file = open(my_image.docker_path)\n",
    "docker_string = docker_file.read()\n",
    "docker_file.close()\n",
    "\n",
    "cut1 = docker_string.find('# Create a default user')\n",
    "cut2 = docker_string[cut1:].find('\\n\\n') + cut1\n",
    "new_docker = docker_string[0:cut1]+docker_string[cut2:]\n",
    "docker_overwrite = open(my_image.docker_path, 'w')\n",
    "docker_overwrite.write(new_docker)\n",
    "docker_overwrite.close()\n",
    "\n",
    "knot2 = ck.Knot(name='download_and_track_with_my_image_23',\n",
    "               docker_image = my_image,\n",
    "               pars_policies=('AmazonS3FullAccess',))\n",
    "result_futures = knot2.map(to_split[100:200])"
   ]
  },
  {
   "cell_type": "code",
   "execution_count": null,
   "metadata": {},
   "outputs": [],
   "source": [
    "github_installs=('https://github.com/ccurtis7/diff_classifier.git@scaleup')\n",
    "my_image = ck.DockerImage(func=kn.download_and_split, base_image='arokem/python3-fiji:0.3', github_installs=github_installs)\n",
    "\n",
    "docker_file = open(my_image.docker_path)\n",
    "docker_string = docker_file.read()\n",
    "docker_file.close()\n",
    "\n",
    "cut1 = docker_string.find('# Create a default user')\n",
    "cut2 = docker_string[cut1:].find('\\n\\n') + cut1\n",
    "new_docker = docker_string[0:cut1]+docker_string[cut2:]\n",
    "docker_overwrite = open(my_image.docker_path, 'w')\n",
    "docker_overwrite.write(new_docker)\n",
    "docker_overwrite.close()\n",
    "\n",
    "knot3 = ck.Knot(name='download_and_track_with_my_image_24',\n",
    "               docker_image = my_image,\n",
    "               pars_policies=('AmazonS3FullAccess',))\n",
    "result_futures = knot3.map(to_split[100:200])"
   ]
  },
  {
   "cell_type": "code",
   "execution_count": 6,
   "metadata": {},
   "outputs": [
    {
     "name": "stdout",
     "output_type": "stream",
     "text": [
      "Job ID              Name                        Status   \n",
      "---------------------------------------------------------\n",
      "0e8a5986-eae5-4ed7-a60f-c80346150fee        download_and_track_with_my_image_22-81        FAILED   \n",
      "1f621726-3a4d-4fcb-aed7-fcde08d6b2fa        download_and_track_with_my_image_22-83        FAILED   \n",
      "95de3701-6303-4888-bfa1-0b82b9c17ec7        download_and_track_with_my_image_22-22        FAILED   \n",
      "b22ce0d4-1859-4e00-ab58-90222296847e        download_and_track_with_my_image_22-60        FAILED   \n",
      "b37f86bb-c92f-407d-83c0-b7a41049d854        download_and_track_with_my_image_22-98        FAILED   \n",
      "90f1c782-8ad8-44f1-921b-ffe642a1daa5        download_and_track_with_my_image_22-71        FAILED   \n",
      "59413633-dc6e-4ac4-adf8-e8f6879372ae        download_and_track_with_my_image_22-68        FAILED   \n",
      "e90b650a-2879-48a8-a61a-bd3915b6b107        download_and_track_with_my_image_22-84        FAILED   \n",
      "cff1cc9a-7527-4dbd-8551-d59ac5c62f43        download_and_track_with_my_image_22-2        FAILED   \n",
      "65cce59d-5cb8-490e-9742-d997fc7bb18c        download_and_track_with_my_image_22-63        FAILED   \n",
      "c66b033b-e5d0-4f6e-a58c-12a35fdb7606        download_and_track_with_my_image_22-16        FAILED   \n",
      "c37860e1-9c57-43ae-adcc-e12f5e72bd3c        download_and_track_with_my_image_22-1        FAILED   \n",
      "572d60f1-7808-419d-b13e-eca3684d834a        download_and_track_with_my_image_22-20        FAILED   \n",
      "81413c7a-3f2f-4226-8695-31a3a93c4030        download_and_track_with_my_image_22-50        FAILED   \n",
      "a5bf3ab6-375b-4f1b-b8c9-d37af2f1cc54        download_and_track_with_my_image_22-18        FAILED   \n",
      "8f9d2057-a859-4cb9-835e-7a4f07a53b7f        download_and_track_with_my_image_22-74        FAILED   \n",
      "837405b7-690a-4381-a83e-0df6abaedb4d        download_and_track_with_my_image_22-49        FAILED   \n",
      "1f7cd0a3-8040-45ca-9587-cf044c22ec2f        download_and_track_with_my_image_22-80        FAILED   \n",
      "22df859f-bfc7-4538-a57f-10f2561670dc        download_and_track_with_my_image_22-44        FAILED   \n",
      "4816062d-690d-40dc-8a76-ad9b2bbdb7b4        download_and_track_with_my_image_22-11        FAILED   \n",
      "433b9839-bffc-4a10-9347-4bfb923c6d15        download_and_track_with_my_image_22-13        FAILED   \n",
      "b3785116-1c90-49e9-a147-c5a4a462b6ae        download_and_track_with_my_image_22-23        FAILED   \n",
      "42ec0a8d-0b16-497b-90c8-2863a771aae6        download_and_track_with_my_image_22-47        FAILED   \n",
      "9974f0fc-650a-4f7a-9c4e-9029c0ade2a3        download_and_track_with_my_image_22-76        FAILED   \n",
      "411e3d93-7f56-48b0-90bb-778b15be2003        download_and_track_with_my_image_22-14        FAILED   \n",
      "200802d4-4608-4a37-9263-5ff37cdabf91        download_and_track_with_my_image_22-19        FAILED   \n",
      "ed69a180-ad6e-4d55-9da3-baa38ec22d28        download_and_track_with_my_image_22-87        FAILED   \n",
      "0f236775-27fb-448a-8892-d27354442a39        download_and_track_with_my_image_22-51        FAILED   \n",
      "a27070f8-710c-4b54-b142-6305dbd863e7        download_and_track_with_my_image_22-66        FAILED   \n",
      "f9ad3b8b-2524-4593-a4e9-d6283c4f8ae2        download_and_track_with_my_image_22-36        FAILED   \n",
      "3ca25645-31c1-44fc-b9e3-0a621102e36f        download_and_track_with_my_image_22-70        FAILED   \n",
      "2f0d1f19-a115-4e90-99b8-0c92fd3641c6        download_and_track_with_my_image_22-4        FAILED   \n",
      "4b03440a-d945-4179-97de-2280000f4f38        download_and_track_with_my_image_22-12        FAILED   \n",
      "e76f7a77-eb17-443a-98c9-00a1f87e6757        download_and_track_with_my_image_22-43        FAILED   \n",
      "003b0ff1-cf87-4de5-859b-80ae2bb0f885        download_and_track_with_my_image_22-30        FAILED   \n",
      "f80db75e-28e0-415b-8330-77f26432b51f        download_and_track_with_my_image_22-79        FAILED   \n",
      "f3d15805-0234-47f9-b04c-edb737526779        download_and_track_with_my_image_22-73        FAILED   \n",
      "b430dee5-f7a5-4196-adb8-297be551aa3b        download_and_track_with_my_image_22-93        FAILED   \n",
      "5fec99ac-8873-4f3b-9184-d2e92252c2ae        download_and_track_with_my_image_22-5        FAILED   \n",
      "b1c13951-17b0-489d-9c7f-95504d9b4ca0        download_and_track_with_my_image_22-8        FAILED   \n",
      "b8c37594-02dd-499c-af11-2629fc769352        download_and_track_with_my_image_22-57        FAILED   \n",
      "acf75ccd-df7e-4b33-82b0-b5c01a694f4b        download_and_track_with_my_image_22-62        FAILED   \n",
      "8db2cdfe-ed68-481c-b68e-5660b176f0f5        download_and_track_with_my_image_22-54        FAILED   \n",
      "d7f8fac4-344e-47a2-9b7a-c58fa452e40b        download_and_track_with_my_image_22-3        FAILED   \n",
      "e8750a19-c924-4806-b71e-3ea168efa6d3        download_and_track_with_my_image_22-42        FAILED   \n",
      "3dba3f04-2fde-412c-ab7d-5acc8b32369d        download_and_track_with_my_image_22-86        FAILED   \n",
      "2e230550-bc06-4902-868b-5af317a6cc60        download_and_track_with_my_image_22-10        FAILED   \n",
      "1c6f3fa8-97b5-403a-a272-ef1a43edea3c        download_and_track_with_my_image_22-67        FAILED   \n",
      "68a5db6c-d166-44f9-bc27-34ad754bd984        download_and_track_with_my_image_22-92        FAILED   \n",
      "9efbe9c7-af5d-42f6-8816-74a4727e61d1        download_and_track_with_my_image_22-96        FAILED   \n",
      "42fe3cc2-b4f7-4ba6-b38e-85177a3b1736        download_and_track_with_my_image_22-94        FAILED   \n",
      "f6ad466f-f1b1-4bcc-9f65-bfe1535d3493        download_and_track_with_my_image_22-69        FAILED   \n",
      "b0bf4296-38ad-413a-9259-f48e6939f00e        download_and_track_with_my_image_22-25        FAILED   \n",
      "7f45bbeb-ee29-472e-bb87-f4d209d00aee        download_and_track_with_my_image_22-97        FAILED   \n",
      "e6dd0163-734f-4ffe-a19d-5994e98aa145        download_and_track_with_my_image_22-32        FAILED   \n",
      "9add3009-551b-4efd-92f7-e077792bc6f6        download_and_track_with_my_image_22-99        FAILED   \n",
      "3757349b-3ee5-481f-a15d-194d6c0495be        download_and_track_with_my_image_22-26        FAILED   \n",
      "242100b2-a01d-4e60-a053-b824d345025e        download_and_track_with_my_image_22-27        FAILED   \n",
      "3a104cd7-b69d-462e-ae44-2e5d84e479f0        download_and_track_with_my_image_22-91        FAILED   \n",
      "0aa02dfd-661c-4714-9d6d-975bc123867a        download_and_track_with_my_image_22-85        FAILED   \n",
      "4a10fdbb-f0c6-4f8a-911f-71dbb496b4a2        download_and_track_with_my_image_22-95        FAILED   \n",
      "12f4d391-5fd2-439f-b6fd-d5da8a699f09        download_and_track_with_my_image_22-7        FAILED   \n",
      "e9629962-e1ef-4fe6-9343-73648c1e890e        download_and_track_with_my_image_22-45        FAILED   \n",
      "62a8001e-a252-4c81-8fe8-f33e3578a9b5        download_and_track_with_my_image_22-56        FAILED   \n",
      "31588dc3-238c-4a61-8f9b-44734556495e        download_and_track_with_my_image_22-35        FAILED   \n",
      "f3feb1fc-8610-4e4e-b99b-c180b14932dc        download_and_track_with_my_image_22-65        FAILED   \n",
      "ddda3cd4-f215-4076-848b-10877d4a8724        download_and_track_with_my_image_22-39        FAILED   \n",
      "a7dedcf4-67e2-4c1a-978f-bf5dc132eb75        download_and_track_with_my_image_22-34        FAILED   \n",
      "b481512d-270d-4c12-ab61-c651dabea6be        download_and_track_with_my_image_22-15        FAILED   \n",
      "b5f62d77-e7ab-4038-b935-356398dd6015        download_and_track_with_my_image_22-59        FAILED   \n",
      "3deb94e7-9cbf-449b-ba17-19278b3f49cc        download_and_track_with_my_image_22-55        FAILED   \n",
      "b5289f08-521b-449d-b66d-cefefe3dc853        download_and_track_with_my_image_22-77        FAILED   \n",
      "30fe0227-16d7-4701-a61d-e9ed86583ab0        download_and_track_with_my_image_22-89        FAILED   \n",
      "51371e8d-b06d-4e2f-bdd5-b99442a94378        download_and_track_with_my_image_22-46        FAILED   \n",
      "292a8914-a0d9-43b2-a201-e4d441c2ce50        download_and_track_with_my_image_22-33        FAILED   \n",
      "6ba230e9-0aa6-49bd-ac7f-3d9e40272e31        download_and_track_with_my_image_22-78        FAILED   \n",
      "85b73e9a-dbdd-4728-9f00-a8d269e1645f        download_and_track_with_my_image_22-82        FAILED   \n",
      "2118a305-5d41-4a08-b3e2-ae2e5b01d1f6        download_and_track_with_my_image_22-21        FAILED   \n",
      "5ab0df07-39af-47c1-98a0-dd82c4ee1801        download_and_track_with_my_image_22-52        FAILED   \n",
      "f1c8c945-9435-48f8-b066-9c94da88a1c6        download_and_track_with_my_image_22-38        FAILED   \n",
      "773d9b27-aa95-4438-91a4-6b6cf4167653        download_and_track_with_my_image_22-29        FAILED   \n",
      "1cdb9a6d-5f50-4b37-abd0-3c046b118f90        download_and_track_with_my_image_22-64        FAILED   \n",
      "c6b92444-480d-4277-a398-272bb3e9d278        download_and_track_with_my_image_22-88        FAILED   \n",
      "ea77fee8-90ba-4f0a-a0a4-7f152d6dc91e        download_and_track_with_my_image_22-58        FAILED   \n",
      "1b7fa92e-84bd-4a2a-9bc7-b9bd249695bf        download_and_track_with_my_image_22-41        FAILED   \n",
      "85b5975d-f07c-4636-b4f8-7ae50a4f1d75        download_and_track_with_my_image_22-9        FAILED   \n",
      "c212baf4-4acc-44c5-bcb7-b63ac0122b03        download_and_track_with_my_image_22-72        FAILED   \n",
      "582a122b-317d-40e8-9469-efbbbb0d6d19        download_and_track_with_my_image_22-61        FAILED   \n",
      "c70451ea-7780-4e27-8335-cc9c222b9cda        download_and_track_with_my_image_22-48        FAILED   \n",
      "0d02956b-3f19-4fd4-a557-7a7aa25a4369        download_and_track_with_my_image_22-40        FAILED   \n",
      "37f21c8a-32ae-4127-afec-d924f65ed77f        download_and_track_with_my_image_22-0        FAILED   \n",
      "0987aa4c-fb7d-4e86-9291-d58f13aa017d        download_and_track_with_my_image_22-24        FAILED   \n",
      "65a54ac1-4591-48a1-92d8-4d1fdf16f66a        download_and_track_with_my_image_22-17        FAILED   \n",
      "1a52880e-9381-4f41-b2d3-5808ca660850        download_and_track_with_my_image_22-28        FAILED   \n",
      "c1c36bb9-0070-4678-90ce-64f5bfef677b        download_and_track_with_my_image_22-53        FAILED   \n",
      "440c3057-29ac-4d46-96da-3ebad48563ce        download_and_track_with_my_image_22-31        FAILED   \n",
      "e363ebf4-9c9d-463b-935c-5aaffba100d4        download_and_track_with_my_image_22-75        FAILED   \n",
      "d810e115-c435-48f2-8e50-6753264fbad9        download_and_track_with_my_image_22-6        FAILED   \n",
      "48650632-1943-40c3-91ff-8c4cb53722ab        download_and_track_with_my_image_22-37        FAILED   \n",
      "4c0e8173-e0a2-459e-b2ec-c67c1fdfd8f4        download_and_track_with_my_image_22-90        FAILED   \n"
     ]
    }
   ],
   "source": [
    "knot1.view_jobs()"
   ]
  },
  {
   "cell_type": "code",
   "execution_count": null,
   "metadata": {},
   "outputs": [],
   "source": [
    "#knot.clobber()"
   ]
  },
  {
   "cell_type": "code",
   "execution_count": null,
   "metadata": {},
   "outputs": [],
   "source": []
  }
 ],
 "metadata": {
  "kernelspec": {
   "display_name": "Python 2",
   "language": "python",
   "name": "python2"
  },
  "language_info": {
   "codemirror_mode": {
    "name": "ipython",
    "version": 2
   },
   "file_extension": ".py",
   "mimetype": "text/x-python",
   "name": "python",
   "nbconvert_exporter": "python",
   "pygments_lexer": "ipython2",
   "version": "2.7.12"
  }
 },
 "nbformat": 4,
 "nbformat_minor": 2
}
