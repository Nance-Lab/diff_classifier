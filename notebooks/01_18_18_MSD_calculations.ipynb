{
 "cells": [
  {
   "cell_type": "code",
   "execution_count": 1,
   "metadata": {
    "collapsed": true
   },
   "outputs": [],
   "source": [
    "import numpy as np\n",
    "import pandas as pd\n",
    "import numpy.ma as ma\n",
    "from scipy.optimize import curve_fit"
   ]
  },
  {
   "cell_type": "code",
   "execution_count": 2,
   "metadata": {
    "collapsed": false
   },
   "outputs": [],
   "source": [
    "#modulef = '/home/ubuntu/source/diff-classifier/diff_classifier/'\n",
    "modulef = 'C:/Users/koolk/Desktop/diff-classifier/diff_classifier/'\n",
    "import sys\n",
    "sys.path.insert(0, modulef)\n",
    "\n",
    "from utils import csv_to_pd\n",
    "from msd import nth_diff, msd_calc, all_msds"
   ]
  },
  {
   "cell_type": "code",
   "execution_count": null,
   "metadata": {
    "collapsed": true
   },
   "outputs": [],
   "source": [
    "data = csv_to_pd('/home/ubuntu/test2.csv').sort_values(['Track_ID', 'Frame'], ascending=[1, 1]).reset_index(drop=True)"
   ]
  },
  {
   "cell_type": "code",
   "execution_count": null,
   "metadata": {
    "collapsed": true
   },
   "outputs": [],
   "source": [
    "#test = data.query('Track_ID=0')\n",
    "#data\n",
    "single_track = data.loc[data['Track_ID'] == 4].sort_values(['Track_ID', 'Frame'], ascending=[1, 1]).reset_index(drop=True)"
   ]
  },
  {
   "cell_type": "code",
   "execution_count": null,
   "metadata": {
    "collapsed": false
   },
   "outputs": [],
   "source": [
    "d = {'Frame': [1, 2, 3, 4, 5, 1, 2, 3, 4, 5],\n",
    "     'Track_ID': [1, 1, 1, 1, 1, 2, 2, 2, 2, 2],\n",
    "     'X': [5, 6, 7, 8, 9, 1, 2, 3, 4, 5],\n",
    "     'Y': [6, 7, 8, 9, 10, 2, 3, 4, 5, 6]}\n",
    "df = pd.DataFrame(data=d)\n",
    "all_msds(df)"
   ]
  },
  {
   "cell_type": "code",
   "execution_count": null,
   "metadata": {
    "collapsed": true
   },
   "outputs": [],
   "source": [
    "# Adds MSDs column to data dataframe.\n",
    "data[\"MSDs\"] = all_msds(data)\n",
    "#data"
   ]
  },
  {
   "cell_type": "code",
   "execution_count": null,
   "metadata": {
    "collapsed": true
   },
   "outputs": [],
   "source": [
    "single_track = data.loc[data['Track_ID'] == 4].sort_values(['Track_ID', 'Frame'], ascending=[1, 1]).reset_index(drop=True)"
   ]
  },
  {
   "cell_type": "code",
   "execution_count": null,
   "metadata": {
    "collapsed": true
   },
   "outputs": [],
   "source": [
    "# Skeleton of Trajectory features metadata table.\n",
    "# Builds entry for each unique Track ID.\n",
    "d = {'Track_ID': data.Track_ID.unique()}\n",
    "features = pd.DataFrame(data=d)\n",
    "features"
   ]
  },
  {
   "cell_type": "code",
   "execution_count": null,
   "metadata": {
    "collapsed": true
   },
   "outputs": [],
   "source": [
    "def alpha_calc(track):\n",
    "    \"\"\"\n",
    "    Calculates the parameter alpha by fitting track MSD data to a function.\n",
    "    \n",
    "    Parameters\n",
    "    ----------\n",
    "    \n",
    "    Returns\n",
    "    ----------\n",
    "    \n",
    "    Examples\n",
    "    ----------\n",
    "    \"\"\"\n",
    "\n",
    "    x = track['Frame']\n",
    "    y = track['MSDs']\n",
    "\n",
    "    def msd_alpha(x, a, D):\n",
    "        return 4*D*(x**a)\n",
    "\n",
    "    try:\n",
    "        popt, pcov = curve_fit(msd_alpha, x, y)\n",
    "        a = popt[0]\n",
    "        D = popt[1]\n",
    "    except RuntimeError:\n",
    "        print('Optimal parameters not found. Print NaN instead.')\n",
    "        a = np.nan\n",
    "        D = np.nan\n",
    "    return a, D"
   ]
  },
  {
   "cell_type": "code",
   "execution_count": null,
   "metadata": {
    "collapsed": true
   },
   "outputs": [],
   "source": [
    "alpha_calc(single_track)"
   ]
  },
  {
   "cell_type": "code",
   "execution_count": null,
   "metadata": {
    "collapsed": true
   },
   "outputs": [],
   "source": [
    "def calculate_features(data):\n",
    "    trackids = data.Track_ID.unique()\n",
    "    partcount = trackids.shape[0]\n",
    "    alphas = np.zeros(trackids.shape[0])\n",
    "    Ds = np.zeros(trackids.shape[0])\n",
    "    \n",
    "    data[\"MSDs\"] = all_msds(data)\n",
    "\n",
    "    for particle in range(0, partcount-1):\n",
    "        single_track = data.loc[data['Track_ID'] == trackids[particle]].sort_values(['Track_ID', 'Frame'],\n",
    "                                                                                    ascending=[1, 1]).reset_index(drop=True)\n",
    "        alphas[particle], Ds[particle] = alpha_calc(single_track)\n",
    "    return alphas, Ds"
   ]
  },
  {
   "cell_type": "code",
   "execution_count": null,
   "metadata": {
    "collapsed": false
   },
   "outputs": [],
   "source": [
    "a, D = calculate_features(data)"
   ]
  },
  {
   "cell_type": "code",
   "execution_count": null,
   "metadata": {
    "collapsed": false
   },
   "outputs": [],
   "source": [
    "a"
   ]
  },
  {
   "cell_type": "code",
   "execution_count": null,
   "metadata": {
    "collapsed": false
   },
   "outputs": [],
   "source": [
    "D"
   ]
  },
  {
   "cell_type": "code",
   "execution_count": null,
   "metadata": {
    "collapsed": true
   },
   "outputs": [],
   "source": []
  },
  {
   "cell_type": "code",
   "execution_count": null,
   "metadata": {
    "collapsed": true
   },
   "outputs": [],
   "source": [
    "single_track = data.loc[data['Track_ID'] == 4].sort_values(['Track_ID', 'Frame'],\n",
    "                                                           ascending=[1, 1]).reset_index(drop=True)"
   ]
  },
  {
   "cell_type": "code",
   "execution_count": null,
   "metadata": {
    "collapsed": true
   },
   "outputs": [],
   "source": [
    "single_track"
   ]
  },
  {
   "cell_type": "code",
   "execution_count": null,
   "metadata": {
    "collapsed": true
   },
   "outputs": [],
   "source": [
    "msd = msd_calc(single_track)"
   ]
  },
  {
   "cell_type": "code",
   "execution_count": null,
   "metadata": {
    "collapsed": true
   },
   "outputs": [],
   "source": [
    "data.shape"
   ]
  },
  {
   "cell_type": "code",
   "execution_count": null,
   "metadata": {
    "collapsed": true
   },
   "outputs": [],
   "source": [
    "trackids = data.Track_ID.unique()\n",
    "partcount = trackids.shape[0]\n",
    "msds = np.zeros(data.shape[0])"
   ]
  },
  {
   "cell_type": "code",
   "execution_count": null,
   "metadata": {
    "collapsed": true
   },
   "outputs": [],
   "source": [
    "msds"
   ]
  },
  {
   "cell_type": "code",
   "execution_count": null,
   "metadata": {
    "collapsed": true
   },
   "outputs": [],
   "source": [
    "total_spots = data.shape[0]\n",
    "inc = np.diff(data['Frame'])\n",
    "skip = np.zeros(inc.shape[0])\n",
    "same_track = np.diff(data['Track_ID'])\n",
    "counter = 0\n",
    "for i in range(0, total_spots-1):\n",
    "    if inc[i] != 1 and same_track[i] ==0:\n",
    "        skip[i] = 1\n",
    "        counter = counter + 1\n",
    "        print(i)"
   ]
  },
  {
   "cell_type": "code",
   "execution_count": null,
   "metadata": {
    "collapsed": true
   },
   "outputs": [],
   "source": [
    "print(same_track[70:80])\n",
    "print(inc[70:80])"
   ]
  },
  {
   "cell_type": "code",
   "execution_count": null,
   "metadata": {
    "collapsed": true
   },
   "outputs": [],
   "source": [
    "data.loc[80]"
   ]
  },
  {
   "cell_type": "code",
   "execution_count": null,
   "metadata": {
    "collapsed": true
   },
   "outputs": [],
   "source": [
    "data.loc[77] = data.loc[83]"
   ]
  },
  {
   "cell_type": "code",
   "execution_count": null,
   "metadata": {
    "collapsed": true
   },
   "outputs": [],
   "source": [
    "test = np.zeros(5)\n",
    "test[3] = 1\n",
    "test\n",
    "test2 = test+1"
   ]
  },
  {
   "cell_type": "code",
   "execution_count": null,
   "metadata": {
    "collapsed": true
   },
   "outputs": [],
   "source": [
    "test1 = ma.masked_where(test != 0, test)\n"
   ]
  },
  {
   "cell_type": "code",
   "execution_count": null,
   "metadata": {
    "collapsed": true
   },
   "outputs": [],
   "source": [
    "test3 = ma.array(test2, mask=test1.mask)\n",
    "test3"
   ]
  },
  {
   "cell_type": "code",
   "execution_count": null,
   "metadata": {
    "collapsed": true
   },
   "outputs": [],
   "source": [
    "np.mean(np.square(np.diff(single_track['X'], n=2)) + np.square(np.diff(single_track['Y'], n=2)))"
   ]
  },
  {
   "cell_type": "code",
   "execution_count": null,
   "metadata": {
    "collapsed": true
   },
   "outputs": [],
   "source": [
    "frame = 3\n",
    "\n",
    "np.square(nth_diff(single_track['X'], n=frame+1))"
   ]
  },
  {
   "cell_type": "code",
   "execution_count": null,
   "metadata": {
    "collapsed": true
   },
   "outputs": [],
   "source": [
    "frame=0\n",
    "np.diff(single_track['Frame'], n=frame+1)"
   ]
  },
  {
   "cell_type": "code",
   "execution_count": null,
   "metadata": {
    "collapsed": true
   },
   "outputs": [],
   "source": [
    "msd"
   ]
  },
  {
   "cell_type": "code",
   "execution_count": null,
   "metadata": {
    "collapsed": true
   },
   "outputs": [],
   "source": [
    "single_track['Frame']"
   ]
  },
  {
   "cell_type": "code",
   "execution_count": null,
   "metadata": {
    "collapsed": true
   },
   "outputs": [],
   "source": [
    "msd"
   ]
  },
  {
   "cell_type": "code",
   "execution_count": null,
   "metadata": {
    "collapsed": true
   },
   "outputs": [],
   "source": [
    "data"
   ]
  },
  {
   "cell_type": "code",
   "execution_count": null,
   "metadata": {
    "collapsed": true
   },
   "outputs": [],
   "source": []
  }
 ],
 "metadata": {
  "kernelspec": {
   "display_name": "Python 3",
   "language": "python",
   "name": "python3"
  },
  "language_info": {
   "codemirror_mode": {
    "name": "ipython",
    "version": 3
   },
   "file_extension": ".py",
   "mimetype": "text/x-python",
   "name": "python",
   "nbconvert_exporter": "python",
   "pygments_lexer": "ipython3",
   "version": "3.5.3"
  }
 },
 "nbformat": 4,
 "nbformat_minor": 2
}
