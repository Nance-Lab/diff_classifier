{
 "cells": [
  {
   "cell_type": "code",
   "execution_count": 1,
   "metadata": {},
   "outputs": [],
   "source": [
    "import numpy as np\n",
    "import pandas as pd\n",
    "import numpy.ma as ma\n",
    "from scipy.optimize import curve_fit"
   ]
  },
  {
   "cell_type": "code",
   "execution_count": 2,
   "metadata": {},
   "outputs": [],
   "source": [
    "import sys\n",
    "sys.path.insert(0, '/home/ubuntu/source/diff-classifier/diff_classifier/')\n",
    "\n",
    "from utils import csv_to_pd, partition_im, nth_diff"
   ]
  },
  {
   "cell_type": "code",
   "execution_count": 3,
   "metadata": {},
   "outputs": [],
   "source": [
    "data = csv_to_pd('/home/ubuntu/test2.csv').sort_values(['Track_ID', 'Frame'], ascending=[1, 1]).reset_index(drop=True)"
   ]
  },
  {
   "cell_type": "code",
   "execution_count": 4,
   "metadata": {},
   "outputs": [],
   "source": [
    "#test = data.query('Track_ID=0')\n",
    "#data\n",
    "single_track = data.loc[data['Track_ID'] == 4].sort_values(['Track_ID', 'Frame'], ascending=[1, 1]).reset_index(drop=True)"
   ]
  },
  {
   "cell_type": "code",
   "execution_count": 13,
   "metadata": {},
   "outputs": [],
   "source": [
    "np.zeros?"
   ]
  },
  {
   "cell_type": "code",
   "execution_count": 16,
   "metadata": {},
   "outputs": [
    {
     "data": {
      "text/plain": [
       "0    1\n",
       "1    1\n",
       "2    1\n",
       "3    1\n",
       "Name: col1, dtype: int64"
      ]
     },
     "execution_count": 16,
     "metadata": {},
     "output_type": "execute_result"
    }
   ],
   "source": [
    "d = {'col1': [1, 2, 3, 4, 5]}\n",
    "df = pd.DataFrame(data=d)\n",
    "nth_diff(df['col1'], 1)"
   ]
  },
  {
   "cell_type": "code",
   "execution_count": 5,
   "metadata": {},
   "outputs": [],
   "source": [
    "def nth_diff(dataframe, n = 1):\n",
    "    \"\"\"\n",
    "    nth_diff(dataframe, n=int)\n",
    "    \n",
    "    Returns a new vector of size N - n containing the nth difference between vector elements.\n",
    "    \n",
    "    Parameters\n",
    "    ----------\n",
    "    dataframe : pandas column of floats or ints\n",
    "        input data on which differences are to be calculated.\n",
    "    n : int, default is 1\n",
    "        Function calculated x(i) - x(i - n) for all values in pandas column\n",
    "    \n",
    "    Returns\n",
    "    ----------\n",
    "    diff : pandas column\n",
    "        Pandas column of size N - n, where N is the original size of dataframe.\n",
    "    \n",
    "    Examples\n",
    "    ----------\n",
    "    >>> d = {'col1': [1, 2, 3, 4, 5]}\n",
    "    >>> df = pd.DataFrame(data=d)\n",
    "    >>> nth_diff(df['col1'], 1)\n",
    "    0   1\n",
    "    1   1\n",
    "    2   1\n",
    "    3   1\n",
    "    Name: col1, dtype: int64\n",
    "    \n",
    "    >>> nth_diff(df['col1'], 2)\n",
    "    0   2\n",
    "    1   2\n",
    "    2   2\n",
    "    Name: col1, dtype: int64\n",
    "    \"\"\"\n",
    "    test1 = dataframe[:-n].reset_index(drop=True)\n",
    "    test2 = dataframe[n:].reset_index(drop=True)\n",
    "    diff = test2 - test1\n",
    "    return diff"
   ]
  },
  {
   "cell_type": "code",
   "execution_count": 6,
   "metadata": {},
   "outputs": [],
   "source": [
    "def msd_calc(track):\n",
    "    length = track.shape[0]\n",
    "    msd = np.zeros(length)\n",
    "\n",
    "    for frame in range(0,length-1):\n",
    "        #creates array to ignore when particles skip frames.\n",
    "        inc = ma.masked_where(nth_diff(track['Frame'], n=frame+1) != frame+1, nth_diff(track['Frame'], n=frame+1))\n",
    "\n",
    "        x = ma.array(np.square(nth_diff(track['X'], n=frame+1)), mask=inc.mask)\n",
    "        y = ma.array(np.square(nth_diff(track['Y'], n=frame+1)), mask=inc.mask)\n",
    "\n",
    "        msd[frame+1] = ma.mean(x + y)\n",
    "\n",
    "    return msd"
   ]
  },
  {
   "cell_type": "code",
   "execution_count": 7,
   "metadata": {},
   "outputs": [],
   "source": [
    "def all_msds(data):\n",
    "    trackids = data.Track_ID.unique()\n",
    "    partcount = trackids.shape[0]\n",
    "    msds = np.zeros(data.shape[0])\n",
    "\n",
    "    for particle in range(0, partcount):\n",
    "        single_track = data.loc[data['Track_ID'] == trackids[particle]].sort_values(['Track_ID', 'Frame'],\n",
    "                                                                                    ascending=[1, 1]).reset_index(drop=True)\n",
    "        if particle == 0:\n",
    "            index1 = 0\n",
    "            index2 = single_track.shape[0]\n",
    "        else:\n",
    "            index1 = index2\n",
    "            index2 = index1 + single_track.shape[0]\n",
    "        msds[index1:index2] = msd_calc(single_track)\n",
    "    return msds"
   ]
  },
  {
   "cell_type": "code",
   "execution_count": null,
   "metadata": {},
   "outputs": [],
   "source": [
    "data[\"MSDs\"] = all_msds(data)\n",
    "#data"
   ]
  },
  {
   "cell_type": "code",
   "execution_count": null,
   "metadata": {},
   "outputs": [],
   "source": [
    "single_track = data.loc[data['Track_ID'] == 4].sort_values(['Track_ID', 'Frame'], ascending=[1, 1]).reset_index(drop=True)"
   ]
  },
  {
   "cell_type": "code",
   "execution_count": null,
   "metadata": {},
   "outputs": [],
   "source": [
    "d = {'Track_ID': data.Track_ID.unique()}\n",
    "features = pd.DataFrame(data=d)\n",
    "features"
   ]
  },
  {
   "cell_type": "code",
   "execution_count": 8,
   "metadata": {},
   "outputs": [],
   "source": [
    "def alpha_calc(track):\n",
    "\n",
    "    x = track['Frame']\n",
    "    y = track['MSDs']\n",
    "\n",
    "    def msd_alpha(x, a, D):\n",
    "        return 4*D*(x**a)\n",
    "\n",
    "    try:\n",
    "        popt, pcov = curve_fit(msd_alpha, x, y)\n",
    "        a = popt[0]\n",
    "        D = popt[1]\n",
    "    except RuntimeError:\n",
    "        print('Optimal parameters not found. Print NaN instead.')\n",
    "        a = np.nan\n",
    "        D = np.nan\n",
    "    return a, D"
   ]
  },
  {
   "cell_type": "code",
   "execution_count": null,
   "metadata": {},
   "outputs": [],
   "source": [
    "alpha_calc(single_track)"
   ]
  },
  {
   "cell_type": "code",
   "execution_count": 9,
   "metadata": {},
   "outputs": [],
   "source": [
    "def calculate_features(data):\n",
    "    trackids = data.Track_ID.unique()\n",
    "    partcount = trackids.shape[0]\n",
    "    alphas = np.zeros(trackids.shape[0])\n",
    "    Ds = np.zeros(trackids.shape[0])\n",
    "    \n",
    "    data[\"MSDs\"] = all_msds(data)\n",
    "\n",
    "    for particle in range(0, partcount-1):\n",
    "        single_track = data.loc[data['Track_ID'] == trackids[particle]].sort_values(['Track_ID', 'Frame'],\n",
    "                                                                                    ascending=[1, 1]).reset_index(drop=True)\n",
    "        alphas[particle], Ds[particle] = alpha_calc(single_track)\n",
    "    return alphas, Ds"
   ]
  },
  {
   "cell_type": "code",
   "execution_count": 10,
   "metadata": {},
   "outputs": [
    {
     "name": "stdout",
     "output_type": "stream",
     "text": [
      "Optimal parameters not found. Print NaN instead.\n"
     ]
    }
   ],
   "source": [
    "a, D = calculate_features(data)"
   ]
  },
  {
   "cell_type": "code",
   "execution_count": 11,
   "metadata": {},
   "outputs": [
    {
     "data": {
      "text/plain": [
       "array([1.77478457, 1.26710039, 6.62459292,        nan, 0.        ])"
      ]
     },
     "execution_count": 11,
     "metadata": {},
     "output_type": "execute_result"
    }
   ],
   "source": [
    "a"
   ]
  },
  {
   "cell_type": "code",
   "execution_count": 12,
   "metadata": {},
   "outputs": [
    {
     "data": {
      "text/plain": [
       "array([4.67616702e+00, 5.69785643e+00, 1.37613068e-07,            nan,\n",
       "       0.00000000e+00])"
      ]
     },
     "execution_count": 12,
     "metadata": {},
     "output_type": "execute_result"
    }
   ],
   "source": [
    "D"
   ]
  },
  {
   "cell_type": "code",
   "execution_count": null,
   "metadata": {},
   "outputs": [],
   "source": []
  },
  {
   "cell_type": "code",
   "execution_count": null,
   "metadata": {},
   "outputs": [],
   "source": [
    "single_track = data.loc[data['Track_ID'] == 4].sort_values(['Track_ID', 'Frame'],\n",
    "                                                           ascending=[1, 1]).reset_index(drop=True)"
   ]
  },
  {
   "cell_type": "code",
   "execution_count": null,
   "metadata": {},
   "outputs": [],
   "source": [
    "single_track"
   ]
  },
  {
   "cell_type": "code",
   "execution_count": null,
   "metadata": {},
   "outputs": [],
   "source": [
    "msd = msd_calc(single_track)"
   ]
  },
  {
   "cell_type": "code",
   "execution_count": null,
   "metadata": {},
   "outputs": [],
   "source": [
    "data.shape"
   ]
  },
  {
   "cell_type": "code",
   "execution_count": null,
   "metadata": {},
   "outputs": [],
   "source": [
    "trackids = data.Track_ID.unique()\n",
    "partcount = trackids.shape[0]\n",
    "msds = np.zeros(data.shape[0])"
   ]
  },
  {
   "cell_type": "code",
   "execution_count": null,
   "metadata": {},
   "outputs": [],
   "source": [
    "msds"
   ]
  },
  {
   "cell_type": "code",
   "execution_count": null,
   "metadata": {},
   "outputs": [],
   "source": [
    "total_spots = data.shape[0]\n",
    "inc = np.diff(data['Frame'])\n",
    "skip = np.zeros(inc.shape[0])\n",
    "same_track = np.diff(data['Track_ID'])\n",
    "counter = 0\n",
    "for i in range(0, total_spots-1):\n",
    "    if inc[i] != 1 and same_track[i] ==0:\n",
    "        skip[i] = 1\n",
    "        counter = counter + 1\n",
    "        print(i)"
   ]
  },
  {
   "cell_type": "code",
   "execution_count": null,
   "metadata": {},
   "outputs": [],
   "source": [
    "print(same_track[70:80])\n",
    "print(inc[70:80])"
   ]
  },
  {
   "cell_type": "code",
   "execution_count": null,
   "metadata": {},
   "outputs": [],
   "source": [
    "data.loc[80]"
   ]
  },
  {
   "cell_type": "code",
   "execution_count": null,
   "metadata": {},
   "outputs": [],
   "source": [
    "data.loc[77] = data.loc[83]"
   ]
  },
  {
   "cell_type": "code",
   "execution_count": null,
   "metadata": {},
   "outputs": [],
   "source": [
    "test = np.zeros(5)\n",
    "test[3] = 1\n",
    "test\n",
    "test2 = test+1"
   ]
  },
  {
   "cell_type": "code",
   "execution_count": null,
   "metadata": {},
   "outputs": [],
   "source": [
    "test1 = ma.masked_where(test != 0, test)\n"
   ]
  },
  {
   "cell_type": "code",
   "execution_count": null,
   "metadata": {},
   "outputs": [],
   "source": [
    "test3 = ma.array(test2, mask=test1.mask)\n",
    "test3"
   ]
  },
  {
   "cell_type": "code",
   "execution_count": null,
   "metadata": {},
   "outputs": [],
   "source": [
    "np.mean(np.square(np.diff(single_track['X'], n=2)) + np.square(np.diff(single_track['Y'], n=2)))"
   ]
  },
  {
   "cell_type": "code",
   "execution_count": null,
   "metadata": {},
   "outputs": [],
   "source": [
    "frame = 3\n",
    "\n",
    "np.square(nth_diff(single_track['X'], n=frame+1))"
   ]
  },
  {
   "cell_type": "code",
   "execution_count": null,
   "metadata": {},
   "outputs": [],
   "source": [
    "frame=0\n",
    "np.diff(single_track['Frame'], n=frame+1)"
   ]
  },
  {
   "cell_type": "code",
   "execution_count": null,
   "metadata": {},
   "outputs": [],
   "source": [
    "msd"
   ]
  },
  {
   "cell_type": "code",
   "execution_count": null,
   "metadata": {},
   "outputs": [],
   "source": [
    "single_track['Frame']"
   ]
  },
  {
   "cell_type": "code",
   "execution_count": null,
   "metadata": {},
   "outputs": [],
   "source": [
    "msd"
   ]
  },
  {
   "cell_type": "code",
   "execution_count": null,
   "metadata": {},
   "outputs": [],
   "source": [
    "data"
   ]
  },
  {
   "cell_type": "code",
   "execution_count": null,
   "metadata": {},
   "outputs": [],
   "source": []
  }
 ],
 "metadata": {
  "kernelspec": {
   "display_name": "Python 3",
   "language": "python",
   "name": "python3"
  },
  "language_info": {
   "codemirror_mode": {
    "name": "ipython",
    "version": 3
   },
   "file_extension": ".py",
   "mimetype": "text/x-python",
   "name": "python",
   "nbconvert_exporter": "python",
   "pygments_lexer": "ipython3",
   "version": "3.6.3"
  }
 },
 "nbformat": 4,
 "nbformat_minor": 2
}
