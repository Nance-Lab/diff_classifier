{
 "cells": [
  {
   "cell_type": "code",
   "execution_count": 110,
   "metadata": {},
   "outputs": [],
   "source": [
    "import numpy as np\n",
    "import numpy.testing as npt\n",
    "import pandas as pd\n",
    "import diff_classifier.msd as msd\n",
    "import pandas.util.testing as pdt\n",
    "from scipy import interpolate\n",
    "import diff_classifier.features as ft\n",
    "import math"
   ]
  },
  {
   "cell_type": "code",
   "execution_count": 162,
   "metadata": {},
   "outputs": [],
   "source": [
    "frames = 10\n",
    "d = {'Frame': np.linspace(0, frames, frames),\n",
    "     'X': np.sin(np.linspace(0, frames, frames)+3),\n",
    "     'Y': np.cos(np.linspace(0, frames, frames)+3),\n",
    "     'Track_ID': np.ones(frames)}\n",
    "df = pd.DataFrame(data=d)\n",
    "df = msd.all_msds2(df, frames=frames+1)"
   ]
  },
  {
   "cell_type": "code",
   "execution_count": 165,
   "metadata": {},
   "outputs": [
    {
     "data": {
      "text/plain": [
       "-0.09876543209876543"
      ]
     },
     "execution_count": 165,
     "metadata": {},
     "output_type": "execute_result"
    }
   ],
   "source": [
    "ft.msd_ratio(df, 1, 9)"
   ]
  },
  {
   "cell_type": "code",
   "execution_count": 80,
   "metadata": {},
   "outputs": [
    {
     "data": {
      "text/plain": [
       "array([-0.54402111,  0.83907153])"
      ]
     },
     "execution_count": 80,
     "metadata": {},
     "output_type": "execute_result"
    }
   ],
   "source": [
    "d4"
   ]
  },
  {
   "cell_type": "code",
   "execution_count": 164,
   "metadata": {},
   "outputs": [],
   "source": [
    "frames = 10\n",
    "d = {'Frame': np.linspace(0, frames, frames),\n",
    "     'X': np.linspace(0, frames, frames)+5,\n",
    "     'Y': np.linspace(0, frames, frames)+3,\n",
    "     'Track_ID': np.ones(frames)}\n",
    "df = pd.DataFrame(data=d)\n",
    "df = msd.all_msds2(df, frames=frames+1)"
   ]
  },
  {
   "cell_type": "code",
   "execution_count": 161,
   "metadata": {},
   "outputs": [
    {
     "data": {
      "text/plain": [
       "(10.0, 1.0)"
      ]
     },
     "execution_count": 161,
     "metadata": {},
     "output_type": "execute_result"
    }
   ],
   "source": [
    "ft.efficiency(df)"
   ]
  },
  {
   "cell_type": "code",
   "execution_count": 257,
   "metadata": {},
   "outputs": [],
   "source": [
    "d = {'Frame': [0, 1, 2, 3, 4, 0, 1, 2, 3, 4],\n",
    "     'Track_ID': [1, 1, 1, 1, 1, 2, 2, 2, 2, 2],\n",
    "     'X': [0, 0, 1, 1, 2, 1, 1, 2, 2, 3],\n",
    "     'Y': [0, 1, 1, 2, 2, 0, 1, 1, 2, 2]}\n",
    "df = pd.DataFrame(data=d)\n",
    "dfi = msd.all_msds2(df, frames = 5)\n",
    "feat = ft.calculate_features(dfi)"
   ]
  },
  {
   "cell_type": "code",
   "execution_count": 258,
   "metadata": {},
   "outputs": [
    {
     "data": {
      "text/html": [
       "<div>\n",
       "<style scoped>\n",
       "    .dataframe tbody tr th:only-of-type {\n",
       "        vertical-align: middle;\n",
       "    }\n",
       "\n",
       "    .dataframe tbody tr th {\n",
       "        vertical-align: top;\n",
       "    }\n",
       "\n",
       "    .dataframe thead th {\n",
       "        text-align: right;\n",
       "    }\n",
       "</style>\n",
       "<table border=\"1\" class=\"dataframe\">\n",
       "  <thead>\n",
       "    <tr style=\"text-align: right;\">\n",
       "      <th></th>\n",
       "      <th>Frame</th>\n",
       "      <th>Gauss</th>\n",
       "      <th>MSDs</th>\n",
       "      <th>Track_ID</th>\n",
       "      <th>X</th>\n",
       "      <th>Y</th>\n",
       "    </tr>\n",
       "  </thead>\n",
       "  <tbody>\n",
       "    <tr>\n",
       "      <th>0</th>\n",
       "      <td>0.0</td>\n",
       "      <td>0.00</td>\n",
       "      <td>0.0</td>\n",
       "      <td>1.0</td>\n",
       "      <td>0.0</td>\n",
       "      <td>0.0</td>\n",
       "    </tr>\n",
       "    <tr>\n",
       "      <th>1</th>\n",
       "      <td>1.0</td>\n",
       "      <td>0.50</td>\n",
       "      <td>1.0</td>\n",
       "      <td>1.0</td>\n",
       "      <td>0.0</td>\n",
       "      <td>1.0</td>\n",
       "    </tr>\n",
       "    <tr>\n",
       "      <th>2</th>\n",
       "      <td>2.0</td>\n",
       "      <td>0.25</td>\n",
       "      <td>2.0</td>\n",
       "      <td>1.0</td>\n",
       "      <td>1.0</td>\n",
       "      <td>1.0</td>\n",
       "    </tr>\n",
       "    <tr>\n",
       "      <th>3</th>\n",
       "      <td>3.0</td>\n",
       "      <td>0.34</td>\n",
       "      <td>5.0</td>\n",
       "      <td>1.0</td>\n",
       "      <td>1.0</td>\n",
       "      <td>2.0</td>\n",
       "    </tr>\n",
       "    <tr>\n",
       "      <th>4</th>\n",
       "      <td>4.0</td>\n",
       "      <td>0.25</td>\n",
       "      <td>8.0</td>\n",
       "      <td>1.0</td>\n",
       "      <td>2.0</td>\n",
       "      <td>2.0</td>\n",
       "    </tr>\n",
       "    <tr>\n",
       "      <th>5</th>\n",
       "      <td>0.0</td>\n",
       "      <td>0.00</td>\n",
       "      <td>0.0</td>\n",
       "      <td>2.0</td>\n",
       "      <td>1.0</td>\n",
       "      <td>0.0</td>\n",
       "    </tr>\n",
       "    <tr>\n",
       "      <th>6</th>\n",
       "      <td>1.0</td>\n",
       "      <td>0.50</td>\n",
       "      <td>1.0</td>\n",
       "      <td>2.0</td>\n",
       "      <td>1.0</td>\n",
       "      <td>1.0</td>\n",
       "    </tr>\n",
       "    <tr>\n",
       "      <th>7</th>\n",
       "      <td>2.0</td>\n",
       "      <td>0.25</td>\n",
       "      <td>2.0</td>\n",
       "      <td>2.0</td>\n",
       "      <td>2.0</td>\n",
       "      <td>1.0</td>\n",
       "    </tr>\n",
       "    <tr>\n",
       "      <th>8</th>\n",
       "      <td>3.0</td>\n",
       "      <td>0.34</td>\n",
       "      <td>5.0</td>\n",
       "      <td>2.0</td>\n",
       "      <td>2.0</td>\n",
       "      <td>2.0</td>\n",
       "    </tr>\n",
       "    <tr>\n",
       "      <th>9</th>\n",
       "      <td>4.0</td>\n",
       "      <td>0.25</td>\n",
       "      <td>8.0</td>\n",
       "      <td>2.0</td>\n",
       "      <td>3.0</td>\n",
       "      <td>2.0</td>\n",
       "    </tr>\n",
       "  </tbody>\n",
       "</table>\n",
       "</div>"
      ],
      "text/plain": [
       "   Frame  Gauss  MSDs  Track_ID    X    Y\n",
       "0    0.0   0.00   0.0       1.0  0.0  0.0\n",
       "1    1.0   0.50   1.0       1.0  0.0  1.0\n",
       "2    2.0   0.25   2.0       1.0  1.0  1.0\n",
       "3    3.0   0.34   5.0       1.0  1.0  2.0\n",
       "4    4.0   0.25   8.0       1.0  2.0  2.0\n",
       "5    0.0   0.00   0.0       2.0  1.0  0.0\n",
       "6    1.0   0.50   1.0       2.0  1.0  1.0\n",
       "7    2.0   0.25   2.0       2.0  2.0  1.0\n",
       "8    3.0   0.34   5.0       2.0  2.0  2.0\n",
       "9    4.0   0.25   8.0       2.0  3.0  2.0"
      ]
     },
     "execution_count": 258,
     "metadata": {},
     "output_type": "execute_result"
    }
   ],
   "source": [
    "dfi"
   ]
  },
  {
   "cell_type": "code",
   "execution_count": 259,
   "metadata": {},
   "outputs": [
    {
     "data": {
      "text/html": [
       "<div>\n",
       "<style scoped>\n",
       "    .dataframe tbody tr th:only-of-type {\n",
       "        vertical-align: middle;\n",
       "    }\n",
       "\n",
       "    .dataframe tbody tr th {\n",
       "        vertical-align: top;\n",
       "    }\n",
       "\n",
       "    .dataframe thead th {\n",
       "        text-align: right;\n",
       "    }\n",
       "</style>\n",
       "<table border=\"1\" class=\"dataframe\">\n",
       "  <thead>\n",
       "    <tr style=\"text-align: right;\">\n",
       "      <th></th>\n",
       "      <th>AR</th>\n",
       "      <th>D_fit</th>\n",
       "      <th>MSD_ratio</th>\n",
       "      <th>Track_ID</th>\n",
       "      <th>X</th>\n",
       "      <th>Y</th>\n",
       "      <th>alpha</th>\n",
       "      <th>asymmetry1</th>\n",
       "      <th>asymmetry2</th>\n",
       "      <th>asymmetry3</th>\n",
       "      <th>boundedness</th>\n",
       "      <th>efficiency</th>\n",
       "      <th>elongation</th>\n",
       "      <th>fractal_dim</th>\n",
       "      <th>frames</th>\n",
       "      <th>kurtosis</th>\n",
       "      <th>straightness</th>\n",
       "      <th>trappedness</th>\n",
       "    </tr>\n",
       "  </thead>\n",
       "  <tbody>\n",
       "    <tr>\n",
       "      <th>0</th>\n",
       "      <td>4.0</td>\n",
       "      <td>0.170519</td>\n",
       "      <td>-0.266667</td>\n",
       "      <td>1.0</td>\n",
       "      <td>0.75</td>\n",
       "      <td>1.25</td>\n",
       "      <td>1.779337</td>\n",
       "      <td>0.944024</td>\n",
       "      <td>0.12</td>\n",
       "      <td>0.369143</td>\n",
       "      <td>0.25</td>\n",
       "      <td>2.0</td>\n",
       "      <td>0.75</td>\n",
       "      <td>1.333333</td>\n",
       "      <td>5.0</td>\n",
       "      <td>1.166667</td>\n",
       "      <td>0.707107</td>\n",
       "      <td>-0.152585</td>\n",
       "    </tr>\n",
       "    <tr>\n",
       "      <th>1</th>\n",
       "      <td>4.0</td>\n",
       "      <td>0.170519</td>\n",
       "      <td>-0.266667</td>\n",
       "      <td>2.0</td>\n",
       "      <td>1.75</td>\n",
       "      <td>1.25</td>\n",
       "      <td>1.779337</td>\n",
       "      <td>0.944024</td>\n",
       "      <td>0.12</td>\n",
       "      <td>0.369143</td>\n",
       "      <td>0.25</td>\n",
       "      <td>2.0</td>\n",
       "      <td>0.75</td>\n",
       "      <td>1.333333</td>\n",
       "      <td>5.0</td>\n",
       "      <td>1.166667</td>\n",
       "      <td>0.707107</td>\n",
       "      <td>-0.152585</td>\n",
       "    </tr>\n",
       "  </tbody>\n",
       "</table>\n",
       "</div>"
      ],
      "text/plain": [
       "    AR     D_fit  MSD_ratio  Track_ID     X     Y     alpha  asymmetry1  \\\n",
       "0  4.0  0.170519  -0.266667       1.0  0.75  1.25  1.779337    0.944024   \n",
       "1  4.0  0.170519  -0.266667       2.0  1.75  1.25  1.779337    0.944024   \n",
       "\n",
       "   asymmetry2  asymmetry3  boundedness  efficiency  elongation  fractal_dim  \\\n",
       "0        0.12    0.369143         0.25         2.0        0.75     1.333333   \n",
       "1        0.12    0.369143         0.25         2.0        0.75     1.333333   \n",
       "\n",
       "   frames  kurtosis  straightness  trappedness  \n",
       "0     5.0  1.166667      0.707107    -0.152585  \n",
       "1     5.0  1.166667      0.707107    -0.152585  "
      ]
     },
     "execution_count": 259,
     "metadata": {},
     "output_type": "execute_result"
    }
   ],
   "source": [
    "feat"
   ]
  },
  {
   "cell_type": "code",
   "execution_count": 287,
   "metadata": {},
   "outputs": [],
   "source": [
    "frames = 6\n",
    "d = {'Frame': np.linspace(0, frames, frames),\n",
    "     'X': [0, 1, 1, 2, 2, 3],\n",
    "     'Y': [0, 0, 1, 1, 2, 2],\n",
    "     'Track_ID': np.ones(frames)}\n",
    "df = pd.DataFrame(data=d)\n",
    "df = msd.all_msds2(df, frames=frames+1)\n",
    "assert ft.aspectratio(df)[0:2] == (3.9000000000000026, 0.7435897435897438)\n",
    "npt.assert_almost_equal(ft.aspectratio(df)[2], np.array([1.5, 1. ]))"
   ]
  },
  {
   "cell_type": "code",
   "execution_count": 284,
   "metadata": {},
   "outputs": [
    {
     "data": {
      "text/plain": [
       "array([1.5, 1. ])"
      ]
     },
     "execution_count": 284,
     "metadata": {},
     "output_type": "execute_result"
    }
   ],
   "source": [
    "ft.aspectratio(df)[2]"
   ]
  },
  {
   "cell_type": "code",
   "execution_count": 285,
   "metadata": {},
   "outputs": [
    {
     "data": {
      "text/plain": [
       "array([1.5, 1. ])"
      ]
     },
     "execution_count": 285,
     "metadata": {},
     "output_type": "execute_result"
    }
   ],
   "source": [
    "np.array([1.5, 1])"
   ]
  },
  {
   "cell_type": "code",
   "execution_count": null,
   "metadata": {},
   "outputs": [],
   "source": []
  }
 ],
 "metadata": {
  "kernelspec": {
   "display_name": "Python 2",
   "language": "python",
   "name": "python2"
  },
  "language_info": {
   "codemirror_mode": {
    "name": "ipython",
    "version": 2
   },
   "file_extension": ".py",
   "mimetype": "text/x-python",
   "name": "python",
   "nbconvert_exporter": "python",
   "pygments_lexer": "ipython2",
   "version": "2.7.12"
  }
 },
 "nbformat": 4,
 "nbformat_minor": 2
}
