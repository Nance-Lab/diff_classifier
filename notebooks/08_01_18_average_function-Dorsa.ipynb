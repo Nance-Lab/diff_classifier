{
 "cells": [
  {
   "cell_type": "code",
   "execution_count": 1,
   "metadata": {},
   "outputs": [],
   "source": [
    "import numpy as np\n",
    "import numpy.ma as ma\n",
    "import pandas as pd\n",
    "import scipy.stats as stat\n",
    "import random\n",
    "import diff_classifier.aws as aws\n",
    "import diff_classifier.msd as msd\n",
    "from diff_classifier.msd import binning, precision_weight, precision_averaging, plot_all_experiments\n",
    "import matplotlib.pyplot as plt\n",
    "from matplotlib.pyplot import cm"
   ]
  },
  {
   "cell_type": "code",
   "execution_count": 3,
   "metadata": {},
   "outputs": [
    {
     "data": {
      "text/plain": [
       "['100nm_10k_PEG_XY01',\n",
       " '100nm_10k_PEG_XY02',\n",
       " '100nm_10k_PEG_XY03',\n",
       " '100nm_10k_PEG_XY04',\n",
       " '100nm_10k_PEG_XY05',\n",
       " '100nm_10k_PEG_XY06',\n",
       " '100nm_10k_PEG_XY07',\n",
       " '100nm_10k_PEG_XY08',\n",
       " '100nm_10k_PEG_XY09',\n",
       " '100nm_10k_PEG_XY10',\n",
       " '100nm_10k_PEG_XY11',\n",
       " '100nm_10k_PEG_XY12',\n",
       " '100nm_10k_PEG_XY13',\n",
       " '100nm_10k_PEG_XY14',\n",
       " '100nm_10k_PEG_XY15',\n",
       " '100nm_10k_PEG_XY16',\n",
       " '100nm_10k_PEG_XY17',\n",
       " '100nm_10k_PEG_XY18',\n",
       " '100nm_10k_PEG_XY19',\n",
       " '100nm_10k_PEG_XY20']"
      ]
     },
     "execution_count": 3,
     "metadata": {},
     "output_type": "execute_result"
    }
   ],
   "source": [
    "to_track"
   ]
  },
  {
   "cell_type": "code",
   "execution_count": null,
   "metadata": {},
   "outputs": [],
   "source": [
    "folder = 'PS_1k_5k_10k_PEG_in_agarose'\n",
    "bucket = 'dtoghani.data'\n",
    "experiment = '100nm_10k_PEG' #Used for naming purposes. Should exclude XY and well information\n",
    "\n",
    "vids = 20\n",
    "to_track = []\n",
    "wells = 4\n",
    "frames = 651\n",
    "fps = 100.02\n",
    "\n",
    "for num in range(1, vids+1):\n",
    "    to_track.append('{}_XY{}'.format(experiment, '%02d' % num)) #As per usual, use for loops to include all experiments\n",
    "\n",
    "slices, bins, well_names = binning(to_track)\n",
    "geoM2xy = {}\n",
    "gSEM = {}\n",
    "for sample_name in to_track:\n",
    "    #aws.download_s3('{}/geomean_{}.csv'.format(folder, sample_name), 'geomean_{}.csv'.format(sample_name), bucket_name=bucket)\n",
    "    #aws.download_s3('{}/geoSEM_{}.csv'.format(folder, sample_name), 'geoSEM_{}.csv'.format(sample_name), bucket_name=bucket)\n",
    "    #geoM2xy[sample_name] = np.genfromtxt('geomean_{}.csv'.format(sample_name))\n",
    "    #gSEM[sample_name] = np.genfromtxt('geoSEM_{}.csv'.format(sample_name))\n",
    "    \n",
    "    aws.download_s3('{}/msd_{}.csv'.format(folder, sample_name), 'msd_{}.csv'.format(sample_name), bucket_name=bucket)\n",
    "    geoM2xy[sample_name], gSEM[sample_name] = msd.gavg_MSDs(sample_name, remote_folder=folder, bucket=bucket)"
   ]
  },
  {
   "cell_type": "code",
   "execution_count": null,
   "metadata": {},
   "outputs": [],
   "source": [
    "for key in geoM2xy:\n",
    "    geoM2xy[key][[geoM2xy][key]==0.0] = np.nan\n",
    "    gSEM[key][[gSEM][key]==0.0] = np.nan"
   ]
  },
  {
   "cell_type": "code",
   "execution_count": null,
   "metadata": {},
   "outputs": [],
   "source": [
    "geo_slices = {}\n",
    "gSEM_slices = {}\n",
    "\n",
    "w_slices = {}\n",
    "wo_slices = {}\n",
    "\n",
    "for key in bins:\n",
    "    wo_slices[key] = precision_weight(bins[key], gSEM)\n",
    "    geo_slices[key], gSEM_slices[key] = precision_averaging(bins[key], geoM2xy, gSEM, wo_slices[key]) \n",
    "\n",
    "for key in geo_slices:\n",
    "    geo_slices[key][[geo_slices][key]==0.0] = np.nan\n",
    "    gSEM_slices[key][[gSEM_slices][key]==0.0] = np.nan\n",
    "    \n",
    "weights = precision_weight(well_names, gSEM_slices)\n",
    "geo, gS = precision_averaging(well_names, geo_slices, gSEM_slices, weights, bucket=bucket, folder=folder, experiment=experiment)"
   ]
  },
  {
   "cell_type": "code",
   "execution_count": null,
   "metadata": {},
   "outputs": [],
   "source": [
    "to_plot_f = [experiment, experiment, experiment, experiment, experiment, experiment]\n",
    "plot_all_experiments(to_plot_f, bucket=bucket, folder=folder)"
   ]
  },
  {
   "cell_type": "code",
   "execution_count": null,
   "metadata": {},
   "outputs": [],
   "source": []
  }
 ],
 "metadata": {
  "kernelspec": {
   "display_name": "Python 3",
   "language": "python",
   "name": "python3"
  },
  "language_info": {
   "codemirror_mode": {
    "name": "ipython",
    "version": 3
   },
   "file_extension": ".py",
   "mimetype": "text/x-python",
   "name": "python",
   "nbconvert_exporter": "python",
   "pygments_lexer": "ipython3",
   "version": "3.6.3"
  }
 },
 "nbformat": 4,
 "nbformat_minor": 2
}
