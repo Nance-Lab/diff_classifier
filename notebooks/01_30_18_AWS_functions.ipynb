{
 "cells": [
  {
   "cell_type": "code",
   "execution_count": 20,
   "metadata": {},
   "outputs": [],
   "source": [
    "import os\n",
    "import diff_classifier.imagej as ij\n",
    "import boto3\n",
    "import time\n",
    "import os.path as op"
   ]
  },
  {
   "cell_type": "code",
   "execution_count": 1,
   "metadata": {},
   "outputs": [],
   "source": [
    "def download_s3(remote_fname, local_fname, bucket_name=\"ccurtis7.pup\"):\n",
    "    \"\"\"\n",
    "    Download a file from S3 to our local file-system\n",
    "    \"\"\"\n",
    "    if not os.path.exists(local_fname):\n",
    "        s3 = boto3.resource('s3')\n",
    "        b = s3.Bucket(bucket_name)\n",
    "        b.download_file(remote_fname, local_fname) "
   ]
  },
  {
   "cell_type": "code",
   "execution_count": 2,
   "metadata": {},
   "outputs": [],
   "source": [
    "def upload_s3(local_fname, remote_fname, bucket_name=\"ccurtis7.pup\"):\n",
    "    \n",
    "    s3 = boto3.resource('s3')\n",
    "    b = s3.Bucket(bucket_name)\n",
    "    b.upload_file(local_fname, remote_fname) "
   ]
  },
  {
   "cell_type": "code",
   "execution_count": 30,
   "metadata": {},
   "outputs": [],
   "source": [
    "remote_dir = '01_18_Experiment/'\n",
    "remote_name = 'P1_S1_L_0000.tif'\n",
    "local_dir = '/home/ubuntu/data/'\n",
    "local_name = local_dir + remote_name\n",
    "\n",
    "#download_s3(remote_dir + remote_name, local_name)"
   ]
  },
  {
   "cell_type": "code",
   "execution_count": 12,
   "metadata": {},
   "outputs": [
    {
     "name": "stderr",
     "output_type": "stream",
     "text": [
      "/home/ubuntu/miniconda3/lib/python3.6/site-packages/skimage/io/_io.py:132: UserWarning: /home/ubuntu/data/P1_S1_L_0000_0_0.tif is a low contrast image\n",
      "  warn('%s is a low contrast image' % fname)\n",
      "/home/ubuntu/miniconda3/lib/python3.6/site-packages/skimage/io/_io.py:132: UserWarning: /home/ubuntu/data/P1_S1_L_0000_0_1.tif is a low contrast image\n",
      "  warn('%s is a low contrast image' % fname)\n",
      "/home/ubuntu/miniconda3/lib/python3.6/site-packages/skimage/io/_io.py:132: UserWarning: /home/ubuntu/data/P1_S1_L_0000_0_2.tif is a low contrast image\n",
      "  warn('%s is a low contrast image' % fname)\n",
      "/home/ubuntu/miniconda3/lib/python3.6/site-packages/skimage/io/_io.py:132: UserWarning: /home/ubuntu/data/P1_S1_L_0000_0_3.tif is a low contrast image\n",
      "  warn('%s is a low contrast image' % fname)\n",
      "/home/ubuntu/miniconda3/lib/python3.6/site-packages/skimage/io/_io.py:132: UserWarning: /home/ubuntu/data/P1_S1_L_0000_1_0.tif is a low contrast image\n",
      "  warn('%s is a low contrast image' % fname)\n",
      "/home/ubuntu/miniconda3/lib/python3.6/site-packages/skimage/io/_io.py:132: UserWarning: /home/ubuntu/data/P1_S1_L_0000_1_1.tif is a low contrast image\n",
      "  warn('%s is a low contrast image' % fname)\n",
      "/home/ubuntu/miniconda3/lib/python3.6/site-packages/skimage/io/_io.py:132: UserWarning: /home/ubuntu/data/P1_S1_L_0000_1_2.tif is a low contrast image\n",
      "  warn('%s is a low contrast image' % fname)\n",
      "/home/ubuntu/miniconda3/lib/python3.6/site-packages/skimage/io/_io.py:132: UserWarning: /home/ubuntu/data/P1_S1_L_0000_1_3.tif is a low contrast image\n",
      "  warn('%s is a low contrast image' % fname)\n",
      "/home/ubuntu/miniconda3/lib/python3.6/site-packages/skimage/io/_io.py:132: UserWarning: /home/ubuntu/data/P1_S1_L_0000_2_0.tif is a low contrast image\n",
      "  warn('%s is a low contrast image' % fname)\n",
      "/home/ubuntu/miniconda3/lib/python3.6/site-packages/skimage/io/_io.py:132: UserWarning: /home/ubuntu/data/P1_S1_L_0000_2_1.tif is a low contrast image\n",
      "  warn('%s is a low contrast image' % fname)\n",
      "/home/ubuntu/miniconda3/lib/python3.6/site-packages/skimage/io/_io.py:132: UserWarning: /home/ubuntu/data/P1_S1_L_0000_2_2.tif is a low contrast image\n",
      "  warn('%s is a low contrast image' % fname)\n",
      "/home/ubuntu/miniconda3/lib/python3.6/site-packages/skimage/io/_io.py:132: UserWarning: /home/ubuntu/data/P1_S1_L_0000_2_3.tif is a low contrast image\n",
      "  warn('%s is a low contrast image' % fname)\n",
      "/home/ubuntu/miniconda3/lib/python3.6/site-packages/skimage/io/_io.py:132: UserWarning: /home/ubuntu/data/P1_S1_L_0000_3_0.tif is a low contrast image\n",
      "  warn('%s is a low contrast image' % fname)\n",
      "/home/ubuntu/miniconda3/lib/python3.6/site-packages/skimage/io/_io.py:132: UserWarning: /home/ubuntu/data/P1_S1_L_0000_3_1.tif is a low contrast image\n",
      "  warn('%s is a low contrast image' % fname)\n",
      "/home/ubuntu/miniconda3/lib/python3.6/site-packages/skimage/io/_io.py:132: UserWarning: /home/ubuntu/data/P1_S1_L_0000_3_2.tif is a low contrast image\n",
      "  warn('%s is a low contrast image' % fname)\n",
      "/home/ubuntu/miniconda3/lib/python3.6/site-packages/skimage/io/_io.py:132: UserWarning: /home/ubuntu/data/P1_S1_L_0000_3_3.tif is a low contrast image\n",
      "  warn('%s is a low contrast image' % fname)\n"
     ]
    }
   ],
   "source": [
    "names = ij.partition_im(local_name)"
   ]
  },
  {
   "cell_type": "code",
   "execution_count": 29,
   "metadata": {},
   "outputs": [],
   "source": [
    "for file in names:\n",
    "    upload_s3(file, remote_dir + op.split(file)[1])"
   ]
  },
  {
   "cell_type": "code",
   "execution_count": 32,
   "metadata": {},
   "outputs": [
    {
     "data": {
      "text/plain": [
       "'/home/ubuntu/data/P1_S1_L_0000_3_3.tif'"
      ]
     },
     "execution_count": 32,
     "metadata": {},
     "output_type": "execute_result"
    }
   ],
   "source": [
    "dire, fil = op.split(file)\n",
    "op.join(dire, fil)"
   ]
  },
  {
   "cell_type": "code",
   "execution_count": 42,
   "metadata": {},
   "outputs": [],
   "source": [
    "def partition_and_store(remote_fname, local_dir, bucket_name=\"ccurtis7.pup\"):\n",
    "    \n",
    "    remote_dir, remote_file = op.split(remote_fname)\n",
    "    download_s3(remote_fname, op.join(local_dir, remote_file))\n",
    "    names = ij.partition_im(op.join(local_dir, remote_file))\n",
    "    \n",
    "    remote_names = []\n",
    "    for file in names:\n",
    "        local_file = op.split(file)[1]\n",
    "        upload_s3(op.join(local_dir, local_file), op.join(remote_dir, local_file))\n",
    "        remote_names.append(op.join(remote_dir, local_file))\n",
    "    return remote_names"
   ]
  },
  {
   "cell_type": "code",
   "execution_count": 39,
   "metadata": {},
   "outputs": [
    {
     "name": "stderr",
     "output_type": "stream",
     "text": [
      "/home/ubuntu/miniconda3/lib/python3.6/site-packages/skimage/io/_io.py:132: UserWarning: /home/ubuntu/data/P1_S1_L_0000_0_0.tif is a low contrast image\n",
      "  warn('%s is a low contrast image' % fname)\n",
      "/home/ubuntu/miniconda3/lib/python3.6/site-packages/skimage/io/_io.py:132: UserWarning: /home/ubuntu/data/P1_S1_L_0000_0_1.tif is a low contrast image\n",
      "  warn('%s is a low contrast image' % fname)\n",
      "/home/ubuntu/miniconda3/lib/python3.6/site-packages/skimage/io/_io.py:132: UserWarning: /home/ubuntu/data/P1_S1_L_0000_0_2.tif is a low contrast image\n",
      "  warn('%s is a low contrast image' % fname)\n",
      "/home/ubuntu/miniconda3/lib/python3.6/site-packages/skimage/io/_io.py:132: UserWarning: /home/ubuntu/data/P1_S1_L_0000_0_3.tif is a low contrast image\n",
      "  warn('%s is a low contrast image' % fname)\n",
      "/home/ubuntu/miniconda3/lib/python3.6/site-packages/skimage/io/_io.py:132: UserWarning: /home/ubuntu/data/P1_S1_L_0000_1_0.tif is a low contrast image\n",
      "  warn('%s is a low contrast image' % fname)\n",
      "/home/ubuntu/miniconda3/lib/python3.6/site-packages/skimage/io/_io.py:132: UserWarning: /home/ubuntu/data/P1_S1_L_0000_1_1.tif is a low contrast image\n",
      "  warn('%s is a low contrast image' % fname)\n",
      "/home/ubuntu/miniconda3/lib/python3.6/site-packages/skimage/io/_io.py:132: UserWarning: /home/ubuntu/data/P1_S1_L_0000_1_2.tif is a low contrast image\n",
      "  warn('%s is a low contrast image' % fname)\n",
      "/home/ubuntu/miniconda3/lib/python3.6/site-packages/skimage/io/_io.py:132: UserWarning: /home/ubuntu/data/P1_S1_L_0000_1_3.tif is a low contrast image\n",
      "  warn('%s is a low contrast image' % fname)\n",
      "/home/ubuntu/miniconda3/lib/python3.6/site-packages/skimage/io/_io.py:132: UserWarning: /home/ubuntu/data/P1_S1_L_0000_2_0.tif is a low contrast image\n",
      "  warn('%s is a low contrast image' % fname)\n",
      "/home/ubuntu/miniconda3/lib/python3.6/site-packages/skimage/io/_io.py:132: UserWarning: /home/ubuntu/data/P1_S1_L_0000_2_1.tif is a low contrast image\n",
      "  warn('%s is a low contrast image' % fname)\n",
      "/home/ubuntu/miniconda3/lib/python3.6/site-packages/skimage/io/_io.py:132: UserWarning: /home/ubuntu/data/P1_S1_L_0000_2_2.tif is a low contrast image\n",
      "  warn('%s is a low contrast image' % fname)\n",
      "/home/ubuntu/miniconda3/lib/python3.6/site-packages/skimage/io/_io.py:132: UserWarning: /home/ubuntu/data/P1_S1_L_0000_2_3.tif is a low contrast image\n",
      "  warn('%s is a low contrast image' % fname)\n",
      "/home/ubuntu/miniconda3/lib/python3.6/site-packages/skimage/io/_io.py:132: UserWarning: /home/ubuntu/data/P1_S1_L_0000_3_0.tif is a low contrast image\n",
      "  warn('%s is a low contrast image' % fname)\n",
      "/home/ubuntu/miniconda3/lib/python3.6/site-packages/skimage/io/_io.py:132: UserWarning: /home/ubuntu/data/P1_S1_L_0000_3_1.tif is a low contrast image\n",
      "  warn('%s is a low contrast image' % fname)\n",
      "/home/ubuntu/miniconda3/lib/python3.6/site-packages/skimage/io/_io.py:132: UserWarning: /home/ubuntu/data/P1_S1_L_0000_3_2.tif is a low contrast image\n",
      "  warn('%s is a low contrast image' % fname)\n",
      "/home/ubuntu/miniconda3/lib/python3.6/site-packages/skimage/io/_io.py:132: UserWarning: /home/ubuntu/data/P1_S1_L_0000_3_3.tif is a low contrast image\n",
      "  warn('%s is a low contrast image' % fname)\n"
     ]
    },
    {
     "data": {
      "text/plain": [
       "['01_18_Experiment/P1_S1_L_0000_0_0.tif',\n",
       " '01_18_Experiment/P1_S1_L_0000_0_1.tif',\n",
       " '01_18_Experiment/P1_S1_L_0000_0_2.tif',\n",
       " '01_18_Experiment/P1_S1_L_0000_0_3.tif',\n",
       " '01_18_Experiment/P1_S1_L_0000_1_0.tif',\n",
       " '01_18_Experiment/P1_S1_L_0000_1_1.tif',\n",
       " '01_18_Experiment/P1_S1_L_0000_1_2.tif',\n",
       " '01_18_Experiment/P1_S1_L_0000_1_3.tif',\n",
       " '01_18_Experiment/P1_S1_L_0000_2_0.tif',\n",
       " '01_18_Experiment/P1_S1_L_0000_2_1.tif',\n",
       " '01_18_Experiment/P1_S1_L_0000_2_2.tif',\n",
       " '01_18_Experiment/P1_S1_L_0000_2_3.tif',\n",
       " '01_18_Experiment/P1_S1_L_0000_3_0.tif',\n",
       " '01_18_Experiment/P1_S1_L_0000_3_1.tif',\n",
       " '01_18_Experiment/P1_S1_L_0000_3_2.tif',\n",
       " '01_18_Experiment/P1_S1_L_0000_3_3.tif']"
      ]
     },
     "execution_count": 39,
     "metadata": {},
     "output_type": "execute_result"
    }
   ],
   "source": [
    "aws_partition_im(remote_dir+remote_name, '/home/ubuntu/data')"
   ]
  },
  {
   "cell_type": "code",
   "execution_count": 43,
   "metadata": {},
   "outputs": [
    {
     "ename": "ImportError",
     "evalue": "It looks like you don't have Docker installed or running. Please go to https://docs.docker.com/engine/installation/ to install it. Once installed, make sure that the Docker daemon is running before using cloudknot.",
     "output_type": "error",
     "traceback": [
      "\u001b[0;31m---------------------------------------------------------------------------\u001b[0m",
      "\u001b[0;31mCalledProcessError\u001b[0m                        Traceback (most recent call last)",
      "\u001b[0;32m~/miniconda3/lib/python3.6/site-packages/cloudknot/__init__.py\u001b[0m in \u001b[0;36m<module>\u001b[0;34m()\u001b[0m\n\u001b[1;32m     23\u001b[0m     subprocess.check_call('docker version', shell=True,\n\u001b[0;32m---> 24\u001b[0;31m                           stdout=fnull, stderr=subprocess.STDOUT)\n\u001b[0m\u001b[1;32m     25\u001b[0m \u001b[0;32mexcept\u001b[0m \u001b[0msubprocess\u001b[0m\u001b[0;34m.\u001b[0m\u001b[0mCalledProcessError\u001b[0m\u001b[0;34m:\u001b[0m\u001b[0;34m\u001b[0m\u001b[0m\n",
      "\u001b[0;32m~/miniconda3/lib/python3.6/subprocess.py\u001b[0m in \u001b[0;36mcheck_call\u001b[0;34m(*popenargs, **kwargs)\u001b[0m\n\u001b[1;32m    290\u001b[0m             \u001b[0mcmd\u001b[0m \u001b[0;34m=\u001b[0m \u001b[0mpopenargs\u001b[0m\u001b[0;34m[\u001b[0m\u001b[0;36m0\u001b[0m\u001b[0;34m]\u001b[0m\u001b[0;34m\u001b[0m\u001b[0m\n\u001b[0;32m--> 291\u001b[0;31m         \u001b[0;32mraise\u001b[0m \u001b[0mCalledProcessError\u001b[0m\u001b[0;34m(\u001b[0m\u001b[0mretcode\u001b[0m\u001b[0;34m,\u001b[0m \u001b[0mcmd\u001b[0m\u001b[0;34m)\u001b[0m\u001b[0;34m\u001b[0m\u001b[0m\n\u001b[0m\u001b[1;32m    292\u001b[0m     \u001b[0;32mreturn\u001b[0m \u001b[0;36m0\u001b[0m\u001b[0;34m\u001b[0m\u001b[0m\n",
      "\u001b[0;31mCalledProcessError\u001b[0m: Command 'docker version' returned non-zero exit status 1.",
      "\nDuring handling of the above exception, another exception occurred:\n",
      "\u001b[0;31mImportError\u001b[0m                               Traceback (most recent call last)",
      "\u001b[0;32m<ipython-input-43-6568daee6127>\u001b[0m in \u001b[0;36m<module>\u001b[0;34m()\u001b[0m\n\u001b[0;32m----> 1\u001b[0;31m \u001b[0;32mimport\u001b[0m \u001b[0mcloudknot\u001b[0m \u001b[0;32mas\u001b[0m \u001b[0mck\u001b[0m\u001b[0;34m\u001b[0m\u001b[0m\n\u001b[0m",
      "\u001b[0;32m~/miniconda3/lib/python3.6/site-packages/cloudknot/__init__.py\u001b[0m in \u001b[0;36m<module>\u001b[0;34m()\u001b[0m\n\u001b[1;32m     25\u001b[0m \u001b[0;32mexcept\u001b[0m \u001b[0msubprocess\u001b[0m\u001b[0;34m.\u001b[0m\u001b[0mCalledProcessError\u001b[0m\u001b[0;34m:\u001b[0m\u001b[0;34m\u001b[0m\u001b[0m\n\u001b[1;32m     26\u001b[0m     raise ImportError(\n\u001b[0;32m---> 27\u001b[0;31m         \u001b[0;34m\"It looks like you don't have Docker installed or running. Please go \"\u001b[0m\u001b[0;34m\u001b[0m\u001b[0m\n\u001b[0m\u001b[1;32m     28\u001b[0m         \u001b[0;34m\"to https://docs.docker.com/engine/installation/ to install it. Once \"\u001b[0m\u001b[0;34m\u001b[0m\u001b[0m\n\u001b[1;32m     29\u001b[0m         \u001b[0;34m\"installed, make sure that the Docker daemon is running before using \"\u001b[0m\u001b[0;34m\u001b[0m\u001b[0m\n",
      "\u001b[0;31mImportError\u001b[0m: It looks like you don't have Docker installed or running. Please go to https://docs.docker.com/engine/installation/ to install it. Once installed, make sure that the Docker daemon is running before using cloudknot."
     ]
    }
   ],
   "source": [
    "import cloudknot as ck"
   ]
  },
  {
   "cell_type": "code",
   "execution_count": null,
   "metadata": {},
   "outputs": [],
   "source": []
  }
 ],
 "metadata": {
  "kernelspec": {
   "display_name": "Python 3",
   "language": "python",
   "name": "python3"
  },
  "language_info": {
   "codemirror_mode": {
    "name": "ipython",
    "version": 3
   },
   "file_extension": ".py",
   "mimetype": "text/x-python",
   "name": "python",
   "nbconvert_exporter": "python",
   "pygments_lexer": "ipython3",
   "version": "3.6.3"
  }
 },
 "nbformat": 4,
 "nbformat_minor": 2
}
