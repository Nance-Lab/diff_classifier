{
 "cells": [
  {
   "cell_type": "code",
   "execution_count": 1,
   "metadata": {},
   "outputs": [],
   "source": [
    "import os\n",
    "import diff_classifier.imagej as ij\n",
    "import boto3\n",
    "import time\n",
    "import os.path as op"
   ]
  },
  {
   "cell_type": "code",
   "execution_count": null,
   "metadata": {},
   "outputs": [],
   "source": [
    "def download_s3(remote_fname, local_fname, bucket_name=\"ccurtis7.pup\"):\n",
    "    \"\"\"\n",
    "    Download a file from S3 to our local file-system\n",
    "    \"\"\"\n",
    "    if not os.path.exists(local_fname):\n",
    "        s3 = boto3.resource('s3')\n",
    "        b = s3.Bucket(bucket_name)\n",
    "        b.download_file(remote_fname, local_fname) "
   ]
  },
  {
   "cell_type": "code",
   "execution_count": null,
   "metadata": {},
   "outputs": [],
   "source": [
    "def upload_s3(local_fname, remote_fname, bucket_name=\"ccurtis7.pup\"):\n",
    "    \n",
    "    s3 = boto3.resource('s3')\n",
    "    b = s3.Bucket(bucket_name)\n",
    "    b.upload_file(local_fname, remote_fname) "
   ]
  },
  {
   "cell_type": "code",
   "execution_count": null,
   "metadata": {},
   "outputs": [],
   "source": [
    "remote_dir = '01_18_Experiment/'\n",
    "remote_name = 'P1_S1_L_0000.tif'\n",
    "local_dir = '/home/ubuntu/data/'\n",
    "local_name = local_dir + remote_name\n",
    "\n",
    "#download_s3(remote_dir + remote_name, local_name)"
   ]
  },
  {
   "cell_type": "code",
   "execution_count": null,
   "metadata": {},
   "outputs": [],
   "source": [
    "names = ij.partition_im(local_name)"
   ]
  },
  {
   "cell_type": "code",
   "execution_count": null,
   "metadata": {},
   "outputs": [],
   "source": [
    "for file in names:\n",
    "    upload_s3(file, remote_dir + op.split(file)[1])"
   ]
  },
  {
   "cell_type": "code",
   "execution_count": null,
   "metadata": {},
   "outputs": [],
   "source": [
    "dire, fil = op.split(file)\n",
    "op.join(dire, fil)"
   ]
  },
  {
   "cell_type": "code",
   "execution_count": null,
   "metadata": {},
   "outputs": [],
   "source": [
    "def partition_and_store(remote_fname, local_dir, bucket_name=\"ccurtis7.pup\"):\n",
    "    \n",
    "    remote_dir, remote_file = op.split(remote_fname)\n",
    "    download_s3(remote_fname, op.join(local_dir, remote_file))\n",
    "    names = ij.partition_im(op.join(local_dir, remote_file))\n",
    "    \n",
    "    remote_names = []\n",
    "    for file in names:\n",
    "        local_file = op.split(file)[1]\n",
    "        upload_s3(op.join(local_dir, local_file), op.join(remote_dir, local_file))\n",
    "        remote_names.append(op.join(remote_dir, local_file))\n",
    "    return remote_names"
   ]
  },
  {
   "cell_type": "code",
   "execution_count": null,
   "metadata": {},
   "outputs": [],
   "source": [
    "aws_partition_im(remote_dir+remote_name, '/home/ubuntu/data')"
   ]
  },
  {
   "cell_type": "code",
   "execution_count": null,
   "metadata": {},
   "outputs": [],
   "source": [
    "import cloudknot as ck"
   ]
  },
  {
   "cell_type": "code",
   "execution_count": null,
   "metadata": {},
   "outputs": [],
   "source": []
  }
 ],
 "metadata": {
  "kernelspec": {
   "display_name": "Python 2",
   "language": "python",
   "name": "python2"
  },
  "language_info": {
   "codemirror_mode": {
    "name": "ipython",
    "version": 2
   },
   "file_extension": ".py",
   "mimetype": "text/x-python",
   "name": "python",
   "nbconvert_exporter": "python",
   "pygments_lexer": "ipython2",
   "version": "2.7.12"
  }
 },
 "nbformat": 4,
 "nbformat_minor": 2
}
