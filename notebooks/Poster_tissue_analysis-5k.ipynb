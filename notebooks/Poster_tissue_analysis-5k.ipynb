{
 "cells": [
  {
   "cell_type": "code",
   "execution_count": null,
   "metadata": {},
   "outputs": [],
   "source": [
    "import numpy as np\n",
    "import numpy.ma as ma\n",
    "import pandas as pd\n",
    "import scipy.stats as stat\n",
    "import random\n",
    "import diff_classifier.aws as aws\n",
    "import diff_classifier.msd as msd\n",
    "from diff_classifier.msd import binning, precision_weight, precision_averaging, plot_all_experiments\n",
    "import matplotlib.pyplot as plt\n",
    "from matplotlib.pyplot import cm"
   ]
  },
  {
   "cell_type": "code",
   "execution_count": null,
   "metadata": {},
   "outputs": [],
   "source": [
    "folder = '06_20_18_5k_10k_PEG_agarose'\n",
    "bucket = 'dtoghani.data'\n",
    "experiment = '5k_PEG' #Used for naming purposes. Should exclude XY and well information\n",
    "\n",
    "vids = 5\n",
    "to_track = []\n",
    "wells = 4\n",
    "frames = 651\n",
    "fps = 100.02"
   ]
  },
  {
   "cell_type": "code",
   "execution_count": null,
   "metadata": {},
   "outputs": [],
   "source": [
    "for i in range(1, 21): \n",
    "    to_track.append('100nm_5k_PEG_XY{}'.format('%02d' % i)) #As per usual, use for loops to include all experiments"
   ]
  },
  {
   "cell_type": "code",
   "execution_count": null,
   "metadata": {},
   "outputs": [],
   "source": [
    "to_track"
   ]
  },
  {
   "cell_type": "code",
   "execution_count": null,
   "metadata": {},
   "outputs": [],
   "source": [
    "slices, bins, well_names = binning(to_track)\n",
    "geoM2xy = {}\n",
    "gSEM = {}\n",
    "for sample_name in to_track:\n",
    "    #aws.download_s3('{}/geomean_{}.csv'.format(folder, sample_name), 'geomean_{}.csv'.format(sample_name), bucket_name=bucket)\n",
    "    #aws.download_s3('{}/geoSEM_{}.csv'.format(folder, sample_name), 'geoSEM_{}.csv'.format(sample_name), bucket_name=bucket)\n",
    "    #geoM2xy[sample_name] = np.genfromtxt('geomean_{}.csv'.format(sample_name))\n",
    "    #gSEM[sample_name] = np.genfromtxt('geoSEM_{}.csv'.format(sample_name))\n",
    "    print(sample_name)\n",
    "    msd_f = 'msd_{}.csv'.format(sample_name)\n",
    "    aws.download_s3('{}/{}'.format(folder, msd_f), msd_f, bucket_name=bucket)\n",
    "    try:\n",
    "        geoM2xy[sample_name], gSEM[sample_name] = msd.gavg_MSDs(sample_name, umppx=0.16, fps=100.02,\n",
    "                                                                upload=True, remote_folder=folder, bucket=bucket)\n",
    "    except:\n",
    "        geoM2xy[sample_name], gSEM[sample_name] = (np.nan*np.ones(frames), np.nan*np.ones(frames))"
   ]
  },
  {
   "cell_type": "code",
   "execution_count": null,
   "metadata": {},
   "outputs": [],
   "source": [
    "geoM2xy"
   ]
  },
  {
   "cell_type": "code",
   "execution_count": null,
   "metadata": {},
   "outputs": [],
   "source": [
    "weights = precision_weight(to_track, gSEM)\n",
    "geo, gS = precision_averaging(to_track, geoM2xy, gSEM, weights, bucket=bucket, folder=folder, experiment=experiment)"
   ]
  },
  {
   "cell_type": "code",
   "execution_count": null,
   "metadata": {},
   "outputs": [],
   "source": [
    "geo_slices = {}\n",
    "gSEM_slices = {}\n",
    "\n",
    "w_slices = {}\n",
    "wo_slices = {}\n",
    "\n",
    "for key in bins:\n",
    "    wo_slices[key] = precision_weight(bins[key], gSEM)\n",
    "    geo_slices[key], gSEM_slices[key] = precision_averaging(bins[key], geoM2xy, gSEM, wo_slices[key]) \n",
    "\n",
    "weights = precision_weight(well_names, gSEM_slices)\n",
    "geo, gS = precision_averaging(well_names, geo_slices, gSEM_slices, weights, bucket=bucket, folder=folder, experiment=experiment)"
   ]
  },
  {
   "cell_type": "code",
   "execution_count": null,
   "metadata": {},
   "outputs": [],
   "source": [
    "#Plot as desired. Can also modift to include multiple datasets as needed. Yay!\n",
    "\n",
    "fig = plt.figure(figsize=(8.5, 8.5))\n",
    "y_range = 1\n",
    "plt.xlim(10**-2, 10**0)\n",
    "#plt.ylim(0, y_range)\n",
    "\n",
    "x = np.linspace(0, frames-1, frames)/fps\n",
    "\n",
    "plt.loglog(x, np.exp(geo), 'k', linewidth=4)\n",
    "plt.loglog(x, np.exp(geo - 1.96*gS), 'k--', linewidth=2)\n",
    "plt.loglog(x, np.exp(geo + 1.96*gS), 'k--', linewidth=2)\n",
    "\n",
    "plt.xlabel('Tau (s)', fontsize=25)\n",
    "plt.ylabel(r'Mean Squared Displacement ($\\mu$m$^2$/s)', fontsize=25)"
   ]
  },
  {
   "cell_type": "code",
   "execution_count": null,
   "metadata": {},
   "outputs": [],
   "source": [
    "to_plot_f = ['tissue', 'tissue']\n",
    "plot_all_experiments(to_plot_f, bucket=bucket, folder=folder, yr=(10**-2, 10**0))"
   ]
  },
  {
   "cell_type": "code",
   "execution_count": null,
   "metadata": {},
   "outputs": [],
   "source": []
  }
 ],
 "metadata": {
  "kernelspec": {
   "display_name": "Python 3",
   "language": "python",
   "name": "python3"
  },
  "language_info": {
   "codemirror_mode": {
    "name": "ipython",
    "version": 3
   },
   "file_extension": ".py",
   "mimetype": "text/x-python",
   "name": "python",
   "nbconvert_exporter": "python",
   "pygments_lexer": "ipython3",
   "version": "3.6.3"
  }
 },
 "nbformat": 4,
 "nbformat_minor": 2
}
