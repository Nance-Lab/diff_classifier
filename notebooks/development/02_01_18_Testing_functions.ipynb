{
 "cells": [
  {
   "cell_type": "code",
   "execution_count": 1,
   "metadata": {},
   "outputs": [],
   "source": [
    "import diff_classifier.features as ft\n",
    "from diff_classifier.msd import all_msds, nth_diff, msd_calc\n",
    "import numpy.testing as npt\n",
    "import pandas.util.testing as pdt\n",
    "import numpy as np\n",
    "import pandas as pd\n",
    "import math"
   ]
  },
  {
   "cell_type": "code",
   "execution_count": 14,
   "metadata": {},
   "outputs": [],
   "source": [
    "frames = 10\n",
    "d = {'Frame': np.linspace(1, frames, frames),\n",
    "     'X': np.linspace(1, frames, frames)+5,\n",
    "     'Y': np.linspace(1, frames, frames)+3}\n",
    "df = pd.DataFrame(data=d)\n",
    "df['MSDs'], df['Gauss'] = msd_calc(df)\n",
    "assert ft.boundedness(df) == (1.0, 1.0, 0.0453113379707355)"
   ]
  },
  {
   "cell_type": "code",
   "execution_count": 16,
   "metadata": {},
   "outputs": [
    {
     "data": {
      "text/plain": [
       "(0.9603705868989502, 2.7476524601589434, 0.03576118370932313)"
      ]
     },
     "execution_count": 16,
     "metadata": {},
     "output_type": "execute_result"
    }
   ],
   "source": [
    "ft.boundedness(df)"
   ]
  },
  {
   "cell_type": "code",
   "execution_count": 17,
   "metadata": {},
   "outputs": [],
   "source": [
    "frames = 10\n",
    "d = {'Frame': np.linspace(1, frames, frames),\n",
    "     'X': np.sin(np.linspace(1, frames, frames)+3),\n",
    "     'Y': np.cos(np.linspace(1, frames, frames)+3)}\n",
    "df = pd.DataFrame(data=d)\n",
    "df['MSDs'], df['Gauss'] = msd_calc(df)\n",
    "assert ft.boundedness(df) == (0.9603705868989502, 2.7476524601589434, 0.03576118370932313)"
   ]
  },
  {
   "cell_type": "code",
   "execution_count": null,
   "metadata": {},
   "outputs": [],
   "source": []
  }
 ],
 "metadata": {
  "kernelspec": {
   "display_name": "Python 3",
   "language": "python",
   "name": "python3"
  },
  "language_info": {
   "codemirror_mode": {
    "name": "ipython",
    "version": 3
   },
   "file_extension": ".py",
   "mimetype": "text/x-python",
   "name": "python",
   "nbconvert_exporter": "python",
   "pygments_lexer": "ipython3",
   "version": "3.6.3"
  }
 },
 "nbformat": 4,
 "nbformat_minor": 2
}
