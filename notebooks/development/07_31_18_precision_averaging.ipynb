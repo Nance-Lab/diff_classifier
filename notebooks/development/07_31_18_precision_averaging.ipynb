{
 "cells": [
  {
   "cell_type": "code",
   "execution_count": 1,
   "metadata": {},
   "outputs": [],
   "source": [
    "import numpy as np\n",
    "import numpy.ma as ma\n",
    "import pandas as pd\n",
    "import scipy.stats as stat\n",
    "import random\n",
    "import diff_classifier.aws as aws\n",
    "import diff_classifier.msd as msd\n",
    "import matplotlib.pyplot as plt"
   ]
  },
  {
   "cell_type": "code",
   "execution_count": 2,
   "metadata": {},
   "outputs": [],
   "source": [
    "folder = '06_20_18_5k_10k_PEG_agarose'\n",
    "bucket = 'dtoghani.data'\n",
    "experiment = '100nm_5k_PEG'\n",
    "\n",
    "vids = 20\n",
    "to_track = []\n",
    "wells = 4\n",
    "frames = 651\n",
    "fps = 100.02\n",
    "bins = {}\n",
    "\n",
    "for num in range(1, vids+1):\n",
    "    to_track.append('100nm_5k_PEG_XY{}'.format('%02d' % num))\n",
    "for num in range(0, wells):\n",
    "    slices = int(vids/wells)\n",
    "    s1 = num*slices\n",
    "    s2 = (num+1)*(slices)\n",
    "    pref = '100nm_5k_PEG_W{}'.format(num)\n",
    "    bins[pref] = to_track[s1:s2]"
   ]
  },
  {
   "cell_type": "code",
   "execution_count": null,
   "metadata": {},
   "outputs": [],
   "source": [
    "# for prefix in to_track:\n",
    "#     aws.download_s3('{}/msd_{}.csv'.format(folder, prefix), 'msd_{}.csv'.format(prefix), bucket_name=bucket)\n",
    "#     msd.gavg_MSDs(prefix, remote_folder=folder, bucket=bucket)"
   ]
  },
  {
   "cell_type": "code",
   "execution_count": 3,
   "metadata": {},
   "outputs": [],
   "source": [
    "geoM2xy = {}\n",
    "gSEM = {}\n",
    "SM2xy = {}\n",
    "npar = {}"
   ]
  },
  {
   "cell_type": "code",
   "execution_count": 4,
   "metadata": {},
   "outputs": [],
   "source": [
    "#Load geometrically averaged datasets and prep for averaging.\n",
    "\n",
    "for sample_name in to_track:\n",
    "    aws.download_s3('{}/geomean_{}.csv'.format(folder, sample_name), 'geomean_{}.csv'.format(sample_name), bucket_name=bucket)\n",
    "    aws.download_s3('{}/geoSEM_{}.csv'.format(folder, sample_name), 'geoSEM_{}.csv'.format(sample_name), bucket_name=bucket)\n",
    "    geoM2xy[sample_name] = np.genfromtxt('geomean_{}.csv'.format(sample_name))\n",
    "    gSEM[sample_name] = np.genfromtxt('geoSEM_{}.csv'.format(sample_name))"
   ]
  },
  {
   "cell_type": "code",
   "execution_count": null,
   "metadata": {},
   "outputs": [],
   "source": [
    "test = {}\n",
    "for key in geoM2xy:\n",
    "    test[key] = geoM2xy[key] - gSEM[key]\n",
    "\n",
    "test"
   ]
  },
  {
   "cell_type": "code",
   "execution_count": null,
   "metadata": {},
   "outputs": [],
   "source": [
    "# geo_slices = {}\n",
    "# gSEM_slices = {}\n",
    "# w_slices = {}\n",
    "# wo_slices = {}\n",
    "\n",
    "# for channel in channels:\n",
    "#     for surface_functionality in surface_functionalities:\n",
    "#         slice_counter = 0\n",
    "#         for slic in slices:\n",
    "#             video_counter = 0\n",
    "#             w_holder = np.zeros((nvids, frames))\n",
    "#             sample_name = \"{}_{}_{}_{}\".format(channel, surface_functionality, cond, slic)\n",
    "#             for key in geoM2xy:\n",
    "#                 if sample_name in key:\n",
    "#                     w_holder[video_counter, :] = 1/(gSEM[key]*gSEM[key])\n",
    "#                     video_counter = video_counter + 1\n",
    "#             wo_slices[sample_name] = np.sum(w_holder, axis=0)\n",
    "#             slice_counter = slice_counter + 1"
   ]
  },
  {
   "cell_type": "markdown",
   "metadata": {},
   "source": [
    "# Average over videos in each well"
   ]
  },
  {
   "cell_type": "code",
   "execution_count": 5,
   "metadata": {},
   "outputs": [
    {
     "name": "stderr",
     "output_type": "stream",
     "text": [
      "/home/ubuntu/miniconda3/lib/python3.6/site-packages/ipykernel_launcher.py:13: RuntimeWarning: divide by zero encountered in true_divide\n",
      "  del sys.path[0]\n"
     ]
    }
   ],
   "source": [
    "#Average over videos in each well.\n",
    "\n",
    "geo_slices = {}\n",
    "gSEM_slices = {}\n",
    "w_slices = {}\n",
    "wo_slices = {}\n",
    "\n",
    "for key in bins:\n",
    "    video_counter = 0\n",
    "    w_holder = np.zeros((slices, frames))\n",
    "    for sample in bins[key]:\n",
    "        #print(sample)\n",
    "        w_holder[video_counter, :] = 1/(gSEM[sample]*gSEM[sample])\n",
    "        video_counter = video_counter + 1\n",
    "    wo_slices[key] = np.sum(w_holder, axis=0)"
   ]
  },
  {
   "cell_type": "code",
   "execution_count": 6,
   "metadata": {},
   "outputs": [
    {
     "name": "stdout",
     "output_type": "stream",
     "text": [
      "128943.192474\n",
      "203716.117872\n",
      "19253.947725\n",
      "73782.6635236\n"
     ]
    }
   ],
   "source": [
    "for key in bins:\n",
    "    print(np.mean(wo_slices[key][1:50]))"
   ]
  },
  {
   "cell_type": "code",
   "execution_count": null,
   "metadata": {},
   "outputs": [],
   "source": [
    "# #Calculate the weights SEMs and means over videos\n",
    "# #Remember to use alternate if not wanting to use precision weights at this level.\n",
    "# for channel in channels:\n",
    "#     for surface_functionality in surface_functionalities:\n",
    "#         slice_counter = 0\n",
    "#         for slic in slices:\n",
    "#             geo_holder = np.zeros((nvids, frames))\n",
    "#             gSEM_holder = np.zeros((nvids, frames))\n",
    "#             w_holder = np.zeros((nvids, frames))\n",
    "#             video_counter = 0\n",
    "#             sample_name = \"{}_{}_{}_{}\".format(channel, surface_functionality, cond, slic)\n",
    "#             for key in geoM2xy:\n",
    "#                 if sample_name in key:\n",
    "#                     w_holder[video_counter, :] = (1/(gSEM[key]*gSEM[key]))/wo_slices[sample_name]\n",
    "#                     geo_holder[video_counter, :] = w_holder[video_counter, :] * geoM2xy[key]\n",
    "#                     gSEM_holder[video_counter, :] = (1/(gSEM[key]*gSEM[key]))\n",
    "#                     video_counter = video_counter + 1\n",
    "#             geo_slices[sample_name] = np.sum(geo_holder, axis=0)\n",
    "#             gSEM_slices[sample_name] = np.sqrt((1/np.sum(gSEM_holder, axis=0)))\n",
    "#             slice_counter = slice_counter + 1"
   ]
  },
  {
   "cell_type": "code",
   "execution_count": 7,
   "metadata": {},
   "outputs": [
    {
     "name": "stderr",
     "output_type": "stream",
     "text": [
      "/home/ubuntu/miniconda3/lib/python3.6/site-packages/ipykernel_launcher.py:7: RuntimeWarning: divide by zero encountered in true_divide\n",
      "  import sys\n",
      "/home/ubuntu/miniconda3/lib/python3.6/site-packages/ipykernel_launcher.py:7: RuntimeWarning: invalid value encountered in true_divide\n",
      "  import sys\n",
      "/home/ubuntu/miniconda3/lib/python3.6/site-packages/ipykernel_launcher.py:9: RuntimeWarning: divide by zero encountered in true_divide\n",
      "  if __name__ == '__main__':\n"
     ]
    }
   ],
   "source": [
    "for key in bins:\n",
    "    video_counter = 0\n",
    "    geo_holder = np.zeros((slices, frames))\n",
    "    gSEM_holder = np.zeros((slices, frames))\n",
    "    w_holder = np.zeros((slices, frames))\n",
    "    for sample in bins[key]:\n",
    "        w_holder[video_counter, :] = (1/(gSEM[sample]*gSEM[sample]))/wo_slices[key]\n",
    "        geo_holder[video_counter, :] = w_holder[video_counter, :] * geoM2xy[sample]\n",
    "        gSEM_holder[video_counter, :] = (1/(gSEM[sample]*gSEM[sample]))\n",
    "        video_counter = video_counter + 1\n",
    "    geo_slices[key] = np.sum(geo_holder, axis=0)\n",
    "    gSEM_slices[key] = np.sqrt((1/np.sum(gSEM_holder, axis=0)))"
   ]
  },
  {
   "cell_type": "code",
   "execution_count": null,
   "metadata": {},
   "outputs": [],
   "source": [
    "for key in bins:\n",
    "    test = []\n",
    "    counter = 0\n",
    "    for sample in bins[key]:\n",
    "        print(sample)\n",
    "        #print(1/gSEM[sample][2])\n",
    "        test.append((1/(gSEM[sample][2]*gSEM[sample][2]))/wo_slices[key][2])\n",
    "        print('fraction is {}'.format(test[counter]))\n",
    "        counter = counter + 1\n",
    "    print('Check sums to 1: {}'.format(np.sum(test)))"
   ]
  },
  {
   "cell_type": "code",
   "execution_count": null,
   "metadata": {},
   "outputs": [],
   "source": [
    "test = {}\n",
    "\n",
    "for key in geo_slices:\n",
    "    test[key] = np.exp(geo_slices[key])\n",
    "\n",
    "test"
   ]
  },
  {
   "cell_type": "markdown",
   "metadata": {},
   "source": [
    "# Average over wells"
   ]
  },
  {
   "cell_type": "code",
   "execution_count": null,
   "metadata": {},
   "outputs": [],
   "source": [
    "# geo = {}\n",
    "# gS = {}\n",
    "# w_slices = {}\n",
    "# wo_slices = {}\n",
    "\n",
    "# for channel in channels:\n",
    "#     counter = 0\n",
    "#     for surface_functionality in surface_functionalities:\n",
    "#         w_holder = np.zeros((nslices, frames))\n",
    "#         slice_counter = 0\n",
    "#         sample_name = \"{}_{}_{}\".format(channel, surface_functionality, cond)\n",
    "#         for key in geo_slices:\n",
    "#             if sample_name in key:\n",
    "#                 w_holder[slice_counter, :] = 1/(gSEM_slices[key]*gSEM_slices[key])\n",
    "#                 slice_counter = slice_counter + 1\n",
    "#         wo_slices[sample_name] = np.sum(w_holder, axis=0)\n",
    "#         counter = counter + 1"
   ]
  },
  {
   "cell_type": "code",
   "execution_count": 8,
   "metadata": {},
   "outputs": [
    {
     "name": "stderr",
     "output_type": "stream",
     "text": [
      "/home/ubuntu/miniconda3/lib/python3.6/site-packages/ipykernel_launcher.py:9: RuntimeWarning: divide by zero encountered in true_divide\n",
      "  if __name__ == '__main__':\n"
     ]
    }
   ],
   "source": [
    "geo = {}\n",
    "gS = {}\n",
    "w_slices = {}\n",
    "wo_slices = {}\n",
    "\n",
    "counter = 0\n",
    "w_holder = np.zeros((wells, frames))\n",
    "for key in bins:\n",
    "    w_holder[counter, :] = 1/(gSEM_slices[key]*gSEM_slices[key])\n",
    "    counter = counter + 1\n",
    "wo_slices = np.sum(w_holder, axis=0)"
   ]
  },
  {
   "cell_type": "code",
   "execution_count": null,
   "metadata": {},
   "outputs": [],
   "source": [
    "# #Calculate the weights SEMs and means over slices\n",
    "# for channel in channels:\n",
    "#     counter = 0\n",
    "#     for surface_functionality in surface_functionalities:\n",
    "#         geo_holder = np.zeros((nslices, frames))\n",
    "#         gSEM_holder = np.zeros((nslices, frames))\n",
    "#         w_holder = np.zeros((nslices, frames))\n",
    "#         slice_counter = 0\n",
    "#         sample_name = \"{}_{}_{}\".format(channel, surface_functionality, cond)\n",
    "#         for key in geo_slices:\n",
    "#             if sample_name in key:\n",
    "#                 w_holder[slice_counter, :] = (1/(gSEM_slices[key]*gSEM_slices[key]))/wo_slices[sample_name]\n",
    "#                 geo_holder[slice_counter, :] = w_holder[slice_counter, :] * geo_slices[key]\n",
    "#                 gSEM_holder[slice_counter, :] = (1/(gSEM_slices[key]*gSEM_slices[key]))\n",
    "#                 slice_counter = slice_counter + 1\n",
    "#         geo[sample_name] = np.sum(geo_holder, axis=0)\n",
    "#         gS[sample_name] = np.sqrt((1/np.sum(gSEM_holder, axis=0)))\n",
    "#         counter = counter + 1"
   ]
  },
  {
   "cell_type": "code",
   "execution_count": 10,
   "metadata": {},
   "outputs": [
    {
     "name": "stderr",
     "output_type": "stream",
     "text": [
      "/home/ubuntu/miniconda3/lib/python3.6/site-packages/ipykernel_launcher.py:7: RuntimeWarning: divide by zero encountered in true_divide\n",
      "  import sys\n",
      "/home/ubuntu/miniconda3/lib/python3.6/site-packages/ipykernel_launcher.py:7: RuntimeWarning: invalid value encountered in true_divide\n",
      "  import sys\n",
      "/home/ubuntu/miniconda3/lib/python3.6/site-packages/ipykernel_launcher.py:9: RuntimeWarning: divide by zero encountered in true_divide\n",
      "  if __name__ == '__main__':\n"
     ]
    }
   ],
   "source": [
    "counter = 0\n",
    "geo_holder = np.zeros((wells, frames))\n",
    "gSEM_holder = np.zeros((wells, frames))\n",
    "w_holder = np.zeros((wells, frames))\n",
    "\n",
    "for key in bins:\n",
    "    w_holder[counter, :] = (1/(gSEM_slices[key]*gSEM_slices[key]))/wo_slices\n",
    "    geo_holder[counter, :] = w_holder[counter, :]*geo_slices[key]\n",
    "    gSEM_holder[counter, :] = (1/(gSEM_slices[key]*gSEM_slices[key]))\n",
    "    counter = counter + 1\n",
    "\n",
    "geo = np.sum(geo_holder, axis=0)\n",
    "gS = np.sqrt((1/np.sum(gSEM_holder, axis=0)))\n"
   ]
  },
  {
   "cell_type": "code",
   "execution_count": 14,
   "metadata": {},
   "outputs": [
    {
     "data": {
      "text/plain": [
       "array([        nan, -2.35054586, -1.72150687, -1.36402411, -1.1159712 ,\n",
       "       -0.92603567, -0.77475833, -0.6481811 , -0.54051337, -0.44738224,\n",
       "       -0.36582132, -0.29363697, -0.22913055, -0.17102906, -0.11876397,\n",
       "       -0.07064117, -0.02671927,  0.01341969,  0.04999819,  0.08301761,\n",
       "        0.11043016,  0.15255959,  0.19327305,  0.23064779,  0.26592927,\n",
       "        0.30084976,  0.33454978,  0.36749107,  0.39717134,  0.42675297,\n",
       "        0.45520133,  0.48326807,  0.50895464,  0.53524647,  0.5592659 ,\n",
       "        0.58247724,  0.60606977,  0.62713773,  0.64879338,  0.66951673,\n",
       "        0.69089124,  0.70979737,  0.72962107,  0.74667526,  0.76559356,\n",
       "        0.78469839,  0.80020518,  0.81852813,  0.83605334,  0.85423461,\n",
       "        0.87024747,  0.88819539,  0.89915674,  0.91502774,  0.93047745,\n",
       "        0.94406772,  0.95515848,  0.96897423,  0.97988218,  0.99141649,\n",
       "        1.0022198 ,  1.01494659,  1.02463119,  1.03706588,  1.04985368,\n",
       "        1.06223389,  1.06949283,  1.08031712,  1.09068053,  1.09994697,\n",
       "        1.11228826,  1.12665484,  1.13387401,  1.14298487,  1.15214244,\n",
       "        1.16336859,  1.17337661,  1.18625114,  1.19137299,  1.19667516,\n",
       "        1.20789894,  1.21583104,  1.22250839,  1.23063485,  1.23856658,\n",
       "        1.24378045,  1.25107647,  1.25838114,  1.26119965,  1.2691218 ,\n",
       "        1.27698321,  1.27953294,  1.28537851,  1.29136947,  1.30060324,\n",
       "        1.30621646,  1.30828074,  1.30972738,  1.31266881,  1.31982438,\n",
       "        1.32807862,  1.33076385,  1.33439126,  1.33935946,  1.34498265,\n",
       "        1.3529042 ,  1.35259529,  1.35976528,  1.36181519,  1.36714709,\n",
       "        1.37690738,  1.37916893,  1.37718977,  1.37861817,  1.38392463,\n",
       "        1.38747163,  1.38976671,  1.39789673,  1.39937171,  1.40341877,\n",
       "        1.41297942,  1.41511455,  1.41294119,  1.41339616,  1.41541974,\n",
       "        1.41452703,  1.41082579,  1.415128  ,  1.41158116,  1.41176746,\n",
       "        1.41874815,  1.4101297 ,  1.41612085,  1.41028833,  1.40933721,\n",
       "        1.41276958,  1.41040589,  1.4019644 ,  1.39333576,  1.39725897,\n",
       "        1.39738957,  1.40198667,  1.396355  ,  1.39487933,  1.38682844,\n",
       "        1.39215413,  1.39410476,  1.38251019,  1.37094502,  1.37515715,\n",
       "        1.37660419,  1.36340258,  1.36596784,  1.3735453 ,  1.37838363,\n",
       "        1.37044931,  1.3738738 ,  1.36013412,  1.34608744,  1.34182187,\n",
       "        1.36354201,  1.37299656,  1.40101694,  1.40254365,  1.39775649,\n",
       "        1.39783427,  1.38567035,  1.37279771,  1.36255103,  1.35747599,\n",
       "        1.35628296,  1.34764086,  1.35277126,  1.34625795,  1.35038076,\n",
       "        1.3379059 ,  1.33721676,  1.33448535,  1.33150128,  1.31544048,\n",
       "        1.31689331,  1.31381192,  1.29846569,  1.28286993,  1.28141611,\n",
       "        1.27381655,  1.25862209,  1.24395599,  1.22870484,  1.2236803 ,\n",
       "        1.20001   ,  1.18664015,  1.1706967 ,  1.15557094,  1.13334434,\n",
       "        1.11447541,  1.0929446 ,  1.06376732,  1.04297064,  1.02372733,\n",
       "        1.01770696,  1.00030123,  0.98316083,  1.0057967 ,  0.98725485,\n",
       "        0.9723618 ,  0.94088074,  0.92792515,  0.91137539,  0.89783735,\n",
       "        0.89720721,  0.88910499,  0.8905259 ,  0.87416231,  0.85720336,\n",
       "        0.85275789,  0.86071268,  0.83000881,  0.82020296,  0.81154973,\n",
       "        0.76995198,  0.77845507,  0.77587176,  0.80139864,  0.81101544,\n",
       "        0.78018933,  0.7649059 ,  0.73910643,  0.73569476,  0.72179649,\n",
       "        0.68190898,  0.66554827,  0.66294825,  0.6381095 ,  0.65073984,\n",
       "        0.62486873,  0.64074786,  0.64843081,  0.61769053,  0.57011431,\n",
       "        0.56004577,  0.5283977 ,  0.50798403,  0.46587979,  0.43646828,\n",
       "        0.40943804,  0.35130682,  0.320541  ,  0.28261779,  0.26869979,\n",
       "        0.25650267,  0.23224294,  0.17598792,  0.12542179,  0.10369303,\n",
       "        0.08470036,  0.07801002,  0.05497   ,  0.07321503,  0.04128414,\n",
       "        0.05272204,  0.04772844,  0.19841817,  0.16304736,  0.16271124,\n",
       "        0.14453693,  0.11602031,  0.08677687,  0.07729558,  0.07627894,\n",
       "        0.01875064, -0.02595353, -0.11940071, -0.11097431, -0.08692094,\n",
       "       -0.09394032, -0.10075426, -0.10462402, -0.1418317 , -0.20491359,\n",
       "       -0.21855304, -0.23553478, -0.25193248, -0.27387776, -0.27614707,\n",
       "       -0.29531921, -0.33420262, -0.36425061, -0.36728143, -0.48833805,\n",
       "       -0.46996938, -0.52470529, -0.63736018, -0.68012   , -0.70993045,\n",
       "       -0.74318172, -0.71545016, -0.72995923, -0.89903954, -0.87954396,\n",
       "       -0.63056591, -0.620284  , -0.6433528 , -0.70926181, -0.74628327,\n",
       "       -0.79038164, -0.78921611, -0.77790026, -0.83601725, -0.97237392,\n",
       "       -0.84642063, -0.85527947, -0.97140217, -0.98103617, -0.99969763,\n",
       "       -0.98754345, -1.12184018, -1.10800283, -1.15878539, -1.16999591,\n",
       "       -1.20342174, -1.22938058, -1.37054401, -1.42362078, -1.44605353,\n",
       "       -1.49787944, -1.51958762, -1.59876384, -1.65227428, -1.67140158,\n",
       "       -1.68603327, -1.7066691 , -1.71786239, -1.74889032, -1.76354468,\n",
       "       -1.81139217, -1.82371375, -1.84324445, -1.89744787, -1.90233264,\n",
       "       -1.91161088, -1.92090084, -1.90966491, -2.04691675, -2.06699456,\n",
       "       -2.20015194, -2.34467328, -2.39721087, -2.41105098, -2.39872073,\n",
       "       -2.46754789, -2.50876218, -2.57776062, -2.58646698, -2.59982128,\n",
       "       -2.61781889, -2.89569007, -2.99878385, -2.9005455 , -2.84848153,\n",
       "       -3.08131829, -3.16175136, -3.22281781, -3.18953527, -3.17567192,\n",
       "       -3.26362661, -3.18177786, -3.24429487, -3.29116209, -3.26306954,\n",
       "       -3.29197509, -3.32757003, -3.28166348, -3.34435394, -3.3806226 ,\n",
       "       -3.60055768, -3.59785117, -3.60135045, -3.56250808, -3.66370018,\n",
       "       -3.67133668, -3.63832923, -3.60993283, -3.76136496, -3.75540442,\n",
       "       -3.70588495, -3.78269826, -3.76064481, -3.7434764 , -3.77779064,\n",
       "       -3.74595324, -3.72133336, -3.81100265, -3.84087964, -3.89698783,\n",
       "       -3.97755651, -3.87949966, -3.89855013, -3.9188893 , -3.88801985,\n",
       "       -3.79408722, -3.78693329, -3.84856453, -3.79460464, -3.91105424,\n",
       "       -3.85945606, -4.02786526, -3.99051777, -4.01439966, -3.89729237,\n",
       "       -3.98993704, -3.8873903 , -3.94057266, -3.88408156, -3.92491645,\n",
       "       -3.90080922, -3.95278879, -3.89271457, -3.9177108 , -3.94335974,\n",
       "       -3.94542134, -3.99224228, -3.98880712, -3.95737692, -3.91708185,\n",
       "       -4.04149779, -4.20233605, -3.86136936, -3.93277519, -4.0057124 ,\n",
       "       -4.00578724, -4.07572059, -4.02310584, -4.08538632, -4.04635399,\n",
       "       -4.03760691, -4.01527771, -4.01435093, -4.12606274, -4.23033046,\n",
       "       -4.24209826, -4.20669983, -4.14987751, -4.21719708, -4.17327879,\n",
       "       -4.19860865, -4.23097185, -4.25169752, -4.24120437, -4.28006691,\n",
       "       -4.24938047, -4.23862061, -4.25121391, -4.27716778, -4.22982773,\n",
       "       -4.23077393, -4.18865678, -4.1911613 , -4.19902593, -4.18604313,\n",
       "       -4.25927234, -4.20329571, -4.18576159, -4.16000377, -4.12055642,\n",
       "       -4.08654547, -4.04785152, -4.0340571 , -4.03251854, -3.96444233,\n",
       "       -3.8405631 , -3.76891132, -3.66327424, -3.60753962, -4.11551926,\n",
       "       -4.00873795, -3.96951941, -3.99429497, -3.94951992, -3.89150543,\n",
       "       -3.89523669, -3.79973656, -3.9985577 , -3.93824471, -4.13029026,\n",
       "       -4.19500466, -4.29406314, -4.34299622, -4.38840002,         nan,\n",
       "               nan,         nan,         nan,         nan,         nan,\n",
       "               nan,         nan,         nan,         nan,         nan,\n",
       "               nan,         nan,         nan,         nan,         nan,\n",
       "               nan,         nan,         nan,         nan,         nan,\n",
       "               nan,         nan,         nan,         nan,         nan,\n",
       "               nan,         nan,         nan,         nan,         nan,\n",
       "               nan,         nan,         nan,         nan,         nan,\n",
       "               nan,         nan,         nan,         nan,         nan,\n",
       "               nan,         nan,         nan,         nan,         nan,\n",
       "               nan,         nan,         nan,         nan,         nan,\n",
       "               nan,         nan,         nan,         nan,         nan,\n",
       "               nan,         nan,         nan,         nan,         nan,\n",
       "               nan,         nan,         nan,         nan,         nan,\n",
       "               nan,         nan,         nan,         nan,         nan,\n",
       "               nan,         nan,         nan,         nan,         nan,\n",
       "               nan,         nan,         nan,         nan,         nan,\n",
       "               nan,         nan,         nan,         nan,         nan,\n",
       "               nan,         nan,         nan,         nan,         nan,\n",
       "               nan,         nan,         nan,         nan,         nan,\n",
       "               nan,         nan,         nan,         nan,         nan,\n",
       "               nan,         nan,         nan,         nan,         nan,\n",
       "               nan,         nan,         nan,         nan,         nan,\n",
       "               nan,         nan,         nan,         nan,         nan,\n",
       "               nan,         nan,         nan,         nan,         nan,\n",
       "               nan,         nan,         nan,         nan,         nan,\n",
       "               nan,         nan,         nan,         nan,         nan,\n",
       "               nan,         nan,         nan,         nan,         nan,\n",
       "               nan,         nan,         nan,         nan,         nan,\n",
       "               nan,         nan,         nan,         nan,         nan,\n",
       "               nan,         nan,         nan,         nan,         nan,\n",
       "               nan,         nan,         nan,         nan,         nan,\n",
       "               nan,         nan,         nan,         nan,         nan,\n",
       "               nan])"
      ]
     },
     "execution_count": 14,
     "metadata": {},
     "output_type": "execute_result"
    }
   ],
   "source": [
    "geo"
   ]
  },
  {
   "cell_type": "code",
   "execution_count": 16,
   "metadata": {},
   "outputs": [
    {
     "data": {
      "text/plain": [
       "array([ 0.        ,  0.00063399,  0.0007135 ,  0.00079516,  0.00087317,\n",
       "        0.00094156,  0.00101151,  0.00107277,  0.00113359,  0.00119038,\n",
       "        0.0012464 ,  0.00129895,  0.00135259,  0.00140454,  0.0014579 ,\n",
       "        0.00150892,  0.00156   ,  0.00161275,  0.00166876,  0.00173202,\n",
       "        0.00181862,  0.00188534,  0.0019439 ,  0.00200739,  0.00207361,\n",
       "        0.00213794,  0.00220466,  0.0022735 ,  0.00234181,  0.00240857,\n",
       "        0.00247692,  0.00254663,  0.00261634,  0.00268984,  0.00276929,\n",
       "        0.00284514,  0.00292086,  0.0029986 ,  0.00306911,  0.00315093,\n",
       "        0.00323134,  0.00331802,  0.00339881,  0.00349013,  0.00357206,\n",
       "        0.003656  ,  0.00374972,  0.00383173,  0.00391393,  0.00399536,\n",
       "        0.0040942 ,  0.00417556,  0.00428607,  0.00437284,  0.00446211,\n",
       "        0.00457527,  0.0046853 ,  0.00478329,  0.00490754,  0.00501455,\n",
       "        0.00514755,  0.00523789,  0.00535435,  0.00546803,  0.00557753,\n",
       "        0.00569275,  0.00583378,  0.00596405,  0.00608815,  0.00620251,\n",
       "        0.00632401,  0.0064402 ,  0.00658371,  0.00669572,  0.0068414 ,\n",
       "        0.00695937,  0.00711476,  0.00723979,  0.00739766,  0.00755355,\n",
       "        0.00768232,  0.00784705,  0.00799087,  0.00817828,  0.00831105,\n",
       "        0.00849894,  0.00865521,  0.00881579,  0.0090069 ,  0.00912498,\n",
       "        0.00929522,  0.00950835,  0.00969426,  0.00986241,  0.01003168,\n",
       "        0.01022947,  0.01041605,  0.01064878,  0.01085114,  0.01104629,\n",
       "        0.01117677,  0.01143329,  0.01165108,  0.0118533 ,  0.01204499,\n",
       "        0.01223411,  0.01249434,  0.01268831,  0.01292079,  0.01316483,\n",
       "        0.01334819,  0.01359518,  0.01385783,  0.01415133,  0.01436005,\n",
       "        0.01461863,  0.01491294,  0.0150778 ,  0.01533649,  0.01559685,\n",
       "        0.01580777,  0.01605544,  0.01634302,  0.01665671,  0.01695526,\n",
       "        0.01724393,  0.01759638,  0.01785442,  0.01816969,  0.01845329,\n",
       "        0.01862898,  0.01903985,  0.01929895,  0.01965723,  0.0200596 ,\n",
       "        0.02030774,  0.02058556,  0.02099399,  0.02138361,  0.02158084,\n",
       "        0.02186247,  0.02216188,  0.02250365,  0.02286655,  0.02338988,\n",
       "        0.02357641,  0.02379261,  0.02432943,  0.02487591,  0.02515784,\n",
       "        0.0255107 ,  0.02605424,  0.02643962,  0.02674573,  0.02696804,\n",
       "        0.02762079,  0.02801347,  0.02860854,  0.02933451,  0.02993527,\n",
       "        0.02980992,  0.03009961,  0.03012044,  0.03044334,  0.03092906,\n",
       "        0.03129986,  0.03169884,  0.03220922,  0.03267652,  0.03315711,\n",
       "        0.03379269,  0.03426444,  0.03457579,  0.03498429,  0.03546943,\n",
       "        0.03615833,  0.03647974,  0.03683523,  0.03730997,  0.03800537,\n",
       "        0.03830559,  0.0387108 ,  0.03928296,  0.03988788,  0.04034052,\n",
       "        0.04078332,  0.04146973,  0.04195869,  0.04269147,  0.04319635,\n",
       "        0.0438962 ,  0.04427431,  0.04483056,  0.04558198,  0.04665828,\n",
       "        0.04743755,  0.04811218,  0.04899111,  0.04958745,  0.05043193,\n",
       "        0.05088356,  0.05162184,  0.05213517,  0.05212201,  0.05292025,\n",
       "        0.05332584,  0.05448346,  0.05484971,  0.05557431,  0.05597815,\n",
       "        0.05652347,  0.0574444 ,  0.05778964,  0.05846504,  0.0587658 ,\n",
       "        0.05911177,  0.05915756,  0.06032151,  0.06098434,  0.06158055,\n",
       "        0.06271836,  0.06291454,  0.06344045,  0.06314481,  0.0634684 ,\n",
       "        0.06426493,  0.06485086,  0.06571758,  0.06616991,  0.06667074,\n",
       "        0.06769691,  0.06823222,  0.06855253,  0.06927294,  0.06962432,\n",
       "        0.07020788,  0.07042819,  0.07047421,  0.07142003,  0.07255236,\n",
       "        0.07310283,  0.07378342,  0.07439843,  0.0752767 ,  0.07624026,\n",
       "        0.07725009,  0.07881395,  0.07961089,  0.08087054,  0.08141679,\n",
       "        0.08181705,  0.08256612,  0.08381755,  0.08534334,  0.08618581,\n",
       "        0.0867744 ,  0.08693933,  0.08790235,  0.0878512 ,  0.08915035,\n",
       "        0.088882  ,  0.08843064,  0.0863985 ,  0.08735948,  0.08742649,\n",
       "        0.08778582,  0.0882316 ,  0.08868459,  0.08881928,  0.08945613,\n",
       "        0.09031917,  0.09100161,  0.09290387,  0.09312097,  0.0930964 ,\n",
       "        0.09378337,  0.09369823,  0.09398344,  0.09495451,  0.0964218 ,\n",
       "        0.09697779,  0.09760498,  0.09775956,  0.09843416,  0.09904421,\n",
       "        0.09906404,  0.10006704,  0.1003806 ,  0.10063758,  0.10249018,\n",
       "        0.10294404,  0.10447845,  0.10557117,  0.10675531,  0.10707334,\n",
       "        0.10774339,  0.1074647 ,  0.107831  ,  0.11091842,  0.1102032 ,\n",
       "        0.10709223,  0.10719749,  0.10822916,  0.10927568,  0.11001125,\n",
       "        0.11056714,  0.11061733,  0.11048753,  0.11108098,  0.11117106,\n",
       "        0.10973824,  0.11032888,  0.11169664,  0.1121157 ,  0.11214902,\n",
       "        0.11170019,  0.11388315,  0.11443623,  0.11430848,  0.11433104,\n",
       "        0.11469151,  0.11484049,  0.11704467,  0.11768776,  0.11794389,\n",
       "        0.11845236,  0.11886893,  0.11941903,  0.11990941,  0.12032505,\n",
       "        0.12035167,  0.12077278,  0.12144579,  0.12117439,  0.12197617,\n",
       "        0.12256468,  0.12268964,  0.1232408 ,  0.12311815,  0.12370629,\n",
       "        0.12459025,  0.12465672,  0.12499288,  0.1227412 ,  0.12277985,\n",
       "        0.12473582,  0.12639139,  0.12634422,  0.12581277,  0.126772  ,\n",
       "        0.12640785,  0.12717904,  0.12594312,  0.12677434,  0.12664404,\n",
       "        0.12655948,  0.12037508,  0.11660184,  0.12060592,  0.12410567,\n",
       "        0.11900131,  0.11785382,  0.11694346,  0.11704633,  0.11801939,\n",
       "        0.11626924,  0.11831679,  0.11891955,  0.11939353,  0.12035663,\n",
       "        0.12018492,  0.12018789,  0.12159331,  0.12018515,  0.12011896,\n",
       "        0.11413879,  0.11470735,  0.11502218,  0.11612699,  0.11470791,\n",
       "        0.1161344 ,  0.11583935,  0.11827335,  0.11257576,  0.11319871,\n",
       "        0.11618809,  0.11352903,  0.11412716,  0.1154894 ,  0.11487195,\n",
       "        0.11675291,  0.11624441,  0.11524826,  0.11392661,  0.1148625 ,\n",
       "        0.11374091,  0.11791421,  0.11575002,  0.11765161,  0.11680987,\n",
       "        0.11620113,  0.11579805,  0.11369564,  0.11575051,  0.11270334,\n",
       "        0.11446684,  0.11291302,  0.1154353 ,  0.11281145,  0.11873097,\n",
       "        0.11596544,  0.11883382,  0.1153787 ,  0.11737372,  0.1161948 ,\n",
       "        0.11752595,  0.11562111,  0.11657604,  0.11694875,  0.11694088,\n",
       "        0.11749444,  0.11657744,  0.1164219 ,  0.11757854,  0.11990855,\n",
       "        0.11573272,  0.10883835,  0.12162308,  0.11924644,  0.11768104,\n",
       "        0.11780325,  0.11522813,  0.11540165,  0.11425909,  0.1154418 ,\n",
       "        0.11597155,  0.11635556,  0.11733751,  0.11657769,  0.11578979,\n",
       "        0.11535208,  0.11578663,  0.11883991,  0.11561791,  0.11641159,\n",
       "        0.11623079,  0.11374645,  0.11289898,  0.11357326,  0.11136006,\n",
       "        0.11224191,  0.1129319 ,  0.11316293,  0.11019356,  0.11308619,\n",
       "        0.11283728,  0.11455503,  0.11386448,  0.11302038,  0.11315542,\n",
       "        0.10973844,  0.11196687,  0.11101622,  0.1122241 ,  0.11371157,\n",
       "        0.11270351,  0.11366966,  0.11044084,  0.10800273,  0.10750229,\n",
       "        0.10882795,  0.10617672,  0.1075176 ,  0.1057588 ,  0.09337019,\n",
       "        0.09465585,  0.09527958,  0.09344547,  0.09185728,  0.09128437,\n",
       "        0.09041076,  0.09261945,  0.09021425,  0.09305309,  0.09546105,\n",
       "        0.09548116,  0.09425238,  0.0946285 ,  0.09288813,  0.        ,\n",
       "        0.        ,  0.        ,  0.        ,  0.        ,  0.        ,\n",
       "        0.        ,  0.        ,  0.        ,  0.        ,  0.        ,\n",
       "        0.        ,  0.        ,  0.        ,  0.        ,  0.        ,\n",
       "        0.        ,  0.        ,  0.        ,  0.        ,  0.        ,\n",
       "        0.        ,  0.        ,  0.        ,  0.        ,  0.        ,\n",
       "        0.        ,  0.        ,  0.        ,  0.        ,  0.        ,\n",
       "        0.        ,  0.        ,  0.        ,  0.        ,  0.        ,\n",
       "        0.        ,  0.        ,  0.        ,  0.        ,  0.        ,\n",
       "        0.        ,  0.        ,  0.        ,  0.        ,  0.        ,\n",
       "        0.        ,  0.        ,  0.        ,  0.        ,  0.        ,\n",
       "        0.        ,  0.        ,  0.        ,  0.        ,  0.        ,\n",
       "        0.        ,  0.        ,  0.        ,  0.        ,  0.        ,\n",
       "        0.        ,  0.        ,  0.        ,  0.        ,  0.        ,\n",
       "        0.        ,  0.        ,  0.        ,  0.        ,  0.        ,\n",
       "        0.        ,  0.        ,  0.        ,  0.        ,  0.        ,\n",
       "        0.        ,  0.        ,  0.        ,  0.        ,  0.        ,\n",
       "        0.        ,  0.        ,  0.        ,  0.        ,  0.        ,\n",
       "        0.        ,  0.        ,  0.        ,  0.        ,  0.        ,\n",
       "        0.        ,  0.        ,  0.        ,  0.        ,  0.        ,\n",
       "        0.        ,  0.        ,  0.        ,  0.        ,  0.        ,\n",
       "        0.        ,  0.        ,  0.        ,  0.        ,  0.        ,\n",
       "        0.        ,  0.        ,  0.        ,  0.        ,  0.        ,\n",
       "        0.        ,  0.        ,  0.        ,  0.        ,  0.        ,\n",
       "        0.        ,  0.        ,  0.        ,  0.        ,  0.        ,\n",
       "        0.        ,  0.        ,  0.        ,  0.        ,  0.        ,\n",
       "        0.        ,  0.        ,  0.        ,  0.        ,  0.        ,\n",
       "        0.        ,  0.        ,  0.        ,  0.        ,  0.        ,\n",
       "        0.        ,  0.        ,  0.        ,  0.        ,  0.        ,\n",
       "        0.        ,  0.        ,  0.        ,  0.        ,  0.        ,\n",
       "        0.        ,  0.        ,  0.        ,  0.        ,  0.        ,\n",
       "        0.        ,  0.        ,  0.        ,  0.        ,  0.        ,\n",
       "        0.        ,  0.        ,  0.        ,  0.        ,  0.        ,  0.        ])"
      ]
     },
     "execution_count": 16,
     "metadata": {},
     "output_type": "execute_result"
    }
   ],
   "source": [
    "gS"
   ]
  },
  {
   "cell_type": "code",
   "execution_count": 18,
   "metadata": {},
   "outputs": [
    {
     "data": {
      "text/plain": [
       "Text(0,0.5,'Mean Squared Displacement ($\\\\mu$m$^2$/s)')"
      ]
     },
     "execution_count": 18,
     "metadata": {},
     "output_type": "execute_result"
    },
    {
     "data": {
      "image/png": "[encoded data removed]",
      "text/plain": [
       "<Figure size 576x576 with 1 Axes>"
      ]
     },
     "metadata": {},
     "output_type": "display_data"
    }
   ],
   "source": [
    "fig = plt.figure(figsize=(8, 8))\n",
    "y_range = 1\n",
    "plt.xlim(10**-2, 10**0)\n",
    "#plt.ylim(0, y_range)\n",
    "\n",
    "x = np.linspace(0, frames-1, frames)/fps\n",
    "\n",
    "plt.loglog(x, np.exp(geo), 'k', linewidth=4)\n",
    "plt.loglog(x, np.exp(geo - 1.96*gS), 'k--', linewidth=2)\n",
    "plt.loglog(x, np.exp(geo + 1.96*gS), 'k--', linewidth=2)\n",
    "\n",
    "plt.xlabel('Tau (s)', fontsize=25)\n",
    "plt.ylabel(r'Mean Squared Displacement ($\\mu$m$^2$/s)', fontsize=25)\n"
   ]
  },
  {
   "cell_type": "code",
   "execution_count": null,
   "metadata": {},
   "outputs": [],
   "source": []
  }
 ],
 "metadata": {
  "kernelspec": {
   "display_name": "Python 3",
   "language": "python",
   "name": "python3"
  },
  "language_info": {
   "codemirror_mode": {
    "name": "ipython",
    "version": 3
   },
   "file_extension": ".py",
   "mimetype": "text/x-python",
   "name": "python",
   "nbconvert_exporter": "python",
   "pygments_lexer": "ipython3",
   "version": "3.6.3"
  }
 },
 "nbformat": 4,
 "nbformat_minor": 2
}
