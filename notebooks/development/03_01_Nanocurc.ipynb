{
 "cells": [
  {
   "cell_type": "code",
   "execution_count": 1,
   "metadata": {
    "collapsed": true
   },
   "outputs": [],
   "source": [
    "import sys\n",
    "import os\n",
    "sys.path.append(os.path.abspath('..'))\n",
    "from msd import fillin2, MSD_iteration, vectorized_MMSD_calcs\n",
    "import numpy as np"
   ]
  },
  {
   "cell_type": "code",
   "execution_count": null,
   "metadata": {
    "collapsed": true
   },
   "outputs": [],
   "source": [
    "os.chdir('/Users/ajoseph/Desktop/brain_diffusion/brain_diffusion/0301_Nanocurc/PLGA/')\n",
    "for filename in os.listdir():\n",
    "    newname =  filename.replace('P', 'Traj_P')\n",
    "    newname2 = newname.replace('.csv','.tif.csv')\n",
    "    os.rename(filename,newname2)"
   ]
  },
  {
   "cell_type": "code",
   "execution_count": null,
   "metadata": {
    "collapsed": true
   },
   "outputs": [],
   "source": [
    "folder='/Users/ajoseph/Desktop/brain_diffusion/brain_diffusion/0301_Nanocurc/PEG/'\n",
    "os.chdir('/Users/ajoseph/Desktop/brain_diffusion/brain_diffusion/0301_Nanocurc/PEG/')\n",
    "for filename in os.listdir():\n",
    "    test = np.genfromtxt(folder+filename, delimiter=',')\n",
    "    x = np.delete(test, (0), axis=0)\n",
    "    np.savetxt(folder+filename, x, delimiter=',')"
   ]
  },
  {
   "cell_type": "code",
   "execution_count": null,
   "metadata": {
    "collapsed": true
   },
   "outputs": [],
   "source": [
    "folder='/Users/ajoseph/Desktop/brain_diffusion/brain_diffusion/0301_Nanocurc/PLGA/'\n",
    "name='PLGA_Cortex'\n",
    "(total1, frames, x_m, y_m, xs_m, ys_m)=MSD_iteration(folder,name,cut=2,totvids=23,conversion=(99.93,.16,1))\n",
    "(geoM2xy, gSEM, SM1x, SM1y, SM2xy)=vectorized_MMSD_calcs(frames, total1, xs_m, ys_m)\n",
    "DIR=folder+'MSD_files/'\n",
    "np.savetxt(DIR+'geoM2xy_'+name+'.csv', geoM2xy, delimiter=',')\n",
    "np.savetxt(DIR+'gSEM_'+name+'.csv', gSEM, delimiter=',')\n",
    "np.savetxt(DIR+'SM1x_'+name+'.csv', SM1x, delimiter=',')\n",
    "np.savetxt(DIR+'SM1y_'+name+'.csv', SM1y, delimiter=',')\n",
    "np.savetxt(DIR+'SM2xy_'+name+'.csv', SM2xy, delimiter=',')"
   ]
  },
  {
   "cell_type": "code",
   "execution_count": null,
   "metadata": {
    "collapsed": true
   },
   "outputs": [],
   "source": [
    "x_m"
   ]
  },
  {
   "cell_type": "code",
   "execution_count": null,
   "metadata": {
    "collapsed": true
   },
   "outputs": [],
   "source": [
    "MSD_iteration?"
   ]
  },
  {
   "cell_type": "code",
   "execution_count": null,
   "metadata": {
    "collapsed": true
   },
   "outputs": [],
   "source": [
    "folder='/Users/ajoseph/Desktop/brain_diffusion/brain_diffusion/0301_Nanocurc/PLGA/'\n",
    "name='PLGA_Midbrain'\n",
    "(total1, frames, x_m, y_m, xs_m, ys_m)=MSD_iteration(folder,name,cut=2,totvids=28,conversion=(99.93,.16,1))\n",
    "(geoM2xy, gSEM, SM1x, SM1y, SM2xy)=vectorized_MMSD_calcs(frames, total1, xs_m, ys_m)\n",
    "DIR=folder+'MSD_files/'\n",
    "np.savetxt(DIR+'geoM2xy_'+name+'.csv', geoM2xy, delimiter=',')\n",
    "np.savetxt(DIR+'gSEM_'+name+'.csv', gSEM, delimiter=',')\n",
    "np.savetxt(DIR+'SM1x_'+name+'.csv', SM1x, delimiter=',')\n",
    "np.savetxt(DIR+'SM1y_'+name+'.csv', SM1y, delimiter=',')\n",
    "np.savetxt(DIR+'SM2xy_'+name+'.csv', SM2xy, delimiter=',')"
   ]
  },
  {
   "cell_type": "code",
   "execution_count": null,
   "metadata": {
    "collapsed": true
   },
   "outputs": [],
   "source": [
    "folder='/Users/ajoseph/Desktop/brain_diffusion/brain_diffusion/0301_Nanocurc/PEG/'\n",
    "name='PEG_Cortex'\n",
    "(total1, frames, x_m, y_m, xs_m, ys_m)=MSD_iteration(folder,name,cut=2,totvids=33,conversion=(99.93,.16,1))\n",
    "(geoM2xy, gSEM, SM1x, SM1y, SM2xy)=vectorized_MMSD_calcs(frames, total1, xs_m, ys_m)\n",
    "DIR=folder+'MSD_files/'\n",
    "np.savetxt(DIR+'geoM2xy_'+name+'.csv', geoM2xy, delimiter=',')\n",
    "np.savetxt(DIR+'gSEM_'+name+'.csv', gSEM, delimiter=',')\n",
    "np.savetxt(DIR+'SM1x_'+name+'.csv', SM1x, delimiter=',')\n",
    "np.savetxt(DIR+'SM1y_'+name+'.csv', SM1y, delimiter=',')\n",
    "np.savetxt(DIR+'SM2xy_'+name+'.csv', SM2xy, delimiter=',')"
   ]
  },
  {
   "cell_type": "code",
   "execution_count": null,
   "metadata": {
    "collapsed": true
   },
   "outputs": [],
   "source": [
    "folder='/Users/ajoseph/Desktop/brain_diffusion/brain_diffusion/0301_Nanocurc/PEG/'\n",
    "name='PEG_Midbrain'\n",
    "(total1, frames, x_m, y_m, xs_m, ys_m)=MSD_iteration(folder,name,cut=2,totvids=28,conversion=(99.93,.16,1))\n",
    "(geoM2xy, gSEM, SM1x, SM1y, SM2xy)=vectorized_MMSD_calcs(frames, total1, xs_m, ys_m)\n",
    "DIR=folder+'MSD_files/'\n",
    "np.savetxt(DIR+'geoM2xy_'+name+'.csv', geoM2xy, delimiter=',')\n",
    "np.savetxt(DIR+'gSEM_'+name+'.csv', gSEM, delimiter=',')\n",
    "np.savetxt(DIR+'SM1x_'+name+'.csv', SM1x, delimiter=',')\n",
    "np.savetxt(DIR+'SM1y_'+name+'.csv', SM1y, delimiter=',')\n",
    "np.savetxt(DIR+'SM2xy_'+name+'.csv', SM2xy, delimiter=',')"
   ]
  },
  {
   "cell_type": "code",
   "execution_count": 2,
   "metadata": {
    "collapsed": true
   },
   "outputs": [],
   "source": [
    "import matplotlib.pyplot as plt\n",
    "import numpy as np\n",
    "import numpy.ma as ma\n",
    "sys.path.append(os.path.abspath('/Users/ajoseph/Desktop/brain_diffusion/brain_diffusion/histogram'))\n",
    "from histogram_utils import histogram_by_video"
   ]
  },
  {
   "cell_type": "code",
   "execution_count": 13,
   "metadata": {
    "collapsed": true
   },
   "outputs": [],
   "source": [
    "folder='/Users/ajoseph/Desktop/brain_diffusion/brain_diffusion/0301_Nanocurc/histogram_data/SM2xy_'\n",
    "xlabel='Log D_eff'\n",
    "ylabel='% Particles'\n",
    "fps=99.93\n",
    "frame=100\n",
    "analysis='log'\n",
    "theta='D'\n",
    "test_bins = np.linspace(-8, 2, 50)"
   ]
  },
  {
   "cell_type": "code",
   "execution_count": 4,
   "metadata": {
    "collapsed": true
   },
   "outputs": [],
   "source": [
    "sample='PEG_Cortex.csv'\n",
    "SMfilename=folder+sample\n",
    "\n",
    "# load data\n",
    "SM2xy = np.genfromtxt(SMfilename, delimiter=\",\")\n",
    "\n",
    "toi = frame/fps\n",
    "factor = 4*toi\n",
    "\n",
    "dist1 = ma.log10(SM2xy[frame, :]/factor)\n",
    "\n",
    "unmask = np.invert(ma.getmask(dist1))\n",
    "dist1 = dist1[unmask]\n",
    "[histogram1, test_bins] = np.histogram(dist1, bins=test_bins)"
   ]
  },
  {
   "cell_type": "code",
   "execution_count": 5,
   "metadata": {
    "collapsed": true
   },
   "outputs": [],
   "source": [
    "sample='PEG_Midbrain.csv'\n",
    "SMfilename=folder+sample\n",
    "\n",
    "# load data\n",
    "SM2xy = np.genfromtxt(SMfilename, delimiter=\",\")\n",
    "\n",
    "toi = frame/fps\n",
    "factor = 4*toi\n",
    "\n",
    "dist2 = ma.log10(SM2xy[frame, :]/factor)\n",
    "\n",
    "unmask = np.invert(ma.getmask(dist2))\n",
    "dist2 = dist2[unmask]\n",
    "[histogram2, test_bins] = np.histogram(dist2, bins=test_bins)"
   ]
  },
  {
   "cell_type": "code",
   "execution_count": 6,
   "metadata": {
    "collapsed": true
   },
   "outputs": [],
   "source": [
    "sample='PLGA_Cortex.csv'\n",
    "SMfilename=folder+sample\n",
    "\n",
    "# load data\n",
    "SM2xy = np.genfromtxt(SMfilename, delimiter=\",\")\n",
    "\n",
    "toi = frame/fps\n",
    "factor = 4*toi\n",
    "\n",
    "dist3 = ma.log10(SM2xy[frame, :]/factor)\n",
    "\n",
    "unmask = np.invert(ma.getmask(dist3))\n",
    "dist3 = dist3[unmask]\n",
    "[histogram3, test_bins] = np.histogram(dist3, bins=test_bins)"
   ]
  },
  {
   "cell_type": "code",
   "execution_count": 7,
   "metadata": {
    "collapsed": true
   },
   "outputs": [],
   "source": [
    "sample='PLGA_Midbrain.csv'\n",
    "SMfilename=folder+sample\n",
    "\n",
    "# load data\n",
    "SM2xy = np.genfromtxt(SMfilename, delimiter=\",\")\n",
    "\n",
    "toi = frame/fps\n",
    "factor = 4*toi\n",
    "\n",
    "dist4 = ma.log10(SM2xy[frame, :]/factor)\n",
    "\n",
    "unmask = np.invert(ma.getmask(dist4))\n",
    "dist4 = dist4[unmask]\n",
    "[histogram4, test_bins] = np.histogram(dist4, bins=test_bins)"
   ]
  },
  {
   "cell_type": "code",
   "execution_count": 22,
   "metadata": {
    "collapsed": false
   },
   "outputs": [
    {
     "data": {
      "image/png": "[encoded data removed]",
      "text/plain": [
       "<matplotlib.figure.Figure at 0x1a197712b0>"
      ]
     },
     "metadata": {},
     "output_type": "display_data"
    }
   ],
   "source": [
    "# Plot_general_histogram_code\n",
    "avg1 = np.mean(dist1)\n",
    "avg2 = np.mean(dist2)\n",
    "plt.rcParams[\"patch.force_edgecolor\"] = True\n",
    "fig = plt.figure(figsize=(16, 6))\n",
    "plt.rc('axes', linewidth=2)\n",
    "plot1 = histogram1\n",
    "plot2 = histogram2\n",
    "bins = test_bins\n",
    "width = 0.4 * (bins[1] - bins[0])\n",
    "center = (bins[:-1] + bins[1:])/2\n",
    "plt.bar(center, plot1/sum(plot1)*100, align='center', width=width, color='m', label='PLGA in Cortex, n=129')\n",
    "plt.bar(center-0.09, plot2/sum(plot2)*100, align='center', width=width, color='k', label='PLGA in Thalamus, n=261')\n",
    "plt.axvline(avg1, color='m', linewidth=1)\n",
    "plt.axvline(avg2, color='k', linewidth=1)\n",
    "plt.xlabel('Log $D_{eff}$', fontsize=30)\n",
    "plt.ylabel(ylabel, fontsize=30)\n",
    "plt.tick_params(axis='both', which='major', labelsize=20)\n",
    "\n",
    "\n",
    "plt.gca().set_ylim([0, 25])\n",
    "plt.gca().set_xlim([-6, 2])\n",
    "\n",
    "plt.legend(fontsize=15, frameon=False)\n",
    "plt.show()\n",
    "#plt.savefig(folder+'PEG_hist.png', bbox_inches='tight')"
   ]
  },
  {
   "cell_type": "code",
   "execution_count": 23,
   "metadata": {
    "collapsed": false
   },
   "outputs": [
    {
     "data": {
      "image/png": "[encoded data removed]",
      "text/plain": [
       "<matplotlib.figure.Figure at 0x1a11ad7f60>"
      ]
     },
     "metadata": {},
     "output_type": "display_data"
    }
   ],
   "source": [
    "# Plot_general_histogram_code\n",
    "avg3 = np.mean(dist3)\n",
    "avg4 = np.mean(dist4)\n",
    "plt.rcParams[\"patch.force_edgecolor\"] = True\n",
    "fig = plt.figure(figsize=(16, 6))\n",
    "plt.rc('axes', linewidth=2)\n",
    "plot3 = histogram3\n",
    "plot4 = histogram4\n",
    "bins = test_bins\n",
    "width = 0.4 * (bins[1] - bins[0])\n",
    "center = (bins[:-1] + bins[1:])/2\n",
    "plt.bar(center, plot3/sum(plot3)*100, align='center', width=width, color='m', label='PLGA-PEG in Cortex, n=98')\n",
    "plt.bar(center-0.09, plot4/sum(plot4)*100, align='center', width=width, color='k', label='PLGA-PEG in Thalamus, n=72')\n",
    "plt.axvline(avg3, color='m', linewidth=1)\n",
    "plt.axvline(avg4, color='k', linewidth=1)\n",
    "plt.xlabel('Log $D_{eff}$', fontsize=30)\n",
    "plt.ylabel(ylabel, fontsize=30)\n",
    "plt.tick_params(axis='both', which='major', labelsize=20)\n",
    "\n",
    "\n",
    "plt.gca().set_ylim([0, 25])\n",
    "plt.gca().set_xlim([-6, 2])\n",
    "\n",
    "plt.legend(fontsize=15, frameon=False)\n",
    "plt.show()\n",
    "#plt.savefig(folder+'PEG_hist.png', bbox_inches='tight')"
   ]
  },
  {
   "cell_type": "code",
   "execution_count": null,
   "metadata": {
    "collapsed": true
   },
   "outputs": [],
   "source": [
    "np.power(10,avg3)/np.power(10,avg1)"
   ]
  },
  {
   "cell_type": "code",
   "execution_count": null,
   "metadata": {
    "collapsed": true
   },
   "outputs": [],
   "source": [
    "[np.power(10,avg1),\n",
    "np.power(10,avg2),\n",
    "np.power(10,avg3),\n",
    "np.power(10,avg4)]"
   ]
  },
  {
   "cell_type": "code",
   "execution_count": null,
   "metadata": {
    "collapsed": true
   },
   "outputs": [],
   "source": [
    "np.power(10,avg4)/np.power(10,avg2)"
   ]
  },
  {
   "cell_type": "code",
   "execution_count": null,
   "metadata": {
    "collapsed": true
   },
   "outputs": [],
   "source": [
    "dist4.shape"
   ]
  },
  {
   "cell_type": "code",
   "execution_count": null,
   "metadata": {
    "collapsed": true
   },
   "outputs": [],
   "source": []
  }
 ],
 "metadata": {
  "anaconda-cloud": {},
  "kernelspec": {
   "display_name": "Python [default]",
   "language": "python",
   "name": "python3"
  },
  "language_info": {
   "codemirror_mode": {
    "name": "ipython",
    "version": 3
   },
   "file_extension": ".py",
   "mimetype": "text/x-python",
   "name": "python",
   "nbconvert_exporter": "python",
   "pygments_lexer": "ipython3",
   "version": "3.5.2"
  }
 },
 "nbformat": 4,
 "nbformat_minor": 2
}
