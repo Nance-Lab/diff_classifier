{
 "cells": [
  {
   "cell_type": "code",
   "execution_count": 1,
   "metadata": {},
   "outputs": [],
   "source": [
    "import pandas as pd\n",
    "import diff_classifier.aws as aws\n",
    "import numpy as np\n",
    "import matplotlib.pyplot as plt\n",
    "import matplotlib\n",
    "import numpy.ma as ma\n",
    "%matplotlib inline"
   ]
  },
  {
   "cell_type": "code",
   "execution_count": 2,
   "metadata": {},
   "outputs": [],
   "source": [
    "def plot_ft_distribution(prefix, bins, labels, feature, folder=\"01_18_Experiment\", show=True):\n",
    "    \n",
    "    def cumulative(ls):\n",
    "        test = [0]*len(ls)\n",
    "        test[0] = np.round(ls[0], 4)\n",
    "        for i in range(1, len(ls), 1):\n",
    "            test[i] = np.round(test[i-1] + ls[i], 4)\n",
    "        return test\n",
    "    \n",
    "    def rearrange(*args):\n",
    "        counter = 0\n",
    "        for ls in args:\n",
    "            counter = counter + 1\n",
    "            old_size = len(ls)\n",
    "        new_size = counter\n",
    "\n",
    "        new_lists = np.zeros((old_size, new_size))\n",
    "        ncounter = 0\n",
    "        for ls in args:\n",
    "            for i in range(0, old_size):\n",
    "                new_lists[i, ncounter] = ls[i]\n",
    "            ncounter = ncounter + 1\n",
    "        return new_lists\n",
    "    \n",
    "    def generate_legend(bins, ends=True):\n",
    "        nbins = len(bins)\n",
    "        lbins = [0]*(nbins-1)\n",
    "        for i in range(0, nbins-1, 1):\n",
    "            if i==0 and ends:\n",
    "                lbins[i] = '< {}'.format(bins[i+1])\n",
    "            elif i==nbins-2 and ends:\n",
    "                lbins[nbins-2] = '> {}'.format(bins[i])\n",
    "            else:\n",
    "                lbins[i] = '{} -- {}'.format(bins[i], bins[i+1])\n",
    "        return lbins\n",
    "\n",
    "    vids = 15\n",
    "    to_analyze = []\n",
    "    puppies = []\n",
    "    hist = [0]*vids\n",
    "    for vid in range(0, vids):\n",
    "                pref = \"{}_{}\".format(prefix, \"%04d\" % vid)\n",
    "                pup = prefix.split('_')[0]\n",
    "                puppies.append(pup)\n",
    "                fname = 'features_{}.csv'.format(pref)\n",
    "                to_analyze.append(fname)\n",
    "\n",
    "                aws.download_s3('{}/{}/{}'.format(folder, pup, fname), fname)\n",
    "                features = pd.read_csv(to_analyze[vid])\n",
    "                bins = bins\n",
    "                \n",
    "                mfeatures = ma.masked_invalid(features[feature])\n",
    "                mmask = mfeatures.mask\n",
    "                mfeatures = features[feature][~mmask]\n",
    "                hist[vid] = np.histogram(mfeatures, bins=bins)[0]\n",
    "    \n",
    "    cortex = [sum(x) for x in zip(hist[0], hist[1], hist[2], hist[3], hist[4])]\n",
    "    cortex = cumulative(cortex/sum(cortex))\n",
    "    hipp = [sum(x) for x in zip(hist[5], hist[6], hist[7], hist[8], hist[9])]\n",
    "    hipp = cumulative(hipp/sum(hipp))\n",
    "    thal = [sum(x) for x in zip(hist[10], hist[11], hist[12], hist[13], hist[14])]\n",
    "    thal = cumulative(thal/sum(thal))\n",
    "    data = rearrange(cortex, hipp, thal)\n",
    "    \n",
    "    plt.figure(figsize=(6, 6))\n",
    "\n",
    "    N = 3\n",
    "    width = 0.35\n",
    "    ind = np.arange(N)\n",
    "    cmap = matplotlib.cm.get_cmap('viridis')\n",
    "    ssize = data.shape[0]\n",
    "    legend = list(reversed(generate_legend(bins)))\n",
    "    ax = {}\n",
    "    axes = [0]*ssize\n",
    "    for num in range(0, ssize, 1):\n",
    "        rgba = cmap((num)*(1.01/(ssize)))\n",
    "        ax[num] = plt.bar(ind, data[ssize-num-1, :], width, color=rgba)\n",
    "        axes[num] = ax[num]\n",
    "\n",
    "    plt.title('{} breakdown'.format(feature))\n",
    "    plt.xticks(ind, ('cortex', 'hippocampus', 'thalamus'))\n",
    "    plt.legend(axes, legend, bbox_to_anchor=(1.05, 1), loc=2, borderaxespad=0.)\n",
    "    #plt.subplots_adjust(left=0, bottom=0, right=3, top=1, wspace=0, hspace=0)\n",
    "    if show:\n",
    "        plt.show()\n",
    "    return data"
   ]
  },
  {
   "cell_type": "code",
   "execution_count": 3,
   "metadata": {},
   "outputs": [],
   "source": [
    "features = pd.read_csv('features_P3_S1_R_0000.csv')"
   ]
  },
  {
   "cell_type": "code",
   "execution_count": 26,
   "metadata": {},
   "outputs": [],
   "source": [
    "feature = 'boundedness'\n",
    "to_graph = [features[feature].tolist()]\n",
    "pos = [1]"
   ]
  },
  {
   "cell_type": "code",
   "execution_count": 27,
   "metadata": {},
   "outputs": [
    {
     "data": {
      "text/plain": [
       "1"
      ]
     },
     "execution_count": 27,
     "metadata": {},
     "output_type": "execute_result"
    }
   ],
   "source": [
    "len(to_graph)"
   ]
  },
  {
   "cell_type": "code",
   "execution_count": 29,
   "metadata": {},
   "outputs": [
    {
     "data": {
      "text/plain": [
       "{'bodies': [<matplotlib.collections.PolyCollection at 0x7fee961d99b0>],\n",
       " 'cmeans': <matplotlib.collections.LineCollection at 0x7fee961d9cc0>}"
      ]
     },
     "execution_count": 29,
     "metadata": {},
     "output_type": "execute_result"
    },
    {
     "data": {
      "image/png": "[encoded data removed]",
      "text/plain": [
       "<Figure size 432x288 with 1 Axes>"
      ]
     },
     "metadata": {},
     "output_type": "display_data"
    }
   ],
   "source": [
    "plt.violinplot(to_graph, pos, points=20, widths=0.3, showmeans=True, showextrema=False)\n",
    "plt."
   ]
  },
  {
   "cell_type": "code",
   "execution_count": 52,
   "metadata": {},
   "outputs": [],
   "source": [
    "#cortex\n",
    "cortexnames = []\n",
    "puppies = []\n",
    "cortex = []\n",
    "folder=\"01_18_Experiment\"\n",
    "for vid in range(0, 5):\n",
    "    pref = \"{}_{}\".format(prefix, \"%04d\" % vid)\n",
    "    pup = prefix.split('_')[0]\n",
    "    puppies.append(pup)\n",
    "    fname = 'features_{}.csv'.format(pref)\n",
    "    cortexnames.append(fname)\n",
    "    \n",
    "    aws.download_s3('{}/{}/{}'.format(folder, pup, fname), fname, bucket_name='ccurtis.data')\n",
    "    features = pd.read_csv(cortexnames[vid])\n",
    "    cortex.extend(features[feature].tolist())\n",
    "    \n",
    "#hippocampus\n",
    "hippnames = []\n",
    "puppies = []\n",
    "hipp = []\n",
    "add = 5\n",
    "for vid in range(0, 5):\n",
    "    pref = \"{}_{}\".format(prefix, \"%04d\" % int(vid+add))\n",
    "    pup = prefix.split('_')[0]\n",
    "    puppies.append(pup)\n",
    "    fname = 'features_{}.csv'.format(pref)\n",
    "    hippnames.append(fname)\n",
    "    \n",
    "    aws.download_s3('{}/{}/{}'.format(folder, pup, fname), fname, bucket_name='ccurtis.data')\n",
    "    features = pd.read_csv(hippnames[vid])\n",
    "    hipp.extend(features[feature].tolist())\n",
    "    \n",
    "#thalamus\n",
    "thalnames = []\n",
    "puppies = []\n",
    "thal = []\n",
    "add = 10\n",
    "for vid in range(0, 5):\n",
    "    pref = \"{}_{}\".format(prefix, \"%04d\" % int(vid+add))\n",
    "    pup = prefix.split('_')[0]\n",
    "    puppies.append(pup)\n",
    "    fname = 'features_{}.csv'.format(pref)\n",
    "    thalnames.append(fname)\n",
    "    \n",
    "    aws.download_s3('{}/{}/{}'.format(folder, pup, fname), fname, bucket_name='ccurtis.data')\n",
    "    features = pd.read_csv(thalnames[vid])\n",
    "    thal.extend(features[feature].tolist())"
   ]
  },
  {
   "cell_type": "code",
   "execution_count": 71,
   "metadata": {},
   "outputs": [],
   "source": [
    "def set_axis_style(ax, labels):\n",
    "    ax.get_xaxis().set_tick_params(direction='out')\n",
    "    ax.xaxis.set_ticks_position('bottom')\n",
    "    ax.set_xticks(np.arange(1, len(labels) + 1))\n",
    "    ax.set_xticklabels(labels)\n",
    "    ax.set_xlim(0.25, len(labels) + 0.75)"
   ]
  },
  {
   "cell_type": "code",
   "execution_count": 75,
   "metadata": {},
   "outputs": [
    {
     "data": {
      "image/png": "[encoded data removed]",
      "text/plain": [
       "<Figure size 432x432 with 1 Axes>"
      ]
     },
     "metadata": {},
     "output_type": "display_data"
    }
   ],
   "source": [
    "fig, axes = plt.subplots(nrows=1, ncols=1, figsize=(6, 6))\n",
    "\n",
    "to_graph = [cortex, hipp, thal]\n",
    "pos = [1, 2, 3]\n",
    "axes.violinplot(to_graph, pos, points=20, widths=0.9, showmeans=True, showextrema=False)\n",
    "\n",
    "labels = ['cortex', 'hipp', 'thal']\n",
    "set_axis_style(axes, labels)\n",
    "axes.tick_params(axis = 'both', which = 'major', labelsize = 16)"
   ]
  },
  {
   "cell_type": "code",
   "execution_count": 120,
   "metadata": {},
   "outputs": [],
   "source": [
    "def feature_violin(prefix, feature='boundedness', folder=\"01_18_Experiment\", videos=5, labels=['cortex', 'hipp', 'thal'],\n",
    "                   points=40, ylim=[0, 1], majorticks = np.linspace(0, 1, 11)):\n",
    "    \n",
    "    #cortex\n",
    "    cortexnames = []\n",
    "    puppies = []\n",
    "    cortex = []\n",
    "    for vid in range(0, videos):\n",
    "        pref = \"{}_{}\".format(prefix, \"%04d\" % vid)\n",
    "        pup = prefix.split('_')[0]\n",
    "        puppies.append(pup)\n",
    "        fname = 'features_{}.csv'.format(pref)\n",
    "        cortexnames.append(fname)\n",
    "\n",
    "        aws.download_s3('{}/{}/{}'.format(folder, pup, fname), fname, bucket_name='ccurtis.data')\n",
    "        features = pd.read_csv(cortexnames[vid])\n",
    "        cortex.extend(features[feature].dropna().tolist())\n",
    "\n",
    "    #hippocampus\n",
    "    hippnames = []\n",
    "    puppies = []\n",
    "    hipp = []\n",
    "    add = videos\n",
    "    for vid in range(0, videos):\n",
    "        pref = \"{}_{}\".format(prefix, \"%04d\" % int(vid+add))\n",
    "        pup = prefix.split('_')[0]\n",
    "        puppies.append(pup)\n",
    "        fname = 'features_{}.csv'.format(pref)\n",
    "        hippnames.append(fname)\n",
    "\n",
    "        aws.download_s3('{}/{}/{}'.format(folder, pup, fname), fname, bucket_name='ccurtis.data')\n",
    "        features = pd.read_csv(hippnames[vid])\n",
    "        hipp.extend(features[feature].dropna().tolist())\n",
    "\n",
    "    #thalamus\n",
    "    thalnames = []\n",
    "    puppies = []\n",
    "    thal = []\n",
    "    add = 2*videos\n",
    "    for vid in range(0, videos):\n",
    "        pref = \"{}_{}\".format(prefix, \"%04d\" % int(vid+add))\n",
    "        pup = prefix.split('_')[0]\n",
    "        puppies.append(pup)\n",
    "        fname = 'features_{}.csv'.format(pref)\n",
    "        thalnames.append(fname)\n",
    "\n",
    "        aws.download_s3('{}/{}/{}'.format(folder, pup, fname), fname, bucket_name='ccurtis.data')\n",
    "        features = pd.read_csv(thalnames[vid])\n",
    "        thal.extend(features[feature].dropna().tolist())\n",
    "        \n",
    "    def set_axis_style(ax, labels):\n",
    "        ax.get_xaxis().set_tick_params(direction='out')\n",
    "        ax.xaxis.set_ticks_position('bottom')\n",
    "        ax.set_xticks(np.arange(1, len(labels) + 1))\n",
    "        ax.set_xticklabels(labels)\n",
    "        ax.set_xlim(0.25, len(labels) + 0.75)\n",
    "    \n",
    "    fig, axes = plt.subplots(nrows=1, ncols=1, figsize=(6, 6))\n",
    "\n",
    "    to_graph = [cortex, hipp, thal]\n",
    "    pos = [1, 2, 3]\n",
    "    axes.violinplot(to_graph, pos, points=points, widths=0.9, showmeans=True, showextrema=False)\n",
    "    set_axis_style(axes, labels)\n",
    "    axes.tick_params(axis = 'both', which = 'major', labelsize = 16)\n",
    "    axes.set_ylim(ylim)\n",
    "    axes.set_yticks(majorticks)\n",
    "    \n",
    "    plt.show()"
   ]
  },
  {
   "cell_type": "code",
   "execution_count": 96,
   "metadata": {},
   "outputs": [
    {
     "data": {
      "text/html": [
       "<div>\n",
       "<style scoped>\n",
       "    .dataframe tbody tr th:only-of-type {\n",
       "        vertical-align: middle;\n",
       "    }\n",
       "\n",
       "    .dataframe tbody tr th {\n",
       "        vertical-align: top;\n",
       "    }\n",
       "\n",
       "    .dataframe thead th {\n",
       "        text-align: right;\n",
       "    }\n",
       "</style>\n",
       "<table border=\"1\" class=\"dataframe\">\n",
       "  <thead>\n",
       "    <tr style=\"text-align: right;\">\n",
       "      <th></th>\n",
       "      <th>Unnamed: 0</th>\n",
       "      <th>AR</th>\n",
       "      <th>D_fit</th>\n",
       "      <th>MSD_ratio</th>\n",
       "      <th>Track_ID</th>\n",
       "      <th>X</th>\n",
       "      <th>Y</th>\n",
       "      <th>alpha</th>\n",
       "      <th>asymmetry1</th>\n",
       "      <th>asymmetry2</th>\n",
       "      <th>asymmetry3</th>\n",
       "      <th>boundedness</th>\n",
       "      <th>efficiency</th>\n",
       "      <th>elongation</th>\n",
       "      <th>fractal_dim</th>\n",
       "      <th>frames</th>\n",
       "      <th>kurtosis</th>\n",
       "      <th>straightness</th>\n",
       "      <th>trappedness</th>\n",
       "    </tr>\n",
       "  </thead>\n",
       "  <tbody>\n",
       "    <tr>\n",
       "      <th>0</th>\n",
       "      <td>0</td>\n",
       "      <td>1.495935</td>\n",
       "      <td>0.752420</td>\n",
       "      <td>0.034725</td>\n",
       "      <td>0.0</td>\n",
       "      <td>1725.768217</td>\n",
       "      <td>400.633886</td>\n",
       "      <td>0.629714</td>\n",
       "      <td>0.383790</td>\n",
       "      <td>0.484709</td>\n",
       "      <td>0.062117</td>\n",
       "      <td>0.016910</td>\n",
       "      <td>0.289305</td>\n",
       "      <td>0.331522</td>\n",
       "      <td>1.998078</td>\n",
       "      <td>126.0</td>\n",
       "      <td>3.592254</td>\n",
       "      <td>0.056493</td>\n",
       "      <td>-0.222078</td>\n",
       "    </tr>\n",
       "    <tr>\n",
       "      <th>1</th>\n",
       "      <td>1</td>\n",
       "      <td>1.111547</td>\n",
       "      <td>4.586319</td>\n",
       "      <td>0.000831</td>\n",
       "      <td>1.0</td>\n",
       "      <td>1969.664583</td>\n",
       "      <td>231.554718</td>\n",
       "      <td>0.368423</td>\n",
       "      <td>0.766501</td>\n",
       "      <td>0.257647</td>\n",
       "      <td>0.191415</td>\n",
       "      <td>0.011138</td>\n",
       "      <td>0.762385</td>\n",
       "      <td>0.100353</td>\n",
       "      <td>1.942707</td>\n",
       "      <td>175.0</td>\n",
       "      <td>1.986408</td>\n",
       "      <td>0.075562</td>\n",
       "      <td>-0.223851</td>\n",
       "    </tr>\n",
       "  </tbody>\n",
       "</table>\n",
       "</div>"
      ],
      "text/plain": [
       "   Unnamed: 0        AR     D_fit  MSD_ratio  Track_ID            X  \\\n",
       "0           0  1.495935  0.752420   0.034725       0.0  1725.768217   \n",
       "1           1  1.111547  4.586319   0.000831       1.0  1969.664583   \n",
       "\n",
       "            Y     alpha  asymmetry1  asymmetry2  asymmetry3  boundedness  \\\n",
       "0  400.633886  0.629714    0.383790    0.484709    0.062117     0.016910   \n",
       "1  231.554718  0.368423    0.766501    0.257647    0.191415     0.011138   \n",
       "\n",
       "   efficiency  elongation  fractal_dim  frames  kurtosis  straightness  \\\n",
       "0    0.289305    0.331522     1.998078   126.0  3.592254      0.056493   \n",
       "1    0.762385    0.100353     1.942707   175.0  1.986408      0.075562   \n",
       "\n",
       "   trappedness  \n",
       "0    -0.222078  \n",
       "1    -0.223851  "
      ]
     },
     "execution_count": 96,
     "metadata": {},
     "output_type": "execute_result"
    }
   ],
   "source": [
    "features.head()"
   ]
  },
  {
   "cell_type": "code",
   "execution_count": 150,
   "metadata": {},
   "outputs": [
    {
     "data": {
      "image/png": "[encoded data removed]",
      "text/plain": [
       "<Figure size 432x432 with 1 Axes>"
      ]
     },
     "metadata": {},
     "output_type": "display_data"
    }
   ],
   "source": [
    "#COOH\n",
    "feature='frames'\n",
    "prefix = 'P3_S1_R'\n",
    "ylim = [0, 600]\n",
    "majorticks = np.linspace(0, 600, 11)\n",
    "points = 1000\n",
    "feature_violin(prefix, feature=feature, points=points, ylim=ylim, majorticks=majorticks)"
   ]
  },
  {
   "cell_type": "code",
   "execution_count": 151,
   "metadata": {},
   "outputs": [
    {
     "data": {
      "image/png": "[encoded data removed]",
      "text/plain": [
       "<Figure size 432x432 with 1 Axes>"
      ]
     },
     "metadata": {},
     "output_type": "display_data"
    }
   ],
   "source": [
    "#PEG\n",
    "prefix = 'P3_S1_L'\n",
    "feature_violin(prefix, feature=feature, points = points, ylim=ylim, majorticks=majorticks)"
   ]
  },
  {
   "cell_type": "code",
   "execution_count": null,
   "metadata": {},
   "outputs": [],
   "source": []
  }
 ],
 "metadata": {
  "kernelspec": {
   "display_name": "Python 3",
   "language": "python",
   "name": "python3"
  },
  "language_info": {
   "codemirror_mode": {
    "name": "ipython",
    "version": 3
   },
   "file_extension": ".py",
   "mimetype": "text/x-python",
   "name": "python",
   "nbconvert_exporter": "python",
   "pygments_lexer": "ipython3",
   "version": "3.6.3"
  }
 },
 "nbformat": 4,
 "nbformat_minor": 2
}
