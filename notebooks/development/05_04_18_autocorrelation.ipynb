{
 "cells": [
  {
   "cell_type": "code",
   "execution_count": 1,
   "metadata": {},
   "outputs": [],
   "source": [
    "import skimage.io as sio\n",
    "import numpy as np\n",
    "import pandas as pd\n",
    "import diff_classifier.aws as aws"
   ]
  },
  {
   "cell_type": "code",
   "execution_count": 2,
   "metadata": {},
   "outputs": [],
   "source": [
    "rfolder = 'Tissue_Studies/04_30_18_JBSS_in_Tissue/test_images'\n",
    "filename = '100nm_PEG_P1_S1_XY5_1.tif'\n",
    "rname = '{}/{}'.format(rfolder, filename)\n",
    "aws.download_s3(rname, filename, bucket_name='ccurtis.data')"
   ]
  },
  {
   "cell_type": "code",
   "execution_count": 3,
   "metadata": {},
   "outputs": [],
   "source": [
    "raw = sio.imread(filename)"
   ]
  },
  {
   "cell_type": "code",
   "execution_count": null,
   "metadata": {},
   "outputs": [],
   "source": [
    "dif = raw[1, :, :] - raw[0, :, :]"
   ]
  },
  {
   "cell_type": "code",
   "execution_count": null,
   "metadata": {},
   "outputs": [],
   "source": [
    "\n",
    "d1 = np.zeros((512, 512))\n",
    "d1[:, :] = raw[1, :, :]\n",
    "d2 = np.zeros((512, 512))\n",
    "d2[:, :] = raw[0, :, :]\n",
    "d2[:, :] = raw[0, :, :]\n",
    "dif = d1 - d2\n",
    "mdif = np.mean(dif, axis=(0,1))"
   ]
  },
  {
   "cell_type": "code",
   "execution_count": 4,
   "metadata": {},
   "outputs": [],
   "source": [
    "def imdif(rawim, f1=1, f2=0):\n",
    "    imshape = np.shape(raw)\n",
    "    d1 = np.zeros((imshape[1], imshape[2]))\n",
    "    d1[:, :] = raw[f1, :, :]\n",
    "    d2 = np.zeros((imshape[1], imshape[2]))\n",
    "    d2[:, :] = raw[f2, :, :]\n",
    "    dif = d1 - d2\n",
    "    mdif = np.mean(dif, axis=(0,1))\n",
    "    \n",
    "    return mdif"
   ]
  },
  {
   "cell_type": "code",
   "execution_count": null,
   "metadata": {},
   "outputs": [],
   "source": [
    "frames = np.shape(raw)[0]\n",
    "acf = np.zeros(frames)\n",
    "\n",
    "iacf = np.zeros(frames-1)\n",
    "for frame in range(0, frames-1):\n",
    "    value = imdif(raw, f1=frame+1, f2=frame)\n",
    "    iacf[frame] = value\n"
   ]
  },
  {
   "cell_type": "code",
   "execution_count": 5,
   "metadata": {},
   "outputs": [],
   "source": [
    "def onelag(rawim, interval=1):\n",
    "    frames = np.shape(rawim)[0]\n",
    "    \n",
    "    iacf = np.zeros(frames - interval)\n",
    "    for frame in range(0, frames - interval):\n",
    "        value = imdif(raw, f1=frame+interval, f2=frame)\n",
    "        iacf[frame] = value\n",
    "        miacf = np.mean(iacf)\n",
    "    return miacf"
   ]
  },
  {
   "cell_type": "code",
   "execution_count": null,
   "metadata": {},
   "outputs": [],
   "source": [
    "def rawsignal(rawim):\n",
    "    frames = np.shape(rawim)[0]\n",
    "    "
   ]
  },
  {
   "cell_type": "code",
   "execution_count": null,
   "metadata": {},
   "outputs": [],
   "source": [
    "numpy.correlate(x, x, mode='same') "
   ]
  },
  {
   "cell_type": "code",
   "execution_count": null,
   "metadata": {},
   "outputs": [],
   "source": [
    "sio.imshow(raw[0, :, :])"
   ]
  },
  {
   "cell_type": "code",
   "execution_count": 35,
   "metadata": {},
   "outputs": [],
   "source": [
    "scaledim = raw / np.max(raw, axis=(0, 1, 2))\n",
    "test = scaledim[:, 100, 100]"
   ]
  },
  {
   "cell_type": "code",
   "execution_count": 29,
   "metadata": {},
   "outputs": [],
   "source": [
    "def autocorr(x):\n",
    "    result = np.correlate(x, x, mode='full')\n",
    "    return result[int(result.shape[0]/2):]"
   ]
  },
  {
   "cell_type": "code",
   "execution_count": 36,
   "metadata": {},
   "outputs": [],
   "source": [
    "autoc = autocorr(test)"
   ]
  },
  {
   "cell_type": "code",
   "execution_count": 33,
   "metadata": {},
   "outputs": [
    {
     "data": {
      "text/plain": [
       "(651,)"
      ]
     },
     "execution_count": 33,
     "metadata": {},
     "output_type": "execute_result"
    }
   ],
   "source": [
    "autoc.shape"
   ]
  },
  {
   "cell_type": "code",
   "execution_count": 17,
   "metadata": {},
   "outputs": [],
   "source": [
    "import matplotlib.pyplot as plt\n",
    "%matplotlib inline"
   ]
  },
  {
   "cell_type": "code",
   "execution_count": 37,
   "metadata": {},
   "outputs": [
    {
     "data": {
      "text/plain": [
       "[<matplotlib.lines.Line2D at 0x7fdca7fd7e10>]"
      ]
     },
     "execution_count": 37,
     "metadata": {},
     "output_type": "execute_result"
    },
    {
     "data": {
      "image/png": "[encoded data removed]",
      "text/plain": [
       "<Figure size 432x288 with 1 Axes>"
      ]
     },
     "metadata": {},
     "output_type": "display_data"
    }
   ],
   "source": [
    "plt.plot(np.linspace(0, 650, 651), autoc)"
   ]
  },
  {
   "cell_type": "code",
   "execution_count": null,
   "metadata": {},
   "outputs": [],
   "source": [
    "for i in range(0,512):\n",
    "    for j in range(0,512):\n",
    "        y = autocorr(scaledim[:, i, j])\n",
    "        plt.plot(np.linspace(0, 650, 651), y)"
   ]
  },
  {
   "cell_type": "code",
   "execution_count": null,
   "metadata": {},
   "outputs": [],
   "source": []
  }
 ],
 "metadata": {
  "kernelspec": {
   "display_name": "Python 3",
   "language": "python",
   "name": "python3"
  },
  "language_info": {
   "codemirror_mode": {
    "name": "ipython",
    "version": 3
   },
   "file_extension": ".py",
   "mimetype": "text/x-python",
   "name": "python",
   "nbconvert_exporter": "python",
   "pygments_lexer": "ipython3",
   "version": "3.6.3"
  }
 },
 "nbformat": 4,
 "nbformat_minor": 2
}
