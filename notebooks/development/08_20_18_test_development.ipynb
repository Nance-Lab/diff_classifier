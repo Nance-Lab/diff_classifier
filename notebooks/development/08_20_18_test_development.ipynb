{
 "cells": [
  {
   "cell_type": "code",
   "execution_count": 3,
   "metadata": {
    "collapsed": false
   },
   "outputs": [],
   "source": [
    "import numpy as np\n",
    "import pandas as pd\n",
    "import random as rand\n",
    "import diff_classifier.pca as pca\n",
    "import diff_classifier.msd as msd\n",
    "import diff_classifier.features as ft\n",
    "import numpy.testing as npt\n",
    "import pandas.util.testing as pdt\n",
    "#import diff_classifier.heatmaps as hm"
   ]
  },
  {
   "cell_type": "code",
   "execution_count": 4,
   "metadata": {
    "collapsed": false
   },
   "outputs": [],
   "source": [
    "dataf = msd.random_traj_dataset(nparts=10, ndist=(2, 6))"
   ]
  },
  {
   "cell_type": "code",
   "execution_count": 12,
   "metadata": {
    "collapsed": false
   },
   "outputs": [
    {
     "name": "stdout",
     "output_type": "stream",
     "text": [
      "0.5969889851084509\n"
     ]
    }
   ],
   "source": [
    "dataf = msd.random_traj_dataset(nparts=10, ndist=(1, 1), seed=2)\n",
    "msds = msd.all_msds2(dataf, frames=100)\n",
    "feat = ft.calculate_features(msds)\n",
    "dataset = feat.drop(['frames', 'Track_ID'], axis=1)\n",
    "npt.assert_equal(np.round(pca.kmo(dataset), 3), 0.597)"
   ]
  },
  {
   "cell_type": "code",
   "execution_count": 5,
   "metadata": {
    "collapsed": false
   },
   "outputs": [],
   "source": [
    "msds = msd.all_msds2(dataf, frames=100)\n",
    "feat = ft.calculate_features(msds)"
   ]
  },
  {
   "cell_type": "code",
   "execution_count": 14,
   "metadata": {
    "collapsed": false
   },
   "outputs": [
    {
     "data": {
      "text/plain": [
       "11.800808663930045"
      ]
     },
     "execution_count": 14,
     "metadata": {},
     "output_type": "execute_result"
    }
   ],
   "source": [
    "dataset = feat.drop(['frames', 'Track_ID'], axis=1)\n",
    "corrmatrix = np.corrcoef(dataset.transpose())\n",
    "np.sum(corrmatrix)"
   ]
  },
  {
   "cell_type": "code",
   "execution_count": 8,
   "metadata": {
    "collapsed": false
   },
   "outputs": [
    {
     "name": "stdout",
     "output_type": "stream",
     "text": [
      "0.6805466372212469\n"
     ]
    },
    {
     "data": {
      "text/plain": [
       "0.6805466372212469"
      ]
     },
     "execution_count": 8,
     "metadata": {},
     "output_type": "execute_result"
    }
   ],
   "source": [
    "dataset = feat.drop(['frames', 'Track_ID'], axis=1)\n",
    "pca.kmo(dataset)"
   ]
  },
  {
   "cell_type": "code",
   "execution_count": null,
   "metadata": {
    "collapsed": false
   },
   "outputs": [],
   "source": [
    "dataset = feat.drop(['frames', 'Track_ID'], axis=1)\n",
    "corrmatrix = np.corrcoef(dataset.transpose())"
   ]
  },
  {
   "cell_type": "code",
   "execution_count": null,
   "metadata": {
    "collapsed": false
   },
   "outputs": [],
   "source": [
    "pcorr = pca.partial_corr(dataset)"
   ]
  },
  {
   "cell_type": "code",
   "execution_count": 6,
   "metadata": {
    "collapsed": false
   },
   "outputs": [
    {
     "name": "stdout",
     "output_type": "stream",
     "text": [
      "Cumulative explained variance:\n",
      "0 component: 0.5382242778632648\n",
      "1 component: 0.7276107318614025\n",
      "2 component: 0.8408038465269879\n",
      "3 component: 0.9124122655271746\n",
      "4 component: 0.953681527751141\n"
     ]
    }
   ],
   "source": [
    "pcadataset = pca.pca_analysis(feat, dropcols=['frames', 'Track_ID'], n_components=5)"
   ]
  },
  {
   "cell_type": "code",
   "execution_count": 7,
   "metadata": {
    "collapsed": false
   },
   "outputs": [
    {
     "data": {
      "text/plain": [
       "-0.9713630935192183"
      ]
     },
     "execution_count": 7,
     "metadata": {},
     "output_type": "execute_result"
    }
   ],
   "source": [
    "np.sum(pcadataset.components.values)"
   ]
  },
  {
   "cell_type": "code",
   "execution_count": null,
   "metadata": {
    "collapsed": false
   },
   "outputs": [],
   "source": [
    "pcadataset.components"
   ]
  },
  {
   "cell_type": "code",
   "execution_count": null,
   "metadata": {
    "collapsed": true
   },
   "outputs": [],
   "source": [
    "# Calculation of the KMO statistic\n",
    "matrix = corrmatrix*corrmatrix\n",
    "rows = matrix.shape[0]\n",
    "cols = matrix.shape[1]\n",
    "rij = 0\n",
    "uij = 0\n",
    "for row in range(0, rows):\n",
    "    for col in range(0, cols):\n",
    "        if not row == col:\n",
    "            rij = rij + matrix[row, col]\n",
    "            uij = uij + pcorr[row, col]\n",
    "\n",
    "kmostat = rij/(rij+uij)"
   ]
  },
  {
   "cell_type": "code",
   "execution_count": null,
   "metadata": {
    "collapsed": false
   },
   "outputs": [],
   "source": [
    "np.round(np.sum(pcorr), 1)"
   ]
  },
  {
   "cell_type": "code",
   "execution_count": null,
   "metadata": {
    "collapsed": false
   },
   "outputs": [],
   "source": [
    "x, y = random_walk(nsteps=5)"
   ]
  },
  {
   "cell_type": "code",
   "execution_count": null,
   "metadata": {
    "collapsed": false
   },
   "outputs": [],
   "source": [
    "xi = np.array([ 0., -1.,  0.,  0.,  1.])\n",
    "yi = np.array([0., 0., 0., 1., 1.])"
   ]
  },
  {
   "cell_type": "code",
   "execution_count": null,
   "metadata": {
    "collapsed": false
   },
   "outputs": [],
   "source": [
    "npt.assert_equal(xi, x)"
   ]
  },
  {
   "cell_type": "code",
   "execution_count": null,
   "metadata": {
    "collapsed": true
   },
   "outputs": [],
   "source": []
  }
 ],
 "metadata": {
  "kernelspec": {
   "display_name": "Python 3",
   "language": "python",
   "name": "python3"
  },
  "language_info": {
   "codemirror_mode": {
    "name": "ipython",
    "version": 3
   },
   "file_extension": ".py",
   "mimetype": "text/x-python",
   "name": "python",
   "nbconvert_exporter": "python",
   "pygments_lexer": "ipython3",
   "version": "3.5.3"
  }
 },
 "nbformat": 4,
 "nbformat_minor": 0
}
