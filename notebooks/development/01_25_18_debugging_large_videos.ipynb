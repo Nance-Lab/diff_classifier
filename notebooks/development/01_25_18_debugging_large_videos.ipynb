{
 "cells": [
  {
   "cell_type": "code",
   "execution_count": 1,
   "metadata": {},
   "outputs": [],
   "source": [
    "import numpy as np\n",
    "import sys\n",
    "import os.path as op\n",
    "import skimage.io as sio\n",
    "import subprocess\n",
    "import tempfile\n",
    "import diff_classifier as dc\n",
    "\n",
    "target = '/home/ubuntu/data/RED_nPEG_37C_pH72_S1_1.tif'\n",
    "out_file = 'test.csv'\n",
    "template = None\n",
    "fiji_bin = None\n",
    "radius=3.5 \n",
    "threshold=0.   \n",
    "do_median_filtering=False\n",
    "quality=30\n",
    "median_intensity=0.0\n",
    "snr=0.0\n",
    "linking_max_distance=10.0\n",
    "gap_closing_max_distance=10.0\n",
    "max_frame_gap=2\n",
    "track_displacement=10.0"
   ]
  },
  {
   "cell_type": "code",
   "execution_count": null,
   "metadata": {},
   "outputs": [],
   "source": [
    "from ij import IJ, ImagePlus, ImageStack"
   ]
  },
  {
   "cell_type": "code",
   "execution_count": 2,
   "metadata": {},
   "outputs": [],
   "source": [
    "if template is None:\n",
    "    template = op.join(op.split(dc.__file__)[0],\n",
    "                       'data',\n",
    "                       'trackmate_template.py')\n",
    "\n",
    "if fiji_bin is None:\n",
    "    if sys.platform == \"darwin\":\n",
    "        fiji_bin = op.join(\n",
    "            '/Applications/Fiji.app/Contents/MacOS/ImageJ-macosx')\n",
    "    elif sys.platform.startswith(\"linux\"):\n",
    "        fiji_bin = op.join(op.expanduser('~'), 'Fiji.app/ImageJ-linux64')"
   ]
  },
  {
   "cell_type": "code",
   "execution_count": 3,
   "metadata": {},
   "outputs": [
    {
     "data": {
      "text/plain": [
       "6207"
      ]
     },
     "execution_count": 3,
     "metadata": {},
     "output_type": "execute_result"
    }
   ],
   "source": [
    "script = ''.join(open(template).readlines())\n",
    "tf = tempfile.NamedTemporaryFile(suffix=\".py\")\n",
    "fid = open(tf.name, 'w')\n",
    "fid.write(script.format(target_file=target, radius=str(radius), threshold=str(threshold),\n",
    "                        do_median_filtering=str(do_median_filtering), quality=str(quality),\n",
    "                        median_intensity=str(median_intensity), snr=str(snr),\n",
    "                        linking_max_distance=str(linking_max_distance),\n",
    "                        gap_closing_max_distance=str(gap_closing_max_distance),\n",
    "                        max_frame_gap=str(max_frame_gap), track_displacement=str(track_displacement)))"
   ]
  },
  {
   "cell_type": "code",
   "execution_count": 4,
   "metadata": {},
   "outputs": [
    {
     "name": "stdout",
     "output_type": "stream",
     "text": [
      "/home/ubuntu/Fiji.app/ImageJ-linux64 --ij2 --headless --run /tmp/tmphz0ozi9w.py\n"
     ]
    }
   ],
   "source": [
    "fid.close()\n",
    "cmd = \"%s --ij2 --headless --run %s\" % (fiji_bin, tf.name)\n",
    "print(cmd)"
   ]
  },
  {
   "cell_type": "code",
   "execution_count": null,
   "metadata": {},
   "outputs": [],
   "source": [
    "sp = subprocess.run(cmd, stdout=subprocess.PIPE, shell=True)\n",
    "fid = open(out_file, 'w')\n",
    "fid.write(sp.stdout.decode())\n",
    "fid.close()"
   ]
  },
  {
   "cell_type": "code",
   "execution_count": null,
   "metadata": {},
   "outputs": [],
   "source": [
    "imp = IJ.openImage('{target_file}')\n",
    "IJ.run(imp, \"Properties...\", \"channels=1 slices=1 frames=651 unit=pixel pixel_width=1.0000 pixel_height=1.0000 voxel_depth=1.0000\");"
   ]
  }
 ],
 "metadata": {
  "kernelspec": {
   "display_name": "Python 3",
   "language": "python",
   "name": "python3"
  },
  "language_info": {
   "codemirror_mode": {
    "name": "ipython",
    "version": 3
   },
   "file_extension": ".py",
   "mimetype": "text/x-python",
   "name": "python",
   "nbconvert_exporter": "python",
   "pygments_lexer": "ipython3",
   "version": "3.6.3"
  }
 },
 "nbformat": 4,
 "nbformat_minor": 2
}
