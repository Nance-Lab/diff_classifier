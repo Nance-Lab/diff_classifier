{
 "cells": [
  {
   "cell_type": "code",
   "execution_count": null,
   "metadata": {},
   "outputs": [],
   "source": [
    "import pandas as pd\n",
    "import numpy as np\n",
    "import skimage.io as sio\n",
    "import numpy.ma as ma\n",
    "from scipy import interpolate\n",
    "\n",
    "import diff_classifier.aws as aws\n",
    "import diff_classifier.utils as ut\n",
    "import diff_classifier.msd as msd\n",
    "import diff_classifier.features as ft"
   ]
  },
  {
   "cell_type": "code",
   "execution_count": null,
   "metadata": {},
   "outputs": [],
   "source": [
    "files = !ls Traj*\n",
    "local_name = files[0]\n",
    "test = ut.csv_to_pd(local_name)"
   ]
  },
  {
   "cell_type": "code",
   "execution_count": null,
   "metadata": {},
   "outputs": [],
   "source": [
    "test"
   ]
  },
  {
   "cell_type": "code",
   "execution_count": null,
   "metadata": {},
   "outputs": [],
   "source": [
    "def make_xyarray(data):\n",
    "    \n",
    "    #Initial values\n",
    "    length = 651\n",
    "    particles = max(data['Track_ID'])\n",
    "    x_array = np.zeros((length, particles+1))\n",
    "    y_array = np.zeros((length, particles+1))\n",
    "    f_array = np.zeros((length, particles+1))\n",
    "    t_array = np.zeros((length, particles+1))\n",
    "\n",
    "    track = data[data['Track_ID']==0].sort_values(['Track_ID', 'Frame'], ascending=[1, 1]).reset_index(drop=True)\n",
    "    new_frame = np.linspace(0, length-1, length)\n",
    "\n",
    "    old_frame = track['Frame']\n",
    "    old_x = track['X']\n",
    "    old_y = track['Y']\n",
    "    fx = interpolate.interp1d(old_frame, old_x, bounds_error = False, fill_value = np.nan)\n",
    "    fy = interpolate.interp1d(old_frame, old_y, bounds_error = False, fill_value = np.nan)\n",
    "\n",
    "    int_x = fx(new_frame)\n",
    "    int_y = fy(new_frame)\n",
    "    \n",
    "    #Fill in entire array\n",
    "    x_array[:, 0] = int_x\n",
    "    y_array[:, 0] = int_y\n",
    "    f_array[:, 0] = new_frame\n",
    "    t_array[:, 0] = 0\n",
    "\n",
    "    for part in range(first_p+1, particles+1):\n",
    "        track = data[data['Track_ID']==part].sort_values(['Track_ID', 'Frame'], ascending=[1, 1]).reset_index(drop=True)\n",
    "\n",
    "        old_frame = track['Frame']\n",
    "        old_x = track['X']\n",
    "        old_y = track['Y']\n",
    "        fx = interpolate.interp1d(old_frame, old_x, bounds_error = False, fill_value = np.nan)\n",
    "        fy = interpolate.interp1d(old_frame, old_y, bounds_error = False, fill_value = np.nan)\n",
    "\n",
    "        int_x = fx(new_frame)\n",
    "        int_y = fy(new_frame)\n",
    "\n",
    "        x_array[:, part] = int_x\n",
    "        y_array[:, part] = int_y\n",
    "        f_array[:, part] = new_frame\n",
    "        t_array[:, part] = part\n",
    "    \n",
    "    return f_array, t_array, x_array, y_array"
   ]
  },
  {
   "cell_type": "code",
   "execution_count": null,
   "metadata": {},
   "outputs": [],
   "source": []
  },
  {
   "cell_type": "code",
   "execution_count": null,
   "metadata": {},
   "outputs": [],
   "source": [
    "def all_msds2(data):\n",
    "\n",
    "    f_array, t_array, x_array, y_array = make_xyarray(data)\n",
    "\n",
    "    length = x_array.shape[0]\n",
    "    particles = x_array.shape[1]\n",
    "\n",
    "    MSD = np.zeros((length, particles))\n",
    "    gauss = np.zeros((length, particles))\n",
    "\n",
    "    for frame in range(0, length-1):\n",
    "        x = np.square(msd.nth_diff(x_array, n=frame+1))\n",
    "        y = np.square(msd.nth_diff(y_array, n=frame+1))\n",
    "\n",
    "        MSD[frame+1, :] = np.nanmean(x + y, axis=0)\n",
    "        gauss[frame+1, :] = np.nanmean(x**2 + y**2, axis=0)/(2*(MSD[frame+1]**2))\n",
    "    \n",
    "    d = {'Frame': f_array.flatten('F'),\n",
    "         'Track_ID': t_array.flatten('F'),\n",
    "         'X': x_array.flatten('F'),\n",
    "         'Y': y_array.flatten('F'),\n",
    "         'MSDs': MSD.flatten('F'),\n",
    "         'Gauss': gauss.flatten('F')}\n",
    "    new_data = pd.DataFrame(data=d)\n",
    "    \n",
    "    return new_data"
   ]
  },
  {
   "cell_type": "code",
   "execution_count": null,
   "metadata": {},
   "outputs": [],
   "source": [
    "new_data = all_msds2(test)"
   ]
  },
  {
   "cell_type": "code",
   "execution_count": null,
   "metadata": {},
   "outputs": [],
   "source": [
    "new_data[new_data['Track_ID']==100]"
   ]
  },
  {
   "cell_type": "code",
   "execution_count": null,
   "metadata": {},
   "outputs": [],
   "source": []
  }
 ],
 "metadata": {
  "kernelspec": {
   "display_name": "Python 2",
   "language": "python",
   "name": "python2"
  },
  "language_info": {
   "codemirror_mode": {
    "name": "ipython",
    "version": 2
   },
   "file_extension": ".py",
   "mimetype": "text/x-python",
   "name": "python",
   "nbconvert_exporter": "python",
   "pygments_lexer": "ipython2",
   "version": "2.7.12"
  }
 },
 "nbformat": 4,
 "nbformat_minor": 2
}
