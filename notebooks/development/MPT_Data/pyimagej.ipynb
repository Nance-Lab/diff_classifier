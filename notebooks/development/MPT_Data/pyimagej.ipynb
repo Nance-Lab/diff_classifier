{
 "cells": [
  {
   "cell_type": "code",
   "execution_count": 3,
   "metadata": {},
   "outputs": [],
   "source": [
    "import imagej\n",
    "import os\n",
    "import scyjava as sj\n",
    "import random\n",
    "sj.config.add_options('-Xmx6g')\n",
    "\n",
    "os.environ[\"JAVA_HOME\"] = \"/Users/nelsschimek/mambaforge/envs/i2k-2022-pyimagej/\"\n"
   ]
  },
  {
   "cell_type": "code",
   "execution_count": 4,
   "metadata": {},
   "outputs": [
    {
     "name": "stdout",
     "output_type": "stream",
     "text": [
      "ImageJ version: 2.9.0/Inactive\n"
     ]
    }
   ],
   "source": [
    "# initialize ImageJ\n",
    "ij = imagej.init('/Applications/Fiji.app/')\n",
    "print(f\"ImageJ version: {ij.getVersion()}\")"
   ]
  },
  {
   "cell_type": "code",
   "execution_count": 16,
   "metadata": {},
   "outputs": [
    {
     "name": "stdout",
     "output_type": "stream",
     "text": [
      "['PLUGIN_NAME_STR', 'PLUGIN_NAME_VERSION', '__class__', '__del__', '__delattr__', '__dict__', '__dir__', '__doc__', '__eq__', '__format__', '__ge__', '__getattribute__', '__gt__', '__hash__', '__init__', '__init_subclass__', '__le__', '__lt__', '__module__', '__ne__', '__new__', '__reduce__', '__reduce_ex__', '__repr__', '__setattr__', '__sizeof__', '__str__', '__subclasshook__', '__weakref__', 'cancel', 'checkInput', 'computeEdgeFeatures', 'computeSpotFeatures', 'computeTrackFeatures', 'equals', 'execDetection', 'execInitialSpotFiltering', 'execSpotFiltering', 'execTrackFiltering', 'execTracking', 'getCancelReason', 'getClass', 'getErrorMessage', 'getModel', 'getName', 'getNumThreads', 'getProcessingTime', 'getSettings', 'hashCode', 'isCanceled', 'notify', 'notifyAll', 'process', 'setName', 'setNumThreads', 'toString', 'wait']\n"
     ]
    },
    {
     "data": {
      "text/plain": [
       "'fiji.plugin.trackmate'"
      ]
     },
     "execution_count": 16,
     "metadata": {},
     "output_type": "execute_result"
    }
   ],
   "source": [
    "track_mate = sj.jimport('fiji.plugin.trackmate.TrackMate')\n",
    "print(dir(track_mate))\n",
    "\n",
    "track_mate."
   ]
  },
  {
   "cell_type": "code",
   "execution_count": 18,
   "metadata": {},
   "outputs": [
    {
     "ename": "ImportError",
     "evalue": "The original ImageJ is not available in this environment. The ij.IJ class is not available. See: https://github.com/imagej/pyimagej/blob/master/doc/Initialization.md",
     "output_type": "error",
     "traceback": [
      "\u001b[0;31m---------------------------------------------------------------------------\u001b[0m",
      "\u001b[0;31mImportError\u001b[0m                               Traceback (most recent call last)",
      "Cell \u001b[0;32mIn[18], line 1\u001b[0m\n\u001b[0;32m----> 1\u001b[0m ij\u001b[39m.\u001b[39;49mpy\u001b[39m.\u001b[39;49mrun_plugin(plugin\u001b[39m=\u001b[39;49m\u001b[39m\"\u001b[39;49m\u001b[39mTrackMate\u001b[39;49m\u001b[39m\"\u001b[39;49m)\n",
      "File \u001b[0;32m~/mambaforge/envs/i2k-2022-pyimagej/lib/python3.8/site-packages/imagej/__init__.py:449\u001b[0m, in \u001b[0;36mImageJPython.run_plugin\u001b[0;34m(self, plugin, args, ij1_style, imp)\u001b[0m\n\u001b[1;32m    444\u001b[0m argline \u001b[39m=\u001b[39m \u001b[39mself\u001b[39m\u001b[39m.\u001b[39margstring(args, ij1_style)\n\u001b[1;32m    445\u001b[0m \u001b[39mif\u001b[39;00m imp \u001b[39mis\u001b[39;00m \u001b[39mNone\u001b[39;00m:\n\u001b[1;32m    446\u001b[0m     \u001b[39m# NB: Avoid ambiguous overload between:\u001b[39;00m\n\u001b[1;32m    447\u001b[0m     \u001b[39m# - IJ.run(ij.ImagePlus, String, String)\u001b[39;00m\n\u001b[1;32m    448\u001b[0m     \u001b[39m# - IJ.run(ij.macro.Interpreter, String, String)\u001b[39;00m\n\u001b[0;32m--> 449\u001b[0m     \u001b[39mself\u001b[39;49m\u001b[39m.\u001b[39;49m_ij\u001b[39m.\u001b[39;49mIJ\u001b[39m.\u001b[39mrun(plugin, argline)\n\u001b[1;32m    450\u001b[0m \u001b[39melse\u001b[39;00m:\n\u001b[1;32m    451\u001b[0m     \u001b[39mself\u001b[39m\u001b[39m.\u001b[39m_ij\u001b[39m.\u001b[39mIJ\u001b[39m.\u001b[39mrun(imp, plugin, argline)\n",
      "File \u001b[0;32m~/mambaforge/envs/i2k-2022-pyimagej/lib/python3.8/site-packages/imagej/__init__.py:1065\u001b[0m, in \u001b[0;36mGatewayAddons.IJ\u001b[0;34m(self)\u001b[0m\n\u001b[1;32m   1059\u001b[0m \u001b[39m@property\u001b[39m\n\u001b[1;32m   1060\u001b[0m \u001b[39mdef\u001b[39;00m \u001b[39mIJ\u001b[39m(\u001b[39mself\u001b[39m):\n\u001b[1;32m   1061\u001b[0m \u001b[39m    \u001b[39m\u001b[39m\"\"\"Get the original ImageJ `IJ` utility class.\u001b[39;00m\n\u001b[1;32m   1062\u001b[0m \n\u001b[1;32m   1063\u001b[0m \u001b[39m    :return: The `ij.IJ` class.\u001b[39;00m\n\u001b[1;32m   1064\u001b[0m \u001b[39m    \"\"\"\u001b[39;00m\n\u001b[0;32m-> 1065\u001b[0m     \u001b[39mreturn\u001b[39;00m \u001b[39mself\u001b[39;49m\u001b[39m.\u001b[39;49m_access_legacy_class(\u001b[39m\"\u001b[39;49m\u001b[39mij.IJ\u001b[39;49m\u001b[39m\"\u001b[39;49m)\n",
      "File \u001b[0;32m~/mambaforge/envs/i2k-2022-pyimagej/lib/python3.8/site-packages/imagej/__init__.py:1092\u001b[0m, in \u001b[0;36mGatewayAddons._access_legacy_class\u001b[0;34m(self, fqcn)\u001b[0m\n\u001b[1;32m   1091\u001b[0m \u001b[39mdef\u001b[39;00m \u001b[39m_access_legacy_class\u001b[39m(\u001b[39mself\u001b[39m, fqcn: \u001b[39mstr\u001b[39m):\n\u001b[0;32m-> 1092\u001b[0m     \u001b[39mself\u001b[39;49m\u001b[39m.\u001b[39;49m_check_legacy_active(\u001b[39mf\u001b[39;49m\u001b[39m\"\u001b[39;49m\u001b[39mThe \u001b[39;49m\u001b[39m{\u001b[39;49;00mfqcn\u001b[39m}\u001b[39;49;00m\u001b[39m class is not available.\u001b[39;49m\u001b[39m\"\u001b[39;49m)\n\u001b[1;32m   1093\u001b[0m     class_name \u001b[39m=\u001b[39m fqcn[fqcn\u001b[39m.\u001b[39mrindex(\u001b[39m\"\u001b[39m\u001b[39m.\u001b[39m\u001b[39m\"\u001b[39m) \u001b[39m+\u001b[39m \u001b[39m1\u001b[39m :]\n\u001b[1;32m   1094\u001b[0m     property_name \u001b[39m=\u001b[39m \u001b[39mf\u001b[39m\u001b[39m\"\u001b[39m\u001b[39m_\u001b[39m\u001b[39m{\u001b[39;00mclass_name\u001b[39m}\u001b[39;00m\u001b[39m\"\u001b[39m\n",
      "File \u001b[0;32m~/mambaforge/envs/i2k-2022-pyimagej/lib/python3.8/site-packages/imagej/__init__.py:1106\u001b[0m, in \u001b[0;36mGatewayAddons._check_legacy_active\u001b[0;34m(self, usage_context)\u001b[0m\n\u001b[1;32m   1104\u001b[0m \u001b[39mdef\u001b[39;00m \u001b[39m_check_legacy_active\u001b[39m(\u001b[39mself\u001b[39m, usage_context\u001b[39m=\u001b[39m\u001b[39m\"\u001b[39m\u001b[39m\"\u001b[39m):\n\u001b[1;32m   1105\u001b[0m     \u001b[39mif\u001b[39;00m \u001b[39mnot\u001b[39;00m \u001b[39mself\u001b[39m\u001b[39m.\u001b[39mlegacy \u001b[39mor\u001b[39;00m \u001b[39mnot\u001b[39;00m \u001b[39mself\u001b[39m\u001b[39m.\u001b[39mlegacy\u001b[39m.\u001b[39misActive():\n\u001b[0;32m-> 1106\u001b[0m         \u001b[39mraise\u001b[39;00m \u001b[39mImportError\u001b[39;00m(\n\u001b[1;32m   1107\u001b[0m             \u001b[39mf\u001b[39m\u001b[39m\"\u001b[39m\u001b[39mThe original ImageJ is not available in this environment. \u001b[39m\u001b[39m{\u001b[39;00musage_context\u001b[39m}\u001b[39;00m\u001b[39m See: https://github.com/imagej/pyimagej/blob/master/doc/Initialization.md\u001b[39m\u001b[39m\"\u001b[39m\n\u001b[1;32m   1108\u001b[0m         )\n",
      "\u001b[0;31mImportError\u001b[0m: The original ImageJ is not available in this environment. The ij.IJ class is not available. See: https://github.com/imagej/pyimagej/blob/master/doc/Initialization.md"
     ]
    }
   ],
   "source": [
    "ij.py.run_plugin(plugin=\"TrackMate\")"
   ]
  },
  {
   "cell_type": "code",
   "execution_count": 25,
   "metadata": {},
   "outputs": [
    {
     "name": "stdout",
     "output_type": "stream",
     "text": [
      "(3, 4, 5)\n"
     ]
    }
   ],
   "source": [
    "import numpy as np\n",
    "\n",
    "array = np.random.rand(5, 4, 3)\n",
    "dataset = ij.py.to_java(array)\n",
    "\n",
    "print(dataset.shape)"
   ]
  },
  {
   "cell_type": "code",
   "execution_count": 2,
   "metadata": {},
   "outputs": [
    {
     "ename": "NameError",
     "evalue": "name 'imagej' is not defined",
     "output_type": "error",
     "traceback": [
      "\u001b[0;31m---------------------------------------------------------------------------\u001b[0m",
      "\u001b[0;31mNameError\u001b[0m                                 Traceback (most recent call last)",
      "Cell \u001b[0;32mIn[2], line 2\u001b[0m\n\u001b[1;32m      1\u001b[0m \u001b[39m# Create an ImageJ2 gateway with the newest available version of ImageJ2.\u001b[39;00m\n\u001b[0;32m----> 2\u001b[0m ij \u001b[39m=\u001b[39m imagej\u001b[39m.\u001b[39minit()\n",
      "\u001b[0;31mNameError\u001b[0m: name 'imagej' is not defined"
     ]
    }
   ],
   "source": [
    "# Create an ImageJ2 gateway with the newest available version of ImageJ2.\n",
    "ij = imagej.init()"
   ]
  },
  {
   "cell_type": "code",
   "execution_count": 27,
   "metadata": {},
   "outputs": [],
   "source": [
    "\n",
    "\n",
    "# Load an image.\n",
    "#image_url = 'https://imagej.net/images/clown.jpg'\n",
    "image_path = \"/Users/nelsschimek/Documents/nancelab/diff_classifier/notebooks/development/MPT_Data/TIFs/P10F_NT_10DIV_40nm_slice_2_midbrain_vid_2.tif\"\n",
    "jimage = ij.io().open(image_path)\n",
    "\n",
    "# Convert the image from ImageJ2 to xarray, a package that adds\n",
    "# labeled datasets to numpy (http://xarray.pydata.org/en/stable/).\n",
    "image = ij.py.from_java(jimage)\n",
    "\n",
    "# Display the image (backed by matplotlib).\n",
    "ij.py.show(image, cmap='gray')"
   ]
  },
  {
   "cell_type": "code",
   "execution_count": 3,
   "metadata": {},
   "outputs": [
    {
     "name": "stderr",
     "output_type": "stream",
     "text": [
      "Operating in headless mode - the original ImageJ will have limited functionality.\n"
     ]
    },
    {
     "ename": "ImportError",
     "evalue": "The original ImageJ is not available in this environment. Use of original ImageJ macros is not possible. See: https://github.com/imagej/pyimagej/blob/master/doc/Initialization.md",
     "output_type": "error",
     "traceback": [
      "\u001b[0;31m---------------------------------------------------------------------------\u001b[0m",
      "\u001b[0;31mImportError\u001b[0m                               Traceback (most recent call last)",
      "Cell \u001b[0;32mIn[3], line 1\u001b[0m\n\u001b[0;32m----> 1\u001b[0m settings \u001b[39m=\u001b[39m ij\u001b[39m.\u001b[39;49mpy\u001b[39m.\u001b[39;49mrun_macro(\u001b[39m\"\u001b[39;49m\u001b[39mnew Settings()\u001b[39;49m\u001b[39m\"\u001b[39;49m)\n\u001b[1;32m      3\u001b[0m \u001b[39m# Generate random settings\u001b[39;00m\n\u001b[1;32m      4\u001b[0m settings\u001b[39m.\u001b[39mdetector_factory \u001b[39m=\u001b[39m ij\u001b[39m.\u001b[39mpy\u001b[39m.\u001b[39mrun_macro(\u001b[39m\"\u001b[39m\u001b[39mnew DogDetectorFactory()\u001b[39m\u001b[39m\"\u001b[39m)\n",
      "File \u001b[0;32m~/mambaforge/envs/i2k-2022-pyimagej/lib/python3.8/site-packages/imagej/__init__.py:405\u001b[0m, in \u001b[0;36mImageJPython.run_macro\u001b[0;34m(self, macro, args)\u001b[0m\n\u001b[1;32m    378\u001b[0m \u001b[39mdef\u001b[39;00m \u001b[39mrun_macro\u001b[39m(\u001b[39mself\u001b[39m, macro: \u001b[39mstr\u001b[39m, args\u001b[39m=\u001b[39m\u001b[39mNone\u001b[39;00m):\n\u001b[1;32m    379\u001b[0m \u001b[39m    \u001b[39m\u001b[39m\"\"\"Run an ImageJ macro.\u001b[39;00m\n\u001b[1;32m    380\u001b[0m \n\u001b[1;32m    381\u001b[0m \u001b[39m    Run an ImageJ macro by providing the macro code/script in a string and\u001b[39;00m\n\u001b[0;32m   (...)\u001b[0m\n\u001b[1;32m    403\u001b[0m \u001b[39m        print(macro_result.getOutput(\u001b[39m\u001b[39m'\u001b[39m\u001b[39moutput\u001b[39m\u001b[39m'\u001b[39m\u001b[39m))\u001b[39m\n\u001b[1;32m    404\u001b[0m \u001b[39m    \u001b[39m\u001b[39m\"\"\"\u001b[39m\n\u001b[0;32m--> 405\u001b[0m     \u001b[39mself\u001b[39;49m\u001b[39m.\u001b[39;49m_ij\u001b[39m.\u001b[39;49m_check_legacy_active(\u001b[39m\"\u001b[39;49m\u001b[39mUse of original ImageJ macros is not possible.\u001b[39;49m\u001b[39m\"\u001b[39;49m)\n\u001b[1;32m    407\u001b[0m     \u001b[39mtry\u001b[39;00m:\n\u001b[1;32m    408\u001b[0m         \u001b[39mif\u001b[39;00m args \u001b[39mis\u001b[39;00m \u001b[39mNone\u001b[39;00m:\n",
      "File \u001b[0;32m~/mambaforge/envs/i2k-2022-pyimagej/lib/python3.8/site-packages/imagej/__init__.py:1106\u001b[0m, in \u001b[0;36mGatewayAddons._check_legacy_active\u001b[0;34m(self, usage_context)\u001b[0m\n\u001b[1;32m   1104\u001b[0m \u001b[39mdef\u001b[39;00m \u001b[39m_check_legacy_active\u001b[39m(\u001b[39mself\u001b[39m, usage_context\u001b[39m=\u001b[39m\u001b[39m\"\u001b[39m\u001b[39m\"\u001b[39m):\n\u001b[1;32m   1105\u001b[0m     \u001b[39mif\u001b[39;00m \u001b[39mnot\u001b[39;00m \u001b[39mself\u001b[39m\u001b[39m.\u001b[39mlegacy \u001b[39mor\u001b[39;00m \u001b[39mnot\u001b[39;00m \u001b[39mself\u001b[39m\u001b[39m.\u001b[39mlegacy\u001b[39m.\u001b[39misActive():\n\u001b[0;32m-> 1106\u001b[0m         \u001b[39mraise\u001b[39;00m \u001b[39mImportError\u001b[39;00m(\n\u001b[1;32m   1107\u001b[0m             \u001b[39mf\u001b[39m\u001b[39m\"\u001b[39m\u001b[39mThe original ImageJ is not available in this environment. \u001b[39m\u001b[39m{\u001b[39;00musage_context\u001b[39m}\u001b[39;00m\u001b[39m See: https://github.com/imagej/pyimagej/blob/master/doc/Initialization.md\u001b[39m\u001b[39m\"\u001b[39m\n\u001b[1;32m   1108\u001b[0m         )\n",
      "\u001b[0;31mImportError\u001b[0m: The original ImageJ is not available in this environment. Use of original ImageJ macros is not possible. See: https://github.com/imagej/pyimagej/blob/master/doc/Initialization.md"
     ]
    }
   ],
   "source": [
    "\n",
    "# Generate random settings\n"
   ]
  },
  {
   "cell_type": "code",
   "execution_count": null,
   "metadata": {},
   "outputs": [],
   "source": [
    "ij.py.run_macr0()"
   ]
  },
  {
   "cell_type": "code",
   "execution_count": null,
   "metadata": {},
   "outputs": [],
   "source": []
  }
 ],
 "metadata": {
  "kernelspec": {
   "display_name": "i2k-2022-pyimagej",
   "language": "python",
   "name": "python3"
  },
  "language_info": {
   "codemirror_mode": {
    "name": "ipython",
    "version": 3
   },
   "file_extension": ".py",
   "mimetype": "text/x-python",
   "name": "python",
   "nbconvert_exporter": "python",
   "pygments_lexer": "ipython3",
   "version": "3.8.13"
  },
  "orig_nbformat": 4,
  "vscode": {
   "interpreter": {
    "hash": "5fea8767a81a54c247a941d1f983a68942d851cb588b62d0b0b9cc1ea91b803f"
   }
  }
 },
 "nbformat": 4,
 "nbformat_minor": 2
}
