{
 "cells": [
  {
   "cell_type": "code",
   "execution_count": 1,
   "metadata": {
    "collapsed": true
   },
   "outputs": [],
   "source": [
    "import diff_classifier.aws as aws\n",
    "import diff_classifier.utils as ut\n",
    "import diff_classifier.msd as msd\n",
    "import diff_classifier.features as ft\n",
    "import os\n",
    "import os.path as op\n",
    "import numpy as np\n",
    "import numpy.ma as ma\n",
    "import pandas as pd\n",
    "import scipy.interpolate as interpolate\n",
    "\n",
    "import matplotlib as mpl\n",
    "import matplotlib.cm as cm\n",
    "import matplotlib.pyplot as plt\n",
    "%matplotlib inline"
   ]
  },
  {
   "cell_type": "code",
   "execution_count": 2,
   "metadata": {
    "collapsed": true
   },
   "outputs": [],
   "source": [
    "remote_folder = \"01_18_Experiment/P1\"\n",
    "local_folder = os.getcwd()\n",
    "ires = 512\n",
    "prefix = 'P1_S1_L_0012'\n",
    "frames = 651"
   ]
  },
  {
   "cell_type": "code",
   "execution_count": null,
   "metadata": {
    "collapsed": true
   },
   "outputs": [],
   "source": [
    "merged_ft = pd.read_csv('features_{}.csv'.format(prefix))"
   ]
  },
  {
   "cell_type": "code",
   "execution_count": null,
   "metadata": {
    "collapsed": true
   },
   "outputs": [],
   "source": [
    "merged_ft.hist(column=['kurtosis'], bins=1000)"
   ]
  },
  {
   "cell_type": "code",
   "execution_count": null,
   "metadata": {
    "collapsed": true
   },
   "outputs": [],
   "source": [
    "string = 'asymmetry1'\n",
    "\n",
    "leveler = merged_ft[string]\n",
    "t_min = 0\n",
    "t_max = 1\n",
    "\n",
    "norm = mpl.colors.Normalize(t_min, t_max, clip=True)\n",
    "mapper = cm.ScalarMappable(norm=norm, cmap=cm.viridis)\n",
    "\n",
    "zs = ma.masked_invalid(merged_ft[string])\n",
    "zs = ma.masked_where(zs <= t_min, zs)\n",
    "zs = ma.masked_where(zs >= t_max, zs)\n",
    "to_mask = ma.getmask(zs)\n",
    "zs = ma.compressed(zs)\n",
    "xs = ma.compressed(ma.masked_where(to_mask, merged_ft['X'].astype(int)))\n",
    "ys = ma.compressed(ma.masked_where(to_mask, merged_ft['Y'].astype(int)))\n",
    "#zs = np.random.rand(zs.shape[0])"
   ]
  },
  {
   "cell_type": "code",
   "execution_count": null,
   "metadata": {
    "collapsed": true
   },
   "outputs": [],
   "source": [
    "plt.figure(figsize=(12, 10))\n",
    "plt.scatter(xs, ys, c=zs, s=10)\n",
    "mapper.set_array(10)\n",
    "plt.colorbar(mapper)\n",
    "#plt.set_xlim(0, 4*512)\n",
    "#plt.set_ylim(0, 4*512)"
   ]
  }
 ],
 "metadata": {
  "kernelspec": {
   "display_name": "Python 3",
   "language": "python",
   "name": "python3"
  },
  "language_info": {
   "codemirror_mode": {
    "name": "ipython",
    "version": 3
   },
   "file_extension": ".py",
   "mimetype": "text/x-python",
   "name": "python",
   "nbconvert_exporter": "python",
   "pygments_lexer": "ipython3",
   "version": "3.5.3"
  }
 },
 "nbformat": 4,
 "nbformat_minor": 0
}
