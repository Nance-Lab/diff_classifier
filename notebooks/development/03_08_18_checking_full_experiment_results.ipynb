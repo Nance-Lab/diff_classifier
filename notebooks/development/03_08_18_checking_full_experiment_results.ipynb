{
 "cells": [
  {
   "cell_type": "code",
   "execution_count": 1,
   "metadata": {},
   "outputs": [],
   "source": [
    "import numpy as np\n",
    "import numpy.ma as ma\n",
    "import pandas as pd\n",
    "import boto3"
   ]
  },
  {
   "cell_type": "code",
   "execution_count": 5,
   "metadata": {},
   "outputs": [],
   "source": [
    "folder = '01_18_Experiment'\n",
    "\n",
    "missing = []\n",
    "for i in range(10, 15):\n",
    "    missing.append(\"P1_S2_R_00{}\".format(i))\n",
    "\n",
    "for i in range(10, 15):\n",
    "    missing.append(\"P2_S3_L_00{}\".format(i))\n",
    "    \n",
    "for i in range(0, 15):\n",
    "    missing.append(\"P3_S3_L_{}\".format(\"%04d\" % i))\n",
    "\n",
    "pups = [\"P3\", \"P2\", \"P1\"]\n",
    "slices = [\"S1\", \"S2\", \"S3\"]\n",
    "folder = '01_18_Experiment'\n",
    "\n",
    "hemis = [\"R\", \"L\"]\n",
    "vids = 15\n",
    "\n",
    "to_track = []\n",
    "\n",
    "for pup in pups:\n",
    "    for hemi in hemis:\n",
    "            for slic in slices:\n",
    "                for vid in range(0, vids):\n",
    "                            prefix = \"{}_{}_{}_{}\".format(pup, slic, hemi, \"%04d\" % vid)\n",
    "                            if not prefix in missing:\n",
    "                                for row in range(0, 4):\n",
    "                                    for col in range(0, 4):\n",
    "                                        to_track.append(\"{}_{}_{}\".format(prefix, row, col))"
   ]
  },
  {
   "cell_type": "code",
   "execution_count": 3,
   "metadata": {},
   "outputs": [
    {
     "data": {
      "text/plain": [
       "'P3_S1_R_0000_0_1'"
      ]
     },
     "execution_count": 3,
     "metadata": {},
     "output_type": "execute_result"
    }
   ],
   "source": [
    "to_track[1]"
   ]
  },
  {
   "cell_type": "code",
   "execution_count": 9,
   "metadata": {},
   "outputs": [
    {
     "name": "stdout",
     "output_type": "stream",
     "text": [
      "Traj file Traj_P3_S2_R_0010_0_0.csv does not exist\n",
      "Traj file Traj_P3_S2_R_0010_0_1.csv does not exist\n",
      "Traj file Traj_P3_S2_R_0010_0_2.csv does not exist\n",
      "Traj file Traj_P3_S2_R_0010_0_3.csv does not exist\n",
      "Traj file Traj_P3_S2_R_0010_1_0.csv does not exist\n",
      "Traj file Traj_P3_S2_R_0010_1_1.csv does not exist\n",
      "Traj file Traj_P3_S2_R_0010_1_2.csv does not exist\n",
      "Traj file Traj_P3_S2_R_0010_1_3.csv does not exist\n",
      "Traj file Traj_P3_S2_R_0010_2_0.csv does not exist\n",
      "Traj file Traj_P3_S2_R_0010_2_1.csv does not exist\n",
      "Traj file Traj_P3_S2_R_0010_2_2.csv does not exist\n",
      "Traj file Traj_P3_S2_R_0010_2_3.csv does not exist\n",
      "Traj file Traj_P3_S2_R_0010_3_0.csv does not exist\n",
      "Traj file Traj_P3_S2_R_0010_3_1.csv does not exist\n",
      "Traj file Traj_P3_S2_R_0010_3_2.csv does not exist\n",
      "Traj file Traj_P3_S2_R_0010_3_3.csv does not exist\n",
      "Traj file Traj_P3_S3_R_0001_0_2.csv does not exist\n",
      "Traj file Traj_P3_S3_R_0001_0_3.csv does not exist\n",
      "Traj file Traj_P3_S3_R_0001_1_0.csv does not exist\n",
      "Traj file Traj_P3_S3_R_0001_1_1.csv does not exist\n",
      "Traj file Traj_P3_S3_R_0001_1_2.csv does not exist\n",
      "Traj file Traj_P3_S3_R_0001_1_3.csv does not exist\n",
      "Traj file Traj_P3_S3_R_0001_2_0.csv does not exist\n",
      "Traj file Traj_P3_S3_R_0001_2_1.csv does not exist\n",
      "Traj file Traj_P3_S3_R_0001_2_2.csv does not exist\n",
      "Traj file Traj_P3_S3_R_0001_2_3.csv does not exist\n",
      "Traj file Traj_P3_S3_R_0001_3_0.csv does not exist\n",
      "Traj file Traj_P3_S3_R_0001_3_1.csv does not exist\n",
      "Traj file Traj_P3_S3_R_0001_3_2.csv does not exist\n",
      "Traj file Traj_P3_S3_R_0001_3_3.csv does not exist\n",
      "Traj file Traj_P2_S1_R_0000_0_0.csv does not exist\n",
      "Traj file Traj_P2_S1_R_0000_0_1.csv does not exist\n",
      "Traj file Traj_P2_S1_R_0000_0_2.csv does not exist\n",
      "Traj file Traj_P2_S1_R_0000_0_3.csv does not exist\n",
      "Traj file Traj_P2_S1_R_0000_1_0.csv does not exist\n",
      "Traj file Traj_P2_S1_R_0000_1_1.csv does not exist\n",
      "Traj file Traj_P2_S1_R_0000_1_2.csv does not exist\n",
      "Traj file Traj_P2_S1_R_0000_1_3.csv does not exist\n",
      "Traj file Traj_P2_S1_R_0000_2_0.csv does not exist\n",
      "Traj file Traj_P2_S1_R_0000_2_1.csv does not exist\n",
      "Traj file Traj_P2_S1_R_0000_2_2.csv does not exist\n",
      "Traj file Traj_P2_S1_R_0000_2_3.csv does not exist\n",
      "Traj file Traj_P2_S1_R_0000_3_0.csv does not exist\n",
      "Traj file Traj_P2_S1_R_0000_3_1.csv does not exist\n",
      "Traj file Traj_P2_S1_R_0000_3_2.csv does not exist\n",
      "Traj file Traj_P2_S1_R_0000_3_3.csv does not exist\n",
      "Traj file Traj_P1_S1_L_0002_2_3.csv does not exist\n",
      "Traj file Traj_P1_S1_L_0002_3_0.csv does not exist\n",
      "Traj file Traj_P1_S1_L_0002_3_1.csv does not exist\n",
      "Traj file Traj_P1_S1_L_0002_3_2.csv does not exist\n",
      "Traj file Traj_P1_S1_L_0002_3_3.csv does not exist\n",
      "Traj file Traj_P1_S1_L_0003_3_0.csv does not exist\n",
      "Traj file Traj_P1_S1_L_0003_3_1.csv does not exist\n",
      "Traj file Traj_P1_S1_L_0003_3_2.csv does not exist\n",
      "Traj file Traj_P1_S1_L_0003_3_3.csv does not exist\n",
      "Traj file Traj_P1_S1_L_0006_3_0.csv does not exist\n",
      "Traj file Traj_P1_S1_L_0006_3_1.csv does not exist\n",
      "Traj file Traj_P1_S1_L_0006_3_2.csv does not exist\n",
      "Traj file Traj_P1_S1_L_0006_3_3.csv does not exist\n",
      "Traj file Traj_P1_S1_L_0008_3_0.csv does not exist\n",
      "Traj file Traj_P1_S1_L_0008_3_1.csv does not exist\n",
      "Traj file Traj_P1_S1_L_0008_3_2.csv does not exist\n",
      "Traj file Traj_P1_S1_L_0008_3_3.csv does not exist\n",
      "Traj file Traj_P1_S1_L_0009_3_0.csv does not exist\n",
      "Traj file Traj_P1_S1_L_0009_3_1.csv does not exist\n",
      "Traj file Traj_P1_S1_L_0009_3_2.csv does not exist\n",
      "Traj file Traj_P1_S1_L_0009_3_3.csv does not exist\n",
      "Traj file Traj_P1_S1_L_0011_2_3.csv does not exist\n",
      "Traj file Traj_P1_S1_L_0011_3_0.csv does not exist\n",
      "Traj file Traj_P1_S1_L_0011_3_1.csv does not exist\n",
      "Traj file Traj_P1_S1_L_0011_3_2.csv does not exist\n",
      "Traj file Traj_P1_S1_L_0011_3_3.csv does not exist\n",
      "Traj file Traj_P1_S1_L_0012_2_3.csv does not exist\n",
      "Traj file Traj_P1_S1_L_0012_3_0.csv does not exist\n",
      "Traj file Traj_P1_S1_L_0012_3_1.csv does not exist\n",
      "Traj file Traj_P1_S1_L_0012_3_2.csv does not exist\n",
      "Traj file Traj_P1_S1_L_0012_3_3.csv does not exist\n",
      "Traj file Traj_P1_S1_L_0013_3_0.csv does not exist\n",
      "Traj file Traj_P1_S1_L_0013_3_1.csv does not exist\n",
      "Traj file Traj_P1_S1_L_0013_3_2.csv does not exist\n",
      "Traj file Traj_P1_S1_L_0013_3_3.csv does not exist\n",
      "Traj file Traj_P1_S2_L_0000_2_2.csv does not exist\n",
      "Traj file Traj_P1_S2_L_0000_2_3.csv does not exist\n",
      "Traj file Traj_P1_S2_L_0000_3_0.csv does not exist\n",
      "Traj file Traj_P1_S2_L_0000_3_1.csv does not exist\n",
      "Traj file Traj_P1_S2_L_0000_3_2.csv does not exist\n",
      "Traj file Traj_P1_S2_L_0000_3_3.csv does not exist\n",
      "Traj file Traj_P1_S2_L_0001_2_3.csv does not exist\n",
      "Traj file Traj_P1_S2_L_0001_3_0.csv does not exist\n",
      "Traj file Traj_P1_S2_L_0001_3_1.csv does not exist\n",
      "Traj file Traj_P1_S2_L_0001_3_2.csv does not exist\n",
      "Traj file Traj_P1_S2_L_0001_3_3.csv does not exist\n"
     ]
    }
   ],
   "source": [
    "s3 = boto3.client('s3')\n",
    "missing_files = []\n",
    "for name in to_track:\n",
    "    remote_folder = \"01_18_Experiment/{}\".format(name.split('_')[0])\n",
    "    try:\n",
    "        obj = s3.head_object(Bucket='ccurtis7.pup', Key='{}/Traj_{}.csv'.format(remote_folder,name))\n",
    "    except:\n",
    "        probe = 'Traj_{}.csv'.format(name)\n",
    "        missing_files.append(probe)\n",
    "        print('Traj file {} does not exist'.format(probe))"
   ]
  },
  {
   "cell_type": "code",
   "execution_count": 11,
   "metadata": {},
   "outputs": [
    {
     "data": {
      "text/plain": [
       "5.75"
      ]
     },
     "execution_count": 11,
     "metadata": {},
     "output_type": "execute_result"
    }
   ],
   "source": [
    "len(missing_files)/16"
   ]
  },
  {
   "cell_type": "code",
   "execution_count": 12,
   "metadata": {},
   "outputs": [],
   "source": [
    "to_msd = []\n",
    "\n",
    "for pup in pups:\n",
    "    for hemi in hemis:\n",
    "            for slic in slices:\n",
    "                for vid in range(0, vids):\n",
    "                            prefix = \"{}_{}_{}_{}\".format(pup, slic, hemi, \"%04d\" % vid)\n",
    "                            if not prefix in missing:\n",
    "                                to_msd.append(prefix)"
   ]
  },
  {
   "cell_type": "code",
   "execution_count": 18,
   "metadata": {},
   "outputs": [
    {
     "name": "stdout",
     "output_type": "stream",
     "text": [
      "MSD file msd_P3_S2_R_0010.csv does not exist\n",
      "MSD file msd_P3_S3_R_0001.csv does not exist\n",
      "MSD file msd_P1_S1_L_0002.csv does not exist\n",
      "MSD file msd_P1_S1_L_0003.csv does not exist\n",
      "MSD file msd_P1_S1_L_0006.csv does not exist\n",
      "MSD file msd_P1_S1_L_0008.csv does not exist\n",
      "MSD file msd_P1_S1_L_0009.csv does not exist\n",
      "MSD file msd_P1_S1_L_0011.csv does not exist\n",
      "MSD file msd_P1_S1_L_0012.csv does not exist\n",
      "MSD file msd_P1_S1_L_0013.csv does not exist\n",
      "MSD file msd_P1_S2_L_0000.csv does not exist\n",
      "MSD file msd_P1_S2_L_0001.csv does not exist\n",
      "Number of missing MSD files: 12\n"
     ]
    }
   ],
   "source": [
    "missing_msds = []\n",
    "for name in to_msd:\n",
    "    remote_folder = \"01_18_Experiment/{}\".format(name.split('_')[0])\n",
    "    try:\n",
    "        obj = s3.head_object(Bucket='ccurtis7.pup', Key='{}/msd_{}.csv'.format(remote_folder,name))\n",
    "    except:\n",
    "        probe = 'msd_{}.csv'.format(name)\n",
    "        missing_msds.append(probe)\n",
    "        print('MSD file {} does not exist'.format(probe))\n",
    "print('Number of missing MSD files: {}'.format(len(missing_msds)))"
   ]
  },
  {
   "cell_type": "code",
   "execution_count": 17,
   "metadata": {},
   "outputs": [
    {
     "name": "stdout",
     "output_type": "stream",
     "text": [
      "Features file features_P3_S1_R_0002.csv does not exist\n",
      "Features file features_P3_S1_R_0003.csv does not exist\n",
      "Features file features_P3_S1_R_0008.csv does not exist\n",
      "Features file features_P3_S2_R_0010.csv does not exist\n",
      "Features file features_P3_S3_R_0001.csv does not exist\n",
      "Features file features_P3_S1_L_0010.csv does not exist\n",
      "Features file features_P3_S1_L_0011.csv does not exist\n",
      "Features file features_P3_S1_L_0012.csv does not exist\n",
      "Features file features_P3_S1_L_0013.csv does not exist\n",
      "Features file features_P3_S2_L_0000.csv does not exist\n",
      "Features file features_P3_S2_L_0001.csv does not exist\n",
      "Features file features_P3_S2_L_0002.csv does not exist\n",
      "Features file features_P3_S2_L_0003.csv does not exist\n",
      "Features file features_P3_S2_L_0004.csv does not exist\n",
      "Features file features_P1_S3_R_0007.csv does not exist\n",
      "Features file features_P1_S1_L_0002.csv does not exist\n",
      "Features file features_P1_S1_L_0003.csv does not exist\n",
      "Features file features_P1_S1_L_0006.csv does not exist\n",
      "Features file features_P1_S1_L_0008.csv does not exist\n",
      "Features file features_P1_S1_L_0009.csv does not exist\n",
      "Features file features_P1_S1_L_0011.csv does not exist\n",
      "Features file features_P1_S1_L_0012.csv does not exist\n",
      "Features file features_P1_S1_L_0013.csv does not exist\n",
      "Features file features_P1_S2_L_0000.csv does not exist\n",
      "Features file features_P1_S2_L_0001.csv does not exist\n",
      "Features file features_P1_S3_L_0012.csv does not exist\n",
      "Features file features_P1_S3_L_0013.csv does not exist\n",
      "Features file features_P1_S3_L_0014.csv does not exist\n",
      "Number of missing features files: 28\n"
     ]
    }
   ],
   "source": [
    "missing_fts = []\n",
    "for name in to_msd:\n",
    "    remote_folder = \"01_18_Experiment/{}\".format(name.split('_')[0])\n",
    "    try:\n",
    "        obj = s3.head_object(Bucket='ccurtis7.pup', Key='{}/features_{}.csv'.format(remote_folder,name))\n",
    "    except:\n",
    "        probe = 'features_{}.csv'.format(name)\n",
    "        missing_fts.append(probe)\n",
    "        print('Features file {} does not exist'.format(probe))\n",
    "print('Number of missing features files: {}'.format(len(missing_fts)))"
   ]
  },
  {
   "cell_type": "code",
   "execution_count": 19,
   "metadata": {},
   "outputs": [
    {
     "name": "stdout",
     "output_type": "stream",
     "text": [
      "Traj image traj_P3_S1_R_0003.png does not exist\n",
      "Traj image traj_P3_S1_R_0007.png does not exist\n",
      "Traj image traj_P3_S1_R_0008.png does not exist\n",
      "Traj image traj_P3_S2_R_0010.png does not exist\n",
      "Traj image traj_P3_S3_R_0001.png does not exist\n",
      "Traj image traj_P3_S1_L_0007.png does not exist\n",
      "Traj image traj_P3_S1_L_0010.png does not exist\n",
      "Traj image traj_P3_S1_L_0011.png does not exist\n",
      "Traj image traj_P3_S1_L_0012.png does not exist\n",
      "Traj image traj_P3_S1_L_0013.png does not exist\n",
      "Traj image traj_P3_S1_L_0014.png does not exist\n",
      "Traj image traj_P3_S2_L_0000.png does not exist\n",
      "Traj image traj_P3_S2_L_0001.png does not exist\n",
      "Traj image traj_P3_S2_L_0002.png does not exist\n",
      "Traj image traj_P3_S2_L_0003.png does not exist\n",
      "Traj image traj_P3_S2_L_0004.png does not exist\n",
      "Traj image traj_P3_S2_L_0005.png does not exist\n",
      "Traj image traj_P3_S2_L_0009.png does not exist\n",
      "Traj image traj_P3_S2_L_0012.png does not exist\n",
      "Traj image traj_P2_S3_R_0011.png does not exist\n",
      "Traj image traj_P2_S3_R_0012.png does not exist\n",
      "Traj image traj_P2_S3_R_0013.png does not exist\n",
      "Traj image traj_P2_S3_L_0005.png does not exist\n",
      "Traj image traj_P2_S3_L_0006.png does not exist\n",
      "Traj image traj_P1_S3_R_0004.png does not exist\n",
      "Traj image traj_P1_S3_R_0007.png does not exist\n",
      "Traj image traj_P1_S3_R_0013.png does not exist\n",
      "Traj image traj_P1_S1_L_0002.png does not exist\n",
      "Traj image traj_P1_S1_L_0003.png does not exist\n",
      "Traj image traj_P1_S1_L_0004.png does not exist\n",
      "Traj image traj_P1_S1_L_0006.png does not exist\n",
      "Traj image traj_P1_S1_L_0008.png does not exist\n",
      "Traj image traj_P1_S1_L_0009.png does not exist\n",
      "Traj image traj_P1_S1_L_0011.png does not exist\n",
      "Traj image traj_P1_S1_L_0012.png does not exist\n",
      "Traj image traj_P1_S1_L_0013.png does not exist\n",
      "Traj image traj_P1_S2_L_0000.png does not exist\n",
      "Traj image traj_P1_S2_L_0001.png does not exist\n",
      "Traj image traj_P1_S3_L_0007.png does not exist\n",
      "Traj image traj_P1_S3_L_0010.png does not exist\n",
      "Traj image traj_P1_S3_L_0011.png does not exist\n",
      "Traj image traj_P1_S3_L_0012.png does not exist\n",
      "Traj image traj_P1_S3_L_0013.png does not exist\n",
      "Traj image traj_P1_S3_L_0014.png does not exist\n",
      "Number of missing trajectory images: 44\n"
     ]
    }
   ],
   "source": [
    "missing_traj = []\n",
    "for name in to_msd:\n",
    "    remote_folder = \"01_18_Experiment/{}\".format(name.split('_')[0])\n",
    "    try:\n",
    "        obj = s3.head_object(Bucket='ccurtis7.pup', Key='{}/traj_{}.png'.format(remote_folder,name))\n",
    "    except:\n",
    "        probe = 'traj_{}.png'.format(name)\n",
    "        missing_traj.append(probe)\n",
    "        print('Traj image {} does not exist'.format(probe))\n",
    "print('Number of missing trajectory images: {}'.format(len(missing_traj)))"
   ]
  },
  {
   "cell_type": "code",
   "execution_count": 20,
   "metadata": {},
   "outputs": [
    {
     "name": "stdout",
     "output_type": "stream",
     "text": [
      "AR heatmap hm_AR_P3_S1_R_0003.png does not exist\n",
      "AR heatmap hm_AR_P3_S1_R_0007.png does not exist\n",
      "AR heatmap hm_AR_P3_S1_R_0008.png does not exist\n",
      "AR heatmap hm_AR_P3_S2_R_0010.png does not exist\n",
      "AR heatmap hm_AR_P3_S3_R_0001.png does not exist\n",
      "AR heatmap hm_AR_P3_S1_L_0010.png does not exist\n",
      "AR heatmap hm_AR_P3_S1_L_0011.png does not exist\n",
      "AR heatmap hm_AR_P3_S1_L_0012.png does not exist\n",
      "AR heatmap hm_AR_P3_S1_L_0013.png does not exist\n",
      "AR heatmap hm_AR_P3_S1_L_0014.png does not exist\n",
      "AR heatmap hm_AR_P3_S2_L_0000.png does not exist\n",
      "AR heatmap hm_AR_P3_S2_L_0001.png does not exist\n",
      "AR heatmap hm_AR_P3_S2_L_0002.png does not exist\n",
      "AR heatmap hm_AR_P3_S2_L_0003.png does not exist\n",
      "AR heatmap hm_AR_P3_S2_L_0004.png does not exist\n",
      "AR heatmap hm_AR_P2_S3_R_0011.png does not exist\n",
      "AR heatmap hm_AR_P2_S3_R_0012.png does not exist\n",
      "AR heatmap hm_AR_P2_S3_R_0013.png does not exist\n",
      "AR heatmap hm_AR_P2_S3_L_0005.png does not exist\n",
      "AR heatmap hm_AR_P2_S3_L_0006.png does not exist\n",
      "AR heatmap hm_AR_P1_S3_R_0004.png does not exist\n",
      "AR heatmap hm_AR_P1_S3_R_0007.png does not exist\n",
      "AR heatmap hm_AR_P1_S1_L_0002.png does not exist\n",
      "AR heatmap hm_AR_P1_S1_L_0003.png does not exist\n",
      "AR heatmap hm_AR_P1_S1_L_0006.png does not exist\n",
      "AR heatmap hm_AR_P1_S1_L_0008.png does not exist\n",
      "AR heatmap hm_AR_P1_S1_L_0009.png does not exist\n",
      "AR heatmap hm_AR_P1_S1_L_0011.png does not exist\n",
      "AR heatmap hm_AR_P1_S1_L_0012.png does not exist\n",
      "AR heatmap hm_AR_P1_S1_L_0013.png does not exist\n",
      "AR heatmap hm_AR_P1_S2_L_0000.png does not exist\n",
      "AR heatmap hm_AR_P1_S2_L_0001.png does not exist\n",
      "AR heatmap hm_AR_P1_S3_L_0012.png does not exist\n",
      "AR heatmap hm_AR_P1_S3_L_0013.png does not exist\n",
      "AR heatmap hm_AR_P1_S3_L_0014.png does not exist\n",
      "Number of missing AR heatmaps: 35\n"
     ]
    }
   ],
   "source": [
    "missing_AR = []\n",
    "for name in to_msd:\n",
    "    remote_folder = \"01_18_Experiment/{}\".format(name.split('_')[0])\n",
    "    try:\n",
    "        obj = s3.head_object(Bucket='ccurtis7.pup', Key='{}/hm_AR_{}.png'.format(remote_folder,name))\n",
    "    except:\n",
    "        probe = 'hm_AR_{}.png'.format(name)\n",
    "        missing_AR.append(probe)\n",
    "        print('AR heatmap {} does not exist'.format(probe))\n",
    "print('Number of missing AR heatmaps: {}'.format(len(missing_AR)))"
   ]
  },
  {
   "cell_type": "code",
   "execution_count": 21,
   "metadata": {},
   "outputs": [
    {
     "name": "stdout",
     "output_type": "stream",
     "text": [
      "D heatmap hm_D_fit_P3_S1_R_0003.png does not exist\n",
      "D heatmap hm_D_fit_P3_S1_R_0007.png does not exist\n",
      "D heatmap hm_D_fit_P3_S1_R_0008.png does not exist\n",
      "D heatmap hm_D_fit_P3_S2_R_0010.png does not exist\n",
      "D heatmap hm_D_fit_P3_S3_R_0001.png does not exist\n",
      "D heatmap hm_D_fit_P3_S1_L_0010.png does not exist\n",
      "D heatmap hm_D_fit_P3_S1_L_0011.png does not exist\n",
      "D heatmap hm_D_fit_P3_S1_L_0012.png does not exist\n",
      "D heatmap hm_D_fit_P3_S1_L_0013.png does not exist\n",
      "D heatmap hm_D_fit_P3_S1_L_0014.png does not exist\n",
      "D heatmap hm_D_fit_P3_S2_L_0000.png does not exist\n",
      "D heatmap hm_D_fit_P3_S2_L_0001.png does not exist\n",
      "D heatmap hm_D_fit_P3_S2_L_0002.png does not exist\n",
      "D heatmap hm_D_fit_P3_S2_L_0003.png does not exist\n",
      "D heatmap hm_D_fit_P3_S2_L_0004.png does not exist\n",
      "D heatmap hm_D_fit_P2_S3_R_0011.png does not exist\n",
      "D heatmap hm_D_fit_P2_S3_R_0012.png does not exist\n",
      "D heatmap hm_D_fit_P2_S3_R_0013.png does not exist\n",
      "D heatmap hm_D_fit_P2_S3_L_0005.png does not exist\n",
      "D heatmap hm_D_fit_P2_S3_L_0006.png does not exist\n",
      "D heatmap hm_D_fit_P1_S3_R_0004.png does not exist\n",
      "D heatmap hm_D_fit_P1_S3_R_0007.png does not exist\n",
      "D heatmap hm_D_fit_P1_S1_L_0002.png does not exist\n",
      "D heatmap hm_D_fit_P1_S1_L_0003.png does not exist\n",
      "D heatmap hm_D_fit_P1_S1_L_0006.png does not exist\n",
      "D heatmap hm_D_fit_P1_S1_L_0008.png does not exist\n",
      "D heatmap hm_D_fit_P1_S1_L_0009.png does not exist\n",
      "D heatmap hm_D_fit_P1_S1_L_0011.png does not exist\n",
      "D heatmap hm_D_fit_P1_S1_L_0012.png does not exist\n",
      "D heatmap hm_D_fit_P1_S1_L_0013.png does not exist\n",
      "D heatmap hm_D_fit_P1_S2_L_0000.png does not exist\n",
      "D heatmap hm_D_fit_P1_S2_L_0001.png does not exist\n",
      "D heatmap hm_D_fit_P1_S3_L_0012.png does not exist\n",
      "D heatmap hm_D_fit_P1_S3_L_0013.png does not exist\n",
      "D heatmap hm_D_fit_P1_S3_L_0014.png does not exist\n",
      "Number of missing D heatmaps: 35\n"
     ]
    }
   ],
   "source": [
    "missing_D_fit = []\n",
    "for name in to_msd:\n",
    "    remote_folder = \"01_18_Experiment/{}\".format(name.split('_')[0])\n",
    "    try:\n",
    "        obj = s3.head_object(Bucket='ccurtis7.pup', Key='{}/hm_D_fit_{}.png'.format(remote_folder,name))\n",
    "    except:\n",
    "        probe = 'hm_D_fit_{}.png'.format(name)\n",
    "        missing_D_fit.append(probe)\n",
    "        print('D heatmap {} does not exist'.format(probe))\n",
    "print('Number of missing D heatmaps: {}'.format(len(missing_D_fit)))"
   ]
  },
  {
   "cell_type": "code",
   "execution_count": null,
   "metadata": {},
   "outputs": [],
   "source": []
  }
 ],
 "metadata": {
  "kernelspec": {
   "display_name": "Python 3",
   "language": "python",
   "name": "python3"
  },
  "language_info": {
   "codemirror_mode": {
    "name": "ipython",
    "version": 3
   },
   "file_extension": ".py",
   "mimetype": "text/x-python",
   "name": "python",
   "nbconvert_exporter": "python",
   "pygments_lexer": "ipython3",
   "version": "3.6.3"
  }
 },
 "nbformat": 4,
 "nbformat_minor": 2
}
