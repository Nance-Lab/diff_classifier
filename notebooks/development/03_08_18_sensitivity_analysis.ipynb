{
 "cells": [
  {
   "cell_type": "code",
   "execution_count": 2,
   "metadata": {},
   "outputs": [],
   "source": [
    "import matplotlib as mpl\n",
    "import diff_classifier.aws as aws\n",
    "import diff_classifier.utils as ut\n",
    "import diff_classifier.msd as msd\n",
    "import diff_classifier.features as ft\n",
    "import diff_classifier.imagej as ij\n",
    "import diff_classifier.heatmaps as hm\n",
    "\n",
    "from scipy.spatial import Voronoi\n",
    "import scipy.stats as stats\n",
    "from shapely.geometry import Point\n",
    "from shapely.geometry.polygon import Polygon\n",
    "import matplotlib.cm as cm\n",
    "import os\n",
    "import os.path as op\n",
    "import numpy as np\n",
    "import numpy.ma as ma\n",
    "import pandas as pd\n",
    "import boto3\n",
    "import itertools"
   ]
  },
  {
   "cell_type": "code",
   "execution_count": 5,
   "metadata": {},
   "outputs": [],
   "source": [
    "radius = [4.5, 6.0, 7.0]\n",
    "do_median_filtering = [True, False]\n",
    "quality = [1.5, 3.5, 4.5, 5.5, 8.5]\n",
    "linking_max_distance = [6.0, 10.0, 15.0]\n",
    "gap_closing_max_distance = [6.0, 10.0, 15.0]\n",
    "max_frame_gap = [1, 2, 5]\n",
    "track_displacement = [0.0, 10.0, 20.0]\n",
    "\n",
    "sweep = [radius, do_median_filtering, quality, linking_max_distance, gap_closing_max_distance, max_frame_gap,\n",
    "         track_displacement]\n",
    "all_params = list(itertools.product(*sweep))"
   ]
  },
  {
   "cell_type": "code",
   "execution_count": 6,
   "metadata": {},
   "outputs": [
    {
     "data": {
      "text/plain": [
       "2430"
      ]
     },
     "execution_count": 6,
     "metadata": {},
     "output_type": "execute_result"
    }
   ],
   "source": [
    "len(all_params)"
   ]
  },
  {
   "cell_type": "code",
   "execution_count": null,
   "metadata": {},
   "outputs": [],
   "source": [
    "local_folder = '.'\n",
    "prefix = \"P1_S1_R_0001_2_2\"\n",
    "name = \"{}.tif\".format(prefix)\n",
    "local_im = op.join(local_folder, name)\n",
    "\n",
    "outputs = np.zeros((len(all_params), len(params)+2))"
   ]
  },
  {
   "cell_type": "code",
   "execution_count": null,
   "metadata": {},
   "outputs": [],
   "source": [
    "counter = 0\n",
    "for params in all_params:\n",
    "\n",
    "    outfile = 'Traj_{}_{}.csv'.format(name.split('.')[0], counter)\n",
    "    msd_file = 'msd_{}_{}.csv'.format(name.split('.')[0], counter)\n",
    "    iter_name = \"{}_{}\".format(prefix, counter)\n",
    "\n",
    "    ij.track(local_im, outfile, template=None, fiji_bin=None, radius=params[0], threshold=0., \n",
    "             do_median_filtering=params[1], quality=params[2], x=511, y=y, ylo=1, median_intensity=300.0, snr=0.0, \n",
    "             linking_max_distance=params[3], gap_closing_max_distance=params[4], max_frame_gap=params[5],\n",
    "             track_displacement=params[6])\n",
    "\n",
    "\n",
    "    traj = ut.csv_to_pd(outfile)\n",
    "    msds = msd.all_msds2(traj, frames=651)\n",
    "    msds.to_csv(msd_file)\n",
    "    gmean1, gSEM1 = hm.plot_individual_msds(iter_name, alpha=0.05)\n",
    "    \n",
    "    outputs[counter, 0:len(params)] = params\n",
    "    outputs[counter, len(params)] = gmean1[100]\n",
    "    outputs[counter, len(params)+1] = max(msds['Track_ID'])"
   ]
  },
  {
   "cell_type": "code",
   "execution_count": null,
   "metadata": {},
   "outputs": [],
   "source": [
    "msd_file = 'msd_{}_{}.csv'.format(name.split('.')[0], counter)\n",
    "traj = ut.csv_to_pd(outfile)"
   ]
  },
  {
   "cell_type": "code",
   "execution_count": null,
   "metadata": {},
   "outputs": [],
   "source": [
    "msds = msd.all_msds2(traj, frames=651)\n",
    "msds.to_csv(msd_file)"
   ]
  },
  {
   "cell_type": "code",
   "execution_count": null,
   "metadata": {},
   "outputs": [],
   "source": [
    "iter_name = \"{}_{}\".format(prefix, counter)\n",
    "gmean1, gSEM1 = hm.plot_individual_msds(iter_name, alpha=0.05)"
   ]
  },
  {
   "cell_type": "code",
   "execution_count": null,
   "metadata": {},
   "outputs": [],
   "source": [
    "gmean1[100]"
   ]
  },
  {
   "cell_type": "code",
   "execution_count": null,
   "metadata": {},
   "outputs": [],
   "source": [
    "max(msds['Track_ID'])"
   ]
  },
  {
   "cell_type": "code",
   "execution_count": 9,
   "metadata": {},
   "outputs": [
    {
     "data": {
      "text/plain": [
       "7"
      ]
     },
     "execution_count": 9,
     "metadata": {},
     "output_type": "execute_result"
    }
   ],
   "source": [
    "len(params)"
   ]
  },
  {
   "cell_type": "code",
   "execution_count": 10,
   "metadata": {},
   "outputs": [],
   "source": [
    "params = all_params[1]\n",
    "counter = 0\n",
    "outputs = np.zeros((len(all_params), len(params)+2))\n",
    "\n",
    "outputs[counter, 0:len(params)] = params"
   ]
  },
  {
   "cell_type": "code",
   "execution_count": 12,
   "metadata": {},
   "outputs": [
    {
     "data": {
      "text/plain": [
       "0.0"
      ]
     },
     "execution_count": 12,
     "metadata": {},
     "output_type": "execute_result"
    }
   ],
   "source": [
    "outputs[counter, 7]"
   ]
  },
  {
   "cell_type": "code",
   "execution_count": null,
   "metadata": {},
   "outputs": [],
   "source": [
    "outputs = np.zeros((len(all_params), len(params)+2))\n",
    "\n",
    "outputs[counter, 0:len(params)] = params\n",
    "outputs[counter, len(params)] = gmean1[100]\n",
    "outputs[counter, len(params)+1] = max(msds['Track_ID'])"
   ]
  }
 ],
 "metadata": {
  "kernelspec": {
   "display_name": "Python 3",
   "language": "python",
   "name": "python3"
  },
  "language_info": {
   "codemirror_mode": {
    "name": "ipython",
    "version": 3
   },
   "file_extension": ".py",
   "mimetype": "text/x-python",
   "name": "python",
   "nbconvert_exporter": "python",
   "pygments_lexer": "ipython3",
   "version": "3.6.3"
  }
 },
 "nbformat": 4,
 "nbformat_minor": 2
}
