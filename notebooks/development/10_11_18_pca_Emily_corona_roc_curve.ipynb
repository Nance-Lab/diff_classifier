{
 "cells": [
  {
   "cell_type": "markdown",
   "metadata": {},
   "source": [
    "## Importing and prepping data"
   ]
  },
  {
   "cell_type": "code",
   "execution_count": 1,
   "metadata": {},
   "outputs": [],
   "source": [
    "import pandas as pd\n",
    "import numpy as np\n",
    "import diff_classifier.aws as aws\n",
    "import diff_classifier.pca as pca"
   ]
  },
  {
   "cell_type": "code",
   "execution_count": 2,
   "metadata": {},
   "outputs": [
    {
     "name": "stdout",
     "output_type": "stream",
     "text": [
      "features_COOH_XY01.csv\n",
      "features_COOH_XY01.csv size: (14913, 67)\n",
      "features_COOH_XY02.csv\n",
      "features_COOH_XY02.csv size: (14225, 67)\n",
      "features_COOH_XY03.csv\n",
      "features_COOH_XY03.csv size: (14767, 67)\n",
      "features_COOH_XY04.csv\n",
      "features_COOH_XY04.csv size: (14936, 67)\n",
      "features_COOH_XY05.csv\n",
      "features_COOH_XY05.csv size: (15344, 67)\n",
      "features_COOH_XY06.csv\n",
      "features_COOH_XY06.csv size: (63173, 67)\n",
      "features_COOH_XY07.csv\n",
      "features_COOH_XY07.csv size: (42620, 67)\n",
      "features_COOH_XY08.csv\n",
      "features_COOH_XY08.csv size: (43427, 67)\n",
      "features_COOH_XY09.csv\n",
      "features_COOH_XY09.csv size: (19220, 67)\n",
      "features_COOH_XY10.csv\n",
      "features_COOH_XY10.csv size: (27610, 67)\n",
      "features_COOH_serum_XY01.csv\n",
      "features_COOH_serum_XY01.csv size: (42821, 67)\n",
      "features_COOH_serum_XY02.csv\n",
      "features_COOH_serum_XY02.csv size: (42778, 67)\n",
      "features_COOH_serum_XY03.csv\n",
      "features_COOH_serum_XY03.csv size: (42996, 67)\n",
      "features_COOH_serum_XY04.csv\n",
      "features_COOH_serum_XY04.csv size: (43391, 67)\n",
      "features_COOH_serum_XY05.csv\n",
      "features_COOH_serum_XY05.csv size: (43584, 67)\n",
      "features_COOH_serum_XY06.csv\n",
      "features_COOH_serum_XY06.csv size: (41418, 67)\n",
      "features_COOH_serum_XY07.csv\n",
      "features_COOH_serum_XY07.csv size: (42307, 67)\n",
      "features_COOH_serum_XY08.csv\n",
      "features_COOH_serum_XY08.csv size: (0, 67)\n",
      "features_COOH_serum_XY09.csv\n",
      "features_COOH_serum_XY09.csv size: (41761, 67)\n",
      "features_COOH_serum_XY10.csv\n",
      "features_COOH_serum_XY10.csv size: (42546, 67)\n",
      "features_PEG_XY01.csv\n",
      "features_PEG_XY01.csv size: (7397, 67)\n",
      "features_PEG_XY02.csv\n",
      "features_PEG_XY02.csv size: (5157, 67)\n",
      "features_PEG_XY03.csv\n",
      "features_PEG_XY03.csv size: (5922, 67)\n",
      "features_PEG_XY04.csv\n",
      "features_PEG_XY04.csv size: (9005, 67)\n",
      "features_PEG_XY05.csv\n",
      "features_PEG_XY05.csv size: (7906, 67)\n",
      "features_PEG_XY06.csv\n",
      "features_PEG_XY06.csv size: (13236, 67)\n",
      "features_PEG_XY07.csv\n",
      "features_PEG_XY07.csv size: (13785, 67)\n",
      "features_PEG_XY08.csv\n",
      "features_PEG_XY08.csv size: (14076, 67)\n",
      "features_PEG_XY09.csv\n",
      "features_PEG_XY09.csv size: (15334, 67)\n",
      "features_PEG_XY10.csv\n",
      "features_PEG_XY10.csv size: (12137, 67)\n",
      "features_PEG_serum_XY01.csv\n",
      "features_PEG_serum_XY01.csv size: (70521, 67)\n",
      "features_PEG_serum_XY02.csv\n",
      "features_PEG_serum_XY02.csv size: (71639, 67)\n",
      "features_PEG_serum_XY03.csv\n",
      "features_PEG_serum_XY03.csv size: (71496, 67)\n",
      "features_PEG_serum_XY04.csv\n",
      "features_PEG_serum_XY04.csv size: (69101, 67)\n",
      "features_PEG_serum_XY05.csv\n",
      "features_PEG_serum_XY05.csv size: (65176, 67)\n",
      "features_PEG_serum_XY06.csv\n",
      "features_PEG_serum_XY06.csv size: (66877, 67)\n",
      "features_PEG_serum_XY07.csv\n",
      "features_PEG_serum_XY07.csv size: (69408, 67)\n",
      "features_PEG_serum_XY08.csv\n",
      "features_PEG_serum_XY08.csv size: (71639, 67)\n",
      "features_PEG_serum_XY09.csv\n",
      "features_PEG_serum_XY09.csv size: (73978, 67)\n",
      "features_PEG_serum_XY10.csv\n",
      "features_PEG_serum_XY10.csv size: (74161, 67)\n"
     ]
    }
   ],
   "source": [
    "features = []\n",
    "featofvar = 'Type and Serum'\n",
    "\n",
    "remote_folder = '10_04_18_COOH_PEG_serum' #Folder in AWS S3 containing files to be analyzed\n",
    "bucket = 'rhodese.data'\n",
    "vids = 10\n",
    "types = ['COOH', 'COOH_serum', 'PEG', 'PEG_serum']\n",
    "\n",
    "counter2 = 0\n",
    "counter = 0\n",
    "for typ in types:\n",
    "    for num in range(1, vids+1):\n",
    "            try:\n",
    "                filename = 'features_{}_XY{}.csv'.format(typ, '%02d' % num)\n",
    "                print(filename)\n",
    "                aws.download_s3('{}/{}'.format(remote_folder, filename), filename, bucket_name=bucket)\n",
    "                fstats = pd.read_csv(filename, encoding = \"ISO-8859-1\", index_col='Unnamed: 0')\n",
    "                print('{} size: {}'.format(filename, fstats.shape))\n",
    "                fstats['Type and Serum'] = pd.Series(fstats.shape[0]*[typ], index=fstats.index)\n",
    "                if 'serum' in typ:\n",
    "                    fstats['Serum'] = pd.Series(fstats.shape[0]*['serum'], index=fstats.index)\n",
    "                else:\n",
    "                    fstats['Serum'] = pd.Series(fstats.shape[0]*['no serum'], index=fstats.index)\n",
    "                if 'COOH' in typ:\n",
    "                    fstats['Type'] = pd.Series(fstats.shape[0]*['COOH'], index=fstats.index)\n",
    "                else:\n",
    "                    fstats['Type'] = pd.Series(fstats.shape[0]*['PEG'], index=fstats.index)\n",
    "                fstats['Video Number'] = pd.Series(fstats.shape[0]*[num], index=fstats.index)\n",
    "                counter = counter + 1\n",
    "                if counter == 1:\n",
    "                    fstats_tot = fstats\n",
    "                else:\n",
    "                    fstats_tot = fstats_tot.append(fstats, ignore_index=True)\n",
    "            except:\n",
    "                print('Skipped!: {}'.format(filename))\n",
    "    counter2 = counter2 + 1"
   ]
  },
  {
   "cell_type": "code",
   "execution_count": null,
   "metadata": {},
   "outputs": [],
   "source": [
    "#PCA analyses with too many datapoints fail. You get rows with lots of NAs. I'm going to try making a subset of the data first\n",
    "#and then do a PCA analysis on that.\n",
    "\n",
    "#include all in analysis\n",
    "import random\n",
    "subset = np.sort(np.array(random.sample(range(fstats_tot.shape[0]), 500000)))\n",
    "fstats_sub = fstats_tot.loc[subset, :].reset_index(drop=True)"
   ]
  },
  {
   "cell_type": "code",
   "execution_count": null,
   "metadata": {},
   "outputs": [],
   "source": [
    "fstats_tot['Type and Serum'].unique()"
   ]
  },
  {
   "cell_type": "code",
   "execution_count": null,
   "metadata": {},
   "outputs": [],
   "source": [
    "for typ in fstats_tot['Type and Serum'].unique():\n",
    "    fstats_type = fstats_tot[fstats_tot['Type and Serum']==typ].reset_index(drop=True)\n",
    "    print(fstats_type.shape)"
   ]
  },
  {
   "cell_type": "code",
   "execution_count": 3,
   "metadata": {},
   "outputs": [
    {
     "name": "stdout",
     "output_type": "stream",
     "text": [
      "(270235, 71)\n",
      "(383602, 71)\n",
      "(103955, 71)\n",
      "(703996, 71)\n"
     ]
    }
   ],
   "source": [
    "#with equal sample sizes for each particle type\n",
    "import random\n",
    "counter = 0\n",
    "for typ in fstats_tot['Type and Serum'].unique():\n",
    "    fstats_type = fstats_tot[fstats_tot['Type and Serum']==typ].reset_index(drop=True)\n",
    "    print(fstats_type.shape)\n",
    "    subset = np.sort(np.array(random.sample(range(fstats_type.shape[0]), 50000)))\n",
    "    if counter == 0:\n",
    "        fstats_sub = fstats_type.loc[subset, :].reset_index(drop=True)\n",
    "    else:\n",
    "        fstats_sub = fstats_sub.append(fstats_type.loc[subset, :].reset_index(drop=True), ignore_index=True)\n",
    "    counter = counter + 1"
   ]
  },
  {
   "cell_type": "code",
   "execution_count": 4,
   "metadata": {},
   "outputs": [],
   "source": [
    "#fstats = pd.read_csv(filename, encoding = \"ISO-8859-1\", index_col='Unnamed: 0')\n",
    "nonnum = ['Type and Serum', 'Type', 'Serum', 'Video Number', 'Track_ID', 'Mean Mean_Intensity', 'Std Mean_Intensity', 'X', 'Y',\n",
    "          'Mean X', 'Mean Y', 'Std X', 'Std Y']\n",
    "fstats_num = fstats_sub.drop(nonnum, axis=1)\n",
    "fstats_raw = fstats_num.as_matrix()\n",
    "#fstats"
   ]
  },
  {
   "cell_type": "markdown",
   "metadata": {},
   "source": [
    "## PCA analysis"
   ]
  },
  {
   "cell_type": "markdown",
   "metadata": {},
   "source": [
    "The pca.pca_analysis function provides a completely contained PCA analysis of the input trajectory features dataset. It includes options to impute NaN values (fill in with average values or drop them), and to scale features. Read the docstring for more information. "
   ]
  },
  {
   "cell_type": "code",
   "execution_count": 5,
   "metadata": {
    "scrolled": true
   },
   "outputs": [
    {
     "name": "stdout",
     "output_type": "stream",
     "text": [
      "Cumulative explained variance:\n",
      "0 component: 0.18614031038465492\n",
      "1 component: 0.295927021716838\n",
      "2 component: 0.3992889227536503\n",
      "3 component: 0.4852893749756521\n",
      "4 component: 0.533348373264827\n",
      "5 component: 0.5777568129400004\n",
      "6 component: 0.6170165574054646\n",
      "7 component: 0.6554888872375112\n",
      "8 component: 0.6890849177241402\n",
      "9 component: 0.7151250277398422\n",
      "10 component: 0.7391723181643802\n",
      "11 component: 0.7630689835984799\n",
      "12 component: 0.7830563517937866\n",
      "13 component: 0.8020905836230195\n"
     ]
    }
   ],
   "source": [
    "ncomp = 14\n",
    "pcadataset = pca.pca_analysis(fstats_tot, dropcols=nonnum, n_components=ncomp)"
   ]
  },
  {
   "cell_type": "code",
   "execution_count": null,
   "metadata": {},
   "outputs": [],
   "source": [
    "pcadataset.components.to_csv('components.csv')"
   ]
  },
  {
   "cell_type": "code",
   "execution_count": null,
   "metadata": {},
   "outputs": [],
   "source": [
    "fstats_num.columns"
   ]
  },
  {
   "cell_type": "code",
   "execution_count": null,
   "metadata": {},
   "outputs": [],
   "source": [
    "pcadataset.prcomps"
   ]
  },
  {
   "cell_type": "markdown",
   "metadata": {},
   "source": [
    "The pca.kmo function calculates the Kaiser-Meyer-Olkin statistic, a measure of sampling adequacy. Check the docstring for more information."
   ]
  },
  {
   "cell_type": "code",
   "execution_count": null,
   "metadata": {},
   "outputs": [],
   "source": [
    "kmostat = pca.kmo(pcadataset.scaled)"
   ]
  },
  {
   "cell_type": "markdown",
   "metadata": {},
   "source": [
    "## Visualization"
   ]
  },
  {
   "cell_type": "markdown",
   "metadata": {},
   "source": [
    "Users can then compare average principle component values between subgroups of the data. In this case, all particles were taken from the same sample, so there are no experimental subgroups. I chose to compare short trajectories to long trajectories, as I would expect differences between the two groups."
   ]
  },
  {
   "cell_type": "code",
   "execution_count": null,
   "metadata": {},
   "outputs": [],
   "source": [
    "import numpy as np\n",
    "featofvar = 'Type and Serum'\n",
    "#ncomp = 14\n",
    "dicti = {}\n",
    "#test = np.exp(np.nanmean(np.log(pcadataset.final[pcadataset.final['Particle Size']==200].as_matrix()), axis=0))[-6:]\n",
    "#test1 = np.exp(np.nanmean(np.log(pcadataset.final[pcadataset.final['Particle Size']==500].as_matrix()), axis=0))[-6:]\n",
    "dicti[0] = np.nanmean(pcadataset.final[pcadataset.final[featofvar]=='COOH'].values[:, -ncomp:], axis=0)\n",
    "dicti[1] = np.nanmean(pcadataset.final[pcadataset.final[featofvar]=='COOH_serum'].values[:, -ncomp:], axis=0)\n",
    "dicti[2] = np.nanmean(pcadataset.final[pcadataset.final[featofvar]=='PEG'].values[:, -ncomp:], axis=0)\n",
    "dicti[3] = np.nanmean(pcadataset.final[pcadataset.final[featofvar]=='PEG_serum'].values[:, -ncomp:], axis=0)"
   ]
  },
  {
   "cell_type": "code",
   "execution_count": null,
   "metadata": {},
   "outputs": [],
   "source": [
    "labels = ['COOH', 'COOH_serum', 'PEG', 'PEG_serum']\n",
    "pca.plot_pca(dicti, savefig=True, labels=labels, rticks=np.linspace(-4, 4, 9))"
   ]
  },
  {
   "cell_type": "markdown",
   "metadata": {},
   "source": [
    "The variable pcadataset.prcomps shows the user the major contributions to each of the new principle components. When observing the graph above, users can see that there are some differences between short trajectories and long trajectories in component 0 (asymmetry1 being the major contributor) and component 1 (elongation being the major contributor)."
   ]
  },
  {
   "cell_type": "code",
   "execution_count": null,
   "metadata": {},
   "outputs": [],
   "source": [
    "#labels=['10K', '5K', '1K', 'COOH']\n",
    "feats = pca.feature_violin(pcadataset.final, label=featofvar, lvals=labels, fsubset=ncomp, yrange=[-12, 12])"
   ]
  },
  {
   "cell_type": "code",
   "execution_count": null,
   "metadata": {},
   "outputs": [],
   "source": [
    "fstats1 = pca.feature_plot_3D(pcadataset.final, label=featofvar, lvals=labels, randcount=400, ylim=[-12, 12],\n",
    "                              xlim=[-12, 12], zlim=[-12, 12], features=[0, 2, 3])"
   ]
  },
  {
   "cell_type": "code",
   "execution_count": null,
   "metadata": {},
   "outputs": [],
   "source": [
    "fstats1 = pca.feature_plot_3D(pcadataset.final, label='Serum', lvals=['serum', 'no serum'], randcount=800, ylim=[-12, 12],\n",
    "                              xlim=[-12, 12], zlim=[-12, 12], features=[0, 2, 3])"
   ]
  },
  {
   "cell_type": "code",
   "execution_count": null,
   "metadata": {},
   "outputs": [],
   "source": [
    "fstats1 = pca.feature_plot_3D(pcadataset.final, label='Type', lvals=['COOH', 'PEG'], randcount=800, ylim=[-12, 12],\n",
    "                              xlim=[-12, 12], zlim=[-12, 12], features=[0, 2, 3])"
   ]
  },
  {
   "cell_type": "code",
   "execution_count": null,
   "metadata": {},
   "outputs": [],
   "source": [
    "#ncomp = 14\n",
    "trainp = np.array([])\n",
    "testp = np.array([])\n",
    "labels3 = ['COOH', 'PEG']\n",
    "labels = ['COOH', 'COOH_serum', 'PEG', 'PEG_serum']\n",
    "\n",
    "for i in range(0, 3):\n",
    "    KNNmod, X, y = pca.build_model(pcadataset.final, featofvar, labels, equal_sampling=True,\n",
    "                                       tsize=2000, input_cols=ncomp, model='MLP', NNhidden_layer=(6, 5, 3))\n",
    "    trainp = np.append(trainp, pca.predict_model(KNNmod, X, y))\n",
    "    \n",
    "    X2 = pcadataset.final.values[:, -ncomp:]\n",
    "    y2 = pcadataset.final[featofvar].values\n",
    "    testp = np.append(testp, pca.predict_model(KNNmod, X2, y2))\n",
    "    print('Run {}: {}'.format(i, testp[i]))"
   ]
  },
  {
   "cell_type": "code",
   "execution_count": null,
   "metadata": {},
   "outputs": [],
   "source": []
  },
  {
   "cell_type": "code",
   "execution_count": 38,
   "metadata": {},
   "outputs": [
    {
     "name": "stdout",
     "output_type": "stream",
     "text": [
      "Run 0: 0.9616476534217\n",
      "Run 1: 0.9664595686925874\n",
      "Run 2: 0.9648970986216879\n",
      "Run 3: 0.9556782515658906\n",
      "Run 4: 0.9629159631902848\n"
     ]
    }
   ],
   "source": [
    "#ncomp = 14\n",
    "trainp = np.array([])\n",
    "testp = np.array([])\n",
    "labels3 = ['COOH', 'PEG']\n",
    "labels = ['COOH', 'COOH_serum', 'PEG', 'PEG_serum']\n",
    "\n",
    "for i in range(0, 5):\n",
    "    KNNmod, X, y = pca.build_model(pcadataset.final, featofvar, labels, equal_sampling=True,\n",
    "                                       tsize=2000, input_cols=ncomp, model='MLP', NNhidden_layer=(6, 5, 3))\n",
    "    trainp = np.append(trainp, pca.predict_model(KNNmod, X, y))\n",
    "    \n",
    "    X2 = pcadataset.final.values[:, -ncomp:]\n",
    "    y2 = pcadataset.final[featofvar].values\n",
    "    testp = np.append(testp, pca.predict_model(KNNmod, X2, y2))\n",
    "    print('Run {}: {}'.format(i, testp[i]))"
   ]
  },
  {
   "cell_type": "code",
   "execution_count": 7,
   "metadata": {},
   "outputs": [
    {
     "name": "stdout",
     "output_type": "stream",
     "text": [
      "0.95425 +/ 0.004246321937865763\n",
      "0.9657750645100384 +/ 0.00220879826406041\n"
     ]
    }
   ],
   "source": [
    "print('{} +/ {}'.format(np.mean(trainp), np.std(trainp)))\n",
    "print('{} +/ {}'.format(np.mean(testp), np.std(testp)))"
   ]
  },
  {
   "cell_type": "code",
   "execution_count": null,
   "metadata": {},
   "outputs": [],
   "source": [
    "ypred = pd.Series(KNNmod.predict(X2)).str.split('_', expand=True)"
   ]
  },
  {
   "cell_type": "code",
   "execution_count": null,
   "metadata": {},
   "outputs": [],
   "source": [
    "ya = np.copy(yact[0].values)\n",
    "ya[ya == 'COOH'] = 1\n",
    "ya[ya != 1] = 0\n",
    "\n",
    "yp = np.copy(ypred[0].values)\n",
    "yp[yp == 'COOH'] = 1\n",
    "yp[yp != 1] = 0"
   ]
  },
  {
   "cell_type": "code",
   "execution_count": null,
   "metadata": {},
   "outputs": [],
   "source": [
    "from sklearn import metrics\n",
    "\n",
    "def mod_roc_curve(y_true, y_score, pos_label):\n",
    "    ya = np.copy(y_true)\n",
    "    ya[ya == pos_label] = 1\n",
    "    ya[ya != 1] = 0\n",
    "\n",
    "    yp = np.copy(y_score)\n",
    "    yp[yp == pos_label] = 1\n",
    "    yp[yp != 1] = 0\n",
    "    \n",
    "    fpr, tpr, thresholds = metrics.roc_curve(ya, yp, drop_intermediate=False)\n",
    "    return fpr, tpr, thresholds"
   ]
  },
  {
   "cell_type": "code",
   "execution_count": null,
   "metadata": {},
   "outputs": [],
   "source": [
    "fpr, tpr, thresholds = mod_roc_curve(yact[1].values, ypred[1].values, pos_label=None)"
   ]
  },
  {
   "cell_type": "code",
   "execution_count": null,
   "metadata": {},
   "outputs": [],
   "source": [
    "import matplotlib.pyplot as plt"
   ]
  },
  {
   "cell_type": "code",
   "execution_count": null,
   "metadata": {},
   "outputs": [],
   "source": [
    "plt.plot(fpr, tpr)"
   ]
  },
  {
   "cell_type": "code",
   "execution_count": null,
   "metadata": {},
   "outputs": [],
   "source": [
    "plt.plot(fpr, tpr)"
   ]
  },
  {
   "cell_type": "code",
   "execution_count": null,
   "metadata": {},
   "outputs": [],
   "source": [
    "plt.plot(fpr, tpr)"
   ]
  },
  {
   "cell_type": "code",
   "execution_count": null,
   "metadata": {},
   "outputs": [],
   "source": [
    "plt.plot(fpr, tpr)"
   ]
  },
  {
   "cell_type": "code",
   "execution_count": null,
   "metadata": {},
   "outputs": [],
   "source": [
    "yr1 = np.random.randint(0, 2, size=400)\n",
    "yr2 = np.random.rand(400)\n",
    "fpr, tpr, thresholds = metrics.roc_curve(yr1, yr2)\n",
    "plt.plot(fpr, tpr)"
   ]
  },
  {
   "cell_type": "code",
   "execution_count": null,
   "metadata": {},
   "outputs": [],
   "source": [
    "noise = 10\n",
    "size = 400\n",
    "yr1 = np.random.randint(0, 2, size=size)\n",
    "yr2 = yr1 + noise*np.random.rand(size) - 0.5*noise\n",
    "fpr, tpr, thresholds = metrics.roc_curve(yr1, yr2)\n",
    "plt.plot(fpr, tpr)"
   ]
  },
  {
   "cell_type": "code",
   "execution_count": null,
   "metadata": {},
   "outputs": [],
   "source": [
    "noise = 5\n",
    "size = 400\n",
    "yr1 = np.random.randint(0, 2, size=size)\n",
    "yr2 = yr1 + noise*np.random.rand(size) - 0.5*noise\n",
    "fpr, tpr, thresholds = metrics.roc_curve(yr1, yr2)\n",
    "plt.plot(fpr, tpr)"
   ]
  },
  {
   "cell_type": "code",
   "execution_count": null,
   "metadata": {},
   "outputs": [],
   "source": [
    "noise = 2.5\n",
    "size = 400\n",
    "yr1 = np.random.randint(0, 2, size=size)\n",
    "yr2 = yr1 + noise*np.random.rand(size) - 0.5*noise\n",
    "fpr, tpr, thresholds = metrics.roc_curve(yr1, yr2)\n",
    "plt.plot(fpr, tpr)"
   ]
  },
  {
   "cell_type": "code",
   "execution_count": null,
   "metadata": {},
   "outputs": [],
   "source": [
    "noise = 1.5\n",
    "size = 400\n",
    "yr1 = np.random.randint(0, 2, size=size)\n",
    "yr2 = yr1 + noise*np.random.rand(size) - 0.5*noise\n",
    "fpr, tpr, thresholds = metrics.roc_curve(yr1, yr2)\n",
    "plt.plot(fpr, tpr)"
   ]
  },
  {
   "cell_type": "code",
   "execution_count": null,
   "metadata": {},
   "outputs": [],
   "source": [
    "KNNmod.score(X2, y2)"
   ]
  },
  {
   "cell_type": "code",
   "execution_count": 14,
   "metadata": {},
   "outputs": [],
   "source": [
    "from sklearn.neural_network import MLPClassifier\n",
    "from sklearn.multiclass import OneVsRestClassifier\n",
    "from sklearn import svm\n",
    "from sklearn import metrics"
   ]
  },
  {
   "cell_type": "code",
   "execution_count": 47,
   "metadata": {},
   "outputs": [],
   "source": [
    "ynew = label_binarize(y, classes=labels)\n",
    "y2new = label_binarize(y2, classes=labels)\n",
    "n_classes = ynew.shape[1]"
   ]
  },
  {
   "cell_type": "code",
   "execution_count": 41,
   "metadata": {},
   "outputs": [
    {
     "data": {
      "text/plain": [
       "array([[1, 0, 0, 0],\n",
       "       [1, 0, 0, 0],\n",
       "       [1, 0, 0, 0],\n",
       "       ..., \n",
       "       [0, 0, 0, 1],\n",
       "       [0, 0, 0, 1],\n",
       "       [0, 0, 0, 1]])"
      ]
     },
     "execution_count": 41,
     "metadata": {},
     "output_type": "execute_result"
    }
   ],
   "source": [
    "ynew"
   ]
  },
  {
   "cell_type": "code",
   "execution_count": 42,
   "metadata": {},
   "outputs": [],
   "source": [
    "classifier = OneVsRestClassifier(svm.SVC(kernel='linear', probability=True))"
   ]
  },
  {
   "cell_type": "code",
   "execution_count": 59,
   "metadata": {},
   "outputs": [],
   "source": [
    "y_score = classifier.fit(X, ynew).decision_function(X2)"
   ]
  },
  {
   "cell_type": "code",
   "execution_count": 92,
   "metadata": {},
   "outputs": [],
   "source": [
    "y_scorep = pd.DataFrame(data=y_score.transpose()).idxmax()\n",
    "y2newp = pd.DataFrame(data=y2new.transpose()).idxmax()"
   ]
  },
  {
   "cell_type": "code",
   "execution_count": 93,
   "metadata": {},
   "outputs": [],
   "source": [
    "ycorrect = y_scorep == y2newp"
   ]
  },
  {
   "cell_type": "code",
   "execution_count": 96,
   "metadata": {},
   "outputs": [
    {
     "data": {
      "text/plain": [
       "0.93548380476512327"
      ]
     },
     "execution_count": 96,
     "metadata": {},
     "output_type": "execute_result"
    }
   ],
   "source": [
    "ycorrect.mean()"
   ]
  },
  {
   "cell_type": "code",
   "execution_count": 60,
   "metadata": {},
   "outputs": [],
   "source": [
    "# Compute ROC curve and ROC area for each class\n",
    "fpr = dict()\n",
    "tpr = dict()\n",
    "roc_auc = dict()\n",
    "for i in range(n_classes):\n",
    "    fpr[i], tpr[i], _ = metrics.roc_curve(y2new[:, i], y_score[:, i])\n",
    "    roc_auc[i] = auc(fpr[i], tpr[i])\n",
    "\n",
    "# Compute micro-average ROC curve and ROC area\n",
    "fpr[\"micro\"], tpr[\"micro\"], _ = metrics.roc_curve(y2new.ravel(), y_score.ravel())\n",
    "roc_auc[\"micro\"] = auc(fpr[\"micro\"], tpr[\"micro\"])"
   ]
  },
  {
   "cell_type": "code",
   "execution_count": 83,
   "metadata": {},
   "outputs": [
    {
     "data": {
      "text/plain": [
       "<matplotlib.legend.Legend at 0x7efb5b672828>"
      ]
     },
     "execution_count": 83,
     "metadata": {},
     "output_type": "execute_result"
    },
    {
     "data": {
      "image/png": "[encoded data removed]",
      "text/plain": [
       "<Figure size 432x288 with 1 Axes>"
      ]
     },
     "metadata": {},
     "output_type": "display_data"
    }
   ],
   "source": [
    "tclass = 0\n",
    "plt.figure()\n",
    "lw = 4\n",
    "plt.plot(fpr[tclass], tpr[tclass], color='darkorange',\n",
    "         lw=lw, label='ROC curve (area = %0.2f)' % roc_auc[tclass])\n",
    "plt.plot([0, 1], [0, 1], color='navy', lw=lw, linestyle='--')\n",
    "plt.xlim([0.0, 1.0])\n",
    "plt.ylim([0.0, 1.05])\n",
    "plt.xlabel('False Positive Rate')\n",
    "plt.ylabel('True Positive Rate')\n",
    "plt.title('Receiver operating characteristic example')\n",
    "plt.legend(loc=\"lower right\")"
   ]
  },
  {
   "cell_type": "code",
   "execution_count": 62,
   "metadata": {},
   "outputs": [
    {
     "data": {
      "text/plain": [
       "0.78536217290058474"
      ]
     },
     "execution_count": 62,
     "metadata": {},
     "output_type": "execute_result"
    }
   ],
   "source": [
    "classifier.score(X2, y2new)"
   ]
  },
  {
   "cell_type": "code",
   "execution_count": 74,
   "metadata": {},
   "outputs": [
    {
     "data": {
      "text/plain": [
       "0.89429141285438341"
      ]
     },
     "execution_count": 74,
     "metadata": {},
     "output_type": "execute_result"
    }
   ],
   "source": [
    "roc_auc[0]*roc_auc[1]*roc_auc[2]*roc_auc[3]"
   ]
  },
  {
   "cell_type": "code",
   "execution_count": 84,
   "metadata": {},
   "outputs": [
    {
     "data": {
      "text/plain": [
       "<matplotlib.legend.Legend at 0x7efbe7c52e80>"
      ]
     },
     "execution_count": 84,
     "metadata": {},
     "output_type": "execute_result"
    },
    {
     "data": {
      "image/png": "[encoded data removed]",
      "text/plain": [
       "<Figure size 432x288 with 1 Axes>"
      ]
     },
     "metadata": {},
     "output_type": "display_data"
    }
   ],
   "source": [
    "# Compute macro-average ROC curve and ROC area\n",
    "\n",
    "# First aggregate all false positive rates\n",
    "all_fpr = np.unique(np.concatenate([fpr[i] for i in range(n_classes)]))\n",
    "\n",
    "# Then interpolate all ROC curves at this points\n",
    "mean_tpr = np.zeros_like(all_fpr)\n",
    "for i in range(n_classes):\n",
    "    mean_tpr += interp(all_fpr, fpr[i], tpr[i])\n",
    "\n",
    "# Finally average it and compute AUC\n",
    "mean_tpr /= n_classes\n",
    "\n",
    "fpr[\"macro\"] = all_fpr\n",
    "tpr[\"macro\"] = mean_tpr\n",
    "roc_auc[\"macro\"] = auc(fpr[\"macro\"], tpr[\"macro\"])\n",
    "\n",
    "# Plot all ROC curves\n",
    "plt.figure()\n",
    "plt.plot(fpr[\"micro\"], tpr[\"micro\"],\n",
    "         label='micro-average ROC curve (area = {0:0.2f})'\n",
    "               ''.format(roc_auc[\"micro\"]),\n",
    "         color='deeppink', linestyle=':', linewidth=4)\n",
    "\n",
    "plt.plot(fpr[\"macro\"], tpr[\"macro\"],\n",
    "         label='macro-average ROC curve (area = {0:0.2f})'\n",
    "               ''.format(roc_auc[\"macro\"]),\n",
    "         color='navy', linestyle=':', linewidth=4)\n",
    "\n",
    "colors = cycle(['aqua', 'darkorange', 'cornflowerblue', 'slategray'])\n",
    "for i, color in zip(range(n_classes), colors):\n",
    "    plt.plot(fpr[i], tpr[i], color=color, lw=lw,\n",
    "             label='ROC curve of class {0} (area = {1:0.2f})'\n",
    "             ''.format(i, roc_auc[i]))\n",
    "\n",
    "plt.plot([0, 1], [0, 1], 'k--', lw=lw)\n",
    "plt.xlim([0, 0.4])\n",
    "plt.ylim([0.5, 1.05])\n",
    "plt.xlabel('False Positive Rate')\n",
    "plt.ylabel('True Positive Rate')\n",
    "plt.title('Some extension of Receiver operating characteristic to multi-class')\n",
    "plt.legend(loc=\"lower right\")"
   ]
  },
  {
   "cell_type": "markdown",
   "metadata": {},
   "source": [
    "I found a standard way of implementing ROC curves with non-binary data called the one versus all method. It essentially breaks a n-class system into n-1 binary systems, and you make an n-1 roc curves for each case. I can't use MLP methods this way, but it looks like I can get high predictive power as-is? Kind of? I can get "
   ]
  },
  {
   "cell_type": "code",
   "execution_count": null,
   "metadata": {},
   "outputs": [],
   "source": [
    "fpr, tpr, _ = metrics.roc_curve(y, y_score)"
   ]
  },
  {
   "cell_type": "code",
   "execution_count": 25,
   "metadata": {},
   "outputs": [],
   "source": [
    "import numpy as np\n",
    "import matplotlib.pyplot as plt\n",
    "from itertools import cycle\n",
    "\n",
    "from sklearn import svm, datasets\n",
    "from sklearn.metrics import roc_curve, auc\n",
    "from sklearn.model_selection import train_test_split\n",
    "from sklearn.preprocessing import label_binarize\n",
    "from sklearn.multiclass import OneVsRestClassifier\n",
    "from scipy import interp"
   ]
  },
  {
   "cell_type": "code",
   "execution_count": 26,
   "metadata": {},
   "outputs": [],
   "source": [
    "# Import some data to play with\n",
    "iris = datasets.load_iris()\n",
    "X = iris.data\n",
    "y = iris.target"
   ]
  },
  {
   "cell_type": "code",
   "execution_count": 29,
   "metadata": {},
   "outputs": [],
   "source": [
    "# Binarize the output\n",
    "y = label_binarize(y, classes=[0, 1, 2])\n",
    "n_classes = y.shape[1]"
   ]
  },
  {
   "cell_type": "code",
   "execution_count": 30,
   "metadata": {},
   "outputs": [
    {
     "data": {
      "text/plain": [
       "array([[1, 0, 0],\n",
       "       [1, 0, 0],\n",
       "       [1, 0, 0],\n",
       "       [1, 0, 0],\n",
       "       [1, 0, 0],\n",
       "       [1, 0, 0],\n",
       "       [1, 0, 0],\n",
       "       [1, 0, 0],\n",
       "       [1, 0, 0],\n",
       "       [1, 0, 0],\n",
       "       [1, 0, 0],\n",
       "       [1, 0, 0],\n",
       "       [1, 0, 0],\n",
       "       [1, 0, 0],\n",
       "       [1, 0, 0],\n",
       "       [1, 0, 0],\n",
       "       [1, 0, 0],\n",
       "       [1, 0, 0],\n",
       "       [1, 0, 0],\n",
       "       [1, 0, 0],\n",
       "       [1, 0, 0],\n",
       "       [1, 0, 0],\n",
       "       [1, 0, 0],\n",
       "       [1, 0, 0],\n",
       "       [1, 0, 0],\n",
       "       [1, 0, 0],\n",
       "       [1, 0, 0],\n",
       "       [1, 0, 0],\n",
       "       [1, 0, 0],\n",
       "       [1, 0, 0],\n",
       "       [1, 0, 0],\n",
       "       [1, 0, 0],\n",
       "       [1, 0, 0],\n",
       "       [1, 0, 0],\n",
       "       [1, 0, 0],\n",
       "       [1, 0, 0],\n",
       "       [1, 0, 0],\n",
       "       [1, 0, 0],\n",
       "       [1, 0, 0],\n",
       "       [1, 0, 0],\n",
       "       [1, 0, 0],\n",
       "       [1, 0, 0],\n",
       "       [1, 0, 0],\n",
       "       [1, 0, 0],\n",
       "       [1, 0, 0],\n",
       "       [1, 0, 0],\n",
       "       [1, 0, 0],\n",
       "       [1, 0, 0],\n",
       "       [1, 0, 0],\n",
       "       [1, 0, 0],\n",
       "       [0, 1, 0],\n",
       "       [0, 1, 0],\n",
       "       [0, 1, 0],\n",
       "       [0, 1, 0],\n",
       "       [0, 1, 0],\n",
       "       [0, 1, 0],\n",
       "       [0, 1, 0],\n",
       "       [0, 1, 0],\n",
       "       [0, 1, 0],\n",
       "       [0, 1, 0],\n",
       "       [0, 1, 0],\n",
       "       [0, 1, 0],\n",
       "       [0, 1, 0],\n",
       "       [0, 1, 0],\n",
       "       [0, 1, 0],\n",
       "       [0, 1, 0],\n",
       "       [0, 1, 0],\n",
       "       [0, 1, 0],\n",
       "       [0, 1, 0],\n",
       "       [0, 1, 0],\n",
       "       [0, 1, 0],\n",
       "       [0, 1, 0],\n",
       "       [0, 1, 0],\n",
       "       [0, 1, 0],\n",
       "       [0, 1, 0],\n",
       "       [0, 1, 0],\n",
       "       [0, 1, 0],\n",
       "       [0, 1, 0],\n",
       "       [0, 1, 0],\n",
       "       [0, 1, 0],\n",
       "       [0, 1, 0],\n",
       "       [0, 1, 0],\n",
       "       [0, 1, 0],\n",
       "       [0, 1, 0],\n",
       "       [0, 1, 0],\n",
       "       [0, 1, 0],\n",
       "       [0, 1, 0],\n",
       "       [0, 1, 0],\n",
       "       [0, 1, 0],\n",
       "       [0, 1, 0],\n",
       "       [0, 1, 0],\n",
       "       [0, 1, 0],\n",
       "       [0, 1, 0],\n",
       "       [0, 1, 0],\n",
       "       [0, 1, 0],\n",
       "       [0, 1, 0],\n",
       "       [0, 1, 0],\n",
       "       [0, 1, 0],\n",
       "       [0, 1, 0],\n",
       "       [0, 1, 0],\n",
       "       [0, 0, 1],\n",
       "       [0, 0, 1],\n",
       "       [0, 0, 1],\n",
       "       [0, 0, 1],\n",
       "       [0, 0, 1],\n",
       "       [0, 0, 1],\n",
       "       [0, 0, 1],\n",
       "       [0, 0, 1],\n",
       "       [0, 0, 1],\n",
       "       [0, 0, 1],\n",
       "       [0, 0, 1],\n",
       "       [0, 0, 1],\n",
       "       [0, 0, 1],\n",
       "       [0, 0, 1],\n",
       "       [0, 0, 1],\n",
       "       [0, 0, 1],\n",
       "       [0, 0, 1],\n",
       "       [0, 0, 1],\n",
       "       [0, 0, 1],\n",
       "       [0, 0, 1],\n",
       "       [0, 0, 1],\n",
       "       [0, 0, 1],\n",
       "       [0, 0, 1],\n",
       "       [0, 0, 1],\n",
       "       [0, 0, 1],\n",
       "       [0, 0, 1],\n",
       "       [0, 0, 1],\n",
       "       [0, 0, 1],\n",
       "       [0, 0, 1],\n",
       "       [0, 0, 1],\n",
       "       [0, 0, 1],\n",
       "       [0, 0, 1],\n",
       "       [0, 0, 1],\n",
       "       [0, 0, 1],\n",
       "       [0, 0, 1],\n",
       "       [0, 0, 1],\n",
       "       [0, 0, 1],\n",
       "       [0, 0, 1],\n",
       "       [0, 0, 1],\n",
       "       [0, 0, 1],\n",
       "       [0, 0, 1],\n",
       "       [0, 0, 1],\n",
       "       [0, 0, 1],\n",
       "       [0, 0, 1],\n",
       "       [0, 0, 1],\n",
       "       [0, 0, 1],\n",
       "       [0, 0, 1],\n",
       "       [0, 0, 1],\n",
       "       [0, 0, 1],\n",
       "       [0, 0, 1]])"
      ]
     },
     "execution_count": 30,
     "metadata": {},
     "output_type": "execute_result"
    }
   ],
   "source": [
    "y"
   ]
  },
  {
   "cell_type": "code",
   "execution_count": null,
   "metadata": {},
   "outputs": [],
   "source": [
    "# Add noisy features to make the problem harder\n",
    "random_state = np.random.RandomState(0)\n",
    "n_samples, n_features = X.shape\n",
    "X = np.c_[X, random_state.randn(n_samples, 200 * n_features)]\n",
    "\n",
    "# shuffle and split training and test sets\n",
    "X_train, X_test, y_train, y_test = train_test_split(X, y, test_size=.5,\n",
    "                                                    random_state=0)"
   ]
  },
  {
   "cell_type": "code",
   "execution_count": null,
   "metadata": {},
   "outputs": [],
   "source": [
    "# Learn to predict each class against the other\n",
    "classifier = OneVsRestClassifier(svm.SVC(kernel='linear', probability=True,\n",
    "                                 random_state=random_state))\n",
    "y_score = classifier.fit(X_train, y_train).decision_function(X_test)"
   ]
  },
  {
   "cell_type": "code",
   "execution_count": null,
   "metadata": {},
   "outputs": [],
   "source": [
    "# Compute ROC curve and ROC area for each class\n",
    "fpr = dict()\n",
    "tpr = dict()\n",
    "roc_auc = dict()\n",
    "for i in range(n_classes):\n",
    "    fpr[i], tpr[i], _ = roc_curve(y_test[:, i], y_score[:, i])\n",
    "    roc_auc[i] = auc(fpr[i], tpr[i])\n",
    "\n",
    "# Compute micro-average ROC curve and ROC area\n",
    "fpr[\"micro\"], tpr[\"micro\"], _ = roc_curve(y_test.ravel(), y_score.ravel())\n",
    "roc_auc[\"micro\"] = auc(fpr[\"micro\"], tpr[\"micro\"])"
   ]
  }
 ],
 "metadata": {
  "kernelspec": {
   "display_name": "Python 3",
   "language": "python",
   "name": "python3"
  },
  "language_info": {
   "codemirror_mode": {
    "name": "ipython",
    "version": 3
   },
   "file_extension": ".py",
   "mimetype": "text/x-python",
   "name": "python",
   "nbconvert_exporter": "python",
   "pygments_lexer": "ipython3",
   "version": "3.6.3"
  }
 },
 "nbformat": 4,
 "nbformat_minor": 2
}
