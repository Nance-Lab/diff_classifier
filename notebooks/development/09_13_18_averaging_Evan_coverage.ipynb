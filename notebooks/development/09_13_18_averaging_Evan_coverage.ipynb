{
 "cells": [
  {
   "cell_type": "markdown",
   "metadata": {},
   "source": [
    "This example notebook uses the averaging functions found ins the diff_classifier msd module to find average msd profiles over input msd datasets using precision-weighted averaging. Precision is the inverse of the standard squared error. This increases the contribution of videos that have many particles and more homogeneous datasets to the final calculated MSD."
   ]
  },
  {
   "cell_type": "code",
   "execution_count": 1,
   "metadata": {},
   "outputs": [],
   "source": [
    "import numpy as np\n",
    "import diff_classifier.aws as aws\n",
    "import diff_classifier.msd as msd"
   ]
  },
  {
   "cell_type": "code",
   "execution_count": 2,
   "metadata": {},
   "outputs": [],
   "source": [
    "folder = '08_28_18_varying_PEG_redo'\n",
    "bucket = 'evanepst.data'\n",
    "#experiment = 'test' #Used for naming purposes. Should exclude XY and well information\n",
    "\n",
    "#vids = 2\n",
    "to_track = []\n",
    "frames = 651\n",
    "fps = 100.02\n",
    "umppx = 0.07\n",
    "\n",
    "vids = 10\n",
    "covers = ['COOH', 'pt10xs', 'pt15xs', 'pt25xs', 'pt40xs']\n",
    "for cover in covers:\n",
    "    for num in range(1, vids+1):\n",
    "        #to_track.append('100x_0_4_1_2_gel_{}_bulk_vid_{}'.format(vis, num))\n",
    "        to_track.append('3mM_100_{}_XY{}'.format(cover, '%02d' % num))"
   ]
  },
  {
   "cell_type": "code",
   "execution_count": null,
   "metadata": {},
   "outputs": [
    {
     "name": "stdout",
     "output_type": "stream",
     "text": [
      "Done with 3mM_100_COOH_XY01\n"
     ]
    }
   ],
   "source": [
    "geomean = {}\n",
    "gSEM = {}\n",
    "for sample_name in to_track:\n",
    "    # Users can toggle between using pre-calculated geomean files and calculating new values by commenting out the relevant\n",
    "    # lines of code within the for loop.\n",
    "    #aws.download_s3('{}/geomean_{}.csv'.format(folder, sample_name), 'geomean_{}.csv'.format(sample_name), bucket_name=bucket)\n",
    "    #aws.download_s3('{}/geoSEM_{}.csv'.format(folder, sample_name), 'geoSEM_{}.csv'.format(sample_name), bucket_name=bucket)\n",
    "    #geomean[sample_name] = np.genfromtxt('geomean_{}.csv'.format(sample_name))\n",
    "    #gSEM[sample_name] = np.genfromtxt('geoSEM_{}.csv'.format(sample_name))\n",
    "    \n",
    "    aws.download_s3('{}/msd_{}.csv'.format(folder, sample_name), 'msd_{}.csv'.format(sample_name), bucket_name=bucket)\n",
    "    geomean[sample_name], gSEM[sample_name] = msd.geomean_msdisp(sample_name, umppx=umppx, fps=fps,\n",
    "                                                                 remote_folder=folder, bucket=bucket)\n",
    "    print('Done with {}'.format(sample_name))"
   ]
  },
  {
   "cell_type": "code",
   "execution_count": null,
   "metadata": {},
   "outputs": [],
   "source": [
    "for cover in covers:\n",
    "    to_avg = []\n",
    "    for sample in to_track:\n",
    "        if cover in sample:\n",
    "            to_avg.append(sample)\n",
    "    \n",
    "    weights, wh1 = msd.precision_weight(to_avg, gSEM)\n",
    "    geodata = msd.precision_averaging(to_avg, geomean, gSEM, weights,\n",
    "                                      bucket=bucket, folder=folder, experiment='3mM_100_{}'.format(cover))"
   ]
  },
  {
   "cell_type": "markdown",
   "metadata": {},
   "source": [
    "Note that in cases where two or more averaging steps are needed (for instance, if the user takes 5 videos per well with a total of four wells), averaging steps can be performed consecutively. the msd.binning function is a helpful tool by defining bins over which to average for multi-step averaging."
   ]
  },
  {
   "cell_type": "code",
   "execution_count": null,
   "metadata": {},
   "outputs": [],
   "source": [
    "msd.plot_all_experiments(to_track, yrange=(10**-3, 10**-1), bucket=bucket, folder=folder)"
   ]
  },
  {
   "cell_type": "code",
   "execution_count": null,
   "metadata": {},
   "outputs": [],
   "source": [
    "msd.plot_all_experiments(['gel_04_percent_bulk', 'gel_12_percent_bulk'], yrange=(10**-3, 10**-1), bucket=bucket, folder=folder)"
   ]
  },
  {
   "cell_type": "code",
   "execution_count": null,
   "metadata": {},
   "outputs": [],
   "source": []
  }
 ],
 "metadata": {
  "kernelspec": {
   "display_name": "Python 3",
   "language": "python",
   "name": "python3"
  },
  "language_info": {
   "codemirror_mode": {
    "name": "ipython",
    "version": 3
   },
   "file_extension": ".py",
   "mimetype": "text/x-python",
   "name": "python",
   "nbconvert_exporter": "python",
   "pygments_lexer": "ipython3",
   "version": "3.6.3"
  }
 },
 "nbformat": 4,
 "nbformat_minor": 2
}
