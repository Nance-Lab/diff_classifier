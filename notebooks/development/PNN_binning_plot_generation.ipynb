{
 "cells": [
  {
   "cell_type": "code",
   "execution_count": 1,
   "metadata": {},
   "outputs": [],
   "source": [
    "import os\n",
    "import os.path as op\n",
    "import boto3\n",
    "import numpy as np\n",
    "import pandas as pd\n",
    "import matplotlib\n",
    "import matplotlib.pyplot as plt\n",
    "import skimage.io\n",
    "import skimage.filters\n",
    "from skimage.filters import try_all_threshold\n",
    "from diff_classifier import aws\n",
    "import matplotlib.image as mpimg\n",
    "from scipy import ndimage as ndi\n",
    "from skimage.transform import resize\n",
    "import numpy.ma as ma\n",
    "from skimage import morphology\n",
    "from scipy.ndimage.morphology import distance_transform_edt as Euclidean"
   ]
  },
  {
   "cell_type": "code",
   "execution_count": 2,
   "metadata": {},
   "outputs": [],
   "source": [
    "from diff_classifier import PNNs"
   ]
  },
  {
   "cell_type": "code",
   "execution_count": 3,
   "metadata": {},
   "outputs": [],
   "source": [
    "s3_bucket = 'mckenna.data'\n",
    "s3_folder = '11_16_18_MPT_in_PNNs'\n",
    "prefix = 'HBSS_vid_3'\n",
    "s3_img_filename = '{}_z_stack_MaxIP.tif'.format(prefix)\n",
    "s3_feat_filename = \"features_{}.csv\".format(prefix)\n",
    "aws.download_s3('{}/{}'.format(s3_folder,s3_feat_filename), s3_feat_filename, bucket_name=s3_bucket)\n",
    "feat_name = s3_feat_filename\n",
    "feat_df = pd.read_csv(feat_name)\n",
    "aws.download_s3('{}/{}'.format(s3_folder,s3_img_filename), s3_img_filename, bucket_name = s3_bucket)\n",
    "img = skimage.io.imread(s3_img_filename)"
   ]
  },
  {
   "cell_type": "code",
   "execution_count": 4,
   "metadata": {},
   "outputs": [
    {
     "name": "stderr",
     "output_type": "stream",
     "text": [
      "/usr/local/lib/python2.7/dist-packages/skimage/transform/_warps.py:84: UserWarning: The default mode, 'constant', will be changed to 'reflect' in skimage 0.15.\n",
      "  warn(\"The default mode, 'constant', will be changed to 'reflect' in \"\n",
      "/home/ubuntu/source/diff-classifier/diff_classifier/PNNs.py:81: SettingWithCopyWarning: \n",
      "A value is trying to be set on a copy of a slice from a DataFrame\n",
      "\n",
      "See the caveats in the documentation: http://pandas.pydata.org/pandas-docs/stable/indexing.html#indexing-view-versus-copy\n",
      "  raw_df['Euc'][i] = euc_img[int(round(raw_df['X'][i])),int(round(raw_df['Y'][i]))]\n",
      "/home/ubuntu/source/diff-classifier/diff_classifier/PNNs.py:96: SettingWithCopyWarning: \n",
      "A value is trying to be set on a copy of a slice from a DataFrame\n",
      "\n",
      "See the caveats in the documentation: http://pandas.pydata.org/pandas-docs/stable/indexing.html#indexing-view-versus-copy\n",
      "  raw_df['Bin'][i] = 5\n",
      "/home/ubuntu/source/diff-classifier/diff_classifier/PNNs.py:99: SettingWithCopyWarning: \n",
      "A value is trying to be set on a copy of a slice from a DataFrame\n",
      "\n",
      "See the caveats in the documentation: http://pandas.pydata.org/pandas-docs/stable/indexing.html#indexing-view-versus-copy\n",
      "  raw_df['Bin'][i] = 6\n",
      "/home/ubuntu/source/diff-classifier/diff_classifier/PNNs.py:84: SettingWithCopyWarning: \n",
      "A value is trying to be set on a copy of a slice from a DataFrame\n",
      "\n",
      "See the caveats in the documentation: http://pandas.pydata.org/pandas-docs/stable/indexing.html#indexing-view-versus-copy\n",
      "  raw_df['Bin'][i] = 1\n",
      "/home/ubuntu/source/diff-classifier/diff_classifier/PNNs.py:90: SettingWithCopyWarning: \n",
      "A value is trying to be set on a copy of a slice from a DataFrame\n",
      "\n",
      "See the caveats in the documentation: http://pandas.pydata.org/pandas-docs/stable/indexing.html#indexing-view-versus-copy\n",
      "  raw_df['Bin'][i] = 3\n"
     ]
    }
   ],
   "source": [
    "Deff1_binning, Deff1_plot_data, Deff1_x, Deff1_y = PNNs.PNN_binning(img, feat_df, min_obj_size=3000, feat = 'Deff1', box_plot=False)\n"
   ]
  },
  {
   "cell_type": "code",
   "execution_count": 5,
   "metadata": {},
   "outputs": [
    {
     "data": {
      "image/png": "[encoded data removed]",
      "text/plain": [
       "<matplotlib.figure.Figure at 0x7f6e30fd6d10>"
      ]
     },
     "metadata": {},
     "output_type": "display_data"
    }
   ],
   "source": [
    "plt.boxplot(Deff1_plot_data, showfliers = False)\n",
    "plt.plot(Deff1_x,Deff1_y,'k.')\n",
    "plt.show()"
   ]
  },
  {
   "cell_type": "code",
   "execution_count": 6,
   "metadata": {},
   "outputs": [
    {
     "data": {
      "text/html": [
       "<div>\n",
       "<style scoped>\n",
       "    .dataframe tbody tr th:only-of-type {\n",
       "        vertical-align: middle;\n",
       "    }\n",
       "\n",
       "    .dataframe tbody tr th {\n",
       "        vertical-align: top;\n",
       "    }\n",
       "\n",
       "    .dataframe thead th {\n",
       "        text-align: right;\n",
       "    }\n",
       "</style>\n",
       "<table border=\"1\" class=\"dataframe\">\n",
       "  <thead>\n",
       "    <tr style=\"text-align: right;\">\n",
       "      <th></th>\n",
       "      <th>Unnamed: 0</th>\n",
       "      <th>Track_ID</th>\n",
       "      <th>alpha</th>\n",
       "      <th>D_fit</th>\n",
       "      <th>kurtosis</th>\n",
       "      <th>asymmetry1</th>\n",
       "      <th>asymmetry2</th>\n",
       "      <th>asymmetry3</th>\n",
       "      <th>AR</th>\n",
       "      <th>elongation</th>\n",
       "      <th>...</th>\n",
       "      <th>frames</th>\n",
       "      <th>X</th>\n",
       "      <th>Y</th>\n",
       "      <th>Quality</th>\n",
       "      <th>Mean_Intensity</th>\n",
       "      <th>SN_Ratio</th>\n",
       "      <th>Deff1</th>\n",
       "      <th>Deff2</th>\n",
       "      <th>Euc</th>\n",
       "      <th>Bin</th>\n",
       "    </tr>\n",
       "  </thead>\n",
       "  <tbody>\n",
       "    <tr>\n",
       "      <th>0</th>\n",
       "      <td>0</td>\n",
       "      <td>0.0</td>\n",
       "      <td>4.066274e-01</td>\n",
       "      <td>1.234418</td>\n",
       "      <td>1.729094</td>\n",
       "      <td>0.934477</td>\n",
       "      <td>0.130155</td>\n",
       "      <td>0.351253</td>\n",
       "      <td>2.015855</td>\n",
       "      <td>0.503933</td>\n",
       "      <td>...</td>\n",
       "      <td>37.0</td>\n",
       "      <td>509.015730</td>\n",
       "      <td>1142.000000</td>\n",
       "      <td>19.158695</td>\n",
       "      <td>200.923109</td>\n",
       "      <td>1.491304</td>\n",
       "      <td>0.408862</td>\n",
       "      <td>NaN</td>\n",
       "      <td>125.992063</td>\n",
       "      <td>5.0</td>\n",
       "    </tr>\n",
       "    <tr>\n",
       "      <th>1</th>\n",
       "      <td>1</td>\n",
       "      <td>1.0</td>\n",
       "      <td>7.617790e-02</td>\n",
       "      <td>22.602545</td>\n",
       "      <td>2.844596</td>\n",
       "      <td>0.935092</td>\n",
       "      <td>0.129522</td>\n",
       "      <td>0.352340</td>\n",
       "      <td>3.622573</td>\n",
       "      <td>0.723953</td>\n",
       "      <td>...</td>\n",
       "      <td>121.0</td>\n",
       "      <td>506.762867</td>\n",
       "      <td>1151.349323</td>\n",
       "      <td>19.015180</td>\n",
       "      <td>233.703120</td>\n",
       "      <td>1.981142</td>\n",
       "      <td>1.475014</td>\n",
       "      <td>0.141288</td>\n",
       "      <td>120.917327</td>\n",
       "      <td>5.0</td>\n",
       "    </tr>\n",
       "    <tr>\n",
       "      <th>2</th>\n",
       "      <td>2</td>\n",
       "      <td>2.0</td>\n",
       "      <td>1.473815e-08</td>\n",
       "      <td>22.318937</td>\n",
       "      <td>2.738254</td>\n",
       "      <td>0.845722</td>\n",
       "      <td>0.204613</td>\n",
       "      <td>0.245884</td>\n",
       "      <td>1.783135</td>\n",
       "      <td>0.439190</td>\n",
       "      <td>...</td>\n",
       "      <td>651.0</td>\n",
       "      <td>992.308138</td>\n",
       "      <td>1406.011083</td>\n",
       "      <td>21.289274</td>\n",
       "      <td>259.155908</td>\n",
       "      <td>2.653319</td>\n",
       "      <td>1.542021</td>\n",
       "      <td>0.324345</td>\n",
       "      <td>167.370846</td>\n",
       "      <td>6.0</td>\n",
       "    </tr>\n",
       "    <tr>\n",
       "      <th>3</th>\n",
       "      <td>3</td>\n",
       "      <td>3.0</td>\n",
       "      <td>1.199997e+00</td>\n",
       "      <td>0.315534</td>\n",
       "      <td>3.486660</td>\n",
       "      <td>0.684978</td>\n",
       "      <td>0.307101</td>\n",
       "      <td>0.151410</td>\n",
       "      <td>1.476176</td>\n",
       "      <td>0.322574</td>\n",
       "      <td>...</td>\n",
       "      <td>552.0</td>\n",
       "      <td>534.741736</td>\n",
       "      <td>1124.659826</td>\n",
       "      <td>28.118277</td>\n",
       "      <td>246.298042</td>\n",
       "      <td>1.584998</td>\n",
       "      <td>3.505944</td>\n",
       "      <td>0.972378</td>\n",
       "      <td>124.823876</td>\n",
       "      <td>5.0</td>\n",
       "    </tr>\n",
       "    <tr>\n",
       "      <th>4</th>\n",
       "      <td>4</td>\n",
       "      <td>4.0</td>\n",
       "      <td>6.867712e-01</td>\n",
       "      <td>4.453814</td>\n",
       "      <td>2.048315</td>\n",
       "      <td>0.455501</td>\n",
       "      <td>0.440563</td>\n",
       "      <td>0.078401</td>\n",
       "      <td>1.097825</td>\n",
       "      <td>0.089108</td>\n",
       "      <td>...</td>\n",
       "      <td>95.0</td>\n",
       "      <td>524.004213</td>\n",
       "      <td>1153.821478</td>\n",
       "      <td>19.130313</td>\n",
       "      <td>215.748511</td>\n",
       "      <td>1.905066</td>\n",
       "      <td>1.853615</td>\n",
       "      <td>NaN</td>\n",
       "      <td>107.056060</td>\n",
       "      <td>5.0</td>\n",
       "    </tr>\n",
       "    <tr>\n",
       "      <th>5</th>\n",
       "      <td>5</td>\n",
       "      <td>5.0</td>\n",
       "      <td>3.417332e-02</td>\n",
       "      <td>0.008623</td>\n",
       "      <td>2.716543</td>\n",
       "      <td>0.412137</td>\n",
       "      <td>0.466950</td>\n",
       "      <td>0.068300</td>\n",
       "      <td>1.372950</td>\n",
       "      <td>0.271641</td>\n",
       "      <td>...</td>\n",
       "      <td>651.0</td>\n",
       "      <td>1527.849205</td>\n",
       "      <td>1289.100075</td>\n",
       "      <td>62.646489</td>\n",
       "      <td>333.839246</td>\n",
       "      <td>0.801680</td>\n",
       "      <td>0.000802</td>\n",
       "      <td>0.000095</td>\n",
       "      <td>362.295460</td>\n",
       "      <td>6.0</td>\n",
       "    </tr>\n",
       "    <tr>\n",
       "      <th>6</th>\n",
       "      <td>6</td>\n",
       "      <td>6.0</td>\n",
       "      <td>1.036454e+00</td>\n",
       "      <td>1.144086</td>\n",
       "      <td>1.817863</td>\n",
       "      <td>0.899142</td>\n",
       "      <td>0.163010</td>\n",
       "      <td>0.299709</td>\n",
       "      <td>1.504469</td>\n",
       "      <td>0.335314</td>\n",
       "      <td>...</td>\n",
       "      <td>44.0</td>\n",
       "      <td>1273.056117</td>\n",
       "      <td>1260.794551</td>\n",
       "      <td>15.521922</td>\n",
       "      <td>184.073643</td>\n",
       "      <td>1.497412</td>\n",
       "      <td>1.090887</td>\n",
       "      <td>NaN</td>\n",
       "      <td>321.014018</td>\n",
       "      <td>6.0</td>\n",
       "    </tr>\n",
       "    <tr>\n",
       "      <th>7</th>\n",
       "      <td>7</td>\n",
       "      <td>7.0</td>\n",
       "      <td>1.737973e-01</td>\n",
       "      <td>0.173863</td>\n",
       "      <td>3.209750</td>\n",
       "      <td>0.865935</td>\n",
       "      <td>0.189659</td>\n",
       "      <td>0.263946</td>\n",
       "      <td>2.116179</td>\n",
       "      <td>0.527450</td>\n",
       "      <td>...</td>\n",
       "      <td>651.0</td>\n",
       "      <td>1531.519726</td>\n",
       "      <td>1266.492676</td>\n",
       "      <td>18.100289</td>\n",
       "      <td>275.027304</td>\n",
       "      <td>2.622062</td>\n",
       "      <td>0.028056</td>\n",
       "      <td>0.003549</td>\n",
       "      <td>350.697876</td>\n",
       "      <td>6.0</td>\n",
       "    </tr>\n",
       "    <tr>\n",
       "      <th>8</th>\n",
       "      <td>8</td>\n",
       "      <td>8.0</td>\n",
       "      <td>1.235342e-07</td>\n",
       "      <td>23.080683</td>\n",
       "      <td>2.520168</td>\n",
       "      <td>0.780448</td>\n",
       "      <td>0.248782</td>\n",
       "      <td>0.199595</td>\n",
       "      <td>1.946014</td>\n",
       "      <td>0.486129</td>\n",
       "      <td>...</td>\n",
       "      <td>496.0</td>\n",
       "      <td>1274.293518</td>\n",
       "      <td>1264.200154</td>\n",
       "      <td>24.891050</td>\n",
       "      <td>217.978307</td>\n",
       "      <td>1.351537</td>\n",
       "      <td>1.749976</td>\n",
       "      <td>0.237328</td>\n",
       "      <td>318.025156</td>\n",
       "      <td>6.0</td>\n",
       "    </tr>\n",
       "    <tr>\n",
       "      <th>9</th>\n",
       "      <td>9</td>\n",
       "      <td>9.0</td>\n",
       "      <td>2.125024e-01</td>\n",
       "      <td>7.290224</td>\n",
       "      <td>1.958600</td>\n",
       "      <td>0.057650</td>\n",
       "      <td>0.782795</td>\n",
       "      <td>0.007449</td>\n",
       "      <td>1.015960</td>\n",
       "      <td>0.015709</td>\n",
       "      <td>...</td>\n",
       "      <td>51.0</td>\n",
       "      <td>1280.257552</td>\n",
       "      <td>1263.243048</td>\n",
       "      <td>28.388398</td>\n",
       "      <td>226.960936</td>\n",
       "      <td>1.236547</td>\n",
       "      <td>1.385392</td>\n",
       "      <td>NaN</td>\n",
       "      <td>319.156701</td>\n",
       "      <td>6.0</td>\n",
       "    </tr>\n",
       "    <tr>\n",
       "      <th>10</th>\n",
       "      <td>10</td>\n",
       "      <td>10.0</td>\n",
       "      <td>1.761698e-01</td>\n",
       "      <td>0.086928</td>\n",
       "      <td>1.693839</td>\n",
       "      <td>1.000000</td>\n",
       "      <td>0.000000</td>\n",
       "      <td>0.693147</td>\n",
       "      <td>inf</td>\n",
       "      <td>1.000000</td>\n",
       "      <td>...</td>\n",
       "      <td>68.0</td>\n",
       "      <td>1536.000000</td>\n",
       "      <td>1267.000000</td>\n",
       "      <td>16.373664</td>\n",
       "      <td>177.205369</td>\n",
       "      <td>1.323690</td>\n",
       "      <td>0.012500</td>\n",
       "      <td>NaN</td>\n",
       "      <td>347.220391</td>\n",
       "      <td>6.0</td>\n",
       "    </tr>\n",
       "    <tr>\n",
       "      <th>11</th>\n",
       "      <td>11</td>\n",
       "      <td>11.0</td>\n",
       "      <td>1.282933e-02</td>\n",
       "      <td>0.117775</td>\n",
       "      <td>1.180060</td>\n",
       "      <td>1.000000</td>\n",
       "      <td>0.000000</td>\n",
       "      <td>0.693147</td>\n",
       "      <td>inf</td>\n",
       "      <td>1.000000</td>\n",
       "      <td>...</td>\n",
       "      <td>53.0</td>\n",
       "      <td>1536.000000</td>\n",
       "      <td>1266.500000</td>\n",
       "      <td>16.385384</td>\n",
       "      <td>176.095729</td>\n",
       "      <td>1.319314</td>\n",
       "      <td>0.013372</td>\n",
       "      <td>NaN</td>\n",
       "      <td>347.220391</td>\n",
       "      <td>6.0</td>\n",
       "    </tr>\n",
       "    <tr>\n",
       "      <th>12</th>\n",
       "      <td>12</td>\n",
       "      <td>12.0</td>\n",
       "      <td>2.334742e-01</td>\n",
       "      <td>0.087863</td>\n",
       "      <td>3.406667</td>\n",
       "      <td>1.000000</td>\n",
       "      <td>0.000000</td>\n",
       "      <td>0.693147</td>\n",
       "      <td>inf</td>\n",
       "      <td>1.000000</td>\n",
       "      <td>...</td>\n",
       "      <td>31.0</td>\n",
       "      <td>1536.000000</td>\n",
       "      <td>1267.000000</td>\n",
       "      <td>16.187928</td>\n",
       "      <td>174.097024</td>\n",
       "      <td>1.310459</td>\n",
       "      <td>0.010714</td>\n",
       "      <td>NaN</td>\n",
       "      <td>347.220391</td>\n",
       "      <td>6.0</td>\n",
       "    </tr>\n",
       "    <tr>\n",
       "      <th>13</th>\n",
       "      <td>13</td>\n",
       "      <td>13.0</td>\n",
       "      <td>9.998406e-03</td>\n",
       "      <td>0.117951</td>\n",
       "      <td>1.145749</td>\n",
       "      <td>1.000000</td>\n",
       "      <td>0.000000</td>\n",
       "      <td>0.693147</td>\n",
       "      <td>inf</td>\n",
       "      <td>1.000000</td>\n",
       "      <td>...</td>\n",
       "      <td>32.0</td>\n",
       "      <td>1536.000000</td>\n",
       "      <td>1266.500000</td>\n",
       "      <td>15.977000</td>\n",
       "      <td>171.409763</td>\n",
       "      <td>1.278210</td>\n",
       "      <td>0.013636</td>\n",
       "      <td>NaN</td>\n",
       "      <td>347.220391</td>\n",
       "      <td>6.0</td>\n",
       "    </tr>\n",
       "    <tr>\n",
       "      <th>14</th>\n",
       "      <td>14</td>\n",
       "      <td>14.0</td>\n",
       "      <td>2.150132e-02</td>\n",
       "      <td>0.122604</td>\n",
       "      <td>1.630720</td>\n",
       "      <td>1.000000</td>\n",
       "      <td>0.000000</td>\n",
       "      <td>0.693147</td>\n",
       "      <td>inf</td>\n",
       "      <td>1.000000</td>\n",
       "      <td>...</td>\n",
       "      <td>352.0</td>\n",
       "      <td>1536.000000</td>\n",
       "      <td>1266.500000</td>\n",
       "      <td>16.144936</td>\n",
       "      <td>176.154411</td>\n",
       "      <td>1.315351</td>\n",
       "      <td>0.012573</td>\n",
       "      <td>0.001448</td>\n",
       "      <td>347.220391</td>\n",
       "      <td>6.0</td>\n",
       "    </tr>\n",
       "    <tr>\n",
       "      <th>15</th>\n",
       "      <td>15</td>\n",
       "      <td>15.0</td>\n",
       "      <td>5.991732e-02</td>\n",
       "      <td>35.683802</td>\n",
       "      <td>2.339245</td>\n",
       "      <td>0.229946</td>\n",
       "      <td>0.593113</td>\n",
       "      <td>0.033159</td>\n",
       "      <td>1.437723</td>\n",
       "      <td>0.304456</td>\n",
       "      <td>...</td>\n",
       "      <td>164.0</td>\n",
       "      <td>441.500000</td>\n",
       "      <td>523.780938</td>\n",
       "      <td>64.161052</td>\n",
       "      <td>427.462966</td>\n",
       "      <td>1.376559</td>\n",
       "      <td>2.992079</td>\n",
       "      <td>0.247909</td>\n",
       "      <td>37.336309</td>\n",
       "      <td>5.0</td>\n",
       "    </tr>\n",
       "    <tr>\n",
       "      <th>16</th>\n",
       "      <td>16</td>\n",
       "      <td>16.0</td>\n",
       "      <td>1.700819e-02</td>\n",
       "      <td>31.060513</td>\n",
       "      <td>3.215329</td>\n",
       "      <td>0.690391</td>\n",
       "      <td>0.303908</td>\n",
       "      <td>0.153732</td>\n",
       "      <td>1.241827</td>\n",
       "      <td>0.194735</td>\n",
       "      <td>...</td>\n",
       "      <td>249.0</td>\n",
       "      <td>443.648977</td>\n",
       "      <td>518.718432</td>\n",
       "      <td>69.528815</td>\n",
       "      <td>418.355811</td>\n",
       "      <td>1.270916</td>\n",
       "      <td>1.480515</td>\n",
       "      <td>0.274516</td>\n",
       "      <td>37.443290</td>\n",
       "      <td>5.0</td>\n",
       "    </tr>\n",
       "    <tr>\n",
       "      <th>17</th>\n",
       "      <td>17</td>\n",
       "      <td>17.0</td>\n",
       "      <td>3.448361e-01</td>\n",
       "      <td>39.680586</td>\n",
       "      <td>1.593049</td>\n",
       "      <td>0.760893</td>\n",
       "      <td>0.261169</td>\n",
       "      <td>0.188257</td>\n",
       "      <td>1.980582</td>\n",
       "      <td>0.495098</td>\n",
       "      <td>...</td>\n",
       "      <td>651.0</td>\n",
       "      <td>1365.925981</td>\n",
       "      <td>764.122716</td>\n",
       "      <td>25.655964</td>\n",
       "      <td>254.080877</td>\n",
       "      <td>2.042999</td>\n",
       "      <td>3.285481</td>\n",
       "      <td>2.031354</td>\n",
       "      <td>0.000000</td>\n",
       "      <td>1.0</td>\n",
       "    </tr>\n",
       "    <tr>\n",
       "      <th>18</th>\n",
       "      <td>18</td>\n",
       "      <td>18.0</td>\n",
       "      <td>5.959208e-01</td>\n",
       "      <td>19.916581</td>\n",
       "      <td>1.777081</td>\n",
       "      <td>0.945226</td>\n",
       "      <td>0.118667</td>\n",
       "      <td>0.371567</td>\n",
       "      <td>2.727070</td>\n",
       "      <td>0.633306</td>\n",
       "      <td>...</td>\n",
       "      <td>306.0</td>\n",
       "      <td>1380.258952</td>\n",
       "      <td>541.143240</td>\n",
       "      <td>28.517954</td>\n",
       "      <td>249.213026</td>\n",
       "      <td>1.560137</td>\n",
       "      <td>4.158298</td>\n",
       "      <td>2.795304</td>\n",
       "      <td>4.242641</td>\n",
       "      <td>3.0</td>\n",
       "    </tr>\n",
       "    <tr>\n",
       "      <th>19</th>\n",
       "      <td>19</td>\n",
       "      <td>19.0</td>\n",
       "      <td>3.236507e-01</td>\n",
       "      <td>2.381716</td>\n",
       "      <td>1.910169</td>\n",
       "      <td>0.906391</td>\n",
       "      <td>0.156736</td>\n",
       "      <td>0.308868</td>\n",
       "      <td>3.758635</td>\n",
       "      <td>0.733946</td>\n",
       "      <td>...</td>\n",
       "      <td>32.0</td>\n",
       "      <td>1401.242620</td>\n",
       "      <td>658.539935</td>\n",
       "      <td>35.274078</td>\n",
       "      <td>254.845930</td>\n",
       "      <td>1.247325</td>\n",
       "      <td>0.388769</td>\n",
       "      <td>NaN</td>\n",
       "      <td>0.000000</td>\n",
       "      <td>1.0</td>\n",
       "    </tr>\n",
       "    <tr>\n",
       "      <th>20</th>\n",
       "      <td>20</td>\n",
       "      <td>20.0</td>\n",
       "      <td>5.703312e-01</td>\n",
       "      <td>0.007229</td>\n",
       "      <td>3.151142</td>\n",
       "      <td>0.949375</td>\n",
       "      <td>0.113961</td>\n",
       "      <td>0.380274</td>\n",
       "      <td>2.003103</td>\n",
       "      <td>0.500774</td>\n",
       "      <td>...</td>\n",
       "      <td>651.0</td>\n",
       "      <td>1788.011196</td>\n",
       "      <td>756.461587</td>\n",
       "      <td>19.680155</td>\n",
       "      <td>263.609343</td>\n",
       "      <td>2.593742</td>\n",
       "      <td>0.003397</td>\n",
       "      <td>0.000743</td>\n",
       "      <td>22.803509</td>\n",
       "      <td>5.0</td>\n",
       "    </tr>\n",
       "    <tr>\n",
       "      <th>21</th>\n",
       "      <td>21</td>\n",
       "      <td>21.0</td>\n",
       "      <td>6.448190e-09</td>\n",
       "      <td>6.044410</td>\n",
       "      <td>2.576079</td>\n",
       "      <td>0.158387</td>\n",
       "      <td>0.656229</td>\n",
       "      <td>0.021776</td>\n",
       "      <td>1.402874</td>\n",
       "      <td>0.287178</td>\n",
       "      <td>...</td>\n",
       "      <td>46.0</td>\n",
       "      <td>2043.149991</td>\n",
       "      <td>833.598921</td>\n",
       "      <td>21.020998</td>\n",
       "      <td>224.094203</td>\n",
       "      <td>1.694124</td>\n",
       "      <td>0.746317</td>\n",
       "      <td>NaN</td>\n",
       "      <td>81.024688</td>\n",
       "      <td>5.0</td>\n",
       "    </tr>\n",
       "    <tr>\n",
       "      <th>22</th>\n",
       "      <td>22</td>\n",
       "      <td>22.0</td>\n",
       "      <td>5.948779e-01</td>\n",
       "      <td>4.352715</td>\n",
       "      <td>2.509781</td>\n",
       "      <td>0.454915</td>\n",
       "      <td>0.440914</td>\n",
       "      <td>0.078259</td>\n",
       "      <td>1.207857</td>\n",
       "      <td>0.172087</td>\n",
       "      <td>...</td>\n",
       "      <td>203.0</td>\n",
       "      <td>439.779769</td>\n",
       "      <td>490.448718</td>\n",
       "      <td>74.457185</td>\n",
       "      <td>501.794306</td>\n",
       "      <td>1.753938</td>\n",
       "      <td>2.085143</td>\n",
       "      <td>0.673689</td>\n",
       "      <td>27.892651</td>\n",
       "      <td>5.0</td>\n",
       "    </tr>\n",
       "    <tr>\n",
       "      <th>23</th>\n",
       "      <td>23</td>\n",
       "      <td>23.0</td>\n",
       "      <td>4.085987e-01</td>\n",
       "      <td>26.439798</td>\n",
       "      <td>1.666431</td>\n",
       "      <td>0.632202</td>\n",
       "      <td>0.337842</td>\n",
       "      <td>0.130662</td>\n",
       "      <td>1.714666</td>\n",
       "      <td>0.416796</td>\n",
       "      <td>...</td>\n",
       "      <td>21.0</td>\n",
       "      <td>140.266267</td>\n",
       "      <td>273.110937</td>\n",
       "      <td>32.238594</td>\n",
       "      <td>259.129199</td>\n",
       "      <td>1.450467</td>\n",
       "      <td>9.547158</td>\n",
       "      <td>NaN</td>\n",
       "      <td>256.288899</td>\n",
       "      <td>6.0</td>\n",
       "    </tr>\n",
       "    <tr>\n",
       "      <th>24</th>\n",
       "      <td>24</td>\n",
       "      <td>24.0</td>\n",
       "      <td>2.939181e+00</td>\n",
       "      <td>0.000215</td>\n",
       "      <td>3.566582</td>\n",
       "      <td>0.640235</td>\n",
       "      <td>0.333198</td>\n",
       "      <td>0.133619</td>\n",
       "      <td>1.568838</td>\n",
       "      <td>0.362586</td>\n",
       "      <td>...</td>\n",
       "      <td>212.0</td>\n",
       "      <td>134.401496</td>\n",
       "      <td>262.305058</td>\n",
       "      <td>42.196944</td>\n",
       "      <td>304.412297</td>\n",
       "      <td>1.456624</td>\n",
       "      <td>6.216944</td>\n",
       "      <td>3.179481</td>\n",
       "      <td>268.151077</td>\n",
       "      <td>6.0</td>\n",
       "    </tr>\n",
       "    <tr>\n",
       "      <th>25</th>\n",
       "      <td>25</td>\n",
       "      <td>25.0</td>\n",
       "      <td>1.582603e-07</td>\n",
       "      <td>27.530682</td>\n",
       "      <td>1.846335</td>\n",
       "      <td>0.938536</td>\n",
       "      <td>0.125925</td>\n",
       "      <td>0.358582</td>\n",
       "      <td>1.894538</td>\n",
       "      <td>0.472167</td>\n",
       "      <td>...</td>\n",
       "      <td>80.0</td>\n",
       "      <td>441.160287</td>\n",
       "      <td>502.469345</td>\n",
       "      <td>74.772881</td>\n",
       "      <td>514.698886</td>\n",
       "      <td>1.428355</td>\n",
       "      <td>2.329978</td>\n",
       "      <td>NaN</td>\n",
       "      <td>28.284271</td>\n",
       "      <td>5.0</td>\n",
       "    </tr>\n",
       "    <tr>\n",
       "      <th>26</th>\n",
       "      <td>26</td>\n",
       "      <td>26.0</td>\n",
       "      <td>2.702928e-01</td>\n",
       "      <td>29.774588</td>\n",
       "      <td>3.030449</td>\n",
       "      <td>0.372375</td>\n",
       "      <td>0.491998</td>\n",
       "      <td>0.059713</td>\n",
       "      <td>1.455563</td>\n",
       "      <td>0.312980</td>\n",
       "      <td>...</td>\n",
       "      <td>346.0</td>\n",
       "      <td>1381.968583</td>\n",
       "      <td>485.502862</td>\n",
       "      <td>25.314561</td>\n",
       "      <td>250.621230</td>\n",
       "      <td>1.933883</td>\n",
       "      <td>2.767484</td>\n",
       "      <td>1.147456</td>\n",
       "      <td>51.351728</td>\n",
       "      <td>5.0</td>\n",
       "    </tr>\n",
       "    <tr>\n",
       "      <th>27</th>\n",
       "      <td>27</td>\n",
       "      <td>27.0</td>\n",
       "      <td>6.529897e-01</td>\n",
       "      <td>7.684131</td>\n",
       "      <td>2.758227</td>\n",
       "      <td>0.858428</td>\n",
       "      <td>0.195306</td>\n",
       "      <td>0.256967</td>\n",
       "      <td>1.865786</td>\n",
       "      <td>0.464033</td>\n",
       "      <td>...</td>\n",
       "      <td>28.0</td>\n",
       "      <td>1175.891020</td>\n",
       "      <td>406.249149</td>\n",
       "      <td>15.405629</td>\n",
       "      <td>194.826966</td>\n",
       "      <td>1.676676</td>\n",
       "      <td>3.904121</td>\n",
       "      <td>NaN</td>\n",
       "      <td>236.444497</td>\n",
       "      <td>6.0</td>\n",
       "    </tr>\n",
       "    <tr>\n",
       "      <th>28</th>\n",
       "      <td>28</td>\n",
       "      <td>28.0</td>\n",
       "      <td>1.463972e+00</td>\n",
       "      <td>0.010268</td>\n",
       "      <td>7.193007</td>\n",
       "      <td>0.808008</td>\n",
       "      <td>0.230749</td>\n",
       "      <td>0.217322</td>\n",
       "      <td>1.288488</td>\n",
       "      <td>0.223896</td>\n",
       "      <td>...</td>\n",
       "      <td>651.0</td>\n",
       "      <td>1813.803357</td>\n",
       "      <td>242.871812</td>\n",
       "      <td>56.524414</td>\n",
       "      <td>394.631646</td>\n",
       "      <td>1.555202</td>\n",
       "      <td>0.715632</td>\n",
       "      <td>0.215489</td>\n",
       "      <td>179.688620</td>\n",
       "      <td>6.0</td>\n",
       "    </tr>\n",
       "    <tr>\n",
       "      <th>29</th>\n",
       "      <td>29</td>\n",
       "      <td>29.0</td>\n",
       "      <td>1.697739e+00</td>\n",
       "      <td>0.007610</td>\n",
       "      <td>4.374005</td>\n",
       "      <td>0.363994</td>\n",
       "      <td>0.497405</td>\n",
       "      <td>0.057977</td>\n",
       "      <td>1.600690</td>\n",
       "      <td>0.375269</td>\n",
       "      <td>...</td>\n",
       "      <td>651.0</td>\n",
       "      <td>1922.509405</td>\n",
       "      <td>388.617164</td>\n",
       "      <td>31.850895</td>\n",
       "      <td>276.744222</td>\n",
       "      <td>1.721338</td>\n",
       "      <td>3.085620</td>\n",
       "      <td>1.165564</td>\n",
       "      <td>27.018512</td>\n",
       "      <td>5.0</td>\n",
       "    </tr>\n",
       "  </tbody>\n",
       "</table>\n",
       "<p>30 rows × 26 columns</p>\n",
       "</div>"
      ],
      "text/plain": [
       "    Unnamed: 0  Track_ID         alpha      D_fit  kurtosis  asymmetry1  \\\n",
       "0            0       0.0  4.066274e-01   1.234418  1.729094    0.934477   \n",
       "1            1       1.0  7.617790e-02  22.602545  2.844596    0.935092   \n",
       "2            2       2.0  1.473815e-08  22.318937  2.738254    0.845722   \n",
       "3            3       3.0  1.199997e+00   0.315534  3.486660    0.684978   \n",
       "4            4       4.0  6.867712e-01   4.453814  2.048315    0.455501   \n",
       "5            5       5.0  3.417332e-02   0.008623  2.716543    0.412137   \n",
       "6            6       6.0  1.036454e+00   1.144086  1.817863    0.899142   \n",
       "7            7       7.0  1.737973e-01   0.173863  3.209750    0.865935   \n",
       "8            8       8.0  1.235342e-07  23.080683  2.520168    0.780448   \n",
       "9            9       9.0  2.125024e-01   7.290224  1.958600    0.057650   \n",
       "10          10      10.0  1.761698e-01   0.086928  1.693839    1.000000   \n",
       "11          11      11.0  1.282933e-02   0.117775  1.180060    1.000000   \n",
       "12          12      12.0  2.334742e-01   0.087863  3.406667    1.000000   \n",
       "13          13      13.0  9.998406e-03   0.117951  1.145749    1.000000   \n",
       "14          14      14.0  2.150132e-02   0.122604  1.630720    1.000000   \n",
       "15          15      15.0  5.991732e-02  35.683802  2.339245    0.229946   \n",
       "16          16      16.0  1.700819e-02  31.060513  3.215329    0.690391   \n",
       "17          17      17.0  3.448361e-01  39.680586  1.593049    0.760893   \n",
       "18          18      18.0  5.959208e-01  19.916581  1.777081    0.945226   \n",
       "19          19      19.0  3.236507e-01   2.381716  1.910169    0.906391   \n",
       "20          20      20.0  5.703312e-01   0.007229  3.151142    0.949375   \n",
       "21          21      21.0  6.448190e-09   6.044410  2.576079    0.158387   \n",
       "22          22      22.0  5.948779e-01   4.352715  2.509781    0.454915   \n",
       "23          23      23.0  4.085987e-01  26.439798  1.666431    0.632202   \n",
       "24          24      24.0  2.939181e+00   0.000215  3.566582    0.640235   \n",
       "25          25      25.0  1.582603e-07  27.530682  1.846335    0.938536   \n",
       "26          26      26.0  2.702928e-01  29.774588  3.030449    0.372375   \n",
       "27          27      27.0  6.529897e-01   7.684131  2.758227    0.858428   \n",
       "28          28      28.0  1.463972e+00   0.010268  7.193007    0.808008   \n",
       "29          29      29.0  1.697739e+00   0.007610  4.374005    0.363994   \n",
       "\n",
       "    asymmetry2  asymmetry3        AR  elongation ...   frames            X  \\\n",
       "0     0.130155    0.351253  2.015855    0.503933 ...     37.0   509.015730   \n",
       "1     0.129522    0.352340  3.622573    0.723953 ...    121.0   506.762867   \n",
       "2     0.204613    0.245884  1.783135    0.439190 ...    651.0   992.308138   \n",
       "3     0.307101    0.151410  1.476176    0.322574 ...    552.0   534.741736   \n",
       "4     0.440563    0.078401  1.097825    0.089108 ...     95.0   524.004213   \n",
       "5     0.466950    0.068300  1.372950    0.271641 ...    651.0  1527.849205   \n",
       "6     0.163010    0.299709  1.504469    0.335314 ...     44.0  1273.056117   \n",
       "7     0.189659    0.263946  2.116179    0.527450 ...    651.0  1531.519726   \n",
       "8     0.248782    0.199595  1.946014    0.486129 ...    496.0  1274.293518   \n",
       "9     0.782795    0.007449  1.015960    0.015709 ...     51.0  1280.257552   \n",
       "10    0.000000    0.693147       inf    1.000000 ...     68.0  1536.000000   \n",
       "11    0.000000    0.693147       inf    1.000000 ...     53.0  1536.000000   \n",
       "12    0.000000    0.693147       inf    1.000000 ...     31.0  1536.000000   \n",
       "13    0.000000    0.693147       inf    1.000000 ...     32.0  1536.000000   \n",
       "14    0.000000    0.693147       inf    1.000000 ...    352.0  1536.000000   \n",
       "15    0.593113    0.033159  1.437723    0.304456 ...    164.0   441.500000   \n",
       "16    0.303908    0.153732  1.241827    0.194735 ...    249.0   443.648977   \n",
       "17    0.261169    0.188257  1.980582    0.495098 ...    651.0  1365.925981   \n",
       "18    0.118667    0.371567  2.727070    0.633306 ...    306.0  1380.258952   \n",
       "19    0.156736    0.308868  3.758635    0.733946 ...     32.0  1401.242620   \n",
       "20    0.113961    0.380274  2.003103    0.500774 ...    651.0  1788.011196   \n",
       "21    0.656229    0.021776  1.402874    0.287178 ...     46.0  2043.149991   \n",
       "22    0.440914    0.078259  1.207857    0.172087 ...    203.0   439.779769   \n",
       "23    0.337842    0.130662  1.714666    0.416796 ...     21.0   140.266267   \n",
       "24    0.333198    0.133619  1.568838    0.362586 ...    212.0   134.401496   \n",
       "25    0.125925    0.358582  1.894538    0.472167 ...     80.0   441.160287   \n",
       "26    0.491998    0.059713  1.455563    0.312980 ...    346.0  1381.968583   \n",
       "27    0.195306    0.256967  1.865786    0.464033 ...     28.0  1175.891020   \n",
       "28    0.230749    0.217322  1.288488    0.223896 ...    651.0  1813.803357   \n",
       "29    0.497405    0.057977  1.600690    0.375269 ...    651.0  1922.509405   \n",
       "\n",
       "              Y    Quality  Mean_Intensity  SN_Ratio     Deff1     Deff2  \\\n",
       "0   1142.000000  19.158695      200.923109  1.491304  0.408862       NaN   \n",
       "1   1151.349323  19.015180      233.703120  1.981142  1.475014  0.141288   \n",
       "2   1406.011083  21.289274      259.155908  2.653319  1.542021  0.324345   \n",
       "3   1124.659826  28.118277      246.298042  1.584998  3.505944  0.972378   \n",
       "4   1153.821478  19.130313      215.748511  1.905066  1.853615       NaN   \n",
       "5   1289.100075  62.646489      333.839246  0.801680  0.000802  0.000095   \n",
       "6   1260.794551  15.521922      184.073643  1.497412  1.090887       NaN   \n",
       "7   1266.492676  18.100289      275.027304  2.622062  0.028056  0.003549   \n",
       "8   1264.200154  24.891050      217.978307  1.351537  1.749976  0.237328   \n",
       "9   1263.243048  28.388398      226.960936  1.236547  1.385392       NaN   \n",
       "10  1267.000000  16.373664      177.205369  1.323690  0.012500       NaN   \n",
       "11  1266.500000  16.385384      176.095729  1.319314  0.013372       NaN   \n",
       "12  1267.000000  16.187928      174.097024  1.310459  0.010714       NaN   \n",
       "13  1266.500000  15.977000      171.409763  1.278210  0.013636       NaN   \n",
       "14  1266.500000  16.144936      176.154411  1.315351  0.012573  0.001448   \n",
       "15   523.780938  64.161052      427.462966  1.376559  2.992079  0.247909   \n",
       "16   518.718432  69.528815      418.355811  1.270916  1.480515  0.274516   \n",
       "17   764.122716  25.655964      254.080877  2.042999  3.285481  2.031354   \n",
       "18   541.143240  28.517954      249.213026  1.560137  4.158298  2.795304   \n",
       "19   658.539935  35.274078      254.845930  1.247325  0.388769       NaN   \n",
       "20   756.461587  19.680155      263.609343  2.593742  0.003397  0.000743   \n",
       "21   833.598921  21.020998      224.094203  1.694124  0.746317       NaN   \n",
       "22   490.448718  74.457185      501.794306  1.753938  2.085143  0.673689   \n",
       "23   273.110937  32.238594      259.129199  1.450467  9.547158       NaN   \n",
       "24   262.305058  42.196944      304.412297  1.456624  6.216944  3.179481   \n",
       "25   502.469345  74.772881      514.698886  1.428355  2.329978       NaN   \n",
       "26   485.502862  25.314561      250.621230  1.933883  2.767484  1.147456   \n",
       "27   406.249149  15.405629      194.826966  1.676676  3.904121       NaN   \n",
       "28   242.871812  56.524414      394.631646  1.555202  0.715632  0.215489   \n",
       "29   388.617164  31.850895      276.744222  1.721338  3.085620  1.165564   \n",
       "\n",
       "           Euc  Bin  \n",
       "0   125.992063  5.0  \n",
       "1   120.917327  5.0  \n",
       "2   167.370846  6.0  \n",
       "3   124.823876  5.0  \n",
       "4   107.056060  5.0  \n",
       "5   362.295460  6.0  \n",
       "6   321.014018  6.0  \n",
       "7   350.697876  6.0  \n",
       "8   318.025156  6.0  \n",
       "9   319.156701  6.0  \n",
       "10  347.220391  6.0  \n",
       "11  347.220391  6.0  \n",
       "12  347.220391  6.0  \n",
       "13  347.220391  6.0  \n",
       "14  347.220391  6.0  \n",
       "15   37.336309  5.0  \n",
       "16   37.443290  5.0  \n",
       "17    0.000000  1.0  \n",
       "18    4.242641  3.0  \n",
       "19    0.000000  1.0  \n",
       "20   22.803509  5.0  \n",
       "21   81.024688  5.0  \n",
       "22   27.892651  5.0  \n",
       "23  256.288899  6.0  \n",
       "24  268.151077  6.0  \n",
       "25   28.284271  5.0  \n",
       "26   51.351728  5.0  \n",
       "27  236.444497  6.0  \n",
       "28  179.688620  6.0  \n",
       "29   27.018512  5.0  \n",
       "\n",
       "[30 rows x 26 columns]"
      ]
     },
     "execution_count": 6,
     "metadata": {},
     "output_type": "execute_result"
    }
   ],
   "source": [
    "Deff1_binning"
   ]
  },
  {
   "cell_type": "code",
   "execution_count": 7,
   "metadata": {},
   "outputs": [],
   "source": [
    "feat_df = pd.read_csv(feat_name)"
   ]
  },
  {
   "cell_type": "code",
   "execution_count": 8,
   "metadata": {},
   "outputs": [],
   "source": [
    "alpha_binning, alpha_plot_data, alpha_x, alpha_y = PNNs.PNN_binning(img, feat_df, min_obj_size=3000, feat = 'alpha', box_plot=False)\n"
   ]
  },
  {
   "cell_type": "code",
   "execution_count": 9,
   "metadata": {},
   "outputs": [
    {
     "data": {
      "image/png": "[encoded data removed]",
      "text/plain": [
       "<matplotlib.figure.Figure at 0x7f6e30f53550>"
      ]
     },
     "metadata": {},
     "output_type": "display_data"
    }
   ],
   "source": [
    "plt.boxplot(alpha_plot_data, showfliers = False)\n",
    "plt.plot(alpha_x,alpha_y,'k.')\n",
    "plt.show()"
   ]
  },
  {
   "cell_type": "code",
   "execution_count": 10,
   "metadata": {},
   "outputs": [],
   "source": [
    "feat_df = pd.read_csv(feat_name)"
   ]
  },
  {
   "cell_type": "code",
   "execution_count": 11,
   "metadata": {},
   "outputs": [],
   "source": [
    "D_fit_binning, D_fit_plot_data, D_fit_x, D_fit_y = PNNs.PNN_binning(img, feat_df, min_obj_size=3000, feat = 'D_fit', box_plot=False)\n"
   ]
  },
  {
   "cell_type": "code",
   "execution_count": 12,
   "metadata": {},
   "outputs": [
    {
     "data": {
      "image/png": "[encoded data removed]",
      "text/plain": [
       "<matplotlib.figure.Figure at 0x7f6e30f76610>"
      ]
     },
     "metadata": {},
     "output_type": "display_data"
    }
   ],
   "source": [
    "plt.boxplot(D_fit_plot_data, showfliers = False)\n",
    "plt.plot(D_fit_x,D_fit_y,'k.')\n",
    "plt.show()"
   ]
  },
  {
   "cell_type": "code",
   "execution_count": 13,
   "metadata": {},
   "outputs": [],
   "source": [
    "feat_df = pd.read_csv(feat_name)"
   ]
  },
  {
   "cell_type": "code",
   "execution_count": 14,
   "metadata": {},
   "outputs": [],
   "source": [
    "kurt_binning, kurt_plot_data, kurt_x, kurt_y = PNNs.PNN_binning(img, feat_df, min_obj_size=3000, feat = 'kurtosis', box_plot=False)\n"
   ]
  },
  {
   "cell_type": "code",
   "execution_count": 15,
   "metadata": {},
   "outputs": [
    {
     "data": {
      "image/png": "[encoded data removed]",
      "text/plain": [
       "<matplotlib.figure.Figure at 0x7f6e30d1b7d0>"
      ]
     },
     "metadata": {},
     "output_type": "display_data"
    }
   ],
   "source": [
    "plt.boxplot(kurt_plot_data, showfliers = False)\n",
    "plt.plot(kurt_x,kurt_y,'k.')\n",
    "plt.show()"
   ]
  },
  {
   "cell_type": "code",
   "execution_count": 16,
   "metadata": {},
   "outputs": [],
   "source": [
    "feat_df = pd.read_csv(feat_name)"
   ]
  },
  {
   "cell_type": "code",
   "execution_count": 17,
   "metadata": {},
   "outputs": [],
   "source": [
    "asym1_binning, asym1_plot_data, asym1_x, asym1_y = PNNs.PNN_binning(img, feat_df, min_obj_size=3000, feat = 'asymmetry1', box_plot=False)\n"
   ]
  },
  {
   "cell_type": "code",
   "execution_count": 18,
   "metadata": {},
   "outputs": [
    {
     "data": {
      "image/png": "[encoded data removed]",
      "text/plain": [
       "<matplotlib.figure.Figure at 0x7f6e30d6ba50>"
      ]
     },
     "metadata": {},
     "output_type": "display_data"
    }
   ],
   "source": [
    "plt.boxplot(asym1_plot_data, showfliers = False)\n",
    "plt.plot(asym1_x,asym1_y,'k.')\n",
    "plt.show()"
   ]
  },
  {
   "cell_type": "code",
   "execution_count": 19,
   "metadata": {},
   "outputs": [],
   "source": [
    "feat_df = pd.read_csv(feat_name)"
   ]
  },
  {
   "cell_type": "code",
   "execution_count": 20,
   "metadata": {},
   "outputs": [],
   "source": [
    "asym2_binning, asym2_plot_data, asym2_x, asym2_y = PNNs.PNN_binning(img, feat_df, min_obj_size=3000, feat = 'asymmetry2', box_plot=False)\n"
   ]
  },
  {
   "cell_type": "code",
   "execution_count": 21,
   "metadata": {},
   "outputs": [
    {
     "data": {
      "image/png": "[encoded data removed]",
      "text/plain": [
       "<matplotlib.figure.Figure at 0x7f6e30f76090>"
      ]
     },
     "metadata": {},
     "output_type": "display_data"
    }
   ],
   "source": [
    "plt.boxplot(asym2_plot_data, showfliers = False)\n",
    "plt.plot(asym2_x,asym2_y,'k.')\n",
    "plt.show()"
   ]
  },
  {
   "cell_type": "code",
   "execution_count": 22,
   "metadata": {},
   "outputs": [],
   "source": [
    "feat_df = pd.read_csv(feat_name)"
   ]
  },
  {
   "cell_type": "code",
   "execution_count": 23,
   "metadata": {},
   "outputs": [],
   "source": [
    "asym3_binning, asym3_plot_data, asym3_x, asym3_y = PNNs.PNN_binning(img, feat_df, min_obj_size=3000, feat = 'asymmetry3', box_plot=False)\n"
   ]
  },
  {
   "cell_type": "code",
   "execution_count": 24,
   "metadata": {},
   "outputs": [
    {
     "data": {
      "image/png": "[encoded data removed]",
      "text/plain": [
       "<matplotlib.figure.Figure at 0x7f6e30d6bfd0>"
      ]
     },
     "metadata": {},
     "output_type": "display_data"
    }
   ],
   "source": [
    "plt.boxplot(asym3_plot_data, showfliers = False)\n",
    "plt.plot(asym3_x,asym3_y,'k.')\n",
    "plt.show()"
   ]
  },
  {
   "cell_type": "code",
   "execution_count": 25,
   "metadata": {},
   "outputs": [],
   "source": [
    "feat_df = pd.read_csv(feat_name)"
   ]
  },
  {
   "cell_type": "code",
   "execution_count": 26,
   "metadata": {},
   "outputs": [],
   "source": [
    "AR_binning, AR_plot_data, AR_x, AR_y = PNNs.PNN_binning(img, feat_df, min_obj_size=3000, feat = 'AR', box_plot=False)\n"
   ]
  },
  {
   "cell_type": "code",
   "execution_count": 27,
   "metadata": {},
   "outputs": [
    {
     "data": {
      "image/png": "[encoded data removed]",
      "text/plain": [
       "<matplotlib.figure.Figure at 0x7f6e30d61fd0>"
      ]
     },
     "metadata": {},
     "output_type": "display_data"
    }
   ],
   "source": [
    "plt.boxplot(AR_plot_data, showfliers = False)\n",
    "plt.plot(AR_x,AR_y,'k.')\n",
    "plt.show()"
   ]
  },
  {
   "cell_type": "code",
   "execution_count": 28,
   "metadata": {},
   "outputs": [],
   "source": [
    "feat_df = pd.read_csv(feat_name)"
   ]
  },
  {
   "cell_type": "code",
   "execution_count": 29,
   "metadata": {},
   "outputs": [],
   "source": [
    "elong_binning, elong_plot_data, elong_x, elong_y = PNNs.PNN_binning(img, feat_df, min_obj_size=3000, feat = 'elongation', box_plot=False)\n"
   ]
  },
  {
   "cell_type": "code",
   "execution_count": 30,
   "metadata": {},
   "outputs": [
    {
     "data": {
      "image/png": "[encoded data removed]",
      "text/plain": [
       "<matplotlib.figure.Figure at 0x7f6e30f8f510>"
      ]
     },
     "metadata": {},
     "output_type": "display_data"
    }
   ],
   "source": [
    "plt.boxplot(elong_plot_data, showfliers = False)\n",
    "plt.plot(elong_x,elong_y,'k.')\n",
    "plt.show()"
   ]
  },
  {
   "cell_type": "code",
   "execution_count": 31,
   "metadata": {},
   "outputs": [],
   "source": [
    "feat_df = pd.read_csv(feat_name)"
   ]
  },
  {
   "cell_type": "code",
   "execution_count": 32,
   "metadata": {},
   "outputs": [],
   "source": [
    "bound_binning, bound_plot_data, bound_x, bound_y = PNNs.PNN_binning(img, feat_df, min_obj_size=3000, feat = 'boundedness', box_plot=False)\n"
   ]
  },
  {
   "cell_type": "code",
   "execution_count": 33,
   "metadata": {},
   "outputs": [
    {
     "data": {
      "image/png": "[encoded data removed]",
      "text/plain": [
       "<matplotlib.figure.Figure at 0x7f6e30eef350>"
      ]
     },
     "metadata": {},
     "output_type": "display_data"
    }
   ],
   "source": [
    "plt.boxplot(bound_plot_data, showfliers = False)\n",
    "plt.plot(bound_x,bound_y,'k.')\n",
    "plt.show()"
   ]
  },
  {
   "cell_type": "code",
   "execution_count": 34,
   "metadata": {},
   "outputs": [],
   "source": [
    "feat_df = pd.read_csv(feat_name)"
   ]
  },
  {
   "cell_type": "code",
   "execution_count": 35,
   "metadata": {},
   "outputs": [],
   "source": [
    "trap_binning, trap_plot_data, trap_x, trap_y = PNNs.PNN_binning(img, feat_df, min_obj_size=3000, feat = 'trappedness', box_plot=False)\n"
   ]
  },
  {
   "cell_type": "code",
   "execution_count": 36,
   "metadata": {},
   "outputs": [
    {
     "data": {
      "image/png": "[encoded data removed]",
      "text/plain": [
       "<matplotlib.figure.Figure at 0x7f6e30f534d0>"
      ]
     },
     "metadata": {},
     "output_type": "display_data"
    }
   ],
   "source": [
    "plt.boxplot(trap_plot_data, showfliers = False)\n",
    "plt.plot(trap_x,trap_y,'k.')\n",
    "plt.show()"
   ]
  },
  {
   "cell_type": "code",
   "execution_count": 37,
   "metadata": {},
   "outputs": [],
   "source": [
    "feat_df = pd.read_csv(feat_name)"
   ]
  },
  {
   "cell_type": "code",
   "execution_count": 38,
   "metadata": {},
   "outputs": [],
   "source": [
    "effic_binning, effic_plot_data, effic_x, effic_y = PNNs.PNN_binning(img, feat_df, min_obj_size=3000, feat = 'efficiency', box_plot=False)\n"
   ]
  },
  {
   "cell_type": "code",
   "execution_count": 39,
   "metadata": {},
   "outputs": [
    {
     "data": {
      "image/png": "[encoded data removed]",
      "text/plain": [
       "<matplotlib.figure.Figure at 0x7f6e30cf8f90>"
      ]
     },
     "metadata": {},
     "output_type": "display_data"
    }
   ],
   "source": [
    "plt.boxplot(effic_plot_data, showfliers = False)\n",
    "plt.plot(effic_x,effic_y,'k.')\n",
    "plt.show()"
   ]
  },
  {
   "cell_type": "code",
   "execution_count": 40,
   "metadata": {},
   "outputs": [],
   "source": [
    "feat_df = pd.read_csv(feat_name)"
   ]
  },
  {
   "cell_type": "code",
   "execution_count": 41,
   "metadata": {},
   "outputs": [],
   "source": [
    "straight_binning, straight_plot_data, straight_x, straight_y = PNNs.PNN_binning(img, feat_df, min_obj_size=3000, feat = 'straightness', box_plot=False)\n"
   ]
  },
  {
   "cell_type": "code",
   "execution_count": 42,
   "metadata": {},
   "outputs": [
    {
     "data": {
      "image/png": "[encoded data removed]",
      "text/plain": [
       "<matplotlib.figure.Figure at 0x7f6e30f26450>"
      ]
     },
     "metadata": {},
     "output_type": "display_data"
    }
   ],
   "source": [
    "plt.boxplot(straight_plot_data, showfliers = False)\n",
    "plt.plot(straight_x,straight_y,'k.')\n",
    "plt.show()"
   ]
  },
  {
   "cell_type": "code",
   "execution_count": 43,
   "metadata": {},
   "outputs": [],
   "source": [
    "feat_df = pd.read_csv(feat_name)"
   ]
  },
  {
   "cell_type": "code",
   "execution_count": 44,
   "metadata": {},
   "outputs": [],
   "source": [
    "frame_binning, frame_plot_data, frame_x, frame_y = PNNs.PNN_binning(img, feat_df, min_obj_size=3000, feat = 'frames', box_plot=False)\n"
   ]
  },
  {
   "cell_type": "code",
   "execution_count": 45,
   "metadata": {},
   "outputs": [
    {
     "data": {
      "image/png": "[encoded data removed]",
      "text/plain": [
       "<matplotlib.figure.Figure at 0x7f6e30d3cfd0>"
      ]
     },
     "metadata": {},
     "output_type": "display_data"
    }
   ],
   "source": [
    "plt.boxplot(frame_plot_data, showfliers = False)\n",
    "plt.plot(frame_x,frame_y,'k.')\n",
    "plt.show()"
   ]
  },
  {
   "cell_type": "code",
   "execution_count": 46,
   "metadata": {},
   "outputs": [],
   "source": [
    "feat_df = pd.read_csv(feat_name)"
   ]
  },
  {
   "cell_type": "code",
   "execution_count": 47,
   "metadata": {},
   "outputs": [],
   "source": [
    "euc_binning, euc_plot_data, euc_x, euc_y = PNNs.PNN_binning(img, feat_df, min_obj_size=3000, feat = 'Euc', box_plot=False)\n"
   ]
  },
  {
   "cell_type": "code",
   "execution_count": 48,
   "metadata": {},
   "outputs": [
    {
     "data": {
      "image/png": "[encoded data removed]",
      "text/plain": [
       "<matplotlib.figure.Figure at 0x7f6e30f76e50>"
      ]
     },
     "metadata": {},
     "output_type": "display_data"
    }
   ],
   "source": [
    "plt.boxplot(euc_plot_data, showfliers = False)\n",
    "plt.plot(euc_x,euc_y,'k.')\n",
    "plt.show()"
   ]
  },
  {
   "cell_type": "code",
   "execution_count": 49,
   "metadata": {},
   "outputs": [],
   "source": [
    "feat_df = pd.read_csv(feat_name)"
   ]
  }
 ],
 "metadata": {
  "kernelspec": {
   "display_name": "Python 2",
   "language": "python",
   "name": "python2"
  },
  "language_info": {
   "codemirror_mode": {
    "name": "ipython",
    "version": 2
   },
   "file_extension": ".py",
   "mimetype": "text/x-python",
   "name": "python",
   "nbconvert_exporter": "python",
   "pygments_lexer": "ipython2",
   "version": "2.7.12"
  }
 },
 "nbformat": 4,
 "nbformat_minor": 2
}
