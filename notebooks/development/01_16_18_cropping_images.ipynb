{
 "cells": [
  {
   "cell_type": "code",
   "execution_count": 7,
   "metadata": {},
   "outputs": [],
   "source": [
    "import skimage.io as sio\n",
    "import numpy as np"
   ]
  },
  {
   "cell_type": "code",
   "execution_count": 4,
   "metadata": {},
   "outputs": [],
   "source": [
    "test = sio.imread('/home/ubuntu/data/RED_nPEG_37C_pH72_S1_1.tif')"
   ]
  },
  {
   "cell_type": "code",
   "execution_count": 10,
   "metadata": {},
   "outputs": [
    {
     "data": {
      "text/plain": [
       "dtype('uint16')"
      ]
     },
     "execution_count": 10,
     "metadata": {},
     "output_type": "execute_result"
    }
   ],
   "source": [
    "test.dtype"
   ]
  },
  {
   "cell_type": "code",
   "execution_count": 11,
   "metadata": {},
   "outputs": [],
   "source": [
    "test2 = np.zeros((651, 2048, 2048), dtype=np.uint16)"
   ]
  },
  {
   "cell_type": "code",
   "execution_count": 12,
   "metadata": {},
   "outputs": [],
   "source": [
    "test2[:, 0:2044, :] = test"
   ]
  },
  {
   "cell_type": "code",
   "execution_count": 13,
   "metadata": {},
   "outputs": [],
   "source": [
    "irows = 4\n",
    "icols = 4\n",
    "ires = 512"
   ]
  },
  {
   "cell_type": "code",
   "execution_count": 20,
   "metadata": {},
   "outputs": [
    {
     "name": "stderr",
     "output_type": "stream",
     "text": [
      "/home/ubuntu/miniconda3/lib/python3.6/site-packages/skimage/io/_io.py:132: UserWarning: /home/ubuntu/data/RED_nPEG_37C_pH72_S1_1_0_1.tif is a low contrast image\n",
      "  warn('%s is a low contrast image' % fname)\n",
      "/home/ubuntu/miniconda3/lib/python3.6/site-packages/skimage/io/_io.py:132: UserWarning: /home/ubuntu/data/RED_nPEG_37C_pH72_S1_1_0_2.tif is a low contrast image\n",
      "  warn('%s is a low contrast image' % fname)\n",
      "/home/ubuntu/miniconda3/lib/python3.6/site-packages/skimage/io/_io.py:132: UserWarning: /home/ubuntu/data/RED_nPEG_37C_pH72_S1_1_0_3.tif is a low contrast image\n",
      "  warn('%s is a low contrast image' % fname)\n",
      "/home/ubuntu/miniconda3/lib/python3.6/site-packages/skimage/io/_io.py:132: UserWarning: /home/ubuntu/data/RED_nPEG_37C_pH72_S1_1_1_1.tif is a low contrast image\n",
      "  warn('%s is a low contrast image' % fname)\n",
      "/home/ubuntu/miniconda3/lib/python3.6/site-packages/skimage/io/_io.py:132: UserWarning: /home/ubuntu/data/RED_nPEG_37C_pH72_S1_1_1_2.tif is a low contrast image\n",
      "  warn('%s is a low contrast image' % fname)\n",
      "/home/ubuntu/miniconda3/lib/python3.6/site-packages/skimage/io/_io.py:132: UserWarning: /home/ubuntu/data/RED_nPEG_37C_pH72_S1_1_1_3.tif is a low contrast image\n",
      "  warn('%s is a low contrast image' % fname)\n",
      "/home/ubuntu/miniconda3/lib/python3.6/site-packages/skimage/io/_io.py:132: UserWarning: /home/ubuntu/data/RED_nPEG_37C_pH72_S1_1_2_1.tif is a low contrast image\n",
      "  warn('%s is a low contrast image' % fname)\n",
      "/home/ubuntu/miniconda3/lib/python3.6/site-packages/skimage/io/_io.py:132: UserWarning: /home/ubuntu/data/RED_nPEG_37C_pH72_S1_1_2_2.tif is a low contrast image\n",
      "  warn('%s is a low contrast image' % fname)\n",
      "/home/ubuntu/miniconda3/lib/python3.6/site-packages/skimage/io/_io.py:132: UserWarning: /home/ubuntu/data/RED_nPEG_37C_pH72_S1_1_2_3.tif is a low contrast image\n",
      "  warn('%s is a low contrast image' % fname)\n",
      "/home/ubuntu/miniconda3/lib/python3.6/site-packages/skimage/io/_io.py:132: UserWarning: /home/ubuntu/data/RED_nPEG_37C_pH72_S1_1_3_1.tif is a low contrast image\n",
      "  warn('%s is a low contrast image' % fname)\n",
      "/home/ubuntu/miniconda3/lib/python3.6/site-packages/skimage/io/_io.py:132: UserWarning: /home/ubuntu/data/RED_nPEG_37C_pH72_S1_1_3_2.tif is a low contrast image\n",
      "  warn('%s is a low contrast image' % fname)\n",
      "/home/ubuntu/miniconda3/lib/python3.6/site-packages/skimage/io/_io.py:132: UserWarning: /home/ubuntu/data/RED_nPEG_37C_pH72_S1_1_3_3.tif is a low contrast image\n",
      "  warn('%s is a low contrast image' % fname)\n"
     ]
    }
   ],
   "source": [
    "new_image = np.zeros((651, 512, 512), dtype=np.uint16)\n",
    "\n",
    "for row in range(irows):\n",
    "    for col in range(icols):\n",
    "        new_image = test2[:, row*ires:(row+1)*ires, col*ires:(col+1)*ires]\n",
    "        sio.imsave('/home/ubuntu/data/RED_nPEG_37C_pH72_S1_1_%s_%s.tif'%(row, col), new_image)"
   ]
  },
  {
   "cell_type": "code",
   "execution_count": 18,
   "metadata": {},
   "outputs": [
    {
     "data": {
      "text/plain": [
       "array([[ 7751,  7807,  7807, ..., 10631, 10524, 10495],\n",
       "       [ 7788,  7806,  7943, ..., 10698, 10592, 10810],\n",
       "       [ 7741,  7947,  7837, ..., 10806, 10736, 10853],\n",
       "       ...,\n",
       "       [ 9755, 10107, 10125, ..., 11716, 11723, 11803],\n",
       "       [ 9337,  9823,  9882, ..., 11615, 11547, 11486],\n",
       "       [ 9601,  9897,  9600, ..., 11936, 11864, 11803]], dtype=uint16)"
      ]
     },
     "execution_count": 18,
     "metadata": {},
     "output_type": "execute_result"
    }
   ],
   "source": [
    "test2[650, 0:512, 0:512]"
   ]
  },
  {
   "cell_type": "code",
   "execution_count": 21,
   "metadata": {},
   "outputs": [
    {
     "data": {
      "text/plain": [
       "array([[[11919, 12167, 12026, ..., 11206, 10976, 10553],\n",
       "        [11992, 12136, 12100, ..., 10840, 11190, 10480],\n",
       "        [12464, 11986, 11881, ..., 10844, 10897, 10288],\n",
       "        ...,\n",
       "        [    0,     0,     0, ...,     0,     0,     0],\n",
       "        [    0,     0,     0, ...,     0,     0,     0],\n",
       "        [    0,     0,     0, ...,     0,     0,     0]],\n",
       "\n",
       "       [[11846, 12059, 11881, ..., 11424, 11159, 10667],\n",
       "        [12101, 12245, 12246, ..., 11093, 11118, 10520],\n",
       "        [11883, 11914, 12137, ..., 10881, 11045, 10251],\n",
       "        ...,\n",
       "        [    0,     0,     0, ...,     0,     0,     0],\n",
       "        [    0,     0,     0, ...,     0,     0,     0],\n",
       "        [    0,     0,     0, ...,     0,     0,     0]],\n",
       "\n",
       "       [[12064, 12094, 11990, ..., 10989, 11049, 10361],\n",
       "        [11956, 12208, 12064, ..., 10912, 11264, 10749],\n",
       "        [11919, 12059, 11990, ..., 10988, 11044, 10518],\n",
       "        ...,\n",
       "        [    0,     0,     0, ...,     0,     0,     0],\n",
       "        [    0,     0,     0, ...,     0,     0,     0],\n",
       "        [    0,     0,     0, ...,     0,     0,     0]],\n",
       "\n",
       "       ...,\n",
       "\n",
       "       [[11774, 11913, 11736, ..., 10988, 11121, 10475],\n",
       "        [12064, 12099, 11773, ..., 10875, 11080, 10556],\n",
       "        [11701, 11986, 12063, ..., 10807, 10897, 10403],\n",
       "        ...,\n",
       "        [    0,     0,     0, ...,     0,     0,     0],\n",
       "        [    0,     0,     0, ...,     0,     0,     0],\n",
       "        [    0,     0,     0, ...,     0,     0,     0]],\n",
       "\n",
       "       [[11774, 11659, 12026, ..., 10916, 10757, 10629],\n",
       "        [11919, 11990, 11954, ..., 10768, 11118, 10480],\n",
       "        [11846, 12022, 12173, ..., 10700, 10789, 10596],\n",
       "        ...,\n",
       "        [    0,     0,     0, ...,     0,     0,     0],\n",
       "        [    0,     0,     0, ...,     0,     0,     0],\n",
       "        [    0,     0,     0, ...,     0,     0,     0]],\n",
       "\n",
       "       [[12028, 11769, 12210, ..., 11351, 10866, 10553],\n",
       "        [11919, 11700, 12100, ..., 10875, 10825, 10250],\n",
       "        [11811, 11805, 11919, ..., 10844, 11189, 10518],\n",
       "        ...,\n",
       "        [    0,     0,     0, ...,     0,     0,     0],\n",
       "        [    0,     0,     0, ...,     0,     0,     0],\n",
       "        [    0,     0,     0, ...,     0,     0,     0]]], dtype=uint16)"
      ]
     },
     "execution_count": 21,
     "metadata": {},
     "output_type": "execute_result"
    }
   ],
   "source": [
    "new_image"
   ]
  },
  {
   "cell_type": "code",
   "execution_count": null,
   "metadata": {},
   "outputs": [],
   "source": []
  }
 ],
 "metadata": {
  "kernelspec": {
   "display_name": "Python 3",
   "language": "python",
   "name": "python3"
  },
  "language_info": {
   "codemirror_mode": {
    "name": "ipython",
    "version": 3
   },
   "file_extension": ".py",
   "mimetype": "text/x-python",
   "name": "python",
   "nbconvert_exporter": "python",
   "pygments_lexer": "ipython3",
   "version": "3.6.3"
  }
 },
 "nbformat": 4,
 "nbformat_minor": 2
}
