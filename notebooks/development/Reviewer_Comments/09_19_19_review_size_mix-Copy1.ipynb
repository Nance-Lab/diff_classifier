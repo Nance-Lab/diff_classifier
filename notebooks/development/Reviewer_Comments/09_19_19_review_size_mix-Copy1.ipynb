{
 "cells": [
  {
   "cell_type": "markdown",
   "metadata": {},
   "source": [
    "# Experiment Initialization"
   ]
  },
  {
   "cell_type": "markdown",
   "metadata": {},
   "source": [
    "Here, I define the terms of my experiment, among them the location of the files in S3 (bucket and folder name), and each of the video prefixes (everything before the file extension) that I want to track. \n",
    "\n",
    "Note that these videos should be similar-ish: while we can account for differences in mean intensities between videos, particle sizes should be approximately the same, and (slightly less important) particles should be moving at about the same order of magnitude speed. In this experiment, these videos were taken in 0.4% agarose gel at 100x magnification and 100.02 fps shutter speeds with nanoparticles of about 100nm in diameter."
   ]
  },
  {
   "cell_type": "code",
   "execution_count": 1,
   "metadata": {},
   "outputs": [],
   "source": [
    "to_track = []\n",
    "result_futures = {}\n",
    "start_knot = 402 #Must be unique number for every run on Cloudknot.\n",
    "\n",
    "remote_folder = '09_17_19_size_dependent_study' #Folder in AWS S3 containing files to be analyzed\n",
    "bucket = 'mckenna.data'\n",
    "wells = 4\n",
    "vids = 5\n",
    "gels = ['40YG_200red_40', '40red_100YG_40',\n",
    "        '40red_200YG_40']\n",
    "\n",
    "for gel in gels:\n",
    "    for vid in range(1, vids+1):\n",
    "        for well in range(1, wells+1): \n",
    "            #to_track.append('100x_0_4_1_2_gel_{}_bulk_vid_{}'.format(vis, num))\n",
    "            to_track.append('{}_w{}_v{}'.format(gel, well, vid))"
   ]
  },
  {
   "cell_type": "code",
   "execution_count": null,
   "metadata": {},
   "outputs": [],
   "source": [
    "to_track"
   ]
  },
  {
   "cell_type": "markdown",
   "metadata": {},
   "source": [
    "The videos used with this analysis are fairly large (2048 x 2048 pixels and 651 frames), and in cases like this, the tracking algorithm can quickly eat up RAM. In this case, we chose to crop the videos to 512 x 512 images such that we can run our jobs on smaller EC2 instances with 16GB of RAM. \n",
    "\n",
    "Note that larger jobs can be made with user-defined functions such that splitting isn't necessary-- or perhaps an intermediate amount of memory that contains splitting, tracking, and msd calculation functions all performed on a single EC2 instance.\n",
    "\n",
    "The compiled functions in the knotlets module require access to buckets on AWS. In this case, we will be using a publicly (read-only) bucket. If users want to run this notebook on their own, will have to transfer files from nancelab.publicfiles to their own bucket, as it requires writing to S3 buckets."
   ]
  },
  {
   "cell_type": "code",
   "execution_count": 2,
   "metadata": {},
   "outputs": [],
   "source": [
    "import diff_classifier.knotlets as kn"
   ]
  },
  {
   "cell_type": "code",
   "execution_count": null,
   "metadata": {},
   "outputs": [
    {
     "name": "stderr",
     "output_type": "stream",
     "text": [
      "/usr/local/lib/python2.7/dist-packages/skimage/io/_io.py:140: UserWarning: /home/ubuntu/source/diff-classifier/notebooks/development/Reviewer_Comments/40YG_200red_200_w1_v1_0_0.tif is a low contrast image\n",
      "  warn('%s is a low contrast image' % fname)\n",
      "/usr/local/lib/python2.7/dist-packages/skimage/io/_io.py:140: UserWarning: /home/ubuntu/source/diff-classifier/notebooks/development/Reviewer_Comments/40YG_200red_200_w1_v1_0_1.tif is a low contrast image\n",
      "  warn('%s is a low contrast image' % fname)\n",
      "/usr/local/lib/python2.7/dist-packages/skimage/io/_io.py:140: UserWarning: /home/ubuntu/source/diff-classifier/notebooks/development/Reviewer_Comments/40YG_200red_200_w1_v1_0_2.tif is a low contrast image\n",
      "  warn('%s is a low contrast image' % fname)\n",
      "/usr/local/lib/python2.7/dist-packages/skimage/io/_io.py:140: UserWarning: /home/ubuntu/source/diff-classifier/notebooks/development/Reviewer_Comments/40YG_200red_200_w1_v1_0_3.tif is a low contrast image\n",
      "  warn('%s is a low contrast image' % fname)\n",
      "/usr/local/lib/python2.7/dist-packages/skimage/io/_io.py:140: UserWarning: /home/ubuntu/source/diff-classifier/notebooks/development/Reviewer_Comments/40YG_200red_200_w1_v1_1_0.tif is a low contrast image\n",
      "  warn('%s is a low contrast image' % fname)\n",
      "/usr/local/lib/python2.7/dist-packages/skimage/io/_io.py:140: UserWarning: /home/ubuntu/source/diff-classifier/notebooks/development/Reviewer_Comments/40YG_200red_200_w1_v1_1_1.tif is a low contrast image\n",
      "  warn('%s is a low contrast image' % fname)\n",
      "/usr/local/lib/python2.7/dist-packages/skimage/io/_io.py:140: UserWarning: /home/ubuntu/source/diff-classifier/notebooks/development/Reviewer_Comments/40YG_200red_200_w1_v1_1_2.tif is a low contrast image\n",
      "  warn('%s is a low contrast image' % fname)\n",
      "/usr/local/lib/python2.7/dist-packages/skimage/io/_io.py:140: UserWarning: /home/ubuntu/source/diff-classifier/notebooks/development/Reviewer_Comments/40YG_200red_200_w1_v1_1_3.tif is a low contrast image\n",
      "  warn('%s is a low contrast image' % fname)\n",
      "/usr/local/lib/python2.7/dist-packages/skimage/io/_io.py:140: UserWarning: /home/ubuntu/source/diff-classifier/notebooks/development/Reviewer_Comments/40YG_200red_200_w1_v1_2_0.tif is a low contrast image\n",
      "  warn('%s is a low contrast image' % fname)\n",
      "/usr/local/lib/python2.7/dist-packages/skimage/io/_io.py:140: UserWarning: /home/ubuntu/source/diff-classifier/notebooks/development/Reviewer_Comments/40YG_200red_200_w1_v1_2_1.tif is a low contrast image\n",
      "  warn('%s is a low contrast image' % fname)\n",
      "/usr/local/lib/python2.7/dist-packages/skimage/io/_io.py:140: UserWarning: /home/ubuntu/source/diff-classifier/notebooks/development/Reviewer_Comments/40YG_200red_200_w1_v1_2_2.tif is a low contrast image\n",
      "  warn('%s is a low contrast image' % fname)\n",
      "/usr/local/lib/python2.7/dist-packages/skimage/io/_io.py:140: UserWarning: /home/ubuntu/source/diff-classifier/notebooks/development/Reviewer_Comments/40YG_200red_200_w1_v1_2_3.tif is a low contrast image\n",
      "  warn('%s is a low contrast image' % fname)\n",
      "/usr/local/lib/python2.7/dist-packages/skimage/io/_io.py:140: UserWarning: /home/ubuntu/source/diff-classifier/notebooks/development/Reviewer_Comments/40YG_200red_200_w1_v1_3_0.tif is a low contrast image\n",
      "  warn('%s is a low contrast image' % fname)\n",
      "/usr/local/lib/python2.7/dist-packages/skimage/io/_io.py:140: UserWarning: /home/ubuntu/source/diff-classifier/notebooks/development/Reviewer_Comments/40YG_200red_200_w1_v1_3_1.tif is a low contrast image\n",
      "  warn('%s is a low contrast image' % fname)\n",
      "/usr/local/lib/python2.7/dist-packages/skimage/io/_io.py:140: UserWarning: /home/ubuntu/source/diff-classifier/notebooks/development/Reviewer_Comments/40YG_200red_200_w1_v1_3_2.tif is a low contrast image\n",
      "  warn('%s is a low contrast image' % fname)\n",
      "/usr/local/lib/python2.7/dist-packages/skimage/io/_io.py:140: UserWarning: /home/ubuntu/source/diff-classifier/notebooks/development/Reviewer_Comments/40YG_200red_200_w1_v1_3_3.tif is a low contrast image\n",
      "  warn('%s is a low contrast image' % fname)\n"
     ]
    },
    {
     "name": "stdout",
     "output_type": "stream",
     "text": [
      "Done with splitting. Should output file of name 09_17_19_size_dependent_study/40YG_200red_200_w1_v1_0_0.tif\n",
      "Done with splitting. Should output file of name 09_17_19_size_dependent_study/40YG_200red_200_w1_v1_0_1.tif\n",
      "Done with splitting. Should output file of name 09_17_19_size_dependent_study/40YG_200red_200_w1_v1_0_2.tif\n",
      "Done with splitting. Should output file of name 09_17_19_size_dependent_study/40YG_200red_200_w1_v1_0_3.tif\n",
      "Done with splitting. Should output file of name 09_17_19_size_dependent_study/40YG_200red_200_w1_v1_1_0.tif\n",
      "Done with splitting. Should output file of name 09_17_19_size_dependent_study/40YG_200red_200_w1_v1_1_1.tif\n",
      "Done with splitting. Should output file of name 09_17_19_size_dependent_study/40YG_200red_200_w1_v1_1_2.tif\n",
      "Done with splitting. Should output file of name 09_17_19_size_dependent_study/40YG_200red_200_w1_v1_1_3.tif\n",
      "Done with splitting. Should output file of name 09_17_19_size_dependent_study/40YG_200red_200_w1_v1_2_0.tif\n",
      "Done with splitting. Should output file of name 09_17_19_size_dependent_study/40YG_200red_200_w1_v1_2_1.tif\n",
      "Done with splitting. Should output file of name 09_17_19_size_dependent_study/40YG_200red_200_w1_v1_2_2.tif\n",
      "Done with splitting. Should output file of name 09_17_19_size_dependent_study/40YG_200red_200_w1_v1_2_3.tif\n",
      "Done with splitting. Should output file of name 09_17_19_size_dependent_study/40YG_200red_200_w1_v1_3_0.tif\n",
      "Done with splitting. Should output file of name 09_17_19_size_dependent_study/40YG_200red_200_w1_v1_3_1.tif\n",
      "Done with splitting. Should output file of name 09_17_19_size_dependent_study/40YG_200red_200_w1_v1_3_2.tif\n",
      "Done with splitting. Should output file of name 09_17_19_size_dependent_study/40YG_200red_200_w1_v1_3_3.tif\n"
     ]
    },
    {
     "name": "stderr",
     "output_type": "stream",
     "text": [
      "/usr/local/lib/python2.7/dist-packages/skimage/io/_io.py:140: UserWarning: /home/ubuntu/source/diff-classifier/notebooks/development/Reviewer_Comments/40YG_200red_200_w2_v1_0_0.tif is a low contrast image\n",
      "  warn('%s is a low contrast image' % fname)\n",
      "/usr/local/lib/python2.7/dist-packages/skimage/io/_io.py:140: UserWarning: /home/ubuntu/source/diff-classifier/notebooks/development/Reviewer_Comments/40YG_200red_200_w2_v1_0_1.tif is a low contrast image\n",
      "  warn('%s is a low contrast image' % fname)\n",
      "/usr/local/lib/python2.7/dist-packages/skimage/io/_io.py:140: UserWarning: /home/ubuntu/source/diff-classifier/notebooks/development/Reviewer_Comments/40YG_200red_200_w2_v1_0_2.tif is a low contrast image\n",
      "  warn('%s is a low contrast image' % fname)\n",
      "/usr/local/lib/python2.7/dist-packages/skimage/io/_io.py:140: UserWarning: /home/ubuntu/source/diff-classifier/notebooks/development/Reviewer_Comments/40YG_200red_200_w2_v1_0_3.tif is a low contrast image\n",
      "  warn('%s is a low contrast image' % fname)\n",
      "/usr/local/lib/python2.7/dist-packages/skimage/io/_io.py:140: UserWarning: /home/ubuntu/source/diff-classifier/notebooks/development/Reviewer_Comments/40YG_200red_200_w2_v1_1_0.tif is a low contrast image\n",
      "  warn('%s is a low contrast image' % fname)\n",
      "/usr/local/lib/python2.7/dist-packages/skimage/io/_io.py:140: UserWarning: /home/ubuntu/source/diff-classifier/notebooks/development/Reviewer_Comments/40YG_200red_200_w2_v1_1_1.tif is a low contrast image\n",
      "  warn('%s is a low contrast image' % fname)\n",
      "/usr/local/lib/python2.7/dist-packages/skimage/io/_io.py:140: UserWarning: /home/ubuntu/source/diff-classifier/notebooks/development/Reviewer_Comments/40YG_200red_200_w2_v1_1_2.tif is a low contrast image\n",
      "  warn('%s is a low contrast image' % fname)\n",
      "/usr/local/lib/python2.7/dist-packages/skimage/io/_io.py:140: UserWarning: /home/ubuntu/source/diff-classifier/notebooks/development/Reviewer_Comments/40YG_200red_200_w2_v1_1_3.tif is a low contrast image\n",
      "  warn('%s is a low contrast image' % fname)\n",
      "/usr/local/lib/python2.7/dist-packages/skimage/io/_io.py:140: UserWarning: /home/ubuntu/source/diff-classifier/notebooks/development/Reviewer_Comments/40YG_200red_200_w2_v1_2_0.tif is a low contrast image\n",
      "  warn('%s is a low contrast image' % fname)\n",
      "/usr/local/lib/python2.7/dist-packages/skimage/io/_io.py:140: UserWarning: /home/ubuntu/source/diff-classifier/notebooks/development/Reviewer_Comments/40YG_200red_200_w2_v1_2_1.tif is a low contrast image\n",
      "  warn('%s is a low contrast image' % fname)\n",
      "/usr/local/lib/python2.7/dist-packages/skimage/io/_io.py:140: UserWarning: /home/ubuntu/source/diff-classifier/notebooks/development/Reviewer_Comments/40YG_200red_200_w2_v1_2_2.tif is a low contrast image\n",
      "  warn('%s is a low contrast image' % fname)\n",
      "/usr/local/lib/python2.7/dist-packages/skimage/io/_io.py:140: UserWarning: /home/ubuntu/source/diff-classifier/notebooks/development/Reviewer_Comments/40YG_200red_200_w2_v1_2_3.tif is a low contrast image\n",
      "  warn('%s is a low contrast image' % fname)\n",
      "/usr/local/lib/python2.7/dist-packages/skimage/io/_io.py:140: UserWarning: /home/ubuntu/source/diff-classifier/notebooks/development/Reviewer_Comments/40YG_200red_200_w2_v1_3_0.tif is a low contrast image\n",
      "  warn('%s is a low contrast image' % fname)\n",
      "/usr/local/lib/python2.7/dist-packages/skimage/io/_io.py:140: UserWarning: /home/ubuntu/source/diff-classifier/notebooks/development/Reviewer_Comments/40YG_200red_200_w2_v1_3_1.tif is a low contrast image\n",
      "  warn('%s is a low contrast image' % fname)\n",
      "/usr/local/lib/python2.7/dist-packages/skimage/io/_io.py:140: UserWarning: /home/ubuntu/source/diff-classifier/notebooks/development/Reviewer_Comments/40YG_200red_200_w2_v1_3_2.tif is a low contrast image\n",
      "  warn('%s is a low contrast image' % fname)\n",
      "/usr/local/lib/python2.7/dist-packages/skimage/io/_io.py:140: UserWarning: /home/ubuntu/source/diff-classifier/notebooks/development/Reviewer_Comments/40YG_200red_200_w2_v1_3_3.tif is a low contrast image\n",
      "  warn('%s is a low contrast image' % fname)\n"
     ]
    },
    {
     "name": "stdout",
     "output_type": "stream",
     "text": [
      "Done with splitting. Should output file of name 09_17_19_size_dependent_study/40YG_200red_200_w2_v1_0_0.tif\n",
      "Done with splitting. Should output file of name 09_17_19_size_dependent_study/40YG_200red_200_w2_v1_0_1.tif\n",
      "Done with splitting. Should output file of name 09_17_19_size_dependent_study/40YG_200red_200_w2_v1_0_2.tif\n",
      "Done with splitting. Should output file of name 09_17_19_size_dependent_study/40YG_200red_200_w2_v1_0_3.tif\n",
      "Done with splitting. Should output file of name 09_17_19_size_dependent_study/40YG_200red_200_w2_v1_1_0.tif\n",
      "Done with splitting. Should output file of name 09_17_19_size_dependent_study/40YG_200red_200_w2_v1_1_1.tif\n",
      "Done with splitting. Should output file of name 09_17_19_size_dependent_study/40YG_200red_200_w2_v1_1_2.tif\n",
      "Done with splitting. Should output file of name 09_17_19_size_dependent_study/40YG_200red_200_w2_v1_1_3.tif\n",
      "Done with splitting. Should output file of name 09_17_19_size_dependent_study/40YG_200red_200_w2_v1_2_0.tif\n",
      "Done with splitting. Should output file of name 09_17_19_size_dependent_study/40YG_200red_200_w2_v1_2_1.tif\n",
      "Done with splitting. Should output file of name 09_17_19_size_dependent_study/40YG_200red_200_w2_v1_2_2.tif\n",
      "Done with splitting. Should output file of name 09_17_19_size_dependent_study/40YG_200red_200_w2_v1_2_3.tif\n",
      "Done with splitting. Should output file of name 09_17_19_size_dependent_study/40YG_200red_200_w2_v1_3_0.tif\n",
      "Done with splitting. Should output file of name 09_17_19_size_dependent_study/40YG_200red_200_w2_v1_3_1.tif\n",
      "Done with splitting. Should output file of name 09_17_19_size_dependent_study/40YG_200red_200_w2_v1_3_2.tif\n",
      "Done with splitting. Should output file of name 09_17_19_size_dependent_study/40YG_200red_200_w2_v1_3_3.tif\n"
     ]
    },
    {
     "name": "stderr",
     "output_type": "stream",
     "text": [
      "/usr/local/lib/python2.7/dist-packages/skimage/io/_io.py:140: UserWarning: /home/ubuntu/source/diff-classifier/notebooks/development/Reviewer_Comments/40YG_200red_200_w3_v1_0_0.tif is a low contrast image\n",
      "  warn('%s is a low contrast image' % fname)\n",
      "/usr/local/lib/python2.7/dist-packages/skimage/io/_io.py:140: UserWarning: /home/ubuntu/source/diff-classifier/notebooks/development/Reviewer_Comments/40YG_200red_200_w3_v1_0_1.tif is a low contrast image\n",
      "  warn('%s is a low contrast image' % fname)\n",
      "/usr/local/lib/python2.7/dist-packages/skimage/io/_io.py:140: UserWarning: /home/ubuntu/source/diff-classifier/notebooks/development/Reviewer_Comments/40YG_200red_200_w3_v1_0_2.tif is a low contrast image\n",
      "  warn('%s is a low contrast image' % fname)\n",
      "/usr/local/lib/python2.7/dist-packages/skimage/io/_io.py:140: UserWarning: /home/ubuntu/source/diff-classifier/notebooks/development/Reviewer_Comments/40YG_200red_200_w3_v1_0_3.tif is a low contrast image\n",
      "  warn('%s is a low contrast image' % fname)\n",
      "/usr/local/lib/python2.7/dist-packages/skimage/io/_io.py:140: UserWarning: /home/ubuntu/source/diff-classifier/notebooks/development/Reviewer_Comments/40YG_200red_200_w3_v1_1_0.tif is a low contrast image\n",
      "  warn('%s is a low contrast image' % fname)\n",
      "/usr/local/lib/python2.7/dist-packages/skimage/io/_io.py:140: UserWarning: /home/ubuntu/source/diff-classifier/notebooks/development/Reviewer_Comments/40YG_200red_200_w3_v1_1_1.tif is a low contrast image\n",
      "  warn('%s is a low contrast image' % fname)\n",
      "/usr/local/lib/python2.7/dist-packages/skimage/io/_io.py:140: UserWarning: /home/ubuntu/source/diff-classifier/notebooks/development/Reviewer_Comments/40YG_200red_200_w3_v1_1_2.tif is a low contrast image\n",
      "  warn('%s is a low contrast image' % fname)\n",
      "/usr/local/lib/python2.7/dist-packages/skimage/io/_io.py:140: UserWarning: /home/ubuntu/source/diff-classifier/notebooks/development/Reviewer_Comments/40YG_200red_200_w3_v1_1_3.tif is a low contrast image\n",
      "  warn('%s is a low contrast image' % fname)\n",
      "/usr/local/lib/python2.7/dist-packages/skimage/io/_io.py:140: UserWarning: /home/ubuntu/source/diff-classifier/notebooks/development/Reviewer_Comments/40YG_200red_200_w3_v1_2_0.tif is a low contrast image\n",
      "  warn('%s is a low contrast image' % fname)\n",
      "/usr/local/lib/python2.7/dist-packages/skimage/io/_io.py:140: UserWarning: /home/ubuntu/source/diff-classifier/notebooks/development/Reviewer_Comments/40YG_200red_200_w3_v1_2_1.tif is a low contrast image\n",
      "  warn('%s is a low contrast image' % fname)\n",
      "/usr/local/lib/python2.7/dist-packages/skimage/io/_io.py:140: UserWarning: /home/ubuntu/source/diff-classifier/notebooks/development/Reviewer_Comments/40YG_200red_200_w3_v1_2_2.tif is a low contrast image\n",
      "  warn('%s is a low contrast image' % fname)\n",
      "/usr/local/lib/python2.7/dist-packages/skimage/io/_io.py:140: UserWarning: /home/ubuntu/source/diff-classifier/notebooks/development/Reviewer_Comments/40YG_200red_200_w3_v1_2_3.tif is a low contrast image\n",
      "  warn('%s is a low contrast image' % fname)\n",
      "/usr/local/lib/python2.7/dist-packages/skimage/io/_io.py:140: UserWarning: /home/ubuntu/source/diff-classifier/notebooks/development/Reviewer_Comments/40YG_200red_200_w3_v1_3_0.tif is a low contrast image\n",
      "  warn('%s is a low contrast image' % fname)\n",
      "/usr/local/lib/python2.7/dist-packages/skimage/io/_io.py:140: UserWarning: /home/ubuntu/source/diff-classifier/notebooks/development/Reviewer_Comments/40YG_200red_200_w3_v1_3_1.tif is a low contrast image\n",
      "  warn('%s is a low contrast image' % fname)\n",
      "/usr/local/lib/python2.7/dist-packages/skimage/io/_io.py:140: UserWarning: /home/ubuntu/source/diff-classifier/notebooks/development/Reviewer_Comments/40YG_200red_200_w3_v1_3_2.tif is a low contrast image\n",
      "  warn('%s is a low contrast image' % fname)\n",
      "/usr/local/lib/python2.7/dist-packages/skimage/io/_io.py:140: UserWarning: /home/ubuntu/source/diff-classifier/notebooks/development/Reviewer_Comments/40YG_200red_200_w3_v1_3_3.tif is a low contrast image\n",
      "  warn('%s is a low contrast image' % fname)\n"
     ]
    },
    {
     "name": "stdout",
     "output_type": "stream",
     "text": [
      "Done with splitting. Should output file of name 09_17_19_size_dependent_study/40YG_200red_200_w3_v1_0_0.tif\n",
      "Done with splitting. Should output file of name 09_17_19_size_dependent_study/40YG_200red_200_w3_v1_0_1.tif\n",
      "Done with splitting. Should output file of name 09_17_19_size_dependent_study/40YG_200red_200_w3_v1_0_2.tif\n",
      "Done with splitting. Should output file of name 09_17_19_size_dependent_study/40YG_200red_200_w3_v1_0_3.tif\n",
      "Done with splitting. Should output file of name 09_17_19_size_dependent_study/40YG_200red_200_w3_v1_1_0.tif\n",
      "Done with splitting. Should output file of name 09_17_19_size_dependent_study/40YG_200red_200_w3_v1_1_1.tif\n",
      "Done with splitting. Should output file of name 09_17_19_size_dependent_study/40YG_200red_200_w3_v1_1_2.tif\n",
      "Done with splitting. Should output file of name 09_17_19_size_dependent_study/40YG_200red_200_w3_v1_1_3.tif\n",
      "Done with splitting. Should output file of name 09_17_19_size_dependent_study/40YG_200red_200_w3_v1_2_0.tif\n",
      "Done with splitting. Should output file of name 09_17_19_size_dependent_study/40YG_200red_200_w3_v1_2_1.tif\n",
      "Done with splitting. Should output file of name 09_17_19_size_dependent_study/40YG_200red_200_w3_v1_2_2.tif\n",
      "Done with splitting. Should output file of name 09_17_19_size_dependent_study/40YG_200red_200_w3_v1_2_3.tif\n"
     ]
    }
   ],
   "source": [
    "for prefix in to_track:\n",
    "    kn.split(prefix, remote_folder=remote_folder, bucket=bucket)"
   ]
  },
  {
   "cell_type": "markdown",
   "metadata": {},
   "source": [
    "## Tracking predictor"
   ]
  },
  {
   "cell_type": "markdown",
   "metadata": {},
   "source": [
    "Tracking normally requires user input in the form of tracking parameters e.g. particle radius, linking max distance, max frame gap etc. When large datasets aren't required, each video can be manageably manually tracked using the TrackMate GUI. However, when datasets get large e.g. >20 videos, this can become extremely arduous. For videos that are fairly similar, you can get away with using similar tracking parameters across all videos. However, one parameter that is a little more noisy that the others is the quality filter value. Quality is a numerical value that approximate how likely a particle is to be \"real.\" \n",
    "\n",
    "In this case, I built a predictor that estimates the quality filter value based on intensity distributions from the input images. Using a relatively small training dataset (5-20 videos), users can get fairly good estimates of quality filter values that can be used in parallelized tracking workflows.\n",
    "\n",
    "Note: in the current setup, the predictor should be run in Python 3. While the code will run in Python 3, there are differences between the random number generators in Python2 and Python3 that I was not able to control for."
   ]
  },
  {
   "cell_type": "code",
   "execution_count": null,
   "metadata": {},
   "outputs": [],
   "source": [
    "import os\n",
    "import diff_classifier.imagej as ij\n",
    "import boto3\n",
    "import os.path as op\n",
    "import diff_classifier.aws as aws\n",
    "import diff_classifier.knotlets as kn\n",
    "import numpy as np\n",
    "from sklearn.externals import joblib"
   ]
  },
  {
   "cell_type": "markdown",
   "metadata": {},
   "source": [
    "The regress_sys function should be run twice. When have_output is set to False, it generates a list of files that the user should manually track using Trackmate. Once the quality filter values are found, they can be used as input (y) to generate a regress object that can predict quality filter values for additional videos. Once y is assigned, set have_output to True and re-run the cell."
   ]
  },
  {
   "cell_type": "code",
   "execution_count": null,
   "metadata": {},
   "outputs": [],
   "source": [
    "tnum=20 #number of training datasets\n",
    "pref = []\n",
    "for num in to_track:                    \n",
    "    for row in range(0, 4):\n",
    "        for col in range(0, 4):\n",
    "            pref.append(\"{}_{}_{}\".format(num, row, col))"
   ]
  },
  {
   "cell_type": "code",
   "execution_count": null,
   "metadata": {},
   "outputs": [],
   "source": [
    "y = np.array([6.6, 6.7, 6.3, 6.4, 5.7, 7.8, 7.2, 6.9, 6.7, 7.2, 6.5, 6.2, 6.2, 6.0, 6.8, 5.8, 6.6, 6.6, 6.7, 6.8])\n",
    "\n",
    "# Creates regression object based of training dataset composed of input images and manually\n",
    "# calculated quality cutoffs from tracking with GUI interface.\n",
    "regress = ij.regress_sys(remote_folder, pref, y, tnum, randselect=True,\n",
    "                         have_output=True, bucket_name=bucket)\n",
    "#Read up on how regress_sys works before running."
   ]
  },
  {
   "cell_type": "code",
   "execution_count": null,
   "metadata": {},
   "outputs": [],
   "source": [
    "#Pickle object\n",
    "filename = 'regress.obj'\n",
    "with open(filename,'wb') as fp:\n",
    "    joblib.dump(regress,fp)\n",
    "\n",
    "import boto3\n",
    "s3 = boto3.client('s3')\n",
    "aws.upload_s3(filename, remote_folder+'/'+filename, bucket_name=bucket)"
   ]
  },
  {
   "cell_type": "markdown",
   "metadata": {},
   "source": [
    "Users should input all tracking parameters into the tparams object. Note that the quality value will be overwritten by values found using the quality predictor found above."
   ]
  },
  {
   "cell_type": "code",
   "execution_count": null,
   "metadata": {},
   "outputs": [],
   "source": [
    "tparams1 = {'radius': 5.0, 'threshold': 0.0, 'do_median_filtering': False,\n",
    "           'quality': 5.0, 'xdims': (0, 511), 'ydims': (1, 511),\n",
    "           'median_intensity': 300.0, 'snr': 0.0, 'linking_max_distance': 12.0,\n",
    "           'gap_closing_max_distance': 18.0, 'max_frame_gap': 6,\n",
    "           'track_duration': 20.0}\n",
    "\n",
    "# tparams2 = {'radius': 4.0, 'threshold': 0.0, 'do_median_filtering': False,\n",
    "#            'quality': 10.0, 'xdims': (0, 511), 'ydims': (1, 511),\n",
    "#            'median_intensity': 300.0, 'snr': 0.0, 'linking_max_distance': 8.0,\n",
    "#            'gap_closing_max_distance': 12.0, 'max_frame_gap': 6,\n",
    "#            'track_duration': 20.0}"
   ]
  },
  {
   "cell_type": "markdown",
   "metadata": {},
   "source": [
    "## Cloudknot setup"
   ]
  },
  {
   "cell_type": "markdown",
   "metadata": {},
   "source": [
    "Cloudknot requires the user to define a function that will be sent to multiple computers to run. In this case, the function knotlets.tracking will be used. We create a docker image that has the required installations (defined by the requirements.txt file from diff_classifier on Github, and the base Docker Image below that has Fiji pre-installed in the correct location.\n",
    "\n",
    "Note that I modify the Docker image below such that the correct version of boto3 is installed. For some reason, versions later than 1.5.28 error out, so I specified 5.28 as the correct version. Run my_image.build below to double-check that the Docker image is successfully built prior to submitting the job to Cloudknot."
   ]
  },
  {
   "cell_type": "code",
   "execution_count": null,
   "metadata": {},
   "outputs": [],
   "source": [
    "import cloudknot as ck\n",
    "import os.path as op\n",
    "\n",
    "github_installs=('https://github.com/ccurtis7/diff_classifier.git@Chad')\n",
    "#my_image = ck.DockerImage(func=kn.tracking, base_image='arokem/python3-fiji:0.3', github_installs=github_installs)\n",
    "my_image = ck.DockerImage(func=kn.assemble_msds, base_image='arokem/python3-fiji:0.3', github_installs=github_installs)\n",
    "docker_file = open(my_image.docker_path)\n",
    "docker_string = docker_file.read()\n",
    "docker_file.close()\n",
    "\n",
    "req = open(op.join(op.split(my_image.docker_path)[0], 'requirements.txt'))\n",
    "req_string = req.read()\n",
    "req.close()\n",
    "\n",
    "new_req = req_string[0:req_string.find('\\n')-4]+'5.28'+ req_string[req_string.find('\\n'):]\n",
    "req_overwrite = open(op.join(op.split(my_image.docker_path)[0], 'requirements.txt'), 'w')\n",
    "req_overwrite.write(new_req)\n",
    "req_overwrite.close()"
   ]
  },
  {
   "cell_type": "code",
   "execution_count": null,
   "metadata": {},
   "outputs": [],
   "source": []
  },
  {
   "cell_type": "code",
   "execution_count": null,
   "metadata": {},
   "outputs": [],
   "source": [
    "my_image.build(\"0.1\", image_name=\"test_image\")"
   ]
  },
  {
   "cell_type": "markdown",
   "metadata": {},
   "source": [
    "The object all_maps is an iterable containing all the inputs sent to Cloudknot. This is useful, because if the user needs to modify some of the tracking parameters for a single video, this can be done prior to submission to Cloudknot."
   ]
  },
  {
   "cell_type": "code",
   "execution_count": null,
   "metadata": {},
   "outputs": [],
   "source": [
    "names = []\n",
    "all_maps = []\n",
    "for prefix in to_track:    \n",
    "    for i in range(0, 4):\n",
    "        for j in range(0, 4):\n",
    "            names.append('{}_{}_{}'.format(prefix, i, j))\n",
    "            all_maps.append(('{}_{}_{}'.format(prefix, i, j), remote_folder, bucket, 'regress.obj',\n",
    "                             4, 4, (512, 512), tparams1))\n",
    "\n",
    "all_maps"
   ]
  },
  {
   "cell_type": "markdown",
   "metadata": {},
   "source": [
    "The Cloudknot knot object sets up the compute environment which will run the code. Note that the name must be unique. Every time you submit a new knot, you should change the name. I do this with the variable start_knot, which I vary for each run.\n",
    "\n",
    "If larger jobs are anticipated, users can adjust both RAM and storage with the memory and image_id variables. Memory specifies the amount of RAM to be used. Users can build a customized AMI with as much space as they need, and enter the ID into image_ID. Read the Cloudknot documentation for more details."
   ]
  },
  {
   "cell_type": "code",
   "execution_count": null,
   "metadata": {},
   "outputs": [],
   "source": [
    "ck.aws.set_region('us-east-1')\n",
    "knot = ck.Knot(name='download_and_track_{}_d{}'.format('chad1', start_knot),\n",
    "               docker_image = my_image,\n",
    "               memory = 16000,\n",
    "               resource_type = \"SPOT\",\n",
    "               bid_percentage = 100,\n",
    "               #image_id = 'ami-015a1b4cd3895860b', #May need to change this line\n",
    "               pars_policies=('AmazonS3FullAccess',),\n",
    "               )\n",
    "result_futures = knot.map(all_maps[0:800], starmap=True)"
   ]
  },
  {
   "cell_type": "code",
   "execution_count": null,
   "metadata": {},
   "outputs": [],
   "source": [
    "ck.aws.set_region('us-east-1')\n",
    "knot.clobber()"
   ]
  },
  {
   "cell_type": "code",
   "execution_count": null,
   "metadata": {},
   "outputs": [],
   "source": [
    "ck.aws.set_region('us-east-2')\n",
    "knot2 = ck.Knot(name='download_and_track_{}_e{}'.format('chad1', start_knot),\n",
    "               docker_image = my_image,\n",
    "               memory = 16000,\n",
    "               resource_type = \"SPOT\",\n",
    "               bid_percentage = 100,\n",
    "               #image_id = 'ami-015a1b4cd3895860b', #May need to change this line\n",
    "               pars_policies=('AmazonS3FullAccess',),\n",
    "               )\n",
    "result_futures2 = knot2.map(all_maps[800:1600], starmap=True)"
   ]
  },
  {
   "cell_type": "code",
   "execution_count": null,
   "metadata": {},
   "outputs": [],
   "source": [
    "ck.aws.set_region('us-east-2')\n",
    "knot2.clobber()"
   ]
  },
  {
   "cell_type": "code",
   "execution_count": null,
   "metadata": {},
   "outputs": [],
   "source": [
    "ck.aws.set_region('us-west-1')\n",
    "knot3 = ck.Knot(name='download_and_track_{}_f{}'.format('chad1', start_knot),\n",
    "               docker_image = my_image,\n",
    "               memory = 16000,\n",
    "               resource_type = \"SPOT\",\n",
    "               bid_percentage = 100,\n",
    "               #image_id = 'ami-015a1b4cd3895860b', #May need to change this line\n",
    "               pars_policies=('AmazonS3FullAccess',),\n",
    "               )\n",
    "result_futures3 = knot3.map(all_maps[1600:], starmap=True)"
   ]
  },
  {
   "cell_type": "code",
   "execution_count": null,
   "metadata": {},
   "outputs": [],
   "source": [
    "ck.aws.set_region('us-west-1')\n",
    "knot3.clobber()"
   ]
  },
  {
   "cell_type": "code",
   "execution_count": null,
   "metadata": {},
   "outputs": [],
   "source": [
    "ck.aws.set_region('us-west-1')\n",
    "knot4 = ck.Knot(name='download_and_track_{}_g{}'.format('chad1', start_knot),\n",
    "               docker_image = my_image,\n",
    "               memory = 16000,\n",
    "               resource_type = \"SPOT\",\n",
    "               bid_percentage = 100,\n",
    "               #image_id = 'ami-015a1b4cd3895860b', #May need to change this line\n",
    "               pars_policies=('AmazonS3FullAccess',),\n",
    "               )\n",
    "result_futures4 = knot4.map(all_maps2, starmap=True)"
   ]
  },
  {
   "cell_type": "code",
   "execution_count": null,
   "metadata": {},
   "outputs": [],
   "source": [
    "ck.aws.set_region('us-west-1')\n",
    "knot4.clobber()"
   ]
  },
  {
   "cell_type": "code",
   "execution_count": null,
   "metadata": {},
   "outputs": [],
   "source": [
    "ck.aws.set_region('us-west-1')\n",
    "knot5 = ck.Knot(name='download_and_track_{}_h{}'.format('chad1', start_knot),\n",
    "               docker_image = my_image,\n",
    "               memory = 16000,\n",
    "               resource_type = \"SPOT\",\n",
    "               bid_percentage = 100,\n",
    "               #image_id = 'ami-015a1b4cd3895860b', #May need to change this line\n",
    "               pars_policies=('AmazonS3FullAccess',),\n",
    "               )\n",
    "result_futures5 = knot5.map(all_maps2, starmap=True)"
   ]
  },
  {
   "cell_type": "code",
   "execution_count": null,
   "metadata": {},
   "outputs": [],
   "source": [
    "ck.aws.set_region('us-west-1')\n",
    "knot5.clobber()"
   ]
  },
  {
   "cell_type": "code",
   "execution_count": null,
   "metadata": {},
   "outputs": [],
   "source": [
    "names = []\n",
    "all_maps2 = []\n",
    "for prefix in to_track:\n",
    "    all_maps2.append((prefix, remote_folder, bucket, (512, 512), 651, 4, 4))\n",
    "\n",
    "all_maps2"
   ]
  },
  {
   "cell_type": "code",
   "execution_count": null,
   "metadata": {},
   "outputs": [],
   "source": [
    "len(all_maps2)"
   ]
  },
  {
   "cell_type": "code",
   "execution_count": null,
   "metadata": {},
   "outputs": [],
   "source": [
    "ck.aws.set_region('us-west-1')\n",
    "knot8 = ck.Knot(name='download_and_track_{}_j{}'.format('chad1', start_knot),\n",
    "               docker_image = my_image,\n",
    "               memory = 16000,\n",
    "               resource_type = \"SPOT\",\n",
    "               bid_percentage = 100,\n",
    "               #image_id = 'ami-015a1b4cd3895860b', #May need to change this line\n",
    "               pars_policies=('AmazonS3FullAccess',),\n",
    "               )\n",
    "result_futures8 = knot8.map(all_maps3, starmap=True)"
   ]
  },
  {
   "cell_type": "code",
   "execution_count": null,
   "metadata": {},
   "outputs": [],
   "source": [
    "ck.aws.set_region('us-west-1')\n",
    "knot8.clobber()"
   ]
  },
  {
   "cell_type": "code",
   "execution_count": null,
   "metadata": {},
   "outputs": [],
   "source": [
    "ck.aws.set_region('us-west-1')\n",
    "knot7 = ck.Knot(name='download_and_track_{}_i{}'.format('chad1', start_knot),\n",
    "               docker_image = my_image,\n",
    "               memory = 16000,\n",
    "               resource_type = \"SPOT\",\n",
    "               bid_percentage = 100,\n",
    "               #image_id = 'ami-015a1b4cd3895860b', #May need to change this line\n",
    "               pars_policies=('AmazonS3FullAccess',),\n",
    "               )\n",
    "result_futures7 = knot7.map(all_maps2, starmap=True)"
   ]
  },
  {
   "cell_type": "code",
   "execution_count": null,
   "metadata": {},
   "outputs": [],
   "source": [
    "ck.aws.set_region('us-west-1')\n",
    "knot7.clobber()"
   ]
  },
  {
   "cell_type": "code",
   "execution_count": null,
   "metadata": {},
   "outputs": [],
   "source": [
    "ck.aws.set_region('us-west-1')\n",
    "knot10 = ck.Knot(name='download_and_track_{}_l{}'.format('chad1', start_knot),\n",
    "               docker_image = my_image,\n",
    "               memory = 16000,\n",
    "               resource_type = \"SPOT\",\n",
    "               bid_percentage = 100,\n",
    "               #image_id = 'ami-015a1b4cd3895860b', #May need to change this line\n",
    "               pars_policies=('AmazonS3FullAccess',),\n",
    "               )\n",
    "result_futures10 = knot10.map(all_maps2, starmap=True)"
   ]
  },
  {
   "cell_type": "code",
   "execution_count": null,
   "metadata": {},
   "outputs": [],
   "source": [
    "knot10.clobber()"
   ]
  },
  {
   "cell_type": "code",
   "execution_count": null,
   "metadata": {},
   "outputs": [],
   "source": []
  },
  {
   "cell_type": "code",
   "execution_count": null,
   "metadata": {},
   "outputs": [],
   "source": []
  },
  {
   "cell_type": "code",
   "execution_count": null,
   "metadata": {},
   "outputs": [],
   "source": []
  },
  {
   "cell_type": "code",
   "execution_count": null,
   "metadata": {},
   "outputs": [],
   "source": []
  },
  {
   "cell_type": "code",
   "execution_count": null,
   "metadata": {},
   "outputs": [],
   "source": []
  },
  {
   "cell_type": "code",
   "execution_count": null,
   "metadata": {},
   "outputs": [],
   "source": []
  },
  {
   "cell_type": "code",
   "execution_count": null,
   "metadata": {},
   "outputs": [],
   "source": [
    "ck.aws.set_region('us-west-1')\n",
    "knot7 = ck.Knot(name='download_and_track_{}_d{}'.format('chad7', start_knot),\n",
    "               docker_image = my_image,\n",
    "               memory = 16000,\n",
    "               resource_type = \"SPOT\",\n",
    "               bid_percentage = 100,\n",
    "               #image_id = 'ami-015a1b4cd3895860b', #May need to change this line\n",
    "               pars_policies=('AmazonS3FullAccess',),\n",
    "               )\n",
    "result_futures7 = knot7.map(all_maps3, starmap=True)"
   ]
  },
  {
   "cell_type": "code",
   "execution_count": null,
   "metadata": {},
   "outputs": [],
   "source": [
    "knot7.clobber()"
   ]
  },
  {
   "cell_type": "code",
   "execution_count": null,
   "metadata": {},
   "outputs": [],
   "source": [
    "ck.aws.set_region('us-west-1')\n",
    "knot6 = ck.Knot(name='download_and_track_{}_d{}'.format('chad6', start_knot),\n",
    "               docker_image = my_image,\n",
    "               memory = 16000,\n",
    "               resource_type = \"SPOT\",\n",
    "               bid_percentage = 100,\n",
    "               #image_id = 'ami-015a1b4cd3895860b', #May need to change this line\n",
    "               pars_policies=('AmazonS3FullAccess',),\n",
    "               )\n",
    "result_futures6 = knot6.map(all_maps2, starmap=True)"
   ]
  },
  {
   "cell_type": "code",
   "execution_count": null,
   "metadata": {},
   "outputs": [],
   "source": [
    "knot6.clobber()"
   ]
  },
  {
   "cell_type": "code",
   "execution_count": null,
   "metadata": {},
   "outputs": [],
   "source": [
    "ck.aws.set_region('us-west-1')\n",
    "knot8 = ck.Knot(name='download_and_track_{}_d{}'.format('chad8', start_knot),\n",
    "               docker_image = my_image,\n",
    "               memory = 16000,\n",
    "               resource_type = \"SPOT\",\n",
    "               bid_percentage = 100,\n",
    "               #image_id = 'ami-015a1b4cd3895860b', #May need to change this line\n",
    "               pars_policies=('AmazonS3FullAccess',),\n",
    "               )\n",
    "result_futures8 = knot8.map(all_maps2, starmap=True)"
   ]
  },
  {
   "cell_type": "code",
   "execution_count": null,
   "metadata": {},
   "outputs": [],
   "source": [
    "knot8.clobber()"
   ]
  },
  {
   "cell_type": "code",
   "execution_count": null,
   "metadata": {},
   "outputs": [],
   "source": [
    "ck.aws.set_region('us-west-1')\n",
    "knot8 = ck.Knot(name='download_and_track_{}_d{}'.format('chad8', start_knot),\n",
    "               docker_image = my_image,\n",
    "               memory = 16000,\n",
    "               resource_type = \"SPOT\",\n",
    "               bid_percentage = 100,\n",
    "               #image_id = 'ami-015a1b4cd3895860b', #May need to change this line\n",
    "               pars_policies=('AmazonS3FullAccess',),\n",
    "               )\n",
    "result_futures8 = knot8.map(all_maps2, starmap=True)"
   ]
  },
  {
   "cell_type": "code",
   "execution_count": null,
   "metadata": {},
   "outputs": [],
   "source": [
    "ck.aws.set_region('us-west-1')\n",
    "knot9 = ck.Knot(name='download_and_track_{}_d{}'.format('chad9', start_knot),\n",
    "               docker_image = my_image,\n",
    "               memory = 16000,\n",
    "               resource_type = \"SPOT\",\n",
    "               bid_percentage = 100,\n",
    "               #image_id = 'ami-015a1b4cd3895860b', #May need to change this line\n",
    "               pars_policies=('AmazonS3FullAccess',),\n",
    "               )\n",
    "result_futures9 = knot9.map(all_maps2, starmap=True)"
   ]
  },
  {
   "cell_type": "code",
   "execution_count": null,
   "metadata": {},
   "outputs": [],
   "source": [
    "knot9.clobber()"
   ]
  },
  {
   "cell_type": "code",
   "execution_count": null,
   "metadata": {},
   "outputs": [],
   "source": []
  },
  {
   "cell_type": "code",
   "execution_count": null,
   "metadata": {},
   "outputs": [],
   "source": []
  },
  {
   "cell_type": "code",
   "execution_count": null,
   "metadata": {},
   "outputs": [],
   "source": []
  },
  {
   "cell_type": "code",
   "execution_count": null,
   "metadata": {},
   "outputs": [],
   "source": [
    "knot.clobber()"
   ]
  },
  {
   "cell_type": "code",
   "execution_count": null,
   "metadata": {},
   "outputs": [],
   "source": [
    "knot2 = ck.Knot(name='download_and_track_{}_b{}'.format('chad91', start_knot),\n",
    "               docker_image = my_image,\n",
    "               memory = 16000,\n",
    "               resource_type = \"SPOT\",\n",
    "               bid_percentage = 100,\n",
    "               #image_id = 'ami-015a1b4cd3895860b', #May need to change this line\n",
    "               pars_policies=('AmazonS3FullAccess',),\n",
    "               )"
   ]
  },
  {
   "cell_type": "code",
   "execution_count": null,
   "metadata": {},
   "outputs": [],
   "source": [
    "result_futures2 = knot2.map(all_maps3, starmap=True)"
   ]
  },
  {
   "cell_type": "code",
   "execution_count": null,
   "metadata": {},
   "outputs": [],
   "source": [
    "ck.aws.set_region('us-east-1')"
   ]
  },
  {
   "cell_type": "code",
   "execution_count": null,
   "metadata": {},
   "outputs": [],
   "source": [
    "knot2.clobber()"
   ]
  },
  {
   "cell_type": "code",
   "execution_count": null,
   "metadata": {},
   "outputs": [],
   "source": [
    "knot3 = ck.Knot(name='download_and_track_{}_b{}'.format('chad92', start_knot),\n",
    "               docker_image = my_image,\n",
    "               memory = 144000,\n",
    "               resource_type = \"SPOT\",\n",
    "               bid_percentage = 100,\n",
    "               #image_id = 'ami-015a1b4cd3895860b', #May need to change this line\n",
    "               pars_policies=('AmazonS3FullAccess',),\n",
    "               )"
   ]
  },
  {
   "cell_type": "code",
   "execution_count": null,
   "metadata": {},
   "outputs": [],
   "source": [
    "result_futures3 = knot3.map(all_maps2, starmap=True)"
   ]
  },
  {
   "cell_type": "code",
   "execution_count": null,
   "metadata": {},
   "outputs": [],
   "source": [
    "knot2.clobber()"
   ]
  },
  {
   "cell_type": "code",
   "execution_count": null,
   "metadata": {},
   "outputs": [],
   "source": [
    "missing = []\n",
    "all_maps2 = []\n",
    "import boto3\n",
    "import botocore\n",
    "\n",
    "s3 = boto3.resource('s3')\n",
    "\n",
    "\n",
    "for prefix in to_track:\n",
    "    try:\n",
    "        s3.Object(bucket, '{}/features_{}.csv'.format(remote_folder, prefix)).load()\n",
    "    except botocore.exceptions.ClientError as e:\n",
    "        if e.response['Error']['Code'] == \"404\":\n",
    "            missing.append(prefix)\n",
    "            all_maps2.append(('{}_{}_{}'.format(prefix, i, j), remote_folder, bucket, 'regress.obj',\n",
    "                             4, 4, (512, 512), tparams1))\n",
    "        else:\n",
    "            print('Something else has gone wrong')"
   ]
  },
  {
   "cell_type": "code",
   "execution_count": null,
   "metadata": {},
   "outputs": [],
   "source": [
    "len(all_maps2)"
   ]
  },
  {
   "cell_type": "code",
   "execution_count": null,
   "metadata": {},
   "outputs": [],
   "source": [
    "missing"
   ]
  },
  {
   "cell_type": "code",
   "execution_count": null,
   "metadata": {},
   "outputs": [],
   "source": [
    "for prefix in missing:\n",
    "    kn.assemble_msds(prefix, remote_folder, bucket=bucket)\n",
    "    print('Done with {}'.format(prefix))"
   ]
  },
  {
   "cell_type": "code",
   "execution_count": null,
   "metadata": {},
   "outputs": [],
   "source": [
    "result_futures4 = knot4.map(all_maps3, starmap=True)"
   ]
  },
  {
   "cell_type": "code",
   "execution_count": null,
   "metadata": {},
   "outputs": [],
   "source": [
    "knot4.clobber()"
   ]
  },
  {
   "cell_type": "code",
   "execution_count": null,
   "metadata": {},
   "outputs": [],
   "source": []
  },
  {
   "cell_type": "code",
   "execution_count": null,
   "metadata": {},
   "outputs": [],
   "source": []
  },
  {
   "cell_type": "code",
   "execution_count": null,
   "metadata": {},
   "outputs": [],
   "source": [
    "knot3 = ck.Knot(name='download_and_track_{}_b{}'.format('chad33', start_knot),\n",
    "               docker_image = my_image,\n",
    "               memory = 64000,\n",
    "               resource_type = \"SPOT\",\n",
    "               bid_percentage = 100,\n",
    "               #image_id = 'ami-015a1b4cd3895860b', #May need to change this line\n",
    "               pars_policies=('AmazonS3FullAccess',),\n",
    "               )"
   ]
  },
  {
   "cell_type": "code",
   "execution_count": null,
   "metadata": {},
   "outputs": [],
   "source": [
    "result_futures5 = knot3.map(all_maps2, starmap=True)"
   ]
  },
  {
   "cell_type": "code",
   "execution_count": null,
   "metadata": {},
   "outputs": [],
   "source": [
    "knot3.clobber()"
   ]
  },
  {
   "cell_type": "code",
   "execution_count": null,
   "metadata": {},
   "outputs": [],
   "source": []
  },
  {
   "cell_type": "code",
   "execution_count": null,
   "metadata": {},
   "outputs": [],
   "source": []
  },
  {
   "cell_type": "code",
   "execution_count": null,
   "metadata": {},
   "outputs": [],
   "source": [
    "ck.aws.get_region()\n",
    "ck.aws.set_region('us-east-1')\n",
    "ck.aws.get_region()"
   ]
  },
  {
   "cell_type": "code",
   "execution_count": null,
   "metadata": {},
   "outputs": [],
   "source": [
    "knot2 = ck.Knot(name='download_and_track_{}_b{}'.format('chad2', start_knot),\n",
    "               docker_image = my_image,\n",
    "               memory = 144000,\n",
    "               resource_type = \"SPOT\",\n",
    "               bid_percentage = 100,\n",
    "               #image_id = 'ami-0e00afdf500081a0d', #May need to change this line\n",
    "               pars_policies=('AmazonS3FullAccess',))"
   ]
  },
  {
   "cell_type": "code",
   "execution_count": null,
   "metadata": {},
   "outputs": [],
   "source": [
    "result_futures2 = knot2.map(all_maps, starmap=True)"
   ]
  },
  {
   "cell_type": "code",
   "execution_count": null,
   "metadata": {},
   "outputs": [],
   "source": [
    "knot3 = ck.Knot(name='download_and_track_{}_b{}'.format('chad3', start_knot),\n",
    "               docker_image = my_image,\n",
    "               memory = 144000,\n",
    "               resource_type = \"SPOT\",\n",
    "               bid_percentage = 100,\n",
    "               #image_id = 'ami-0e00afdf500081a0d', #May need to change this line\n",
    "               pars_policies=('AmazonS3FullAccess',))"
   ]
  },
  {
   "cell_type": "code",
   "execution_count": null,
   "metadata": {},
   "outputs": [],
   "source": [
    "result_futures3 = knot3.map(all_maps, starmap=True)"
   ]
  },
  {
   "cell_type": "code",
   "execution_count": null,
   "metadata": {},
   "outputs": [],
   "source": [
    "knot4 = ck.Knot(name='download_and_track_{}_b{}'.format('chad4', start_knot),\n",
    "               docker_image = my_image,\n",
    "               memory = 144000,\n",
    "               resource_type = \"SPOT\",\n",
    "               bid_percentage = 100,\n",
    "               #image_id = 'ami-0e00afdf500081a0d', #May need to change this line\n",
    "               pars_policies=('AmazonS3FullAccess',))"
   ]
  },
  {
   "cell_type": "code",
   "execution_count": null,
   "metadata": {},
   "outputs": [],
   "source": [
    "result_futures4 = knot4.map(all_maps, starmap=True)"
   ]
  },
  {
   "cell_type": "code",
   "execution_count": null,
   "metadata": {},
   "outputs": [],
   "source": [
    "knot5 = ck.Knot(name='download_and_track_{}_b{}'.format('chad5', start_knot),\n",
    "               docker_image = my_image,\n",
    "               memory = 144000,\n",
    "               resource_type = \"SPOT\",\n",
    "               bid_percentage = 100,\n",
    "               #image_id = 'ami-0e00afdf500081a0d', #May need to change this line\n",
    "               pars_policies=('AmazonS3FullAccess',))"
   ]
  },
  {
   "cell_type": "code",
   "execution_count": null,
   "metadata": {},
   "outputs": [],
   "source": [
    "result_futures5 = knot5.map(all_maps, starmap=True)"
   ]
  },
  {
   "cell_type": "code",
   "execution_count": null,
   "metadata": {},
   "outputs": [],
   "source": [
    "ck.aws.set_region('eu-west-1')\n",
    "knot5.clobber()"
   ]
  },
  {
   "cell_type": "code",
   "execution_count": null,
   "metadata": {},
   "outputs": [],
   "source": []
  },
  {
   "cell_type": "code",
   "execution_count": null,
   "metadata": {},
   "outputs": [],
   "source": []
  },
  {
   "cell_type": "code",
   "execution_count": null,
   "metadata": {},
   "outputs": [],
   "source": []
  },
  {
   "cell_type": "code",
   "execution_count": null,
   "metadata": {},
   "outputs": [],
   "source": [
    "tparams2 = {'radius': 3.5, 'threshold': 0.0, 'do_median_filtering': False,\n",
    "           'quality': 10.0, 'xdims': (0, 511), 'ydims': (1, 511),\n",
    "           'median_intensity': 300.0, 'snr': 0.0, 'linking_max_distance': 15.0,\n",
    "           'gap_closing_max_distance': 22.0, 'max_frame_gap': 5,\n",
    "           'track_duration': 20.0}"
   ]
  },
  {
   "cell_type": "code",
   "execution_count": null,
   "metadata": {},
   "outputs": [],
   "source": [
    "missing = []\n",
    "all_maps3 = []\n",
    "import boto3\n",
    "import botocore\n",
    "\n",
    "s3 = boto3.resource('s3')\n",
    "\n",
    "\n",
    "for name in names:\n",
    "    try:\n",
    "        s3.Object(bucket, '{}/Traj_{}.csv'.format(remote_folder, name)).load()\n",
    "    except botocore.exceptions.ClientError as e:\n",
    "        if e.response['Error']['Code'] == \"404\":\n",
    "            missing.append(name)\n",
    "            all_maps3.append((name, remote_folder, bucket, 'regress.obj',\n",
    "                             4, 4, (512, 512), tparams1))\n",
    "        else:\n",
    "            print('Something else has gone wrong')"
   ]
  },
  {
   "cell_type": "code",
   "execution_count": null,
   "metadata": {},
   "outputs": [],
   "source": [
    "len(all_maps3)"
   ]
  },
  {
   "cell_type": "code",
   "execution_count": null,
   "metadata": {},
   "outputs": [],
   "source": [
    "import diff_classifier.aws as aws"
   ]
  },
  {
   "cell_type": "code",
   "execution_count": null,
   "metadata": {},
   "outputs": [],
   "source": [
    "old_folder = 'Gel_Studies/08_14_18_gel_validation/old_msds2'\n",
    "\n",
    "for name in missing:\n",
    "    filename = 'Traj_{}.csv'.format(name)\n",
    "    aws.download_s3('{}/{}'.format(old_folder, filename), filename, bucket_name=bucket)\n",
    "    aws.upload_s3(filename, '{}/{}'.format(remote_folder, filename), bucket_name=bucket)"
   ]
  },
  {
   "cell_type": "markdown",
   "metadata": {},
   "source": [
    "Users can monitor the progress of their job in the Batch interface. Once the code is complete, users should clobber their knot to make sure that all AWS resources are removed."
   ]
  },
  {
   "cell_type": "code",
   "execution_count": null,
   "metadata": {},
   "outputs": [],
   "source": [
    "knot.clobber()"
   ]
  },
  {
   "cell_type": "markdown",
   "metadata": {},
   "source": [
    "## Downstream analysis and visualization"
   ]
  },
  {
   "cell_type": "markdown",
   "metadata": {},
   "source": [
    "The knotlet.assemble_msds function (which can also potentially be submitted to Cloudknot as well for large jobs) calculates the mean squared displacements and trajectory features from the raw trajectory csv files found from the Cloudknot submission. It accesses them from the S3 bucket to which they were saved."
   ]
  },
  {
   "cell_type": "code",
   "execution_count": null,
   "metadata": {},
   "outputs": [],
   "source": [
    "for prefix in to_track:\n",
    "    kn.assemble_msds(prefix, remote_folder, bucket=bucket)\n",
    "    print('Successfully output msds for {}'.format(prefix))"
   ]
  },
  {
   "cell_type": "code",
   "execution_count": null,
   "metadata": {},
   "outputs": [],
   "source": [
    "for prefix in to_track[5:7]:\n",
    "    kn.assemble_msds(prefix, remote_folder, bucket='ccurtis.data')\n",
    "    print('Successfully output msds for {}'.format(prefix))"
   ]
  },
  {
   "cell_type": "code",
   "execution_count": null,
   "metadata": {},
   "outputs": [],
   "source": [
    "all_maps2 = []\n",
    "for prefix in to_track:    \n",
    "    all_maps2.append((prefix, remote_folder, bucket, 'regress100.obj',\n",
    "                     4, 4, (512, 512), tparams))"
   ]
  },
  {
   "cell_type": "code",
   "execution_count": null,
   "metadata": {},
   "outputs": [],
   "source": [
    "knot = ck.Knot(name='download_and_track_{}_b{}'.format('chad', start_knot),\n",
    "               docker_image = my_image,\n",
    "               memory = 16000,\n",
    "               resource_type = \"SPOT\",\n",
    "               bid_percentage = 100,\n",
    "               #image_id = 'ami-0e00afdf500081a0d', #May need to change this line\n",
    "               pars_policies=('AmazonS3FullAccess',))"
   ]
  },
  {
   "cell_type": "markdown",
   "metadata": {},
   "source": [
    "Diff_classifier includes some useful imaging tools as well, including checking trajectories, plotting heatmaps of trajectory features, distributions of diffusion coefficients, and MSD plots."
   ]
  },
  {
   "cell_type": "code",
   "execution_count": null,
   "metadata": {},
   "outputs": [],
   "source": [
    "import diff_classifier.heatmaps as hm\n",
    "import diff_classifier.aws as aws"
   ]
  },
  {
   "cell_type": "code",
   "execution_count": null,
   "metadata": {},
   "outputs": [],
   "source": [
    "prefix = to_track[1]\n",
    "\n",
    "msds = 'msd_{}.csv'.format(prefix)\n",
    "feat = 'features_{}.csv'.format(prefix)\n",
    "aws.download_s3('{}/{}'.format(remote_folder, msds), msds, bucket_name=bucket)\n",
    "aws.download_s3('{}/{}'.format(remote_folder, feat), feat, bucket_name=bucket)"
   ]
  },
  {
   "cell_type": "code",
   "execution_count": null,
   "metadata": {},
   "outputs": [],
   "source": [
    "hm.plot_trajectories(prefix, upload=False, figsize=(8, 8))"
   ]
  },
  {
   "cell_type": "code",
   "execution_count": null,
   "metadata": {},
   "outputs": [],
   "source": [
    "geomean, geoSEM = hm.plot_individual_msds(prefix, x_range=10, y_range=300, umppx=1, fps=1, upload=False)"
   ]
  },
  {
   "cell_type": "code",
   "execution_count": null,
   "metadata": {},
   "outputs": [],
   "source": [
    "hm.plot_heatmap(prefix, upload=False)"
   ]
  },
  {
   "cell_type": "code",
   "execution_count": null,
   "metadata": {},
   "outputs": [],
   "source": [
    "hm.plot_particles_in_frame(prefix, y_range=6000, upload=False)"
   ]
  },
  {
   "cell_type": "code",
   "execution_count": null,
   "metadata": {},
   "outputs": [],
   "source": [
    "missing = []\n",
    "all_maps2 = []\n",
    "import boto3\n",
    "import botocore\n",
    "\n",
    "s3 = boto3.resource('s3')\n",
    "\n",
    "\n",
    "for name in pref:\n",
    "    try:\n",
    "        s3.Object(bucket, '{}/Traj_{}.csv'.format(remote_folder, name)).load()\n",
    "    except botocore.exceptions.ClientError as e:\n",
    "        if e.response['Error']['Code'] == \"404\":\n",
    "            missing.append(name)\n",
    "            all_maps3.append((name, remote_folder, bucket, 'regress.obj',\n",
    "                            4, 4, (512, 512), tparams1))\n",
    "        else:\n",
    "            print('Something else has gone wrong')"
   ]
  },
  {
   "cell_type": "code",
   "execution_count": null,
   "metadata": {},
   "outputs": [],
   "source": [
    "missing = ['PS_COOH_2mM_XY05_1_1', 'PS_NH2_2mM_XY04_2_1']"
   ]
  },
  {
   "cell_type": "code",
   "execution_count": null,
   "metadata": {},
   "outputs": [],
   "source": [
    "len(all_maps3)"
   ]
  },
  {
   "cell_type": "code",
   "execution_count": null,
   "metadata": {
    "scrolled": true
   },
   "outputs": [],
   "source": [
    "pref"
   ]
  },
  {
   "cell_type": "code",
   "execution_count": null,
   "metadata": {},
   "outputs": [],
   "source": []
  }
 ],
 "metadata": {
  "kernelspec": {
   "display_name": "Python 2",
   "language": "python",
   "name": "python2"
  },
  "language_info": {
   "codemirror_mode": {
    "name": "ipython",
    "version": 2
   },
   "file_extension": ".py",
   "mimetype": "text/x-python",
   "name": "python",
   "nbconvert_exporter": "python",
   "pygments_lexer": "ipython2",
   "version": "2.7.12"
  }
 },
 "nbformat": 4,
 "nbformat_minor": 2
}
