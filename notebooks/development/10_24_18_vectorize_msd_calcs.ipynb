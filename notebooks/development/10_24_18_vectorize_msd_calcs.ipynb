{
 "cells": [
  {
   "cell_type": "code",
   "execution_count": 1,
   "metadata": {},
   "outputs": [],
   "source": [
    "import random\n",
    "import numpy as np\n",
    "import numpy.ma as ma\n",
    "import diff_classifier.msd as msd"
   ]
  },
  {
   "cell_type": "code",
   "execution_count": 21,
   "metadata": {},
   "outputs": [],
   "source": [
    "random.seed(a=1)\n",
    "mask = np.concatenate((np.zeros((50, 5)), np.ones((50, 5))), axis=1)\n",
    "x = ma.array(np.random.rand(50, 10), mask=mask)\n",
    "random.seed(a=2)\n",
    "y = ma.array(np.random.rand(50, 10), mask=mask)\n",
    "parts = x.shape[0]\n",
    "frames = x.shape[1]\n",
    "\n",
    "xfilled = ma.copy(x)\n",
    "yfilled = ma.copy(y)\n",
    "for shift in range(1,frames):\n",
    "    x_shifted=np.roll(x,shift=shift,axis=1)\n",
    "    idx=~x_shifted.mask * xfilled.mask\n",
    "    xfilled[idx]=x_shifted[idx]\n",
    "    y_shifted=np.roll(y,shift=shift,axis=1)\n",
    "    idy=~y_shifted.mask * yfilled.mask\n",
    "    yfilled[idy]=y_shifted[idy]\n",
    "xfilled = xfilled.data\n",
    "yfilled = yfilled.data\n",
    "\n",
    "msds = ma.array(np.linspace(0, 10, 10) + x, mask=mask)\n",
    "delt = ma.array(np.linspace(0, 10, 10)+ 0*x, mask=mask)"
   ]
  },
  {
   "cell_type": "code",
   "execution_count": null,
   "metadata": {},
   "outputs": [],
   "source": [
    "numerator = np.square(msd.nth_diff(xfilled, n=frames-1, axis=1))+np.square(msd.nth_diff(yfilled, n=frames-1, axis=1))\n",
    "denominator = np.reshape(np.sum(np.square(msd.nth_diff(x, axis=1)), axis=1), (parts, 1)) + np.reshape(np.sum(np.square(msd.nth_diff(y, axis=1)), axis=1), (parts, 1))\n",
    "efficiency = numerator/denominator.data"
   ]
  },
  {
   "cell_type": "code",
   "execution_count": null,
   "metadata": {},
   "outputs": [],
   "source": [
    "numerator = np.abs(msd.nth_diff(xfilled, n=frames-1, axis=1))+np.abs(msd.nth_diff(yfilled, n=frames-1, axis=1))\n",
    "denominator = np.reshape(np.sum(np.abs(msd.nth_diff(x, axis=1)), axis=1), (parts, 1)) + np.reshape(np.sum(np.abs(msd.nth_diff(y, axis=1)), axis=1), (parts, 1))\n",
    "straightness = numerator/denominator.data"
   ]
  },
  {
   "cell_type": "code",
   "execution_count": null,
   "metadata": {},
   "outputs": [],
   "source": [
    "N = x.count(axis=1)\n",
    "L = np.sum(np.sqrt(np.square(msd.nth_diff(x, axis=1))), axis=1)\n",
    "\n",
    "diff = np.zeros((parts, frames, frames-1))\n",
    "for i in range(frames-1):\n",
    "    diff[:, 0:frames-i-1, i] = np.square(msd.nth_diff(x, n=i+1, axis=1))\n",
    "d = np.max(np.max(diff, axis=2), axis=1)\n",
    "\n",
    "fractal_dim = np.log(N)/np.log(N*d/L).data"
   ]
  },
  {
   "cell_type": "code",
   "execution_count": null,
   "metadata": {},
   "outputs": [],
   "source": [
    "fractal_dim"
   ]
  },
  {
   "cell_type": "code",
   "execution_count": 65,
   "metadata": {},
   "outputs": [],
   "source": [
    "from scipy.optimize import curve_fit\n",
    "def anom_msd(delt, D, alpha):\n",
    "    msd = 4*D*(delt**alpha)\n",
    "    return np.array(msd).ravel()"
   ]
  },
  {
   "cell_type": "code",
   "execution_count": 47,
   "metadata": {},
   "outputs": [
    {
     "data": {
      "text/plain": [
       "array([[  0.        ,   2.22222222,   4.44444444,   6.66666667,\n",
       "          8.88888889,  11.11111111,  13.33333333,  15.55555556,\n",
       "         17.77777778,  20.        ],\n",
       "       [  0.        ,   2.22222222,   4.44444444,   6.66666667,\n",
       "          8.88888889,  11.11111111,  13.33333333,  15.55555556,\n",
       "         17.77777778,  20.        ],\n",
       "       [  0.        ,   2.22222222,   4.44444444,   6.66666667,\n",
       "          8.88888889,  11.11111111,  13.33333333,  15.55555556,\n",
       "         17.77777778,  20.        ],\n",
       "       [  0.        ,   2.22222222,   4.44444444,   6.66666667,\n",
       "          8.88888889,  11.11111111,  13.33333333,  15.55555556,\n",
       "         17.77777778,  20.        ]])"
      ]
     },
     "execution_count": 47,
     "metadata": {},
     "output_type": "execute_result"
    }
   ],
   "source": [
    "anom_msd(delt[1:5, :].data, 0.5, 1)"
   ]
  },
  {
   "cell_type": "code",
   "execution_count": 63,
   "metadata": {},
   "outputs": [
    {
     "data": {
      "text/plain": [
       "masked_array(data =\n",
       " [[0.8263403340576346 1.7599891840604496 2.3780309607222447\n",
       "  4.234786106293765 4.5102212622552695 -- -- -- -- --]\n",
       " [0.6927464717087011 1.2073894629876705 2.409516559790498\n",
       "  3.8331052073738396 4.836652513397638 -- -- -- -- --]\n",
       " [0.019241494747452625 1.4018807707686802 2.3525753764363126\n",
       "  3.9761697316979685 5.026133148336873 -- -- -- -- --]\n",
       " [0.8754078372140571 2.0028210721776065 3.1232248374302967\n",
       "  3.6745029137719474 5.084875218594816 -- -- -- -- --]\n",
       " [0.678171408119193 1.6260840104639918 3.170718788909899 4.002728973727632\n",
       "  4.675797508731729 -- -- -- -- --]\n",
       " [0.8970724250632548 1.6799373136682223 2.8990107705292325\n",
       "  4.046274191702705 4.703593404464024 -- -- -- -- --]\n",
       " [0.6332114572043579 1.8815735859713536 2.616988679790526\n",
       "  3.4848908738704187 5.14233583123845 -- -- -- -- --]\n",
       " [0.7864905085918827 1.7113956648895563 3.2172301206054916\n",
       "  4.226050610024641 4.815343919792272 -- -- -- -- --]\n",
       " [0.7815538527225653 2.0697525206540095 2.625932820008103\n",
       "  4.1746139384982515 4.45598830046889 -- -- -- -- --]\n",
       " [0.6420397420274879 1.927815550186354 2.9229412391405702\n",
       "  3.9425797795385713 4.757588280152045 -- -- -- -- --]\n",
       " [0.4397544206417222 1.5271513034188149 2.761879086755911\n",
       "  3.7774934462569374 5.002115443334049 -- -- -- -- --]\n",
       " [0.6882496578709472 1.3772191313552864 2.8750210894136305\n",
       "  3.7294732483647786 5.164550107756245 -- -- -- -- --]\n",
       " [0.5638797732979187 1.9591526948787688 3.1004949643080377\n",
       "  3.5056331787343407 4.640648031311764 -- -- -- -- --]\n",
       " [0.7146730052904979 1.800892182001011 3.0426854258107423\n",
       "  3.3405470418864396 5.382211330266422 -- -- -- -- --]\n",
       " [0.284446571087861 1.2569097404271532 2.277819474655783 3.3728786113807545\n",
       "  5.108332578649649 -- -- -- -- --]\n",
       " [0.9713832845313319 2.0220771003231643 2.975730364311146\n",
       "  3.6003725226789274 4.92280804375814 -- -- -- -- --]\n",
       " [0.5078333215614464 1.6517150924660688 2.7221604009693596 4.19716525549556\n",
       "  4.769473883986808 -- -- -- -- --]\n",
       " [0.2515700102916091 1.1668742387782505 2.9198251264644686\n",
       "  3.543446901845856 4.774645242878676 -- -- -- -- --]\n",
       " [0.7911988976544949 1.8689793714350555 2.7274230200311296\n",
       "  3.3857368399582968 4.692655391332249 -- -- -- -- --]\n",
       " [0.3606762722029119 1.232324843299191 2.317740603002322 3.7960702780252062\n",
       "  4.746600624531015 -- -- -- -- --]\n",
       " [0.8894429049477883 1.9438214827463063 2.233271215426754 3.929160788393238\n",
       "  5.249301280023019 -- -- -- -- --]\n",
       " [0.09214878017028161 1.7131996664925095 2.9220185241053898\n",
       "  3.6290242099302703 4.690436563720824 -- -- -- -- --]\n",
       " [0.9353657070461006 1.9620545826642775 2.240697629861036 4.309189437811363\n",
       "  4.680777353778822 -- -- -- -- --]\n",
       " [0.956027261486857 1.2810234620327563 2.9036997460536136 3.961909446738659\n",
       "  4.751941915797388 -- -- -- -- --]\n",
       " [0.07224670394912625 1.1730107679800597 3.018500036996553\n",
       "  4.182924955388739 4.901713464920136 -- -- -- -- --]\n",
       " [0.24828428213752896 1.3037232706694164 3.172277692356328\n",
       "  3.577819928163854 5.20034253095939 -- -- -- -- --]\n",
       " [0.0662660876729666 1.8767646618240024 3.037965585547246 4.124527234651715\n",
       "  5.392670234752511 -- -- -- -- --]\n",
       " [0.06668614533337514 1.6866244929617102 2.563717657951296\n",
       "  3.7408853759284657 4.762310184848612 -- -- -- -- --]\n",
       " [0.19289658884049843 1.5626184386761488 2.382224903753984\n",
       "  3.4496523992304358 4.971654325619511 -- -- -- -- --]\n",
       " [0.06845492498372563 2.0897440574232875 2.225753834351749\n",
       "  3.743408717493029 4.447497359423903 -- -- -- -- --]\n",
       " [0.17661846627304723 1.3048873249612138 2.687756887579633\n",
       "  4.209760796890471 4.60259036021299 -- -- -- -- --]\n",
       " [0.43060529264296954 2.1040415402357597 2.248939289531355\n",
       "  3.935584410296337 5.257441212312361 -- -- -- -- --]\n",
       " [0.9799761007238984 2.020592093667765 2.6910404314346605\n",
       "  4.3242236509167915 4.916286032029401 -- -- -- -- --]\n",
       " [0.7409489711011726 1.6544441322618715 2.2438030932210977\n",
       "  3.7855047347646327 5.44307256996809 -- -- -- -- --]\n",
       " [0.8724142973725086 1.289248125872222 2.2629999525785425\n",
       "  3.4057470521499793 5.039007649173149 -- -- -- -- --]\n",
       " [0.06044582670255527 1.6038224296567412 3.2126574714487464\n",
       "  3.3651190313192645 4.480523050135399 -- -- -- -- --]\n",
       " [0.14767129466575513 1.8868949806085484 2.2418050867268455\n",
       "  3.5617208536116483 4.712367344219395 -- -- -- -- --]\n",
       " [0.42674540108495906 1.7790227284121647 2.512382020644953\n",
       "  3.7904948218359547 4.841130267424102 -- -- -- -- --]\n",
       " [0.4915541049975266 1.5250840594918946 2.515176711555487\n",
       "  3.7593088046470795 5.159627755673654 -- -- -- -- --]\n",
       " [0.8029671350196446 1.1763430002507667 2.9236147541118256\n",
       "  3.4460513002149096 5.032511245832383 -- -- -- -- --]\n",
       " [0.9988604275518096 1.784489631281116 3.0196439324762343\n",
       "  3.4142854164518126 4.685424951046233 -- -- -- -- --]\n",
       " [0.79700132746143 1.2852209999201105 2.3250438865419425 3.7348425276140365\n",
       "  4.955355703178307 -- -- -- -- --]\n",
       " [0.4928860455696774 2.105066603656587 2.42767759644226 3.4288324098667644\n",
       "  4.474040002281575 -- -- -- -- --]\n",
       " [0.7791772579627969 1.4899811083019596 2.267452251996342 4.281335820640455\n",
       "  4.9574014288678665 -- -- -- -- --]\n",
       " [0.1689643316774021 1.6104211649821634 2.2842248140989714\n",
       "  3.596651668139599 4.836483115655564 -- -- -- -- --]\n",
       " [0.9656787153277533 1.4123327653710103 3.214013389892518 4.269536209912076\n",
       "  5.224319652347017 -- -- -- -- --]\n",
       " [0.26602983382129364 1.4572635893759056 3.2100134105199536\n",
       "  4.155379911542928 4.863279828317369 -- -- -- -- --]\n",
       " [0.6064093180602688 1.6912568505914969 2.3146318167753224\n",
       "  4.293990903511493 5.345079333737034 -- -- -- -- --]\n",
       " [0.5489958595286614 1.2124600536045214 2.814501182691647 3.717728482098395\n",
       "  4.722649771266657 -- -- -- -- --]\n",
       " [0.8920151472251889 1.5335730661989626 3.08583977375335 4.273475001038012\n",
       "  4.510553376105717 -- -- -- -- --]],\n",
       "             mask =\n",
       " [[False False False False False  True  True  True  True  True]\n",
       " [False False False False False  True  True  True  True  True]\n",
       " [False False False False False  True  True  True  True  True]\n",
       " [False False False False False  True  True  True  True  True]\n",
       " [False False False False False  True  True  True  True  True]\n",
       " [False False False False False  True  True  True  True  True]\n",
       " [False False False False False  True  True  True  True  True]\n",
       " [False False False False False  True  True  True  True  True]\n",
       " [False False False False False  True  True  True  True  True]\n",
       " [False False False False False  True  True  True  True  True]\n",
       " [False False False False False  True  True  True  True  True]\n",
       " [False False False False False  True  True  True  True  True]\n",
       " [False False False False False  True  True  True  True  True]\n",
       " [False False False False False  True  True  True  True  True]\n",
       " [False False False False False  True  True  True  True  True]\n",
       " [False False False False False  True  True  True  True  True]\n",
       " [False False False False False  True  True  True  True  True]\n",
       " [False False False False False  True  True  True  True  True]\n",
       " [False False False False False  True  True  True  True  True]\n",
       " [False False False False False  True  True  True  True  True]\n",
       " [False False False False False  True  True  True  True  True]\n",
       " [False False False False False  True  True  True  True  True]\n",
       " [False False False False False  True  True  True  True  True]\n",
       " [False False False False False  True  True  True  True  True]\n",
       " [False False False False False  True  True  True  True  True]\n",
       " [False False False False False  True  True  True  True  True]\n",
       " [False False False False False  True  True  True  True  True]\n",
       " [False False False False False  True  True  True  True  True]\n",
       " [False False False False False  True  True  True  True  True]\n",
       " [False False False False False  True  True  True  True  True]\n",
       " [False False False False False  True  True  True  True  True]\n",
       " [False False False False False  True  True  True  True  True]\n",
       " [False False False False False  True  True  True  True  True]\n",
       " [False False False False False  True  True  True  True  True]\n",
       " [False False False False False  True  True  True  True  True]\n",
       " [False False False False False  True  True  True  True  True]\n",
       " [False False False False False  True  True  True  True  True]\n",
       " [False False False False False  True  True  True  True  True]\n",
       " [False False False False False  True  True  True  True  True]\n",
       " [False False False False False  True  True  True  True  True]\n",
       " [False False False False False  True  True  True  True  True]\n",
       " [False False False False False  True  True  True  True  True]\n",
       " [False False False False False  True  True  True  True  True]\n",
       " [False False False False False  True  True  True  True  True]\n",
       " [False False False False False  True  True  True  True  True]\n",
       " [False False False False False  True  True  True  True  True]\n",
       " [False False False False False  True  True  True  True  True]\n",
       " [False False False False False  True  True  True  True  True]\n",
       " [False False False False False  True  True  True  True  True]\n",
       " [False False False False False  True  True  True  True  True]],\n",
       "       fill_value = 1e+20)"
      ]
     },
     "execution_count": 63,
     "metadata": {},
     "output_type": "execute_result"
    }
   ],
   "source": [
    "ma.reshape(msds.ravel(), (50, 10))"
   ]
  },
  {
   "cell_type": "code",
   "execution_count": 67,
   "metadata": {},
   "outputs": [],
   "source": [
    "popt, pcov = curve_fit(anom_msd, delt.data, msds.data.ravel())"
   ]
  },
  {
   "cell_type": "code",
   "execution_count": 68,
   "metadata": {},
   "outputs": [
    {
     "data": {
      "text/plain": [
       "array([ 0.32421309,  0.87825658])"
      ]
     },
     "execution_count": 68,
     "metadata": {},
     "output_type": "execute_result"
    }
   ],
   "source": [
    "popt"
   ]
  },
  {
   "cell_type": "code",
   "execution_count": null,
   "metadata": {},
   "outputs": [],
   "source": []
  }
 ],
 "metadata": {
  "kernelspec": {
   "display_name": "Python 3",
   "language": "python",
   "name": "python3"
  },
  "language_info": {
   "codemirror_mode": {
    "name": "ipython",
    "version": 3
   },
   "file_extension": ".py",
   "mimetype": "text/x-python",
   "name": "python",
   "nbconvert_exporter": "python",
   "pygments_lexer": "ipython3",
   "version": "3.6.3"
  }
 },
 "nbformat": 4,
 "nbformat_minor": 2
}
