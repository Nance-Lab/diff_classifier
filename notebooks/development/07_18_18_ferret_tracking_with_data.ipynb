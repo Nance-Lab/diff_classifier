{
 "cells": [
  {
   "cell_type": "code",
   "execution_count": 6,
   "metadata": {},
   "outputs": [],
   "source": [
    "import diff_classifier.aws as aws\n",
    "import pandas as pd\n",
    "\n",
    "import matplotlib.pyplot as plt\n",
    "import numpy as np\n",
    "import statsmodels.api as sm\n",
    "from scipy.optimize import leastsq"
   ]
  },
  {
   "cell_type": "code",
   "execution_count": 2,
   "metadata": {},
   "outputs": [],
   "source": [
    "filename = 'catwalk_data.csv'\n",
    "folder = 'ferret_tracking'\n",
    "\n",
    "aws.download_s3('{}/{}'.format(folder, filename), filename, bucket_name='ccurtis.data')"
   ]
  },
  {
   "cell_type": "code",
   "execution_count": 27,
   "metadata": {},
   "outputs": [],
   "source": [
    "ferret_data = pd.read_csv(filename)\n",
    "ferret_data = ferret_data.sort_values(by=['X'])\n",
    "length = ferret_data.shape[0]"
   ]
  },
  {
   "cell_type": "code",
   "execution_count": 28,
   "metadata": {},
   "outputs": [
    {
     "data": {
      "text/plain": [
       "16"
      ]
     },
     "execution_count": 28,
     "metadata": {},
     "output_type": "execute_result"
    }
   ],
   "source": [
    "length"
   ]
  },
  {
   "cell_type": "code",
   "execution_count": 44,
   "metadata": {},
   "outputs": [],
   "source": [
    "def fit_sine(x, y, guess_freq=1/150):\n",
    "\n",
    "    guess_mean = np.mean(y)\n",
    "    guess_std = 3*np.std(y)/(2**0.5)/(2**0.5)\n",
    "    guess_phase = 0\n",
    "    guess_freq = 1/150\n",
    "    guess_amp = 1\n",
    "\n",
    "    # we'll use this to plot our first estimate. This might already be good enough for you\n",
    "    data_first_guess = guess_std*np.sin(x+guess_phase) + guess_mean\n",
    "\n",
    "    # Define the function to optimize, in this case, we want to minimize the difference\n",
    "    # between the actual data and our \"guessed\" parameters\n",
    "    optimize_func = lambda z: z[0]*np.sin(z[1]*x+z[2]) + z[3] - y\n",
    "    est_amp, est_freq, est_phase, est_mean = leastsq(optimize_func, [guess_amp, guess_freq, guess_phase, guess_mean])[0]\n",
    "\n",
    "    # recreate the fitted curve using the optimized parameters\n",
    "    data_fit = est_amp*np.sin(est_freq*x+est_phase) + est_mean\n",
    "\n",
    "    # recreate the fitted curve using the optimized parameters\n",
    "\n",
    "    fine_t = np.arange(0,max(x),0.1)\n",
    "    data_fit=est_amp*np.sin(est_freq*fine_t+est_phase)+est_mean\n",
    "    \n",
    "    return fine_t, data_fit, est_amp, est_freq"
   ]
  },
  {
   "cell_type": "code",
   "execution_count": null,
   "metadata": {},
   "outputs": [],
   "source": []
  },
  {
   "cell_type": "code",
   "execution_count": 57,
   "metadata": {},
   "outputs": [
    {
     "data": {
      "image/png": "[encoded data removed]",
      "text/plain": [
       "<Figure size 720x360 with 1 Axes>"
      ]
     },
     "metadata": {},
     "output_type": "display_data"
    }
   ],
   "source": [
    "x = ferret_data['X']\n",
    "y = ferret_data['Y']\n",
    "fine_t, data_fit, est_amp, est_freq = fit_sine(x, y, guess_freq=1/100)\n",
    "\n",
    "lowess = sm.nonparametric.lowess\n",
    "ymid = lowess(y, x, frac=0.5)\n",
    "yavg = np.convolve(y, np.ones((length,))/length, mode='same')\n",
    "\n",
    "plt.figure(figsize=(10, 5))\n",
    "plt.scatter(x, y, s=300)\n",
    "plt.plot(x, ymid[:, 1], linewidth=6)\n",
    "plt.plot(x, np.mean(y)*np.ones((length,)), 'k', linewidth=6)\n",
    "plt.plot(fine_t, data_fit, 'm', linewidth=6)\n",
    "#plt.plot(x, yavg, 'k', linewidth=6)\n",
    "plt.ylim(0, 120)\n",
    "plt.show()"
   ]
  },
  {
   "cell_type": "code",
   "execution_count": 58,
   "metadata": {},
   "outputs": [
    {
     "name": "stdout",
     "output_type": "stream",
     "text": [
      "Deviation from midline: 19.61\n",
      "Range in y: 61.54\n",
      "Percent deviation from midline: 31.0\n",
      "Fit amplitude: 8.2\n",
      "Fit period: 70.09\n"
     ]
    }
   ],
   "source": [
    "ystd = np.round(np.std(y), 2)\n",
    "yrange = np.round(np.ptp(y), 2)\n",
    "rsd = 100*np.round(ystd/np.mean(y), 2)\n",
    "\n",
    "print('Deviation from midline: {}'.format(ystd))\n",
    "print('Range in y: {}'.format(yrange))\n",
    "print('Percent deviation from midline: {}'.format(rsd))\n",
    "print('Fit amplitude: {}'.format(np.abs(np.round(est_amp, 2))))\n",
    "print('Fit period: {}'.format(np.round(1/est_freq, 2)))"
   ]
  },
  {
   "cell_type": "code",
   "execution_count": null,
   "metadata": {},
   "outputs": [],
   "source": []
  }
 ],
 "metadata": {
  "kernelspec": {
   "display_name": "Python 3",
   "language": "python",
   "name": "python3"
  },
  "language_info": {
   "codemirror_mode": {
    "name": "ipython",
    "version": 3
   },
   "file_extension": ".py",
   "mimetype": "text/x-python",
   "name": "python",
   "nbconvert_exporter": "python",
   "pygments_lexer": "ipython3",
   "version": "3.6.3"
  }
 },
 "nbformat": 4,
 "nbformat_minor": 2
}
