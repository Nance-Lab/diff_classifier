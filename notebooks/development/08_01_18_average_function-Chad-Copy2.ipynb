{
 "cells": [
  {
   "cell_type": "code",
   "execution_count": 1,
   "metadata": {},
   "outputs": [],
   "source": [
    "import numpy as np\n",
    "import numpy.ma as ma\n",
    "import pandas as pd\n",
    "import scipy.stats as stat\n",
    "import random\n",
    "import diff_classifier.aws as aws\n",
    "import diff_classifier.msd as msd\n",
    "from diff_classifier.msd import binning, precision_weight, precision_averaging, plot_all_experiments\n",
    "import matplotlib.pyplot as plt\n",
    "from matplotlib.pyplot import cm\n",
    "import scipy.stats as stats"
   ]
  },
  {
   "cell_type": "code",
   "execution_count": null,
   "metadata": {},
   "outputs": [
    {
     "name": "stdout",
     "output_type": "stream",
     "text": [
      "Done with 100nm_XY01\n",
      "Done with 100nm_XY02\n",
      "Done with 100nm_XY03\n"
     ]
    }
   ],
   "source": [
    "folder = 'Gel_Studies/08_14_18_gel_validation'\n",
    "bucket = 'ccurtis.data'\n",
    "experiment = '100nm' #Used for naming purposes. Should exclude XY and well information\n",
    "\n",
    "vids = 10\n",
    "to_track = []\n",
    "wells = 2\n",
    "frames = 651\n",
    "fps = 100.02\n",
    "\n",
    "for num in range(1, vids+1):\n",
    "    to_track.append('{}_XY{}'.format(experiment, '%02d' % num)) #As per usual, use for loops to include all experiments\n",
    "\n",
    "slices, bins, well_names = binning(to_track, prefix=experiment)\n",
    "geoM2xy = {}\n",
    "gSEM = {}\n",
    "for sample_name in to_track:\n",
    "    #aws.download_s3('{}/geomean_{}.csv'.format(folder, sample_name), 'geomean_{}.csv'.format(sample_name), bucket_name=bucket)\n",
    "    #aws.download_s3('{}/geoSEM_{}.csv'.format(folder, sample_name), 'geoSEM_{}.csv'.format(sample_name), bucket_name=bucket)\n",
    "    #geoM2xy[sample_name] = np.genfromtxt('geomean_{}.csv'.format(sample_name))\n",
    "    #gSEM[sample_name] = np.genfromtxt('geoSEM_{}.csv'.format(sample_name))\n",
    "    \n",
    "    aws.download_s3('{}/msd_{}.csv'.format(folder, sample_name), 'msd_{}.csv'.format(sample_name), bucket_name=bucket)\n",
    "    geoM2xy[sample_name], gSEM[sample_name] = msd.gavg_MSDs(sample_name, umppx=0.07, remote_folder=folder, bucket=bucket)\n",
    "    print('Done with {}'.format(sample_name))"
   ]
  },
  {
   "cell_type": "code",
   "execution_count": null,
   "metadata": {},
   "outputs": [],
   "source": [
    "gSEM"
   ]
  },
  {
   "cell_type": "code",
   "execution_count": null,
   "metadata": {},
   "outputs": [],
   "source": [
    "geo_slices = {}\n",
    "gSEM_slices = {}\n",
    "\n",
    "w_slices = {}\n",
    "wo_slices = {}\n",
    "w_holder = {}\n",
    "wh = {}\n",
    "gh = {}\n",
    "\n",
    "for key in bins:\n",
    "    print(key)\n",
    "    wo_slices[key], wh[key] = precision_weight(bins[key], gSEM)\n",
    "    geo_slices[key], gSEM_slices[key], w_holder[key], gh[key] = precision_averaging(bins[key], geoM2xy, gSEM, wo_slices[key],\n",
    "                                                            bucket=bucket, folder=folder, experiment=key) \n",
    "\n",
    "for key in geo_slices:\n",
    "    geo_slices[key][geo_slices[key]==0.0] = np.nan\n",
    "    gSEM_slices[key][gSEM_slices[key]==0.0] = np.nan\n",
    "    \n",
    "    geo_slices[key] = ma.masked_invalid(geo_slices[key])\n",
    "    gSEM_slices[key] = ma.masked_invalid(gSEM_slices[key])\n",
    "    \n",
    "weights, wh1 = precision_weight(well_names, gSEM_slices)\n",
    "geo, gS, w_holder1, gh1 = precision_averaging(well_names, geo_slices, gSEM_slices, weights, bucket=bucket, folder=folder, experiment=experiment)"
   ]
  },
  {
   "cell_type": "code",
   "execution_count": null,
   "metadata": {},
   "outputs": [],
   "source": [
    "geo"
   ]
  },
  {
   "cell_type": "code",
   "execution_count": null,
   "metadata": {},
   "outputs": [],
   "source": [
    "to_plot_f = [experiment, experiment, experiment, experiment, experiment, experiment]\n",
    "plot_all_experiments(to_plot_f, bucket=bucket, folder=folder, yr=(10**-2, 10*2))"
   ]
  },
  {
   "cell_type": "code",
   "execution_count": null,
   "metadata": {},
   "outputs": [],
   "source": [
    "to_plot_f = ['100_2xs', '100_1xs', '100_pt50xs', '100_PSCOOH']\n",
    "plot_all_experiments(to_plot_f, bucket=bucket, folder=folder, yr=(10**-2, 10))"
   ]
  },
  {
   "cell_type": "code",
   "execution_count": null,
   "metadata": {},
   "outputs": [],
   "source": [
    "to_plot = []\n",
    "for key in geoM2xy:\n",
    "    to_plot.append(key)\n",
    "    \n",
    "plot_all_experiments(to_plot, bucket=bucket, folder=folder)"
   ]
  },
  {
   "cell_type": "code",
   "execution_count": null,
   "metadata": {},
   "outputs": [],
   "source": [
    "to_plot = []\n",
    "for key in geo_slices:\n",
    "    to_plot.append(key)\n",
    "    \n",
    "plot_all_experiments(to_plot, bucket=bucket, folder=folder)"
   ]
  },
  {
   "cell_type": "code",
   "execution_count": null,
   "metadata": {},
   "outputs": [],
   "source": [
    "test = np.array([-5, -4, -3, -2, -1])\n",
    "test = np.array([0.0001, 0.002, 0.03, 0.000005])\n",
    "test2 = ma.log(test)\n",
    "test2"
   ]
  },
  {
   "cell_type": "code",
   "execution_count": null,
   "metadata": {},
   "outputs": [],
   "source": [
    "stats.sem(test)"
   ]
  },
  {
   "cell_type": "code",
   "execution_count": null,
   "metadata": {},
   "outputs": [],
   "source": [
    "gSEM"
   ]
  },
  {
   "cell_type": "code",
   "execution_count": null,
   "metadata": {},
   "outputs": [],
   "source": [
    "geoM2xy"
   ]
  },
  {
   "cell_type": "code",
   "execution_count": null,
   "metadata": {},
   "outputs": [],
   "source": []
  }
 ],
 "metadata": {
  "kernelspec": {
   "display_name": "Python 3",
   "language": "python",
   "name": "python3"
  },
  "language_info": {
   "codemirror_mode": {
    "name": "ipython",
    "version": 3
   },
   "file_extension": ".py",
   "mimetype": "text/x-python",
   "name": "python",
   "nbconvert_exporter": "python",
   "pygments_lexer": "ipython3",
   "version": "3.6.3"
  }
 },
 "nbformat": 4,
 "nbformat_minor": 2
}
