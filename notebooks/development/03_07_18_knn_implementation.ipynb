{
 "cells": [
  {
   "cell_type": "code",
   "execution_count": 1,
   "metadata": {},
   "outputs": [],
   "source": [
    "import random\n",
    "import diff_classifier.aws as aws\n",
    "import boto3\n",
    "import skimage.io as sio\n",
    "import numpy as np\n",
    "import pandas as pd\n",
    "\n",
    "from sklearn.neighbors import KNeighborsClassifier\n",
    "from sklearn import linear_model\n",
    "from sklearn import svm"
   ]
  },
  {
   "cell_type": "code",
   "execution_count": 2,
   "metadata": {},
   "outputs": [],
   "source": [
    "folder = '01_18_Experiment'\n",
    "\n",
    "missing = []\n",
    "for i in range(10, 15):\n",
    "    missing.append(\"P1_S2_R_00{}\".format(i))\n",
    "\n",
    "for i in range(10, 15):\n",
    "    missing.append(\"P2_S3_L_00{}\".format(i))\n",
    "    \n",
    "for i in range(0, 15):\n",
    "    missing.append(\"P3_S3_L_{}\".format(\"%04d\" % i))\n",
    "\n",
    "pups = [\"P3\", \"P2\", \"P1\"]\n",
    "slices = [\"S1\", \"S2\", \"S3\"]\n",
    "folder = '01_18_Experiment'\n",
    "\n",
    "hemis = [\"R\", \"L\"]\n",
    "vids = 15\n",
    "\n",
    "tnum=20 #number of training datasets"
   ]
  },
  {
   "cell_type": "code",
   "execution_count": 3,
   "metadata": {},
   "outputs": [],
   "source": [
    "to_track = []\n",
    "\n",
    "for pup in pups:\n",
    "    for hemi in hemis:\n",
    "            for slic in slices:\n",
    "                for vid in range(0, vids):\n",
    "                            prefix = \"{}_{}_{}_{}\".format(pup, slic, hemi, \"%04d\" % vid)\n",
    "                            if not prefix in missing:\n",
    "                                for row in range(0, 4):\n",
    "                                    for col in range(0, 4):\n",
    "                                        to_track.append(\"{}_{}_{}\".format(prefix, row, col))"
   ]
  },
  {
   "cell_type": "code",
   "execution_count": null,
   "metadata": {},
   "outputs": [],
   "source": [
    "len(to_track)"
   ]
  },
  {
   "cell_type": "code",
   "execution_count": 8,
   "metadata": {},
   "outputs": [],
   "source": [
    "tprefix = []\n",
    "for i in range(0, tnum):\n",
    "    random.seed(i+1)\n",
    "    tprefix.append(to_track[random.randint(0, len(to_track))])"
   ]
  },
  {
   "cell_type": "code",
   "execution_count": null,
   "metadata": {},
   "outputs": [],
   "source": [
    "tprefix"
   ]
  },
  {
   "cell_type": "code",
   "execution_count": 4,
   "metadata": {},
   "outputs": [],
   "source": [
    "y = np.array([1.5, 833.6, 9.24, 4.5, 3.3, 3.4, 2.85, 2.75, 3.7, 2.45,\n",
    "              2.6, 3.1, 3.25, 2.85, 2.05, 2.9, 5.4, 5.0, 2.7, 530])"
   ]
  },
  {
   "cell_type": "code",
   "execution_count": 9,
   "metadata": {},
   "outputs": [],
   "source": [
    "for name in tprefix:\n",
    "    remote_folder = \"01_18_Experiment/{}\".format(name.split('_')[0])\n",
    "    aws.download_s3(remote_folder+'/'+name+'.tif', name+'.tif')"
   ]
  },
  {
   "cell_type": "code",
   "execution_count": null,
   "metadata": {},
   "outputs": [],
   "source": [
    "descriptors = np.zeros((tnum, 4))\n",
    "counter = 0\n",
    "for name in tprefix:\n",
    "    local_im = name + '.tif'\n",
    "    test_image = sio.imread(local_im)\n",
    "    descriptors[counter, 0] = np.mean(test_image[0, :, :])\n",
    "    descriptors[counter, 1] = np.std(test_image[0, :, :])\n",
    "    descriptors[counter, 2] = np.percentile(test_image[0, :, :], 10)\n",
    "    descriptors[counter, 3] = np.percentile(test_image[0:, :, :], 90)\n",
    "    counter = counter + 1"
   ]
  },
  {
   "cell_type": "code",
   "execution_count": null,
   "metadata": {},
   "outputs": [],
   "source": [
    "X = descriptors\n",
    "\n",
    "classifiers = [\n",
    "    svm.SVR(),\n",
    "    linear_model.SGDRegressor(),\n",
    "    linear_model.BayesianRidge(),\n",
    "    linear_model.LassoLars(),\n",
    "    linear_model.ARDRegression(),\n",
    "    linear_model.PassiveAggressiveRegressor(),\n",
    "    linear_model.TheilSenRegressor(),\n",
    "    linear_model.LinearRegression()]"
   ]
  },
  {
   "cell_type": "code",
   "execution_count": 19,
   "metadata": {},
   "outputs": [],
   "source": [
    "pto_track = to_track[1:5]\n",
    "pX = np.zeros((len(pto_track), 4))\n",
    "counter = 0\n",
    "for name in pto_track:\n",
    "    remote_folder = \"01_18_Experiment/{}\".format(name.split('_')[0])\n",
    "    aws.download_s3(remote_folder+'/'+name+'.tif', name+'.tif')\n",
    "    \n",
    "    local_im = name + '.tif'\n",
    "    test_image = sio.imread(local_im)\n",
    "    pX[counter, 0] = np.mean(test_image[0, :, :])\n",
    "    pX[counter, 1] = np.std(test_image[0, :, :])\n",
    "    pX[counter, 2] = np.percentile(test_image[0, :, :], 10)\n",
    "    pX[counter, 3] = np.percentile(test_image[0:, :, :], 90)\n",
    "    counter = counter + 1"
   ]
  },
  {
   "cell_type": "code",
   "execution_count": null,
   "metadata": {},
   "outputs": [],
   "source": [
    "for item in classifiers:\n",
    "    print(item)\n",
    "    clf = item\n",
    "    clf.fit(X, y)\n",
    "    print(clf.predict(pX), '\\n')"
   ]
  },
  {
   "cell_type": "code",
   "execution_count": 20,
   "metadata": {},
   "outputs": [
    {
     "data": {
      "text/plain": [
       "'P3_S1_R_0000_0_1'"
      ]
     },
     "execution_count": 20,
     "metadata": {},
     "output_type": "execute_result"
    }
   ],
   "source": [
    "pto_track[0]"
   ]
  },
  {
   "cell_type": "code",
   "execution_count": 29,
   "metadata": {},
   "outputs": [],
   "source": [
    "def regress_tracking_params(regress_object, to_track, regmethod='LinearRegression'):\n",
    "    \"\"\"\n",
    "    Uses the regress object from regress_sys to predict tracking\n",
    "    parameters for TrackMate.\n",
    "    \"\"\"\n",
    "    \n",
    "    local_im = to_track + '.tif'\n",
    "    pX = np.zeros((1, 4))\n",
    "    test_image = sio.imread(local_im)\n",
    "    pX[0, 0] = np.mean(test_image[0, :, :])\n",
    "    pX[0, 1] = np.std(test_image[0, :, :])\n",
    "    pX[0, 2] = np.percentile(test_image[0, :, :], 10)\n",
    "    pX[0, 3] = np.percentile(test_image[0:, :, :], 90)\n",
    "    \n",
    "    quality = []\n",
    "    for item in regress_object:\n",
    "        quality.append(item.predict(pX)[0])\n",
    "    \n",
    "    if regmethod == 'SVR':\n",
    "        return quality[0]\n",
    "    elif regmethod == 'SGDRegressor':\n",
    "        return quality[1]\n",
    "    elif regmethod == 'BayesianRidge':\n",
    "        return quality[2]\n",
    "    elif regmethod == 'LassoLars':\n",
    "        return quality[3]\n",
    "    elif regmethod == 'ARDRegression':\n",
    "        return quality[4]\n",
    "    elif regmethod == 'PassiveAggressiveRegressor':\n",
    "        return quality[5]\n",
    "    elif regmethod == 'TheilSenRegressor':\n",
    "        return quality[6]\n",
    "    elif regmethod == 'LinearRegression':\n",
    "        return quality[7]"
   ]
  },
  {
   "cell_type": "code",
   "execution_count": 30,
   "metadata": {},
   "outputs": [
    {
     "data": {
      "text/plain": [
       "1.7388826406802635"
      ]
     },
     "execution_count": 30,
     "metadata": {},
     "output_type": "execute_result"
    }
   ],
   "source": [
    "regress_tracking_params(regress, pto_track[0], regmethod='PassiveAggressiveRegressor')"
   ]
  },
  {
   "cell_type": "code",
   "execution_count": 13,
   "metadata": {},
   "outputs": [],
   "source": [
    "def regress_sys(all_videos, y, training_size, have_output=True):\n",
    "    \"\"\"\n",
    "    Uses regression techniques to select the best tracking parameters.\n",
    "    Regression again intensities of input images.\n",
    "    \"\"\"\n",
    "\n",
    "    tprefix = []\n",
    "    for i in range(0, tnum):\n",
    "        random.seed(i+1)\n",
    "        tprefix.append(all_videos[random.randint(0, len(all_videos))])\n",
    "        if have_output is False:\n",
    "            print(\"Get parameters for: {}\".format(tprefix[i]))\n",
    "\n",
    "    if have_output is True:\n",
    "        # Define descriptors\n",
    "        descriptors = np.zeros((tnum, 4))\n",
    "        counter = 0\n",
    "        for name in tprefix:\n",
    "            local_im = name + '.tif'\n",
    "            test_image = sio.imread(local_im)\n",
    "            descriptors[counter, 0] = np.mean(test_image[0, :, :])\n",
    "            descriptors[counter, 1] = np.std(test_image[0, :, :])\n",
    "            descriptors[counter, 2] = np.percentile(test_image[0, :, :], 10)\n",
    "            descriptors[counter, 3] = np.percentile(test_image[0:, :, :], 90)\n",
    "            counter = counter + 1\n",
    "\n",
    "        # Define regression techniques\n",
    "        X = descriptors\n",
    "        classifiers = [\n",
    "            svm.SVR(),\n",
    "            linear_model.SGDRegressor(),\n",
    "            linear_model.BayesianRidge(),\n",
    "            linear_model.LassoLars(),\n",
    "            linear_model.ARDRegression(),\n",
    "            linear_model.PassiveAggressiveRegressor(),\n",
    "            linear_model.TheilSenRegressor(),\n",
    "            linear_model.LinearRegression()]\n",
    "\n",
    "        regress_object = []\n",
    "        for item in classifiers:\n",
    "            clf = item\n",
    "            regress_object.append(clf.fit(X, y))\n",
    "        \n",
    "        return regress_object"
   ]
  },
  {
   "cell_type": "code",
   "execution_count": 14,
   "metadata": {},
   "outputs": [
    {
     "name": "stderr",
     "output_type": "stream",
     "text": [
      "/home/ubuntu/miniconda3/lib/python3.6/site-packages/sklearn/linear_model/stochastic_gradient.py:128: FutureWarning: max_iter and tol parameters have been added in <class 'sklearn.linear_model.stochastic_gradient.SGDRegressor'> in 0.19. If both are left unset, they default to max_iter=5 and tol=None. If tol is not None, max_iter defaults to max_iter=1000. From 0.21, default max_iter will be 1000, and default tol will be 1e-3.\n",
      "  \"and default tol will be 1e-3.\" % type(self), FutureWarning)\n",
      "/home/ubuntu/miniconda3/lib/python3.6/site-packages/sklearn/linear_model/stochastic_gradient.py:128: FutureWarning: max_iter and tol parameters have been added in <class 'sklearn.linear_model.passive_aggressive.PassiveAggressiveRegressor'> in 0.19. If both are left unset, they default to max_iter=5 and tol=None. If tol is not None, max_iter defaults to max_iter=1000. From 0.21, default max_iter will be 1000, and default tol will be 1e-3.\n",
      "  \"and default tol will be 1e-3.\" % type(self), FutureWarning)\n"
     ]
    }
   ],
   "source": [
    "regress = regress_tracking_params(to_track, y, tnum)"
   ]
  },
  {
   "cell_type": "code",
   "execution_count": 12,
   "metadata": {},
   "outputs": [],
   "source": [
    "local_im = tprefix[0]+'.tif'\n",
    "test_image = sio.imread(local_im)"
   ]
  },
  {
   "cell_type": "code",
   "execution_count": 26,
   "metadata": {},
   "outputs": [
    {
     "data": {
      "text/plain": [
       "[SVR(C=1.0, cache_size=200, coef0=0.0, degree=3, epsilon=0.1, gamma='auto',\n",
       "   kernel='rbf', max_iter=-1, shrinking=True, tol=0.001, verbose=False),\n",
       " SGDRegressor(alpha=0.0001, average=False, epsilon=0.1, eta0=0.01,\n",
       "        fit_intercept=True, l1_ratio=0.15, learning_rate='invscaling',\n",
       "        loss='squared_loss', max_iter=None, n_iter=None, penalty='l2',\n",
       "        power_t=0.25, random_state=None, shuffle=True, tol=None, verbose=0,\n",
       "        warm_start=False),\n",
       " BayesianRidge(alpha_1=1e-06, alpha_2=1e-06, compute_score=False, copy_X=True,\n",
       "        fit_intercept=True, lambda_1=1e-06, lambda_2=1e-06, n_iter=300,\n",
       "        normalize=False, tol=0.001, verbose=False),\n",
       " LassoLars(alpha=1.0, copy_X=True, eps=2.220446049250313e-16,\n",
       "      fit_intercept=True, fit_path=True, max_iter=500, normalize=True,\n",
       "      positive=False, precompute='auto', verbose=False),\n",
       " ARDRegression(alpha_1=1e-06, alpha_2=1e-06, compute_score=False, copy_X=True,\n",
       "        fit_intercept=True, lambda_1=1e-06, lambda_2=1e-06, n_iter=300,\n",
       "        normalize=False, threshold_lambda=10000.0, tol=0.001, verbose=False),\n",
       " PassiveAggressiveRegressor(C=1.0, average=False, epsilon=0.1,\n",
       "               fit_intercept=True, loss='epsilon_insensitive',\n",
       "               max_iter=None, n_iter=None, random_state=None, shuffle=True,\n",
       "               tol=None, verbose=0, warm_start=False),\n",
       " TheilSenRegressor(copy_X=True, fit_intercept=True, max_iter=300,\n",
       "          max_subpopulation=10000, n_jobs=1, n_subsamples=None,\n",
       "          random_state=None, tol=0.001, verbose=False),\n",
       " LinearRegression(copy_X=True, fit_intercept=True, n_jobs=1, normalize=False)]"
      ]
     },
     "execution_count": 26,
     "metadata": {},
     "output_type": "execute_result"
    }
   ],
   "source": [
    "regress"
   ]
  },
  {
   "cell_type": "code",
   "execution_count": null,
   "metadata": {},
   "outputs": [],
   "source": []
  }
 ],
 "metadata": {
  "kernelspec": {
   "display_name": "Python 3",
   "language": "python",
   "name": "python3"
  },
  "language_info": {
   "codemirror_mode": {
    "name": "ipython",
    "version": 3
   },
   "file_extension": ".py",
   "mimetype": "text/x-python",
   "name": "python",
   "nbconvert_exporter": "python",
   "pygments_lexer": "ipython3",
   "version": "3.6.3"
  }
 },
 "nbformat": 4,
 "nbformat_minor": 1
}
