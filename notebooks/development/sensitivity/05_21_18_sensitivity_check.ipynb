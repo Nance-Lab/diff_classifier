{
 "cells": [
  {
   "cell_type": "code",
   "execution_count": 6,
   "metadata": {},
   "outputs": [],
   "source": [
    "import pandas as pd\n",
    "import numpy as np\n",
    "import scipy.stats as stats"
   ]
  },
  {
   "cell_type": "code",
   "execution_count": 4,
   "metadata": {},
   "outputs": [],
   "source": [
    "outputs = pd.read_csv('../../sensitivity/sensitivity_analysis.csv', delimiter=',', index_col='Unnamed: 0')"
   ]
  },
  {
   "cell_type": "code",
   "execution_count": 22,
   "metadata": {},
   "outputs": [
    {
     "name": "stdout",
     "output_type": "stream",
     "text": [
      "2210.698216735254 +/- 1958.3219446679377, or 88.58386594077847\n"
     ]
    }
   ],
   "source": [
    "mu = np.mean(outputs['particles'])\n",
    "std = np.std(outputs['particles'])\n",
    "100*(std/mu)\n",
    "print('{} +/- {}, or {}'.format(mu, std, 100*(std/mu)))"
   ]
  },
  {
   "cell_type": "code",
   "execution_count": 23,
   "metadata": {},
   "outputs": [
    {
     "name": "stdout",
     "output_type": "stream",
     "text": [
      "5.972384564507423 +/- 0.4548174821406041, or 7.615341531144612\n"
     ]
    }
   ],
   "source": [
    "mu = np.mean(np.exp(outputs['MSD']))\n",
    "std = np.std(np.exp(outputs['MSD']))\n",
    "100*(std/mu)\n",
    "print('{} +/- {}, or {}'.format(mu, std, 100*(std/mu)))"
   ]
  },
  {
   "cell_type": "code",
   "execution_count": 9,
   "metadata": {},
   "outputs": [
    {
     "data": {
      "text/html": [
       "<div>\n",
       "<style scoped>\n",
       "    .dataframe tbody tr th:only-of-type {\n",
       "        vertical-align: middle;\n",
       "    }\n",
       "\n",
       "    .dataframe tbody tr th {\n",
       "        vertical-align: top;\n",
       "    }\n",
       "\n",
       "    .dataframe thead th {\n",
       "        text-align: right;\n",
       "    }\n",
       "</style>\n",
       "<table border=\"1\" class=\"dataframe\">\n",
       "  <thead>\n",
       "    <tr style=\"text-align: right;\">\n",
       "      <th></th>\n",
       "      <th>radius</th>\n",
       "      <th>mean filter</th>\n",
       "      <th>quality</th>\n",
       "      <th>linking max D</th>\n",
       "      <th>gap closing max D</th>\n",
       "      <th>max frame gap</th>\n",
       "      <th>track displacement</th>\n",
       "      <th>MSD</th>\n",
       "      <th>particles</th>\n",
       "    </tr>\n",
       "  </thead>\n",
       "  <tbody>\n",
       "    <tr>\n",
       "      <th>607</th>\n",
       "      <td>6.0</td>\n",
       "      <td>1.0</td>\n",
       "      <td>4.5</td>\n",
       "      <td>10.0</td>\n",
       "      <td>10.0</td>\n",
       "      <td>2.0</td>\n",
       "      <td>10.0</td>\n",
       "      <td>1.792218</td>\n",
       "      <td>1266.0</td>\n",
       "    </tr>\n",
       "  </tbody>\n",
       "</table>\n",
       "</div>"
      ],
      "text/plain": [
       "     radius  mean filter  quality  linking max D  gap closing max D  \\\n",
       "607     6.0          1.0      4.5           10.0               10.0   \n",
       "\n",
       "     max frame gap  track displacement       MSD  particles  \n",
       "607            2.0                10.0  1.792218     1266.0  "
      ]
     },
     "execution_count": 9,
     "metadata": {},
     "output_type": "execute_result"
    }
   ],
   "source": [
    "np.exp(outputs[(outputs['radius']==6.0) &\n",
    "     (outputs['mean filter']==1.0) &\n",
    "     (outputs['quality']==4.5) &\n",
    "     (outputs['linking max D']==10.0) &\n",
    "     (outputs['gap closing max D']==10.0) &\n",
    "     (outputs['max frame gap']==2.0) &\n",
    "     (outputs['track displacement']==10.0)]['MSD'])"
   ]
  },
  {
   "cell_type": "code",
   "execution_count": 24,
   "metadata": {},
   "outputs": [
    {
     "data": {
      "text/plain": [
       "607    6.002751\n",
       "Name: MSD, dtype: float64"
      ]
     },
     "execution_count": 24,
     "metadata": {},
     "output_type": "execute_result"
    }
   ],
   "source": [
    "np.exp(outputs[(outputs['radius']==6.0) &\n",
    "     (outputs['mean filter']==1.0) &\n",
    "     (outputs['quality']==4.5) &\n",
    "     (outputs['linking max D']==10.0) &\n",
    "     (outputs['gap closing max D']==10.0) &\n",
    "     (outputs['max frame gap']==2.0) &\n",
    "     (outputs['track displacement']==10.0)]['MSD'])"
   ]
  },
  {
   "cell_type": "code",
   "execution_count": null,
   "metadata": {},
   "outputs": [],
   "source": []
  }
 ],
 "metadata": {
  "kernelspec": {
   "display_name": "Python 3",
   "language": "python",
   "name": "python3"
  },
  "language_info": {
   "codemirror_mode": {
    "name": "ipython",
    "version": 3
   },
   "file_extension": ".py",
   "mimetype": "text/x-python",
   "name": "python",
   "nbconvert_exporter": "python",
   "pygments_lexer": "ipython3",
   "version": "3.6.3"
  }
 },
 "nbformat": 4,
 "nbformat_minor": 2
}
