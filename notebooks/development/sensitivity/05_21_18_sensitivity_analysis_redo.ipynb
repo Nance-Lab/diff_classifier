{
 "cells": [
  {
   "cell_type": "code",
   "execution_count": 1,
   "metadata": {},
   "outputs": [],
   "source": [
    "import matplotlib as mpl\n",
    "import matplotlib.pyplot as plt\n",
    "import diff_classifier.aws as aws\n",
    "import diff_classifier.utils as ut\n",
    "import diff_classifier.msd as msd\n",
    "import diff_classifier.features as ft\n",
    "import diff_classifier.imagej as ij\n",
    "import diff_classifier.heatmaps as hm\n",
    "\n",
    "import scipy.stats as stats\n",
    "import os\n",
    "import os.path as op\n",
    "import numpy as np\n",
    "import numpy.ma as ma\n",
    "import pandas as pd\n",
    "import itertools"
   ]
  },
  {
   "cell_type": "code",
   "execution_count": 2,
   "metadata": {},
   "outputs": [],
   "source": [
    "radius = [4.5, 6.0, 7.0]\n",
    "do_median_filtering = [True, False]\n",
    "quality = [1.5, 4.5, 8.5]\n",
    "linking_max_distance = [6.0, 10.0, 15.0]\n",
    "gap_closing_max_distance = [6.0, 10.0, 15.0]\n",
    "max_frame_gap = [1, 2, 5]\n",
    "track_displacement = [0.0, 10.0, 20.0]\n",
    "\n",
    "sweep = [radius, do_median_filtering, quality, linking_max_distance, gap_closing_max_distance, max_frame_gap,\n",
    "         track_displacement]\n",
    "all_params = list(itertools.product(*sweep))"
   ]
  },
  {
   "cell_type": "code",
   "execution_count": 3,
   "metadata": {},
   "outputs": [],
   "source": [
    "pd_outputs = pd.read_csv('../../sensitivity/sensitivity_analysis.csv', delimiter=',', index_col='Unnamed: 0')"
   ]
  },
  {
   "cell_type": "markdown",
   "metadata": {},
   "source": [
    "# Parameter Analysis"
   ]
  },
  {
   "cell_type": "code",
   "execution_count": 4,
   "metadata": {},
   "outputs": [
    {
     "data": {
      "text/html": [
       "<div>\n",
       "<style scoped>\n",
       "    .dataframe tbody tr th:only-of-type {\n",
       "        vertical-align: middle;\n",
       "    }\n",
       "\n",
       "    .dataframe tbody tr th {\n",
       "        vertical-align: top;\n",
       "    }\n",
       "\n",
       "    .dataframe thead th {\n",
       "        text-align: right;\n",
       "    }\n",
       "</style>\n",
       "<table border=\"1\" class=\"dataframe\">\n",
       "  <thead>\n",
       "    <tr style=\"text-align: right;\">\n",
       "      <th></th>\n",
       "      <th>radius</th>\n",
       "      <th>mean filter</th>\n",
       "      <th>quality</th>\n",
       "      <th>linking max D</th>\n",
       "      <th>gap closing max D</th>\n",
       "      <th>max frame gap</th>\n",
       "      <th>track displacement</th>\n",
       "      <th>MSD</th>\n",
       "      <th>particles</th>\n",
       "    </tr>\n",
       "  </thead>\n",
       "  <tbody>\n",
       "    <tr>\n",
       "      <th>121</th>\n",
       "      <td>4.5</td>\n",
       "      <td>1.0</td>\n",
       "      <td>4.5</td>\n",
       "      <td>10.0</td>\n",
       "      <td>10.0</td>\n",
       "      <td>2.0</td>\n",
       "      <td>10.0</td>\n",
       "      <td>1.810576</td>\n",
       "      <td>1577.0</td>\n",
       "    </tr>\n",
       "  </tbody>\n",
       "</table>\n",
       "</div>"
      ],
      "text/plain": [
       "     radius  mean filter  quality  linking max D  gap closing max D  \\\n",
       "121     4.5          1.0      4.5           10.0               10.0   \n",
       "\n",
       "     max frame gap  track displacement       MSD  particles  \n",
       "121            2.0                10.0  1.810576     1577.0  "
      ]
     },
     "execution_count": 4,
     "metadata": {},
     "output_type": "execute_result"
    }
   ],
   "source": [
    "pd_outputs[(pd_outputs['radius']==4.5) &\n",
    "     (pd_outputs['mean filter']==1.0) &\n",
    "     (pd_outputs['quality']==4.5) &\n",
    "     (pd_outputs['linking max D']==10.0) &\n",
    "     (pd_outputs['gap closing max D']==10.0) &\n",
    "     (pd_outputs['max frame gap']==2.0) &\n",
    "     (pd_outputs['track displacement']==10.0)]"
   ]
  },
  {
   "cell_type": "code",
   "execution_count": 27,
   "metadata": {},
   "outputs": [],
   "source": [
    "#Change in radius\n",
    "counter = 0\n",
    "dN = []\n",
    "dMSD = []\n",
    "for gapD in gap_closing_max_distance:\n",
    "    for gap in max_frame_gap:\n",
    "        for link in linking_max_distance:\n",
    "            for qua in quality:\n",
    "                for rad in radius:\n",
    "                    for filt in do_median_filtering:\n",
    "                    #for disp in track_displacement:\n",
    "                        currentMSD = pd_outputs[(pd_outputs['radius']==rad) &\n",
    "                                         (pd_outputs['mean filter']==filt) &\n",
    "                                         (pd_outputs['quality']==qua) & \n",
    "                                         (pd_outputs['linking max D']==link) & \n",
    "                                         (pd_outputs['gap closing max D']==gapD) & \n",
    "                                         (pd_outputs['max frame gap']==gap)]['MSD'].as_matrix()\n",
    "                                         #(pd_outputs['track displacement']==disp)]['MSD'].as_matrix()\n",
    "                        dMSD.append((np.exp(currentMSD[-1]) - np.exp(currentMSD[0]))/\n",
    "                                    (track_displacement[-1]-track_displacement[0]))\n",
    "                        \n",
    "                        currentN = pd_outputs[(pd_outputs['radius']==rad) &\n",
    "                                         (pd_outputs['mean filter']==filt) &\n",
    "                                         (pd_outputs['quality']==qua) & \n",
    "                                         (pd_outputs['linking max D']==link) & \n",
    "                                         (pd_outputs['gap closing max D']==gapD) & \n",
    "                                         (pd_outputs['max frame gap']==gap)]['particles'].as_matrix()\n",
    "                                         #(pd_outputs['track displacement']==disp)]['particles'].as_matrix()\n",
    "                        dN.append((currentN[-1] - currentN[0])/\n",
    "                                  (track_displacement[-1]-track_displacement[0]))\n",
    "                        \n",
    "                        counter = counter + 1\n",
    "\n",
    "#np.asarray(dMSD)"
   ]
  },
  {
   "cell_type": "code",
   "execution_count": 28,
   "metadata": {},
   "outputs": [
    {
     "name": "stdout",
     "output_type": "stream",
     "text": [
      "Mean dMSD is -1.3633173410232767e-06 +/- 3.4782707627764847e-06\n",
      "Mean dN is -143.073353909465 +/- 4.9956501622941145\n"
     ]
    }
   ],
   "source": [
    "print('Mean dMSD is {} +/- {}'.format(np.mean(dMSD), stats.sem(dMSD)))\n",
    "print('Mean dN is {} +/- {}'.format(np.mean(dN), stats.sem(dN)))"
   ]
  },
  {
   "cell_type": "code",
   "execution_count": null,
   "metadata": {},
   "outputs": [],
   "source": [
    "pd_outputs[(pd_outputs['radius']==rad) &\n",
    "                                        \n",
    "                                         (pd_outputs['quality']==qua) & \n",
    "                                         (pd_outputs['linking max D']==link) & \n",
    "                                         (pd_outputs['gap closing max D']==gapD) & \n",
    "                                         (pd_outputs['max frame gap']==gap) &\n",
    "                                         (pd_outputs['track displacement']==disp)]['MSD']"
   ]
  },
  {
   "cell_type": "code",
   "execution_count": 29,
   "metadata": {},
   "outputs": [],
   "source": [
    "index=['radius', 'quality', 'linking', 'gap D', 'f gap', 'disp', 'filt']\n",
    "sensitivity = {'Mean': np.array([-0.138288, -0.123315, 0.01131, 0.001849, 0.067573, 0.0000, 0.0990622]),\n",
    "               'SEM': np.array([0.0043896, 0.0019237, 0.000901, 0.0008566, 0.002759, 0.00000, 0.0074249])}\n",
    "df = pd.DataFrame(data=sensitivity, index=index)"
   ]
  },
  {
   "cell_type": "code",
   "execution_count": 36,
   "metadata": {},
   "outputs": [],
   "source": [
    "index=['radius', 'quality', 'linking', 'gap D', 'f gap', 'disp', 'filt']\n",
    "sensitivity = {'Mean': np.array([-498.76, -271.892, -6.24, -18.88, -171.39, -143.07, -0.017437]),\n",
    "               'SEM': np.array([33.80, 13.963, 1.54, 2.27, 14.19, 5.00, 0.0012713])}\n",
    "df = pd.DataFrame(data=sensitivity, index=index)"
   ]
  },
  {
   "cell_type": "code",
   "execution_count": 37,
   "metadata": {},
   "outputs": [
    {
     "data": {
      "image/png": "[encoded data removed]",
      "text/plain": [
       "<Figure size 432x432 with 1 Axes>"
      ]
     },
     "metadata": {},
     "output_type": "display_data"
    }
   ],
   "source": [
    "width = 0.7\n",
    "ra = 600\n",
    "fig = plt.figure(figsize=(6, 6))\n",
    "p1 = plt.bar(index, df['Mean'], width=width, yerr=df['SEM'], capsize=8, error_kw={'elinewidth':3, 'capthick':3})\n",
    "\n",
    "plt.axhline(y=0, color='k')\n",
    "plt.ylim(-ra, ra)\n",
    "plt.savefig('parameter_sensitivity_part.png', bbox_inches='tight')"
   ]
  },
  {
   "cell_type": "code",
   "execution_count": null,
   "metadata": {},
   "outputs": [],
   "source": [
    "aws.upload_s3('parameter_sensitivity.png', '{}/parameter_sensitivity.png'.format(s_folder))"
   ]
  },
  {
   "cell_type": "code",
   "execution_count": null,
   "metadata": {},
   "outputs": [],
   "source": [
    "frames = 651\n",
    "fps = 100.02\n",
    "t = np.linspace(0, frames-1, frames)/fps\n",
    "\n",
    "fig = plt.figure(figsize=(10, 10))\n",
    "for counter in range(0, len(all_params)):\n",
    "    try:\n",
    "        geo_file = 'geomean_{}_{}.csv'.format(name.split('.')[0], counter)\n",
    "        aws.download_s3('{}/{}'.format(s_folder, geo_file), geo_file)\n",
    "        gmean1 = np.genfromtxt(geo_file)\n",
    "        os.remove(geo_file)\n",
    "        \n",
    "        plt.plot(t, np.exp(gmean1), 'k', linewidth=2, alpha=0.05)\n",
    "    except:\n",
    "        params = all_params[counter]\n",
    "        print(\"Missing data {}\".format(params))\n",
    "\n",
    "plt.xlim(0, 1)\n",
    "plt.ylim(0, 20)\n",
    "plt.xlabel('Tau (s)', fontsize=25)\n",
    "plt.ylabel(r'Mean Squared Displacement ($\\mu$m$^2$/s)', fontsize=25)\n",
    "plt.savefig('MSD_sweep.png', bbox_inches='tight')\n",
    "aws.upload_s3('MSD_sweep.png', '{}/MSD_sweep.png'.format(s_folder))"
   ]
  },
  {
   "cell_type": "code",
   "execution_count": null,
   "metadata": {},
   "outputs": [],
   "source": []
  }
 ],
 "metadata": {
  "kernelspec": {
   "display_name": "Python 3",
   "language": "python",
   "name": "python3"
  },
  "language_info": {
   "codemirror_mode": {
    "name": "ipython",
    "version": 3
   },
   "file_extension": ".py",
   "mimetype": "text/x-python",
   "name": "python",
   "nbconvert_exporter": "python",
   "pygments_lexer": "ipython3",
   "version": "3.6.3"
  }
 },
 "nbformat": 4,
 "nbformat_minor": 2
}
