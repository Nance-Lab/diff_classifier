{
 "cells": [
  {
   "cell_type": "code",
   "execution_count": 1,
   "metadata": {},
   "outputs": [],
   "source": [
    "import matplotlib as mpl\n",
    "import matplotlib.pyplot as plt\n",
    "import diff_classifier.aws as aws\n",
    "import diff_classifier.utils as ut\n",
    "import diff_classifier.msd as msd\n",
    "import diff_classifier.features as ft\n",
    "import diff_classifier.imagej as ij\n",
    "import diff_classifier.heatmaps as hm\n",
    "\n",
    "from scipy.spatial import Voronoi\n",
    "import scipy.stats as stats\n",
    "from shapely.geometry import Point\n",
    "from shapely.geometry.polygon import Polygon\n",
    "import matplotlib.cm as cm\n",
    "import os\n",
    "import os.path as op\n",
    "import numpy as np\n",
    "import numpy.ma as ma\n",
    "import pandas as pd\n",
    "import boto3\n",
    "import itertools"
   ]
  },
  {
   "cell_type": "code",
   "execution_count": 2,
   "metadata": {},
   "outputs": [],
   "source": [
    "radius = [4.5, 6.0, 7.0]\n",
    "do_median_filtering = [True, False]\n",
    "quality = [1.5, 4.5, 8.5]\n",
    "linking_max_distance = [6.0, 10.0, 15.0]\n",
    "gap_closing_max_distance = [6.0, 10.0, 15.0]\n",
    "max_frame_gap = [1, 2, 5]\n",
    "track_displacement = [0.0, 10.0, 20.0]\n",
    "\n",
    "sweep = [radius, do_median_filtering, quality, linking_max_distance, gap_closing_max_distance, max_frame_gap,\n",
    "         track_displacement]\n",
    "all_params = list(itertools.product(*sweep))"
   ]
  },
  {
   "cell_type": "code",
   "execution_count": null,
   "metadata": {},
   "outputs": [],
   "source": [
    "local_folder = '.'\n",
    "prefix = \"P1_S1_R_0001_2_2\"\n",
    "name = \"{}.tif\".format(prefix)\n",
    "local_im = op.join(local_folder, name)\n",
    "\n",
    "outputs = np.zeros((len(all_params), len(all_params[0])+2))"
   ]
  },
  {
   "cell_type": "code",
   "execution_count": null,
   "metadata": {},
   "outputs": [],
   "source": [
    "counter = 50\n",
    "for i in range(50, len(all_params)):\n",
    "    params = all_params[i]\n",
    "    outfile = 'Traj_{}_{}.csv'.format(name.split('.')[0], counter)\n",
    "    msd_file = 'msd_{}_{}.csv'.format(name.split('.')[0], counter)\n",
    "    iter_name = \"{}_{}\".format(prefix, counter)\n",
    "\n",
    "    ij.track(local_im, outfile, template=None, fiji_bin=None, radius=params[0], threshold=0., \n",
    "             do_median_filtering=params[1], quality=params[2], x=511, y=511, ylo=1, median_intensity=300.0, snr=0.0, \n",
    "             linking_max_distance=params[3], gap_closing_max_distance=params[4], max_frame_gap=params[5],\n",
    "             track_displacement=params[6])\n",
    "\n",
    "    traj = ut.csv_to_pd(outfile)\n",
    "    msds = msd.all_msds2(traj, frames=651)\n",
    "    msds.to_csv(msd_file)\n",
    "    gmean1, gSEM1 = hm.plot_individual_msds(iter_name, alpha=0.05)\n",
    "    print('Successful parameter calculations for {}'.format(iter_name))\n",
    "    \n",
    "    outputs[counter, 0:len(params)] = params\n",
    "    outputs[counter, len(params)] = gmean1[100]\n",
    "    outputs[counter, len(params)+1] = max(msds['Track_ID'])\n",
    "    np.savetxt(\"sensitivity_sweep.csv\", outputs, delimiter=\",\")\n",
    "    counter = counter+1\n",
    "    plt.close('all')"
   ]
  },
  {
   "cell_type": "code",
   "execution_count": 3,
   "metadata": {},
   "outputs": [],
   "source": [
    "s3 = boto3.client('s3')\n",
    "\n",
    "folder = '01_18_Experiment'\n",
    "s_folder = '{}/sensitivity'.format(folder)\n",
    "local_folder = '.'\n",
    "prefix = \"P1_S1_R_0001_2_2\"\n",
    "name = \"{}.tif\".format(prefix)\n",
    "local_im = op.join(local_folder, name)\n",
    "outputs = np.zeros((len(all_params), len(all_params[0])+2))"
   ]
  },
  {
   "cell_type": "code",
   "execution_count": null,
   "metadata": {},
   "outputs": [],
   "source": [
    "for counter in range(0, len(all_params)):\n",
    "    try:\n",
    "        params = all_params[counter]\n",
    "        msd_file = 'msd_{}_{}.csv'.format(name.split('.')[0], counter)\n",
    "        geo_file = 'geomean_{}_{}.csv'.format(name.split('.')[0], counter)\n",
    "        geoS_file = 'geoSEM_{}_{}.csv'.format(name.split('.')[0], counter)\n",
    "        msd_image = 'msds_{}_{}.png'.format(name.split('.')[0], counter)\n",
    "        iter_name = \"{}_{}\".format(prefix, counter)\n",
    "\n",
    "        aws.download_s3('{}/{}'.format(s_folder, msd_file), msd_file)\n",
    "        aws.download_s3('{}/{}'.format(s_folder, geo_file), geo_file)\n",
    "\n",
    "        msd = pd.read_csv(msd_file, index_col='Unnamed: 0')\n",
    "        gmean1 = np.genfromtxt(geo_file)\n",
    "\n",
    "        outputs[counter, 0:len(params)] = params\n",
    "        outputs[counter, len(params)] = gmean1[100]\n",
    "        outputs[counter, len(params)+1] = max(msd['Track_ID'])\n",
    "        \n",
    "        os.remove(msd_file)\n",
    "        os.remove(geo_file)\n",
    "    except:\n",
    "        params = all_params[counter]\n",
    "        print(\"Missing data ata {}\".format(params))"
   ]
  },
  {
   "cell_type": "code",
   "execution_count": null,
   "metadata": {},
   "outputs": [],
   "source": [
    "pd_outputs = pd.DataFrame(data=outputs,\n",
    "             columns=['radius', 'mean filter', 'quality', 'linking max D', 'gap closing max D', 'max frame gap',\n",
    "                      'track displacement', 'MSD', 'particles'])"
   ]
  },
  {
   "cell_type": "code",
   "execution_count": null,
   "metadata": {},
   "outputs": [],
   "source": [
    "pd_outputs.to_csv('sensitivity_analysis.csv', sep=\",\")"
   ]
  },
  {
   "cell_type": "code",
   "execution_count": null,
   "metadata": {},
   "outputs": [],
   "source": [
    "pd_outputs[(pd_outputs['radius']==4.5) &\n",
    "           (pd_outputs['mean filter']==1.0) &\n",
    "           (pd_outputs['quality']==4.5) &\n",
    "           (pd_outputs['linking max D']==10.0) &\n",
    "           (pd_outputs['gap closing max D']==10.0) &\n",
    "           (pd_outputs['max frame gap']==2.0)]"
   ]
  },
  {
   "cell_type": "code",
   "execution_count": null,
   "metadata": {},
   "outputs": [],
   "source": [
    "pd_outputs[(pd_outputs['particles']>12000)]"
   ]
  },
  {
   "cell_type": "code",
   "execution_count": 8,
   "metadata": {},
   "outputs": [],
   "source": [
    "pd_outputs = pd.read_csv('sensitivity_analysis.csv', index_col='Unnamed: 0')"
   ]
  },
  {
   "cell_type": "code",
   "execution_count": 4,
   "metadata": {},
   "outputs": [],
   "source": [
    "aws.upload_s3('sensitivity_analysis.csv', '{}/sensitivity_analysis.csv'.format(s_folder))"
   ]
  },
  {
   "cell_type": "markdown",
   "metadata": {},
   "source": [
    "# Parameter Analysis"
   ]
  },
  {
   "cell_type": "code",
   "execution_count": 17,
   "metadata": {},
   "outputs": [
    {
     "data": {
      "text/html": [
       "<div>\n",
       "<style scoped>\n",
       "    .dataframe tbody tr th:only-of-type {\n",
       "        vertical-align: middle;\n",
       "    }\n",
       "\n",
       "    .dataframe tbody tr th {\n",
       "        vertical-align: top;\n",
       "    }\n",
       "\n",
       "    .dataframe thead th {\n",
       "        text-align: right;\n",
       "    }\n",
       "</style>\n",
       "<table border=\"1\" class=\"dataframe\">\n",
       "  <thead>\n",
       "    <tr style=\"text-align: right;\">\n",
       "      <th></th>\n",
       "      <th>radius</th>\n",
       "      <th>mean filter</th>\n",
       "      <th>quality</th>\n",
       "      <th>linking max D</th>\n",
       "      <th>gap closing max D</th>\n",
       "      <th>max frame gap</th>\n",
       "      <th>track displacement</th>\n",
       "      <th>MSD</th>\n",
       "      <th>particles</th>\n",
       "    </tr>\n",
       "  </thead>\n",
       "  <tbody>\n",
       "    <tr>\n",
       "      <th>121</th>\n",
       "      <td>4.5</td>\n",
       "      <td>1.0</td>\n",
       "      <td>4.5</td>\n",
       "      <td>10.0</td>\n",
       "      <td>10.0</td>\n",
       "      <td>2.0</td>\n",
       "      <td>10.0</td>\n",
       "      <td>1.810576</td>\n",
       "      <td>1577.0</td>\n",
       "    </tr>\n",
       "    <tr>\n",
       "      <th>364</th>\n",
       "      <td>4.5</td>\n",
       "      <td>0.0</td>\n",
       "      <td>4.5</td>\n",
       "      <td>10.0</td>\n",
       "      <td>10.0</td>\n",
       "      <td>2.0</td>\n",
       "      <td>10.0</td>\n",
       "      <td>1.851832</td>\n",
       "      <td>1602.0</td>\n",
       "    </tr>\n",
       "  </tbody>\n",
       "</table>\n",
       "</div>"
      ],
      "text/plain": [
       "     radius  mean filter  quality  linking max D  gap closing max D  \\\n",
       "121     4.5          1.0      4.5           10.0               10.0   \n",
       "364     4.5          0.0      4.5           10.0               10.0   \n",
       "\n",
       "     max frame gap  track displacement       MSD  particles  \n",
       "121            2.0                10.0  1.810576     1577.0  \n",
       "364            2.0                10.0  1.851832     1602.0  "
      ]
     },
     "execution_count": 17,
     "metadata": {},
     "output_type": "execute_result"
    }
   ],
   "source": [
    "pd_outputs[(pd_outputs['radius']==4.5) &\n",
    "     (pd_outputs['mean filter']==1.0) &\n",
    "     (pd_outputs['quality']==4.5) &\n",
    "     (pd_outputs['linking max D']==10.0) &\n",
    "     (pd_outputs['gap closing max D']==10.0) &\n",
    "     (pd_outputs['max frame gap']==2.0) &\n",
    "     (pd_outputs['track displacement']==10.0)]"
   ]
  },
  {
   "cell_type": "code",
   "execution_count": 59,
   "metadata": {},
   "outputs": [
    {
     "name": "stdout",
     "output_type": "stream",
     "text": [
      "Mean dMSD is 0.01743665245360274 +/- 0.0012712658645167953\n"
     ]
    }
   ],
   "source": [
    "#Change in radius\n",
    "counter = 0\n",
    "dN = []\n",
    "dMSD = []\n",
    "for gapD in gap_closing_max_distance:\n",
    "    for gap in max_frame_gap:\n",
    "        for link in linking_max_distance:\n",
    "            for qua in quality:\n",
    "                for rad in radius:\n",
    "                    for disp in track_displacement:\n",
    "                        currentMSD = pd_outputs[(pd_outputs['radius']==rad) &\n",
    "                                        \n",
    "                                         (pd_outputs['quality']==qua) & \n",
    "                                         (pd_outputs['linking max D']==link) & \n",
    "                                         (pd_outputs['gap closing max D']==gapD) & \n",
    "                                         (pd_outputs['max frame gap']==gap) &\n",
    "                                         (pd_outputs['track displacement']==disp)]['MSD'].as_matrix()\n",
    "                        dMSD.append((currentMSD[1] - currentMSD[0]))\n",
    "                        \n",
    "                        currentN = pd_outputs[(pd_outputs['radius']==rad) &\n",
    "                                         \n",
    "                                         (pd_outputs['quality']==qua) & \n",
    "                                         (pd_outputs['linking max D']==link) & \n",
    "                                         (pd_outputs['gap closing max D']==gapD) & \n",
    "                                         (pd_outputs['max frame gap']==gap) &\n",
    "                                         (pd_outputs['track displacement']==disp)]['particles'].as_matrix()\n",
    "                        dN.append((currentMSD[1] - currentMSD[0]))\n",
    "                        \n",
    "                        counter = counter + 1\n",
    "\n",
    "np.asarray(dMSD)\n",
    "print('Mean dMSD is {} +/- {}'.format(np.mean(dMSD), stats.sem(dMSD)))"
   ]
  },
  {
   "cell_type": "code",
   "execution_count": 5,
   "metadata": {},
   "outputs": [],
   "source": [
    "index=['radius', 'quality', 'linking', 'gap D', 'f gap', 'disp', 'filt']\n",
    "sensitivity = {'Mean': np.array([-0.0240501, -0.059174, 0.0066154, 0.01095, 0.018117, 0, -0.017437]),\n",
    "               'SEM': np.array([0.000815328, 0.00096908, 0.0005201, 0.0004963, 0.0007438, 0.000004, 0.0012713])}\n",
    "df = pd.DataFrame(data=sensitivity, index=index)"
   ]
  },
  {
   "cell_type": "code",
   "execution_count": 6,
   "metadata": {},
   "outputs": [
    {
     "data": {
      "text/html": [
       "<div>\n",
       "<style scoped>\n",
       "    .dataframe tbody tr th:only-of-type {\n",
       "        vertical-align: middle;\n",
       "    }\n",
       "\n",
       "    .dataframe tbody tr th {\n",
       "        vertical-align: top;\n",
       "    }\n",
       "\n",
       "    .dataframe thead th {\n",
       "        text-align: right;\n",
       "    }\n",
       "</style>\n",
       "<table border=\"1\" class=\"dataframe\">\n",
       "  <thead>\n",
       "    <tr style=\"text-align: right;\">\n",
       "      <th></th>\n",
       "      <th>Mean</th>\n",
       "      <th>SEM</th>\n",
       "    </tr>\n",
       "  </thead>\n",
       "  <tbody>\n",
       "    <tr>\n",
       "      <th>radius</th>\n",
       "      <td>-0.024050</td>\n",
       "      <td>0.000815</td>\n",
       "    </tr>\n",
       "    <tr>\n",
       "      <th>quality</th>\n",
       "      <td>-0.059174</td>\n",
       "      <td>0.000969</td>\n",
       "    </tr>\n",
       "    <tr>\n",
       "      <th>linking</th>\n",
       "      <td>0.006615</td>\n",
       "      <td>0.000520</td>\n",
       "    </tr>\n",
       "    <tr>\n",
       "      <th>gap D</th>\n",
       "      <td>0.010950</td>\n",
       "      <td>0.000496</td>\n",
       "    </tr>\n",
       "    <tr>\n",
       "      <th>f gap</th>\n",
       "      <td>0.018117</td>\n",
       "      <td>0.000744</td>\n",
       "    </tr>\n",
       "    <tr>\n",
       "      <th>disp</th>\n",
       "      <td>0.000000</td>\n",
       "      <td>0.000004</td>\n",
       "    </tr>\n",
       "    <tr>\n",
       "      <th>filt</th>\n",
       "      <td>-0.017437</td>\n",
       "      <td>0.001271</td>\n",
       "    </tr>\n",
       "  </tbody>\n",
       "</table>\n",
       "</div>"
      ],
      "text/plain": [
       "             Mean       SEM\n",
       "radius  -0.024050  0.000815\n",
       "quality -0.059174  0.000969\n",
       "linking  0.006615  0.000520\n",
       "gap D    0.010950  0.000496\n",
       "f gap    0.018117  0.000744\n",
       "disp     0.000000  0.000004\n",
       "filt    -0.017437  0.001271"
      ]
     },
     "execution_count": 6,
     "metadata": {},
     "output_type": "execute_result"
    }
   ],
   "source": [
    "df"
   ]
  },
  {
   "cell_type": "code",
   "execution_count": 8,
   "metadata": {},
   "outputs": [
    {
     "data": {
      "image/png": "[encoded data removed]",
      "text/plain": [
       "<matplotlib.figure.Figure at 0x7f17bbf5d518>"
      ]
     },
     "metadata": {},
     "output_type": "display_data"
    }
   ],
   "source": [
    "width = 0.7\n",
    "ra = 0.075\n",
    "fig = plt.figure(figsize=(6, 6))\n",
    "p1 = plt.bar(index, df['Mean'], width=width, yerr=df['SEM'], capsize=8, error_kw={'elinewidth':3, 'capthick':3})\n",
    "\n",
    "plt.axhline(y=0, color='k')\n",
    "plt.ylim(-ra, ra)\n",
    "plt.savefig('parameter_sensitivity.png', bbox_inches='tight')"
   ]
  },
  {
   "cell_type": "code",
   "execution_count": 9,
   "metadata": {},
   "outputs": [],
   "source": [
    "aws.upload_s3('parameter_sensitivity.png', '{}/parameter_sensitivity.png'.format(s_folder))"
   ]
  },
  {
   "cell_type": "code",
   "execution_count": 12,
   "metadata": {},
   "outputs": [
    {
     "data": {
      "image/png": "[encoded data removed]",
      "text/plain": [
       "<matplotlib.figure.Figure at 0x7fe78eb27198>"
      ]
     },
     "metadata": {},
     "output_type": "display_data"
    }
   ],
   "source": [
    "frames = 651\n",
    "fps = 100.02\n",
    "t = np.linspace(0, frames-1, frames)/fps\n",
    "\n",
    "fig = plt.figure(figsize=(10, 10))\n",
    "for counter in range(0, len(all_params)):\n",
    "    try:\n",
    "        geo_file = 'geomean_{}_{}.csv'.format(name.split('.')[0], counter)\n",
    "        aws.download_s3('{}/{}'.format(s_folder, geo_file), geo_file)\n",
    "        gmean1 = np.genfromtxt(geo_file)\n",
    "        os.remove(geo_file)\n",
    "        \n",
    "        plt.plot(t, np.exp(gmean1), 'k', linewidth=2, alpha=0.05)\n",
    "    except:\n",
    "        params = all_params[counter]\n",
    "        print(\"Missing data {}\".format(params))\n",
    "\n",
    "plt.xlim(0, 1)\n",
    "plt.ylim(0, 20)\n",
    "plt.xlabel('Tau (s)', fontsize=25)\n",
    "plt.ylabel(r'Mean Squared Displacement ($\\mu$m$^2$/s)', fontsize=25)\n",
    "plt.savefig('MSD_sweep.png', bbox_inches='tight')\n",
    "aws.upload_s3('MSD_sweep.png', '{}/MSD_sweep.png'.format(s_folder))"
   ]
  },
  {
   "cell_type": "code",
   "execution_count": null,
   "metadata": {},
   "outputs": [],
   "source": []
  }
 ],
 "metadata": {
  "kernelspec": {
   "display_name": "Python 3",
   "language": "python",
   "name": "python3"
  },
  "language_info": {
   "codemirror_mode": {
    "name": "ipython",
    "version": 3
   },
   "file_extension": ".py",
   "mimetype": "text/x-python",
   "name": "python",
   "nbconvert_exporter": "python",
   "pygments_lexer": "ipython3",
   "version": "3.6.3"
  }
 },
 "nbformat": 4,
 "nbformat_minor": 2
}
