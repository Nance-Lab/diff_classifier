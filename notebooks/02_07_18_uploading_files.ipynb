{
 "cells": [
  {
   "cell_type": "code",
   "execution_count": null,
   "metadata": {
    "collapsed": true
   },
   "outputs": [],
   "source": [
    "import os\n",
    "import boto3\n",
    "import os.path as op\n",
    "import numpy as np\n",
    "import diff_classifier.aws as aws\n",
    "import time"
   ]
  },
  {
   "cell_type": "code",
   "execution_count": null,
   "metadata": {},
   "outputs": [],
   "source": [
    "local_dir = 'd:\\\\Chad\\\\01_04_17_Diffusion_Study_P10_Rats\\\\cut'\n",
    "local_name = 'P1_S2_R_0009.tif'\n",
    "test = op.join(local_dir, local_name)\n",
    "new_name = op.join('01_18_Experiment/P1', 'P1_S2_R_0009.tif').replace('/', '\\\\')\n",
    "aws.upload_s3(test, new_name)"
   ]
  },
  {
   "cell_type": "code",
   "execution_count": null,
   "metadata": {},
   "outputs": [],
   "source": [
    "P1_files = !ls /d/Chad/01_04_17_Diffusion_Study_P10_Rats/cut/P1*\n",
    "local_files = [op.split(item)[1] for item in P1_files]\n",
    "local_dir = 'd:\\\\Chad\\\\01_04_17_Diffusion_Study_P10_Rats\\\\cut'\n",
    "remote_dir = '01_18_Experiment/P1/'\n",
    "\n",
    "s3 = boto3.client('s3')\n",
    "for file in local_files:\n",
    "    t1 = time.time()\n",
    "    local_name = op.join(local_dir, file)\n",
    "    remote_name = remote_dir + file\n",
    "    try:\n",
    "        obj = s3.head_object(Bucket='ccurtis7.pup', Key=remote_name)\n",
    "    except:\n",
    "        aws.upload_s3(local_name, remote_name)\n",
    "        t2 = (time.time() - t1)/60\n",
    "        print('Took {} min to upload file {}'.format(t2, file))"
   ]
  },
  {
   "cell_type": "code",
   "execution_count": null,
   "metadata": {},
   "outputs": [],
   "source": [
    "P1_files = !ls /d/Chad/01_04_17_Diffusion_Study_P10_Rats/cut/P2*\n",
    "local_files = [op.split(item)[1] for item in P1_files]\n",
    "local_dir = 'd:\\\\Chad\\\\01_04_17_Diffusion_Study_P10_Rats\\\\cut'\n",
    "remote_dir = '01_18_Experiment/P2/'\n",
    "\n",
    "s3 = boto3.client('s3')\n",
    "for file in local_files:\n",
    "    t1 = time.time()\n",
    "    local_name = op.join(local_dir, file)\n",
    "    remote_name = remote_dir + file\n",
    "    try:\n",
    "        obj = s3.head_object(Bucket='ccurtis7.pup', Key=remote_name)\n",
    "    except:\n",
    "        aws.upload_s3(local_name, remote_name)\n",
    "        t2 = (time.time() - t1)/60\n",
    "        print('Took {} min to upload file {}'.format(t2, file))"
   ]
  },
  {
   "cell_type": "code",
   "execution_count": null,
   "metadata": {
    "collapsed": true
   },
   "outputs": [],
   "source": []
  }
 ],
 "metadata": {
  "kernelspec": {
   "display_name": "Python 2",
   "language": "python",
   "name": "python2"
  },
  "language_info": {
   "codemirror_mode": {
    "name": "ipython",
    "version": 2
   },
   "file_extension": ".py",
   "mimetype": "text/x-python",
   "name": "python",
   "nbconvert_exporter": "python",
   "pygments_lexer": "ipython2",
   "version": "2.7.12"
  }
 },
 "nbformat": 4,
 "nbformat_minor": 1
}
