{
 "cells": [
  {
   "cell_type": "code",
   "execution_count": 1,
   "metadata": {},
   "outputs": [],
   "source": [
    "import os.path as op\n",
    "import diff_classifier.imagej as ij\n",
    "import time\n",
    "import diff_classifier.utils as ut"
   ]
  },
  {
   "cell_type": "code",
   "execution_count": 2,
   "metadata": {},
   "outputs": [
    {
     "name": "stderr",
     "output_type": "stream",
     "text": [
      "/home/ubuntu/miniconda3/lib/python3.6/site-packages/skimage/io/_io.py:132: UserWarning: /home/ubuntu/data/RED_nPEG_37C_pH72_S1_1_0_1.tif is a low contrast image\n",
      "  warn('%s is a low contrast image' % fname)\n",
      "/home/ubuntu/miniconda3/lib/python3.6/site-packages/skimage/io/_io.py:132: UserWarning: /home/ubuntu/data/RED_nPEG_37C_pH72_S1_1_0_2.tif is a low contrast image\n",
      "  warn('%s is a low contrast image' % fname)\n",
      "/home/ubuntu/miniconda3/lib/python3.6/site-packages/skimage/io/_io.py:132: UserWarning: /home/ubuntu/data/RED_nPEG_37C_pH72_S1_1_0_3.tif is a low contrast image\n",
      "  warn('%s is a low contrast image' % fname)\n",
      "/home/ubuntu/miniconda3/lib/python3.6/site-packages/skimage/io/_io.py:132: UserWarning: /home/ubuntu/data/RED_nPEG_37C_pH72_S1_1_1_1.tif is a low contrast image\n",
      "  warn('%s is a low contrast image' % fname)\n",
      "/home/ubuntu/miniconda3/lib/python3.6/site-packages/skimage/io/_io.py:132: UserWarning: /home/ubuntu/data/RED_nPEG_37C_pH72_S1_1_1_2.tif is a low contrast image\n",
      "  warn('%s is a low contrast image' % fname)\n",
      "/home/ubuntu/miniconda3/lib/python3.6/site-packages/skimage/io/_io.py:132: UserWarning: /home/ubuntu/data/RED_nPEG_37C_pH72_S1_1_1_3.tif is a low contrast image\n",
      "  warn('%s is a low contrast image' % fname)\n",
      "/home/ubuntu/miniconda3/lib/python3.6/site-packages/skimage/io/_io.py:132: UserWarning: /home/ubuntu/data/RED_nPEG_37C_pH72_S1_1_2_1.tif is a low contrast image\n",
      "  warn('%s is a low contrast image' % fname)\n",
      "/home/ubuntu/miniconda3/lib/python3.6/site-packages/skimage/io/_io.py:132: UserWarning: /home/ubuntu/data/RED_nPEG_37C_pH72_S1_1_2_2.tif is a low contrast image\n",
      "  warn('%s is a low contrast image' % fname)\n",
      "/home/ubuntu/miniconda3/lib/python3.6/site-packages/skimage/io/_io.py:132: UserWarning: /home/ubuntu/data/RED_nPEG_37C_pH72_S1_1_2_3.tif is a low contrast image\n",
      "  warn('%s is a low contrast image' % fname)\n",
      "/home/ubuntu/miniconda3/lib/python3.6/site-packages/skimage/io/_io.py:132: UserWarning: /home/ubuntu/data/RED_nPEG_37C_pH72_S1_1_3_1.tif is a low contrast image\n",
      "  warn('%s is a low contrast image' % fname)\n",
      "/home/ubuntu/miniconda3/lib/python3.6/site-packages/skimage/io/_io.py:132: UserWarning: /home/ubuntu/data/RED_nPEG_37C_pH72_S1_1_3_2.tif is a low contrast image\n",
      "  warn('%s is a low contrast image' % fname)\n",
      "/home/ubuntu/miniconda3/lib/python3.6/site-packages/skimage/io/_io.py:132: UserWarning: /home/ubuntu/data/RED_nPEG_37C_pH72_S1_1_3_3.tif is a low contrast image\n",
      "  warn('%s is a low contrast image' % fname)\n"
     ]
    }
   ],
   "source": [
    "names = ij.partition_im('/home/ubuntu/data/RED_nPEG_37C_pH72_S1_1.tif')"
   ]
  },
  {
   "cell_type": "code",
   "execution_count": 3,
   "metadata": {},
   "outputs": [
    {
     "name": "stdout",
     "output_type": "stream",
     "text": [
      "/home/ubuntu/Fiji.app/ImageJ-linux64 --ij2 --headless --run /tmp/tmp1p6pslrk.py\n",
      "10.602841854095459\n",
      "/home/ubuntu/Fiji.app/ImageJ-linux64 --ij2 --headless --run /tmp/tmp0isxmqc_.py\n",
      "10.449403762817383\n",
      "/home/ubuntu/Fiji.app/ImageJ-linux64 --ij2 --headless --run /tmp/tmpqc_n63an.py\n",
      "10.376387119293213\n",
      "/home/ubuntu/Fiji.app/ImageJ-linux64 --ij2 --headless --run /tmp/tmpfh7jr_kw.py\n",
      "10.514267206192017\n",
      "/home/ubuntu/Fiji.app/ImageJ-linux64 --ij2 --headless --run /tmp/tmpnkec4bdu.py\n",
      "10.760536670684814\n",
      "/home/ubuntu/Fiji.app/ImageJ-linux64 --ij2 --headless --run /tmp/tmpxr2ztt5x.py\n",
      "10.368215084075928\n",
      "/home/ubuntu/Fiji.app/ImageJ-linux64 --ij2 --headless --run /tmp/tmpl5begvsx.py\n",
      "10.513141393661499\n",
      "/home/ubuntu/Fiji.app/ImageJ-linux64 --ij2 --headless --run /tmp/tmps3401oo7.py\n",
      "10.793914079666138\n",
      "/home/ubuntu/Fiji.app/ImageJ-linux64 --ij2 --headless --run /tmp/tmp6umc8m5e.py\n",
      "10.465224266052246\n",
      "/home/ubuntu/Fiji.app/ImageJ-linux64 --ij2 --headless --run /tmp/tmpx4pw58sb.py\n",
      "10.37540602684021\n",
      "/home/ubuntu/Fiji.app/ImageJ-linux64 --ij2 --headless --run /tmp/tmp9n9dx8of.py\n",
      "10.666287660598755\n",
      "/home/ubuntu/Fiji.app/ImageJ-linux64 --ij2 --headless --run /tmp/tmpswghuurt.py\n",
      "10.471946001052856\n",
      "/home/ubuntu/Fiji.app/ImageJ-linux64 --ij2 --headless --run /tmp/tmpivjq7idj.py\n",
      "10.268794775009155\n",
      "/home/ubuntu/Fiji.app/ImageJ-linux64 --ij2 --headless --run /tmp/tmp73fol7v4.py\n",
      "10.47506332397461\n",
      "/home/ubuntu/Fiji.app/ImageJ-linux64 --ij2 --headless --run /tmp/tmpp510b3nr.py\n",
      "10.448559522628784\n",
      "/home/ubuntu/Fiji.app/ImageJ-linux64 --ij2 --headless --run /tmp/tmpc2rzjdue.py\n",
      "10.564114570617676\n"
     ]
    }
   ],
   "source": [
    "for file in names:\n",
    "    t1 = time.time()\n",
    "    outfile = 'Traj_' + op.split(file)[1].split('.')[0] + '.csv'\n",
    "    ij.track(file, outfile, quality=1, median_intensity=1, snr=0)\n",
    "    t2 = time.time()\n",
    "    timed = t2 - t1\n",
    "    print(timed)"
   ]
  },
  {
   "cell_type": "code",
   "execution_count": null,
   "metadata": {},
   "outputs": [],
   "source": [
    "ut.csv_to_pd('Traj_RED_nPEG_37C_pH72_S1_1_0_0.csv')"
   ]
  },
  {
   "cell_type": "code",
   "execution_count": null,
   "metadata": {},
   "outputs": [],
   "source": [
    "'Traj_' + op.split(names[0])[1]"
   ]
  },
  {
   "cell_type": "code",
   "execution_count": null,
   "metadata": {},
   "outputs": [],
   "source": []
  }
 ],
 "metadata": {
  "kernelspec": {
   "display_name": "Python 3",
   "language": "python",
   "name": "python3"
  },
  "language_info": {
   "codemirror_mode": {
    "name": "ipython",
    "version": 3
   },
   "file_extension": ".py",
   "mimetype": "text/x-python",
   "name": "python",
   "nbconvert_exporter": "python",
   "pygments_lexer": "ipython3",
   "version": "3.6.3"
  }
 },
 "nbformat": 4,
 "nbformat_minor": 2
}
