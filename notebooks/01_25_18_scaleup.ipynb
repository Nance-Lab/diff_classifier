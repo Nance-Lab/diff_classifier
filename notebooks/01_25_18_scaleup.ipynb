{
 "cells": [
  {
   "cell_type": "code",
   "execution_count": 2,
   "metadata": {},
   "outputs": [],
   "source": [
    "import os.path as op\n",
    "import diff_classifier.imagej as ij\n",
    "import time"
   ]
  },
  {
   "cell_type": "code",
   "execution_count": null,
   "metadata": {},
   "outputs": [],
   "source": [
    "names = ij.partition_im('/home/ubuntu/data/RED_nPEG_37C_pH72_S1_1.tif')"
   ]
  },
  {
   "cell_type": "code",
   "execution_count": 3,
   "metadata": {},
   "outputs": [],
   "source": [
    "ij.partition_im?"
   ]
  },
  {
   "cell_type": "code",
   "execution_count": 2,
   "metadata": {},
   "outputs": [],
   "source": [
    "# names = ij.partition_im('/home/ubuntu/data/RED_nPEG_37C_pH72_S1_1.tif')\n",
    "names = []\n",
    "for row in range(0,4):\n",
    "    for col in range(0,4):\n",
    "        current = '/home/ubuntu/data/RED_nPEG_37C_pH72_S1_1.tif'.split('.tif')[0] + '_%s_%s.tif' % (row, col)\n",
    "        names.append(current)"
   ]
  },
  {
   "cell_type": "code",
   "execution_count": 3,
   "metadata": {},
   "outputs": [
    {
     "data": {
      "text/plain": [
       "'/home/ubuntu/data/RED_nPEG_37C_pH72_S1_1_0_0.tif'"
      ]
     },
     "execution_count": 3,
     "metadata": {},
     "output_type": "execute_result"
    }
   ],
   "source": [
    "names[0]"
   ]
  },
  {
   "cell_type": "code",
   "execution_count": 4,
   "metadata": {},
   "outputs": [
    {
     "name": "stdout",
     "output_type": "stream",
     "text": [
      "/home/ubuntu/Fiji.app/ImageJ-linux64 --ij2 --headless --run /tmp/tmp3pup4d40.py\n",
      "119.71040439605713\n",
      "/home/ubuntu/Fiji.app/ImageJ-linux64 --ij2 --headless --run /tmp/tmp1hhc6wac.py\n",
      "124.53046751022339\n",
      "/home/ubuntu/Fiji.app/ImageJ-linux64 --ij2 --headless --run /tmp/tmp9ooa1wyw.py\n",
      "130.20233392715454\n",
      "/home/ubuntu/Fiji.app/ImageJ-linux64 --ij2 --headless --run /tmp/tmpc6la9ind.py\n",
      "129.51467442512512\n",
      "/home/ubuntu/Fiji.app/ImageJ-linux64 --ij2 --headless --run /tmp/tmpw7_vn971.py\n",
      "124.07880425453186\n",
      "/home/ubuntu/Fiji.app/ImageJ-linux64 --ij2 --headless --run /tmp/tmpwp7374z1.py\n",
      "128.69914293289185\n",
      "/home/ubuntu/Fiji.app/ImageJ-linux64 --ij2 --headless --run /tmp/tmpxrqeg6o8.py\n",
      "129.5406150817871\n",
      "/home/ubuntu/Fiji.app/ImageJ-linux64 --ij2 --headless --run /tmp/tmpccrz_tx0.py\n",
      "131.95265746116638\n",
      "/home/ubuntu/Fiji.app/ImageJ-linux64 --ij2 --headless --run /tmp/tmpxa898g2e.py\n",
      "122.63404250144958\n",
      "/home/ubuntu/Fiji.app/ImageJ-linux64 --ij2 --headless --run /tmp/tmp213mzxs5.py\n",
      "125.92396807670593\n",
      "/home/ubuntu/Fiji.app/ImageJ-linux64 --ij2 --headless --run /tmp/tmpf_go6lsu.py\n",
      "125.82895803451538\n",
      "/home/ubuntu/Fiji.app/ImageJ-linux64 --ij2 --headless --run /tmp/tmphsp6bepg.py\n",
      "131.98058199882507\n",
      "/home/ubuntu/Fiji.app/ImageJ-linux64 --ij2 --headless --run /tmp/tmpnpdjheer.py\n",
      "118.57290887832642\n",
      "/home/ubuntu/Fiji.app/ImageJ-linux64 --ij2 --headless --run /tmp/tmp3n0n2oyl.py\n",
      "127.84097671508789\n",
      "/home/ubuntu/Fiji.app/ImageJ-linux64 --ij2 --headless --run /tmp/tmp8gu5szlk.py\n",
      "126.5134527683258\n",
      "/home/ubuntu/Fiji.app/ImageJ-linux64 --ij2 --headless --run /tmp/tmpm2bombqx.py\n",
      "130.24732422828674\n"
     ]
    }
   ],
   "source": [
    "for file in names:\n",
    "    t1 = time.time()\n",
    "    outfile = 'Traj_' + op.split(file)[1].split('.')[0] + '.csv'\n",
    "\n",
    "    ij.track(file, outfile, template=None, fiji_bin=None, radius=3.5, threshold=0., \n",
    "          do_median_filtering=True, quality=30.0, median_intensity=300.0, snr=0.0, \n",
    "          linking_max_distance=7.0, gap_closing_max_distance=10.0, max_frame_gap=2,\n",
    "          track_displacement=10.0)\n",
    "    t2 = time.time()\n",
    "    timed = t2 - t1\n",
    "    print(timed)"
   ]
  },
  {
   "cell_type": "code",
   "execution_count": null,
   "metadata": {},
   "outputs": [],
   "source": [
    "ut.csv_to_pd('Traj_RED_nPEG_37C_pH72_S1_1_0_2.csv')"
   ]
  },
  {
   "cell_type": "code",
   "execution_count": null,
   "metadata": {},
   "outputs": [],
   "source": [
    "ij.track('/home/ubuntu/data/RED_nPEG_37C_pH72_S1_1.tif', 'test.csv', radius=3.5., threshold=0., \n",
    "         do_median_filtering=True, quality=800.0, median_intensity=300.0, snr=0.0, \n",
    "         linking_max_distance=7.0, gap_closing_max_distance=10.0, max_frame_gap=2,\n",
    "         track_displacement=10.0)"
   ]
  },
  {
   "cell_type": "code",
   "execution_count": null,
   "metadata": {},
   "outputs": [],
   "source": [
    "big_file = '/home/ubuntu/data/RED_nPEG_37C_pH72_S1_1.tif'\n",
    "out_file = 'test.csv'\n",
    "\n",
    "track.track(big_file, out_file, template=None, fiji_bin=None, radius=7, threshold=0., \n",
    "          do_median_filtering=True, quality=800.0, median_intensity=300.0, snr=0.0, \n",
    "          linking_max_distance=7.0, gap_closing_max_distance=10.0, max_frame_gap=2,\n",
    "          track_displacement=10.0)"
   ]
  },
  {
   "cell_type": "code",
   "execution_count": null,
   "metadata": {},
   "outputs": [],
   "source": [
    "file = names[0]\n",
    "#file = '/home/ubuntu/data/RED_nPEG_37C_pH72_S1_1.tif'\n",
    "outfile = 'test.csv'\n",
    "\n",
    "ij.track(file, outfile, template=None, fiji_bin=None, radius=3.5, threshold=0., \n",
    "          do_median_filtering=False, quality=30.0, median_intensity=300.0, snr=0.0, \n",
    "          linking_max_distance=7.0, gap_closing_max_distance=10.0, max_frame_gap=2,\n",
    "          track_displacement=10.0)"
   ]
  },
  {
   "cell_type": "code",
   "execution_count": null,
   "metadata": {},
   "outputs": [],
   "source": [
    "file"
   ]
  },
  {
   "cell_type": "code",
   "execution_count": null,
   "metadata": {},
   "outputs": [],
   "source": []
  }
 ],
 "metadata": {
  "kernelspec": {
   "display_name": "Python 2",
   "language": "python",
   "name": "python2"
  },
  "language_info": {
   "codemirror_mode": {
    "name": "ipython",
    "version": 3
   },
   "file_extension": ".py",
   "mimetype": "text/x-python",
   "name": "python",
   "nbconvert_exporter": "python",
   "pygments_lexer": "ipython3",
   "version": "3.6.3"
  }
 },
 "nbformat": 4,
 "nbformat_minor": 2
}
