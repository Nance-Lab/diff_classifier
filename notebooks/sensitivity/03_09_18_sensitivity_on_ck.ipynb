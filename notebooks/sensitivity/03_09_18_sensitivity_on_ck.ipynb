{
 "cells": [
  {
   "cell_type": "code",
   "execution_count": 1,
   "metadata": {},
   "outputs": [],
   "source": [
    "import os\n",
    "import diff_classifier.imagej as ij\n",
    "import boto3\n",
    "import os.path as op\n",
    "import diff_classifier.aws as aws\n",
    "import cloudknot as ck\n",
    "import diff_classifier.knotlets as kn\n",
    "import numpy as np\n",
    "import itertools"
   ]
  },
  {
   "cell_type": "code",
   "execution_count": 2,
   "metadata": {},
   "outputs": [],
   "source": [
    "def sensitivity_it(counter):\n",
    "    \n",
    "    import matplotlib as mpl\n",
    "    #mpl.use('Agg')\n",
    "    import matplotlib.pyplot as plt\n",
    "    import diff_classifier.aws as aws\n",
    "    import diff_classifier.utils as ut\n",
    "    import diff_classifier.msd as msd\n",
    "    import diff_classifier.features as ft\n",
    "    import diff_classifier.imagej as ij\n",
    "    import diff_classifier.heatmaps as hm\n",
    "\n",
    "    from scipy.spatial import Voronoi\n",
    "    import scipy.stats as stats\n",
    "    from shapely.geometry import Point\n",
    "    from shapely.geometry.polygon import Polygon\n",
    "    import matplotlib.cm as cm\n",
    "    import os\n",
    "    import os.path as op\n",
    "    import numpy as np\n",
    "    import numpy.ma as ma\n",
    "    import pandas as pd\n",
    "    import boto3\n",
    "    import itertools\n",
    "    \n",
    "    #Sweep parameters\n",
    "    #----------------------------------\n",
    "    radius = [4.5, 6.0, 7.0]\n",
    "    do_median_filtering = [True, False]\n",
    "    quality = [1.5, 4.5, 8.5]\n",
    "    linking_max_distance = [6.0, 10.0, 15.0]\n",
    "    gap_closing_max_distance = [6.0, 10.0, 15.0]\n",
    "    max_frame_gap = [1, 2, 5]\n",
    "    track_displacement = [0.0, 10.0, 20.0]\n",
    "\n",
    "    sweep = [radius, do_median_filtering, quality, linking_max_distance, gap_closing_max_distance, max_frame_gap,\n",
    "             track_displacement]\n",
    "    all_params = list(itertools.product(*sweep))\n",
    "\n",
    "    #Variable prep\n",
    "    #----------------------------------\n",
    "    s3 = boto3.client('s3')\n",
    "\n",
    "    folder = '01_18_Experiment'\n",
    "    s_folder = '{}/sensitivity'\n",
    "    local_folder = '.'\n",
    "    prefix = \"P1_S1_R_0001_2_2\"\n",
    "    name = \"{}.tif\".format(prefix)\n",
    "    local_im = op.join(local_folder, name)\n",
    "    aws.download_s3('{}/{}/{}.tif'.format(folder, prefix.split('_')[0], prefix), '{}.tif'.format(prefix))\n",
    "\n",
    "    outputs = np.zeros((len(all_params), len(all_params[0])+2))\n",
    "\n",
    "    #Tracking and calculations\n",
    "    #------------------------------------\n",
    "    params = all_params[counter]\n",
    "    outfile = 'Traj_{}_{}.csv'.format(name.split('.')[0], counter)\n",
    "    msd_file = 'msd_{}_{}.csv'.format(name.split('.')[0], counter)\n",
    "    geo_file = 'geomean_{}_{}.csv'.format(name.split('.')[0], counter)\n",
    "    geoS_file = 'geoSEM_{}_{}.csv'.format(name.split('.')[0], counter)\n",
    "    msd_image = 'msds_{}_{}.png'.format(name.split('.')[0], counter)\n",
    "    iter_name = \"{}_{}\".format(prefix, counter)\n",
    "\n",
    "    ij.track(local_im, outfile, template=None, fiji_bin=None, radius=params[0], threshold=0., \n",
    "             do_median_filtering=params[1], quality=params[2], x=511, y=511, ylo=1, median_intensity=300.0, snr=0.0, \n",
    "             linking_max_distance=params[3], gap_closing_max_distance=params[4], max_frame_gap=params[5],\n",
    "             track_displacement=params[6])\n",
    "\n",
    "    traj = ut.csv_to_pd(outfile)\n",
    "    msds = msd.all_msds2(traj, frames=651)\n",
    "    msds.to_csv(msd_file)\n",
    "    gmean1, gSEM1 = hm.plot_individual_msds(iter_name, alpha=0.05)\n",
    "    np.savetxt(geo_file, gmean1, delimiter=\",\")\n",
    "    np.savetxt(geoS_file, gSEM1, delimiter=\",\")\n",
    "\n",
    "    aws.upload_s3(outfile, '{}/{}'.format(s_folder, outfile))\n",
    "    aws.upload_s3(msd_file, '{}/{}'.format(s_folder, msd_file))\n",
    "    aws.upload_s3(geo_file, '{}/{}'.format(s_folder, geo_file))\n",
    "    aws.upload_s3(geoS_file, '{}/{}'.format(s_folder, geoS_file))\n",
    "    aws.upload_s3(msd_image, '{}/{}'.format(s_folder, msd_image))\n",
    "\n",
    "    print('Successful parameter calculations for {}'.format(iter_name))"
   ]
  },
  {
   "cell_type": "code",
   "execution_count": null,
   "metadata": {},
   "outputs": [],
   "source": [
    "radius = [4.5, 6.0, 7.0]\n",
    "do_median_filtering = [True, False]\n",
    "quality = [1.5, 4.5, 8.5]\n",
    "linking_max_distance = [6.0, 10.0, 15.0]\n",
    "gap_closing_max_distance = [6.0, 10.0, 15.0]\n",
    "max_frame_gap = [1, 2, 5]\n",
    "track_displacement = [0.0, 10.0, 20.0]\n",
    "\n",
    "sweep = [radius, do_median_filtering, quality, linking_max_distance, gap_closing_max_distance, max_frame_gap,\n",
    "         track_displacement]\n",
    "all_params = list(itertools.product(*sweep))"
   ]
  },
  {
   "cell_type": "code",
   "execution_count": null,
   "metadata": {},
   "outputs": [],
   "source": [
    "total = len(all_params)\n",
    "partition = 100\n",
    "runs = total/partition + 1"
   ]
  },
  {
   "cell_type": "code",
   "execution_count": null,
   "metadata": {},
   "outputs": [],
   "source": [
    "to_track = {}\n",
    "knot = {}\n",
    "result_futures = {}\n",
    "start_knot = 500\n",
    "\n",
    "github_installs=('https://github.com/ccurtis7/diff_classifier.git')\n",
    "my_image = ck.DockerImage(func=sensitivity_it, base_image='arokem/python3-fiji:0.3', github_installs=github_installs)\n",
    "\n",
    "docker_file = open(my_image.docker_path)\n",
    "docker_string = docker_file.read()\n",
    "docker_file.close()\n",
    "\n",
    "req = open(op.join(op.split(my_image.docker_path)[0], 'requirements.txt'))\n",
    "req_string = req.read()\n",
    "req.close()\n",
    "\n",
    "new_req = req_string[0:req_string.find('\\n')-3]+'5.28'+ req_string[req_string.find('\\n'):]\n",
    "req_overwrite = open(op.join(op.split(my_image.docker_path)[0], 'requirements.txt'), 'w')\n",
    "req_overwrite.write(new_req)\n",
    "req_overwrite.close()"
   ]
  },
  {
   "cell_type": "code",
   "execution_count": null,
   "metadata": {},
   "outputs": [],
   "source": [
    "my_image.build(\"0.1\", image_name=\"test_image\")"
   ]
  },
  {
   "cell_type": "code",
   "execution_count": null,
   "metadata": {},
   "outputs": [],
   "source": [
    "for i in range(0, 1):\n",
    "    run_name = \"Run{}\".format(i)\n",
    "    experiments = np.linspace(i*partition, (i+1)*partition-1, partition)\n",
    "    \n",
    "    knot[run_name] = ck.Knot(name='sensitivity_{}'.format(start_knot),\n",
    "               docker_image = my_image,\n",
    "               resource_type = \"SPOT\",\n",
    "               bid_percentage = 100,\n",
    "               image_id = 'ami-6d8a7510',\n",
    "               pars_policies=('AmazonS3FullAccess',))\n",
    "    result_futures[run_name] = knot[run_name].map(experiments)\n",
    "    start_knot = start_knot + 1\n",
    "    print('Next knot name: {}'.format(start_knot))"
   ]
  },
  {
   "cell_type": "code",
   "execution_count": null,
   "metadata": {},
   "outputs": [],
   "source": [
    "for key in knot:\n",
    "    knot[key].clobber()"
   ]
  },
  {
   "cell_type": "code",
   "execution_count": null,
   "metadata": {},
   "outputs": [
    {
     "name": "stdout",
     "output_type": "stream",
     "text": [
      "/home/ubuntu/Fiji.app/ImageJ-linux64 --ij2 --headless --run /tmp/tmpjjthtval.py\n"
     ]
    }
   ],
   "source": [
    "sensitivity_it(1)"
   ]
  },
  {
   "cell_type": "code",
   "execution_count": null,
   "metadata": {},
   "outputs": [],
   "source": [
    "from shapely.geometry import Point"
   ]
  },
  {
   "cell_type": "code",
   "execution_count": null,
   "metadata": {},
   "outputs": [],
   "source": []
  }
 ],
 "metadata": {
  "kernelspec": {
   "display_name": "Python 3",
   "language": "python",
   "name": "python3"
  },
  "language_info": {
   "codemirror_mode": {
    "name": "ipython",
    "version": 3
   },
   "file_extension": ".py",
   "mimetype": "text/x-python",
   "name": "python",
   "nbconvert_exporter": "python",
   "pygments_lexer": "ipython3",
   "version": "3.6.3"
  }
 },
 "nbformat": 4,
 "nbformat_minor": 2
}
