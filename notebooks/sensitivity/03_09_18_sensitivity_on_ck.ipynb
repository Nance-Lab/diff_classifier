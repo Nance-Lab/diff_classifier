{
 "cells": [
  {
   "cell_type": "code",
   "execution_count": 1,
   "metadata": {},
   "outputs": [],
   "source": [
    "import os\n",
    "import sys\n",
    "sys.path.insert(0, '/home/ubuntu/source/cloudknot/')\n",
    "sys.path\n",
    "import diff_classifier.imagej as ij\n",
    "import boto3\n",
    "import os.path as op\n",
    "import diff_classifier.aws as aws\n",
    "import cloudknot as ck\n",
    "import diff_classifier.knotlets as kn\n",
    "import numpy as np\n",
    "import itertools"
   ]
  },
  {
   "cell_type": "code",
   "execution_count": 2,
   "metadata": {},
   "outputs": [],
   "source": [
    "radius = [4.5, 6.0, 7.0]\n",
    "do_median_filtering = [True, False]\n",
    "quality = [1.5, 4.5, 8.5]\n",
    "linking_max_distance = [6.0, 10.0, 15.0]\n",
    "gap_closing_max_distance = [6.0, 10.0, 15.0]\n",
    "max_frame_gap = [1, 2, 5]\n",
    "track_displacement = [0.0, 10.0, 20.0]\n",
    "\n",
    "sweep = [radius, do_median_filtering, quality, linking_max_distance, gap_closing_max_distance, max_frame_gap,\n",
    "         track_displacement]\n",
    "all_params = list(itertools.product(*sweep))"
   ]
  },
  {
   "cell_type": "code",
   "execution_count": 3,
   "metadata": {},
   "outputs": [],
   "source": [
    "total = len(all_params)\n",
    "partition = 100\n",
    "runs = int(total/partition)+1"
   ]
  },
  {
   "cell_type": "code",
   "execution_count": 4,
   "metadata": {},
   "outputs": [],
   "source": [
    "to_track = {}\n",
    "knot = {}\n",
    "result_futures = {}\n",
    "start_knot = 530\n",
    "\n",
    "github_installs=('https://github.com/ccurtis7/diff_classifier.git')\n",
    "my_image = ck.DockerImage(func=kn.sensitivity_it, base_image='arokem/python3-fiji:0.3', github_installs=github_installs)\n",
    "\n",
    "docker_file = open(my_image.docker_path)\n",
    "docker_string = docker_file.read()\n",
    "docker_file.close()\n",
    "\n",
    "req = open(op.join(op.split(my_image.docker_path)[0], 'requirements.txt'))\n",
    "req_string = req.read()\n",
    "req.close()\n",
    "\n",
    "new_req = req_string[0:req_string.find('\\n')-3]+'5.28'+ req_string[req_string.find('\\n'):]\n",
    "req_overwrite = open(op.join(op.split(my_image.docker_path)[0], 'requirements.txt'), 'w')\n",
    "req_overwrite.write(new_req)\n",
    "req_overwrite.close()"
   ]
  },
  {
   "cell_type": "code",
   "execution_count": 5,
   "metadata": {},
   "outputs": [
    {
     "name": "stdout",
     "output_type": "stream",
     "text": [
      "Next knot name: 531\n",
      "Next knot name: 532\n",
      "Next knot name: 533\n",
      "Next knot name: 534\n",
      "Next knot name: 535\n",
      "Next knot name: 536\n",
      "Next knot name: 537\n",
      "Next knot name: 538\n",
      "Next knot name: 539\n",
      "Next knot name: 540\n",
      "Next knot name: 541\n",
      "Next knot name: 542\n",
      "Next knot name: 543\n",
      "Next knot name: 544\n",
      "Next knot name: 545\n"
     ]
    }
   ],
   "source": [
    "for i in range(0, runs):\n",
    "    run_name = \"Run{}\".format(i)\n",
    "    experiments = np.linspace(i*partition, (i+1)*partition-1, partition).astype(int)\n",
    "    \n",
    "    knot[run_name] = ck.Knot(name='sensitivity_{}'.format(start_knot),\n",
    "               docker_image = my_image,\n",
    "               resource_type = \"SPOT\",\n",
    "               bid_percentage = 100,\n",
    "               pars_policies=('AmazonS3FullAccess',))\n",
    "    result_futures[run_name] = knot[run_name].map(experiments)\n",
    "    start_knot = start_knot + 1\n",
    "    print('Next knot name: {}'.format(start_knot))"
   ]
  },
  {
   "cell_type": "code",
   "execution_count": 7,
   "metadata": {},
   "outputs": [],
   "source": [
    "for key in knot:\n",
    "    knot[key].clobber()"
   ]
  },
  {
   "cell_type": "code",
   "execution_count": null,
   "metadata": {},
   "outputs": [],
   "source": [
    "kn.sensitivity_it(1)"
   ]
  },
  {
   "cell_type": "code",
   "execution_count": null,
   "metadata": {},
   "outputs": [],
   "source": [
    "from shapely.geometry import Point"
   ]
  },
  {
   "cell_type": "code",
   "execution_count": null,
   "metadata": {},
   "outputs": [],
   "source": [
    "float(1)"
   ]
  },
  {
   "cell_type": "code",
   "execution_count": null,
   "metadata": {},
   "outputs": [],
   "source": [
    "experiments.astype(int)"
   ]
  },
  {
   "cell_type": "code",
   "execution_count": null,
   "metadata": {},
   "outputs": [],
   "source": []
  }
 ],
 "metadata": {
  "kernelspec": {
   "display_name": "Python 3",
   "language": "python",
   "name": "python3"
  },
  "language_info": {
   "codemirror_mode": {
    "name": "ipython",
    "version": 3
   },
   "file_extension": ".py",
   "mimetype": "text/x-python",
   "name": "python",
   "nbconvert_exporter": "python",
   "pygments_lexer": "ipython3",
   "version": "3.6.3"
  }
 },
 "nbformat": 4,
 "nbformat_minor": 2
}
