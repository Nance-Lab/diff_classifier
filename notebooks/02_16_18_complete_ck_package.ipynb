{
 "cells": [
  {
   "cell_type": "code",
   "execution_count": 1,
   "metadata": {},
   "outputs": [],
   "source": [
    "import os\n",
    "import diff_classifier.imagej as ij\n",
    "import boto3\n",
    "import os.path as op\n",
    "import diff_classifier.aws as aws\n",
    "import cloudknot as ck\n",
    "import diff_classifier.knotlets as kn\n",
    "import numpy as np"
   ]
  },
  {
   "cell_type": "code",
   "execution_count": 2,
   "metadata": {},
   "outputs": [],
   "source": [
    "folder = '01_18_Experiment'\n",
    "\n",
    "missing = []\n",
    "for i in range(10, 15):\n",
    "    missing.append(\"P1_S2_R_00{}\".format(i))\n",
    "\n",
    "for i in range(10, 15):\n",
    "    missing.append(\"P2_S3_L_00{}\".format(i))\n",
    "    \n",
    "for i in range(0, 15):\n",
    "    missing.append(\"P3_S3_L_{}\".format(\"%04d\" % i))"
   ]
  },
  {
   "cell_type": "code",
   "execution_count": null,
   "metadata": {},
   "outputs": [],
   "source": [
    "missing"
   ]
  },
  {
   "cell_type": "code",
   "execution_count": 3,
   "metadata": {},
   "outputs": [],
   "source": [
    "to_track = {}\n",
    "knot = {}\n",
    "result_futures = {}\n",
    "start_knot = 310\n",
    "\n",
    "pups = [\"P1\"]\n",
    "slices = [\"S1\"]\n",
    "folder = '01_18_Experiment'\n",
    "\n",
    "hemis = [\"R\"]\n",
    "vids = 5\n",
    "\n",
    "github_installs=('https://github.com/ccurtis7/diff_classifier.git')\n",
    "my_image = ck.DockerImage(func=kn.download_split_track_msds, base_image='arokem/python3-fiji:0.3', github_installs=github_installs)\n",
    "\n",
    "docker_file = open(my_image.docker_path)\n",
    "docker_string = docker_file.read()\n",
    "docker_file.close()\n",
    "\n",
    "cut1 = docker_string.find('# Create a default user')\n",
    "cut2 = docker_string[cut1:].find('\\n\\n') + cut1\n",
    "new_docker = docker_string[0:cut1]+docker_string[cut2:]\n",
    "docker_overwrite = open(my_image.docker_path, 'w')\n",
    "docker_overwrite.write(new_docker)\n",
    "docker_overwrite.close()\n",
    "\n",
    "req = open(op.join(op.split(my_image.docker_path)[0], 'requirements.txt'))\n",
    "req_string = req.read()\n",
    "req.close()\n",
    "\n",
    "new_req = req_string[0:req_string.find('\\n')-2]+'28'+ req_string[req_string.find('\\n'):]\n",
    "req_overwrite = open(op.join(op.split(my_image.docker_path)[0], 'requirements.txt'), 'w')\n",
    "req_overwrite.write(new_req)\n",
    "req_overwrite.close()"
   ]
  },
  {
   "cell_type": "code",
   "execution_count": null,
   "metadata": {},
   "outputs": [],
   "source": [
    "my_image.build(\"0.1\", image_name=\"test_image\")"
   ]
  },
  {
   "cell_type": "code",
   "execution_count": 4,
   "metadata": {},
   "outputs": [
    {
     "name": "stdout",
     "output_type": "stream",
     "text": [
      "Number of nodes to be loaded: 5\n",
      "Next knot name: 311\n"
     ]
    }
   ],
   "source": [
    "for pup in pups:\n",
    "    for hemi in hemis:\n",
    "\n",
    "            run_name = '{}_{}'.format(pup, hemi)\n",
    "            to_track[run_name] = []\n",
    "            for slic in slices:\n",
    "                for vid in range(0, vids):\n",
    "                            prefix = \"{}_{}_{}_{}\".format(pup, slic, hemi, \"%04d\" % vid)\n",
    "                            if not prefix in missing:\n",
    "                                to_track[run_name].append(prefix)\n",
    "\n",
    "            test_length = len(to_track[run_name])\n",
    "            print('Number of nodes to be loaded: {}'.format(test_length))\n",
    "            \n",
    "            knot[run_name] = ck.Knot(name='download_and_track_{}'.format(start_knot),\n",
    "                           docker_image = my_image,\n",
    "                           memory = 32000,\n",
    "                           bid_percentage = 25,\n",
    "                           pars_policies=('AmazonS3FullAccess',))\n",
    "            result_futures[run_name] = knot[run_name].map(to_track[run_name])\n",
    "            start_knot = start_knot + 1\n",
    "            print('Next knot name: {}'.format(start_knot))"
   ]
  },
  {
   "cell_type": "code",
   "execution_count": null,
   "metadata": {},
   "outputs": [],
   "source": [
    "for key in knot:\n",
    "    knot[key].clobber()"
   ]
  },
  {
   "cell_type": "code",
   "execution_count": null,
   "metadata": {},
   "outputs": [],
   "source": [
    "knot"
   ]
  },
  {
   "cell_type": "code",
   "execution_count": null,
   "metadata": {},
   "outputs": [],
   "source": []
  }
 ],
 "metadata": {
  "kernelspec": {
   "display_name": "Python 2",
   "language": "python",
   "name": "python2"
  },
  "language_info": {
   "codemirror_mode": {
    "name": "ipython",
    "version": 2
   },
   "file_extension": ".py",
   "mimetype": "text/x-python",
   "name": "python",
   "nbconvert_exporter": "python",
   "pygments_lexer": "ipython2",
   "version": "2.7.12"
  }
 },
 "nbformat": 4,
 "nbformat_minor": 2
}
