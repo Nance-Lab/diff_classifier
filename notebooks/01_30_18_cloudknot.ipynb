{
 "cells": [
  {
   "cell_type": "code",
   "execution_count": 1,
   "metadata": {},
   "outputs": [],
   "source": [
    "import os\n",
    "import diff_classifier.imagej as ij\n",
    "import boto3\n",
    "import os.path as op\n",
    "import diff_classifier.aws as aws\n",
    "import numpy as np"
   ]
  },
  {
   "cell_type": "code",
   "execution_count": 2,
   "metadata": {},
   "outputs": [],
   "source": [
    "import cloudknot as ck\n",
    "import diff_classifier.knotlets as kn"
   ]
  },
  {
   "cell_type": "code",
   "execution_count": 3,
   "metadata": {},
   "outputs": [],
   "source": [
    "def download_and_track(filename):\n",
    "    \n",
    "    import diff_classifier.imagej as ij\n",
    "    import diff_classifier.utils as ut\n",
    "    import diff_classifier.aws as aws\n",
    "    import os.path as op\n",
    "    import pandas as pd\n",
    "    \n",
    "    aws.download_s3(filename, op.split(filename)[1])\n",
    "    \n",
    "    outfile = 'Traj_' + op.split(filename)[1].split('.')[0] + '.csv'\n",
    "    local_im = op.join(os.getcwd(), op.split(filename)[1])\n",
    "    if not op.isfile(outfile):\n",
    "        ij.track(local_im, outfile, template=None, fiji_bin=None, radius=4.5, threshold=0., \n",
    "              do_median_filtering=True, quality=4.5, median_intensity=300.0, snr=0.0, \n",
    "              linking_max_distance=7.0, gap_closing_max_distance=10.0, max_frame_gap=2,\n",
    "              track_displacement=10.0)\n",
    "\n",
    "        aws.upload_s3(outfile, op.join(op.split(filename)[0], outfile))\n",
    "    print(\"Done with tracking.  Should output file of name {}\".format(op.join(op.split(filename)[0], outfile)))\n",
    "    \n",
    "    #return ut.csv_to_pd(outfile)"
   ]
  },
  {
   "cell_type": "code",
   "execution_count": 24,
   "metadata": {},
   "outputs": [
    {
     "name": "stdout",
     "output_type": "stream",
     "text": [
      "/home/ubuntu/Fiji.app/ImageJ-linux64 --ij2 --headless --run /tmp/tmpLT84R9.py\n"
     ]
    },
    {
     "ename": "AttributeError",
     "evalue": "'module' object has no attribute 'run'",
     "output_type": "error",
     "traceback": [
      "\u001b[0;31m---------------------------------------------------------------------------\u001b[0m",
      "\u001b[0;31mAttributeError\u001b[0m                            Traceback (most recent call last)",
      "\u001b[0;32m<ipython-input-24-7cfcc70d6bd1>\u001b[0m in \u001b[0;36m<module>\u001b[0;34m()\u001b[0m\n\u001b[1;32m      1\u001b[0m \u001b[0;32mfor\u001b[0m \u001b[0mtrack\u001b[0m \u001b[0;32min\u001b[0m \u001b[0mto_track\u001b[0m\u001b[0;34m:\u001b[0m\u001b[0;34m\u001b[0m\u001b[0m\n\u001b[0;32m----> 2\u001b[0;31m     \u001b[0mdownload_and_track\u001b[0m\u001b[0;34m(\u001b[0m\u001b[0mtrack\u001b[0m\u001b[0;34m)\u001b[0m\u001b[0;34m\u001b[0m\u001b[0m\n\u001b[0m",
      "\u001b[0;32m<ipython-input-3-0a6caa442bb0>\u001b[0m in \u001b[0;36mdownload_and_track\u001b[0;34m(filename)\u001b[0m\n\u001b[1;32m     15\u001b[0m               \u001b[0mdo_median_filtering\u001b[0m\u001b[0;34m=\u001b[0m\u001b[0mTrue\u001b[0m\u001b[0;34m,\u001b[0m \u001b[0mquality\u001b[0m\u001b[0;34m=\u001b[0m\u001b[0;36m4.5\u001b[0m\u001b[0;34m,\u001b[0m \u001b[0mmedian_intensity\u001b[0m\u001b[0;34m=\u001b[0m\u001b[0;36m300.0\u001b[0m\u001b[0;34m,\u001b[0m \u001b[0msnr\u001b[0m\u001b[0;34m=\u001b[0m\u001b[0;36m0.0\u001b[0m\u001b[0;34m,\u001b[0m\u001b[0;34m\u001b[0m\u001b[0m\n\u001b[1;32m     16\u001b[0m               \u001b[0mlinking_max_distance\u001b[0m\u001b[0;34m=\u001b[0m\u001b[0;36m7.0\u001b[0m\u001b[0;34m,\u001b[0m \u001b[0mgap_closing_max_distance\u001b[0m\u001b[0;34m=\u001b[0m\u001b[0;36m10.0\u001b[0m\u001b[0;34m,\u001b[0m \u001b[0mmax_frame_gap\u001b[0m\u001b[0;34m=\u001b[0m\u001b[0;36m2\u001b[0m\u001b[0;34m,\u001b[0m\u001b[0;34m\u001b[0m\u001b[0m\n\u001b[0;32m---> 17\u001b[0;31m               track_displacement=10.0)\n\u001b[0m\u001b[1;32m     18\u001b[0m \u001b[0;34m\u001b[0m\u001b[0m\n\u001b[1;32m     19\u001b[0m         \u001b[0maws\u001b[0m\u001b[0;34m.\u001b[0m\u001b[0mupload_s3\u001b[0m\u001b[0;34m(\u001b[0m\u001b[0moutfile\u001b[0m\u001b[0;34m,\u001b[0m \u001b[0mop\u001b[0m\u001b[0;34m.\u001b[0m\u001b[0mjoin\u001b[0m\u001b[0;34m(\u001b[0m\u001b[0mop\u001b[0m\u001b[0;34m.\u001b[0m\u001b[0msplit\u001b[0m\u001b[0;34m(\u001b[0m\u001b[0mfilename\u001b[0m\u001b[0;34m)\u001b[0m\u001b[0;34m[\u001b[0m\u001b[0;36m0\u001b[0m\u001b[0;34m]\u001b[0m\u001b[0;34m,\u001b[0m \u001b[0moutfile\u001b[0m\u001b[0;34m)\u001b[0m\u001b[0;34m)\u001b[0m\u001b[0;34m\u001b[0m\u001b[0m\n",
      "\u001b[0;32m/home/ubuntu/source/diff-classifier/diff_classifier/imagej.pyc\u001b[0m in \u001b[0;36mtrack\u001b[0;34m(target, out_file, template, fiji_bin, radius, threshold, do_median_filtering, quality, median_intensity, snr, linking_max_distance, gap_closing_max_distance, max_frame_gap, track_displacement)\u001b[0m\n\u001b[1;32m     86\u001b[0m     \u001b[0mcmd\u001b[0m \u001b[0;34m=\u001b[0m \u001b[0;34m\"%s --ij2 --headless --run %s\"\u001b[0m \u001b[0;34m%\u001b[0m \u001b[0;34m(\u001b[0m\u001b[0mfiji_bin\u001b[0m\u001b[0;34m,\u001b[0m \u001b[0mtf\u001b[0m\u001b[0;34m.\u001b[0m\u001b[0mname\u001b[0m\u001b[0;34m)\u001b[0m\u001b[0;34m\u001b[0m\u001b[0m\n\u001b[1;32m     87\u001b[0m     \u001b[0;32mprint\u001b[0m\u001b[0;34m(\u001b[0m\u001b[0mcmd\u001b[0m\u001b[0;34m)\u001b[0m\u001b[0;34m\u001b[0m\u001b[0m\n\u001b[0;32m---> 88\u001b[0;31m     \u001b[0msp\u001b[0m \u001b[0;34m=\u001b[0m \u001b[0msubprocess\u001b[0m\u001b[0;34m.\u001b[0m\u001b[0mrun\u001b[0m\u001b[0;34m(\u001b[0m\u001b[0mcmd\u001b[0m\u001b[0;34m,\u001b[0m \u001b[0mstdout\u001b[0m\u001b[0;34m=\u001b[0m\u001b[0msubprocess\u001b[0m\u001b[0;34m.\u001b[0m\u001b[0mPIPE\u001b[0m\u001b[0;34m,\u001b[0m \u001b[0mshell\u001b[0m\u001b[0;34m=\u001b[0m\u001b[0mTrue\u001b[0m\u001b[0;34m)\u001b[0m\u001b[0;34m\u001b[0m\u001b[0m\n\u001b[0m\u001b[1;32m     89\u001b[0m     \u001b[0mfid\u001b[0m \u001b[0;34m=\u001b[0m \u001b[0mopen\u001b[0m\u001b[0;34m(\u001b[0m\u001b[0mout_file\u001b[0m\u001b[0;34m,\u001b[0m \u001b[0;34m'w'\u001b[0m\u001b[0;34m)\u001b[0m\u001b[0;34m\u001b[0m\u001b[0m\n\u001b[1;32m     90\u001b[0m     \u001b[0mfid\u001b[0m\u001b[0;34m.\u001b[0m\u001b[0mwrite\u001b[0m\u001b[0;34m(\u001b[0m\u001b[0msp\u001b[0m\u001b[0;34m.\u001b[0m\u001b[0mstdout\u001b[0m\u001b[0;34m.\u001b[0m\u001b[0mdecode\u001b[0m\u001b[0;34m(\u001b[0m\u001b[0;34m)\u001b[0m\u001b[0;34m)\u001b[0m\u001b[0;34m\u001b[0m\u001b[0m\n",
      "\u001b[0;31mAttributeError\u001b[0m: 'module' object has no attribute 'run'"
     ]
    }
   ],
   "source": [
    "for track in to_track:\n",
    "    download_and_track(track)"
   ]
  },
  {
   "cell_type": "code",
   "execution_count": 23,
   "metadata": {},
   "outputs": [
    {
     "data": {
      "text/plain": [
       "['01_18_Experiment/P1/P1_S1_L_0001_0_0.tif',\n",
       " '01_18_Experiment/P1/P1_S1_L_0001_0_1.tif',\n",
       " '01_18_Experiment/P1/P1_S1_L_0001_0_2.tif',\n",
       " '01_18_Experiment/P1/P1_S1_L_0001_0_3.tif',\n",
       " '01_18_Experiment/P1/P1_S1_L_0001_1_0.tif',\n",
       " '01_18_Experiment/P1/P1_S1_L_0001_1_1.tif',\n",
       " '01_18_Experiment/P1/P1_S1_L_0001_1_2.tif',\n",
       " '01_18_Experiment/P1/P1_S1_L_0001_1_3.tif',\n",
       " '01_18_Experiment/P1/P1_S1_L_0001_2_0.tif',\n",
       " '01_18_Experiment/P1/P1_S1_L_0001_2_1.tif',\n",
       " '01_18_Experiment/P1/P1_S1_L_0001_2_2.tif',\n",
       " '01_18_Experiment/P1/P1_S1_L_0001_2_3.tif',\n",
       " '01_18_Experiment/P1/P1_S1_L_0001_3_0.tif',\n",
       " '01_18_Experiment/P1/P1_S1_L_0001_3_1.tif',\n",
       " '01_18_Experiment/P1/P1_S1_L_0001_3_2.tif',\n",
       " '01_18_Experiment/P1/P1_S1_L_0001_3_3.tif']"
      ]
     },
     "execution_count": 23,
     "metadata": {},
     "output_type": "execute_result"
    }
   ],
   "source": [
    "to_track"
   ]
  },
  {
   "cell_type": "code",
   "execution_count": 4,
   "metadata": {},
   "outputs": [],
   "source": [
    "to_track = []\n",
    "for i in range(0, 4):\n",
    "    for j in range(0, 4):\n",
    "        to_track.append('01_18_Experiment/P1/P1_S1_L_0001_{}_{}.tif'.format(i, j))"
   ]
  },
  {
   "cell_type": "code",
   "execution_count": 5,
   "metadata": {},
   "outputs": [],
   "source": [
    "github_installs=('https://github.com/ccurtis7/diff_classifier.git@scaleup')\n",
    "my_image = ck.DockerImage(func=download_and_track, base_image='arokem/python3-fiji:0.3', github_installs=github_installs)\n",
    "\n",
    "#Step here: delete user info from newly created docker image."
   ]
  },
  {
   "cell_type": "code",
   "execution_count": 6,
   "metadata": {},
   "outputs": [],
   "source": [
    "docker_file = open(my_image.docker_path)\n",
    "docker_string = docker_file.read()\n",
    "docker_file.close()"
   ]
  },
  {
   "cell_type": "code",
   "execution_count": 7,
   "metadata": {},
   "outputs": [],
   "source": [
    "cut1 = docker_string.find('# Create a default user')\n",
    "cut2 = docker_string[cut1:].find('\\n\\n') + cut1\n",
    "new_docker = docker_string[0:cut1]+docker_string[cut2:]\n",
    "docker_overwrite = open(my_image.docker_path, 'w')\n",
    "docker_overwrite.write(new_docker)\n",
    "docker_overwrite.close()"
   ]
  },
  {
   "cell_type": "code",
   "execution_count": 8,
   "metadata": {},
   "outputs": [],
   "source": [
    "knot = ck.Knot(name='download_and_track_with_my_image_12',\n",
    "               docker_image = my_image,\n",
    "               pars_policies=('AmazonS3FullAccess',))"
   ]
  },
  {
   "cell_type": "code",
   "execution_count": 9,
   "metadata": {},
   "outputs": [],
   "source": [
    "result_futures = knot.map(to_track)"
   ]
  },
  {
   "cell_type": "code",
   "execution_count": 22,
   "metadata": {},
   "outputs": [
    {
     "name": "stdout",
     "output_type": "stream",
     "text": [
      "Job ID              Name                        Status   \n",
      "---------------------------------------------------------\n",
      "ad627159-ffd8-4f38-aca3-7af40df28640        download_and_track_with_my_image_12-15        FAILED   \n",
      "00c86e54-ef69-498a-a759-2cafe64804da        download_and_track_with_my_image_12-8        SUCCEEDED\n",
      "87f88e84-3a97-4b69-8782-e48e14513bdd        download_and_track_with_my_image_12-5        SUCCEEDED\n",
      "02fcb3f9-9256-4429-a83e-145fa3dc3922        download_and_track_with_my_image_12-7        SUCCEEDED\n",
      "ba422f40-124f-4149-a00d-de06dc3d81b7        download_and_track_with_my_image_12-10        SUCCEEDED\n",
      "15508d9e-49df-4127-8d7a-a5b33915742c        download_and_track_with_my_image_12-6        SUCCEEDED\n",
      "2e630317-e32b-4df9-886d-80bdbd9bd7e2        download_and_track_with_my_image_12-3        SUCCEEDED\n",
      "0b855332-4e1c-44a1-9c98-a7e9e227f1c7        download_and_track_with_my_image_12-11        SUCCEEDED\n",
      "97d6f033-8e37-46f1-9db1-a3c863362c51        download_and_track_with_my_image_12-14        SUCCEEDED\n",
      "4af35760-48ef-4a9c-b491-4c96b9e9cdaf        download_and_track_with_my_image_12-9        SUCCEEDED\n",
      "b0289482-16ba-49e2-83d9-98ca6f75276b        download_and_track_with_my_image_12-2        SUCCEEDED\n",
      "2d0e5717-6ce2-4b73-bd18-efe1d1f19563        download_and_track_with_my_image_12-1        SUCCEEDED\n",
      "94b4c94c-76e9-4d7a-ae10-320b892be2d4        download_and_track_with_my_image_12-0        SUCCEEDED\n",
      "4873e0df-0ba2-4b6f-9c55-0fbe22b1791f        download_and_track_with_my_image_12-13        SUCCEEDED\n",
      "bdc03dd3-bb23-468f-92c8-9deddeb6e885        download_and_track_with_my_image_12-4        SUCCEEDED\n",
      "995dacab-8ee1-46bd-8538-0047f605e1db        download_and_track_with_my_image_12-12        SUCCEEDED\n"
     ]
    }
   ],
   "source": [
    "knot.view_jobs()"
   ]
  },
  {
   "cell_type": "code",
   "execution_count": null,
   "metadata": {},
   "outputs": [],
   "source": [
    "knot.clobber()"
   ]
  },
  {
   "cell_type": "code",
   "execution_count": null,
   "metadata": {},
   "outputs": [],
   "source": [
    "result_futures"
   ]
  },
  {
   "cell_type": "code",
   "execution_count": null,
   "metadata": {},
   "outputs": [],
   "source": [
    "r0 = results[0]\n",
    "r0.result()"
   ]
  },
  {
   "cell_type": "code",
   "execution_count": null,
   "metadata": {},
   "outputs": [],
   "source": [
    "def download_and_split(filename):\n",
    "    \n",
    "    import diff_classifier.imagej as ij\n",
    "    import diff_classifier.aws as aws\n",
    "    import os.path as op\n",
    "    \n",
    "    local_name = op.split(filename)[1]\n",
    "    DIR = op.split(filename)[0]\n",
    "    try1 = filename.split('.')[0] + '_0_0.tif'\n",
    "    try2 = filename.split('.')[0] + '_3_3.tif'\n",
    "    \n",
    "    s3 = boto3.client('s3')\n",
    "    try:\n",
    "        obj = s3.head_object(Bucket='ccurtis7.pup', Key=try1)\n",
    "    except:\n",
    "        try:\n",
    "            obj = s3.head_object(Bucket='ccurtis7.pup', Key=try2)\n",
    "        except:\n",
    "            aws.download_s3(filename, local_name)\n",
    "            names = ij.partition_im(local_name)\n",
    "            for name in names:\n",
    "                aws.upload_s3(name, op.join(op.split(filename)[0], name))\n",
    "    print(\"Done with splitting.  Should output file of name {}\".format(op.join(op.split(filename)[0], name)))"
   ]
  },
  {
   "cell_type": "code",
   "execution_count": null,
   "metadata": {},
   "outputs": [],
   "source": [
    "pups = [\"P1\", \"P2\", \"P3\"]\n",
    "slices = [\"S1\", \"S2\", \"S3\"]\n",
    "hemis = [\"R\", \"L\"]\n",
    "videos = 15\n",
    "folder = '01_18_Experiment'"
   ]
  },
  {
   "cell_type": "code",
   "execution_count": null,
   "metadata": {},
   "outputs": [],
   "source": [
    "missing = []\n",
    "for i in range(10, 15):\n",
    "    missing.append(\"P1_S2_R_00{}.tif\".format(i))\n",
    "\n",
    "for i in range(10, 15):\n",
    "    missing.append(\"P2_S3_L_00{}.tif\".format(i))\n",
    "    \n",
    "for i in range(0, 15):\n",
    "    missing.append(\"P3_S3_L_{}.tif\".format(\"%04d\" % i))"
   ]
  },
  {
   "cell_type": "code",
   "execution_count": null,
   "metadata": {},
   "outputs": [],
   "source": [
    "to_partition = []\n",
    "for pup in pups:\n",
    "    for slic in slices:\n",
    "        for hemi in hemis:\n",
    "            for i in range(0, videos):\n",
    "                name = \"{}/{}/{}_{}_{}_{}.tif\".format(folder, pup, pup, slic, hemi, \"%04d\" % i)\n",
    "                if not name in missing:\n",
    "                    to_partition.append(name)"
   ]
  },
  {
   "cell_type": "code",
   "execution_count": null,
   "metadata": {},
   "outputs": [],
   "source": [
    "for name in to_partition:\n",
    "    download_and_split(name)"
   ]
  },
  {
   "cell_type": "code",
   "execution_count": null,
   "metadata": {},
   "outputs": [],
   "source": [
    "!rm P1_S1_R_0000*"
   ]
  },
  {
   "cell_type": "code",
   "execution_count": null,
   "metadata": {},
   "outputs": [],
   "source": [
    "to_partition"
   ]
  },
  {
   "cell_type": "code",
   "execution_count": null,
   "metadata": {},
   "outputs": [],
   "source": [
    "import boto3"
   ]
  },
  {
   "cell_type": "code",
   "execution_count": null,
   "metadata": {},
   "outputs": [],
   "source": [
    "s3 = boto3.resource('s3')\n",
    "\n",
    "try:\n",
    "    s3.Object(\"ccurtis7.pup\", '01_18_Experiment/test_file.tif').load()"
   ]
  },
  {
   "cell_type": "code",
   "execution_count": null,
   "metadata": {},
   "outputs": [],
   "source": [
    "s3 = boto3.client('s3')\n",
    "\n",
    "result = s3.list_objects_v2(Bucket=\"ccurtis7.pup\", Prefix=\"/01_18_Experiment/test_filebook.tif\")\n",
    "\n",
    "exists = False\n",
    "if result:\n",
    "    exists = True\n",
    "\n",
    "print(exists)"
   ]
  },
  {
   "cell_type": "code",
   "execution_count": null,
   "metadata": {},
   "outputs": [],
   "source": [
    "for obj in result.get('Contents', []):\n",
    "    if obj['Key'] == \"/01_18_Experiment/test_filebook.tif\":\n",
    "        print('Object here')\n",
    "    else:\n",
    "        print('Object not here')"
   ]
  },
  {
   "cell_type": "code",
   "execution_count": null,
   "metadata": {},
   "outputs": [],
   "source": [
    "try:\n",
    "    obj = s3.head_object(Bucket='ccurtis7.pup', Key=\"01_18_Experiment/test_file.tif\")\n",
    "except:\n",
    "    print(\"Does not exist\")"
   ]
  },
  {
   "cell_type": "code",
   "execution_count": null,
   "metadata": {},
   "outputs": [],
   "source": []
  }
 ],
 "metadata": {
  "kernelspec": {
   "display_name": "Python 2",
   "language": "python",
   "name": "python2"
  },
  "language_info": {
   "codemirror_mode": {
    "name": "ipython",
    "version": 2
   },
   "file_extension": ".py",
   "mimetype": "text/x-python",
   "name": "python",
   "nbconvert_exporter": "python",
   "pygments_lexer": "ipython2",
   "version": "2.7.12"
  }
 },
 "nbformat": 4,
 "nbformat_minor": 2
}
