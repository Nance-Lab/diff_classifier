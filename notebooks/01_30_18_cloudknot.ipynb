{
 "cells": [
  {
   "cell_type": "code",
   "execution_count": 1,
   "metadata": {
    "collapsed": true
   },
   "outputs": [],
   "source": [
    "import os\n",
    "import diff_classifier.imagej as ij\n",
    "import boto3\n",
    "import os.path as op\n",
    "import diff_classifier.aws as aws"
   ]
  },
  {
   "cell_type": "code",
   "execution_count": 2,
   "metadata": {
    "collapsed": true
   },
   "outputs": [],
   "source": [
    "import cloudknot as ck"
   ]
  },
  {
   "cell_type": "code",
   "execution_count": 19,
   "metadata": {
    "collapsed": true
   },
   "outputs": [],
   "source": [
    "def download_and_track(filename):\n",
    "    \n",
    "    import diff_classifier.imagej as ij\n",
    "    import diff_classifier.aws as aws\n",
    "    import os.path as op\n",
    "    \n",
    "    aws.download_s3(filename, op.split(filename)[1])\n",
    "    \n",
    "    outfile = 'Traj_' + op.split(filename)[1].split('.')[0] + '.csv'\n",
    "    local_im = op.join(os.getcwd(), op.split(filename)[1])\n",
    "    if not op.isfile(outfile):\n",
    "        ij.track(local_im, outfile, template=None, fiji_bin=None, radius=4.5, threshold=0., \n",
    "              do_median_filtering=True, quality=4.5, median_intensity=300.0, snr=0.0, \n",
    "              linking_max_distance=7.0, gap_closing_max_distance=10.0, max_frame_gap=2,\n",
    "              track_displacement=10.0)\n",
    "\n",
    "        aws.upload_s3(outfile, op.join(op.split(filename)[0], outfile))"
   ]
  },
  {
   "cell_type": "code",
   "execution_count": null,
   "metadata": {
    "collapsed": true
   },
   "outputs": [],
   "source": [
    "# for i in range(0, 4):\n",
    "#     for j in range(0, 4):\n",
    "\n",
    "#         download_and_track('01_18_Experiment/P1/P1_S1_L_0000_{}_{}.tif'.format(i, j))"
   ]
  },
  {
   "cell_type": "code",
   "execution_count": 4,
   "metadata": {
    "collapsed": true
   },
   "outputs": [],
   "source": [
    "to_track = []\n",
    "for i in range(0, 4):\n",
    "    for j in range(0, 4):\n",
    "        to_track.append('01_18_Experiment/P1/P1_S1_L_0000_{}_{}.tif'.format(i, j))"
   ]
  },
  {
   "cell_type": "code",
   "execution_count": null,
   "metadata": {
    "collapsed": true
   },
   "outputs": [],
   "source": [
    "to_track"
   ]
  },
  {
   "cell_type": "code",
   "execution_count": 5,
   "metadata": {
    "collapsed": true
   },
   "outputs": [],
   "source": [
    "github_installs=('https://github.com/ccurtis7/diff_classifier.git@scaleup')\n",
    "my_image = ck.DockerImage(func=download_and_track, base_image='arokem/python3-fiji:0.3', github_installs=github_installs)\n",
    "\n",
    "#Step here: delete user info from newly created docker image."
   ]
  },
  {
   "cell_type": "code",
   "execution_count": 7,
   "metadata": {
    "collapsed": true
   },
   "outputs": [],
   "source": [
    "knot = ck.Knot(name='download_and_track_with_my_image_2',\n",
    "               docker_image = my_image,\n",
    "               pars_policies=('AmazonS3FullAccess',))"
   ]
  },
  {
   "cell_type": "code",
   "execution_count": 8,
   "metadata": {
    "collapsed": false
   },
   "outputs": [
    {
     "data": {
      "text/plain": [
       "[<Future at 0x7f55844a7b50 state=running>,\n",
       " <Future at 0x7f55843cf0d0 state=running>,\n",
       " <Future at 0x7f5585f359d0 state=running>,\n",
       " <Future at 0x7f5585f35490 state=running>,\n",
       " <Future at 0x7f5585f35dd0 state=running>,\n",
       " <Future at 0x7f5585f35890 state=running>,\n",
       " <Future at 0x7f55861c2090 state=running>,\n",
       " <Future at 0x7f55861c2e90 state=running>,\n",
       " <Future at 0x7f55861c2f10 state=running>,\n",
       " <Future at 0x7f558590ead0 state=running>,\n",
       " <Future at 0x7f558610b650 state=running>,\n",
       " <Future at 0x7f558610be90 state=running>,\n",
       " <Future at 0x7f558610bed0 state=running>,\n",
       " <Future at 0x7f55858ded10 state=running>,\n",
       " <Future at 0x7f55858def50 state=running>,\n",
       " <Future at 0x7f55858de3d0 state=running>]"
      ]
     },
     "execution_count": 8,
     "metadata": {},
     "output_type": "execute_result"
    }
   ],
   "source": [
    "knot.map(to_track)"
   ]
  },
  {
   "cell_type": "code",
   "execution_count": 21,
   "metadata": {
    "collapsed": false
   },
   "outputs": [
    {
     "name": "stdout",
     "output_type": "stream",
     "text": [
      "Job ID              Name                        Status   \n",
      "---------------------------------------------------------\n",
      "050e8039-4556-4314-9f62-a84d0e89d651        download_and_track_with_my_image_2-3        RUNNABLE \n",
      "d3d32ccb-04a5-4851-84e3-08703304588f        download_and_track_with_my_image_2-12        RUNNABLE \n",
      "5af780b2-16f8-439d-a4b1-55a5017c0b56        download_and_track_with_my_image_2-0        RUNNABLE \n",
      "c95a6d8b-7b6e-4884-9605-06c4089cd584        download_and_track_with_my_image_2-7        RUNNABLE \n",
      "06bde265-b03e-463a-8a3b-1d3e4adf6c04        download_and_track_with_my_image_2-1        RUNNABLE \n",
      "ce6cafb0-0375-41da-ac30-553db846b80d        download_and_track_with_my_image_2-10        RUNNABLE \n",
      "8c856ca8-289a-4f13-8ab2-ed5fc969aada        download_and_track_with_my_image_2-14        RUNNABLE \n",
      "ef6fdf63-426e-4dfa-b52e-bbc792f2b24e        download_and_track_with_my_image_2-9        RUNNABLE \n",
      "6c176bd5-bc53-4d65-a7b1-e78be0dc670c        download_and_track_with_my_image_2-15        RUNNABLE \n",
      "f8be8ef8-7b62-4fdd-ab71-2c16ea642b0c        download_and_track_with_my_image_2-4        RUNNABLE \n",
      "aeb54711-64fe-40ee-b9db-e18598aeb2c8        download_and_track_with_my_image_2-6        RUNNABLE \n",
      "56fcef48-db12-45b6-a7c7-874d00dbe41a        download_and_track_with_my_image_2-8        RUNNABLE \n",
      "734235a4-6b88-4128-9888-20e6d20998c8        download_and_track_with_my_image_2-5        RUNNABLE \n",
      "b482775f-2d4d-46c9-ae6b-ec976c943cf9        download_and_track_with_my_image_2-13        RUNNABLE \n",
      "b9eee277-2304-49ec-9b71-8a31bacda2ba        download_and_track_with_my_image_2-11        RUNNABLE \n",
      "54f79594-4a38-441c-a1b5-281c302efdf3        download_and_track_with_my_image_2-2        FAILED   \n"
     ]
    }
   ],
   "source": [
    "knot.view_jobs()"
   ]
  },
  {
   "cell_type": "code",
   "execution_count": null,
   "metadata": {
    "collapsed": true
   },
   "outputs": [],
   "source": [
    "def download_and_split(filename):\n",
    "    \n",
    "    import diff_classifier.imagej as ij\n",
    "    import diff_classifier.aws as aws\n",
    "    import os.path as op\n",
    "    \n",
    "    local_name = op.split(filename)[1]\n",
    "    DIR = op.split(filename)[0]\n",
    "    try1 = filename.split('.')[0] + '_0_0.tif'\n",
    "    try2 = filename.split('.')[0] + '_3_3.tif'\n",
    "    \n",
    "    s3 = boto3.client('s3')\n",
    "    try:\n",
    "        obj = s3.head_object(Bucket='ccurtis7.pup', Key=try1)\n",
    "    except:\n",
    "        try:\n",
    "            obj = s3.head_object(Bucket='ccurtis7.pup', Key=try2)\n",
    "        except:\n",
    "            aws.download_s3(filename, local_name)\n",
    "            names = ij.partition_im(local_name)\n",
    "            for name in names:\n",
    "                aws.upload_s3(name, op.join(op.split(filename)[0], name))"
   ]
  },
  {
   "cell_type": "code",
   "execution_count": null,
   "metadata": {
    "collapsed": true
   },
   "outputs": [],
   "source": [
    "pups = [\"P1\", \"P2\", \"P3\"]\n",
    "slices = [\"S1\", \"S2\", \"S3\"]\n",
    "hemis = [\"R\", \"L\"]\n",
    "videos = 15\n",
    "folder = '01_18_Experiment'"
   ]
  },
  {
   "cell_type": "code",
   "execution_count": null,
   "metadata": {
    "collapsed": true
   },
   "outputs": [],
   "source": [
    "missing = []\n",
    "for i in range(10, 15):\n",
    "    missing.append(\"P1_S2_R_00{}.tif\".format(i))\n",
    "\n",
    "for i in range(10, 15):\n",
    "    missing.append(\"P2_S3_L_00{}.tif\".format(i))\n",
    "    \n",
    "for i in range(0, 15):\n",
    "    missing.append(\"P3_S3_L_{}.tif\".format(\"%04d\" % i))"
   ]
  },
  {
   "cell_type": "code",
   "execution_count": null,
   "metadata": {
    "collapsed": true
   },
   "outputs": [],
   "source": [
    "to_partition = []\n",
    "for pup in pups:\n",
    "    for slic in slices:\n",
    "        for hemi in hemis:\n",
    "            for i in range(0, videos):\n",
    "                name = \"{}/{}/{}_{}_{}_{}.tif\".format(folder, pup, pup, slic, hemi, \"%04d\" % i)\n",
    "                if not name in missing:\n",
    "                    to_partition.append(name)"
   ]
  },
  {
   "cell_type": "code",
   "execution_count": null,
   "metadata": {
    "collapsed": true
   },
   "outputs": [],
   "source": [
    "for name in to_partition:\n",
    "    download_and_split(name)"
   ]
  },
  {
   "cell_type": "code",
   "execution_count": null,
   "metadata": {
    "collapsed": true
   },
   "outputs": [],
   "source": [
    "!rm P1_S1_R_0000*"
   ]
  },
  {
   "cell_type": "code",
   "execution_count": null,
   "metadata": {
    "collapsed": true
   },
   "outputs": [],
   "source": [
    "to_partition"
   ]
  },
  {
   "cell_type": "code",
   "execution_count": null,
   "metadata": {
    "collapsed": true
   },
   "outputs": [],
   "source": [
    "import boto3"
   ]
  },
  {
   "cell_type": "code",
   "execution_count": null,
   "metadata": {
    "collapsed": true
   },
   "outputs": [],
   "source": [
    "s3 = boto3.resource('s3')\n",
    "\n",
    "try:\n",
    "    s3.Object(\"ccurtis7.pup\", '01_18_Experiment/test_file.tif').load()"
   ]
  },
  {
   "cell_type": "code",
   "execution_count": null,
   "metadata": {
    "collapsed": true
   },
   "outputs": [],
   "source": [
    "s3 = boto3.client('s3')\n",
    "\n",
    "result = s3.list_objects_v2(Bucket=\"ccurtis7.pup\", Prefix=\"/01_18_Experiment/test_filebook.tif\")\n",
    "\n",
    "exists = False\n",
    "if result:\n",
    "    exists = True\n",
    "\n",
    "print(exists)"
   ]
  },
  {
   "cell_type": "code",
   "execution_count": null,
   "metadata": {
    "collapsed": true
   },
   "outputs": [],
   "source": [
    "for obj in result.get('Contents', []):\n",
    "    if obj['Key'] == \"/01_18_Experiment/test_filebook.tif\":\n",
    "        print('Object here')\n",
    "    else:\n",
    "        print('Object not here')"
   ]
  },
  {
   "cell_type": "code",
   "execution_count": null,
   "metadata": {
    "collapsed": true
   },
   "outputs": [],
   "source": [
    "try:\n",
    "    obj = s3.head_object(Bucket='ccurtis7.pup', Key=\"01_18_Experiment/test_file.tif\")\n",
    "except:\n",
    "    print(\"Does not exist\")"
   ]
  },
  {
   "cell_type": "code",
   "execution_count": null,
   "metadata": {
    "collapsed": true
   },
   "outputs": [],
   "source": []
  }
 ],
 "metadata": {
  "kernelspec": {
   "display_name": "Python 3",
   "language": "python",
   "name": "python3"
  },
  "language_info": {
   "codemirror_mode": {
    "name": "ipython",
    "version": 3
   },
   "file_extension": ".py",
   "mimetype": "text/x-python",
   "name": "python",
   "nbconvert_exporter": "python",
   "pygments_lexer": "ipython3",
   "version": "3.5.3"
  }
 },
 "nbformat": 4,
 "nbformat_minor": 2
}
