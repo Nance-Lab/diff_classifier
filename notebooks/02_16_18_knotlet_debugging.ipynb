{
 "cells": [
  {
   "cell_type": "code",
   "execution_count": 1,
   "metadata": {},
   "outputs": [],
   "source": [
    "import os\n",
    "import diff_classifier.imagej as ij\n",
    "import boto3\n",
    "import os.path as op\n",
    "import diff_classifier.aws as aws\n",
    "import cloudknot as ck\n",
    "import diff_classifier.knotlets as kn\n",
    "import numpy as np"
   ]
  },
  {
   "cell_type": "code",
   "execution_count": null,
   "metadata": {},
   "outputs": [
    {
     "name": "stdout",
     "output_type": "stream",
     "text": [
      "Done with tracking.  Should output file of name 01_18_Experiment/P1/Traj_P1_S3_L_0000_0_0.csv\n",
      "Done with tracking.  Should output file of name 01_18_Experiment/P1/Traj_P1_S3_L_0000_0_1.csv\n",
      "Done with tracking.  Should output file of name 01_18_Experiment/P1/Traj_P1_S3_L_0000_0_2.csv\n",
      "Done with tracking.  Should output file of name 01_18_Experiment/P1/Traj_P1_S3_L_0000_0_3.csv\n",
      "Done with tracking.  Should output file of name 01_18_Experiment/P1/Traj_P1_S3_L_0000_1_0.csv\n",
      "Done with tracking.  Should output file of name 01_18_Experiment/P1/Traj_P1_S3_L_0000_1_1.csv\n",
      "Done with tracking.  Should output file of name 01_18_Experiment/P1/Traj_P1_S3_L_0000_1_2.csv\n",
      "Done with tracking.  Should output file of name 01_18_Experiment/P1/Traj_P1_S3_L_0000_1_3.csv\n",
      "Done with tracking.  Should output file of name 01_18_Experiment/P1/Traj_P1_S3_L_0000_2_0.csv\n",
      "Done with tracking.  Should output file of name 01_18_Experiment/P1/Traj_P1_S3_L_0000_2_1.csv\n",
      "Done with tracking.  Should output file of name 01_18_Experiment/P1/Traj_P1_S3_L_0000_2_2.csv\n",
      "Done with tracking.  Should output file of name 01_18_Experiment/P1/Traj_P1_S3_L_0000_2_3.csv\n",
      "Done with tracking.  Should output file of name 01_18_Experiment/P1/Traj_P1_S3_L_0000_3_0.csv\n",
      "Done with tracking.  Should output file of name 01_18_Experiment/P1/Traj_P1_S3_L_0000_3_1.csv\n",
      "Done with tracking.  Should output file of name 01_18_Experiment/P1/Traj_P1_S3_L_0000_3_2.csv\n",
      "Done with tracking.  Should output file of name 01_18_Experiment/P1/Traj_P1_S3_L_0000_3_3.csv\n"
     ]
    }
   ],
   "source": [
    "kn.download_split_track_msds('P1_S3_L_0000')"
   ]
  },
  {
   "cell_type": "code",
   "execution_count": null,
   "metadata": {},
   "outputs": [],
   "source": [
    "prefix = 'P1_S3_L_0000'\n",
    "\n",
    "remote_folder = \"01_18_Experiment/{}\".format(prefix.split('_')[0])\n",
    "local_folder = os.getcwd()\n",
    "ires = 512\n",
    "frames = 651\n",
    "filename = '{}.tif'.format(prefix)\n",
    "remote_name = op.join(remote_folder, filename)\n",
    "local_name = op.join(local_folder, filename)\n",
    "\n",
    "#local_name = op.split(filename)[1]\n",
    "#DIR = op.split(filename)[0]\n",
    "try1 = prefix + '_0_0.tif'\n",
    "try2 = prefix + '_3_3.tif'\n",
    "\n",
    "# s3 = boto3.client('s3')\n",
    "# try:\n",
    "#     obj = s3.head_object(Bucket='ccurtis7.pup', Key=op.join(remote_folder, try1))\n",
    "# except:\n",
    "#     try:\n",
    "#         obj = s3.head_object(Bucket='ccurtis7.pup', Key=op.join(remote_folder, try2))\n",
    "#     except:\n",
    "#         aws.download_s3(remote_name, local_name)\n",
    "#         names = ij.partition_im(local_name)\n",
    "#         for name in names:\n",
    "#             aws.upload_s3(name, op.join(remote_folder, name))\n",
    "# print(\"Done with splitting.  Should output file of name {}\".format(op.join(remote_folder, name)))"
   ]
  },
  {
   "cell_type": "code",
   "execution_count": null,
   "metadata": {},
   "outputs": [],
   "source": [
    "names = []\n",
    "for i in range(0, 4):\n",
    "    for j in range(0, 4):\n",
    "        names.append('{}_{}_{}.tif'.format(prefix, i, j))\n",
    "\n",
    "for name in names:\n",
    "    outfile = 'Traj_' + name.split('.')[0] + '.csv'\n",
    "    local_im = op.join(local_folder, name)\n",
    "    print(op.isfile(outfile))"
   ]
  },
  {
   "cell_type": "code",
   "execution_count": null,
   "metadata": {},
   "outputs": [],
   "source": [
    "outfile"
   ]
  },
  {
   "cell_type": "code",
   "execution_count": null,
   "metadata": {},
   "outputs": [],
   "source": []
  }
 ],
 "metadata": {
  "kernelspec": {
   "display_name": "Python 2",
   "language": "python",
   "name": "python2"
  },
  "language_info": {
   "codemirror_mode": {
    "name": "ipython",
    "version": 2
   },
   "file_extension": ".py",
   "mimetype": "text/x-python",
   "name": "python",
   "nbconvert_exporter": "python",
   "pygments_lexer": "ipython2",
   "version": "2.7.12"
  }
 },
 "nbformat": 4,
 "nbformat_minor": 2
}
