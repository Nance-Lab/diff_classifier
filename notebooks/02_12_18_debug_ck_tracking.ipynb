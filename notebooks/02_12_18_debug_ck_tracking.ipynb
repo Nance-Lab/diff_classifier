{
 "cells": [
  {
   "cell_type": "code",
   "execution_count": 1,
   "metadata": {},
   "outputs": [],
   "source": [
    "import os\n",
    "import diff_classifier.imagej as ij\n",
    "import boto3\n",
    "import os.path as op\n",
    "import diff_classifier.aws as aws\n",
    "import cloudknot as ck\n",
    "import diff_classifier.knotlets as kn\n",
    "import numpy as np"
   ]
  },
  {
   "cell_type": "code",
   "execution_count": 3,
   "metadata": {},
   "outputs": [],
   "source": [
    "rows = ['0', '1', '2', '3']\n",
    "folder = '01_18_Experiment'\n",
    "\n",
    "missing = []\n",
    "for i in range(10, 15):\n",
    "    for row in rows:\n",
    "        for col in rows:\n",
    "            missing.append(\"{}/P1/P1_S2_R_00{}_{}_{}.tif\".format(folder, i, row, col))\n",
    "\n",
    "for i in range(10, 15):\n",
    "    for row in rows:\n",
    "        for col in rows:\n",
    "            missing.append(\"{}/P2/P2_S3_L_00{}_{}_{}.tif\".format(folder, i, row, col))\n",
    "    \n",
    "for i in range(0, 15):\n",
    "    for row in rows:\n",
    "        for col in rows:\n",
    "            missing.append(\"{}/P3/P3_S3_L_{}_{}_{}.tif\".format(folder, \"%04d\" % i, row, col))"
   ]
  },
  {
   "cell_type": "code",
   "execution_count": 4,
   "metadata": {},
   "outputs": [
    {
     "name": "stdout",
     "output_type": "stream",
     "text": [
      "Number of nodes to be loaded: 96\n",
      "Next knot name: 31\n",
      "Number of nodes to be loaded: 96\n",
      "Next knot name: 32\n",
      "Number of nodes to be loaded: 96\n",
      "Next knot name: 33\n",
      "Number of nodes to be loaded: 96\n",
      "Next knot name: 34\n",
      "Number of nodes to be loaded: 96\n",
      "Next knot name: 35\n",
      "Number of nodes to be loaded: 96\n",
      "Next knot name: 36\n",
      "Number of nodes to be loaded: 96\n"
     ]
    },
    {
     "ename": "KeyboardInterrupt",
     "evalue": "",
     "output_type": "error",
     "traceback": [
      "\u001b[0;31m---------------------------------------------------------------------------\u001b[0m",
      "\u001b[0;31mKeyboardInterrupt\u001b[0m                         Traceback (most recent call last)",
      "\u001b[0;32m<ipython-input-4-e9f0d976f351>\u001b[0m in \u001b[0;36m<module>\u001b[0;34m()\u001b[0m\n\u001b[1;32m     47\u001b[0m                            \u001b[0mdocker_image\u001b[0m \u001b[0;34m=\u001b[0m \u001b[0mmy_image\u001b[0m\u001b[0;34m,\u001b[0m\u001b[0;34m\u001b[0m\u001b[0m\n\u001b[1;32m     48\u001b[0m                            pars_policies=('AmazonS3FullAccess',))\n\u001b[0;32m---> 49\u001b[0;31m             \u001b[0mresult_futures\u001b[0m\u001b[0;34m[\u001b[0m\u001b[0mrun_name\u001b[0m\u001b[0;34m]\u001b[0m \u001b[0;34m=\u001b[0m \u001b[0mknot\u001b[0m\u001b[0;34m[\u001b[0m\u001b[0mrun_name\u001b[0m\u001b[0;34m]\u001b[0m\u001b[0;34m.\u001b[0m\u001b[0mmap\u001b[0m\u001b[0;34m(\u001b[0m\u001b[0mto_track\u001b[0m\u001b[0;34m[\u001b[0m\u001b[0mrun_name\u001b[0m\u001b[0;34m]\u001b[0m\u001b[0;34m)\u001b[0m\u001b[0;34m\u001b[0m\u001b[0m\n\u001b[0m\u001b[1;32m     50\u001b[0m             \u001b[0mstart_knot\u001b[0m \u001b[0;34m=\u001b[0m \u001b[0mstart_knot\u001b[0m \u001b[0;34m+\u001b[0m \u001b[0;36m1\u001b[0m\u001b[0;34m\u001b[0m\u001b[0m\n\u001b[1;32m     51\u001b[0m             \u001b[0;32mprint\u001b[0m\u001b[0;34m(\u001b[0m\u001b[0;34m'Next knot name: {}'\u001b[0m\u001b[0;34m.\u001b[0m\u001b[0mformat\u001b[0m\u001b[0;34m(\u001b[0m\u001b[0mstart_knot\u001b[0m\u001b[0;34m)\u001b[0m\u001b[0;34m)\u001b[0m\u001b[0;34m\u001b[0m\u001b[0m\n",
      "\u001b[0;32m/usr/local/lib/python2.7/dist-packages/cloudknot-0.3.dev0-py2.7.egg/cloudknot/cloudknot.pyc\u001b[0m in \u001b[0;36mmap\u001b[0;34m(self, iterdata, env_vars, max_threads, starmap)\u001b[0m\n\u001b[1;32m   1544\u001b[0m                 \u001b[0mjob_queue\u001b[0m\u001b[0;34m=\u001b[0m\u001b[0mself\u001b[0m\u001b[0;34m.\u001b[0m\u001b[0mjob_queue\u001b[0m\u001b[0;34m,\u001b[0m\u001b[0;34m\u001b[0m\u001b[0m\n\u001b[1;32m   1545\u001b[0m                 \u001b[0mjob_definition\u001b[0m\u001b[0;34m=\u001b[0m\u001b[0mself\u001b[0m\u001b[0;34m.\u001b[0m\u001b[0mjob_definition\u001b[0m\u001b[0;34m,\u001b[0m\u001b[0;34m\u001b[0m\u001b[0m\n\u001b[0;32m-> 1546\u001b[0;31m                 \u001b[0menvironment_variables\u001b[0m\u001b[0;34m=\u001b[0m\u001b[0menv_vars\u001b[0m\u001b[0;34m\u001b[0m\u001b[0m\n\u001b[0m\u001b[1;32m   1547\u001b[0m             )\n\u001b[1;32m   1548\u001b[0m \u001b[0;34m\u001b[0m\u001b[0m\n",
      "\u001b[0;32m/usr/local/lib/python2.7/dist-packages/cloudknot-0.3.dev0-py2.7.egg/cloudknot/aws/batch.pyc\u001b[0m in \u001b[0;36m__init__\u001b[0;34m(self, job_id, name, job_queue, job_definition, input, starmap, environment_variables)\u001b[0m\n\u001b[1;32m   1549\u001b[0m             ))\n\u001b[1;32m   1550\u001b[0m         \u001b[0;32melse\u001b[0m\u001b[0;34m:\u001b[0m\u001b[0;34m\u001b[0m\u001b[0m\n\u001b[0;32m-> 1551\u001b[0;31m             \u001b[0msuper\u001b[0m\u001b[0;34m(\u001b[0m\u001b[0mBatchJob\u001b[0m\u001b[0;34m,\u001b[0m \u001b[0mself\u001b[0m\u001b[0;34m)\u001b[0m\u001b[0;34m.\u001b[0m\u001b[0m__init__\u001b[0m\u001b[0;34m(\u001b[0m\u001b[0mname\u001b[0m\u001b[0;34m=\u001b[0m\u001b[0mname\u001b[0m\u001b[0;34m)\u001b[0m\u001b[0;34m\u001b[0m\u001b[0m\n\u001b[0m\u001b[1;32m   1552\u001b[0m \u001b[0;34m\u001b[0m\u001b[0m\n\u001b[1;32m   1553\u001b[0m             \u001b[0;32mif\u001b[0m \u001b[0;32mnot\u001b[0m \u001b[0misinstance\u001b[0m\u001b[0;34m(\u001b[0m\u001b[0mjob_queue\u001b[0m\u001b[0;34m,\u001b[0m \u001b[0mJobQueue\u001b[0m\u001b[0;34m)\u001b[0m\u001b[0;34m:\u001b[0m\u001b[0;34m\u001b[0m\u001b[0m\n",
      "\u001b[0;32m/usr/local/lib/python2.7/dist-packages/cloudknot-0.3.dev0-py2.7.egg/cloudknot/aws/base_classes.pyc\u001b[0m in \u001b[0;36m__init__\u001b[0;34m(self, name)\u001b[0m\n\u001b[1;32m    910\u001b[0m         \u001b[0mself\u001b[0m\u001b[0;34m.\u001b[0m\u001b[0m_name\u001b[0m \u001b[0;34m=\u001b[0m \u001b[0mstr\u001b[0m\u001b[0;34m(\u001b[0m\u001b[0mname\u001b[0m\u001b[0;34m)\u001b[0m\u001b[0;34m\u001b[0m\u001b[0m\n\u001b[1;32m    911\u001b[0m         \u001b[0mself\u001b[0m\u001b[0;34m.\u001b[0m\u001b[0m_clobbered\u001b[0m \u001b[0;34m=\u001b[0m \u001b[0mFalse\u001b[0m\u001b[0;34m\u001b[0m\u001b[0m\n\u001b[0;32m--> 912\u001b[0;31m         \u001b[0mself\u001b[0m\u001b[0;34m.\u001b[0m\u001b[0m_region\u001b[0m \u001b[0;34m=\u001b[0m \u001b[0mget_region\u001b[0m\u001b[0;34m(\u001b[0m\u001b[0;34m)\u001b[0m\u001b[0;34m\u001b[0m\u001b[0m\n\u001b[0m\u001b[1;32m    913\u001b[0m         \u001b[0mself\u001b[0m\u001b[0;34m.\u001b[0m\u001b[0m_profile\u001b[0m \u001b[0;34m=\u001b[0m \u001b[0mget_profile\u001b[0m\u001b[0;34m(\u001b[0m\u001b[0;34m)\u001b[0m\u001b[0;34m\u001b[0m\u001b[0m\n\u001b[1;32m    914\u001b[0m \u001b[0;34m\u001b[0m\u001b[0m\n",
      "\u001b[0;32m/usr/local/lib/python2.7/dist-packages/cloudknot-0.3.dev0-py2.7.egg/cloudknot/aws/base_classes.pyc\u001b[0m in \u001b[0;36mget_region\u001b[0;34m()\u001b[0m\n\u001b[1;32m    391\u001b[0m \u001b[0;34m\u001b[0m\u001b[0m\n\u001b[1;32m    392\u001b[0m     \u001b[0;32mwith\u001b[0m \u001b[0mrlock\u001b[0m\u001b[0;34m:\u001b[0m\u001b[0;34m\u001b[0m\u001b[0m\n\u001b[0;32m--> 393\u001b[0;31m         \u001b[0mconfig\u001b[0m\u001b[0;34m.\u001b[0m\u001b[0mread\u001b[0m\u001b[0;34m(\u001b[0m\u001b[0mconfig_file\u001b[0m\u001b[0;34m)\u001b[0m\u001b[0;34m\u001b[0m\u001b[0m\n\u001b[0m\u001b[1;32m    394\u001b[0m \u001b[0;34m\u001b[0m\u001b[0m\n\u001b[1;32m    395\u001b[0m         \u001b[0;32mif\u001b[0m \u001b[0mconfig\u001b[0m\u001b[0;34m.\u001b[0m\u001b[0mhas_section\u001b[0m\u001b[0;34m(\u001b[0m\u001b[0;34m'aws'\u001b[0m\u001b[0;34m)\u001b[0m \u001b[0;32mand\u001b[0m \u001b[0mconfig\u001b[0m\u001b[0;34m.\u001b[0m\u001b[0mhas_option\u001b[0m\u001b[0;34m(\u001b[0m\u001b[0;34m'aws'\u001b[0m\u001b[0;34m,\u001b[0m \u001b[0;34m'region'\u001b[0m\u001b[0;34m)\u001b[0m\u001b[0;34m:\u001b[0m\u001b[0;34m\u001b[0m\u001b[0m\n",
      "\u001b[0;32m/usr/local/lib/python2.7/dist-packages/backports/configparser/__init__.pyc\u001b[0m in \u001b[0;36mread\u001b[0;34m(self, filenames, encoding)\u001b[0m\n\u001b[1;32m    703\u001b[0m             \u001b[0;32mtry\u001b[0m\u001b[0;34m:\u001b[0m\u001b[0;34m\u001b[0m\u001b[0m\n\u001b[1;32m    704\u001b[0m                 \u001b[0;32mwith\u001b[0m \u001b[0mopen\u001b[0m\u001b[0;34m(\u001b[0m\u001b[0mfilename\u001b[0m\u001b[0;34m,\u001b[0m \u001b[0mencoding\u001b[0m\u001b[0;34m=\u001b[0m\u001b[0mencoding\u001b[0m\u001b[0;34m)\u001b[0m \u001b[0;32mas\u001b[0m \u001b[0mfp\u001b[0m\u001b[0;34m:\u001b[0m\u001b[0;34m\u001b[0m\u001b[0m\n\u001b[0;32m--> 705\u001b[0;31m                     \u001b[0mself\u001b[0m\u001b[0;34m.\u001b[0m\u001b[0m_read\u001b[0m\u001b[0;34m(\u001b[0m\u001b[0mfp\u001b[0m\u001b[0;34m,\u001b[0m \u001b[0mfilename\u001b[0m\u001b[0;34m)\u001b[0m\u001b[0;34m\u001b[0m\u001b[0m\n\u001b[0m\u001b[1;32m    706\u001b[0m             \u001b[0;32mexcept\u001b[0m \u001b[0mIOError\u001b[0m\u001b[0;34m:\u001b[0m\u001b[0;34m\u001b[0m\u001b[0m\n\u001b[1;32m    707\u001b[0m                 \u001b[0;32mcontinue\u001b[0m\u001b[0;34m\u001b[0m\u001b[0m\n",
      "\u001b[0;32m/usr/local/lib/python2.7/dist-packages/backports/configparser/__init__.pyc\u001b[0m in \u001b[0;36m_read\u001b[0;34m(self, fp, fpname)\u001b[0m\n\u001b[1;32m   1038\u001b[0m             inline_prefixes = dict(\n\u001b[1;32m   1039\u001b[0m                 (p, -1) for p in self._inline_comment_prefixes)\n\u001b[0;32m-> 1040\u001b[0;31m             \u001b[0;32mwhile\u001b[0m \u001b[0mcomment_start\u001b[0m \u001b[0;34m==\u001b[0m \u001b[0msys\u001b[0m\u001b[0;34m.\u001b[0m\u001b[0mmaxsize\u001b[0m \u001b[0;32mand\u001b[0m \u001b[0minline_prefixes\u001b[0m\u001b[0;34m:\u001b[0m\u001b[0;34m\u001b[0m\u001b[0m\n\u001b[0m\u001b[1;32m   1041\u001b[0m                 \u001b[0mnext_prefixes\u001b[0m \u001b[0;34m=\u001b[0m \u001b[0;34m{\u001b[0m\u001b[0;34m}\u001b[0m\u001b[0;34m\u001b[0m\u001b[0m\n\u001b[1;32m   1042\u001b[0m                 \u001b[0;32mfor\u001b[0m \u001b[0mprefix\u001b[0m\u001b[0;34m,\u001b[0m \u001b[0mindex\u001b[0m \u001b[0;32min\u001b[0m \u001b[0minline_prefixes\u001b[0m\u001b[0;34m.\u001b[0m\u001b[0mitems\u001b[0m\u001b[0;34m(\u001b[0m\u001b[0;34m)\u001b[0m\u001b[0;34m:\u001b[0m\u001b[0;34m\u001b[0m\u001b[0m\n",
      "\u001b[0;31mKeyboardInterrupt\u001b[0m: "
     ]
    }
   ],
   "source": [
    "to_track = {}\n",
    "knot = {}\n",
    "result_futures = {}\n",
    "start_knot = 30\n",
    "\n",
    "pups = [\"P1\", \"P2\", \"P3\"]\n",
    "slices = [\"S1\", \"S2\", \"S3\"]\n",
    "folder = '01_18_Experiment'\n",
    "start_vid = [0, 3, 6, 9, 12]\n",
    "end_vid = [3, 6, 9, 12, 15]\n",
    "\n",
    "hemis = [\"R\", \"L\"]\n",
    "rows = ['0', '1', '2', '3']\n",
    "\n",
    "github_installs=('https://github.com/ccurtis7/diff_classifier.git@scaleup')\n",
    "my_image = ck.DockerImage(func=kn.download_and_track, base_image='arokem/python3-fiji:0.3', github_installs=github_installs)\n",
    "\n",
    "docker_file = open(my_image.docker_path)\n",
    "docker_string = docker_file.read()\n",
    "docker_file.close()\n",
    "\n",
    "cut1 = docker_string.find('# Create a default user')\n",
    "cut2 = docker_string[cut1:].find('\\n\\n') + cut1\n",
    "new_docker = docker_string[0:cut1]+docker_string[cut2:]\n",
    "docker_overwrite = open(my_image.docker_path, 'w')\n",
    "docker_overwrite.write(new_docker)\n",
    "docker_overwrite.close()\n",
    "\n",
    "for pup in pups:\n",
    "    for slic in slices:\n",
    "        for start_ind in range(0, 5):\n",
    "\n",
    "            run_name = '{}_{}_{}'.format(pup, slic, start_ind)\n",
    "            to_track[run_name] = []\n",
    "            for hemi in hemis:\n",
    "                for i in range(start_vid[start_ind], end_vid[start_ind]):\n",
    "                    for row in rows:\n",
    "                        for col in rows:\n",
    "                            name = \"{}/{}/{}_{}_{}_{}_{}_{}.tif\".format(folder, pup, pup, slic, hemi, \"%04d\" % i, row, col)\n",
    "                            if not name in missing:\n",
    "                                to_track[run_name].append(name)\n",
    "\n",
    "            test_length = len(to_track[run_name])\n",
    "            print('Number of nodes to be loaded: {}'.format(test_length))\n",
    "            \n",
    "            knot[run_name] = ck.Knot(name='download_and_track_with_my_image_{}'.format(start_knot),\n",
    "                           docker_image = my_image,\n",
    "                           pars_policies=('AmazonS3FullAccess',))\n",
    "            result_futures[run_name] = knot[run_name].map(to_track[run_name])\n",
    "            start_knot = start_knot + 1\n",
    "            print('Next knot name: {}'.format(start_knot))"
   ]
  },
  {
   "cell_type": "code",
   "execution_count": null,
   "metadata": {},
   "outputs": [],
   "source": [
    "# github_installs=('https://github.com/ccurtis7/diff_classifier.git@scaleup')\n",
    "# my_image = ck.DockerImage(func=kn.download_and_track, base_image='arokem/python3-fiji:0.3', github_installs=github_installs)\n",
    "\n",
    "# docker_file = open(my_image.docker_path)\n",
    "# docker_string = docker_file.read()\n",
    "# docker_file.close()\n",
    "\n",
    "# cut1 = docker_string.find('# Create a default user')\n",
    "# cut2 = docker_string[cut1:].find('\\n\\n') + cut1\n",
    "# new_docker = docker_string[0:cut1]+docker_string[cut2:]\n",
    "# docker_overwrite = open(my_image.docker_path, 'w')\n",
    "# docker_overwrite.write(new_docker)\n",
    "# docker_overwrite.close()\n",
    "\n",
    "# knot1 = ck.Knot(name='download_and_track_with_my_image_27',\n",
    "#                docker_image = my_image,\n",
    "#                pars_policies=('AmazonS3FullAccess',))\n",
    "# result_futures = knot1.map(to_track)"
   ]
  },
  {
   "cell_type": "code",
   "execution_count": null,
   "metadata": {},
   "outputs": [],
   "source": [
    "knot1.view_jobs()"
   ]
  },
  {
   "cell_type": "code",
   "execution_count": null,
   "metadata": {},
   "outputs": [],
   "source": [
    "knot1.clobber()"
   ]
  },
  {
   "cell_type": "code",
   "execution_count": 5,
   "metadata": {},
   "outputs": [
    {
     "name": "stdout",
     "output_type": "stream",
     "text": [
      "P1_S2_1\n",
      "P1_S2_0\n",
      "P1_S1_4\n",
      "P1_S1_2\n",
      "P1_S1_3\n",
      "P1_S1_0\n",
      "P1_S1_1\n"
     ]
    }
   ],
   "source": [
    "for key in knot:\n",
    "    print key\n",
    "    knot[key].clobber()"
   ]
  },
  {
   "cell_type": "code",
   "execution_count": null,
   "metadata": {},
   "outputs": [],
   "source": [
    "for key in knot"
   ]
  }
 ],
 "metadata": {
  "kernelspec": {
   "display_name": "Python 2",
   "language": "python",
   "name": "python2"
  },
  "language_info": {
   "codemirror_mode": {
    "name": "ipython",
    "version": 2
   },
   "file_extension": ".py",
   "mimetype": "text/x-python",
   "name": "python",
   "nbconvert_exporter": "python",
   "pygments_lexer": "ipython2",
   "version": "2.7.12"
  }
 },
 "nbformat": 4,
 "nbformat_minor": 2
}
