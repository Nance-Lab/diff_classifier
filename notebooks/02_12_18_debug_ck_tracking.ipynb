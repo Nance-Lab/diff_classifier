{
 "cells": [
  {
   "cell_type": "code",
   "execution_count": 1,
   "metadata": {},
   "outputs": [],
   "source": [
    "import os\n",
    "import diff_classifier.imagej as ij\n",
    "import boto3\n",
    "import os.path as op\n",
    "import diff_classifier.aws as aws\n",
    "import cloudknot as ck\n",
    "import diff_classifier.knotlets as kn\n",
    "import numpy as np"
   ]
  },
  {
   "cell_type": "code",
   "execution_count": 2,
   "metadata": {},
   "outputs": [],
   "source": [
    "rows = ['0', '1', '2', '3']\n",
    "folder = '01_18_Experiment'\n",
    "\n",
    "missing = []\n",
    "for i in range(10, 15):\n",
    "    for row in rows:\n",
    "        for col in rows:\n",
    "            missing.append(\"{}/P1/P1_S2_R_00{}_{}_{}.tif\".format(folder, i, row, col))\n",
    "\n",
    "for i in range(10, 15):\n",
    "    for row in rows:\n",
    "        for col in rows:\n",
    "            missing.append(\"{}/P2/P2_S3_L_00{}_{}_{}.tif\".format(folder, i, row, col))\n",
    "    \n",
    "for i in range(0, 15):\n",
    "    for row in rows:\n",
    "        for col in rows:\n",
    "            missing.append(\"{}/P3/P3_S3_L_{}_{}_{}.tif\".format(folder, \"%04d\" % i, row, col))"
   ]
  },
  {
   "cell_type": "code",
   "execution_count": null,
   "metadata": {},
   "outputs": [],
   "source": [
    "req = open(op.join(op.split(my_image.docker_path)[0], 'requirements.txt'))\n",
    "req_string = req.read()\n",
    "req.close()\n",
    "\n",
    "new_req = req_string[0:req_string.find('\\n')-1]+'8'+ req_string[req_string.find('\\n'):]\n",
    "req_overwrite = open(op.join(op.split(my_image.docker_path)[0], 'requirements.txt'), 'w')\n",
    "req_overwrite.write(new_req)\n",
    "req_overwrite.close()"
   ]
  },
  {
   "cell_type": "code",
   "execution_count": null,
   "metadata": {},
   "outputs": [
    {
     "name": "stdout",
     "output_type": "stream",
     "text": [
      "Number of nodes to be loaded: 96\n",
      "Next knot name: 51\n",
      "Number of nodes to be loaded: 96\n",
      "Next knot name: 52\n",
      "Number of nodes to be loaded: 96\n",
      "Next knot name: 53\n",
      "Number of nodes to be loaded: 96\n",
      "Next knot name: 54\n",
      "Number of nodes to be loaded: 96\n",
      "Next knot name: 55\n",
      "Number of nodes to be loaded: 96\n",
      "Next knot name: 56\n",
      "Number of nodes to be loaded: 96\n",
      "Next knot name: 57\n",
      "Number of nodes to be loaded: 96\n",
      "Next knot name: 58\n",
      "Number of nodes to be loaded: 64\n",
      "Next knot name: 59\n",
      "Number of nodes to be loaded: 48\n",
      "Next knot name: 60\n",
      "Number of nodes to be loaded: 96\n",
      "Next knot name: 61\n",
      "Number of nodes to be loaded: 96\n"
     ]
    }
   ],
   "source": [
    "to_track = {}\n",
    "knot = {}\n",
    "result_futures = {}\n",
    "start_knot = 50\n",
    "\n",
    "pups = [\"P1\"]\n",
    "slices = [\"S1\", \"S2\", \"S3\"]\n",
    "folder = '01_18_Experiment'\n",
    "start_vid = [0, 3, 6, 9, 12]\n",
    "end_vid = [3, 6, 9, 12, 15]\n",
    "\n",
    "hemis = [\"R\", \"L\"]\n",
    "rows = ['0', '1', '2', '3']\n",
    "\n",
    "github_installs=('https://github.com/ccurtis7/diff_classifier.git')\n",
    "my_image = ck.DockerImage(func=kn.download_and_track, base_image='arokem/python3-fiji:0.3', github_installs=github_installs)\n",
    "\n",
    "docker_file = open(my_image.docker_path)\n",
    "docker_string = docker_file.read()\n",
    "docker_file.close()\n",
    "\n",
    "cut1 = docker_string.find('# Create a default user')\n",
    "cut2 = docker_string[cut1:].find('\\n\\n') + cut1\n",
    "new_docker = docker_string[0:cut1]+docker_string[cut2:]\n",
    "docker_overwrite = open(my_image.docker_path, 'w')\n",
    "docker_overwrite.write(new_docker)\n",
    "docker_overwrite.close()\n",
    "\n",
    "req = open(op.join(op.split(my_image.docker_path)[0], 'requirements.txt'))\n",
    "req_string = req.read()\n",
    "req.close()\n",
    "\n",
    "new_req = req_string[0:req_string.find('\\n')-2]+'28'+ req_string[req_string.find('\\n'):]\n",
    "req_overwrite = open(op.join(op.split(my_image.docker_path)[0], 'requirements.txt'), 'w')\n",
    "req_overwrite.write(new_req)\n",
    "req_overwrite.close()\n",
    "\n",
    "for pup in pups:\n",
    "    for slic in slices:\n",
    "        for start_ind in range(0, 5):\n",
    "\n",
    "            run_name = '{}_{}_{}'.format(pup, slic, start_ind)\n",
    "            to_track[run_name] = []\n",
    "            for hemi in hemis:\n",
    "                for i in range(start_vid[start_ind], end_vid[start_ind]):\n",
    "                    for row in rows:\n",
    "                        for col in rows:\n",
    "                            name = \"{}/{}/{}_{}_{}_{}_{}_{}.tif\".format(folder, pup, pup, slic, hemi, \"%04d\" % i, row, col)\n",
    "                            if not name in missing:\n",
    "                                to_track[run_name].append(name)\n",
    "\n",
    "            test_length = len(to_track[run_name])\n",
    "            print('Number of nodes to be loaded: {}'.format(test_length))\n",
    "            \n",
    "            knot[run_name] = ck.Knot(name='download_and_track_with_my_image_{}'.format(start_knot),\n",
    "                           docker_image = my_image,\n",
    "                           pars_policies=('AmazonS3FullAccess',))\n",
    "            result_futures[run_name] = knot[run_name].map(to_track[run_name])\n",
    "            start_knot = start_knot + 1\n",
    "            print('Next knot name: {}'.format(start_knot))"
   ]
  },
  {
   "cell_type": "code",
   "execution_count": null,
   "metadata": {},
   "outputs": [],
   "source": [
    "req = open(op.join(op.split(my_image.docker_path)[0], 'requirements.txt'))\n",
    "req_string = req.read()\n",
    "req.close()\n",
    "\n",
    "new_req = req_string[0:req_string.find('\\n')-1]+'8'+ req_string[req_string.find('\\n'):]\n",
    "req_overwrite = open(op.join(op.split(my_image.docker_path)[0], 'requirements.txt'), 'w')\n",
    "req_overwrite.write(new_req)\n",
    "req_overwrite.close()"
   ]
  },
  {
   "cell_type": "code",
   "execution_count": null,
   "metadata": {},
   "outputs": [],
   "source": [
    "# github_installs=('https://github.com/ccurtis7/diff_classifier.git@scaleup')\n",
    "# my_image = ck.DockerImage(func=kn.download_and_track, base_image='arokem/python3-fiji:0.3', github_installs=github_installs)\n",
    "\n",
    "# docker_file = open(my_image.docker_path)\n",
    "# docker_string = docker_file.read()\n",
    "# docker_file.close()\n",
    "\n",
    "# cut1 = docker_string.find('# Create a default user')\n",
    "# cut2 = docker_string[cut1:].find('\\n\\n') + cut1\n",
    "# new_docker = docker_string[0:cut1]+docker_string[cut2:]\n",
    "# docker_overwrite = open(my_image.docker_path, 'w')\n",
    "# docker_overwrite.write(new_docker)\n",
    "# docker_overwrite.close()\n",
    "\n",
    "# knot1 = ck.Knot(name='download_and_track_with_my_image_27',\n",
    "#                docker_image = my_image,\n",
    "#                pars_policies=('AmazonS3FullAccess',))\n",
    "# result_futures = knot1.map(to_track)"
   ]
  },
  {
   "cell_type": "code",
   "execution_count": null,
   "metadata": {},
   "outputs": [],
   "source": [
    "knot1.view_jobs()"
   ]
  },
  {
   "cell_type": "code",
   "execution_count": null,
   "metadata": {},
   "outputs": [],
   "source": [
    "knot1.clobber()"
   ]
  },
  {
   "cell_type": "code",
   "execution_count": null,
   "metadata": {},
   "outputs": [],
   "source": [
    "ck.Knot(name='download_and_track_with_my_image_30').clobber()"
   ]
  },
  {
   "cell_type": "code",
   "execution_count": null,
   "metadata": {},
   "outputs": [],
   "source": [
    "\n",
    "to_clob = [12, 2, 22, 1, 3, 31, 32, 33, 34, 35, 36, 37, 4, 5]\n",
    "for num in to_clob:\n",
    "    ck.Knot(name='download_and_track_with_my_image_{}'.format(num))\n"
   ]
  },
  {
   "cell_type": "code",
   "execution_count": null,
   "metadata": {},
   "outputs": [],
   "source": [
    "ck.Knot(name='download_and_track_with_my_image_31').clobber()"
   ]
  },
  {
   "cell_type": "code",
   "execution_count": null,
   "metadata": {},
   "outputs": [],
   "source": []
  },
  {
   "cell_type": "code",
   "execution_count": null,
   "metadata": {},
   "outputs": [],
   "source": [
    "for key in knot:\n",
    "    print key\n",
    "    knot[key].clobber()"
   ]
  },
  {
   "cell_type": "code",
   "execution_count": null,
   "metadata": {},
   "outputs": [],
   "source": [
    "for key in knot"
   ]
  }
 ],
 "metadata": {
  "kernelspec": {
   "display_name": "Python 2",
   "language": "python",
   "name": "python2"
  },
  "language_info": {
   "codemirror_mode": {
    "name": "ipython",
    "version": 2
   },
   "file_extension": ".py",
   "mimetype": "text/x-python",
   "name": "python",
   "nbconvert_exporter": "python",
   "pygments_lexer": "ipython2",
   "version": "2.7.12"
  }
 },
 "nbformat": 4,
 "nbformat_minor": 2
}
