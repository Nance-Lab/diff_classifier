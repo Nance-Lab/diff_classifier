{
 "cells": [
  {
   "cell_type": "code",
   "execution_count": 1,
   "metadata": {
    "collapsed": false
   },
   "outputs": [],
   "source": [
    "import numpy as np\n",
    "import pandas as pd\n",
    "import numpy.ma as ma\n",
    "from scipy.optimize import curve_fit\n",
    "import numpy.linalg as LA\n",
    "import math\n",
    "import struct\n",
    "\n",
    "#modulef = '/home/ubuntu/source/diff-classifier/diff_classifier/'\n",
    "modulef = 'C:/Users/koolk/Desktop/diff-classifier/diff_classifier/'\n",
    "import sys\n",
    "sys.path.insert(0, modulef)\n",
    "\n",
    "from utils import csv_to_pd\n",
    "from msd import nth_diff, msd_calc, all_msds"
   ]
  },
  {
   "cell_type": "code",
   "execution_count": 3,
   "metadata": {
    "collapsed": false
   },
   "outputs": [],
   "source": [
    "frames = 2000\n",
    "drift = 0\n",
    "d = {'Frame': np.linspace(1, frames, frames),\n",
    "     'Track_ID': np.ones(frames),\n",
    "             'X': np.random.rand(frames)+drift*np.linspace(0, 1, frames),\n",
    "             'Y': np.random.rand(frames)+drift*np.linspace(0, 1, frames)}\n",
    "df = pd.DataFrame(data=d)\n",
    "df = all_msds(df)\n",
    "#df"
   ]
  },
  {
   "cell_type": "code",
   "execution_count": 34,
   "metadata": {
    "collapsed": false
   },
   "outputs": [],
   "source": [
    "def calculate_features(df):\n",
    "\n",
    "    # Skeleton of Trajectory features metadata table.\n",
    "    # Builds entry for each unique Track ID.\n",
    "    die = {'Track_ID': df.Track_ID.unique(),\n",
    "          'alpha': df.Track_ID.unique(),\n",
    "          'D_fit': df.Track_ID.unique(),\n",
    "          'kurtosis': df.Track_ID.unique(),\n",
    "          'asymmetry1': df.Track_ID.unique(),\n",
    "          'asymmetry2': df.Track_ID.unique(),\n",
    "          'asymmetry3': df.Track_ID.unique(),\n",
    "          'AR': df.Track_ID.unique(),\n",
    "          'elongation': df.Track_ID.unique(),\n",
    "          'boundedness': df.Track_ID.unique(),\n",
    "          'fractal_dim': df.Track_ID.unique(),\n",
    "          'trappedness': df.Track_ID.unique(),\n",
    "          'efficiency': df.Track_ID.unique(),\n",
    "          'straightness': df.Track_ID.unique(),\n",
    "          'MSD_ratio': df.Track_ID.unique()}\n",
    "    di = pd.DataFrame(data=die)\n",
    "\n",
    "    trackids = df.Track_ID.unique()\n",
    "    partcount = trackids.shape[0]\n",
    "\n",
    "\n",
    "    for particle in range(0, partcount):\n",
    "        single_track = df.loc[df['Track_ID'] == trackids[particle]].sort_values(['Track_ID', 'Frame'],\n",
    "                                                                                 ascending=[1, 1]).reset_index(drop=True)\n",
    "        di['alpha'], di['D_fit'] = alpha_calc(single_track)\n",
    "        di['kurtosis'] = kurtosis(single_track)\n",
    "        l1, l2, di['asymmetry1'], di['asymmetry2'], di['asymmetry3'] = asymmetry(single_track)\n",
    "        di['AR'], di['elongation'] = aspectratio(single_track)\n",
    "        di['boundedness'], di['fractal_dim'], di['trappedness'] = boundedness(single_track)\n",
    "        di['efficiency'], di['straightness'] = efficiency(single_track)\n",
    "        di['MSD_ratio'] = msd_ratio(single_track, 2, single_track['Frame'][single_track.shape[0]-2])\n",
    "    \n",
    "    return di"
   ]
  },
  {
   "cell_type": "code",
   "execution_count": 35,
   "metadata": {
    "collapsed": false
   },
   "outputs": [
    {
     "data": {
      "text/html": [
       "<div>\n",
       "<style>\n",
       "    .dataframe thead tr:only-child th {\n",
       "        text-align: right;\n",
       "    }\n",
       "\n",
       "    .dataframe thead th {\n",
       "        text-align: left;\n",
       "    }\n",
       "\n",
       "    .dataframe tbody tr th {\n",
       "        vertical-align: top;\n",
       "    }\n",
       "</style>\n",
       "<table border=\"1\" class=\"dataframe\">\n",
       "  <thead>\n",
       "    <tr style=\"text-align: right;\">\n",
       "      <th></th>\n",
       "      <th>AR</th>\n",
       "      <th>D_fit</th>\n",
       "      <th>MSD_ratio</th>\n",
       "      <th>Track_ID</th>\n",
       "      <th>alpha</th>\n",
       "      <th>asymmetry1</th>\n",
       "      <th>asymmetry2</th>\n",
       "      <th>asymmetry3</th>\n",
       "      <th>boundedness</th>\n",
       "      <th>efficiency</th>\n",
       "      <th>elongation</th>\n",
       "      <th>fractal_dim</th>\n",
       "      <th>kurtosis</th>\n",
       "      <th>straightness</th>\n",
       "      <th>trappedness</th>\n",
       "    </tr>\n",
       "  </thead>\n",
       "  <tbody>\n",
       "    <tr>\n",
       "      <th>0</th>\n",
       "      <td>1.001097</td>\n",
       "      <td>0.083996</td>\n",
       "      <td>3.312166</td>\n",
       "      <td>1.0</td>\n",
       "      <td>5.395747e-09</td>\n",
       "      <td>0.999638</td>\n",
       "      <td>0.009516</td>\n",
       "      <td>0.656478</td>\n",
       "      <td>0.054464</td>\n",
       "      <td>0.000156</td>\n",
       "      <td>0.001096</td>\n",
       "      <td>7.792186</td>\n",
       "      <td>2.429733</td>\n",
       "      <td>0.00031</td>\n",
       "      <td>-0.210605</td>\n",
       "    </tr>\n",
       "  </tbody>\n",
       "</table>\n",
       "</div>"
      ],
      "text/plain": [
       "         AR     D_fit  MSD_ratio  Track_ID         alpha  asymmetry1  \\\n",
       "0  1.001097  0.083996   3.312166       1.0  5.395747e-09    0.999638   \n",
       "\n",
       "   asymmetry2  asymmetry3  boundedness  efficiency  elongation  fractal_dim  \\\n",
       "0    0.009516    0.656478     0.054464    0.000156    0.001096     7.792186   \n",
       "\n",
       "   kurtosis  straightness  trappedness  \n",
       "0  2.429733       0.00031    -0.210605  "
      ]
     },
     "execution_count": 35,
     "metadata": {},
     "output_type": "execute_result"
    }
   ],
   "source": [
    "calculate_features(df)"
   ]
  },
  {
   "cell_type": "code",
   "execution_count": 31,
   "metadata": {
    "collapsed": false
   },
   "outputs": [
    {
     "data": {
      "text/html": [
       "<div>\n",
       "<style>\n",
       "    .dataframe thead tr:only-child th {\n",
       "        text-align: right;\n",
       "    }\n",
       "\n",
       "    .dataframe thead th {\n",
       "        text-align: left;\n",
       "    }\n",
       "\n",
       "    .dataframe tbody tr th {\n",
       "        vertical-align: top;\n",
       "    }\n",
       "</style>\n",
       "<table border=\"1\" class=\"dataframe\">\n",
       "  <thead>\n",
       "    <tr style=\"text-align: right;\">\n",
       "      <th></th>\n",
       "      <th>AR</th>\n",
       "      <th>D_fit</th>\n",
       "      <th>MSD_ratio</th>\n",
       "      <th>Track_ID</th>\n",
       "      <th>alpha</th>\n",
       "      <th>asymmetry1</th>\n",
       "      <th>asymmetry2</th>\n",
       "      <th>asymmetry3</th>\n",
       "      <th>boundedness</th>\n",
       "      <th>efficiency</th>\n",
       "      <th>elongation</th>\n",
       "      <th>fractal_dim</th>\n",
       "      <th>kurtosis</th>\n",
       "      <th>straightness</th>\n",
       "      <th>trappedness</th>\n",
       "    </tr>\n",
       "  </thead>\n",
       "  <tbody>\n",
       "    <tr>\n",
       "      <th>0</th>\n",
       "      <td>1.001097</td>\n",
       "      <td>0.083996</td>\n",
       "      <td>3.312166</td>\n",
       "      <td>1.0</td>\n",
       "      <td>5.395747e-09</td>\n",
       "      <td>0.999638</td>\n",
       "      <td>0.009516</td>\n",
       "      <td>0.656478</td>\n",
       "      <td>0.054464</td>\n",
       "      <td>0.000156</td>\n",
       "      <td>0.001096</td>\n",
       "      <td>7.792186</td>\n",
       "      <td>2.429733</td>\n",
       "      <td>0.00031</td>\n",
       "      <td>-0.210605</td>\n",
       "    </tr>\n",
       "  </tbody>\n",
       "</table>\n",
       "</div>"
      ],
      "text/plain": [
       "         AR     D_fit  MSD_ratio  Track_ID         alpha  asymmetry1  \\\n",
       "0  1.001097  0.083996   3.312166       1.0  5.395747e-09    0.999638   \n",
       "\n",
       "   asymmetry2  asymmetry3  boundedness  efficiency  elongation  fractal_dim  \\\n",
       "0    0.009516    0.656478     0.054464    0.000156    0.001096     7.792186   \n",
       "\n",
       "   kurtosis  straightness  trappedness  \n",
       "0  2.429733       0.00031    -0.210605  "
      ]
     },
     "execution_count": 31,
     "metadata": {},
     "output_type": "execute_result"
    }
   ],
   "source": [
    "di"
   ]
  },
  {
   "cell_type": "code",
   "execution_count": 9,
   "metadata": {
    "collapsed": true
   },
   "outputs": [],
   "source": [
    "def alpha_calc(track):\n",
    "    \"\"\"\n",
    "    Calculates the parameter alpha by fitting track MSD data to a function.\n",
    "    \n",
    "    Parameters\n",
    "    ----------\n",
    "    \n",
    "    Returns\n",
    "    ----------\n",
    "    \n",
    "    Examples\n",
    "    ----------\n",
    "    \"\"\"\n",
    "\n",
    "    x = track['Frame'] - 1\n",
    "    y = track['MSDs']\n",
    "\n",
    "    def msd_alpha(x, a, D):\n",
    "        return 4*D*(x**a)\n",
    "\n",
    "    try:\n",
    "        popt, pcov = curve_fit(msd_alpha, x, y)\n",
    "        a = popt[0]\n",
    "        D = popt[1]\n",
    "    except RuntimeError:\n",
    "        print('Optimal parameters not found. Print NaN instead.')\n",
    "        a = np.nan\n",
    "        D = np.nan\n",
    "    return a, D"
   ]
  },
  {
   "cell_type": "code",
   "execution_count": 10,
   "metadata": {
    "collapsed": true
   },
   "outputs": [],
   "source": [
    "def gyration_tensor(track):\n",
    "    \n",
    "    df = track\n",
    "    \n",
    "    Ta = np.sum((df['X'] - np.mean(df['X']))**2)/df['X'].shape[0]\n",
    "    Tb = np.sum((df['Y'] - np.mean(df['Y']))**2)/df['Y'].shape[0]\n",
    "    Tab = np.sum((df['X'] - np.mean(df['X']))*(df['X'] - np.mean(df['X'])))/df['X'].shape[0]\n",
    "\n",
    "    w, v = LA.eig(np.array([[Ta, Tab], [Tab, Tb]]))\n",
    "    dom = np.argmax(np.abs(w))\n",
    "    rec = np.argmin(np.abs(w))\n",
    "    l1 = w[dom]\n",
    "    l2 = w[rec]\n",
    "    v1 = v[dom]\n",
    "    v2 = v[rec]\n",
    "    return l1, l2, v1, v2"
   ]
  },
  {
   "cell_type": "code",
   "execution_count": 11,
   "metadata": {
    "collapsed": false
   },
   "outputs": [],
   "source": [
    "def kurtosis(track):\n",
    "    df = track\n",
    "    l1, l2, v1, v2 = gyration_tensor(df)\n",
    "    projection = df['X']*v1[0] + df['Y']*v1[1]\n",
    "\n",
    "    kurt = np.mean((projection - np.mean(projection))**4/(np.std(projection)**4))\n",
    "    \n",
    "    return kurt"
   ]
  },
  {
   "cell_type": "code",
   "execution_count": 14,
   "metadata": {
    "collapsed": true
   },
   "outputs": [],
   "source": [
    "def asymmetry(track):\n",
    "\n",
    "    l1, l2, v1, v2 = gyration_tensor(track)\n",
    "    a1 = (l1**2 - l2**2)**2/(l1**2 + l2**2)**2\n",
    "    a2 = l2/l1\n",
    "    a3 = -np.log(1-((l1-l2)**2)/(2*(l1+l2)**2))\n",
    "\n",
    "    return l1, l2, a1, a2, a3"
   ]
  },
  {
   "cell_type": "code",
   "execution_count": 15,
   "metadata": {
    "collapsed": false
   },
   "outputs": [],
   "source": [
    "l1, l2, a1, a2, a3 = asymmetry(df)"
   ]
  },
  {
   "cell_type": "code",
   "execution_count": 16,
   "metadata": {
    "collapsed": false
   },
   "outputs": [],
   "source": [
    "def aspectratio(track):\n",
    "    rot_angle, area, width, height, center_point, corner_points = minBoundingRect(df)\n",
    "    ar = width/height\n",
    "    if ar > 1:\n",
    "        counter = 1\n",
    "    else:\n",
    "        ar = 1/ar\n",
    "    elong = 1 - (1/ar)\n",
    "\n",
    "    return ar, elong"
   ]
  },
  {
   "cell_type": "code",
   "execution_count": null,
   "metadata": {
    "collapsed": false
   },
   "outputs": [],
   "source": [
    "aspectratio(df)"
   ]
  },
  {
   "cell_type": "code",
   "execution_count": 17,
   "metadata": {
    "collapsed": true
   },
   "outputs": [],
   "source": [
    "def minBoundingRect(df):\n",
    "    \n",
    "    #Based off of code from the following repo:\n",
    "    # https://github.com/dbworth/minimum-area-bounding-rectangle/blob/master/python/min_bounding_rect.py\n",
    "\n",
    "    df2 = np.zeros((df.shape[0]+1, 2))\n",
    "    df2[:-1, :] = df[['X', 'Y']].values\n",
    "    df2[-1, :] = df[['X', 'Y']].values[0, :]\n",
    "    hull_points_2d = df2\n",
    "\n",
    "    edges = np.zeros((len(hull_points_2d)-1, 2))\n",
    "\n",
    "    for i in range(len(edges)):\n",
    "        edge_x = hull_points_2d[i+1,0] - hull_points_2d[i,0]\n",
    "        edge_y = hull_points_2d[i+1,1] - hull_points_2d[i,1]\n",
    "        edges[i] = [edge_x,edge_y]\n",
    "\n",
    "    edge_angles = np.zeros((len(edges)))\n",
    "\n",
    "    for i in range(len(edge_angles)):\n",
    "        edge_angles[i] = math.atan2( edges[i,1], edges[i,0] )\n",
    "    edge_angles = np.unique(edge_angles)\n",
    "\n",
    "    start_area = platform_c_maxint = 2 ** (struct.Struct('i').size * 8 - 1) - 1\n",
    "    min_bbox = (0, start_area, 0, 0, 0, 0, 0, 0)\n",
    "    for i in range( len(edge_angles) ):\n",
    "        R = np.array([ [ math.cos(edge_angles[i]), math.cos(edge_angles[i]-(math.pi/2)) ],\n",
    "                     [ math.cos(edge_angles[i]+(math.pi/2)), math.cos(edge_angles[i]) ] ])\n",
    "\n",
    "        rot_points = np.dot(R, np.transpose(hull_points_2d) )\n",
    "\n",
    "        min_x = np.nanmin(rot_points[0], axis=0)\n",
    "        max_x = np.nanmax(rot_points[0], axis=0)\n",
    "        min_y = np.nanmin(rot_points[1], axis=0)\n",
    "        max_y = np.nanmax(rot_points[1], axis=0)\n",
    "\n",
    "        width = max_x - min_x\n",
    "        height = max_y - min_y\n",
    "        area = width*height\n",
    "\n",
    "        if (area < min_bbox[1]):\n",
    "            min_bbox = (edge_angles[i], area, width, height, min_x, max_x, min_y, max_y)\n",
    "\n",
    "    angle = min_bbox[0]   \n",
    "    R = np.array([ [ math.cos(angle), math.cos(angle-(math.pi/2)) ], [ math.cos(angle+(math.pi/2)), math.cos(angle) ] ])\n",
    "    proj_points = np.dot(R, np.transpose(hull_points_2d) ) # 2x2 * 2xn\n",
    "\n",
    "    min_x = min_bbox[4]\n",
    "    max_x = min_bbox[5]\n",
    "    min_y = min_bbox[6]\n",
    "    max_y = min_bbox[7]\n",
    "\n",
    "    center_x = (min_x + max_x)/2\n",
    "    center_y = (min_y + max_y)/2\n",
    "    center_point = np.dot( [ center_x, center_y ], R )\n",
    "\n",
    "    corner_points = np.zeros( (4,2) )\n",
    "    corner_points[0] = np.dot( [ max_x, min_y ], R )\n",
    "    corner_points[1] = np.dot( [ min_x, min_y ], R )\n",
    "    corner_points[2] = np.dot( [ min_x, max_y ], R )\n",
    "    corner_points[3] = np.dot( [ max_x, max_y ], R )\n",
    "\n",
    "    return (angle, min_bbox[1], min_bbox[2], min_bbox[3], center_point, corner_points)\n",
    "    # rot_angle, area, width, height, center_point, corner_points"
   ]
  },
  {
   "cell_type": "code",
   "execution_count": 18,
   "metadata": {
    "collapsed": false
   },
   "outputs": [],
   "source": [
    "def boundedness(track, framerate = 1):\n",
    "\n",
    "    df = track\n",
    "    length = df.shape[0]\n",
    "    distance = np.zeros((length, length))\n",
    "\n",
    "    for frame in range(0, length-1):\n",
    "        distance[frame, 0:length-frame-1] = (np.sqrt(nth_diff(df['X'], frame+1)**2 + nth_diff(df['Y'], frame+1)**2).values)\n",
    "    \n",
    "    L = np.sum((np.sqrt(nth_diff(df['X'], 1)**2 + nth_diff(df['Y'], 1)**2).values))\n",
    "    r = np.max(distance)/2\n",
    "    f = (length-1)*framerate\n",
    "    D = df['MSDs'][length-1]/(4*f)\n",
    "    \n",
    "    B = D*f/(r**2)\n",
    "    Df = np.log(length-1)/np.log((length-1)*2*r/L)\n",
    "    pf = 1 - np.exp(0.2048 - 0.25117*(D*f/(r**2)))\n",
    "\n",
    "    return B, Df, pf"
   ]
  },
  {
   "cell_type": "code",
   "execution_count": 19,
   "metadata": {
    "collapsed": false
   },
   "outputs": [],
   "source": [
    "def efficiency(track):\n",
    "\n",
    "    df = track\n",
    "    length = df.shape[0]\n",
    "    num = (nth_diff(df['X'], length-1)**2 + nth_diff(df['Y'], length-1)**2)[0]\n",
    "    num2 = np.sqrt(num)\n",
    "    \n",
    "    den = np.sum(nth_diff(df['X'], 1)**2 + nth_diff(df['Y'], 1)**2)\n",
    "    den2 = np.sum(np.sqrt(nth_diff(df['X'], 1)**2 + nth_diff(df['Y'], 1)**2))\n",
    "    \n",
    "    eff = num/den\n",
    "    strait = num2/den2\n",
    "    return eff, strait"
   ]
  },
  {
   "cell_type": "code",
   "execution_count": 20,
   "metadata": {
    "collapsed": false
   },
   "outputs": [],
   "source": [
    "def msd_ratio(track, n1=3, n2=100):\n",
    "\n",
    "    df = track\n",
    "    assert n1 < n2, \"n1 must be less than n2\"\n",
    "    ratio = (df['MSDs'][n1]/df['MSDs'][n2]) - (df['Frame'][n1]/df['Frame'][n2])\n",
    "    return ratio"
   ]
  },
  {
   "cell_type": "code",
   "execution_count": null,
   "metadata": {
    "collapsed": false
   },
   "outputs": [],
   "source": [
    "msd_ratio(df, 1, 100)"
   ]
  },
  {
   "cell_type": "code",
   "execution_count": null,
   "metadata": {
    "collapsed": true
   },
   "outputs": [],
   "source": []
  }
 ],
 "metadata": {
  "kernelspec": {
   "display_name": "Python 3",
   "language": "python",
   "name": "python3"
  },
  "language_info": {
   "codemirror_mode": {
    "name": "ipython",
    "version": 3
   },
   "file_extension": ".py",
   "mimetype": "text/x-python",
   "name": "python",
   "nbconvert_exporter": "python",
   "pygments_lexer": "ipython3",
   "version": "3.5.3"
  }
 },
 "nbformat": 4,
 "nbformat_minor": 0
}
