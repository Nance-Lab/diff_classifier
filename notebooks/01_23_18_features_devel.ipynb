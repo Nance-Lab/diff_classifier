{
 "cells": [
  {
   "cell_type": "code",
   "execution_count": 1,
   "metadata": {
    "collapsed": false
   },
   "outputs": [],
   "source": [
    "import numpy as np\n",
    "import pandas as pd\n",
    "import numpy.ma as ma\n",
    "from scipy.optimize import curve_fit\n",
    "import numpy.linalg as LA\n",
    "import math\n",
    "import struct\n",
    "\n",
    "#modulef = '/home/ubuntu/source/diff-classifier/diff_classifier/'\n",
    "modulef = 'C:/Users/koolk/Desktop/diff-classifier/diff_classifier/'\n",
    "import sys\n",
    "sys.path.insert(0, modulef)\n",
    "\n",
    "from utils import csv_to_pd\n",
    "from msd import nth_diff, msd_calc, all_msds"
   ]
  },
  {
   "cell_type": "code",
   "execution_count": null,
   "metadata": {
    "collapsed": false
   },
   "outputs": [],
   "source": [
    "frames = 2000\n",
    "drift = 0\n",
    "d = {'Frame': np.linspace(1, frames, frames),\n",
    "     'Track_ID': np.ones(frames),\n",
    "             'X': np.random.rand(frames)+drift*np.linspace(0, 1, frames),\n",
    "             'Y': np.random.rand(frames)+drift*np.linspace(0, 1, frames)}\n",
    "df = pd.DataFrame(data=d)\n",
    "df = all_msds(df)\n",
    "#df"
   ]
  },
  {
   "cell_type": "code",
   "execution_count": null,
   "metadata": {
    "collapsed": false
   },
   "outputs": [],
   "source": [
    "def calculate_features(df):\n",
    "\n",
    "    # Skeleton of Trajectory features metadata table.\n",
    "    # Builds entry for each unique Track ID.\n",
    "    die = {'Track_ID': df.Track_ID.unique(),\n",
    "          'alpha': df.Track_ID.unique(),\n",
    "          'D_fit': df.Track_ID.unique(),\n",
    "          'kurtosis': df.Track_ID.unique(),\n",
    "          'asymmetry1': df.Track_ID.unique(),\n",
    "          'asymmetry2': df.Track_ID.unique(),\n",
    "          'asymmetry3': df.Track_ID.unique(),\n",
    "          'AR': df.Track_ID.unique(),\n",
    "          'elongation': df.Track_ID.unique(),\n",
    "          'boundedness': df.Track_ID.unique(),\n",
    "          'fractal_dim': df.Track_ID.unique(),\n",
    "          'trappedness': df.Track_ID.unique(),\n",
    "          'efficiency': df.Track_ID.unique(),\n",
    "          'straightness': df.Track_ID.unique(),\n",
    "          'MSD_ratio': df.Track_ID.unique()}\n",
    "    di = pd.DataFrame(data=die)\n",
    "\n",
    "    trackids = df.Track_ID.unique()\n",
    "    partcount = trackids.shape[0]\n",
    "\n",
    "\n",
    "    for particle in range(0, partcount):\n",
    "        single_track = df.loc[df['Track_ID'] == trackids[particle]].sort_values(['Track_ID', 'Frame'],\n",
    "                                                                                 ascending=[1, 1]).reset_index(drop=True)\n",
    "        di['alpha'], di['D_fit'] = alpha_calc(single_track)\n",
    "        di['kurtosis'] = kurtosis(single_track)\n",
    "        l1, l2, di['asymmetry1'], di['asymmetry2'], di['asymmetry3'] = asymmetry(single_track)\n",
    "        di['AR'], di['elongation'] = aspectratio(single_track)\n",
    "        di['boundedness'], di['fractal_dim'], di['trappedness'] = boundedness(single_track)\n",
    "        di['efficiency'], di['straightness'] = efficiency(single_track)\n",
    "        di['MSD_ratio'] = msd_ratio(single_track, 2, single_track['Frame'][single_track.shape[0]-2])\n",
    "    \n",
    "    return di"
   ]
  },
  {
   "cell_type": "code",
   "execution_count": 143,
   "metadata": {
    "collapsed": false
   },
   "outputs": [],
   "source": [
    "frames = 10\n",
    "d = {'Frame': np.linspace(1, frames, frames),\n",
    "             'X': np.linspace(1, frames, frames)+5,\n",
    "             'Y': np.linspace(1, frames, frames)+3}\n",
    "df = pd.DataFrame(data=d)\n",
    "df['MSDs'], df['Gauss'] = msd_calc(df)"
   ]
  },
  {
   "cell_type": "code",
   "execution_count": 145,
   "metadata": {
    "collapsed": false
   },
   "outputs": [],
   "source": [
    "frames = 10\n",
    "d = {'Frame': np.linspace(1, frames, frames),\n",
    "             'X': np.sin(np.linspace(1, frames, frames))+3,\n",
    "             'Y': np.cos(np.linspace(1, frames, frames))+3}\n",
    "df = pd.DataFrame(data=d)\n",
    "df['MSDs'], df['Gauss'] = msd_calc(df)"
   ]
  },
  {
   "cell_type": "code",
   "execution_count": 146,
   "metadata": {
    "collapsed": false
   },
   "outputs": [
    {
     "data": {
      "text/plain": [
       "(0.96037058689895005, 2.9989749477908401, 0.03576118370932313)"
      ]
     },
     "execution_count": 146,
     "metadata": {},
     "output_type": "execute_result"
    }
   ],
   "source": [
    "boundedness(df)"
   ]
  },
  {
   "cell_type": "code",
   "execution_count": 124,
   "metadata": {
    "collapsed": false
   },
   "outputs": [],
   "source": [
    "import matplotlib.pyplot as plt\n",
    "plt.plot(df['X'], df['Y'])\n",
    "plt.show()"
   ]
  },
  {
   "cell_type": "code",
   "execution_count": 141,
   "metadata": {
    "collapsed": false
   },
   "outputs": [
    {
     "data": {
      "text/plain": [
       "10.0"
      ]
     },
     "execution_count": 141,
     "metadata": {},
     "output_type": "execute_result"
    }
   ],
   "source": [
    "df['Frame'][df['Frame'].shape[0]-1]"
   ]
  },
  {
   "cell_type": "code",
   "execution_count": 142,
   "metadata": {
    "collapsed": false
   },
   "outputs": [],
   "source": [
    "def boundedness(track, framerate = 1):\n",
    "\n",
    "    df = track\n",
    "    length = df.shape[0]\n",
    "    distance = np.zeros((length, length))\n",
    "\n",
    "    for frame in range(0, length-1):\n",
    "        distance[frame, 0:length-frame-1] = (np.sqrt(nth_diff(df['X'], frame+1)**2 + nth_diff(df['Y'], frame+1)**2).values)\n",
    "    \n",
    "    L = np.sum((np.sqrt(nth_diff(df['X'], 1)**2 + nth_diff(df['Y'], 1)**2).values))\n",
    "    r = np.max(distance)/2\n",
    "    f = df['Frame'][df['Frame'].shape[0]-1]*framerate\n",
    "    D = df['MSDs'][length-1]/(4*f)\n",
    "    \n",
    "    B = D*f/(r**2)\n",
    "    Df = np.log(length-1)/np.log((length-1)*2*r/L)\n",
    "    pf = 1 - np.exp(0.2048 - 0.25117*(D*f/(r**2)))\n",
    "\n",
    "    return B, Df, pf"
   ]
  },
  {
   "cell_type": "code",
   "execution_count": null,
   "metadata": {
    "collapsed": false
   },
   "outputs": [],
   "source": [
    "def efficiency(track):\n",
    "\n",
    "    df = track\n",
    "    length = df.shape[0]\n",
    "    num = (nth_diff(df['X'], length-1)**2 + nth_diff(df['Y'], length-1)**2)[0]\n",
    "    num2 = np.sqrt(num)\n",
    "    \n",
    "    den = np.sum(nth_diff(df['X'], 1)**2 + nth_diff(df['Y'], 1)**2)\n",
    "    den2 = np.sum(np.sqrt(nth_diff(df['X'], 1)**2 + nth_diff(df['Y'], 1)**2))\n",
    "    \n",
    "    eff = num/den\n",
    "    strait = num2/den2\n",
    "    return eff, strait"
   ]
  },
  {
   "cell_type": "code",
   "execution_count": null,
   "metadata": {
    "collapsed": false
   },
   "outputs": [],
   "source": [
    "def msd_ratio(track, n1=3, n2=100):\n",
    "\n",
    "    df = track\n",
    "    assert n1 < n2, \"n1 must be less than n2\"\n",
    "    ratio = (df['MSDs'][n1]/df['MSDs'][n2]) - (df['Frame'][n1]/df['Frame'][n2])\n",
    "    return ratio"
   ]
  },
  {
   "cell_type": "code",
   "execution_count": null,
   "metadata": {
    "collapsed": false
   },
   "outputs": [],
   "source": [
    "msd_ratio(df, 1, 100)"
   ]
  },
  {
   "cell_type": "code",
   "execution_count": null,
   "metadata": {
    "collapsed": true
   },
   "outputs": [],
   "source": []
  }
 ],
 "metadata": {
  "kernelspec": {
   "display_name": "Python 3",
   "language": "python",
   "name": "python3"
  },
  "language_info": {
   "codemirror_mode": {
    "name": "ipython",
    "version": 3
   },
   "file_extension": ".py",
   "mimetype": "text/x-python",
   "name": "python",
   "nbconvert_exporter": "python",
   "pygments_lexer": "ipython3",
   "version": "3.5.3"
  }
 },
 "nbformat": 4,
 "nbformat_minor": 0
}
