{
 "cells": [
  {
   "cell_type": "code",
   "execution_count": 80,
   "metadata": {
    "collapsed": true
   },
   "outputs": [],
   "source": [
    "import numpy as np\n",
    "import pandas as pd\n",
    "import numpy.ma as ma\n",
    "from scipy.optimize import curve_fit\n",
    "import numpy.linalg as LA\n",
    "import math\n",
    "import struct\n",
    "\n",
    "#modulef = '/home/ubuntu/source/diff-classifier/diff_classifier/'\n",
    "modulef = 'C:/Users/koolk/Desktop/diff-classifier/diff_classifier/'\n",
    "import sys\n",
    "sys.path.insert(0, modulef)\n",
    "\n",
    "from utils import csv_to_pd\n",
    "from msd import nth_diff, msd_calc, all_msds"
   ]
  },
  {
   "cell_type": "code",
   "execution_count": 140,
   "metadata": {
    "collapsed": false
   },
   "outputs": [
    {
     "data": {
      "text/html": [
       "<div>\n",
       "<style>\n",
       "    .dataframe thead tr:only-child th {\n",
       "        text-align: right;\n",
       "    }\n",
       "\n",
       "    .dataframe thead th {\n",
       "        text-align: left;\n",
       "    }\n",
       "\n",
       "    .dataframe tbody tr th {\n",
       "        vertical-align: top;\n",
       "    }\n",
       "</style>\n",
       "<table border=\"1\" class=\"dataframe\">\n",
       "  <thead>\n",
       "    <tr style=\"text-align: right;\">\n",
       "      <th></th>\n",
       "      <th>Frame</th>\n",
       "      <th>X</th>\n",
       "      <th>Y</th>\n",
       "      <th>MSDs</th>\n",
       "    </tr>\n",
       "  </thead>\n",
       "  <tbody>\n",
       "    <tr>\n",
       "      <th>0</th>\n",
       "      <td>1</td>\n",
       "      <td>5</td>\n",
       "      <td>6</td>\n",
       "      <td>0.0</td>\n",
       "    </tr>\n",
       "    <tr>\n",
       "      <th>1</th>\n",
       "      <td>2</td>\n",
       "      <td>6</td>\n",
       "      <td>7</td>\n",
       "      <td>2.0</td>\n",
       "    </tr>\n",
       "    <tr>\n",
       "      <th>2</th>\n",
       "      <td>3</td>\n",
       "      <td>7</td>\n",
       "      <td>8</td>\n",
       "      <td>8.0</td>\n",
       "    </tr>\n",
       "    <tr>\n",
       "      <th>3</th>\n",
       "      <td>4</td>\n",
       "      <td>8</td>\n",
       "      <td>9</td>\n",
       "      <td>18.0</td>\n",
       "    </tr>\n",
       "    <tr>\n",
       "      <th>4</th>\n",
       "      <td>5</td>\n",
       "      <td>9</td>\n",
       "      <td>10</td>\n",
       "      <td>32.0</td>\n",
       "    </tr>\n",
       "  </tbody>\n",
       "</table>\n",
       "</div>"
      ],
      "text/plain": [
       "   Frame  X   Y  MSDs\n",
       "0      1  5   6   0.0\n",
       "1      2  6   7   2.0\n",
       "2      3  7   8   8.0\n",
       "3      4  8   9  18.0\n",
       "4      5  9  10  32.0"
      ]
     },
     "execution_count": 140,
     "metadata": {},
     "output_type": "execute_result"
    }
   ],
   "source": [
    "d = {'Frame': [1, 2, 3, 4, 5],\n",
    "             'X': [5, 6, 7, 8, 9],\n",
    "             'Y': [6, 7, 8, 9, 10]}\n",
    "df = pd.DataFrame(data=d)\n",
    "df['MSDs'] = msd_calc(df)\n",
    "df"
   ]
  },
  {
   "cell_type": "code",
   "execution_count": 3,
   "metadata": {
    "collapsed": true
   },
   "outputs": [],
   "source": [
    "def alpha_calc(track):\n",
    "    \"\"\"\n",
    "    Calculates the parameter alpha by fitting track MSD data to a function.\n",
    "    \n",
    "    Parameters\n",
    "    ----------\n",
    "    \n",
    "    Returns\n",
    "    ----------\n",
    "    \n",
    "    Examples\n",
    "    ----------\n",
    "    \"\"\"\n",
    "\n",
    "    x = track['Frame']\n",
    "    y = track['MSDs']\n",
    "\n",
    "    def msd_alpha(x, a, D):\n",
    "        return 4*D*(x**a)\n",
    "\n",
    "    try:\n",
    "        popt, pcov = curve_fit(msd_alpha, x, y)\n",
    "        a = popt[0]\n",
    "        D = popt[1]\n",
    "    except RuntimeError:\n",
    "        print('Optimal parameters not found. Print NaN instead.')\n",
    "        a = np.nan\n",
    "        D = np.nan\n",
    "    return a, D"
   ]
  },
  {
   "cell_type": "code",
   "execution_count": 42,
   "metadata": {
    "collapsed": true
   },
   "outputs": [],
   "source": [
    "def gyration_tensor(track):\n",
    "    \n",
    "    df = track\n",
    "    \n",
    "    Ta = np.sum((df['X'] - np.mean(df['X']))**2)/df['X'].shape[0]\n",
    "    Tb = np.sum((df['Y'] - np.mean(df['Y']))**2)/df['Y'].shape[0]\n",
    "    Tab = np.sum((df['X'] - np.mean(df['X']))*(df['X'] - np.mean(df['X'])))/df['X'].shape[0]\n",
    "\n",
    "    w, v = LA.eig(np.array([[Ta, Tab], [Tab, Tb]]))\n",
    "    l1 = max(w)\n",
    "    l2 = min(w)\n",
    "    return l1, l2"
   ]
  },
  {
   "cell_type": "code",
   "execution_count": 43,
   "metadata": {
    "collapsed": true
   },
   "outputs": [],
   "source": [
    "def asymmetry(track):\n",
    "\n",
    "    l1, l2 = gyration_tensor(track)\n",
    "    a1 = (l1**2 - l2**2)**2/(l1**2 + l2**2)**2\n",
    "    a2 = l2/l1\n",
    "    a3 = -np.log(1-((l1-l2)**2)/(2*(l1+l2)**2))\n",
    "\n",
    "    return l1, l2, a1, a2, a3"
   ]
  },
  {
   "cell_type": "code",
   "execution_count": 45,
   "metadata": {
    "collapsed": false
   },
   "outputs": [],
   "source": [
    "l1, l2, a1, a2, a3 = asymmetry(df)"
   ]
  },
  {
   "cell_type": "code",
   "execution_count": 138,
   "metadata": {
    "collapsed": false
   },
   "outputs": [],
   "source": [
    "def aspectratio(track):\n",
    "    rot_angle, area, width, height, center_point, corner_points = minBoundingRect(df)\n",
    "    ar = width/height\n",
    "    if ar > 1:\n",
    "        counter = 1\n",
    "    else:\n",
    "        ar = 1/ar\n",
    "    return ar"
   ]
  },
  {
   "cell_type": "code",
   "execution_count": 141,
   "metadata": {
    "collapsed": false
   },
   "outputs": [
    {
     "data": {
      "text/plain": [
       "6369051672525774.0"
      ]
     },
     "execution_count": 141,
     "metadata": {},
     "output_type": "execute_result"
    }
   ],
   "source": [
    "aspectratio(df)"
   ]
  },
  {
   "cell_type": "code",
   "execution_count": 133,
   "metadata": {
    "collapsed": true
   },
   "outputs": [],
   "source": [
    "def minBoundingRect(df):\n",
    "    \n",
    "    #Based off of code from the following repo:\n",
    "    # https://github.com/dbworth/minimum-area-bounding-rectangle/blob/master/python/min_bounding_rect.py\n",
    "\n",
    "    df2 = np.zeros((df.shape[0]+1, 2))\n",
    "    df2[:-1, :] = df[['X', 'Y']].values\n",
    "    df2[-1, :] = df[['X', 'Y']].values[0, :]\n",
    "    hull_points_2d = df2\n",
    "\n",
    "    edges = np.zeros((len(hull_points_2d)-1, 2))\n",
    "\n",
    "    for i in range(len(edges)):\n",
    "        edge_x = hull_points_2d[i+1,0] - hull_points_2d[i,0]\n",
    "        edge_y = hull_points_2d[i+1,1] - hull_points_2d[i,1]\n",
    "        edges[i] = [edge_x,edge_y]\n",
    "\n",
    "    edge_angles = np.zeros((len(edges)))\n",
    "\n",
    "    for i in range(len(edge_angles)):\n",
    "        edge_angles[i] = math.atan2( edges[i,1], edges[i,0] )\n",
    "    edge_angles = np.unique(edge_angles)\n",
    "\n",
    "    start_area = platform_c_maxint = 2 ** (struct.Struct('i').size * 8 - 1) - 1\n",
    "    min_bbox = (0, start_area, 0, 0, 0, 0, 0, 0)\n",
    "    for i in range( len(edge_angles) ):\n",
    "        R = np.array([ [ math.cos(edge_angles[i]), math.cos(edge_angles[i]-(math.pi/2)) ],\n",
    "                     [ math.cos(edge_angles[i]+(math.pi/2)), math.cos(edge_angles[i]) ] ])\n",
    "\n",
    "        rot_points = np.dot(R, np.transpose(hull_points_2d) )\n",
    "\n",
    "        min_x = np.nanmin(rot_points[0], axis=0)\n",
    "        max_x = np.nanmax(rot_points[0], axis=0)\n",
    "        min_y = np.nanmin(rot_points[1], axis=0)\n",
    "        max_y = np.nanmax(rot_points[1], axis=0)\n",
    "\n",
    "        width = max_x - min_x\n",
    "        height = max_y - min_y\n",
    "        area = width*height\n",
    "\n",
    "        if (area < min_bbox[1]):\n",
    "            min_bbox = (edge_angles[i], area, width, height, min_x, max_x, min_y, max_y)\n",
    "\n",
    "    angle = min_bbox[0]   \n",
    "    R = np.array([ [ math.cos(angle), math.cos(angle-(math.pi/2)) ], [ math.cos(angle+(math.pi/2)), math.cos(angle) ] ])\n",
    "    proj_points = np.dot(R, np.transpose(hull_points_2d) ) # 2x2 * 2xn\n",
    "\n",
    "    min_x = min_bbox[4]\n",
    "    max_x = min_bbox[5]\n",
    "    min_y = min_bbox[6]\n",
    "    max_y = min_bbox[7]\n",
    "\n",
    "    center_x = (min_x + max_x)/2\n",
    "    center_y = (min_y + max_y)/2\n",
    "    center_point = np.dot( [ center_x, center_y ], R )\n",
    "\n",
    "    corner_points = np.zeros( (4,2) )\n",
    "    corner_points[0] = np.dot( [ max_x, min_y ], R )\n",
    "    corner_points[1] = np.dot( [ min_x, min_y ], R )\n",
    "    corner_points[2] = np.dot( [ min_x, max_y ], R )\n",
    "    corner_points[3] = np.dot( [ max_x, max_y ], R )\n",
    "\n",
    "    return (angle, min_bbox[1], min_bbox[2], min_bbox[3], center_point, corner_points)\n",
    "    # rot_angle, area, width, height, center_point, corner_points"
   ]
  },
  {
   "cell_type": "code",
   "execution_count": null,
   "metadata": {
    "collapsed": true
   },
   "outputs": [],
   "source": []
  }
 ],
 "metadata": {
  "kernelspec": {
   "display_name": "Python 3",
   "language": "python",
   "name": "python3"
  },
  "language_info": {
   "codemirror_mode": {
    "name": "ipython",
    "version": 3
   },
   "file_extension": ".py",
   "mimetype": "text/x-python",
   "name": "python",
   "nbconvert_exporter": "python",
   "pygments_lexer": "ipython3",
   "version": "3.5.3"
  }
 },
 "nbformat": 4,
 "nbformat_minor": 0
}
