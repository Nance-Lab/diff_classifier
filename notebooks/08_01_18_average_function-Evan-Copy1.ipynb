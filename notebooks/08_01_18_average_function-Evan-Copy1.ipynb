{
 "cells": [
  {
   "cell_type": "code",
   "execution_count": 1,
   "metadata": {},
   "outputs": [],
   "source": [
    "import numpy as np\n",
    "import numpy.ma as ma\n",
    "import pandas as pd\n",
    "import scipy.stats as stat\n",
    "import random\n",
    "import diff_classifier.aws as aws\n",
    "import diff_classifier.msd as msd\n",
    "from diff_classifier.msd import binning, precision_weight, precision_averaging, plot_all_experiments\n",
    "import matplotlib.pyplot as plt\n",
    "from matplotlib.pyplot import cm\n",
    "import scipy.stats as stats"
   ]
  },
  {
   "cell_type": "code",
   "execution_count": 2,
   "metadata": {},
   "outputs": [
    {
     "name": "stdout",
     "output_type": "stream",
     "text": [
      "Done with 100_pt1xs_XY01\n",
      "Done with 100_pt1xs_XY02\n",
      "Done with 100_pt1xs_XY03\n",
      "Done with 100_pt1xs_XY04\n",
      "Done with 100_pt1xs_XY05\n",
      "Done with 100_pt1xs_XY06\n",
      "Done with 100_pt1xs_XY07\n",
      "Done with 100_pt1xs_XY08\n",
      "Done with 100_pt1xs_XY09\n",
      "Done with 100_pt1xs_XY10\n",
      "Done with 100_pt1xs_XY11\n",
      "Done with 100_pt1xs_XY12\n",
      "Done with 100_pt1xs_XY13\n",
      "Done with 100_pt1xs_XY14\n",
      "Done with 100_pt1xs_XY15\n",
      "Done with 100_pt1xs_XY16\n",
      "Done with 100_pt1xs_XY17\n",
      "Done with 100_pt1xs_XY18\n",
      "Done with 100_pt1xs_XY19\n",
      "Done with 100_pt1xs_XY20\n"
     ]
    }
   ],
   "source": [
    "folder = '08_03_18_varying_PEG_excess'\n",
    "bucket = 'evanepst.data'\n",
    "experiment = '100_pt1xs' #Used for naming purposes. Should exclude XY and well information\n",
    "\n",
    "vids = 20\n",
    "to_track = []\n",
    "wells = 4\n",
    "frames = 651\n",
    "fps = 100.02\n",
    "\n",
    "for num in range(1, vids+1):\n",
    "    to_track.append('{}_XY{}'.format(experiment, '%02d' % num)) #As per usual, use for loops to include all experiments\n",
    "\n",
    "slices, bins, well_names = binning(to_track, prefix=experiment)\n",
    "geoM2xy = {}\n",
    "gSEM = {}\n",
    "for sample_name in to_track:\n",
    "    aws.download_s3('{}/geomean_{}.csv'.format(folder, sample_name), 'geomean_{}.csv'.format(sample_name), bucket_name=bucket)\n",
    "    aws.download_s3('{}/geoSEM_{}.csv'.format(folder, sample_name), 'geoSEM_{}.csv'.format(sample_name), bucket_name=bucket)\n",
    "    geoM2xy[sample_name] = np.genfromtxt('geomean_{}.csv'.format(sample_name))\n",
    "    gSEM[sample_name] = np.genfromtxt('geoSEM_{}.csv'.format(sample_name))\n",
    "    \n",
    "    #aws.download_s3('{}/msd_{}.csv'.format(folder, sample_name), 'msd_{}.csv'.format(sample_name), bucket_name=bucket)\n",
    "    #geoM2xy[sample_name], gSEM[sample_name] = msd.gavg_MSDs(sample_name, remote_folder=folder, bucket=bucket)\n",
    "    print('Done with {}'.format(sample_name))"
   ]
  },
  {
   "cell_type": "code",
   "execution_count": 3,
   "metadata": {},
   "outputs": [
    {
     "name": "stdout",
     "output_type": "stream",
     "text": [
      "100_pt1xs_W0\n"
     ]
    },
    {
     "name": "stderr",
     "output_type": "stream",
     "text": [
      "/home/ubuntu/source/diff-classifier/diff_classifier/msd.py:586: RuntimeWarning: divide by zero encountered in true_divide\n",
      "  w_holder[video_counter, :] = 1/(gSEM[sample]*gSEM[sample])\n",
      "/home/ubuntu/source/diff-classifier/diff_classifier/msd.py:631: RuntimeWarning: divide by zero encountered in true_divide\n",
      "  w_holder[video_counter, :] = (1/(gSEM[sample]*gSEM[sample]))/weights\n",
      "/home/ubuntu/source/diff-classifier/diff_classifier/msd.py:633: RuntimeWarning: divide by zero encountered in true_divide\n",
      "  gSEM_holder[video_counter, :] = 1/(gSEM[sample]*gSEM[sample])\n"
     ]
    },
    {
     "name": "stdout",
     "output_type": "stream",
     "text": [
      "100_pt1xs_W1\n",
      "100_pt1xs_W2\n",
      "100_pt1xs_W3\n"
     ]
    }
   ],
   "source": [
    "geo_slices = {}\n",
    "gSEM_slices = {}\n",
    "\n",
    "w_slices = {}\n",
    "wo_slices = {}\n",
    "w_holder = {}\n",
    "wh = {}\n",
    "gh = {}\n",
    "\n",
    "for key in bins:\n",
    "    print(key)\n",
    "    wo_slices[key], wh[key] = precision_weight(bins[key], gSEM)\n",
    "    geo_slices[key], gSEM_slices[key], w_holder[key], gh[key] = precision_averaging(bins[key], geoM2xy, gSEM, wo_slices[key],\n",
    "                                                            bucket=bucket, folder=folder, experiment=key) \n",
    "\n",
    "for key in geo_slices:\n",
    "    geo_slices[key][geo_slices[key]==0.0] = np.nan\n",
    "    gSEM_slices[key][gSEM_slices[key]==0.0] = np.nan\n",
    "    \n",
    "    geo_slices[key] = ma.masked_invalid(geo_slices[key])\n",
    "    gSEM_slices[key] = ma.masked_invalid(gSEM_slices[key])\n",
    "    \n",
    "weights, wh1 = precision_weight(well_names, gSEM_slices)\n",
    "geo, gS, w_holder1, gh1 = precision_averaging(well_names, geo_slices, gSEM_slices, weights, bucket=bucket, folder=folder, experiment=experiment)"
   ]
  },
  {
   "cell_type": "code",
   "execution_count": 7,
   "metadata": {},
   "outputs": [
    {
     "data": {
      "image/png": "[encoded data removed]",
      "text/plain": [
       "<Figure size 612x612 with 1 Axes>"
      ]
     },
     "metadata": {},
     "output_type": "display_data"
    }
   ],
   "source": [
    "to_plot_f = [experiment, experiment, experiment, experiment, experiment, experiment]\n",
    "plot_all_experiments(to_plot_f, bucket=bucket, folder=folder, yr=(10**-3, 1))"
   ]
  },
  {
   "cell_type": "code",
   "execution_count": null,
   "metadata": {},
   "outputs": [],
   "source": [
    "to_plot_f = ['100nm_10k_PEG', '100nm_5k_PEG', '100nm_1k_PEG_2', '100nm_PS_NPs_1']\n",
    "plot_all_experiments(to_plot_f, bucket=bucket, folder=folder)"
   ]
  },
  {
   "cell_type": "code",
   "execution_count": null,
   "metadata": {},
   "outputs": [],
   "source": [
    "to_plot = []\n",
    "for key in geoM2xy:\n",
    "    to_plot.append(key)\n",
    "    \n",
    "plot_all_experiments(to_plot, bucket=bucket, folder=folder)"
   ]
  },
  {
   "cell_type": "code",
   "execution_count": null,
   "metadata": {},
   "outputs": [],
   "source": [
    "to_plot = []\n",
    "for key in geo_slices:\n",
    "    to_plot.append(key)\n",
    "    \n",
    "plot_all_experiments(to_plot, bucket=bucket, folder=folder)"
   ]
  },
  {
   "cell_type": "code",
   "execution_count": null,
   "metadata": {},
   "outputs": [],
   "source": [
    "test = np.array([-5, -4, -3, -2, -1])\n",
    "test = np.array([0.0001, 0.002, 0.03, 0.000005])\n",
    "test2 = ma.log(test)\n",
    "test2"
   ]
  },
  {
   "cell_type": "code",
   "execution_count": null,
   "metadata": {},
   "outputs": [],
   "source": [
    "stats.sem(test)"
   ]
  },
  {
   "cell_type": "code",
   "execution_count": null,
   "metadata": {},
   "outputs": [],
   "source": [
    "gSEM"
   ]
  },
  {
   "cell_type": "code",
   "execution_count": null,
   "metadata": {},
   "outputs": [],
   "source": [
    "geoM2xy"
   ]
  },
  {
   "cell_type": "code",
   "execution_count": null,
   "metadata": {},
   "outputs": [],
   "source": []
  }
 ],
 "metadata": {
  "kernelspec": {
   "display_name": "Python 3",
   "language": "python",
   "name": "python3"
  },
  "language_info": {
   "codemirror_mode": {
    "name": "ipython",
    "version": 3
   },
   "file_extension": ".py",
   "mimetype": "text/x-python",
   "name": "python",
   "nbconvert_exporter": "python",
   "pygments_lexer": "ipython3",
   "version": "3.6.3"
  }
 },
 "nbformat": 4,
 "nbformat_minor": 2
}
