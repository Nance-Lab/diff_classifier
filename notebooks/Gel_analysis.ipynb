{
 "cells": [
  {
   "cell_type": "code",
   "execution_count": 3,
   "metadata": {},
   "outputs": [
    {
     "ename": "ImportError",
     "evalue": "cannot import name 'binning'",
     "output_type": "error",
     "traceback": [
      "\u001b[0;31m---------------------------------------------------------------------------\u001b[0m",
      "\u001b[0;31mImportError\u001b[0m                               Traceback (most recent call last)",
      "\u001b[0;32m<ipython-input-3-9abf138edadd>\u001b[0m in \u001b[0;36m<module>\u001b[0;34m()\u001b[0m\n\u001b[1;32m      6\u001b[0m \u001b[0;32mimport\u001b[0m \u001b[0mdiff_classifier\u001b[0m\u001b[0;34m.\u001b[0m\u001b[0maws\u001b[0m \u001b[0;32mas\u001b[0m \u001b[0maws\u001b[0m\u001b[0;34m\u001b[0m\u001b[0m\n\u001b[1;32m      7\u001b[0m \u001b[0;32mimport\u001b[0m \u001b[0mdiff_classifier\u001b[0m\u001b[0;34m.\u001b[0m\u001b[0mmsd\u001b[0m \u001b[0;32mas\u001b[0m \u001b[0mmsd\u001b[0m\u001b[0;34m\u001b[0m\u001b[0m\n\u001b[0;32m----> 8\u001b[0;31m \u001b[0;32mfrom\u001b[0m \u001b[0mdiff_classifier\u001b[0m\u001b[0;34m.\u001b[0m\u001b[0mmsd\u001b[0m \u001b[0;32mimport\u001b[0m \u001b[0mbinning\u001b[0m\u001b[0;34m,\u001b[0m \u001b[0mprecision_weight\u001b[0m\u001b[0;34m,\u001b[0m \u001b[0mprecision_averaging\u001b[0m\u001b[0;34m,\u001b[0m \u001b[0mplot_all_experiments\u001b[0m\u001b[0;34m\u001b[0m\u001b[0m\n\u001b[0m\u001b[1;32m      9\u001b[0m \u001b[0;32mimport\u001b[0m \u001b[0mmatplotlib\u001b[0m\u001b[0;34m.\u001b[0m\u001b[0mpyplot\u001b[0m \u001b[0;32mas\u001b[0m \u001b[0mplt\u001b[0m\u001b[0;34m\u001b[0m\u001b[0m\n\u001b[1;32m     10\u001b[0m \u001b[0;32mfrom\u001b[0m \u001b[0mmatplotlib\u001b[0m\u001b[0;34m.\u001b[0m\u001b[0mpyplot\u001b[0m \u001b[0;32mimport\u001b[0m \u001b[0mcm\u001b[0m\u001b[0;34m\u001b[0m\u001b[0m\n",
      "\u001b[0;31mImportError\u001b[0m: cannot import name 'binning'"
     ]
    }
   ],
   "source": [
    "import numpy as np\n",
    "import numpy.ma as ma\n",
    "import pandas as pd\n",
    "import scipy.stats as stat\n",
    "import random\n",
    "import diff_classifier.aws as aws\n",
    "import diff_classifier.msd as msd\n",
    "from diff_classifier.msd import binning, precision_weight, precision_averaging, plot_all_experiments\n",
    "import matplotlib.pyplot as plt\n",
    "from matplotlib.pyplot import cm"
   ]
  },
  {
   "cell_type": "code",
   "execution_count": null,
   "metadata": {},
   "outputs": [],
   "source": [
    "folder = '06_15_18_gel_validation'\n",
    "bucket = 'hpontes.data'\n",
    "experiment = 'COOH' #Used for naming purposes. Should exclude XY and well information\n",
    "\n",
    "vids = 20\n",
    "to_track = []\n",
    "wells = 4\n",
    "frames = 651\n",
    "fps = 100.02\n",
    "\n",
    "slices = [\"1\", \"2\", \"3\", \"4\", \"5\"]\n",
    "well = ['1', '2', '3', '4']\n",
    "for i in slices:\n",
    "    for j in well: \n",
    "        to_track.append('NH2_t{}_XY{}'.format(j, i)) #As per usual, use for loops to include all experiments\n",
    "\n",
    "slices, bins, well_names = binning(to_track)\n",
    "geoM2xy = {}\n",
    "gSEM = {}\n",
    "for sample_name in to_track:\n",
    "    aws.download_s3('{}/geomean_{}.csv'.format(folder, sample_name), 'geomean_{}.csv'.format(sample_name), bucket_name=bucket)\n",
    "    aws.download_s3('{}/geoSEM_{}.csv'.format(folder, sample_name), 'geoSEM_{}.csv'.format(sample_name), bucket_name=bucket)\n",
    "    geoM2xy[sample_name] = np.genfromtxt('geomean_{}.csv'.format(sample_name))\n",
    "    gSEM[sample_name] = np.genfromtxt('geoSEM_{}.csv'.format(sample_name))"
   ]
  },
  {
   "cell_type": "code",
   "execution_count": null,
   "metadata": {},
   "outputs": [],
   "source": [
    "to_track"
   ]
  },
  {
   "cell_type": "code",
   "execution_count": null,
   "metadata": {},
   "outputs": [],
   "source": [
    "geo_slices = {}\n",
    "gSEM_slices = {}\n",
    "\n",
    "w_slices = {}\n",
    "wo_slices = {}\n",
    "\n",
    "for key in bins:\n",
    "    wo_slices[key] = precision_weight(bins[key], gSEM)\n",
    "    geo_slices[key], gSEM_slices[key] = precision_averaging(bins[key], geoM2xy, gSEM, wo_slices[key]) \n",
    "\n",
    "weights = precision_weight(well_names, gSEM_slices)\n",
    "geo, gS = precision_averaging(well_names, geo_slices, gSEM_slices, weights, bucket=bucket, folder=folder, experiment=experiment)"
   ]
  },
  {
   "cell_type": "code",
   "execution_count": null,
   "metadata": {},
   "outputs": [],
   "source": [
    "#Plot as desired. Can also modift to include multiple datasets as needed. Yay!\n",
    "\n",
    "fig = plt.figure(figsize=(8.5, 8.5))\n",
    "y_range = 1\n",
    "plt.xlim(10**-2, 10**0)\n",
    "#plt.ylim(0, y_range)\n",
    "\n",
    "x = np.linspace(0, frames-1, frames)/fps\n",
    "\n",
    "plt.loglog(x, np.exp(geo), 'k', linewidth=4)\n",
    "plt.loglog(x, np.exp(geo - 1.96*gS), 'k--', linewidth=2)\n",
    "plt.loglog(x, np.exp(geo + 1.96*gS), 'k--', linewidth=2)\n",
    "\n",
    "plt.xlabel('Tau (s)', fontsize=25)\n",
    "plt.ylabel(r'Mean Squared Displacement ($\\mu$m$^2$/s)', fontsize=25)"
   ]
  },
  {
   "cell_type": "code",
   "execution_count": null,
   "metadata": {},
   "outputs": [],
   "source": [
    "to_plot_f = [experiment, experiment, experiment]\n",
    "plot_all_experiments(to_plot_f, bucket=bucket, folder=folder)"
   ]
  },
  {
   "cell_type": "code",
   "execution_count": null,
   "metadata": {},
   "outputs": [],
   "source": []
  }
 ],
 "metadata": {
  "kernelspec": {
   "display_name": "Python 3",
   "language": "python",
   "name": "python3"
  },
  "language_info": {
   "codemirror_mode": {
    "name": "ipython",
    "version": 3
   },
   "file_extension": ".py",
   "mimetype": "text/x-python",
   "name": "python",
   "nbconvert_exporter": "python",
   "pygments_lexer": "ipython3",
   "version": "3.6.3"
  }
 },
 "nbformat": 4,
 "nbformat_minor": 2
}
