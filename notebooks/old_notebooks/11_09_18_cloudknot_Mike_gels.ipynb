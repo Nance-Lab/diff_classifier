{
 "cells": [
  {
   "cell_type": "markdown",
   "metadata": {},
   "source": [
    "# Experiment Initialization"
   ]
  },
  {
   "cell_type": "markdown",
   "metadata": {},
   "source": [
    "Here, I define the terms of my experiment, among them the location of the files in S3 (bucket and folder name), and each of the video prefixes (everything before the file extension) that I want to track. \n",
    "\n",
    "Note that these videos should be similar-ish: while we can account for differences in mean intensities between videos, particle sizes should be approximately the same, and (slightly less important) particles should be moving at about the same order of magnitude speed. In this experiment, these videos were taken in 0.4% agarose gel at 100x magnification and 100.02 fps shutter speeds with nanoparticles of about 100nm in diameter."
   ]
  },
  {
   "cell_type": "code",
   "execution_count": 9,
   "metadata": {},
   "outputs": [],
   "source": [
    "to_track = []\n",
    "result_futures = {}\n",
    "start_knot = 30 #Must be unique number for every run on Cloudknot.\n",
    "\n",
    "remote_folder = '11_09_18_Gel_Experiments' #Folder in AWS S3 containing files to be analyzed\n",
    "bucket = 'mckenna.data'\n",
    "vids = 5\n",
    "gels = ['0_4', '0_6', '0_8', '1_0', '1_2']\n",
    "\n",
    "for gel in gels:\n",
    "    for num in range(1, vids+1):\n",
    "        #to_track.append('100x_0_4_1_2_gel_{}_bulk_vid_{}'.format(vis, num))\n",
    "        to_track.append('{}_agarose_vid_{}'.format(gel, num))"
   ]
  },
  {
   "cell_type": "code",
   "execution_count": 10,
   "metadata": {},
   "outputs": [
    {
     "data": {
      "text/plain": [
       "['0_4_agarose_vid_1',\n",
       " '0_4_agarose_vid_2',\n",
       " '0_4_agarose_vid_3',\n",
       " '0_4_agarose_vid_4',\n",
       " '0_4_agarose_vid_5',\n",
       " '0_6_agarose_vid_1',\n",
       " '0_6_agarose_vid_2',\n",
       " '0_6_agarose_vid_3',\n",
       " '0_6_agarose_vid_4',\n",
       " '0_6_agarose_vid_5',\n",
       " '0_8_agarose_vid_1',\n",
       " '0_8_agarose_vid_2',\n",
       " '0_8_agarose_vid_3',\n",
       " '0_8_agarose_vid_4',\n",
       " '0_8_agarose_vid_5',\n",
       " '1_0_agarose_vid_1',\n",
       " '1_0_agarose_vid_2',\n",
       " '1_0_agarose_vid_3',\n",
       " '1_0_agarose_vid_4',\n",
       " '1_0_agarose_vid_5',\n",
       " '1_2_agarose_vid_1',\n",
       " '1_2_agarose_vid_2',\n",
       " '1_2_agarose_vid_3',\n",
       " '1_2_agarose_vid_4',\n",
       " '1_2_agarose_vid_5']"
      ]
     },
     "execution_count": 10,
     "metadata": {},
     "output_type": "execute_result"
    }
   ],
   "source": [
    "to_track"
   ]
  },
  {
   "cell_type": "markdown",
   "metadata": {},
   "source": [
    "The videos used with this analysis are fairly large (2048 x 2048 pixels and 651 frames), and in cases like this, the tracking algorithm can quickly eat up RAM. In this case, we chose to crop the videos to 512 x 512 images such that we can run our jobs on smaller EC2 instances with 16GB of RAM. \n",
    "\n",
    "Note that larger jobs can be made with user-defined functions such that splitting isn't necessary-- or perhaps an intermediate amount of memory that contains splitting, tracking, and msd calculation functions all performed on a single EC2 instance.\n",
    "\n",
    "The compiled functions in the knotlets module require access to buckets on AWS. In this case, we will be using a publicly (read-only) bucket. If users want to run this notebook on their own, will have to transfer files from nancelab.publicfiles to their own bucket, as it requires writing to S3 buckets."
   ]
  },
  {
   "cell_type": "code",
   "execution_count": 6,
   "metadata": {},
   "outputs": [],
   "source": [
    "import diff_classifier.knotlets as kn"
   ]
  },
  {
   "cell_type": "code",
   "execution_count": 11,
   "metadata": {},
   "outputs": [
    {
     "name": "stderr",
     "output_type": "stream",
     "text": [
      "/home/ubuntu/miniconda3/lib/python3.6/site-packages/skimage/io/_io.py:132: UserWarning: /home/ubuntu/source/diff-classifier/notebooks/development/0_4_agarose_vid_1_0_0.tif is a low contrast image\n",
      "  warn('%s is a low contrast image' % fname)\n",
      "/home/ubuntu/miniconda3/lib/python3.6/site-packages/skimage/io/_io.py:132: UserWarning: /home/ubuntu/source/diff-classifier/notebooks/development/0_4_agarose_vid_1_0_1.tif is a low contrast image\n",
      "  warn('%s is a low contrast image' % fname)\n",
      "/home/ubuntu/miniconda3/lib/python3.6/site-packages/skimage/io/_io.py:132: UserWarning: /home/ubuntu/source/diff-classifier/notebooks/development/0_4_agarose_vid_1_0_2.tif is a low contrast image\n",
      "  warn('%s is a low contrast image' % fname)\n",
      "/home/ubuntu/miniconda3/lib/python3.6/site-packages/skimage/io/_io.py:132: UserWarning: /home/ubuntu/source/diff-classifier/notebooks/development/0_4_agarose_vid_1_0_3.tif is a low contrast image\n",
      "  warn('%s is a low contrast image' % fname)\n",
      "/home/ubuntu/miniconda3/lib/python3.6/site-packages/skimage/io/_io.py:132: UserWarning: /home/ubuntu/source/diff-classifier/notebooks/development/0_4_agarose_vid_1_1_0.tif is a low contrast image\n",
      "  warn('%s is a low contrast image' % fname)\n",
      "/home/ubuntu/miniconda3/lib/python3.6/site-packages/skimage/io/_io.py:132: UserWarning: /home/ubuntu/source/diff-classifier/notebooks/development/0_4_agarose_vid_1_1_1.tif is a low contrast image\n",
      "  warn('%s is a low contrast image' % fname)\n",
      "/home/ubuntu/miniconda3/lib/python3.6/site-packages/skimage/io/_io.py:132: UserWarning: /home/ubuntu/source/diff-classifier/notebooks/development/0_4_agarose_vid_1_1_2.tif is a low contrast image\n",
      "  warn('%s is a low contrast image' % fname)\n",
      "/home/ubuntu/miniconda3/lib/python3.6/site-packages/skimage/io/_io.py:132: UserWarning: /home/ubuntu/source/diff-classifier/notebooks/development/0_4_agarose_vid_1_1_3.tif is a low contrast image\n",
      "  warn('%s is a low contrast image' % fname)\n",
      "/home/ubuntu/miniconda3/lib/python3.6/site-packages/skimage/io/_io.py:132: UserWarning: /home/ubuntu/source/diff-classifier/notebooks/development/0_4_agarose_vid_1_2_0.tif is a low contrast image\n",
      "  warn('%s is a low contrast image' % fname)\n",
      "/home/ubuntu/miniconda3/lib/python3.6/site-packages/skimage/io/_io.py:132: UserWarning: /home/ubuntu/source/diff-classifier/notebooks/development/0_4_agarose_vid_1_2_1.tif is a low contrast image\n",
      "  warn('%s is a low contrast image' % fname)\n",
      "/home/ubuntu/miniconda3/lib/python3.6/site-packages/skimage/io/_io.py:132: UserWarning: /home/ubuntu/source/diff-classifier/notebooks/development/0_4_agarose_vid_1_2_2.tif is a low contrast image\n",
      "  warn('%s is a low contrast image' % fname)\n",
      "/home/ubuntu/miniconda3/lib/python3.6/site-packages/skimage/io/_io.py:132: UserWarning: /home/ubuntu/source/diff-classifier/notebooks/development/0_4_agarose_vid_1_2_3.tif is a low contrast image\n",
      "  warn('%s is a low contrast image' % fname)\n",
      "/home/ubuntu/miniconda3/lib/python3.6/site-packages/skimage/io/_io.py:132: UserWarning: /home/ubuntu/source/diff-classifier/notebooks/development/0_4_agarose_vid_1_3_0.tif is a low contrast image\n",
      "  warn('%s is a low contrast image' % fname)\n",
      "/home/ubuntu/miniconda3/lib/python3.6/site-packages/skimage/io/_io.py:132: UserWarning: /home/ubuntu/source/diff-classifier/notebooks/development/0_4_agarose_vid_1_3_1.tif is a low contrast image\n",
      "  warn('%s is a low contrast image' % fname)\n",
      "/home/ubuntu/miniconda3/lib/python3.6/site-packages/skimage/io/_io.py:132: UserWarning: /home/ubuntu/source/diff-classifier/notebooks/development/0_4_agarose_vid_1_3_2.tif is a low contrast image\n",
      "  warn('%s is a low contrast image' % fname)\n",
      "/home/ubuntu/miniconda3/lib/python3.6/site-packages/skimage/io/_io.py:132: UserWarning: /home/ubuntu/source/diff-classifier/notebooks/development/0_4_agarose_vid_1_3_3.tif is a low contrast image\n",
      "  warn('%s is a low contrast image' % fname)\n"
     ]
    },
    {
     "name": "stdout",
     "output_type": "stream",
     "text": [
      "Done with splitting. Should output file of name 11_09_18_Gel_Experiments/0_4_agarose_vid_1_0_0.tif\n",
      "Done with splitting. Should output file of name 11_09_18_Gel_Experiments/0_4_agarose_vid_1_0_1.tif\n",
      "Done with splitting. Should output file of name 11_09_18_Gel_Experiments/0_4_agarose_vid_1_0_2.tif\n",
      "Done with splitting. Should output file of name 11_09_18_Gel_Experiments/0_4_agarose_vid_1_0_3.tif\n",
      "Done with splitting. Should output file of name 11_09_18_Gel_Experiments/0_4_agarose_vid_1_1_0.tif\n",
      "Done with splitting. Should output file of name 11_09_18_Gel_Experiments/0_4_agarose_vid_1_1_1.tif\n",
      "Done with splitting. Should output file of name 11_09_18_Gel_Experiments/0_4_agarose_vid_1_1_2.tif\n",
      "Done with splitting. Should output file of name 11_09_18_Gel_Experiments/0_4_agarose_vid_1_1_3.tif\n",
      "Done with splitting. Should output file of name 11_09_18_Gel_Experiments/0_4_agarose_vid_1_2_0.tif\n",
      "Done with splitting. Should output file of name 11_09_18_Gel_Experiments/0_4_agarose_vid_1_2_1.tif\n",
      "Done with splitting. Should output file of name 11_09_18_Gel_Experiments/0_4_agarose_vid_1_2_2.tif\n",
      "Done with splitting. Should output file of name 11_09_18_Gel_Experiments/0_4_agarose_vid_1_2_3.tif\n",
      "Done with splitting. Should output file of name 11_09_18_Gel_Experiments/0_4_agarose_vid_1_3_0.tif\n",
      "Done with splitting. Should output file of name 11_09_18_Gel_Experiments/0_4_agarose_vid_1_3_1.tif\n",
      "Done with splitting. Should output file of name 11_09_18_Gel_Experiments/0_4_agarose_vid_1_3_2.tif\n",
      "Done with splitting. Should output file of name 11_09_18_Gel_Experiments/0_4_agarose_vid_1_3_3.tif\n"
     ]
    },
    {
     "name": "stderr",
     "output_type": "stream",
     "text": [
      "/home/ubuntu/miniconda3/lib/python3.6/site-packages/skimage/io/_io.py:132: UserWarning: /home/ubuntu/source/diff-classifier/notebooks/development/0_4_agarose_vid_2_0_0.tif is a low contrast image\n",
      "  warn('%s is a low contrast image' % fname)\n",
      "/home/ubuntu/miniconda3/lib/python3.6/site-packages/skimage/io/_io.py:132: UserWarning: /home/ubuntu/source/diff-classifier/notebooks/development/0_4_agarose_vid_2_0_1.tif is a low contrast image\n",
      "  warn('%s is a low contrast image' % fname)\n",
      "/home/ubuntu/miniconda3/lib/python3.6/site-packages/skimage/io/_io.py:132: UserWarning: /home/ubuntu/source/diff-classifier/notebooks/development/0_4_agarose_vid_2_0_2.tif is a low contrast image\n",
      "  warn('%s is a low contrast image' % fname)\n",
      "/home/ubuntu/miniconda3/lib/python3.6/site-packages/skimage/io/_io.py:132: UserWarning: /home/ubuntu/source/diff-classifier/notebooks/development/0_4_agarose_vid_2_0_3.tif is a low contrast image\n",
      "  warn('%s is a low contrast image' % fname)\n",
      "/home/ubuntu/miniconda3/lib/python3.6/site-packages/skimage/io/_io.py:132: UserWarning: /home/ubuntu/source/diff-classifier/notebooks/development/0_4_agarose_vid_2_1_0.tif is a low contrast image\n",
      "  warn('%s is a low contrast image' % fname)\n",
      "/home/ubuntu/miniconda3/lib/python3.6/site-packages/skimage/io/_io.py:132: UserWarning: /home/ubuntu/source/diff-classifier/notebooks/development/0_4_agarose_vid_2_1_1.tif is a low contrast image\n",
      "  warn('%s is a low contrast image' % fname)\n",
      "/home/ubuntu/miniconda3/lib/python3.6/site-packages/skimage/io/_io.py:132: UserWarning: /home/ubuntu/source/diff-classifier/notebooks/development/0_4_agarose_vid_2_1_2.tif is a low contrast image\n",
      "  warn('%s is a low contrast image' % fname)\n",
      "/home/ubuntu/miniconda3/lib/python3.6/site-packages/skimage/io/_io.py:132: UserWarning: /home/ubuntu/source/diff-classifier/notebooks/development/0_4_agarose_vid_2_1_3.tif is a low contrast image\n",
      "  warn('%s is a low contrast image' % fname)\n",
      "/home/ubuntu/miniconda3/lib/python3.6/site-packages/skimage/io/_io.py:132: UserWarning: /home/ubuntu/source/diff-classifier/notebooks/development/0_4_agarose_vid_2_2_0.tif is a low contrast image\n",
      "  warn('%s is a low contrast image' % fname)\n",
      "/home/ubuntu/miniconda3/lib/python3.6/site-packages/skimage/io/_io.py:132: UserWarning: /home/ubuntu/source/diff-classifier/notebooks/development/0_4_agarose_vid_2_2_1.tif is a low contrast image\n",
      "  warn('%s is a low contrast image' % fname)\n",
      "/home/ubuntu/miniconda3/lib/python3.6/site-packages/skimage/io/_io.py:132: UserWarning: /home/ubuntu/source/diff-classifier/notebooks/development/0_4_agarose_vid_2_2_2.tif is a low contrast image\n",
      "  warn('%s is a low contrast image' % fname)\n",
      "/home/ubuntu/miniconda3/lib/python3.6/site-packages/skimage/io/_io.py:132: UserWarning: /home/ubuntu/source/diff-classifier/notebooks/development/0_4_agarose_vid_2_2_3.tif is a low contrast image\n",
      "  warn('%s is a low contrast image' % fname)\n",
      "/home/ubuntu/miniconda3/lib/python3.6/site-packages/skimage/io/_io.py:132: UserWarning: /home/ubuntu/source/diff-classifier/notebooks/development/0_4_agarose_vid_2_3_0.tif is a low contrast image\n",
      "  warn('%s is a low contrast image' % fname)\n",
      "/home/ubuntu/miniconda3/lib/python3.6/site-packages/skimage/io/_io.py:132: UserWarning: /home/ubuntu/source/diff-classifier/notebooks/development/0_4_agarose_vid_2_3_1.tif is a low contrast image\n",
      "  warn('%s is a low contrast image' % fname)\n",
      "/home/ubuntu/miniconda3/lib/python3.6/site-packages/skimage/io/_io.py:132: UserWarning: /home/ubuntu/source/diff-classifier/notebooks/development/0_4_agarose_vid_2_3_2.tif is a low contrast image\n",
      "  warn('%s is a low contrast image' % fname)\n",
      "/home/ubuntu/miniconda3/lib/python3.6/site-packages/skimage/io/_io.py:132: UserWarning: /home/ubuntu/source/diff-classifier/notebooks/development/0_4_agarose_vid_2_3_3.tif is a low contrast image\n",
      "  warn('%s is a low contrast image' % fname)\n"
     ]
    },
    {
     "name": "stdout",
     "output_type": "stream",
     "text": [
      "Done with splitting. Should output file of name 11_09_18_Gel_Experiments/0_4_agarose_vid_2_0_0.tif\n",
      "Done with splitting. Should output file of name 11_09_18_Gel_Experiments/0_4_agarose_vid_2_0_1.tif\n",
      "Done with splitting. Should output file of name 11_09_18_Gel_Experiments/0_4_agarose_vid_2_0_2.tif\n",
      "Done with splitting. Should output file of name 11_09_18_Gel_Experiments/0_4_agarose_vid_2_0_3.tif\n",
      "Done with splitting. Should output file of name 11_09_18_Gel_Experiments/0_4_agarose_vid_2_1_0.tif\n",
      "Done with splitting. Should output file of name 11_09_18_Gel_Experiments/0_4_agarose_vid_2_1_1.tif\n",
      "Done with splitting. Should output file of name 11_09_18_Gel_Experiments/0_4_agarose_vid_2_1_2.tif\n",
      "Done with splitting. Should output file of name 11_09_18_Gel_Experiments/0_4_agarose_vid_2_1_3.tif\n",
      "Done with splitting. Should output file of name 11_09_18_Gel_Experiments/0_4_agarose_vid_2_2_0.tif\n",
      "Done with splitting. Should output file of name 11_09_18_Gel_Experiments/0_4_agarose_vid_2_2_1.tif\n",
      "Done with splitting. Should output file of name 11_09_18_Gel_Experiments/0_4_agarose_vid_2_2_2.tif\n",
      "Done with splitting. Should output file of name 11_09_18_Gel_Experiments/0_4_agarose_vid_2_2_3.tif\n",
      "Done with splitting. Should output file of name 11_09_18_Gel_Experiments/0_4_agarose_vid_2_3_0.tif\n",
      "Done with splitting. Should output file of name 11_09_18_Gel_Experiments/0_4_agarose_vid_2_3_1.tif\n",
      "Done with splitting. Should output file of name 11_09_18_Gel_Experiments/0_4_agarose_vid_2_3_2.tif\n",
      "Done with splitting. Should output file of name 11_09_18_Gel_Experiments/0_4_agarose_vid_2_3_3.tif\n"
     ]
    },
    {
     "name": "stderr",
     "output_type": "stream",
     "text": [
      "/home/ubuntu/miniconda3/lib/python3.6/site-packages/skimage/io/_io.py:132: UserWarning: /home/ubuntu/source/diff-classifier/notebooks/development/0_4_agarose_vid_3_0_0.tif is a low contrast image\n",
      "  warn('%s is a low contrast image' % fname)\n",
      "/home/ubuntu/miniconda3/lib/python3.6/site-packages/skimage/io/_io.py:132: UserWarning: /home/ubuntu/source/diff-classifier/notebooks/development/0_4_agarose_vid_3_0_1.tif is a low contrast image\n",
      "  warn('%s is a low contrast image' % fname)\n",
      "/home/ubuntu/miniconda3/lib/python3.6/site-packages/skimage/io/_io.py:132: UserWarning: /home/ubuntu/source/diff-classifier/notebooks/development/0_4_agarose_vid_3_0_2.tif is a low contrast image\n",
      "  warn('%s is a low contrast image' % fname)\n",
      "/home/ubuntu/miniconda3/lib/python3.6/site-packages/skimage/io/_io.py:132: UserWarning: /home/ubuntu/source/diff-classifier/notebooks/development/0_4_agarose_vid_3_0_3.tif is a low contrast image\n",
      "  warn('%s is a low contrast image' % fname)\n",
      "/home/ubuntu/miniconda3/lib/python3.6/site-packages/skimage/io/_io.py:132: UserWarning: /home/ubuntu/source/diff-classifier/notebooks/development/0_4_agarose_vid_3_1_0.tif is a low contrast image\n",
      "  warn('%s is a low contrast image' % fname)\n",
      "/home/ubuntu/miniconda3/lib/python3.6/site-packages/skimage/io/_io.py:132: UserWarning: /home/ubuntu/source/diff-classifier/notebooks/development/0_4_agarose_vid_3_1_1.tif is a low contrast image\n",
      "  warn('%s is a low contrast image' % fname)\n",
      "/home/ubuntu/miniconda3/lib/python3.6/site-packages/skimage/io/_io.py:132: UserWarning: /home/ubuntu/source/diff-classifier/notebooks/development/0_4_agarose_vid_3_1_2.tif is a low contrast image\n",
      "  warn('%s is a low contrast image' % fname)\n",
      "/home/ubuntu/miniconda3/lib/python3.6/site-packages/skimage/io/_io.py:132: UserWarning: /home/ubuntu/source/diff-classifier/notebooks/development/0_4_agarose_vid_3_1_3.tif is a low contrast image\n",
      "  warn('%s is a low contrast image' % fname)\n",
      "/home/ubuntu/miniconda3/lib/python3.6/site-packages/skimage/io/_io.py:132: UserWarning: /home/ubuntu/source/diff-classifier/notebooks/development/0_4_agarose_vid_3_2_0.tif is a low contrast image\n",
      "  warn('%s is a low contrast image' % fname)\n",
      "/home/ubuntu/miniconda3/lib/python3.6/site-packages/skimage/io/_io.py:132: UserWarning: /home/ubuntu/source/diff-classifier/notebooks/development/0_4_agarose_vid_3_2_1.tif is a low contrast image\n",
      "  warn('%s is a low contrast image' % fname)\n",
      "/home/ubuntu/miniconda3/lib/python3.6/site-packages/skimage/io/_io.py:132: UserWarning: /home/ubuntu/source/diff-classifier/notebooks/development/0_4_agarose_vid_3_2_2.tif is a low contrast image\n",
      "  warn('%s is a low contrast image' % fname)\n",
      "/home/ubuntu/miniconda3/lib/python3.6/site-packages/skimage/io/_io.py:132: UserWarning: /home/ubuntu/source/diff-classifier/notebooks/development/0_4_agarose_vid_3_2_3.tif is a low contrast image\n",
      "  warn('%s is a low contrast image' % fname)\n",
      "/home/ubuntu/miniconda3/lib/python3.6/site-packages/skimage/io/_io.py:132: UserWarning: /home/ubuntu/source/diff-classifier/notebooks/development/0_4_agarose_vid_3_3_0.tif is a low contrast image\n",
      "  warn('%s is a low contrast image' % fname)\n",
      "/home/ubuntu/miniconda3/lib/python3.6/site-packages/skimage/io/_io.py:132: UserWarning: /home/ubuntu/source/diff-classifier/notebooks/development/0_4_agarose_vid_3_3_1.tif is a low contrast image\n",
      "  warn('%s is a low contrast image' % fname)\n",
      "/home/ubuntu/miniconda3/lib/python3.6/site-packages/skimage/io/_io.py:132: UserWarning: /home/ubuntu/source/diff-classifier/notebooks/development/0_4_agarose_vid_3_3_2.tif is a low contrast image\n",
      "  warn('%s is a low contrast image' % fname)\n",
      "/home/ubuntu/miniconda3/lib/python3.6/site-packages/skimage/io/_io.py:132: UserWarning: /home/ubuntu/source/diff-classifier/notebooks/development/0_4_agarose_vid_3_3_3.tif is a low contrast image\n",
      "  warn('%s is a low contrast image' % fname)\n"
     ]
    },
    {
     "name": "stdout",
     "output_type": "stream",
     "text": [
      "Done with splitting. Should output file of name 11_09_18_Gel_Experiments/0_4_agarose_vid_3_0_0.tif\n",
      "Done with splitting. Should output file of name 11_09_18_Gel_Experiments/0_4_agarose_vid_3_0_1.tif\n",
      "Done with splitting. Should output file of name 11_09_18_Gel_Experiments/0_4_agarose_vid_3_0_2.tif\n",
      "Done with splitting. Should output file of name 11_09_18_Gel_Experiments/0_4_agarose_vid_3_0_3.tif\n",
      "Done with splitting. Should output file of name 11_09_18_Gel_Experiments/0_4_agarose_vid_3_1_0.tif\n",
      "Done with splitting. Should output file of name 11_09_18_Gel_Experiments/0_4_agarose_vid_3_1_1.tif\n",
      "Done with splitting. Should output file of name 11_09_18_Gel_Experiments/0_4_agarose_vid_3_1_2.tif\n",
      "Done with splitting. Should output file of name 11_09_18_Gel_Experiments/0_4_agarose_vid_3_1_3.tif\n",
      "Done with splitting. Should output file of name 11_09_18_Gel_Experiments/0_4_agarose_vid_3_2_0.tif\n",
      "Done with splitting. Should output file of name 11_09_18_Gel_Experiments/0_4_agarose_vid_3_2_1.tif\n",
      "Done with splitting. Should output file of name 11_09_18_Gel_Experiments/0_4_agarose_vid_3_2_2.tif\n",
      "Done with splitting. Should output file of name 11_09_18_Gel_Experiments/0_4_agarose_vid_3_2_3.tif\n",
      "Done with splitting. Should output file of name 11_09_18_Gel_Experiments/0_4_agarose_vid_3_3_0.tif\n",
      "Done with splitting. Should output file of name 11_09_18_Gel_Experiments/0_4_agarose_vid_3_3_1.tif\n",
      "Done with splitting. Should output file of name 11_09_18_Gel_Experiments/0_4_agarose_vid_3_3_2.tif\n",
      "Done with splitting. Should output file of name 11_09_18_Gel_Experiments/0_4_agarose_vid_3_3_3.tif\n"
     ]
    },
    {
     "name": "stderr",
     "output_type": "stream",
     "text": [
      "/home/ubuntu/miniconda3/lib/python3.6/site-packages/skimage/io/_io.py:132: UserWarning: /home/ubuntu/source/diff-classifier/notebooks/development/0_4_agarose_vid_4_0_0.tif is a low contrast image\n",
      "  warn('%s is a low contrast image' % fname)\n",
      "/home/ubuntu/miniconda3/lib/python3.6/site-packages/skimage/io/_io.py:132: UserWarning: /home/ubuntu/source/diff-classifier/notebooks/development/0_4_agarose_vid_4_0_1.tif is a low contrast image\n",
      "  warn('%s is a low contrast image' % fname)\n",
      "/home/ubuntu/miniconda3/lib/python3.6/site-packages/skimage/io/_io.py:132: UserWarning: /home/ubuntu/source/diff-classifier/notebooks/development/0_4_agarose_vid_4_0_2.tif is a low contrast image\n",
      "  warn('%s is a low contrast image' % fname)\n",
      "/home/ubuntu/miniconda3/lib/python3.6/site-packages/skimage/io/_io.py:132: UserWarning: /home/ubuntu/source/diff-classifier/notebooks/development/0_4_agarose_vid_4_0_3.tif is a low contrast image\n",
      "  warn('%s is a low contrast image' % fname)\n",
      "/home/ubuntu/miniconda3/lib/python3.6/site-packages/skimage/io/_io.py:132: UserWarning: /home/ubuntu/source/diff-classifier/notebooks/development/0_4_agarose_vid_4_1_0.tif is a low contrast image\n",
      "  warn('%s is a low contrast image' % fname)\n",
      "/home/ubuntu/miniconda3/lib/python3.6/site-packages/skimage/io/_io.py:132: UserWarning: /home/ubuntu/source/diff-classifier/notebooks/development/0_4_agarose_vid_4_1_1.tif is a low contrast image\n",
      "  warn('%s is a low contrast image' % fname)\n",
      "/home/ubuntu/miniconda3/lib/python3.6/site-packages/skimage/io/_io.py:132: UserWarning: /home/ubuntu/source/diff-classifier/notebooks/development/0_4_agarose_vid_4_1_2.tif is a low contrast image\n",
      "  warn('%s is a low contrast image' % fname)\n",
      "/home/ubuntu/miniconda3/lib/python3.6/site-packages/skimage/io/_io.py:132: UserWarning: /home/ubuntu/source/diff-classifier/notebooks/development/0_4_agarose_vid_4_1_3.tif is a low contrast image\n",
      "  warn('%s is a low contrast image' % fname)\n",
      "/home/ubuntu/miniconda3/lib/python3.6/site-packages/skimage/io/_io.py:132: UserWarning: /home/ubuntu/source/diff-classifier/notebooks/development/0_4_agarose_vid_4_2_0.tif is a low contrast image\n",
      "  warn('%s is a low contrast image' % fname)\n",
      "/home/ubuntu/miniconda3/lib/python3.6/site-packages/skimage/io/_io.py:132: UserWarning: /home/ubuntu/source/diff-classifier/notebooks/development/0_4_agarose_vid_4_2_1.tif is a low contrast image\n",
      "  warn('%s is a low contrast image' % fname)\n",
      "/home/ubuntu/miniconda3/lib/python3.6/site-packages/skimage/io/_io.py:132: UserWarning: /home/ubuntu/source/diff-classifier/notebooks/development/0_4_agarose_vid_4_2_2.tif is a low contrast image\n",
      "  warn('%s is a low contrast image' % fname)\n",
      "/home/ubuntu/miniconda3/lib/python3.6/site-packages/skimage/io/_io.py:132: UserWarning: /home/ubuntu/source/diff-classifier/notebooks/development/0_4_agarose_vid_4_2_3.tif is a low contrast image\n",
      "  warn('%s is a low contrast image' % fname)\n",
      "/home/ubuntu/miniconda3/lib/python3.6/site-packages/skimage/io/_io.py:132: UserWarning: /home/ubuntu/source/diff-classifier/notebooks/development/0_4_agarose_vid_4_3_0.tif is a low contrast image\n",
      "  warn('%s is a low contrast image' % fname)\n",
      "/home/ubuntu/miniconda3/lib/python3.6/site-packages/skimage/io/_io.py:132: UserWarning: /home/ubuntu/source/diff-classifier/notebooks/development/0_4_agarose_vid_4_3_1.tif is a low contrast image\n",
      "  warn('%s is a low contrast image' % fname)\n",
      "/home/ubuntu/miniconda3/lib/python3.6/site-packages/skimage/io/_io.py:132: UserWarning: /home/ubuntu/source/diff-classifier/notebooks/development/0_4_agarose_vid_4_3_2.tif is a low contrast image\n",
      "  warn('%s is a low contrast image' % fname)\n",
      "/home/ubuntu/miniconda3/lib/python3.6/site-packages/skimage/io/_io.py:132: UserWarning: /home/ubuntu/source/diff-classifier/notebooks/development/0_4_agarose_vid_4_3_3.tif is a low contrast image\n",
      "  warn('%s is a low contrast image' % fname)\n"
     ]
    },
    {
     "name": "stdout",
     "output_type": "stream",
     "text": [
      "Done with splitting. Should output file of name 11_09_18_Gel_Experiments/0_4_agarose_vid_4_0_0.tif\n",
      "Done with splitting. Should output file of name 11_09_18_Gel_Experiments/0_4_agarose_vid_4_0_1.tif\n",
      "Done with splitting. Should output file of name 11_09_18_Gel_Experiments/0_4_agarose_vid_4_0_2.tif\n",
      "Done with splitting. Should output file of name 11_09_18_Gel_Experiments/0_4_agarose_vid_4_0_3.tif\n",
      "Done with splitting. Should output file of name 11_09_18_Gel_Experiments/0_4_agarose_vid_4_1_0.tif\n",
      "Done with splitting. Should output file of name 11_09_18_Gel_Experiments/0_4_agarose_vid_4_1_1.tif\n",
      "Done with splitting. Should output file of name 11_09_18_Gel_Experiments/0_4_agarose_vid_4_1_2.tif\n",
      "Done with splitting. Should output file of name 11_09_18_Gel_Experiments/0_4_agarose_vid_4_1_3.tif\n",
      "Done with splitting. Should output file of name 11_09_18_Gel_Experiments/0_4_agarose_vid_4_2_0.tif\n",
      "Done with splitting. Should output file of name 11_09_18_Gel_Experiments/0_4_agarose_vid_4_2_1.tif\n",
      "Done with splitting. Should output file of name 11_09_18_Gel_Experiments/0_4_agarose_vid_4_2_2.tif\n",
      "Done with splitting. Should output file of name 11_09_18_Gel_Experiments/0_4_agarose_vid_4_2_3.tif\n",
      "Done with splitting. Should output file of name 11_09_18_Gel_Experiments/0_4_agarose_vid_4_3_0.tif\n",
      "Done with splitting. Should output file of name 11_09_18_Gel_Experiments/0_4_agarose_vid_4_3_1.tif\n",
      "Done with splitting. Should output file of name 11_09_18_Gel_Experiments/0_4_agarose_vid_4_3_2.tif\n",
      "Done with splitting. Should output file of name 11_09_18_Gel_Experiments/0_4_agarose_vid_4_3_3.tif\n"
     ]
    },
    {
     "name": "stderr",
     "output_type": "stream",
     "text": [
      "/home/ubuntu/miniconda3/lib/python3.6/site-packages/skimage/io/_io.py:132: UserWarning: /home/ubuntu/source/diff-classifier/notebooks/development/0_4_agarose_vid_5_0_0.tif is a low contrast image\n",
      "  warn('%s is a low contrast image' % fname)\n",
      "/home/ubuntu/miniconda3/lib/python3.6/site-packages/skimage/io/_io.py:132: UserWarning: /home/ubuntu/source/diff-classifier/notebooks/development/0_4_agarose_vid_5_0_1.tif is a low contrast image\n",
      "  warn('%s is a low contrast image' % fname)\n",
      "/home/ubuntu/miniconda3/lib/python3.6/site-packages/skimage/io/_io.py:132: UserWarning: /home/ubuntu/source/diff-classifier/notebooks/development/0_4_agarose_vid_5_0_2.tif is a low contrast image\n",
      "  warn('%s is a low contrast image' % fname)\n",
      "/home/ubuntu/miniconda3/lib/python3.6/site-packages/skimage/io/_io.py:132: UserWarning: /home/ubuntu/source/diff-classifier/notebooks/development/0_4_agarose_vid_5_0_3.tif is a low contrast image\n",
      "  warn('%s is a low contrast image' % fname)\n",
      "/home/ubuntu/miniconda3/lib/python3.6/site-packages/skimage/io/_io.py:132: UserWarning: /home/ubuntu/source/diff-classifier/notebooks/development/0_4_agarose_vid_5_1_0.tif is a low contrast image\n",
      "  warn('%s is a low contrast image' % fname)\n",
      "/home/ubuntu/miniconda3/lib/python3.6/site-packages/skimage/io/_io.py:132: UserWarning: /home/ubuntu/source/diff-classifier/notebooks/development/0_4_agarose_vid_5_1_1.tif is a low contrast image\n",
      "  warn('%s is a low contrast image' % fname)\n",
      "/home/ubuntu/miniconda3/lib/python3.6/site-packages/skimage/io/_io.py:132: UserWarning: /home/ubuntu/source/diff-classifier/notebooks/development/0_4_agarose_vid_5_1_2.tif is a low contrast image\n",
      "  warn('%s is a low contrast image' % fname)\n",
      "/home/ubuntu/miniconda3/lib/python3.6/site-packages/skimage/io/_io.py:132: UserWarning: /home/ubuntu/source/diff-classifier/notebooks/development/0_4_agarose_vid_5_1_3.tif is a low contrast image\n",
      "  warn('%s is a low contrast image' % fname)\n",
      "/home/ubuntu/miniconda3/lib/python3.6/site-packages/skimage/io/_io.py:132: UserWarning: /home/ubuntu/source/diff-classifier/notebooks/development/0_4_agarose_vid_5_2_0.tif is a low contrast image\n",
      "  warn('%s is a low contrast image' % fname)\n",
      "/home/ubuntu/miniconda3/lib/python3.6/site-packages/skimage/io/_io.py:132: UserWarning: /home/ubuntu/source/diff-classifier/notebooks/development/0_4_agarose_vid_5_2_1.tif is a low contrast image\n",
      "  warn('%s is a low contrast image' % fname)\n",
      "/home/ubuntu/miniconda3/lib/python3.6/site-packages/skimage/io/_io.py:132: UserWarning: /home/ubuntu/source/diff-classifier/notebooks/development/0_4_agarose_vid_5_2_2.tif is a low contrast image\n",
      "  warn('%s is a low contrast image' % fname)\n",
      "/home/ubuntu/miniconda3/lib/python3.6/site-packages/skimage/io/_io.py:132: UserWarning: /home/ubuntu/source/diff-classifier/notebooks/development/0_4_agarose_vid_5_2_3.tif is a low contrast image\n",
      "  warn('%s is a low contrast image' % fname)\n",
      "/home/ubuntu/miniconda3/lib/python3.6/site-packages/skimage/io/_io.py:132: UserWarning: /home/ubuntu/source/diff-classifier/notebooks/development/0_4_agarose_vid_5_3_0.tif is a low contrast image\n",
      "  warn('%s is a low contrast image' % fname)\n",
      "/home/ubuntu/miniconda3/lib/python3.6/site-packages/skimage/io/_io.py:132: UserWarning: /home/ubuntu/source/diff-classifier/notebooks/development/0_4_agarose_vid_5_3_1.tif is a low contrast image\n",
      "  warn('%s is a low contrast image' % fname)\n",
      "/home/ubuntu/miniconda3/lib/python3.6/site-packages/skimage/io/_io.py:132: UserWarning: /home/ubuntu/source/diff-classifier/notebooks/development/0_4_agarose_vid_5_3_2.tif is a low contrast image\n",
      "  warn('%s is a low contrast image' % fname)\n",
      "/home/ubuntu/miniconda3/lib/python3.6/site-packages/skimage/io/_io.py:132: UserWarning: /home/ubuntu/source/diff-classifier/notebooks/development/0_4_agarose_vid_5_3_3.tif is a low contrast image\n",
      "  warn('%s is a low contrast image' % fname)\n"
     ]
    },
    {
     "name": "stdout",
     "output_type": "stream",
     "text": [
      "Done with splitting. Should output file of name 11_09_18_Gel_Experiments/0_4_agarose_vid_5_0_0.tif\n",
      "Done with splitting. Should output file of name 11_09_18_Gel_Experiments/0_4_agarose_vid_5_0_1.tif\n",
      "Done with splitting. Should output file of name 11_09_18_Gel_Experiments/0_4_agarose_vid_5_0_2.tif\n",
      "Done with splitting. Should output file of name 11_09_18_Gel_Experiments/0_4_agarose_vid_5_0_3.tif\n",
      "Done with splitting. Should output file of name 11_09_18_Gel_Experiments/0_4_agarose_vid_5_1_0.tif\n",
      "Done with splitting. Should output file of name 11_09_18_Gel_Experiments/0_4_agarose_vid_5_1_1.tif\n",
      "Done with splitting. Should output file of name 11_09_18_Gel_Experiments/0_4_agarose_vid_5_1_2.tif\n",
      "Done with splitting. Should output file of name 11_09_18_Gel_Experiments/0_4_agarose_vid_5_1_3.tif\n",
      "Done with splitting. Should output file of name 11_09_18_Gel_Experiments/0_4_agarose_vid_5_2_0.tif\n",
      "Done with splitting. Should output file of name 11_09_18_Gel_Experiments/0_4_agarose_vid_5_2_1.tif\n",
      "Done with splitting. Should output file of name 11_09_18_Gel_Experiments/0_4_agarose_vid_5_2_2.tif\n",
      "Done with splitting. Should output file of name 11_09_18_Gel_Experiments/0_4_agarose_vid_5_2_3.tif\n",
      "Done with splitting. Should output file of name 11_09_18_Gel_Experiments/0_4_agarose_vid_5_3_0.tif\n",
      "Done with splitting. Should output file of name 11_09_18_Gel_Experiments/0_4_agarose_vid_5_3_1.tif\n",
      "Done with splitting. Should output file of name 11_09_18_Gel_Experiments/0_4_agarose_vid_5_3_2.tif\n",
      "Done with splitting. Should output file of name 11_09_18_Gel_Experiments/0_4_agarose_vid_5_3_3.tif\n"
     ]
    },
    {
     "name": "stderr",
     "output_type": "stream",
     "text": [
      "/home/ubuntu/miniconda3/lib/python3.6/site-packages/skimage/io/_io.py:132: UserWarning: /home/ubuntu/source/diff-classifier/notebooks/development/0_6_agarose_vid_1_0_0.tif is a low contrast image\n",
      "  warn('%s is a low contrast image' % fname)\n",
      "/home/ubuntu/miniconda3/lib/python3.6/site-packages/skimage/io/_io.py:132: UserWarning: /home/ubuntu/source/diff-classifier/notebooks/development/0_6_agarose_vid_1_0_1.tif is a low contrast image\n",
      "  warn('%s is a low contrast image' % fname)\n",
      "/home/ubuntu/miniconda3/lib/python3.6/site-packages/skimage/io/_io.py:132: UserWarning: /home/ubuntu/source/diff-classifier/notebooks/development/0_6_agarose_vid_1_0_2.tif is a low contrast image\n",
      "  warn('%s is a low contrast image' % fname)\n",
      "/home/ubuntu/miniconda3/lib/python3.6/site-packages/skimage/io/_io.py:132: UserWarning: /home/ubuntu/source/diff-classifier/notebooks/development/0_6_agarose_vid_1_0_3.tif is a low contrast image\n",
      "  warn('%s is a low contrast image' % fname)\n",
      "/home/ubuntu/miniconda3/lib/python3.6/site-packages/skimage/io/_io.py:132: UserWarning: /home/ubuntu/source/diff-classifier/notebooks/development/0_6_agarose_vid_1_1_0.tif is a low contrast image\n",
      "  warn('%s is a low contrast image' % fname)\n",
      "/home/ubuntu/miniconda3/lib/python3.6/site-packages/skimage/io/_io.py:132: UserWarning: /home/ubuntu/source/diff-classifier/notebooks/development/0_6_agarose_vid_1_1_1.tif is a low contrast image\n",
      "  warn('%s is a low contrast image' % fname)\n",
      "/home/ubuntu/miniconda3/lib/python3.6/site-packages/skimage/io/_io.py:132: UserWarning: /home/ubuntu/source/diff-classifier/notebooks/development/0_6_agarose_vid_1_1_2.tif is a low contrast image\n",
      "  warn('%s is a low contrast image' % fname)\n",
      "/home/ubuntu/miniconda3/lib/python3.6/site-packages/skimage/io/_io.py:132: UserWarning: /home/ubuntu/source/diff-classifier/notebooks/development/0_6_agarose_vid_1_1_3.tif is a low contrast image\n",
      "  warn('%s is a low contrast image' % fname)\n",
      "/home/ubuntu/miniconda3/lib/python3.6/site-packages/skimage/io/_io.py:132: UserWarning: /home/ubuntu/source/diff-classifier/notebooks/development/0_6_agarose_vid_1_2_0.tif is a low contrast image\n",
      "  warn('%s is a low contrast image' % fname)\n",
      "/home/ubuntu/miniconda3/lib/python3.6/site-packages/skimage/io/_io.py:132: UserWarning: /home/ubuntu/source/diff-classifier/notebooks/development/0_6_agarose_vid_1_2_1.tif is a low contrast image\n",
      "  warn('%s is a low contrast image' % fname)\n",
      "/home/ubuntu/miniconda3/lib/python3.6/site-packages/skimage/io/_io.py:132: UserWarning: /home/ubuntu/source/diff-classifier/notebooks/development/0_6_agarose_vid_1_2_2.tif is a low contrast image\n",
      "  warn('%s is a low contrast image' % fname)\n",
      "/home/ubuntu/miniconda3/lib/python3.6/site-packages/skimage/io/_io.py:132: UserWarning: /home/ubuntu/source/diff-classifier/notebooks/development/0_6_agarose_vid_1_2_3.tif is a low contrast image\n",
      "  warn('%s is a low contrast image' % fname)\n",
      "/home/ubuntu/miniconda3/lib/python3.6/site-packages/skimage/io/_io.py:132: UserWarning: /home/ubuntu/source/diff-classifier/notebooks/development/0_6_agarose_vid_1_3_0.tif is a low contrast image\n",
      "  warn('%s is a low contrast image' % fname)\n",
      "/home/ubuntu/miniconda3/lib/python3.6/site-packages/skimage/io/_io.py:132: UserWarning: /home/ubuntu/source/diff-classifier/notebooks/development/0_6_agarose_vid_1_3_1.tif is a low contrast image\n",
      "  warn('%s is a low contrast image' % fname)\n",
      "/home/ubuntu/miniconda3/lib/python3.6/site-packages/skimage/io/_io.py:132: UserWarning: /home/ubuntu/source/diff-classifier/notebooks/development/0_6_agarose_vid_1_3_2.tif is a low contrast image\n",
      "  warn('%s is a low contrast image' % fname)\n",
      "/home/ubuntu/miniconda3/lib/python3.6/site-packages/skimage/io/_io.py:132: UserWarning: /home/ubuntu/source/diff-classifier/notebooks/development/0_6_agarose_vid_1_3_3.tif is a low contrast image\n",
      "  warn('%s is a low contrast image' % fname)\n"
     ]
    },
    {
     "name": "stdout",
     "output_type": "stream",
     "text": [
      "Done with splitting. Should output file of name 11_09_18_Gel_Experiments/0_6_agarose_vid_1_0_0.tif\n",
      "Done with splitting. Should output file of name 11_09_18_Gel_Experiments/0_6_agarose_vid_1_0_1.tif\n",
      "Done with splitting. Should output file of name 11_09_18_Gel_Experiments/0_6_agarose_vid_1_0_2.tif\n",
      "Done with splitting. Should output file of name 11_09_18_Gel_Experiments/0_6_agarose_vid_1_0_3.tif\n",
      "Done with splitting. Should output file of name 11_09_18_Gel_Experiments/0_6_agarose_vid_1_1_0.tif\n",
      "Done with splitting. Should output file of name 11_09_18_Gel_Experiments/0_6_agarose_vid_1_1_1.tif\n",
      "Done with splitting. Should output file of name 11_09_18_Gel_Experiments/0_6_agarose_vid_1_1_2.tif\n",
      "Done with splitting. Should output file of name 11_09_18_Gel_Experiments/0_6_agarose_vid_1_1_3.tif\n",
      "Done with splitting. Should output file of name 11_09_18_Gel_Experiments/0_6_agarose_vid_1_2_0.tif\n",
      "Done with splitting. Should output file of name 11_09_18_Gel_Experiments/0_6_agarose_vid_1_2_1.tif\n",
      "Done with splitting. Should output file of name 11_09_18_Gel_Experiments/0_6_agarose_vid_1_2_2.tif\n",
      "Done with splitting. Should output file of name 11_09_18_Gel_Experiments/0_6_agarose_vid_1_2_3.tif\n",
      "Done with splitting. Should output file of name 11_09_18_Gel_Experiments/0_6_agarose_vid_1_3_0.tif\n",
      "Done with splitting. Should output file of name 11_09_18_Gel_Experiments/0_6_agarose_vid_1_3_1.tif\n",
      "Done with splitting. Should output file of name 11_09_18_Gel_Experiments/0_6_agarose_vid_1_3_2.tif\n",
      "Done with splitting. Should output file of name 11_09_18_Gel_Experiments/0_6_agarose_vid_1_3_3.tif\n"
     ]
    },
    {
     "name": "stderr",
     "output_type": "stream",
     "text": [
      "/home/ubuntu/miniconda3/lib/python3.6/site-packages/skimage/io/_io.py:132: UserWarning: /home/ubuntu/source/diff-classifier/notebooks/development/0_6_agarose_vid_2_0_0.tif is a low contrast image\n",
      "  warn('%s is a low contrast image' % fname)\n",
      "/home/ubuntu/miniconda3/lib/python3.6/site-packages/skimage/io/_io.py:132: UserWarning: /home/ubuntu/source/diff-classifier/notebooks/development/0_6_agarose_vid_2_0_1.tif is a low contrast image\n",
      "  warn('%s is a low contrast image' % fname)\n",
      "/home/ubuntu/miniconda3/lib/python3.6/site-packages/skimage/io/_io.py:132: UserWarning: /home/ubuntu/source/diff-classifier/notebooks/development/0_6_agarose_vid_2_0_2.tif is a low contrast image\n",
      "  warn('%s is a low contrast image' % fname)\n",
      "/home/ubuntu/miniconda3/lib/python3.6/site-packages/skimage/io/_io.py:132: UserWarning: /home/ubuntu/source/diff-classifier/notebooks/development/0_6_agarose_vid_2_0_3.tif is a low contrast image\n",
      "  warn('%s is a low contrast image' % fname)\n",
      "/home/ubuntu/miniconda3/lib/python3.6/site-packages/skimage/io/_io.py:132: UserWarning: /home/ubuntu/source/diff-classifier/notebooks/development/0_6_agarose_vid_2_1_0.tif is a low contrast image\n",
      "  warn('%s is a low contrast image' % fname)\n",
      "/home/ubuntu/miniconda3/lib/python3.6/site-packages/skimage/io/_io.py:132: UserWarning: /home/ubuntu/source/diff-classifier/notebooks/development/0_6_agarose_vid_2_1_1.tif is a low contrast image\n",
      "  warn('%s is a low contrast image' % fname)\n",
      "/home/ubuntu/miniconda3/lib/python3.6/site-packages/skimage/io/_io.py:132: UserWarning: /home/ubuntu/source/diff-classifier/notebooks/development/0_6_agarose_vid_2_1_2.tif is a low contrast image\n",
      "  warn('%s is a low contrast image' % fname)\n",
      "/home/ubuntu/miniconda3/lib/python3.6/site-packages/skimage/io/_io.py:132: UserWarning: /home/ubuntu/source/diff-classifier/notebooks/development/0_6_agarose_vid_2_1_3.tif is a low contrast image\n",
      "  warn('%s is a low contrast image' % fname)\n",
      "/home/ubuntu/miniconda3/lib/python3.6/site-packages/skimage/io/_io.py:132: UserWarning: /home/ubuntu/source/diff-classifier/notebooks/development/0_6_agarose_vid_2_2_0.tif is a low contrast image\n",
      "  warn('%s is a low contrast image' % fname)\n",
      "/home/ubuntu/miniconda3/lib/python3.6/site-packages/skimage/io/_io.py:132: UserWarning: /home/ubuntu/source/diff-classifier/notebooks/development/0_6_agarose_vid_2_2_1.tif is a low contrast image\n",
      "  warn('%s is a low contrast image' % fname)\n",
      "/home/ubuntu/miniconda3/lib/python3.6/site-packages/skimage/io/_io.py:132: UserWarning: /home/ubuntu/source/diff-classifier/notebooks/development/0_6_agarose_vid_2_2_2.tif is a low contrast image\n",
      "  warn('%s is a low contrast image' % fname)\n",
      "/home/ubuntu/miniconda3/lib/python3.6/site-packages/skimage/io/_io.py:132: UserWarning: /home/ubuntu/source/diff-classifier/notebooks/development/0_6_agarose_vid_2_2_3.tif is a low contrast image\n",
      "  warn('%s is a low contrast image' % fname)\n",
      "/home/ubuntu/miniconda3/lib/python3.6/site-packages/skimage/io/_io.py:132: UserWarning: /home/ubuntu/source/diff-classifier/notebooks/development/0_6_agarose_vid_2_3_0.tif is a low contrast image\n",
      "  warn('%s is a low contrast image' % fname)\n",
      "/home/ubuntu/miniconda3/lib/python3.6/site-packages/skimage/io/_io.py:132: UserWarning: /home/ubuntu/source/diff-classifier/notebooks/development/0_6_agarose_vid_2_3_1.tif is a low contrast image\n",
      "  warn('%s is a low contrast image' % fname)\n",
      "/home/ubuntu/miniconda3/lib/python3.6/site-packages/skimage/io/_io.py:132: UserWarning: /home/ubuntu/source/diff-classifier/notebooks/development/0_6_agarose_vid_2_3_2.tif is a low contrast image\n",
      "  warn('%s is a low contrast image' % fname)\n",
      "/home/ubuntu/miniconda3/lib/python3.6/site-packages/skimage/io/_io.py:132: UserWarning: /home/ubuntu/source/diff-classifier/notebooks/development/0_6_agarose_vid_2_3_3.tif is a low contrast image\n",
      "  warn('%s is a low contrast image' % fname)\n"
     ]
    },
    {
     "name": "stdout",
     "output_type": "stream",
     "text": [
      "Done with splitting. Should output file of name 11_09_18_Gel_Experiments/0_6_agarose_vid_2_0_0.tif\n",
      "Done with splitting. Should output file of name 11_09_18_Gel_Experiments/0_6_agarose_vid_2_0_1.tif\n",
      "Done with splitting. Should output file of name 11_09_18_Gel_Experiments/0_6_agarose_vid_2_0_2.tif\n",
      "Done with splitting. Should output file of name 11_09_18_Gel_Experiments/0_6_agarose_vid_2_0_3.tif\n",
      "Done with splitting. Should output file of name 11_09_18_Gel_Experiments/0_6_agarose_vid_2_1_0.tif\n",
      "Done with splitting. Should output file of name 11_09_18_Gel_Experiments/0_6_agarose_vid_2_1_1.tif\n",
      "Done with splitting. Should output file of name 11_09_18_Gel_Experiments/0_6_agarose_vid_2_1_2.tif\n",
      "Done with splitting. Should output file of name 11_09_18_Gel_Experiments/0_6_agarose_vid_2_1_3.tif\n",
      "Done with splitting. Should output file of name 11_09_18_Gel_Experiments/0_6_agarose_vid_2_2_0.tif\n",
      "Done with splitting. Should output file of name 11_09_18_Gel_Experiments/0_6_agarose_vid_2_2_1.tif\n",
      "Done with splitting. Should output file of name 11_09_18_Gel_Experiments/0_6_agarose_vid_2_2_2.tif\n",
      "Done with splitting. Should output file of name 11_09_18_Gel_Experiments/0_6_agarose_vid_2_2_3.tif\n",
      "Done with splitting. Should output file of name 11_09_18_Gel_Experiments/0_6_agarose_vid_2_3_0.tif\n",
      "Done with splitting. Should output file of name 11_09_18_Gel_Experiments/0_6_agarose_vid_2_3_1.tif\n",
      "Done with splitting. Should output file of name 11_09_18_Gel_Experiments/0_6_agarose_vid_2_3_2.tif\n",
      "Done with splitting. Should output file of name 11_09_18_Gel_Experiments/0_6_agarose_vid_2_3_3.tif\n"
     ]
    },
    {
     "name": "stderr",
     "output_type": "stream",
     "text": [
      "/home/ubuntu/miniconda3/lib/python3.6/site-packages/skimage/io/_io.py:132: UserWarning: /home/ubuntu/source/diff-classifier/notebooks/development/0_6_agarose_vid_3_0_0.tif is a low contrast image\n",
      "  warn('%s is a low contrast image' % fname)\n",
      "/home/ubuntu/miniconda3/lib/python3.6/site-packages/skimage/io/_io.py:132: UserWarning: /home/ubuntu/source/diff-classifier/notebooks/development/0_6_agarose_vid_3_0_1.tif is a low contrast image\n",
      "  warn('%s is a low contrast image' % fname)\n",
      "/home/ubuntu/miniconda3/lib/python3.6/site-packages/skimage/io/_io.py:132: UserWarning: /home/ubuntu/source/diff-classifier/notebooks/development/0_6_agarose_vid_3_0_2.tif is a low contrast image\n",
      "  warn('%s is a low contrast image' % fname)\n",
      "/home/ubuntu/miniconda3/lib/python3.6/site-packages/skimage/io/_io.py:132: UserWarning: /home/ubuntu/source/diff-classifier/notebooks/development/0_6_agarose_vid_3_0_3.tif is a low contrast image\n",
      "  warn('%s is a low contrast image' % fname)\n",
      "/home/ubuntu/miniconda3/lib/python3.6/site-packages/skimage/io/_io.py:132: UserWarning: /home/ubuntu/source/diff-classifier/notebooks/development/0_6_agarose_vid_3_1_0.tif is a low contrast image\n",
      "  warn('%s is a low contrast image' % fname)\n",
      "/home/ubuntu/miniconda3/lib/python3.6/site-packages/skimage/io/_io.py:132: UserWarning: /home/ubuntu/source/diff-classifier/notebooks/development/0_6_agarose_vid_3_1_1.tif is a low contrast image\n",
      "  warn('%s is a low contrast image' % fname)\n",
      "/home/ubuntu/miniconda3/lib/python3.6/site-packages/skimage/io/_io.py:132: UserWarning: /home/ubuntu/source/diff-classifier/notebooks/development/0_6_agarose_vid_3_1_2.tif is a low contrast image\n",
      "  warn('%s is a low contrast image' % fname)\n",
      "/home/ubuntu/miniconda3/lib/python3.6/site-packages/skimage/io/_io.py:132: UserWarning: /home/ubuntu/source/diff-classifier/notebooks/development/0_6_agarose_vid_3_1_3.tif is a low contrast image\n",
      "  warn('%s is a low contrast image' % fname)\n",
      "/home/ubuntu/miniconda3/lib/python3.6/site-packages/skimage/io/_io.py:132: UserWarning: /home/ubuntu/source/diff-classifier/notebooks/development/0_6_agarose_vid_3_2_0.tif is a low contrast image\n",
      "  warn('%s is a low contrast image' % fname)\n",
      "/home/ubuntu/miniconda3/lib/python3.6/site-packages/skimage/io/_io.py:132: UserWarning: /home/ubuntu/source/diff-classifier/notebooks/development/0_6_agarose_vid_3_2_1.tif is a low contrast image\n",
      "  warn('%s is a low contrast image' % fname)\n",
      "/home/ubuntu/miniconda3/lib/python3.6/site-packages/skimage/io/_io.py:132: UserWarning: /home/ubuntu/source/diff-classifier/notebooks/development/0_6_agarose_vid_3_2_2.tif is a low contrast image\n",
      "  warn('%s is a low contrast image' % fname)\n",
      "/home/ubuntu/miniconda3/lib/python3.6/site-packages/skimage/io/_io.py:132: UserWarning: /home/ubuntu/source/diff-classifier/notebooks/development/0_6_agarose_vid_3_2_3.tif is a low contrast image\n",
      "  warn('%s is a low contrast image' % fname)\n",
      "/home/ubuntu/miniconda3/lib/python3.6/site-packages/skimage/io/_io.py:132: UserWarning: /home/ubuntu/source/diff-classifier/notebooks/development/0_6_agarose_vid_3_3_0.tif is a low contrast image\n",
      "  warn('%s is a low contrast image' % fname)\n",
      "/home/ubuntu/miniconda3/lib/python3.6/site-packages/skimage/io/_io.py:132: UserWarning: /home/ubuntu/source/diff-classifier/notebooks/development/0_6_agarose_vid_3_3_1.tif is a low contrast image\n",
      "  warn('%s is a low contrast image' % fname)\n",
      "/home/ubuntu/miniconda3/lib/python3.6/site-packages/skimage/io/_io.py:132: UserWarning: /home/ubuntu/source/diff-classifier/notebooks/development/0_6_agarose_vid_3_3_2.tif is a low contrast image\n",
      "  warn('%s is a low contrast image' % fname)\n",
      "/home/ubuntu/miniconda3/lib/python3.6/site-packages/skimage/io/_io.py:132: UserWarning: /home/ubuntu/source/diff-classifier/notebooks/development/0_6_agarose_vid_3_3_3.tif is a low contrast image\n",
      "  warn('%s is a low contrast image' % fname)\n"
     ]
    },
    {
     "name": "stdout",
     "output_type": "stream",
     "text": [
      "Done with splitting. Should output file of name 11_09_18_Gel_Experiments/0_6_agarose_vid_3_0_0.tif\n",
      "Done with splitting. Should output file of name 11_09_18_Gel_Experiments/0_6_agarose_vid_3_0_1.tif\n",
      "Done with splitting. Should output file of name 11_09_18_Gel_Experiments/0_6_agarose_vid_3_0_2.tif\n",
      "Done with splitting. Should output file of name 11_09_18_Gel_Experiments/0_6_agarose_vid_3_0_3.tif\n",
      "Done with splitting. Should output file of name 11_09_18_Gel_Experiments/0_6_agarose_vid_3_1_0.tif\n",
      "Done with splitting. Should output file of name 11_09_18_Gel_Experiments/0_6_agarose_vid_3_1_1.tif\n",
      "Done with splitting. Should output file of name 11_09_18_Gel_Experiments/0_6_agarose_vid_3_1_2.tif\n",
      "Done with splitting. Should output file of name 11_09_18_Gel_Experiments/0_6_agarose_vid_3_1_3.tif\n",
      "Done with splitting. Should output file of name 11_09_18_Gel_Experiments/0_6_agarose_vid_3_2_0.tif\n",
      "Done with splitting. Should output file of name 11_09_18_Gel_Experiments/0_6_agarose_vid_3_2_1.tif\n",
      "Done with splitting. Should output file of name 11_09_18_Gel_Experiments/0_6_agarose_vid_3_2_2.tif\n",
      "Done with splitting. Should output file of name 11_09_18_Gel_Experiments/0_6_agarose_vid_3_2_3.tif\n",
      "Done with splitting. Should output file of name 11_09_18_Gel_Experiments/0_6_agarose_vid_3_3_0.tif\n",
      "Done with splitting. Should output file of name 11_09_18_Gel_Experiments/0_6_agarose_vid_3_3_1.tif\n",
      "Done with splitting. Should output file of name 11_09_18_Gel_Experiments/0_6_agarose_vid_3_3_2.tif\n",
      "Done with splitting. Should output file of name 11_09_18_Gel_Experiments/0_6_agarose_vid_3_3_3.tif\n"
     ]
    },
    {
     "name": "stderr",
     "output_type": "stream",
     "text": [
      "/home/ubuntu/miniconda3/lib/python3.6/site-packages/skimage/io/_io.py:132: UserWarning: /home/ubuntu/source/diff-classifier/notebooks/development/0_6_agarose_vid_4_0_0.tif is a low contrast image\n",
      "  warn('%s is a low contrast image' % fname)\n",
      "/home/ubuntu/miniconda3/lib/python3.6/site-packages/skimage/io/_io.py:132: UserWarning: /home/ubuntu/source/diff-classifier/notebooks/development/0_6_agarose_vid_4_0_1.tif is a low contrast image\n",
      "  warn('%s is a low contrast image' % fname)\n",
      "/home/ubuntu/miniconda3/lib/python3.6/site-packages/skimage/io/_io.py:132: UserWarning: /home/ubuntu/source/diff-classifier/notebooks/development/0_6_agarose_vid_4_0_2.tif is a low contrast image\n",
      "  warn('%s is a low contrast image' % fname)\n",
      "/home/ubuntu/miniconda3/lib/python3.6/site-packages/skimage/io/_io.py:132: UserWarning: /home/ubuntu/source/diff-classifier/notebooks/development/0_6_agarose_vid_4_0_3.tif is a low contrast image\n",
      "  warn('%s is a low contrast image' % fname)\n",
      "/home/ubuntu/miniconda3/lib/python3.6/site-packages/skimage/io/_io.py:132: UserWarning: /home/ubuntu/source/diff-classifier/notebooks/development/0_6_agarose_vid_4_1_0.tif is a low contrast image\n",
      "  warn('%s is a low contrast image' % fname)\n",
      "/home/ubuntu/miniconda3/lib/python3.6/site-packages/skimage/io/_io.py:132: UserWarning: /home/ubuntu/source/diff-classifier/notebooks/development/0_6_agarose_vid_4_1_1.tif is a low contrast image\n",
      "  warn('%s is a low contrast image' % fname)\n",
      "/home/ubuntu/miniconda3/lib/python3.6/site-packages/skimage/io/_io.py:132: UserWarning: /home/ubuntu/source/diff-classifier/notebooks/development/0_6_agarose_vid_4_1_2.tif is a low contrast image\n",
      "  warn('%s is a low contrast image' % fname)\n",
      "/home/ubuntu/miniconda3/lib/python3.6/site-packages/skimage/io/_io.py:132: UserWarning: /home/ubuntu/source/diff-classifier/notebooks/development/0_6_agarose_vid_4_1_3.tif is a low contrast image\n",
      "  warn('%s is a low contrast image' % fname)\n",
      "/home/ubuntu/miniconda3/lib/python3.6/site-packages/skimage/io/_io.py:132: UserWarning: /home/ubuntu/source/diff-classifier/notebooks/development/0_6_agarose_vid_4_2_0.tif is a low contrast image\n",
      "  warn('%s is a low contrast image' % fname)\n",
      "/home/ubuntu/miniconda3/lib/python3.6/site-packages/skimage/io/_io.py:132: UserWarning: /home/ubuntu/source/diff-classifier/notebooks/development/0_6_agarose_vid_4_2_1.tif is a low contrast image\n",
      "  warn('%s is a low contrast image' % fname)\n",
      "/home/ubuntu/miniconda3/lib/python3.6/site-packages/skimage/io/_io.py:132: UserWarning: /home/ubuntu/source/diff-classifier/notebooks/development/0_6_agarose_vid_4_2_2.tif is a low contrast image\n",
      "  warn('%s is a low contrast image' % fname)\n",
      "/home/ubuntu/miniconda3/lib/python3.6/site-packages/skimage/io/_io.py:132: UserWarning: /home/ubuntu/source/diff-classifier/notebooks/development/0_6_agarose_vid_4_2_3.tif is a low contrast image\n",
      "  warn('%s is a low contrast image' % fname)\n",
      "/home/ubuntu/miniconda3/lib/python3.6/site-packages/skimage/io/_io.py:132: UserWarning: /home/ubuntu/source/diff-classifier/notebooks/development/0_6_agarose_vid_4_3_0.tif is a low contrast image\n",
      "  warn('%s is a low contrast image' % fname)\n",
      "/home/ubuntu/miniconda3/lib/python3.6/site-packages/skimage/io/_io.py:132: UserWarning: /home/ubuntu/source/diff-classifier/notebooks/development/0_6_agarose_vid_4_3_1.tif is a low contrast image\n",
      "  warn('%s is a low contrast image' % fname)\n",
      "/home/ubuntu/miniconda3/lib/python3.6/site-packages/skimage/io/_io.py:132: UserWarning: /home/ubuntu/source/diff-classifier/notebooks/development/0_6_agarose_vid_4_3_2.tif is a low contrast image\n",
      "  warn('%s is a low contrast image' % fname)\n",
      "/home/ubuntu/miniconda3/lib/python3.6/site-packages/skimage/io/_io.py:132: UserWarning: /home/ubuntu/source/diff-classifier/notebooks/development/0_6_agarose_vid_4_3_3.tif is a low contrast image\n",
      "  warn('%s is a low contrast image' % fname)\n"
     ]
    },
    {
     "name": "stdout",
     "output_type": "stream",
     "text": [
      "Done with splitting. Should output file of name 11_09_18_Gel_Experiments/0_6_agarose_vid_4_0_0.tif\n",
      "Done with splitting. Should output file of name 11_09_18_Gel_Experiments/0_6_agarose_vid_4_0_1.tif\n",
      "Done with splitting. Should output file of name 11_09_18_Gel_Experiments/0_6_agarose_vid_4_0_2.tif\n",
      "Done with splitting. Should output file of name 11_09_18_Gel_Experiments/0_6_agarose_vid_4_0_3.tif\n",
      "Done with splitting. Should output file of name 11_09_18_Gel_Experiments/0_6_agarose_vid_4_1_0.tif\n",
      "Done with splitting. Should output file of name 11_09_18_Gel_Experiments/0_6_agarose_vid_4_1_1.tif\n",
      "Done with splitting. Should output file of name 11_09_18_Gel_Experiments/0_6_agarose_vid_4_1_2.tif\n",
      "Done with splitting. Should output file of name 11_09_18_Gel_Experiments/0_6_agarose_vid_4_1_3.tif\n",
      "Done with splitting. Should output file of name 11_09_18_Gel_Experiments/0_6_agarose_vid_4_2_0.tif\n",
      "Done with splitting. Should output file of name 11_09_18_Gel_Experiments/0_6_agarose_vid_4_2_1.tif\n",
      "Done with splitting. Should output file of name 11_09_18_Gel_Experiments/0_6_agarose_vid_4_2_2.tif\n",
      "Done with splitting. Should output file of name 11_09_18_Gel_Experiments/0_6_agarose_vid_4_2_3.tif\n",
      "Done with splitting. Should output file of name 11_09_18_Gel_Experiments/0_6_agarose_vid_4_3_0.tif\n",
      "Done with splitting. Should output file of name 11_09_18_Gel_Experiments/0_6_agarose_vid_4_3_1.tif\n",
      "Done with splitting. Should output file of name 11_09_18_Gel_Experiments/0_6_agarose_vid_4_3_2.tif\n",
      "Done with splitting. Should output file of name 11_09_18_Gel_Experiments/0_6_agarose_vid_4_3_3.tif\n"
     ]
    },
    {
     "name": "stderr",
     "output_type": "stream",
     "text": [
      "/home/ubuntu/miniconda3/lib/python3.6/site-packages/skimage/io/_io.py:132: UserWarning: /home/ubuntu/source/diff-classifier/notebooks/development/0_6_agarose_vid_5_0_0.tif is a low contrast image\n",
      "  warn('%s is a low contrast image' % fname)\n",
      "/home/ubuntu/miniconda3/lib/python3.6/site-packages/skimage/io/_io.py:132: UserWarning: /home/ubuntu/source/diff-classifier/notebooks/development/0_6_agarose_vid_5_0_1.tif is a low contrast image\n",
      "  warn('%s is a low contrast image' % fname)\n",
      "/home/ubuntu/miniconda3/lib/python3.6/site-packages/skimage/io/_io.py:132: UserWarning: /home/ubuntu/source/diff-classifier/notebooks/development/0_6_agarose_vid_5_0_2.tif is a low contrast image\n",
      "  warn('%s is a low contrast image' % fname)\n",
      "/home/ubuntu/miniconda3/lib/python3.6/site-packages/skimage/io/_io.py:132: UserWarning: /home/ubuntu/source/diff-classifier/notebooks/development/0_6_agarose_vid_5_0_3.tif is a low contrast image\n",
      "  warn('%s is a low contrast image' % fname)\n",
      "/home/ubuntu/miniconda3/lib/python3.6/site-packages/skimage/io/_io.py:132: UserWarning: /home/ubuntu/source/diff-classifier/notebooks/development/0_6_agarose_vid_5_1_0.tif is a low contrast image\n",
      "  warn('%s is a low contrast image' % fname)\n",
      "/home/ubuntu/miniconda3/lib/python3.6/site-packages/skimage/io/_io.py:132: UserWarning: /home/ubuntu/source/diff-classifier/notebooks/development/0_6_agarose_vid_5_1_1.tif is a low contrast image\n",
      "  warn('%s is a low contrast image' % fname)\n",
      "/home/ubuntu/miniconda3/lib/python3.6/site-packages/skimage/io/_io.py:132: UserWarning: /home/ubuntu/source/diff-classifier/notebooks/development/0_6_agarose_vid_5_1_2.tif is a low contrast image\n",
      "  warn('%s is a low contrast image' % fname)\n",
      "/home/ubuntu/miniconda3/lib/python3.6/site-packages/skimage/io/_io.py:132: UserWarning: /home/ubuntu/source/diff-classifier/notebooks/development/0_6_agarose_vid_5_1_3.tif is a low contrast image\n",
      "  warn('%s is a low contrast image' % fname)\n",
      "/home/ubuntu/miniconda3/lib/python3.6/site-packages/skimage/io/_io.py:132: UserWarning: /home/ubuntu/source/diff-classifier/notebooks/development/0_6_agarose_vid_5_2_0.tif is a low contrast image\n",
      "  warn('%s is a low contrast image' % fname)\n",
      "/home/ubuntu/miniconda3/lib/python3.6/site-packages/skimage/io/_io.py:132: UserWarning: /home/ubuntu/source/diff-classifier/notebooks/development/0_6_agarose_vid_5_2_1.tif is a low contrast image\n",
      "  warn('%s is a low contrast image' % fname)\n",
      "/home/ubuntu/miniconda3/lib/python3.6/site-packages/skimage/io/_io.py:132: UserWarning: /home/ubuntu/source/diff-classifier/notebooks/development/0_6_agarose_vid_5_2_2.tif is a low contrast image\n",
      "  warn('%s is a low contrast image' % fname)\n",
      "/home/ubuntu/miniconda3/lib/python3.6/site-packages/skimage/io/_io.py:132: UserWarning: /home/ubuntu/source/diff-classifier/notebooks/development/0_6_agarose_vid_5_2_3.tif is a low contrast image\n",
      "  warn('%s is a low contrast image' % fname)\n",
      "/home/ubuntu/miniconda3/lib/python3.6/site-packages/skimage/io/_io.py:132: UserWarning: /home/ubuntu/source/diff-classifier/notebooks/development/0_6_agarose_vid_5_3_0.tif is a low contrast image\n",
      "  warn('%s is a low contrast image' % fname)\n",
      "/home/ubuntu/miniconda3/lib/python3.6/site-packages/skimage/io/_io.py:132: UserWarning: /home/ubuntu/source/diff-classifier/notebooks/development/0_6_agarose_vid_5_3_1.tif is a low contrast image\n",
      "  warn('%s is a low contrast image' % fname)\n",
      "/home/ubuntu/miniconda3/lib/python3.6/site-packages/skimage/io/_io.py:132: UserWarning: /home/ubuntu/source/diff-classifier/notebooks/development/0_6_agarose_vid_5_3_2.tif is a low contrast image\n",
      "  warn('%s is a low contrast image' % fname)\n",
      "/home/ubuntu/miniconda3/lib/python3.6/site-packages/skimage/io/_io.py:132: UserWarning: /home/ubuntu/source/diff-classifier/notebooks/development/0_6_agarose_vid_5_3_3.tif is a low contrast image\n",
      "  warn('%s is a low contrast image' % fname)\n"
     ]
    },
    {
     "name": "stdout",
     "output_type": "stream",
     "text": [
      "Done with splitting. Should output file of name 11_09_18_Gel_Experiments/0_6_agarose_vid_5_0_0.tif\n",
      "Done with splitting. Should output file of name 11_09_18_Gel_Experiments/0_6_agarose_vid_5_0_1.tif\n",
      "Done with splitting. Should output file of name 11_09_18_Gel_Experiments/0_6_agarose_vid_5_0_2.tif\n",
      "Done with splitting. Should output file of name 11_09_18_Gel_Experiments/0_6_agarose_vid_5_0_3.tif\n",
      "Done with splitting. Should output file of name 11_09_18_Gel_Experiments/0_6_agarose_vid_5_1_0.tif\n",
      "Done with splitting. Should output file of name 11_09_18_Gel_Experiments/0_6_agarose_vid_5_1_1.tif\n",
      "Done with splitting. Should output file of name 11_09_18_Gel_Experiments/0_6_agarose_vid_5_1_2.tif\n",
      "Done with splitting. Should output file of name 11_09_18_Gel_Experiments/0_6_agarose_vid_5_1_3.tif\n",
      "Done with splitting. Should output file of name 11_09_18_Gel_Experiments/0_6_agarose_vid_5_2_0.tif\n",
      "Done with splitting. Should output file of name 11_09_18_Gel_Experiments/0_6_agarose_vid_5_2_1.tif\n",
      "Done with splitting. Should output file of name 11_09_18_Gel_Experiments/0_6_agarose_vid_5_2_2.tif\n",
      "Done with splitting. Should output file of name 11_09_18_Gel_Experiments/0_6_agarose_vid_5_2_3.tif\n",
      "Done with splitting. Should output file of name 11_09_18_Gel_Experiments/0_6_agarose_vid_5_3_0.tif\n",
      "Done with splitting. Should output file of name 11_09_18_Gel_Experiments/0_6_agarose_vid_5_3_1.tif\n",
      "Done with splitting. Should output file of name 11_09_18_Gel_Experiments/0_6_agarose_vid_5_3_2.tif\n",
      "Done with splitting. Should output file of name 11_09_18_Gel_Experiments/0_6_agarose_vid_5_3_3.tif\n"
     ]
    },
    {
     "name": "stderr",
     "output_type": "stream",
     "text": [
      "/home/ubuntu/miniconda3/lib/python3.6/site-packages/skimage/io/_io.py:132: UserWarning: /home/ubuntu/source/diff-classifier/notebooks/development/0_8_agarose_vid_1_0_0.tif is a low contrast image\n",
      "  warn('%s is a low contrast image' % fname)\n",
      "/home/ubuntu/miniconda3/lib/python3.6/site-packages/skimage/io/_io.py:132: UserWarning: /home/ubuntu/source/diff-classifier/notebooks/development/0_8_agarose_vid_1_0_1.tif is a low contrast image\n",
      "  warn('%s is a low contrast image' % fname)\n",
      "/home/ubuntu/miniconda3/lib/python3.6/site-packages/skimage/io/_io.py:132: UserWarning: /home/ubuntu/source/diff-classifier/notebooks/development/0_8_agarose_vid_1_0_2.tif is a low contrast image\n",
      "  warn('%s is a low contrast image' % fname)\n",
      "/home/ubuntu/miniconda3/lib/python3.6/site-packages/skimage/io/_io.py:132: UserWarning: /home/ubuntu/source/diff-classifier/notebooks/development/0_8_agarose_vid_1_0_3.tif is a low contrast image\n",
      "  warn('%s is a low contrast image' % fname)\n",
      "/home/ubuntu/miniconda3/lib/python3.6/site-packages/skimage/io/_io.py:132: UserWarning: /home/ubuntu/source/diff-classifier/notebooks/development/0_8_agarose_vid_1_1_0.tif is a low contrast image\n",
      "  warn('%s is a low contrast image' % fname)\n",
      "/home/ubuntu/miniconda3/lib/python3.6/site-packages/skimage/io/_io.py:132: UserWarning: /home/ubuntu/source/diff-classifier/notebooks/development/0_8_agarose_vid_1_1_1.tif is a low contrast image\n",
      "  warn('%s is a low contrast image' % fname)\n",
      "/home/ubuntu/miniconda3/lib/python3.6/site-packages/skimage/io/_io.py:132: UserWarning: /home/ubuntu/source/diff-classifier/notebooks/development/0_8_agarose_vid_1_1_2.tif is a low contrast image\n",
      "  warn('%s is a low contrast image' % fname)\n",
      "/home/ubuntu/miniconda3/lib/python3.6/site-packages/skimage/io/_io.py:132: UserWarning: /home/ubuntu/source/diff-classifier/notebooks/development/0_8_agarose_vid_1_1_3.tif is a low contrast image\n",
      "  warn('%s is a low contrast image' % fname)\n",
      "/home/ubuntu/miniconda3/lib/python3.6/site-packages/skimage/io/_io.py:132: UserWarning: /home/ubuntu/source/diff-classifier/notebooks/development/0_8_agarose_vid_1_2_0.tif is a low contrast image\n",
      "  warn('%s is a low contrast image' % fname)\n",
      "/home/ubuntu/miniconda3/lib/python3.6/site-packages/skimage/io/_io.py:132: UserWarning: /home/ubuntu/source/diff-classifier/notebooks/development/0_8_agarose_vid_1_2_1.tif is a low contrast image\n",
      "  warn('%s is a low contrast image' % fname)\n",
      "/home/ubuntu/miniconda3/lib/python3.6/site-packages/skimage/io/_io.py:132: UserWarning: /home/ubuntu/source/diff-classifier/notebooks/development/0_8_agarose_vid_1_2_2.tif is a low contrast image\n",
      "  warn('%s is a low contrast image' % fname)\n",
      "/home/ubuntu/miniconda3/lib/python3.6/site-packages/skimage/io/_io.py:132: UserWarning: /home/ubuntu/source/diff-classifier/notebooks/development/0_8_agarose_vid_1_2_3.tif is a low contrast image\n",
      "  warn('%s is a low contrast image' % fname)\n",
      "/home/ubuntu/miniconda3/lib/python3.6/site-packages/skimage/io/_io.py:132: UserWarning: /home/ubuntu/source/diff-classifier/notebooks/development/0_8_agarose_vid_1_3_0.tif is a low contrast image\n",
      "  warn('%s is a low contrast image' % fname)\n",
      "/home/ubuntu/miniconda3/lib/python3.6/site-packages/skimage/io/_io.py:132: UserWarning: /home/ubuntu/source/diff-classifier/notebooks/development/0_8_agarose_vid_1_3_1.tif is a low contrast image\n",
      "  warn('%s is a low contrast image' % fname)\n",
      "/home/ubuntu/miniconda3/lib/python3.6/site-packages/skimage/io/_io.py:132: UserWarning: /home/ubuntu/source/diff-classifier/notebooks/development/0_8_agarose_vid_1_3_2.tif is a low contrast image\n",
      "  warn('%s is a low contrast image' % fname)\n",
      "/home/ubuntu/miniconda3/lib/python3.6/site-packages/skimage/io/_io.py:132: UserWarning: /home/ubuntu/source/diff-classifier/notebooks/development/0_8_agarose_vid_1_3_3.tif is a low contrast image\n",
      "  warn('%s is a low contrast image' % fname)\n"
     ]
    },
    {
     "name": "stdout",
     "output_type": "stream",
     "text": [
      "Done with splitting. Should output file of name 11_09_18_Gel_Experiments/0_8_agarose_vid_1_0_0.tif\n",
      "Done with splitting. Should output file of name 11_09_18_Gel_Experiments/0_8_agarose_vid_1_0_1.tif\n",
      "Done with splitting. Should output file of name 11_09_18_Gel_Experiments/0_8_agarose_vid_1_0_2.tif\n",
      "Done with splitting. Should output file of name 11_09_18_Gel_Experiments/0_8_agarose_vid_1_0_3.tif\n",
      "Done with splitting. Should output file of name 11_09_18_Gel_Experiments/0_8_agarose_vid_1_1_0.tif\n",
      "Done with splitting. Should output file of name 11_09_18_Gel_Experiments/0_8_agarose_vid_1_1_1.tif\n",
      "Done with splitting. Should output file of name 11_09_18_Gel_Experiments/0_8_agarose_vid_1_1_2.tif\n",
      "Done with splitting. Should output file of name 11_09_18_Gel_Experiments/0_8_agarose_vid_1_1_3.tif\n",
      "Done with splitting. Should output file of name 11_09_18_Gel_Experiments/0_8_agarose_vid_1_2_0.tif\n",
      "Done with splitting. Should output file of name 11_09_18_Gel_Experiments/0_8_agarose_vid_1_2_1.tif\n",
      "Done with splitting. Should output file of name 11_09_18_Gel_Experiments/0_8_agarose_vid_1_2_2.tif\n",
      "Done with splitting. Should output file of name 11_09_18_Gel_Experiments/0_8_agarose_vid_1_2_3.tif\n",
      "Done with splitting. Should output file of name 11_09_18_Gel_Experiments/0_8_agarose_vid_1_3_0.tif\n",
      "Done with splitting. Should output file of name 11_09_18_Gel_Experiments/0_8_agarose_vid_1_3_1.tif\n",
      "Done with splitting. Should output file of name 11_09_18_Gel_Experiments/0_8_agarose_vid_1_3_2.tif\n",
      "Done with splitting. Should output file of name 11_09_18_Gel_Experiments/0_8_agarose_vid_1_3_3.tif\n"
     ]
    },
    {
     "name": "stderr",
     "output_type": "stream",
     "text": [
      "/home/ubuntu/miniconda3/lib/python3.6/site-packages/skimage/io/_io.py:132: UserWarning: /home/ubuntu/source/diff-classifier/notebooks/development/0_8_agarose_vid_2_0_0.tif is a low contrast image\n",
      "  warn('%s is a low contrast image' % fname)\n",
      "/home/ubuntu/miniconda3/lib/python3.6/site-packages/skimage/io/_io.py:132: UserWarning: /home/ubuntu/source/diff-classifier/notebooks/development/0_8_agarose_vid_2_0_1.tif is a low contrast image\n",
      "  warn('%s is a low contrast image' % fname)\n",
      "/home/ubuntu/miniconda3/lib/python3.6/site-packages/skimage/io/_io.py:132: UserWarning: /home/ubuntu/source/diff-classifier/notebooks/development/0_8_agarose_vid_2_0_2.tif is a low contrast image\n",
      "  warn('%s is a low contrast image' % fname)\n",
      "/home/ubuntu/miniconda3/lib/python3.6/site-packages/skimage/io/_io.py:132: UserWarning: /home/ubuntu/source/diff-classifier/notebooks/development/0_8_agarose_vid_2_0_3.tif is a low contrast image\n",
      "  warn('%s is a low contrast image' % fname)\n",
      "/home/ubuntu/miniconda3/lib/python3.6/site-packages/skimage/io/_io.py:132: UserWarning: /home/ubuntu/source/diff-classifier/notebooks/development/0_8_agarose_vid_2_1_0.tif is a low contrast image\n",
      "  warn('%s is a low contrast image' % fname)\n",
      "/home/ubuntu/miniconda3/lib/python3.6/site-packages/skimage/io/_io.py:132: UserWarning: /home/ubuntu/source/diff-classifier/notebooks/development/0_8_agarose_vid_2_1_1.tif is a low contrast image\n",
      "  warn('%s is a low contrast image' % fname)\n",
      "/home/ubuntu/miniconda3/lib/python3.6/site-packages/skimage/io/_io.py:132: UserWarning: /home/ubuntu/source/diff-classifier/notebooks/development/0_8_agarose_vid_2_1_2.tif is a low contrast image\n",
      "  warn('%s is a low contrast image' % fname)\n",
      "/home/ubuntu/miniconda3/lib/python3.6/site-packages/skimage/io/_io.py:132: UserWarning: /home/ubuntu/source/diff-classifier/notebooks/development/0_8_agarose_vid_2_1_3.tif is a low contrast image\n",
      "  warn('%s is a low contrast image' % fname)\n",
      "/home/ubuntu/miniconda3/lib/python3.6/site-packages/skimage/io/_io.py:132: UserWarning: /home/ubuntu/source/diff-classifier/notebooks/development/0_8_agarose_vid_2_2_0.tif is a low contrast image\n",
      "  warn('%s is a low contrast image' % fname)\n",
      "/home/ubuntu/miniconda3/lib/python3.6/site-packages/skimage/io/_io.py:132: UserWarning: /home/ubuntu/source/diff-classifier/notebooks/development/0_8_agarose_vid_2_2_1.tif is a low contrast image\n",
      "  warn('%s is a low contrast image' % fname)\n",
      "/home/ubuntu/miniconda3/lib/python3.6/site-packages/skimage/io/_io.py:132: UserWarning: /home/ubuntu/source/diff-classifier/notebooks/development/0_8_agarose_vid_2_2_2.tif is a low contrast image\n",
      "  warn('%s is a low contrast image' % fname)\n",
      "/home/ubuntu/miniconda3/lib/python3.6/site-packages/skimage/io/_io.py:132: UserWarning: /home/ubuntu/source/diff-classifier/notebooks/development/0_8_agarose_vid_2_2_3.tif is a low contrast image\n",
      "  warn('%s is a low contrast image' % fname)\n",
      "/home/ubuntu/miniconda3/lib/python3.6/site-packages/skimage/io/_io.py:132: UserWarning: /home/ubuntu/source/diff-classifier/notebooks/development/0_8_agarose_vid_2_3_0.tif is a low contrast image\n",
      "  warn('%s is a low contrast image' % fname)\n",
      "/home/ubuntu/miniconda3/lib/python3.6/site-packages/skimage/io/_io.py:132: UserWarning: /home/ubuntu/source/diff-classifier/notebooks/development/0_8_agarose_vid_2_3_1.tif is a low contrast image\n",
      "  warn('%s is a low contrast image' % fname)\n",
      "/home/ubuntu/miniconda3/lib/python3.6/site-packages/skimage/io/_io.py:132: UserWarning: /home/ubuntu/source/diff-classifier/notebooks/development/0_8_agarose_vid_2_3_2.tif is a low contrast image\n",
      "  warn('%s is a low contrast image' % fname)\n",
      "/home/ubuntu/miniconda3/lib/python3.6/site-packages/skimage/io/_io.py:132: UserWarning: /home/ubuntu/source/diff-classifier/notebooks/development/0_8_agarose_vid_2_3_3.tif is a low contrast image\n",
      "  warn('%s is a low contrast image' % fname)\n"
     ]
    },
    {
     "name": "stdout",
     "output_type": "stream",
     "text": [
      "Done with splitting. Should output file of name 11_09_18_Gel_Experiments/0_8_agarose_vid_2_0_0.tif\n",
      "Done with splitting. Should output file of name 11_09_18_Gel_Experiments/0_8_agarose_vid_2_0_1.tif\n",
      "Done with splitting. Should output file of name 11_09_18_Gel_Experiments/0_8_agarose_vid_2_0_2.tif\n",
      "Done with splitting. Should output file of name 11_09_18_Gel_Experiments/0_8_agarose_vid_2_0_3.tif\n",
      "Done with splitting. Should output file of name 11_09_18_Gel_Experiments/0_8_agarose_vid_2_1_0.tif\n",
      "Done with splitting. Should output file of name 11_09_18_Gel_Experiments/0_8_agarose_vid_2_1_1.tif\n",
      "Done with splitting. Should output file of name 11_09_18_Gel_Experiments/0_8_agarose_vid_2_1_2.tif\n",
      "Done with splitting. Should output file of name 11_09_18_Gel_Experiments/0_8_agarose_vid_2_1_3.tif\n",
      "Done with splitting. Should output file of name 11_09_18_Gel_Experiments/0_8_agarose_vid_2_2_0.tif\n",
      "Done with splitting. Should output file of name 11_09_18_Gel_Experiments/0_8_agarose_vid_2_2_1.tif\n",
      "Done with splitting. Should output file of name 11_09_18_Gel_Experiments/0_8_agarose_vid_2_2_2.tif\n",
      "Done with splitting. Should output file of name 11_09_18_Gel_Experiments/0_8_agarose_vid_2_2_3.tif\n",
      "Done with splitting. Should output file of name 11_09_18_Gel_Experiments/0_8_agarose_vid_2_3_0.tif\n",
      "Done with splitting. Should output file of name 11_09_18_Gel_Experiments/0_8_agarose_vid_2_3_1.tif\n",
      "Done with splitting. Should output file of name 11_09_18_Gel_Experiments/0_8_agarose_vid_2_3_2.tif\n",
      "Done with splitting. Should output file of name 11_09_18_Gel_Experiments/0_8_agarose_vid_2_3_3.tif\n"
     ]
    },
    {
     "name": "stderr",
     "output_type": "stream",
     "text": [
      "/home/ubuntu/miniconda3/lib/python3.6/site-packages/skimage/io/_io.py:132: UserWarning: /home/ubuntu/source/diff-classifier/notebooks/development/0_8_agarose_vid_3_0_0.tif is a low contrast image\n",
      "  warn('%s is a low contrast image' % fname)\n",
      "/home/ubuntu/miniconda3/lib/python3.6/site-packages/skimage/io/_io.py:132: UserWarning: /home/ubuntu/source/diff-classifier/notebooks/development/0_8_agarose_vid_3_0_1.tif is a low contrast image\n",
      "  warn('%s is a low contrast image' % fname)\n",
      "/home/ubuntu/miniconda3/lib/python3.6/site-packages/skimage/io/_io.py:132: UserWarning: /home/ubuntu/source/diff-classifier/notebooks/development/0_8_agarose_vid_3_0_2.tif is a low contrast image\n",
      "  warn('%s is a low contrast image' % fname)\n",
      "/home/ubuntu/miniconda3/lib/python3.6/site-packages/skimage/io/_io.py:132: UserWarning: /home/ubuntu/source/diff-classifier/notebooks/development/0_8_agarose_vid_3_0_3.tif is a low contrast image\n",
      "  warn('%s is a low contrast image' % fname)\n",
      "/home/ubuntu/miniconda3/lib/python3.6/site-packages/skimage/io/_io.py:132: UserWarning: /home/ubuntu/source/diff-classifier/notebooks/development/0_8_agarose_vid_3_1_0.tif is a low contrast image\n",
      "  warn('%s is a low contrast image' % fname)\n",
      "/home/ubuntu/miniconda3/lib/python3.6/site-packages/skimage/io/_io.py:132: UserWarning: /home/ubuntu/source/diff-classifier/notebooks/development/0_8_agarose_vid_3_1_1.tif is a low contrast image\n",
      "  warn('%s is a low contrast image' % fname)\n",
      "/home/ubuntu/miniconda3/lib/python3.6/site-packages/skimage/io/_io.py:132: UserWarning: /home/ubuntu/source/diff-classifier/notebooks/development/0_8_agarose_vid_3_1_2.tif is a low contrast image\n",
      "  warn('%s is a low contrast image' % fname)\n",
      "/home/ubuntu/miniconda3/lib/python3.6/site-packages/skimage/io/_io.py:132: UserWarning: /home/ubuntu/source/diff-classifier/notebooks/development/0_8_agarose_vid_3_1_3.tif is a low contrast image\n",
      "  warn('%s is a low contrast image' % fname)\n",
      "/home/ubuntu/miniconda3/lib/python3.6/site-packages/skimage/io/_io.py:132: UserWarning: /home/ubuntu/source/diff-classifier/notebooks/development/0_8_agarose_vid_3_2_0.tif is a low contrast image\n",
      "  warn('%s is a low contrast image' % fname)\n",
      "/home/ubuntu/miniconda3/lib/python3.6/site-packages/skimage/io/_io.py:132: UserWarning: /home/ubuntu/source/diff-classifier/notebooks/development/0_8_agarose_vid_3_2_1.tif is a low contrast image\n",
      "  warn('%s is a low contrast image' % fname)\n",
      "/home/ubuntu/miniconda3/lib/python3.6/site-packages/skimage/io/_io.py:132: UserWarning: /home/ubuntu/source/diff-classifier/notebooks/development/0_8_agarose_vid_3_2_2.tif is a low contrast image\n",
      "  warn('%s is a low contrast image' % fname)\n",
      "/home/ubuntu/miniconda3/lib/python3.6/site-packages/skimage/io/_io.py:132: UserWarning: /home/ubuntu/source/diff-classifier/notebooks/development/0_8_agarose_vid_3_2_3.tif is a low contrast image\n",
      "  warn('%s is a low contrast image' % fname)\n",
      "/home/ubuntu/miniconda3/lib/python3.6/site-packages/skimage/io/_io.py:132: UserWarning: /home/ubuntu/source/diff-classifier/notebooks/development/0_8_agarose_vid_3_3_0.tif is a low contrast image\n",
      "  warn('%s is a low contrast image' % fname)\n",
      "/home/ubuntu/miniconda3/lib/python3.6/site-packages/skimage/io/_io.py:132: UserWarning: /home/ubuntu/source/diff-classifier/notebooks/development/0_8_agarose_vid_3_3_1.tif is a low contrast image\n",
      "  warn('%s is a low contrast image' % fname)\n",
      "/home/ubuntu/miniconda3/lib/python3.6/site-packages/skimage/io/_io.py:132: UserWarning: /home/ubuntu/source/diff-classifier/notebooks/development/0_8_agarose_vid_3_3_2.tif is a low contrast image\n",
      "  warn('%s is a low contrast image' % fname)\n",
      "/home/ubuntu/miniconda3/lib/python3.6/site-packages/skimage/io/_io.py:132: UserWarning: /home/ubuntu/source/diff-classifier/notebooks/development/0_8_agarose_vid_3_3_3.tif is a low contrast image\n",
      "  warn('%s is a low contrast image' % fname)\n"
     ]
    },
    {
     "name": "stdout",
     "output_type": "stream",
     "text": [
      "Done with splitting. Should output file of name 11_09_18_Gel_Experiments/0_8_agarose_vid_3_0_0.tif\n",
      "Done with splitting. Should output file of name 11_09_18_Gel_Experiments/0_8_agarose_vid_3_0_1.tif\n",
      "Done with splitting. Should output file of name 11_09_18_Gel_Experiments/0_8_agarose_vid_3_0_2.tif\n",
      "Done with splitting. Should output file of name 11_09_18_Gel_Experiments/0_8_agarose_vid_3_0_3.tif\n",
      "Done with splitting. Should output file of name 11_09_18_Gel_Experiments/0_8_agarose_vid_3_1_0.tif\n",
      "Done with splitting. Should output file of name 11_09_18_Gel_Experiments/0_8_agarose_vid_3_1_1.tif\n",
      "Done with splitting. Should output file of name 11_09_18_Gel_Experiments/0_8_agarose_vid_3_1_2.tif\n",
      "Done with splitting. Should output file of name 11_09_18_Gel_Experiments/0_8_agarose_vid_3_1_3.tif\n",
      "Done with splitting. Should output file of name 11_09_18_Gel_Experiments/0_8_agarose_vid_3_2_0.tif\n",
      "Done with splitting. Should output file of name 11_09_18_Gel_Experiments/0_8_agarose_vid_3_2_1.tif\n",
      "Done with splitting. Should output file of name 11_09_18_Gel_Experiments/0_8_agarose_vid_3_2_2.tif\n",
      "Done with splitting. Should output file of name 11_09_18_Gel_Experiments/0_8_agarose_vid_3_2_3.tif\n",
      "Done with splitting. Should output file of name 11_09_18_Gel_Experiments/0_8_agarose_vid_3_3_0.tif\n",
      "Done with splitting. Should output file of name 11_09_18_Gel_Experiments/0_8_agarose_vid_3_3_1.tif\n",
      "Done with splitting. Should output file of name 11_09_18_Gel_Experiments/0_8_agarose_vid_3_3_2.tif\n",
      "Done with splitting. Should output file of name 11_09_18_Gel_Experiments/0_8_agarose_vid_3_3_3.tif\n"
     ]
    },
    {
     "name": "stderr",
     "output_type": "stream",
     "text": [
      "/home/ubuntu/miniconda3/lib/python3.6/site-packages/skimage/io/_io.py:132: UserWarning: /home/ubuntu/source/diff-classifier/notebooks/development/0_8_agarose_vid_4_0_0.tif is a low contrast image\n",
      "  warn('%s is a low contrast image' % fname)\n",
      "/home/ubuntu/miniconda3/lib/python3.6/site-packages/skimage/io/_io.py:132: UserWarning: /home/ubuntu/source/diff-classifier/notebooks/development/0_8_agarose_vid_4_0_1.tif is a low contrast image\n",
      "  warn('%s is a low contrast image' % fname)\n",
      "/home/ubuntu/miniconda3/lib/python3.6/site-packages/skimage/io/_io.py:132: UserWarning: /home/ubuntu/source/diff-classifier/notebooks/development/0_8_agarose_vid_4_0_2.tif is a low contrast image\n",
      "  warn('%s is a low contrast image' % fname)\n",
      "/home/ubuntu/miniconda3/lib/python3.6/site-packages/skimage/io/_io.py:132: UserWarning: /home/ubuntu/source/diff-classifier/notebooks/development/0_8_agarose_vid_4_0_3.tif is a low contrast image\n",
      "  warn('%s is a low contrast image' % fname)\n",
      "/home/ubuntu/miniconda3/lib/python3.6/site-packages/skimage/io/_io.py:132: UserWarning: /home/ubuntu/source/diff-classifier/notebooks/development/0_8_agarose_vid_4_1_0.tif is a low contrast image\n",
      "  warn('%s is a low contrast image' % fname)\n",
      "/home/ubuntu/miniconda3/lib/python3.6/site-packages/skimage/io/_io.py:132: UserWarning: /home/ubuntu/source/diff-classifier/notebooks/development/0_8_agarose_vid_4_1_1.tif is a low contrast image\n",
      "  warn('%s is a low contrast image' % fname)\n",
      "/home/ubuntu/miniconda3/lib/python3.6/site-packages/skimage/io/_io.py:132: UserWarning: /home/ubuntu/source/diff-classifier/notebooks/development/0_8_agarose_vid_4_1_2.tif is a low contrast image\n",
      "  warn('%s is a low contrast image' % fname)\n",
      "/home/ubuntu/miniconda3/lib/python3.6/site-packages/skimage/io/_io.py:132: UserWarning: /home/ubuntu/source/diff-classifier/notebooks/development/0_8_agarose_vid_4_1_3.tif is a low contrast image\n",
      "  warn('%s is a low contrast image' % fname)\n",
      "/home/ubuntu/miniconda3/lib/python3.6/site-packages/skimage/io/_io.py:132: UserWarning: /home/ubuntu/source/diff-classifier/notebooks/development/0_8_agarose_vid_4_2_0.tif is a low contrast image\n",
      "  warn('%s is a low contrast image' % fname)\n",
      "/home/ubuntu/miniconda3/lib/python3.6/site-packages/skimage/io/_io.py:132: UserWarning: /home/ubuntu/source/diff-classifier/notebooks/development/0_8_agarose_vid_4_2_1.tif is a low contrast image\n",
      "  warn('%s is a low contrast image' % fname)\n",
      "/home/ubuntu/miniconda3/lib/python3.6/site-packages/skimage/io/_io.py:132: UserWarning: /home/ubuntu/source/diff-classifier/notebooks/development/0_8_agarose_vid_4_2_2.tif is a low contrast image\n",
      "  warn('%s is a low contrast image' % fname)\n",
      "/home/ubuntu/miniconda3/lib/python3.6/site-packages/skimage/io/_io.py:132: UserWarning: /home/ubuntu/source/diff-classifier/notebooks/development/0_8_agarose_vid_4_2_3.tif is a low contrast image\n",
      "  warn('%s is a low contrast image' % fname)\n",
      "/home/ubuntu/miniconda3/lib/python3.6/site-packages/skimage/io/_io.py:132: UserWarning: /home/ubuntu/source/diff-classifier/notebooks/development/0_8_agarose_vid_4_3_0.tif is a low contrast image\n",
      "  warn('%s is a low contrast image' % fname)\n",
      "/home/ubuntu/miniconda3/lib/python3.6/site-packages/skimage/io/_io.py:132: UserWarning: /home/ubuntu/source/diff-classifier/notebooks/development/0_8_agarose_vid_4_3_1.tif is a low contrast image\n",
      "  warn('%s is a low contrast image' % fname)\n",
      "/home/ubuntu/miniconda3/lib/python3.6/site-packages/skimage/io/_io.py:132: UserWarning: /home/ubuntu/source/diff-classifier/notebooks/development/0_8_agarose_vid_4_3_2.tif is a low contrast image\n",
      "  warn('%s is a low contrast image' % fname)\n",
      "/home/ubuntu/miniconda3/lib/python3.6/site-packages/skimage/io/_io.py:132: UserWarning: /home/ubuntu/source/diff-classifier/notebooks/development/0_8_agarose_vid_4_3_3.tif is a low contrast image\n",
      "  warn('%s is a low contrast image' % fname)\n"
     ]
    },
    {
     "name": "stdout",
     "output_type": "stream",
     "text": [
      "Done with splitting. Should output file of name 11_09_18_Gel_Experiments/0_8_agarose_vid_4_0_0.tif\n",
      "Done with splitting. Should output file of name 11_09_18_Gel_Experiments/0_8_agarose_vid_4_0_1.tif\n",
      "Done with splitting. Should output file of name 11_09_18_Gel_Experiments/0_8_agarose_vid_4_0_2.tif\n",
      "Done with splitting. Should output file of name 11_09_18_Gel_Experiments/0_8_agarose_vid_4_0_3.tif\n",
      "Done with splitting. Should output file of name 11_09_18_Gel_Experiments/0_8_agarose_vid_4_1_0.tif\n",
      "Done with splitting. Should output file of name 11_09_18_Gel_Experiments/0_8_agarose_vid_4_1_1.tif\n",
      "Done with splitting. Should output file of name 11_09_18_Gel_Experiments/0_8_agarose_vid_4_1_2.tif\n",
      "Done with splitting. Should output file of name 11_09_18_Gel_Experiments/0_8_agarose_vid_4_1_3.tif\n",
      "Done with splitting. Should output file of name 11_09_18_Gel_Experiments/0_8_agarose_vid_4_2_0.tif\n",
      "Done with splitting. Should output file of name 11_09_18_Gel_Experiments/0_8_agarose_vid_4_2_1.tif\n",
      "Done with splitting. Should output file of name 11_09_18_Gel_Experiments/0_8_agarose_vid_4_2_2.tif\n",
      "Done with splitting. Should output file of name 11_09_18_Gel_Experiments/0_8_agarose_vid_4_2_3.tif\n",
      "Done with splitting. Should output file of name 11_09_18_Gel_Experiments/0_8_agarose_vid_4_3_0.tif\n",
      "Done with splitting. Should output file of name 11_09_18_Gel_Experiments/0_8_agarose_vid_4_3_1.tif\n",
      "Done with splitting. Should output file of name 11_09_18_Gel_Experiments/0_8_agarose_vid_4_3_2.tif\n",
      "Done with splitting. Should output file of name 11_09_18_Gel_Experiments/0_8_agarose_vid_4_3_3.tif\n"
     ]
    },
    {
     "name": "stderr",
     "output_type": "stream",
     "text": [
      "/home/ubuntu/miniconda3/lib/python3.6/site-packages/skimage/io/_io.py:132: UserWarning: /home/ubuntu/source/diff-classifier/notebooks/development/0_8_agarose_vid_5_0_0.tif is a low contrast image\n",
      "  warn('%s is a low contrast image' % fname)\n",
      "/home/ubuntu/miniconda3/lib/python3.6/site-packages/skimage/io/_io.py:132: UserWarning: /home/ubuntu/source/diff-classifier/notebooks/development/0_8_agarose_vid_5_0_1.tif is a low contrast image\n",
      "  warn('%s is a low contrast image' % fname)\n",
      "/home/ubuntu/miniconda3/lib/python3.6/site-packages/skimage/io/_io.py:132: UserWarning: /home/ubuntu/source/diff-classifier/notebooks/development/0_8_agarose_vid_5_0_2.tif is a low contrast image\n",
      "  warn('%s is a low contrast image' % fname)\n",
      "/home/ubuntu/miniconda3/lib/python3.6/site-packages/skimage/io/_io.py:132: UserWarning: /home/ubuntu/source/diff-classifier/notebooks/development/0_8_agarose_vid_5_0_3.tif is a low contrast image\n",
      "  warn('%s is a low contrast image' % fname)\n",
      "/home/ubuntu/miniconda3/lib/python3.6/site-packages/skimage/io/_io.py:132: UserWarning: /home/ubuntu/source/diff-classifier/notebooks/development/0_8_agarose_vid_5_1_0.tif is a low contrast image\n",
      "  warn('%s is a low contrast image' % fname)\n",
      "/home/ubuntu/miniconda3/lib/python3.6/site-packages/skimage/io/_io.py:132: UserWarning: /home/ubuntu/source/diff-classifier/notebooks/development/0_8_agarose_vid_5_1_1.tif is a low contrast image\n",
      "  warn('%s is a low contrast image' % fname)\n",
      "/home/ubuntu/miniconda3/lib/python3.6/site-packages/skimage/io/_io.py:132: UserWarning: /home/ubuntu/source/diff-classifier/notebooks/development/0_8_agarose_vid_5_1_2.tif is a low contrast image\n",
      "  warn('%s is a low contrast image' % fname)\n",
      "/home/ubuntu/miniconda3/lib/python3.6/site-packages/skimage/io/_io.py:132: UserWarning: /home/ubuntu/source/diff-classifier/notebooks/development/0_8_agarose_vid_5_1_3.tif is a low contrast image\n",
      "  warn('%s is a low contrast image' % fname)\n",
      "/home/ubuntu/miniconda3/lib/python3.6/site-packages/skimage/io/_io.py:132: UserWarning: /home/ubuntu/source/diff-classifier/notebooks/development/0_8_agarose_vid_5_2_0.tif is a low contrast image\n",
      "  warn('%s is a low contrast image' % fname)\n",
      "/home/ubuntu/miniconda3/lib/python3.6/site-packages/skimage/io/_io.py:132: UserWarning: /home/ubuntu/source/diff-classifier/notebooks/development/0_8_agarose_vid_5_2_1.tif is a low contrast image\n",
      "  warn('%s is a low contrast image' % fname)\n",
      "/home/ubuntu/miniconda3/lib/python3.6/site-packages/skimage/io/_io.py:132: UserWarning: /home/ubuntu/source/diff-classifier/notebooks/development/0_8_agarose_vid_5_2_2.tif is a low contrast image\n",
      "  warn('%s is a low contrast image' % fname)\n",
      "/home/ubuntu/miniconda3/lib/python3.6/site-packages/skimage/io/_io.py:132: UserWarning: /home/ubuntu/source/diff-classifier/notebooks/development/0_8_agarose_vid_5_2_3.tif is a low contrast image\n",
      "  warn('%s is a low contrast image' % fname)\n",
      "/home/ubuntu/miniconda3/lib/python3.6/site-packages/skimage/io/_io.py:132: UserWarning: /home/ubuntu/source/diff-classifier/notebooks/development/0_8_agarose_vid_5_3_0.tif is a low contrast image\n",
      "  warn('%s is a low contrast image' % fname)\n",
      "/home/ubuntu/miniconda3/lib/python3.6/site-packages/skimage/io/_io.py:132: UserWarning: /home/ubuntu/source/diff-classifier/notebooks/development/0_8_agarose_vid_5_3_1.tif is a low contrast image\n",
      "  warn('%s is a low contrast image' % fname)\n",
      "/home/ubuntu/miniconda3/lib/python3.6/site-packages/skimage/io/_io.py:132: UserWarning: /home/ubuntu/source/diff-classifier/notebooks/development/0_8_agarose_vid_5_3_2.tif is a low contrast image\n",
      "  warn('%s is a low contrast image' % fname)\n",
      "/home/ubuntu/miniconda3/lib/python3.6/site-packages/skimage/io/_io.py:132: UserWarning: /home/ubuntu/source/diff-classifier/notebooks/development/0_8_agarose_vid_5_3_3.tif is a low contrast image\n",
      "  warn('%s is a low contrast image' % fname)\n"
     ]
    },
    {
     "name": "stdout",
     "output_type": "stream",
     "text": [
      "Done with splitting. Should output file of name 11_09_18_Gel_Experiments/0_8_agarose_vid_5_0_0.tif\n",
      "Done with splitting. Should output file of name 11_09_18_Gel_Experiments/0_8_agarose_vid_5_0_1.tif\n",
      "Done with splitting. Should output file of name 11_09_18_Gel_Experiments/0_8_agarose_vid_5_0_2.tif\n",
      "Done with splitting. Should output file of name 11_09_18_Gel_Experiments/0_8_agarose_vid_5_0_3.tif\n",
      "Done with splitting. Should output file of name 11_09_18_Gel_Experiments/0_8_agarose_vid_5_1_0.tif\n",
      "Done with splitting. Should output file of name 11_09_18_Gel_Experiments/0_8_agarose_vid_5_1_1.tif\n",
      "Done with splitting. Should output file of name 11_09_18_Gel_Experiments/0_8_agarose_vid_5_1_2.tif\n",
      "Done with splitting. Should output file of name 11_09_18_Gel_Experiments/0_8_agarose_vid_5_1_3.tif\n",
      "Done with splitting. Should output file of name 11_09_18_Gel_Experiments/0_8_agarose_vid_5_2_0.tif\n",
      "Done with splitting. Should output file of name 11_09_18_Gel_Experiments/0_8_agarose_vid_5_2_1.tif\n",
      "Done with splitting. Should output file of name 11_09_18_Gel_Experiments/0_8_agarose_vid_5_2_2.tif\n",
      "Done with splitting. Should output file of name 11_09_18_Gel_Experiments/0_8_agarose_vid_5_2_3.tif\n",
      "Done with splitting. Should output file of name 11_09_18_Gel_Experiments/0_8_agarose_vid_5_3_0.tif\n",
      "Done with splitting. Should output file of name 11_09_18_Gel_Experiments/0_8_agarose_vid_5_3_1.tif\n",
      "Done with splitting. Should output file of name 11_09_18_Gel_Experiments/0_8_agarose_vid_5_3_2.tif\n",
      "Done with splitting. Should output file of name 11_09_18_Gel_Experiments/0_8_agarose_vid_5_3_3.tif\n"
     ]
    },
    {
     "ename": "ClientError",
     "evalue": "An error occurred (404) when calling the HeadObject operation: Not Found",
     "output_type": "error",
     "traceback": [
      "\u001b[0;31m---------------------------------------------------------------------------\u001b[0m",
      "\u001b[0;31mClientError\u001b[0m                               Traceback (most recent call last)",
      "\u001b[0;32m<ipython-input-11-43d187b8c611>\u001b[0m in \u001b[0;36m<module>\u001b[0;34m()\u001b[0m\n\u001b[1;32m      1\u001b[0m \u001b[0;32mfor\u001b[0m \u001b[0mprefix\u001b[0m \u001b[0;32min\u001b[0m \u001b[0mto_track\u001b[0m\u001b[0;34m:\u001b[0m\u001b[0;34m\u001b[0m\u001b[0m\n\u001b[0;32m----> 2\u001b[0;31m     \u001b[0mkn\u001b[0m\u001b[0;34m.\u001b[0m\u001b[0msplit\u001b[0m\u001b[0;34m(\u001b[0m\u001b[0mprefix\u001b[0m\u001b[0;34m,\u001b[0m \u001b[0mremote_folder\u001b[0m\u001b[0;34m=\u001b[0m\u001b[0mremote_folder\u001b[0m\u001b[0;34m,\u001b[0m \u001b[0mbucket\u001b[0m\u001b[0;34m=\u001b[0m\u001b[0mbucket\u001b[0m\u001b[0;34m)\u001b[0m\u001b[0;34m\u001b[0m\u001b[0m\n\u001b[0m",
      "\u001b[0;32m~/source/diff-classifier/diff_classifier/knotlets.py\u001b[0m in \u001b[0;36msplit\u001b[0;34m(prefix, remote_folder, bucket, rows, cols, ores, ires)\u001b[0m\n\u001b[1;32m     44\u001b[0m     \u001b[0mmsd_file\u001b[0m \u001b[0;34m=\u001b[0m \u001b[0;34m'msd_{}.csv'\u001b[0m\u001b[0;34m.\u001b[0m\u001b[0mformat\u001b[0m\u001b[0;34m(\u001b[0m\u001b[0mprefix\u001b[0m\u001b[0;34m)\u001b[0m\u001b[0;34m\u001b[0m\u001b[0m\n\u001b[1;32m     45\u001b[0m     \u001b[0mft_file\u001b[0m \u001b[0;34m=\u001b[0m \u001b[0;34m'features_{}.csv'\u001b[0m\u001b[0;34m.\u001b[0m\u001b[0mformat\u001b[0m\u001b[0;34m(\u001b[0m\u001b[0mprefix\u001b[0m\u001b[0;34m)\u001b[0m\u001b[0;34m\u001b[0m\u001b[0m\n\u001b[0;32m---> 46\u001b[0;31m     \u001b[0maws\u001b[0m\u001b[0;34m.\u001b[0m\u001b[0mdownload_s3\u001b[0m\u001b[0;34m(\u001b[0m\u001b[0mremote_name\u001b[0m\u001b[0;34m,\u001b[0m \u001b[0mlocal_name\u001b[0m\u001b[0;34m,\u001b[0m \u001b[0mbucket_name\u001b[0m\u001b[0;34m=\u001b[0m\u001b[0mbucket\u001b[0m\u001b[0;34m)\u001b[0m\u001b[0;34m\u001b[0m\u001b[0m\n\u001b[0m\u001b[1;32m     47\u001b[0m \u001b[0;34m\u001b[0m\u001b[0m\n\u001b[1;32m     48\u001b[0m     \u001b[0ms3\u001b[0m \u001b[0;34m=\u001b[0m \u001b[0mboto3\u001b[0m\u001b[0;34m.\u001b[0m\u001b[0mclient\u001b[0m\u001b[0;34m(\u001b[0m\u001b[0;34m's3'\u001b[0m\u001b[0;34m)\u001b[0m\u001b[0;34m\u001b[0m\u001b[0m\n",
      "\u001b[0;32m~/source/diff-classifier/diff_classifier/aws.py\u001b[0m in \u001b[0;36mdownload_s3\u001b[0;34m(remote_fname, local_fname, bucket_name)\u001b[0m\n\u001b[1;32m     33\u001b[0m         \u001b[0msthree\u001b[0m \u001b[0;34m=\u001b[0m \u001b[0mboto3\u001b[0m\u001b[0;34m.\u001b[0m\u001b[0mresource\u001b[0m\u001b[0;34m(\u001b[0m\u001b[0;34m's3'\u001b[0m\u001b[0;34m)\u001b[0m\u001b[0;34m\u001b[0m\u001b[0m\n\u001b[1;32m     34\u001b[0m         \u001b[0mbuckt\u001b[0m \u001b[0;34m=\u001b[0m \u001b[0msthree\u001b[0m\u001b[0;34m.\u001b[0m\u001b[0mBucket\u001b[0m\u001b[0;34m(\u001b[0m\u001b[0mbucket_name\u001b[0m\u001b[0;34m)\u001b[0m\u001b[0;34m\u001b[0m\u001b[0m\n\u001b[0;32m---> 35\u001b[0;31m         \u001b[0mbuckt\u001b[0m\u001b[0;34m.\u001b[0m\u001b[0mdownload_file\u001b[0m\u001b[0;34m(\u001b[0m\u001b[0mremote_fname\u001b[0m\u001b[0;34m,\u001b[0m \u001b[0mlocal_fname\u001b[0m\u001b[0;34m)\u001b[0m\u001b[0;34m\u001b[0m\u001b[0m\n\u001b[0m\u001b[1;32m     36\u001b[0m \u001b[0;34m\u001b[0m\u001b[0m\n\u001b[1;32m     37\u001b[0m \u001b[0;34m\u001b[0m\u001b[0m\n",
      "\u001b[0;32m~/miniconda3/lib/python3.6/site-packages/boto3/s3/inject.py\u001b[0m in \u001b[0;36mbucket_download_file\u001b[0;34m(self, Key, Filename, ExtraArgs, Callback, Config)\u001b[0m\n\u001b[1;32m    166\u001b[0m     return self.meta.client.download_file(\n\u001b[1;32m    167\u001b[0m         \u001b[0mBucket\u001b[0m\u001b[0;34m=\u001b[0m\u001b[0mself\u001b[0m\u001b[0;34m.\u001b[0m\u001b[0mname\u001b[0m\u001b[0;34m,\u001b[0m \u001b[0mKey\u001b[0m\u001b[0;34m=\u001b[0m\u001b[0mKey\u001b[0m\u001b[0;34m,\u001b[0m \u001b[0mFilename\u001b[0m\u001b[0;34m=\u001b[0m\u001b[0mFilename\u001b[0m\u001b[0;34m,\u001b[0m\u001b[0;34m\u001b[0m\u001b[0m\n\u001b[0;32m--> 168\u001b[0;31m         ExtraArgs=ExtraArgs, Callback=Callback, Config=Config)\n\u001b[0m\u001b[1;32m    169\u001b[0m \u001b[0;34m\u001b[0m\u001b[0m\n\u001b[1;32m    170\u001b[0m \u001b[0;34m\u001b[0m\u001b[0m\n",
      "\u001b[0;32m~/miniconda3/lib/python3.6/site-packages/boto3/s3/inject.py\u001b[0m in \u001b[0;36mdownload_file\u001b[0;34m(self, Bucket, Key, Filename, ExtraArgs, Callback, Config)\u001b[0m\n\u001b[1;32m    128\u001b[0m         return transfer.download_file(\n\u001b[1;32m    129\u001b[0m             \u001b[0mbucket\u001b[0m\u001b[0;34m=\u001b[0m\u001b[0mBucket\u001b[0m\u001b[0;34m,\u001b[0m \u001b[0mkey\u001b[0m\u001b[0;34m=\u001b[0m\u001b[0mKey\u001b[0m\u001b[0;34m,\u001b[0m \u001b[0mfilename\u001b[0m\u001b[0;34m=\u001b[0m\u001b[0mFilename\u001b[0m\u001b[0;34m,\u001b[0m\u001b[0;34m\u001b[0m\u001b[0m\n\u001b[0;32m--> 130\u001b[0;31m             extra_args=ExtraArgs, callback=Callback)\n\u001b[0m\u001b[1;32m    131\u001b[0m \u001b[0;34m\u001b[0m\u001b[0m\n\u001b[1;32m    132\u001b[0m \u001b[0;34m\u001b[0m\u001b[0m\n",
      "\u001b[0;32m~/miniconda3/lib/python3.6/site-packages/boto3/s3/transfer.py\u001b[0m in \u001b[0;36mdownload_file\u001b[0;34m(self, bucket, key, filename, extra_args, callback)\u001b[0m\n\u001b[1;32m    305\u001b[0m             bucket, key, filename, extra_args, subscribers)\n\u001b[1;32m    306\u001b[0m         \u001b[0;32mtry\u001b[0m\u001b[0;34m:\u001b[0m\u001b[0;34m\u001b[0m\u001b[0m\n\u001b[0;32m--> 307\u001b[0;31m             \u001b[0mfuture\u001b[0m\u001b[0;34m.\u001b[0m\u001b[0mresult\u001b[0m\u001b[0;34m(\u001b[0m\u001b[0;34m)\u001b[0m\u001b[0;34m\u001b[0m\u001b[0m\n\u001b[0m\u001b[1;32m    308\u001b[0m         \u001b[0;31m# This is for backwards compatibility where when retries are\u001b[0m\u001b[0;34m\u001b[0m\u001b[0;34m\u001b[0m\u001b[0m\n\u001b[1;32m    309\u001b[0m         \u001b[0;31m# exceeded we need to throw the same error from boto3 instead of\u001b[0m\u001b[0;34m\u001b[0m\u001b[0;34m\u001b[0m\u001b[0m\n",
      "\u001b[0;32m~/miniconda3/lib/python3.6/site-packages/s3transfer/futures.py\u001b[0m in \u001b[0;36mresult\u001b[0;34m(self)\u001b[0m\n\u001b[1;32m     71\u001b[0m             \u001b[0;31m# however if a KeyboardInterrupt is raised we want want to exit\u001b[0m\u001b[0;34m\u001b[0m\u001b[0;34m\u001b[0m\u001b[0m\n\u001b[1;32m     72\u001b[0m             \u001b[0;31m# out of this and propogate the exception.\u001b[0m\u001b[0;34m\u001b[0m\u001b[0;34m\u001b[0m\u001b[0m\n\u001b[0;32m---> 73\u001b[0;31m             \u001b[0;32mreturn\u001b[0m \u001b[0mself\u001b[0m\u001b[0;34m.\u001b[0m\u001b[0m_coordinator\u001b[0m\u001b[0;34m.\u001b[0m\u001b[0mresult\u001b[0m\u001b[0;34m(\u001b[0m\u001b[0;34m)\u001b[0m\u001b[0;34m\u001b[0m\u001b[0m\n\u001b[0m\u001b[1;32m     74\u001b[0m         \u001b[0;32mexcept\u001b[0m \u001b[0mKeyboardInterrupt\u001b[0m \u001b[0;32mas\u001b[0m \u001b[0me\u001b[0m\u001b[0;34m:\u001b[0m\u001b[0;34m\u001b[0m\u001b[0m\n\u001b[1;32m     75\u001b[0m             \u001b[0mself\u001b[0m\u001b[0;34m.\u001b[0m\u001b[0mcancel\u001b[0m\u001b[0;34m(\u001b[0m\u001b[0;34m)\u001b[0m\u001b[0;34m\u001b[0m\u001b[0m\n",
      "\u001b[0;32m~/miniconda3/lib/python3.6/site-packages/s3transfer/futures.py\u001b[0m in \u001b[0;36mresult\u001b[0;34m(self)\u001b[0m\n\u001b[1;32m    231\u001b[0m         \u001b[0;31m# final result.\u001b[0m\u001b[0;34m\u001b[0m\u001b[0;34m\u001b[0m\u001b[0m\n\u001b[1;32m    232\u001b[0m         \u001b[0;32mif\u001b[0m \u001b[0mself\u001b[0m\u001b[0;34m.\u001b[0m\u001b[0m_exception\u001b[0m\u001b[0;34m:\u001b[0m\u001b[0;34m\u001b[0m\u001b[0m\n\u001b[0;32m--> 233\u001b[0;31m             \u001b[0;32mraise\u001b[0m \u001b[0mself\u001b[0m\u001b[0;34m.\u001b[0m\u001b[0m_exception\u001b[0m\u001b[0;34m\u001b[0m\u001b[0m\n\u001b[0m\u001b[1;32m    234\u001b[0m         \u001b[0;32mreturn\u001b[0m \u001b[0mself\u001b[0m\u001b[0;34m.\u001b[0m\u001b[0m_result\u001b[0m\u001b[0;34m\u001b[0m\u001b[0m\n\u001b[1;32m    235\u001b[0m \u001b[0;34m\u001b[0m\u001b[0m\n",
      "\u001b[0;32m~/miniconda3/lib/python3.6/site-packages/s3transfer/tasks.py\u001b[0m in \u001b[0;36m_main\u001b[0;34m(self, transfer_future, **kwargs)\u001b[0m\n\u001b[1;32m    253\u001b[0m             \u001b[0;31m# Call the submit method to start submitting tasks to execute the\u001b[0m\u001b[0;34m\u001b[0m\u001b[0;34m\u001b[0m\u001b[0m\n\u001b[1;32m    254\u001b[0m             \u001b[0;31m# transfer.\u001b[0m\u001b[0;34m\u001b[0m\u001b[0;34m\u001b[0m\u001b[0m\n\u001b[0;32m--> 255\u001b[0;31m             \u001b[0mself\u001b[0m\u001b[0;34m.\u001b[0m\u001b[0m_submit\u001b[0m\u001b[0;34m(\u001b[0m\u001b[0mtransfer_future\u001b[0m\u001b[0;34m=\u001b[0m\u001b[0mtransfer_future\u001b[0m\u001b[0;34m,\u001b[0m \u001b[0;34m**\u001b[0m\u001b[0mkwargs\u001b[0m\u001b[0;34m)\u001b[0m\u001b[0;34m\u001b[0m\u001b[0m\n\u001b[0m\u001b[1;32m    256\u001b[0m         \u001b[0;32mexcept\u001b[0m \u001b[0mBaseException\u001b[0m \u001b[0;32mas\u001b[0m \u001b[0me\u001b[0m\u001b[0;34m:\u001b[0m\u001b[0;34m\u001b[0m\u001b[0m\n\u001b[1;32m    257\u001b[0m             \u001b[0;31m# If there was an exception raised during the submission of task\u001b[0m\u001b[0;34m\u001b[0m\u001b[0;34m\u001b[0m\u001b[0m\n",
      "\u001b[0;32m~/miniconda3/lib/python3.6/site-packages/s3transfer/download.py\u001b[0m in \u001b[0;36m_submit\u001b[0;34m(self, client, config, osutil, request_executor, io_executor, transfer_future, bandwidth_limiter)\u001b[0m\n\u001b[1;32m    351\u001b[0m                 \u001b[0mBucket\u001b[0m\u001b[0;34m=\u001b[0m\u001b[0mtransfer_future\u001b[0m\u001b[0;34m.\u001b[0m\u001b[0mmeta\u001b[0m\u001b[0;34m.\u001b[0m\u001b[0mcall_args\u001b[0m\u001b[0;34m.\u001b[0m\u001b[0mbucket\u001b[0m\u001b[0;34m,\u001b[0m\u001b[0;34m\u001b[0m\u001b[0m\n\u001b[1;32m    352\u001b[0m                 \u001b[0mKey\u001b[0m\u001b[0;34m=\u001b[0m\u001b[0mtransfer_future\u001b[0m\u001b[0;34m.\u001b[0m\u001b[0mmeta\u001b[0m\u001b[0;34m.\u001b[0m\u001b[0mcall_args\u001b[0m\u001b[0;34m.\u001b[0m\u001b[0mkey\u001b[0m\u001b[0;34m,\u001b[0m\u001b[0;34m\u001b[0m\u001b[0m\n\u001b[0;32m--> 353\u001b[0;31m                 \u001b[0;34m**\u001b[0m\u001b[0mtransfer_future\u001b[0m\u001b[0;34m.\u001b[0m\u001b[0mmeta\u001b[0m\u001b[0;34m.\u001b[0m\u001b[0mcall_args\u001b[0m\u001b[0;34m.\u001b[0m\u001b[0mextra_args\u001b[0m\u001b[0;34m\u001b[0m\u001b[0m\n\u001b[0m\u001b[1;32m    354\u001b[0m             )\n\u001b[1;32m    355\u001b[0m             transfer_future.meta.provide_transfer_size(\n",
      "\u001b[0;32m~/miniconda3/lib/python3.6/site-packages/botocore/client.py\u001b[0m in \u001b[0;36m_api_call\u001b[0;34m(self, *args, **kwargs)\u001b[0m\n\u001b[1;32m    315\u001b[0m                     \"%s() only accepts keyword arguments.\" % py_operation_name)\n\u001b[1;32m    316\u001b[0m             \u001b[0;31m# The \"self\" in this scope is referring to the BaseClient.\u001b[0m\u001b[0;34m\u001b[0m\u001b[0;34m\u001b[0m\u001b[0m\n\u001b[0;32m--> 317\u001b[0;31m             \u001b[0;32mreturn\u001b[0m \u001b[0mself\u001b[0m\u001b[0;34m.\u001b[0m\u001b[0m_make_api_call\u001b[0m\u001b[0;34m(\u001b[0m\u001b[0moperation_name\u001b[0m\u001b[0;34m,\u001b[0m \u001b[0mkwargs\u001b[0m\u001b[0;34m)\u001b[0m\u001b[0;34m\u001b[0m\u001b[0m\n\u001b[0m\u001b[1;32m    318\u001b[0m \u001b[0;34m\u001b[0m\u001b[0m\n\u001b[1;32m    319\u001b[0m         \u001b[0m_api_call\u001b[0m\u001b[0;34m.\u001b[0m\u001b[0m__name__\u001b[0m \u001b[0;34m=\u001b[0m \u001b[0mstr\u001b[0m\u001b[0;34m(\u001b[0m\u001b[0mpy_operation_name\u001b[0m\u001b[0;34m)\u001b[0m\u001b[0;34m\u001b[0m\u001b[0m\n",
      "\u001b[0;32m~/miniconda3/lib/python3.6/site-packages/botocore/client.py\u001b[0m in \u001b[0;36m_make_api_call\u001b[0;34m(self, operation_name, api_params)\u001b[0m\n\u001b[1;32m    613\u001b[0m             \u001b[0merror_code\u001b[0m \u001b[0;34m=\u001b[0m \u001b[0mparsed_response\u001b[0m\u001b[0;34m.\u001b[0m\u001b[0mget\u001b[0m\u001b[0;34m(\u001b[0m\u001b[0;34m\"Error\"\u001b[0m\u001b[0;34m,\u001b[0m \u001b[0;34m{\u001b[0m\u001b[0;34m}\u001b[0m\u001b[0;34m)\u001b[0m\u001b[0;34m.\u001b[0m\u001b[0mget\u001b[0m\u001b[0;34m(\u001b[0m\u001b[0;34m\"Code\"\u001b[0m\u001b[0;34m)\u001b[0m\u001b[0;34m\u001b[0m\u001b[0m\n\u001b[1;32m    614\u001b[0m             \u001b[0merror_class\u001b[0m \u001b[0;34m=\u001b[0m \u001b[0mself\u001b[0m\u001b[0;34m.\u001b[0m\u001b[0mexceptions\u001b[0m\u001b[0;34m.\u001b[0m\u001b[0mfrom_code\u001b[0m\u001b[0;34m(\u001b[0m\u001b[0merror_code\u001b[0m\u001b[0;34m)\u001b[0m\u001b[0;34m\u001b[0m\u001b[0m\n\u001b[0;32m--> 615\u001b[0;31m             \u001b[0;32mraise\u001b[0m \u001b[0merror_class\u001b[0m\u001b[0;34m(\u001b[0m\u001b[0mparsed_response\u001b[0m\u001b[0;34m,\u001b[0m \u001b[0moperation_name\u001b[0m\u001b[0;34m)\u001b[0m\u001b[0;34m\u001b[0m\u001b[0m\n\u001b[0m\u001b[1;32m    616\u001b[0m         \u001b[0;32melse\u001b[0m\u001b[0;34m:\u001b[0m\u001b[0;34m\u001b[0m\u001b[0m\n\u001b[1;32m    617\u001b[0m             \u001b[0;32mreturn\u001b[0m \u001b[0mparsed_response\u001b[0m\u001b[0;34m\u001b[0m\u001b[0m\n",
      "\u001b[0;31mClientError\u001b[0m: An error occurred (404) when calling the HeadObject operation: Not Found"
     ]
    }
   ],
   "source": [
    "for prefix in to_track:\n",
    "    kn.split(prefix, remote_folder=remote_folder, bucket=bucket)"
   ]
  },
  {
   "cell_type": "markdown",
   "metadata": {},
   "source": [
    "## Tracking predictor"
   ]
  },
  {
   "cell_type": "markdown",
   "metadata": {},
   "source": [
    "Tracking normally requires user input in the form of tracking parameters e.g. particle radius, linking max distance, max frame gap etc. When large datasets aren't required, each video can be manageably manually tracked using the TrackMate GUI. However, when datasets get large e.g. >20 videos, this can become extremely arduous. For videos that are fairly similar, you can get away with using similar tracking parameters across all videos. However, one parameter that is a little more noisy that the others is the quality filter value. Quality is a numerical value that approximate how likely a particle is to be \"real.\" \n",
    "\n",
    "In this case, I built a predictor that estimates the quality filter value based on intensity distributions from the input images. Using a relatively small training dataset (5-20 videos), users can get fairly good estimates of quality filter values that can be used in parallelized tracking workflows.\n",
    "\n",
    "Note: in the current setup, the predictor should be run in Python 3. While the code will run in Python 3, there are differences between the random number generators in Python2 and Python3 that I was not able to control for."
   ]
  },
  {
   "cell_type": "code",
   "execution_count": 3,
   "metadata": {},
   "outputs": [],
   "source": [
    "import os\n",
    "import diff_classifier.imagej as ij\n",
    "import boto3\n",
    "import os.path as op\n",
    "import diff_classifier.aws as aws\n",
    "import diff_classifier.knotlets as kn\n",
    "import numpy as np\n",
    "from sklearn.externals import joblib"
   ]
  },
  {
   "cell_type": "markdown",
   "metadata": {},
   "source": [
    "The regress_sys function should be run twice. When have_output is set to False, it generates a list of files that the user should manually track using Trackmate. Once the quality filter values are found, they can be used as input (y) to generate a regress object that can predict quality filter values for additional videos. Once y is assigned, set have_output to True and re-run the cell."
   ]
  },
  {
   "cell_type": "code",
   "execution_count": 7,
   "metadata": {},
   "outputs": [
    {
     "name": "stdout",
     "output_type": "stream",
     "text": [
      "Get parameters for: 0_4_agarose_vid_5_1_0\n",
      "Get parameters for: 0_4_agarose_vid_2_3_0\n",
      "Get parameters for: 0_6_agarose_vid_3_2_1\n",
      "Get parameters for: 0_6_agarose_vid_3_2_0\n",
      "Get parameters for: 1_0_agarose_vid_5_3_2\n",
      "Get parameters for: 1_0_agarose_vid_4_1_1\n",
      "Get parameters for: 0_8_agarose_vid_1_1_1\n",
      "Get parameters for: 0_6_agarose_vid_3_1_0\n",
      "Get parameters for: 0_8_agarose_vid_5_3_1\n",
      "Get parameters for: 1_0_agarose_vid_4_1_0\n",
      "Get parameters for: 0_8_agarose_vid_5_1_3\n",
      "Get parameters for: 1_0_agarose_vid_1_0_2\n",
      "Get parameters for: 0_6_agarose_vid_4_1_0\n",
      "Get parameters for: 0_4_agarose_vid_4_1_2\n",
      "Get parameters for: 0_6_agarose_vid_2_2_2\n",
      "Get parameters for: 0_8_agarose_vid_2_2_1\n",
      "Get parameters for: 1_0_agarose_vid_2_2_3\n",
      "Get parameters for: 0_6_agarose_vid_1_3_0\n",
      "Get parameters for: 1_2_agarose_vid_2_2_2\n",
      "Get parameters for: 1_2_agarose_vid_4_0_2\n"
     ]
    }
   ],
   "source": [
    "tnum=20 #number of training datasets\n",
    "pref = []\n",
    "for num in to_track:                    \n",
    "    for row in range(0, 4):\n",
    "        for col in range(0, 4):\n",
    "            pref.append(\"{}_{}_{}\".format(num, row, col))\n",
    "\n",
    "y = np.array([4, 4.8, 7.3, 9.8, 8, 7.7, 4.95, 4.4, 6.24, 5.3, 5.45, 11.7, 7, 6.9, 5.9, 4.6, 6.95, 9.4, 9.1, 6.5])\n",
    "\n",
    "# Creates regression object based of training dataset composed of input images and manually\n",
    "# calculated quality cutoffs from tracking with GUI interface.\n",
    "regress = ij.regress_sys(remote_folder, pref, y, tnum, randselect=True,\n",
    "                         have_output=False, bucket_name=bucket)\n",
    "#Read up on how regress_sys works before running."
   ]
  },
  {
   "cell_type": "code",
   "execution_count": null,
   "metadata": {},
   "outputs": [],
   "source": [
    "#Pickle object\n",
    "filename = 'regress.obj'\n",
    "with open(filename,'wb') as fp:\n",
    "    joblib.dump(regress,fp)\n",
    "\n",
    "import boto3\n",
    "s3 = boto3.client('s3')\n",
    "aws.upload_s3(filename, remote_folder+'/'+filename, bucket_name=bucket)"
   ]
  },
  {
   "cell_type": "markdown",
   "metadata": {},
   "source": [
    "Users should input all tracking parameters into the tparams object. Note that the quality value will be overwritten by values found using the quality predictor found above."
   ]
  },
  {
   "cell_type": "code",
   "execution_count": null,
   "metadata": {},
   "outputs": [],
   "source": [
    "tparams1 = {'radius': 5.0, 'threshold': 0.0, 'do_median_filtering': False,\n",
    "           'quality': 5.0, 'xdims': (0, 511), 'ydims': (1, 511),\n",
    "           'median_intensity': 300.0, 'snr': 0.0, 'linking_max_distance': 12.0,\n",
    "           'gap_closing_max_distance': 18.0, 'max_frame_gap': 7,\n",
    "           'track_duration': 20.0}\n",
    "\n",
    "# tparams2 = {'radius': 4.0, 'threshold': 0.0, 'do_median_filtering': False,\n",
    "#            'quality': 10.0, 'xdims': (0, 511), 'ydims': (1, 511),\n",
    "#            'median_intensity': 300.0, 'snr': 0.0, 'linking_max_distance': 8.0,\n",
    "#            'gap_closing_max_distance': 12.0, 'max_frame_gap': 6,\n",
    "#            'track_duration': 20.0}"
   ]
  },
  {
   "cell_type": "markdown",
   "metadata": {},
   "source": [
    "## Cloudknot setup"
   ]
  },
  {
   "cell_type": "markdown",
   "metadata": {},
   "source": [
    "Cloudknot requires the user to define a function that will be sent to multiple computers to run. In this case, the function knotlets.tracking will be used. We create a docker image that has the required installations (defined by the requirements.txt file from diff_classifier on Github, and the base Docker Image below that has Fiji pre-installed in the correct location.\n",
    "\n",
    "Note that I modify the Docker image below such that the correct version of boto3 is installed. For some reason, versions later than 1.5.28 error out, so I specified 5.28 as the correct version. Run my_image.build below to double-check that the Docker image is successfully built prior to submitting the job to Cloudknot."
   ]
  },
  {
   "cell_type": "code",
   "execution_count": null,
   "metadata": {},
   "outputs": [],
   "source": [
    "import cloudknot as ck\n",
    "import os.path as op\n",
    "\n",
    "github_installs=('https://github.com/ccurtis7/diff_classifier.git@Chad')\n",
    "#my_image = ck.DockerImage(func=kn.tracking, base_image='arokem/python3-fiji:0.3', github_installs=github_installs)\n",
    "my_image = ck.DockerImage(func=kn.assemble_msds, base_image='arokem/python3-fiji:0.3', github_installs=github_installs)\n",
    "docker_file = open(my_image.docker_path)\n",
    "docker_string = docker_file.read()\n",
    "docker_file.close()\n",
    "\n",
    "req = open(op.join(op.split(my_image.docker_path)[0], 'requirements.txt'))\n",
    "req_string = req.read()\n",
    "req.close()\n",
    "\n",
    "new_req = req_string[0:req_string.find('\\n')-4]+'5.28'+ req_string[req_string.find('\\n'):]\n",
    "req_overwrite = open(op.join(op.split(my_image.docker_path)[0], 'requirements.txt'), 'w')\n",
    "req_overwrite.write(new_req)\n",
    "req_overwrite.close()"
   ]
  },
  {
   "cell_type": "code",
   "execution_count": null,
   "metadata": {},
   "outputs": [],
   "source": [
    "my_image.build(\"0.1\", image_name=\"test_image\")"
   ]
  },
  {
   "cell_type": "markdown",
   "metadata": {},
   "source": [
    "The object all_maps is an iterable containing all the inputs sent to Cloudknot. This is useful, because if the user needs to modify some of the tracking parameters for a single video, this can be done prior to submission to Cloudknot."
   ]
  },
  {
   "cell_type": "code",
   "execution_count": null,
   "metadata": {},
   "outputs": [],
   "source": [
    "names = []\n",
    "all_maps = []\n",
    "for prefix in to_track:    \n",
    "    for i in range(0, 4):\n",
    "        for j in range(0, 4):\n",
    "            names.append('{}_{}_{}'.format(prefix, i, j))\n",
    "            all_maps.append(('{}_{}_{}'.format(prefix, i, j), remote_folder, bucket, 'regress.obj',\n",
    "                             4, 4, (512, 512), tparams1))\n",
    "\n",
    "all_maps"
   ]
  },
  {
   "cell_type": "markdown",
   "metadata": {},
   "source": [
    "The Cloudknot knot object sets up the compute environment which will run the code. Note that the name must be unique. Every time you submit a new knot, you should change the name. I do this with the variable start_knot, which I vary for each run.\n",
    "\n",
    "If larger jobs are anticipated, users can adjust both RAM and storage with the memory and image_id variables. Memory specifies the amount of RAM to be used. Users can build a customized AMI with as much space as they need, and enter the ID into image_ID. Read the Cloudknot documentation for more details."
   ]
  },
  {
   "cell_type": "code",
   "execution_count": null,
   "metadata": {},
   "outputs": [],
   "source": [
    "knot = ck.Knot(name='download_and_track_{}_b{}'.format('chad90', start_knot),\n",
    "               docker_image = my_image,\n",
    "               memory = 16000,\n",
    "               resource_type = \"SPOT\",\n",
    "               bid_percentage = 100,\n",
    "               #image_id = 'ami-015a1b4cd3895860b', #May need to change this line\n",
    "               pars_policies=('AmazonS3FullAccess',),\n",
    "               )"
   ]
  },
  {
   "cell_type": "code",
   "execution_count": null,
   "metadata": {},
   "outputs": [],
   "source": [
    "result_futures = knot.map(all_maps, starmap=True)"
   ]
  },
  {
   "cell_type": "code",
   "execution_count": null,
   "metadata": {},
   "outputs": [],
   "source": [
    "knot.clobber()"
   ]
  },
  {
   "cell_type": "code",
   "execution_count": null,
   "metadata": {},
   "outputs": [],
   "source": [
    "knot2 = ck.Knot(name='download_and_track_{}_b{}'.format('chad91', start_knot),\n",
    "               docker_image = my_image,\n",
    "               memory = 16000,\n",
    "               resource_type = \"SPOT\",\n",
    "               bid_percentage = 100,\n",
    "               #image_id = 'ami-015a1b4cd3895860b', #May need to change this line\n",
    "               pars_policies=('AmazonS3FullAccess',),\n",
    "               )"
   ]
  },
  {
   "cell_type": "code",
   "execution_count": null,
   "metadata": {},
   "outputs": [],
   "source": [
    "result_futures2 = knot2.map(all_maps3, starmap=True)"
   ]
  },
  {
   "cell_type": "code",
   "execution_count": null,
   "metadata": {},
   "outputs": [],
   "source": [
    "ck.aws.set_region('us-east-1')"
   ]
  },
  {
   "cell_type": "code",
   "execution_count": null,
   "metadata": {},
   "outputs": [],
   "source": [
    "knot2.clobber()"
   ]
  },
  {
   "cell_type": "code",
   "execution_count": null,
   "metadata": {},
   "outputs": [],
   "source": [
    "knot3 = ck.Knot(name='download_and_track_{}_b{}'.format('chad92', start_knot),\n",
    "               docker_image = my_image,\n",
    "               memory = 144000,\n",
    "               resource_type = \"SPOT\",\n",
    "               bid_percentage = 100,\n",
    "               #image_id = 'ami-015a1b4cd3895860b', #May need to change this line\n",
    "               pars_policies=('AmazonS3FullAccess',),\n",
    "               )"
   ]
  },
  {
   "cell_type": "code",
   "execution_count": null,
   "metadata": {},
   "outputs": [],
   "source": [
    "names = []\n",
    "all_maps2 = []\n",
    "for prefix in to_track:\n",
    "    all_maps2.append((prefix, remote_folder, bucket, (512, 512), 651, 4, 4))\n",
    "\n",
    "all_maps2"
   ]
  },
  {
   "cell_type": "code",
   "execution_count": null,
   "metadata": {},
   "outputs": [],
   "source": [
    "result_futures3 = knot3.map(all_maps2, starmap=True)"
   ]
  },
  {
   "cell_type": "code",
   "execution_count": null,
   "metadata": {},
   "outputs": [],
   "source": [
    "knot2.clobber()"
   ]
  },
  {
   "cell_type": "code",
   "execution_count": null,
   "metadata": {},
   "outputs": [],
   "source": [
    "missing = []\n",
    "all_maps3 = []\n",
    "import boto3\n",
    "import botocore\n",
    "\n",
    "s3 = boto3.resource('s3')\n",
    "\n",
    "\n",
    "for prefix in to_track:\n",
    "    try:\n",
    "        s3.Object(bucket, '{}/features_{}.csv'.format(remote_folder, prefix)).load()\n",
    "    except botocore.exceptions.ClientError as e:\n",
    "        if e.response['Error']['Code'] == \"404\":\n",
    "            missing.append(prefix)\n",
    "        else:\n",
    "            print('Something else has gone wrong')"
   ]
  },
  {
   "cell_type": "code",
   "execution_count": null,
   "metadata": {},
   "outputs": [],
   "source": [
    "missing"
   ]
  },
  {
   "cell_type": "code",
   "execution_count": null,
   "metadata": {},
   "outputs": [],
   "source": [
    "for prefix in missing:\n",
    "    kn.assemble_msds(prefix, remote_folder, bucket=bucket)\n",
    "    print('Done with {}'.format(prefix))"
   ]
  },
  {
   "cell_type": "code",
   "execution_count": null,
   "metadata": {},
   "outputs": [],
   "source": [
    "result_futures4 = knot4.map(all_maps3, starmap=True)"
   ]
  },
  {
   "cell_type": "code",
   "execution_count": null,
   "metadata": {},
   "outputs": [],
   "source": [
    "knot4.clobber()"
   ]
  },
  {
   "cell_type": "code",
   "execution_count": null,
   "metadata": {},
   "outputs": [],
   "source": []
  },
  {
   "cell_type": "code",
   "execution_count": null,
   "metadata": {},
   "outputs": [],
   "source": []
  },
  {
   "cell_type": "code",
   "execution_count": null,
   "metadata": {},
   "outputs": [],
   "source": [
    "knot3 = ck.Knot(name='download_and_track_{}_b{}'.format('chad33', start_knot),\n",
    "               docker_image = my_image,\n",
    "               memory = 64000,\n",
    "               resource_type = \"SPOT\",\n",
    "               bid_percentage = 100,\n",
    "               #image_id = 'ami-015a1b4cd3895860b', #May need to change this line\n",
    "               pars_policies=('AmazonS3FullAccess',),\n",
    "               )"
   ]
  },
  {
   "cell_type": "code",
   "execution_count": null,
   "metadata": {},
   "outputs": [],
   "source": [
    "result_futures5 = knot3.map(all_maps2, starmap=True)"
   ]
  },
  {
   "cell_type": "code",
   "execution_count": null,
   "metadata": {},
   "outputs": [],
   "source": [
    "knot3.clobber()"
   ]
  },
  {
   "cell_type": "code",
   "execution_count": null,
   "metadata": {},
   "outputs": [],
   "source": []
  },
  {
   "cell_type": "code",
   "execution_count": null,
   "metadata": {},
   "outputs": [],
   "source": []
  },
  {
   "cell_type": "code",
   "execution_count": null,
   "metadata": {},
   "outputs": [],
   "source": [
    "ck.aws.get_region()\n",
    "ck.aws.set_region('us-east-1')\n",
    "ck.aws.get_region()"
   ]
  },
  {
   "cell_type": "code",
   "execution_count": null,
   "metadata": {},
   "outputs": [],
   "source": [
    "knot2 = ck.Knot(name='download_and_track_{}_b{}'.format('chad2', start_knot),\n",
    "               docker_image = my_image,\n",
    "               memory = 144000,\n",
    "               resource_type = \"SPOT\",\n",
    "               bid_percentage = 100,\n",
    "               #image_id = 'ami-0e00afdf500081a0d', #May need to change this line\n",
    "               pars_policies=('AmazonS3FullAccess',))"
   ]
  },
  {
   "cell_type": "code",
   "execution_count": null,
   "metadata": {},
   "outputs": [],
   "source": [
    "result_futures2 = knot2.map(all_maps, starmap=True)"
   ]
  },
  {
   "cell_type": "code",
   "execution_count": null,
   "metadata": {},
   "outputs": [],
   "source": [
    "knot3 = ck.Knot(name='download_and_track_{}_b{}'.format('chad3', start_knot),\n",
    "               docker_image = my_image,\n",
    "               memory = 144000,\n",
    "               resource_type = \"SPOT\",\n",
    "               bid_percentage = 100,\n",
    "               #image_id = 'ami-0e00afdf500081a0d', #May need to change this line\n",
    "               pars_policies=('AmazonS3FullAccess',))"
   ]
  },
  {
   "cell_type": "code",
   "execution_count": null,
   "metadata": {},
   "outputs": [],
   "source": [
    "result_futures3 = knot3.map(all_maps, starmap=True)"
   ]
  },
  {
   "cell_type": "code",
   "execution_count": null,
   "metadata": {},
   "outputs": [],
   "source": [
    "knot4 = ck.Knot(name='download_and_track_{}_b{}'.format('chad4', start_knot),\n",
    "               docker_image = my_image,\n",
    "               memory = 144000,\n",
    "               resource_type = \"SPOT\",\n",
    "               bid_percentage = 100,\n",
    "               #image_id = 'ami-0e00afdf500081a0d', #May need to change this line\n",
    "               pars_policies=('AmazonS3FullAccess',))"
   ]
  },
  {
   "cell_type": "code",
   "execution_count": null,
   "metadata": {},
   "outputs": [],
   "source": [
    "result_futures4 = knot4.map(all_maps, starmap=True)"
   ]
  },
  {
   "cell_type": "code",
   "execution_count": null,
   "metadata": {},
   "outputs": [],
   "source": [
    "knot5 = ck.Knot(name='download_and_track_{}_b{}'.format('chad5', start_knot),\n",
    "               docker_image = my_image,\n",
    "               memory = 144000,\n",
    "               resource_type = \"SPOT\",\n",
    "               bid_percentage = 100,\n",
    "               #image_id = 'ami-0e00afdf500081a0d', #May need to change this line\n",
    "               pars_policies=('AmazonS3FullAccess',))"
   ]
  },
  {
   "cell_type": "code",
   "execution_count": null,
   "metadata": {},
   "outputs": [],
   "source": [
    "result_futures5 = knot5.map(all_maps, starmap=True)"
   ]
  },
  {
   "cell_type": "code",
   "execution_count": null,
   "metadata": {},
   "outputs": [],
   "source": [
    "ck.aws.set_region('eu-west-1')\n",
    "knot5.clobber()"
   ]
  },
  {
   "cell_type": "code",
   "execution_count": null,
   "metadata": {},
   "outputs": [],
   "source": []
  },
  {
   "cell_type": "code",
   "execution_count": null,
   "metadata": {},
   "outputs": [],
   "source": []
  },
  {
   "cell_type": "code",
   "execution_count": null,
   "metadata": {},
   "outputs": [],
   "source": []
  },
  {
   "cell_type": "code",
   "execution_count": null,
   "metadata": {},
   "outputs": [],
   "source": [
    "tparams2 = {'radius': 3.5, 'threshold': 0.0, 'do_median_filtering': False,\n",
    "           'quality': 10.0, 'xdims': (0, 511), 'ydims': (1, 511),\n",
    "           'median_intensity': 300.0, 'snr': 0.0, 'linking_max_distance': 15.0,\n",
    "           'gap_closing_max_distance': 22.0, 'max_frame_gap': 5,\n",
    "           'track_duration': 20.0}"
   ]
  },
  {
   "cell_type": "code",
   "execution_count": null,
   "metadata": {},
   "outputs": [],
   "source": [
    "missing = []\n",
    "all_maps3 = []\n",
    "import boto3\n",
    "import botocore\n",
    "\n",
    "s3 = boto3.resource('s3')\n",
    "\n",
    "\n",
    "for name in names:\n",
    "    try:\n",
    "        s3.Object(bucket, '{}/Traj_{}.csv'.format(remote_folder, name)).load()\n",
    "    except botocore.exceptions.ClientError as e:\n",
    "        if e.response['Error']['Code'] == \"404\":\n",
    "            missing.append(name)\n",
    "            all_maps3.append((name, remote_folder, bucket, 'regress.obj',\n",
    "                             4, 4, (512, 512), tparams1))\n",
    "        else:\n",
    "            print('Something else has gone wrong')"
   ]
  },
  {
   "cell_type": "code",
   "execution_count": null,
   "metadata": {},
   "outputs": [],
   "source": [
    "all_maps3"
   ]
  },
  {
   "cell_type": "code",
   "execution_count": null,
   "metadata": {},
   "outputs": [],
   "source": [
    "import diff_classifier.aws as aws"
   ]
  },
  {
   "cell_type": "code",
   "execution_count": null,
   "metadata": {},
   "outputs": [],
   "source": [
    "old_folder = 'Gel_Studies/08_14_18_gel_validation/old_msds2'\n",
    "\n",
    "for name in missing:\n",
    "    filename = 'Traj_{}.csv'.format(name)\n",
    "    aws.download_s3('{}/{}'.format(old_folder, filename), filename, bucket_name=bucket)\n",
    "    aws.upload_s3(filename, '{}/{}'.format(remote_folder, filename), bucket_name=bucket)"
   ]
  },
  {
   "cell_type": "markdown",
   "metadata": {},
   "source": [
    "Users can monitor the progress of their job in the Batch interface. Once the code is complete, users should clobber their knot to make sure that all AWS resources are removed."
   ]
  },
  {
   "cell_type": "code",
   "execution_count": null,
   "metadata": {},
   "outputs": [],
   "source": [
    "knot.clobber()"
   ]
  },
  {
   "cell_type": "markdown",
   "metadata": {},
   "source": [
    "## Downstream analysis and visualization"
   ]
  },
  {
   "cell_type": "markdown",
   "metadata": {},
   "source": [
    "The knotlet.assemble_msds function (which can also potentially be submitted to Cloudknot as well for large jobs) calculates the mean squared displacements and trajectory features from the raw trajectory csv files found from the Cloudknot submission. It accesses them from the S3 bucket to which they were saved."
   ]
  },
  {
   "cell_type": "code",
   "execution_count": null,
   "metadata": {},
   "outputs": [],
   "source": [
    "for prefix in to_track:\n",
    "    kn.assemble_msds(prefix, remote_folder, bucket=bucket)\n",
    "    print('Successfully output msds for {}'.format(prefix))"
   ]
  },
  {
   "cell_type": "code",
   "execution_count": null,
   "metadata": {},
   "outputs": [],
   "source": [
    "for prefix in to_track[5:7]:\n",
    "    kn.assemble_msds(prefix, remote_folder, bucket='ccurtis.data')\n",
    "    print('Successfully output msds for {}'.format(prefix))"
   ]
  },
  {
   "cell_type": "code",
   "execution_count": null,
   "metadata": {},
   "outputs": [],
   "source": [
    "all_maps2 = []\n",
    "for prefix in to_track:    \n",
    "    all_maps2.append((prefix, remote_folder, bucket, 'regress100.obj',\n",
    "                     4, 4, (512, 512), tparams))"
   ]
  },
  {
   "cell_type": "code",
   "execution_count": null,
   "metadata": {},
   "outputs": [],
   "source": [
    "knot = ck.Knot(name='download_and_track_{}_b{}'.format('chad', start_knot),\n",
    "               docker_image = my_image,\n",
    "               memory = 16000,\n",
    "               resource_type = \"SPOT\",\n",
    "               bid_percentage = 100,\n",
    "               #image_id = 'ami-0e00afdf500081a0d', #May need to change this line\n",
    "               pars_policies=('AmazonS3FullAccess',))"
   ]
  },
  {
   "cell_type": "markdown",
   "metadata": {},
   "source": [
    "Diff_classifier includes some useful imaging tools as well, including checking trajectories, plotting heatmaps of trajectory features, distributions of diffusion coefficients, and MSD plots."
   ]
  },
  {
   "cell_type": "code",
   "execution_count": null,
   "metadata": {},
   "outputs": [],
   "source": [
    "import diff_classifier.heatmaps as hm\n",
    "import diff_classifier.aws as aws"
   ]
  },
  {
   "cell_type": "code",
   "execution_count": null,
   "metadata": {},
   "outputs": [],
   "source": [
    "prefix = to_track[1]\n",
    "\n",
    "msds = 'msd_{}.csv'.format(prefix)\n",
    "feat = 'features_{}.csv'.format(prefix)\n",
    "aws.download_s3('{}/{}'.format(remote_folder, msds), msds, bucket_name=bucket)\n",
    "aws.download_s3('{}/{}'.format(remote_folder, feat), feat, bucket_name=bucket)"
   ]
  },
  {
   "cell_type": "code",
   "execution_count": null,
   "metadata": {},
   "outputs": [],
   "source": [
    "hm.plot_trajectories(prefix, upload=False, figsize=(8, 8))"
   ]
  },
  {
   "cell_type": "code",
   "execution_count": null,
   "metadata": {},
   "outputs": [],
   "source": [
    "geomean, geoSEM = hm.plot_individual_msds(prefix, x_range=10, y_range=300, umppx=1, fps=1, upload=False)"
   ]
  },
  {
   "cell_type": "code",
   "execution_count": null,
   "metadata": {},
   "outputs": [],
   "source": [
    "hm.plot_heatmap(prefix, upload=False)"
   ]
  },
  {
   "cell_type": "code",
   "execution_count": null,
   "metadata": {},
   "outputs": [],
   "source": [
    "hm.plot_particles_in_frame(prefix, y_range=6000, upload=False)"
   ]
  },
  {
   "cell_type": "code",
   "execution_count": null,
   "metadata": {},
   "outputs": [],
   "source": [
    "missing = []\n",
    "all_maps2 = []\n",
    "import boto3\n",
    "import botocore\n",
    "\n",
    "s3 = boto3.resource('s3')\n",
    "\n",
    "\n",
    "for name in names:\n",
    "    try:\n",
    "        s3.Object(bucket, '{}/Traj_{}.csv'.format(remote_folder, name)).load()\n",
    "    except botocore.exceptions.ClientError as e:\n",
    "        if e.response['Error']['Code'] == \"404\":\n",
    "            missing.append(name)\n",
    "            #all_maps2.append((name, remote_folder, bucket, 'regress.obj',\n",
    "            #                 4, 4, (512, 512), tparams2))\n",
    "        else:\n",
    "            print('Something else has gone wrong')"
   ]
  },
  {
   "cell_type": "code",
   "execution_count": null,
   "metadata": {},
   "outputs": [],
   "source": [
    "missing = ['PS_COOH_2mM_XY05_1_1', 'PS_NH2_2mM_XY04_2_1']"
   ]
  },
  {
   "cell_type": "code",
   "execution_count": null,
   "metadata": {},
   "outputs": [],
   "source": [
    "all_maps"
   ]
  },
  {
   "cell_type": "code",
   "execution_count": null,
   "metadata": {},
   "outputs": [],
   "source": [
    "kn.tracking(missing[0], remote_folder, bucket=bucket, tparams=tparams1)"
   ]
  },
  {
   "cell_type": "code",
   "execution_count": null,
   "metadata": {},
   "outputs": [],
   "source": [
    "kn.tracking(missing[1], remote_folder, bucket=bucket, tparams=tparams1)"
   ]
  },
  {
   "cell_type": "code",
   "execution_count": null,
   "metadata": {},
   "outputs": [],
   "source": []
  }
 ],
 "metadata": {
  "kernelspec": {
   "display_name": "Python 3",
   "language": "python",
   "name": "python3"
  },
  "language_info": {
   "codemirror_mode": {
    "name": "ipython",
    "version": 3
   },
   "file_extension": ".py",
   "mimetype": "text/x-python",
   "name": "python",
   "nbconvert_exporter": "python",
   "pygments_lexer": "ipython3",
   "version": "3.6.3"
  }
 },
 "nbformat": 4,
 "nbformat_minor": 2
}
