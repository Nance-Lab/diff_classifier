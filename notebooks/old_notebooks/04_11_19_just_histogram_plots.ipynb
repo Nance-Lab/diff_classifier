{
 "cells": [
  {
   "cell_type": "markdown",
   "metadata": {},
   "source": [
    "## Importing and prepping data"
   ]
  },
  {
   "cell_type": "code",
   "execution_count": 1,
   "metadata": {},
   "outputs": [],
   "source": [
    "import pandas as pd\n",
    "import numpy as np\n",
    "import diff_classifier.aws as aws\n",
    "import diff_classifier.pca as pca\n",
    "import os"
   ]
  },
  {
   "cell_type": "markdown",
   "metadata": {},
   "source": [
    "This cell concatenates all your video files in a for loop. You can add/subtract for loops as needed, but currently loops over calcs (calcium concentrations), mws (paraticle types), and number of videos (vids)."
   ]
  },
  {
   "cell_type": "code",
   "execution_count": 2,
   "metadata": {},
   "outputs": [
    {
     "name": "stdout",
     "output_type": "stream",
     "text": [
      "features_5k_PEG_3mM_XY01.csv\n",
      "features_5k_PEG_3mM_XY02.csv\n",
      "features_5k_PEG_3mM_XY03.csv\n",
      "features_5k_PEG_3mM_XY04.csv\n",
      "features_5k_PEG_3mM_XY05.csv\n",
      "features_5k_PEG_3mM_XY06.csv\n",
      "features_5k_PEG_3mM_XY07.csv\n",
      "features_5k_PEG_3mM_XY08.csv\n",
      "features_5k_PEG_3mM_XY09.csv\n",
      "features_5k_PEG_3mM_XY10.csv\n",
      "features_PS_COOH_3mM_XY01.csv\n",
      "features_PS_COOH_3mM_XY02.csv\n",
      "features_PS_COOH_3mM_XY03.csv\n",
      "features_PS_COOH_3mM_XY04.csv\n",
      "features_PS_COOH_3mM_XY05.csv\n",
      "features_PS_COOH_3mM_XY06.csv\n",
      "features_PS_COOH_3mM_XY07.csv\n",
      "features_PS_COOH_3mM_XY08.csv\n",
      "features_PS_COOH_3mM_XY09.csv\n",
      "features_PS_COOH_3mM_XY10.csv\n",
      "features_5k_PEG_NH2_3mM_XY01.csv\n",
      "features_5k_PEG_NH2_3mM_XY02.csv\n",
      "features_5k_PEG_NH2_3mM_XY03.csv\n",
      "features_5k_PEG_NH2_3mM_XY04.csv\n",
      "features_5k_PEG_NH2_3mM_XY05.csv\n",
      "features_5k_PEG_NH2_3mM_XY06.csv\n",
      "features_5k_PEG_NH2_3mM_XY07.csv\n",
      "features_5k_PEG_NH2_3mM_XY08.csv\n",
      "features_5k_PEG_NH2_3mM_XY09.csv\n",
      "features_5k_PEG_NH2_3mM_XY10.csv\n",
      "features_PS_NH2_3mM_XY01.csv\n",
      "features_PS_NH2_3mM_XY02.csv\n",
      "features_PS_NH2_3mM_XY03.csv\n",
      "features_PS_NH2_3mM_XY04.csv\n",
      "features_PS_NH2_3mM_XY05.csv\n",
      "features_PS_NH2_3mM_XY06.csv\n",
      "features_PS_NH2_3mM_XY07.csv\n",
      "features_PS_NH2_3mM_XY08.csv\n",
      "features_PS_NH2_3mM_XY09.csv\n",
      "features_PS_NH2_3mM_XY10.csv\n"
     ]
    }
   ],
   "source": [
    "features = []\n",
    "remote_folder = 'Gel_studies' #Folder in AWS S3 containing files to be analyzed\n",
    "bucket = 'dtoghani.data'\n",
    "vids = 10\n",
    "mws = ['5k_PEG', 'PS_COOH', '5k_PEG_NH2', 'PS_NH2']\n",
    "nonnum = ['Particle Type', 'Video Number', 'Track_ID', 'Deff2',\n",
    "          'Mean Mean_Intensity', 'Std Mean_Intensity',\n",
    "          'X', 'Y', 'Mean X', 'Mean Y', 'Std X', 'Std Y']\n",
    "calcs = [3]\n",
    "\n",
    "counter = 0\n",
    "for calc in calcs:\n",
    "    for mw in mws:\n",
    "        for num in range(1, vids+1):\n",
    "            try:\n",
    "                filename = 'features_{}_{}mM_XY{}.csv'.format(mw, calc, '%02d' % num)\n",
    "                #os.remove(filename)\n",
    "                aws.download_s3('{}/{}'.format(remote_folder, filename), filename, bucket_name=bucket)\n",
    "                fstats = pd.read_csv(filename, encoding = \"ISO-8859-1\", index_col='Unnamed: 0')\n",
    "                fstats['Particle Type'] = pd.Series(fstats.shape[0]*[mw], index=fstats.index)\n",
    "                fstats['Video Number'] = pd.Series(fstats.shape[0]*[num], index=fstats.index)\n",
    "                print(filename)\n",
    "                counter = counter + 1\n",
    "                if counter == 1:\n",
    "                    fstats_tot = fstats\n",
    "                else:\n",
    "                    fstats_tot = fstats_tot.append(fstats, ignore_index=True)\n",
    "            except:\n",
    "                print('skip filename: {}'.format(filename))"
   ]
  },
  {
   "cell_type": "code",
   "execution_count": 3,
   "metadata": {},
   "outputs": [
    {
     "data": {
      "text/plain": [
       "(734732, 69)"
      ]
     },
     "execution_count": 3,
     "metadata": {},
     "output_type": "execute_result"
    }
   ],
   "source": [
    "fstats_tot.shape"
   ]
  },
  {
   "cell_type": "code",
   "execution_count": 4,
   "metadata": {},
   "outputs": [],
   "source": [
    "#fstats = pd.read_csv(filename, encoding = \"ISO-8859-1\", index_col='Unnamed: 0')\n",
    "#fstats_totMW = fstats_sub[fstats_sub['Particle Type'].isin(mws)].reset_index(drop=True)\n",
    "#nonnum = ['Particle Type', 'Video Number', 'Track_ID', 'Calcium Concentration', 'Deff2']\n",
    "fstats_num = fstats_tot.drop(nonnum, axis=1)\n",
    "fstats_raw = fstats_num.values\n",
    "#fstats"
   ]
  },
  {
   "cell_type": "code",
   "execution_count": 5,
   "metadata": {},
   "outputs": [
    {
     "name": "stdout",
     "output_type": "stream",
     "text": [
      "Cumulative explained variance:\n",
      "0 component: 0.2583838340955346\n",
      "1 component: 0.4159411707950762\n",
      "2 component: 0.5025658832624131\n",
      "3 component: 0.5520641029237819\n",
      "4 component: 0.5936119345747873\n",
      "5 component: 0.629075961910981\n",
      "6 component: 0.6634745308181469\n",
      "7 component: 0.6918131229788319\n",
      "8 component: 0.717361080398339\n",
      "9 component: 0.7420330661401842\n",
      "10 component: 0.7653052907768041\n",
      "11 component: 0.7868027514722972\n",
      "12 component: 0.804692796324483\n"
     ]
    }
   ],
   "source": [
    "ncomp = 13\n",
    "pcadataset = pca.pca_analysis(fstats_tot, dropcols=nonnum, n_components=ncomp)"
   ]
  },
  {
   "cell_type": "code",
   "execution_count": null,
   "metadata": {},
   "outputs": [],
   "source": []
  },
  {
   "cell_type": "code",
   "execution_count": 6,
   "metadata": {},
   "outputs": [
    {
     "name": "stderr",
     "output_type": "stream",
     "text": [
      "/home/ubuntu/miniconda3/lib/python3.6/site-packages/ipykernel_launcher.py:1: RuntimeWarning: divide by zero encountered in log\n",
      "  \"\"\"Entry point for launching an IPython kernel.\n",
      "/home/ubuntu/miniconda3/lib/python3.6/site-packages/ipykernel_launcher.py:3: RuntimeWarning: divide by zero encountered in log\n",
      "  This is separate from the ipykernel package so we can avoid doing imports until\n",
      "/home/ubuntu/miniconda3/lib/python3.6/site-packages/ipykernel_launcher.py:6: RuntimeWarning: divide by zero encountered in log\n",
      "  \n",
      "/home/ubuntu/miniconda3/lib/python3.6/site-packages/ipykernel_launcher.py:7: RuntimeWarning: divide by zero encountered in log\n",
      "  import sys\n",
      "/home/ubuntu/miniconda3/lib/python3.6/site-packages/ipykernel_launcher.py:8: RuntimeWarning: divide by zero encountered in log\n",
      "  \n",
      "/home/ubuntu/miniconda3/lib/python3.6/site-packages/ipykernel_launcher.py:9: RuntimeWarning: divide by zero encountered in log\n",
      "  if __name__ == '__main__':\n"
     ]
    }
   ],
   "source": [
    "fstats_tot['LogDeff2'] = np.log(fstats_tot['Deff2']).replace([np.inf, -np.inf], np.nan)\n",
    "fstats_tot['LogMeanDeff2'] = np.log(fstats_tot['Mean Deff2']).replace([np.inf, -np.inf], np.nan)\n",
    "pcadataset.final['LogDeff2'] = np.log(pcadataset.final['Deff2']).replace([np.inf, -np.inf], np.nan)\n",
    "pcadataset.final['LogMeanDeff2'] = np.log(pcadataset.final['Mean Deff2']).replace([np.inf, -np.inf], np.nan)\n",
    "\n",
    "fstats_tot['LogDeff1'] = np.log(fstats_tot['Deff1']).replace([np.inf, -np.inf], np.nan)\n",
    "fstats_tot['LogMeanDeff1'] = np.log(fstats_tot['Mean Deff1']).replace([np.inf, -np.inf], np.nan)\n",
    "pcadataset.final['LogDeff1'] = np.log(pcadataset.final['Deff1']).replace([np.inf, -np.inf], np.nan)\n",
    "pcadataset.final['LogMeanDeff1'] = np.log(pcadataset.final['Mean Deff1']).replace([np.inf, -np.inf], np.nan)"
   ]
  },
  {
   "cell_type": "code",
   "execution_count": 10,
   "metadata": {},
   "outputs": [
    {
     "data": {
      "text/plain": [
       "Text(0.5,0,'$log(D_{eff})$')"
      ]
     },
     "execution_count": 10,
     "metadata": {},
     "output_type": "execute_result"
    },
    {
     "data": {
      "image/png": "[encoded data removed]",
      "text/plain": [
       "<Figure size 864x216 with 1 Axes>"
      ]
     },
     "metadata": {},
     "output_type": "display_data"
    }
   ],
   "source": [
    "import matplotlib.pyplot as plt\n",
    "fig, ax = plt.subplots(nrows=1, figsize=(12, 3))\n",
    "bins = np.linspace(-10, 10, 200)\n",
    "means = []\n",
    "X_train = pcadataset.final\n",
    "\n",
    "means.append(X_train['LogMeanDeff2'].median())\n",
    "X_train.hist(column='LogMeanDeff2', bins=bins, figsize=(12,3), edgecolor='k', ax=ax, )\n",
    "ax.set_xlim([-7.5, 3.5])\n",
    "ax.set_ylim([0, 60000])\n",
    "ax.axvline(X_train['LogMeanDeff2'].median(), color='k', linestyle='dashed', linewidth=3)\n",
    "\n",
    "ax.set_xlabel(r'$log(D_{eff})$')\n"
   ]
  },
  {
   "cell_type": "code",
   "execution_count": null,
   "metadata": {},
   "outputs": [],
   "source": []
  }
 ],
 "metadata": {
  "kernelspec": {
   "display_name": "Python 3",
   "language": "python",
   "name": "python3"
  },
  "language_info": {
   "codemirror_mode": {
    "name": "ipython",
    "version": 3
   },
   "file_extension": ".py",
   "mimetype": "text/x-python",
   "name": "python",
   "nbconvert_exporter": "python",
   "pygments_lexer": "ipython3",
   "version": "3.6.3"
  }
 },
 "nbformat": 4,
 "nbformat_minor": 2
}
